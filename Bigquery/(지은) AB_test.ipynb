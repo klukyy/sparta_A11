{
 "cells": [
  {
   "cell_type": "markdown",
   "metadata": {},
   "source": [
    "# category 카이제곱 검정\n",
    "\n",
    "### **<구하고 싶은 것>**\n",
    "**2024-01-11 이전 유저와 이후 유저의 TOP3 카테고리, 브랜드 구매 비율이 얼마나 동질적인지**  "
   ]
  },
  {
   "cell_type": "markdown",
   "metadata": {},
   "source": [
    "#### 데이터 가져오기"
   ]
  },
  {
   "cell_type": "code",
   "execution_count": 13,
   "metadata": {},
   "outputs": [],
   "source": [
    "import pandas as pd\n",
    "import numpy as np\n",
    "\n",
    "from scipy.stats import chi2_contingency"
   ]
  },
  {
   "cell_type": "code",
   "execution_count": 14,
   "metadata": {},
   "outputs": [
    {
     "name": "stderr",
     "output_type": "stream",
     "text": [
      "C:\\Users\\LG\\AppData\\Local\\Temp\\ipykernel_9816\\330098794.py:1: DtypeWarning: Columns (31) have mixed types. Specify dtype option on import or set low_memory=False.\n",
      "  df = pd.read_csv('./looker.csv')\n"
     ]
    }
   ],
   "source": [
    "df = pd.read_csv('./looker.csv')"
   ]
  },
  {
   "cell_type": "code",
   "execution_count": 15,
   "metadata": {},
   "outputs": [
    {
     "data": {
      "text/html": [
       "<div>\n",
       "<style scoped>\n",
       "    .dataframe tbody tr th:only-of-type {\n",
       "        vertical-align: middle;\n",
       "    }\n",
       "\n",
       "    .dataframe tbody tr th {\n",
       "        vertical-align: top;\n",
       "    }\n",
       "\n",
       "    .dataframe thead th {\n",
       "        text-align: right;\n",
       "    }\n",
       "</style>\n",
       "<table border=\"1\" class=\"dataframe\">\n",
       "  <thead>\n",
       "    <tr style=\"text-align: right;\">\n",
       "      <th></th>\n",
       "      <th>user_id</th>\n",
       "      <th>age</th>\n",
       "      <th>gender</th>\n",
       "      <th>account_state</th>\n",
       "      <th>account_city</th>\n",
       "      <th>account_country</th>\n",
       "      <th>latitude</th>\n",
       "      <th>longitude</th>\n",
       "      <th>account_traffic_source</th>\n",
       "      <th>account_created_at</th>\n",
       "      <th>order_id</th>\n",
       "      <th>order_items_id</th>\n",
       "      <th>status</th>\n",
       "      <th>sale_price</th>\n",
       "      <th>order_created_at</th>\n",
       "      <th>session_id</th>\n",
       "      <th>sequence_number</th>\n",
       "      <th>login_user_id</th>\n",
       "      <th>sess_created_at</th>\n",
       "      <th>sess_traffic_source</th>\n",
       "      <th>uri</th>\n",
       "      <th>event_type</th>\n",
       "      <th>ip_address</th>\n",
       "      <th>sess_state</th>\n",
       "      <th>sess_city</th>\n",
       "      <th>inventory_item_id</th>\n",
       "      <th>product_id</th>\n",
       "      <th>category</th>\n",
       "      <th>brand</th>\n",
       "      <th>product_name</th>\n",
       "      <th>inventory_created_at</th>\n",
       "      <th>inventory_sold_at</th>\n",
       "      <th>cost</th>\n",
       "    </tr>\n",
       "  </thead>\n",
       "  <tbody>\n",
       "    <tr>\n",
       "      <th>0</th>\n",
       "      <td>73890.0</td>\n",
       "      <td>40.0</td>\n",
       "      <td>F</td>\n",
       "      <td>California</td>\n",
       "      <td>San Francisco</td>\n",
       "      <td>United States</td>\n",
       "      <td>37.795407</td>\n",
       "      <td>-122.422234</td>\n",
       "      <td>Search</td>\n",
       "      <td>2023-05-09</td>\n",
       "      <td>92631.0</td>\n",
       "      <td>134592.0</td>\n",
       "      <td>Complete</td>\n",
       "      <td>54.950001</td>\n",
       "      <td>2023-09-13</td>\n",
       "      <td>NaN</td>\n",
       "      <td>NaN</td>\n",
       "      <td>NaN</td>\n",
       "      <td>NaN</td>\n",
       "      <td>NaN</td>\n",
       "      <td>NaN</td>\n",
       "      <td>NaN</td>\n",
       "      <td>NaN</td>\n",
       "      <td>NaN</td>\n",
       "      <td>NaN</td>\n",
       "      <td>363366.0</td>\n",
       "      <td>5672.0</td>\n",
       "      <td>Pants &amp; Capris</td>\n",
       "      <td>Eddie Bauer</td>\n",
       "      <td>Eddie Bauer Curvy Blakely Legend Wash Pants</td>\n",
       "      <td>2023-02-03</td>\n",
       "      <td>NaN</td>\n",
       "      <td>29.28835</td>\n",
       "    </tr>\n",
       "  </tbody>\n",
       "</table>\n",
       "</div>"
      ],
      "text/plain": [
       "   user_id   age gender account_state   account_city account_country  \\\n",
       "0  73890.0  40.0      F    California  San Francisco   United States   \n",
       "\n",
       "    latitude   longitude account_traffic_source account_created_at  order_id  \\\n",
       "0  37.795407 -122.422234                 Search         2023-05-09   92631.0   \n",
       "\n",
       "   order_items_id    status  sale_price order_created_at session_id  \\\n",
       "0        134592.0  Complete   54.950001       2023-09-13        NaN   \n",
       "\n",
       "   sequence_number  login_user_id sess_created_at sess_traffic_source  uri  \\\n",
       "0              NaN            NaN             NaN                 NaN  NaN   \n",
       "\n",
       "  event_type ip_address sess_state sess_city  inventory_item_id  product_id  \\\n",
       "0        NaN        NaN        NaN       NaN           363366.0      5672.0   \n",
       "\n",
       "         category        brand                                 product_name  \\\n",
       "0  Pants & Capris  Eddie Bauer  Eddie Bauer Curvy Blakely Legend Wash Pants   \n",
       "\n",
       "  inventory_created_at inventory_sold_at      cost  \n",
       "0           2023-02-03               NaN  29.28835  "
      ]
     },
     "execution_count": 15,
     "metadata": {},
     "output_type": "execute_result"
    }
   ],
   "source": [
    "pd.set_option('display.max_columns', None)\n",
    "df.head(1)"
   ]
  },
  {
   "cell_type": "markdown",
   "metadata": {},
   "source": [
    "#### 형 변환"
   ]
  },
  {
   "cell_type": "code",
   "execution_count": 16,
   "metadata": {},
   "outputs": [],
   "source": [
    "# 형변환\n",
    "def convert_type(df):\n",
    "    for col in df.columns:\n",
    "        if '_at' in col:  # 시간 데이터\n",
    "            df = df.assign(**{col:pd.to_datetime(df[col])})\n",
    "            print('[+] {0:<30} >>> datetime'.format(col))\n",
    "        elif '_id' in col:  # id 컬럼 -> obj형으로\n",
    "            df = df.assign(**{col:df[col].astype('object')})\n",
    "            print('[+] {0:<30} >>> object'.format(col))\n",
    "    return df"
   ]
  },
  {
   "cell_type": "code",
   "execution_count": 17,
   "metadata": {},
   "outputs": [
    {
     "name": "stdout",
     "output_type": "stream",
     "text": [
      "[+] user_id                        >>> object\n",
      "[+] account_created_at             >>> datetime\n",
      "[+] order_id                       >>> object\n",
      "[+] order_items_id                 >>> object\n",
      "[+] order_created_at               >>> datetime\n",
      "[+] session_id                     >>> object\n",
      "[+] login_user_id                  >>> object\n",
      "[+] sess_created_at                >>> datetime\n",
      "[+] inventory_item_id              >>> object\n",
      "[+] product_id                     >>> object\n",
      "[+] inventory_created_at           >>> datetime\n",
      "[+] inventory_sold_at              >>> datetime\n"
     ]
    }
   ],
   "source": [
    "df = convert_type(df)"
   ]
  },
  {
   "cell_type": "markdown",
   "metadata": {},
   "source": [
    "#### 실험군(A), 대조군(B) 나누기\n",
    "실험군 : 2024-01-11 이후 유저  \n",
    "대조군 : 2024-01-11 이전 유저"
   ]
  },
  {
   "cell_type": "code",
   "execution_count": 18,
   "metadata": {},
   "outputs": [
    {
     "data": {
      "text/html": [
       "<div>\n",
       "<style scoped>\n",
       "    .dataframe tbody tr th:only-of-type {\n",
       "        vertical-align: middle;\n",
       "    }\n",
       "\n",
       "    .dataframe tbody tr th {\n",
       "        vertical-align: top;\n",
       "    }\n",
       "\n",
       "    .dataframe thead th {\n",
       "        text-align: right;\n",
       "    }\n",
       "</style>\n",
       "<table border=\"1\" class=\"dataframe\">\n",
       "  <thead>\n",
       "    <tr style=\"text-align: right;\">\n",
       "      <th></th>\n",
       "      <th>user_id</th>\n",
       "      <th>age</th>\n",
       "      <th>gender</th>\n",
       "      <th>account_state</th>\n",
       "      <th>account_city</th>\n",
       "      <th>account_country</th>\n",
       "      <th>latitude</th>\n",
       "      <th>longitude</th>\n",
       "      <th>account_traffic_source</th>\n",
       "      <th>account_created_at</th>\n",
       "      <th>order_id</th>\n",
       "      <th>order_items_id</th>\n",
       "      <th>status</th>\n",
       "      <th>sale_price</th>\n",
       "      <th>order_created_at</th>\n",
       "      <th>session_id</th>\n",
       "      <th>sequence_number</th>\n",
       "      <th>login_user_id</th>\n",
       "      <th>sess_created_at</th>\n",
       "      <th>sess_traffic_source</th>\n",
       "      <th>uri</th>\n",
       "      <th>event_type</th>\n",
       "      <th>ip_address</th>\n",
       "      <th>sess_state</th>\n",
       "      <th>sess_city</th>\n",
       "      <th>inventory_item_id</th>\n",
       "      <th>product_id</th>\n",
       "      <th>category</th>\n",
       "      <th>brand</th>\n",
       "      <th>product_name</th>\n",
       "      <th>inventory_created_at</th>\n",
       "      <th>inventory_sold_at</th>\n",
       "      <th>cost</th>\n",
       "    </tr>\n",
       "  </thead>\n",
       "  <tbody>\n",
       "    <tr>\n",
       "      <th>1711</th>\n",
       "      <td>65932.0</td>\n",
       "      <td>35.0</td>\n",
       "      <td>F</td>\n",
       "      <td>Ningxia Hui Autonomous Region</td>\n",
       "      <td>Rizhao</td>\n",
       "      <td>China</td>\n",
       "      <td>37.990152</td>\n",
       "      <td>106.165456</td>\n",
       "      <td>Organic</td>\n",
       "      <td>2024-01-15</td>\n",
       "      <td>82634.0</td>\n",
       "      <td>119972.0</td>\n",
       "      <td>Complete</td>\n",
       "      <td>49.990002</td>\n",
       "      <td>2024-01-16</td>\n",
       "      <td>43f18013-17af-4eeb-934a-7dce5eef8398</td>\n",
       "      <td>10.0</td>\n",
       "      <td>65932.0</td>\n",
       "      <td>2024-01-16</td>\n",
       "      <td>Adwords</td>\n",
       "      <td>/purchase</td>\n",
       "      <td>purchase</td>\n",
       "      <td>79.86.248.35</td>\n",
       "      <td>Ningxia Hui Autonomous Region</td>\n",
       "      <td>Rizhao</td>\n",
       "      <td>323796.0</td>\n",
       "      <td>1637.0</td>\n",
       "      <td>Fashion Hoodies &amp; Sweatshirts</td>\n",
       "      <td>Ed Hardy</td>\n",
       "      <td>Ed Hardy Womens Rope &amp; Tiger Hoodie - Mustard</td>\n",
       "      <td>2021-11-04</td>\n",
       "      <td>NaT</td>\n",
       "      <td>25.044991</td>\n",
       "    </tr>\n",
       "  </tbody>\n",
       "</table>\n",
       "</div>"
      ],
      "text/plain": [
       "      user_id   age gender                  account_state account_city  \\\n",
       "1711  65932.0  35.0      F  Ningxia Hui Autonomous Region       Rizhao   \n",
       "\n",
       "     account_country   latitude   longitude account_traffic_source  \\\n",
       "1711           China  37.990152  106.165456                Organic   \n",
       "\n",
       "     account_created_at order_id order_items_id    status  sale_price  \\\n",
       "1711         2024-01-15  82634.0       119972.0  Complete   49.990002   \n",
       "\n",
       "     order_created_at                            session_id  sequence_number  \\\n",
       "1711       2024-01-16  43f18013-17af-4eeb-934a-7dce5eef8398             10.0   \n",
       "\n",
       "     login_user_id sess_created_at sess_traffic_source        uri event_type  \\\n",
       "1711       65932.0      2024-01-16             Adwords  /purchase   purchase   \n",
       "\n",
       "        ip_address                     sess_state sess_city inventory_item_id  \\\n",
       "1711  79.86.248.35  Ningxia Hui Autonomous Region    Rizhao          323796.0   \n",
       "\n",
       "     product_id                       category     brand  \\\n",
       "1711     1637.0  Fashion Hoodies & Sweatshirts  Ed Hardy   \n",
       "\n",
       "                                       product_name inventory_created_at  \\\n",
       "1711  Ed Hardy Womens Rope & Tiger Hoodie - Mustard           2021-11-04   \n",
       "\n",
       "     inventory_sold_at       cost  \n",
       "1711               NaT  25.044991  "
      ]
     },
     "metadata": {},
     "output_type": "display_data"
    },
    {
     "data": {
      "text/html": [
       "<div>\n",
       "<style scoped>\n",
       "    .dataframe tbody tr th:only-of-type {\n",
       "        vertical-align: middle;\n",
       "    }\n",
       "\n",
       "    .dataframe tbody tr th {\n",
       "        vertical-align: top;\n",
       "    }\n",
       "\n",
       "    .dataframe thead th {\n",
       "        text-align: right;\n",
       "    }\n",
       "</style>\n",
       "<table border=\"1\" class=\"dataframe\">\n",
       "  <thead>\n",
       "    <tr style=\"text-align: right;\">\n",
       "      <th></th>\n",
       "      <th>user_id</th>\n",
       "      <th>age</th>\n",
       "      <th>gender</th>\n",
       "      <th>account_state</th>\n",
       "      <th>account_city</th>\n",
       "      <th>account_country</th>\n",
       "      <th>latitude</th>\n",
       "      <th>longitude</th>\n",
       "      <th>account_traffic_source</th>\n",
       "      <th>account_created_at</th>\n",
       "      <th>order_id</th>\n",
       "      <th>order_items_id</th>\n",
       "      <th>status</th>\n",
       "      <th>sale_price</th>\n",
       "      <th>order_created_at</th>\n",
       "      <th>session_id</th>\n",
       "      <th>sequence_number</th>\n",
       "      <th>login_user_id</th>\n",
       "      <th>sess_created_at</th>\n",
       "      <th>sess_traffic_source</th>\n",
       "      <th>uri</th>\n",
       "      <th>event_type</th>\n",
       "      <th>ip_address</th>\n",
       "      <th>sess_state</th>\n",
       "      <th>sess_city</th>\n",
       "      <th>inventory_item_id</th>\n",
       "      <th>product_id</th>\n",
       "      <th>category</th>\n",
       "      <th>brand</th>\n",
       "      <th>product_name</th>\n",
       "      <th>inventory_created_at</th>\n",
       "      <th>inventory_sold_at</th>\n",
       "      <th>cost</th>\n",
       "    </tr>\n",
       "  </thead>\n",
       "  <tbody>\n",
       "    <tr>\n",
       "      <th>0</th>\n",
       "      <td>73890.0</td>\n",
       "      <td>40.0</td>\n",
       "      <td>F</td>\n",
       "      <td>California</td>\n",
       "      <td>San Francisco</td>\n",
       "      <td>United States</td>\n",
       "      <td>37.795407</td>\n",
       "      <td>-122.422234</td>\n",
       "      <td>Search</td>\n",
       "      <td>2023-05-09</td>\n",
       "      <td>92631.0</td>\n",
       "      <td>134592.0</td>\n",
       "      <td>Complete</td>\n",
       "      <td>54.950001</td>\n",
       "      <td>2023-09-13</td>\n",
       "      <td>NaN</td>\n",
       "      <td>NaN</td>\n",
       "      <td>NaN</td>\n",
       "      <td>NaT</td>\n",
       "      <td>NaN</td>\n",
       "      <td>NaN</td>\n",
       "      <td>NaN</td>\n",
       "      <td>NaN</td>\n",
       "      <td>NaN</td>\n",
       "      <td>NaN</td>\n",
       "      <td>363366.0</td>\n",
       "      <td>5672.0</td>\n",
       "      <td>Pants &amp; Capris</td>\n",
       "      <td>Eddie Bauer</td>\n",
       "      <td>Eddie Bauer Curvy Blakely Legend Wash Pants</td>\n",
       "      <td>2023-02-03</td>\n",
       "      <td>NaT</td>\n",
       "      <td>29.28835</td>\n",
       "    </tr>\n",
       "  </tbody>\n",
       "</table>\n",
       "</div>"
      ],
      "text/plain": [
       "   user_id   age gender account_state   account_city account_country  \\\n",
       "0  73890.0  40.0      F    California  San Francisco   United States   \n",
       "\n",
       "    latitude   longitude account_traffic_source account_created_at order_id  \\\n",
       "0  37.795407 -122.422234                 Search         2023-05-09  92631.0   \n",
       "\n",
       "  order_items_id    status  sale_price order_created_at session_id  \\\n",
       "0       134592.0  Complete   54.950001       2023-09-13        NaN   \n",
       "\n",
       "   sequence_number login_user_id sess_created_at sess_traffic_source  uri  \\\n",
       "0              NaN           NaN             NaT                 NaN  NaN   \n",
       "\n",
       "  event_type ip_address sess_state sess_city inventory_item_id product_id  \\\n",
       "0        NaN        NaN        NaN       NaN          363366.0     5672.0   \n",
       "\n",
       "         category        brand                                 product_name  \\\n",
       "0  Pants & Capris  Eddie Bauer  Eddie Bauer Curvy Blakely Legend Wash Pants   \n",
       "\n",
       "  inventory_created_at inventory_sold_at      cost  \n",
       "0           2023-02-03               NaT  29.28835  "
      ]
     },
     "metadata": {},
     "output_type": "display_data"
    }
   ],
   "source": [
    "# 실험군: 2024 신규 유입 유저\n",
    "treatment = df[df['account_created_at'] >= '2024-01-11'].copy()\n",
    "display(treatment.head(1))\n",
    "\n",
    "# 대조군: 기존 유저\n",
    "control = df[df['account_created_at'] < '2024-01-11'].copy()\n",
    "display(control.head(1))"
   ]
  },
  {
   "cell_type": "markdown",
   "metadata": {},
   "source": [
    "#### 전체 유저 수"
   ]
  },
  {
   "cell_type": "code",
   "execution_count": 19,
   "metadata": {},
   "outputs": [
    {
     "name": "stdout",
     "output_type": "stream",
     "text": [
      "전체 유저 수 : 75608명\n",
      "실험군 (treatment) : 2108명\n",
      "대조군 (control) : 73500명\n"
     ]
    }
   ],
   "source": [
    "print(\n",
    "    f'전체 유저 수 : {df.user_id.nunique(dropna=True)}명\\n\\\n",
    "실험군 (treatment) : {treatment.user_id.nunique()}명\\n\\\n",
    "대조군 (control) : {control.user_id.nunique()}명'\n",
    "    )"
   ]
  },
  {
   "cell_type": "markdown",
   "metadata": {},
   "source": [
    "## 1. Category"
   ]
  },
  {
   "cell_type": "markdown",
   "metadata": {},
   "source": [
    "### Category TOP3 (user)"
   ]
  },
  {
   "cell_type": "code",
   "execution_count": 26,
   "metadata": {},
   "outputs": [
    {
     "data": {
      "text/plain": [
       "['Intimates', 'Fashion Hoodies & Sweatshirts', 'Jeans']"
      ]
     },
     "execution_count": 26,
     "metadata": {},
     "output_type": "execute_result"
    }
   ],
   "source": [
    "# 2024-01-11 이후 주문량 TOP3\n",
    "#df[df.order_created_at >= '2024-01-11'].category.value_counts()[:3].index\n",
    "category_top3 = treatment.groupby('category')['order_items_id'].nunique().sort_values(ascending=False)[:3].index.to_list()\n",
    "category_top3"
   ]
  },
  {
   "cell_type": "markdown",
   "metadata": {},
   "source": [
    "##### 카이 제곱 검정"
   ]
  },
  {
   "cell_type": "code",
   "execution_count": 27,
   "metadata": {},
   "outputs": [
    {
     "name": "stdout",
     "output_type": "stream",
     "text": [
      "[Chi-square Analysis Result Report]\n",
      "------------------------------------\n",
      "Category 1: Intimates\n",
      "Chi-square: 1.5\n",
      "P-value: 0.22\n",
      "--------------------------\n",
      "Expected Values\n",
      "                        treatment       control\n",
      "purchase_Intimates     159.839752   5573.160248\n",
      "unpurchase_Intimates  1948.160248  67926.839752\n",
      "--------------------------\n",
      "Observed Values\n",
      "                      treatment  control\n",
      "purchase_Intimates          175     5558\n",
      "unpurchase_Intimates       1933    67942\n",
      "==========================\n",
      "Category 2: Fashion Hoodies & Sweatshirts\n",
      "Chi-square: 2.54\n",
      "P-value: 0.11\n",
      "--------------------------\n",
      "Expected Values\n",
      "                                            treatment       control\n",
      "purchase_Fashion Hoodies & Sweatshirts     146.178235   5096.821765\n",
      "unpurchase_Fashion Hoodies & Sweatshirts  1961.821765  68403.178235\n",
      "--------------------------\n",
      "Observed Values\n",
      "                                          treatment  control\n",
      "purchase_Fashion Hoodies & Sweatshirts          165     5078\n",
      "unpurchase_Fashion Hoodies & Sweatshirts       1943    68422\n",
      "==========================\n",
      "Category 3: Jeans\n",
      "Chi-square: 0.25\n",
      "P-value: 0.62\n",
      "--------------------------\n",
      "Expected Values\n",
      "                    treatment       control\n",
      "purchase_Jeans     155.601894   5425.398106\n",
      "unpurchase_Jeans  1952.398106  68074.601894\n",
      "--------------------------\n",
      "Observed Values\n",
      "                  treatment  control\n",
      "purchase_Jeans          162     5419\n",
      "unpurchase_Jeans       1946    68081\n",
      "==========================\n"
     ]
    }
   ],
   "source": [
    "print('[Chi-square Analysis Result Report]\\n------------------------------------')\n",
    "for i,category_name in enumerate(category_top3, start=1):\n",
    "\n",
    "    test = treatment[treatment.category==category_name].user_id.nunique()\n",
    "    ctrl = control[control.category==category_name].user_id.nunique()\n",
    "\n",
    "    ## Part1. Chi-square Test Report\n",
    "    purchase_category = [test, ctrl] # A와 B의 특정 category를 구매한 유저 수\n",
    "    unpurchase_category = [treatment.user_id.nunique() - test, \n",
    "                          control.user_id.nunique() - ctrl]  # A와 B의 특정 category를 구매하지 않은 유저 수\n",
    "    \n",
    "    ## Part2. Contingency Table & Chi-squaure Model\n",
    "    ## 기초 테이블 형성\n",
    "    cont_table = pd.DataFrame([purchase_category, unpurchase_category], columns=['treatment', 'control'], index=[f'purchase_{category_name}', f'unpurchase_{category_name}'])\n",
    "    \n",
    "    ## Part3. 카이제곱 독립성 검정 모델 선언\n",
    "    chi2, p_val, _, _= chi2_contingency([purchase_category, unpurchase_category])\n",
    "    expected = chi2_contingency([purchase_category, unpurchase_category])[3]\n",
    "    \n",
    "    ## 기대값 표 형성\n",
    "    ex = pd.DataFrame(expected, columns = ['treatment', 'control'], index = [f'purchase_{category_name}', f'unpurchase_{category_name}'])\n",
    "\n",
    "    print(\n",
    "      'Category {}: {}'.format(i, category_name)\n",
    "    , 'Chi-square: {}'.format(round(chi2, 2))\n",
    "    , 'P-value: {}'.format(round(p_val, 2))\n",
    "    , '--------------------------'\n",
    "    , 'Expected Values'\n",
    "    , ex\n",
    "    , '--------------------------'\n",
    "    , 'Observed Values'\n",
    "    , cont_table\n",
    "    ,  '=========================='\n",
    "    , sep = '\\n'\n",
    "    )"
   ]
  },
  {
   "cell_type": "markdown",
   "metadata": {},
   "source": [
    "### ( X ) Category TOP3 (order_items_id)"
   ]
  },
  {
   "cell_type": "code",
   "execution_count": 28,
   "metadata": {},
   "outputs": [
    {
     "data": {
      "text/plain": [
       "Index(['Intimates', 'Fashion Hoodies & Sweatshirts', 'Jeans'], dtype='object', name='category')"
      ]
     },
     "execution_count": 28,
     "metadata": {},
     "output_type": "execute_result"
    }
   ],
   "source": [
    "# 2024-01-11 이후 주문량 TOP3\n",
    "category_top3 = df[df.order_created_at >= '2024-01-11'].category.value_counts()[:3].index\n",
    "category_top3"
   ]
  },
  {
   "cell_type": "code",
   "execution_count": 29,
   "metadata": {},
   "outputs": [
    {
     "data": {
      "text/plain": [
       "['Intimates', 'Fashion Hoodies & Sweatshirts', 'Jeans']"
      ]
     },
     "execution_count": 29,
     "metadata": {},
     "output_type": "execute_result"
    }
   ],
   "source": [
    "# 전체 category 주문량 TOP3\n",
    "category_order_top3 = treatment.groupby('category')['order_items_id'].nunique().sort_values(ascending=False)[:3].index.to_list()\n",
    "category_order_top3"
   ]
  },
  {
   "cell_type": "code",
   "execution_count": 30,
   "metadata": {},
   "outputs": [
    {
     "name": "stdout",
     "output_type": "stream",
     "text": [
      "[Chi-square Analysis Result Report]\n",
      "------------------------------------\n",
      "Category 1: Intimates\n",
      "Chi-square: 0.8\n",
      "P-value: 0.37\n",
      "--------------------------\n",
      "Expected Values\n",
      "                       treatment      control\n",
      "purchase_Intimates     174.33432   5962.66568\n",
      "unpurchase_Intimates  2166.66568  74105.33432\n",
      "--------------------------\n",
      "Observed Values\n",
      "                      treatment  control\n",
      "purchase_Intimates          186     5951\n",
      "unpurchase_Intimates       2155    74117\n",
      "==========================\n",
      "Category 2: Fashion Hoodies & Sweatshirts\n",
      "Chi-square: 1.28\n",
      "P-value: 0.26\n",
      "--------------------------\n",
      "Expected Values\n",
      "                                            treatment       control\n",
      "purchase_Fashion Hoodies & Sweatshirts     154.136878   5271.863122\n",
      "unpurchase_Fashion Hoodies & Sweatshirts  2186.863122  74796.136878\n",
      "--------------------------\n",
      "Observed Values\n",
      "                                          treatment  control\n",
      "purchase_Fashion Hoodies & Sweatshirts          168     5258\n",
      "unpurchase_Fashion Hoodies & Sweatshirts       2173    74810\n",
      "==========================\n",
      "Category 3: Jeans\n",
      "Chi-square: 0.08\n",
      "P-value: 0.78\n",
      "--------------------------\n",
      "Expected Values\n",
      "                    treatment       control\n",
      "purchase_Jeans     164.136174   5613.863826\n",
      "unpurchase_Jeans  2176.863826  74454.136174\n",
      "--------------------------\n",
      "Observed Values\n",
      "                  treatment  control\n",
      "purchase_Jeans          168     5610\n",
      "unpurchase_Jeans       2173    74458\n",
      "==========================\n"
     ]
    }
   ],
   "source": [
    "print('[Chi-square Analysis Result Report]\\n------------------------------------')\n",
    "for i,category_name in enumerate(category_order_top3, start=1):\n",
    "\n",
    "    test = treatment[treatment.category==category_name].order_items_id.nunique()\n",
    "    ctrl = control[control.category==category_name].order_items_id.nunique()\n",
    "\n",
    "    ## Part1. Chi-square Test Report\n",
    "    purchase_category1 = [test, ctrl] # A와 B의 특정 category를 구매한 주문 수\n",
    "    unpurchase_category1 = [treatment.order_items_id.nunique() - test, \n",
    "                          control.order_items_id.nunique() - ctrl]  # A와 B의 특정 category를 구매하지 않은 주문 수\n",
    "    \n",
    "    ## Part2. Contingency Table & Chi-squaure Model\n",
    "    ## 기초 테이블 형성\n",
    "    cont_table = pd.DataFrame([purchase_category1, unpurchase_category1], columns=['treatment', 'control'], index=[f'purchase_{category_name}', f'unpurchase_{category_name}'])\n",
    "    \n",
    "    ## Part3. 카이제곱 독립성 검정 모델 선언\n",
    "    chi2, p_val, _, _= chi2_contingency([purchase_category1, unpurchase_category1])\n",
    "    expected = chi2_contingency([purchase_category1, unpurchase_category1])[3]\n",
    "    \n",
    "    ## 기대값 표 형성\n",
    "    ex = pd.DataFrame(expected, columns = ['treatment', 'control'], index = [f'purchase_{category_name}', f'unpurchase_{category_name}'])\n",
    "\n",
    "    print(\n",
    "      'Category {}: {}'.format(i, category_name)\n",
    "    , 'Chi-square: {}'.format(round(chi2, 2))\n",
    "    , 'P-value: {}'.format(round(p_val, 2))\n",
    "    , '--------------------------'\n",
    "    , 'Expected Values'\n",
    "    , ex\n",
    "    , '--------------------------'\n",
    "    , 'Observed Values'\n",
    "    , cont_table\n",
    "    ,  '=========================='\n",
    "    , sep = '\\n'\n",
    "    )"
   ]
  },
  {
   "cell_type": "markdown",
   "metadata": {},
   "source": [
    "## 2. Brand"
   ]
  },
  {
   "cell_type": "code",
   "execution_count": null,
   "metadata": {},
   "outputs": [
    {
     "data": {
      "text/html": [
       "<div>\n",
       "<style scoped>\n",
       "    .dataframe tbody tr th:only-of-type {\n",
       "        vertical-align: middle;\n",
       "    }\n",
       "\n",
       "    .dataframe tbody tr th {\n",
       "        vertical-align: top;\n",
       "    }\n",
       "\n",
       "    .dataframe thead th {\n",
       "        text-align: right;\n",
       "    }\n",
       "</style>\n",
       "<table border=\"1\" class=\"dataframe\">\n",
       "  <thead>\n",
       "    <tr style=\"text-align: right;\">\n",
       "      <th></th>\n",
       "      <th>brand</th>\n",
       "      <th>order_items_id</th>\n",
       "      <th>category</th>\n",
       "    </tr>\n",
       "  </thead>\n",
       "  <tbody>\n",
       "    <tr>\n",
       "      <th>96</th>\n",
       "      <td>Allegra K</td>\n",
       "      <td>2896</td>\n",
       "      <td>[Fashion Hoodies &amp; Sweatshirts, Shorts, Outerw...</td>\n",
       "    </tr>\n",
       "    <tr>\n",
       "      <th>447</th>\n",
       "      <td>Calvin Klein</td>\n",
       "      <td>1477</td>\n",
       "      <td>[Dresses, Sweaters, Underwear, Intimates, Oute...</td>\n",
       "    </tr>\n",
       "    <tr>\n",
       "      <th>465</th>\n",
       "      <td>Carhartt</td>\n",
       "      <td>1166</td>\n",
       "      <td>[Outerwear &amp; Coats, Fashion Hoodies &amp; Sweatshi...</td>\n",
       "    </tr>\n",
       "    <tr>\n",
       "      <th>2583</th>\n",
       "      <td>Volcom</td>\n",
       "      <td>854</td>\n",
       "      <td>[Accessories, Shorts, Fashion Hoodies &amp; Sweats...</td>\n",
       "    </tr>\n",
       "    <tr>\n",
       "      <th>1721</th>\n",
       "      <td>Nautica</td>\n",
       "      <td>822</td>\n",
       "      <td>[Shorts, Jeans, Sleep &amp; Lounge, Sweaters, Pant...</td>\n",
       "    </tr>\n",
       "  </tbody>\n",
       "</table>\n",
       "</div>"
      ],
      "text/plain": [
       "             brand  order_items_id  \\\n",
       "96       Allegra K            2896   \n",
       "447   Calvin Klein            1477   \n",
       "465       Carhartt            1166   \n",
       "2583        Volcom             854   \n",
       "1721       Nautica             822   \n",
       "\n",
       "                                               category  \n",
       "96    [Fashion Hoodies & Sweatshirts, Shorts, Outerw...  \n",
       "447   [Dresses, Sweaters, Underwear, Intimates, Oute...  \n",
       "465   [Outerwear & Coats, Fashion Hoodies & Sweatshi...  \n",
       "2583  [Accessories, Shorts, Fashion Hoodies & Sweats...  \n",
       "1721  [Shorts, Jeans, Sleep & Lounge, Sweaters, Pant...  "
      ]
     },
     "execution_count": 18,
     "metadata": {},
     "output_type": "execute_result"
    }
   ],
   "source": [
    "# 전체 brand 주문량 TOP5\n",
    "order_total_brand = df.groupby('brand').agg({'order_items_id':'nunique', 'category':'unique'}).reset_index().sort_values(by='order_items_id', ascending=False)[:5]\n",
    "order_total_brand"
   ]
  },
  {
   "cell_type": "code",
   "execution_count": null,
   "metadata": {},
   "outputs": [
    {
     "data": {
      "text/html": [
       "<div>\n",
       "<style scoped>\n",
       "    .dataframe tbody tr th:only-of-type {\n",
       "        vertical-align: middle;\n",
       "    }\n",
       "\n",
       "    .dataframe tbody tr th {\n",
       "        vertical-align: top;\n",
       "    }\n",
       "\n",
       "    .dataframe thead th {\n",
       "        text-align: right;\n",
       "    }\n",
       "</style>\n",
       "<table border=\"1\" class=\"dataframe\">\n",
       "  <thead>\n",
       "    <tr style=\"text-align: right;\">\n",
       "      <th></th>\n",
       "      <th>brand</th>\n",
       "      <th>order_items_id</th>\n",
       "      <th>category</th>\n",
       "    </tr>\n",
       "  </thead>\n",
       "  <tbody>\n",
       "    <tr>\n",
       "      <th>94</th>\n",
       "      <td>Allegra K</td>\n",
       "      <td>2821</td>\n",
       "      <td>[Fashion Hoodies &amp; Sweatshirts, Shorts, Outerw...</td>\n",
       "    </tr>\n",
       "    <tr>\n",
       "      <th>439</th>\n",
       "      <td>Calvin Klein</td>\n",
       "      <td>1433</td>\n",
       "      <td>[Dresses, Sweaters, Underwear, Outerwear &amp; Coa...</td>\n",
       "    </tr>\n",
       "    <tr>\n",
       "      <th>455</th>\n",
       "      <td>Carhartt</td>\n",
       "      <td>1125</td>\n",
       "      <td>[Outerwear &amp; Coats, Fashion Hoodies &amp; Sweatshi...</td>\n",
       "    </tr>\n",
       "    <tr>\n",
       "      <th>2525</th>\n",
       "      <td>Volcom</td>\n",
       "      <td>830</td>\n",
       "      <td>[Accessories, Shorts, Fashion Hoodies &amp; Sweats...</td>\n",
       "    </tr>\n",
       "    <tr>\n",
       "      <th>1059</th>\n",
       "      <td>Hanes</td>\n",
       "      <td>798</td>\n",
       "      <td>[Underwear, Socks, Socks &amp; Hosiery, Active, In...</td>\n",
       "    </tr>\n",
       "  </tbody>\n",
       "</table>\n",
       "</div>"
      ],
      "text/plain": [
       "             brand  order_items_id  \\\n",
       "94       Allegra K            2821   \n",
       "439   Calvin Klein            1433   \n",
       "455       Carhartt            1125   \n",
       "2525        Volcom             830   \n",
       "1059         Hanes             798   \n",
       "\n",
       "                                               category  \n",
       "94    [Fashion Hoodies & Sweatshirts, Shorts, Outerw...  \n",
       "439   [Dresses, Sweaters, Underwear, Outerwear & Coa...  \n",
       "455   [Outerwear & Coats, Fashion Hoodies & Sweatshi...  \n",
       "2525  [Accessories, Shorts, Fashion Hoodies & Sweats...  \n",
       "1059  [Underwear, Socks, Socks & Hosiery, Active, In...  "
      ]
     },
     "execution_count": 19,
     "metadata": {},
     "output_type": "execute_result"
    }
   ],
   "source": [
    "# 2024-01-11 이전 주문량 TOP5\n",
    "order_control_brand = control.groupby('brand').agg({'order_items_id':'nunique', 'category':'unique'}).reset_index().sort_values(by='order_items_id', ascending=False)[:5]\n",
    "order_control_brand"
   ]
  },
  {
   "cell_type": "code",
   "execution_count": null,
   "metadata": {},
   "outputs": [
    {
     "data": {
      "text/html": [
       "<div>\n",
       "<style scoped>\n",
       "    .dataframe tbody tr th:only-of-type {\n",
       "        vertical-align: middle;\n",
       "    }\n",
       "\n",
       "    .dataframe tbody tr th {\n",
       "        vertical-align: top;\n",
       "    }\n",
       "\n",
       "    .dataframe thead th {\n",
       "        text-align: right;\n",
       "    }\n",
       "</style>\n",
       "<table border=\"1\" class=\"dataframe\">\n",
       "  <thead>\n",
       "    <tr style=\"text-align: right;\">\n",
       "      <th></th>\n",
       "      <th>brand</th>\n",
       "      <th>order_items_id</th>\n",
       "      <th>category</th>\n",
       "    </tr>\n",
       "  </thead>\n",
       "  <tbody>\n",
       "    <tr>\n",
       "      <th>33</th>\n",
       "      <td>Allegra K</td>\n",
       "      <td>131</td>\n",
       "      <td>[Dresses, Tops &amp; Tees, Blazers &amp; Jackets, Pant...</td>\n",
       "    </tr>\n",
       "    <tr>\n",
       "      <th>142</th>\n",
       "      <td>Calvin Klein</td>\n",
       "      <td>81</td>\n",
       "      <td>[Intimates, Tops &amp; Tees, Pants, Fashion Hoodie...</td>\n",
       "    </tr>\n",
       "    <tr>\n",
       "      <th>151</th>\n",
       "      <td>Carhartt</td>\n",
       "      <td>70</td>\n",
       "      <td>[Jeans, Fashion Hoodies &amp; Sweatshirts, Outerwe...</td>\n",
       "    </tr>\n",
       "    <tr>\n",
       "      <th>551</th>\n",
       "      <td>Nautica</td>\n",
       "      <td>63</td>\n",
       "      <td>[Sleep &amp; Lounge, Socks, Suits &amp; Sport Coats, U...</td>\n",
       "    </tr>\n",
       "    <tr>\n",
       "      <th>749</th>\n",
       "      <td>Tommy Hilfiger</td>\n",
       "      <td>54</td>\n",
       "      <td>[Outerwear &amp; Coats, Accessories, Shorts, Sweat...</td>\n",
       "    </tr>\n",
       "  </tbody>\n",
       "</table>\n",
       "</div>"
      ],
      "text/plain": [
       "              brand  order_items_id  \\\n",
       "33        Allegra K             131   \n",
       "142    Calvin Klein              81   \n",
       "151        Carhartt              70   \n",
       "551         Nautica              63   \n",
       "749  Tommy Hilfiger              54   \n",
       "\n",
       "                                              category  \n",
       "33   [Dresses, Tops & Tees, Blazers & Jackets, Pant...  \n",
       "142  [Intimates, Tops & Tees, Pants, Fashion Hoodie...  \n",
       "151  [Jeans, Fashion Hoodies & Sweatshirts, Outerwe...  \n",
       "551  [Sleep & Lounge, Socks, Suits & Sport Coats, U...  \n",
       "749  [Outerwear & Coats, Accessories, Shorts, Sweat...  "
      ]
     },
     "execution_count": 29,
     "metadata": {},
     "output_type": "execute_result"
    }
   ],
   "source": [
    "# 2024-01-11 이후 주문량 TOP5\n",
    "order_test_brand = treatment.groupby('brand').agg({'order_items_id':'count', 'category':'unique'}).reset_index().sort_values(by='order_items_id', ascending=False)[:5]\n",
    "order_test_brand"
   ]
  },
  {
   "cell_type": "markdown",
   "metadata": {},
   "source": [
    "### Brand TOP3 (user_id)"
   ]
  },
  {
   "cell_type": "code",
   "execution_count": 33,
   "metadata": {},
   "outputs": [
    {
     "data": {
      "text/plain": [
       "['Allegra K', 'Calvin Klein', 'Carhartt']"
      ]
     },
     "execution_count": 33,
     "metadata": {},
     "output_type": "execute_result"
    }
   ],
   "source": [
    "# 2024-01-11 이후 주문량 TOP3\n",
    "# df[df.order_created_at >= '2024-01-11'].brand.value_counts()[:3].index\n",
    "Brand_top3 = treatment.groupby('brand')['order_items_id'].nunique().sort_values(ascending=False)[:3].index.to_list()\n",
    "Brand_top3"
   ]
  },
  {
   "cell_type": "markdown",
   "metadata": {},
   "source": [
    "##### 카이 제곱 검정"
   ]
  },
  {
   "cell_type": "code",
   "execution_count": 34,
   "metadata": {},
   "outputs": [
    {
     "name": "stdout",
     "output_type": "stream",
     "text": [
      "[Chi-square Analysis Result Report]\n",
      "------------------------------------\n",
      "Brand 1: Allegra K\n",
      "Chi-square: 0.2\n",
      "P-value: 0.66\n",
      "--------------------------\n",
      "Expected Values\n",
      "                        treatment       control\n",
      "purchase_Allegra K      79.348323   2766.651677\n",
      "unpurchase_Allegra K  2028.651677  70733.348323\n",
      "--------------------------\n",
      "Observed Values\n",
      "                      treatment  control\n",
      "purchase_Allegra K           75     2771\n",
      "unpurchase_Allegra K       2033    70729\n",
      "==========================\n",
      "Brand 2: Calvin Klein\n",
      "Chi-square: 0.08\n",
      "P-value: 0.77\n",
      "--------------------------\n",
      "Expected Values\n",
      "                           treatment       control\n",
      "purchase_Calvin Klein      40.705745   1419.294255\n",
      "unpurchase_Calvin Klein  2067.294255  72080.705745\n",
      "--------------------------\n",
      "Observed Values\n",
      "                         treatment  control\n",
      "purchase_Calvin Klein           43     1417\n",
      "unpurchase_Calvin Klein       2065    72083\n",
      "==========================\n",
      "Brand 3: Carhartt\n",
      "Chi-square: 1.77\n",
      "P-value: 0.18\n",
      "--------------------------\n",
      "Expected Values\n",
      "                       treatment       control\n",
      "purchase_Carhartt      32.118506   1119.881494\n",
      "unpurchase_Carhartt  2075.881494  72380.118506\n",
      "--------------------------\n",
      "Observed Values\n",
      "                     treatment  control\n",
      "purchase_Carhartt           40     1112\n",
      "unpurchase_Carhartt       2068    72388\n",
      "==========================\n"
     ]
    }
   ],
   "source": [
    "print('[Chi-square Analysis Result Report]\\n------------------------------------')\n",
    "for i,brand_name in enumerate(Brand_top3, start=1):\n",
    "\n",
    "    test = treatment[treatment.brand==brand_name].user_id.nunique()\n",
    "    ctrl = control[control.brand==brand_name].user_id.nunique()\n",
    "\n",
    "    ## Part1. Chi-square Test Report\n",
    "    purchase_brand = [test, ctrl] # A와 B의 특정 brand를 구매한 유저 수\n",
    "    unpurchase_brand = [treatment.user_id.nunique() - test, \n",
    "                        control.user_id.nunique() - ctrl]  # A와 B의 특정 brand를 구매하지 않은 유저 수\n",
    "    \n",
    "    ## Part2. Contingency Table & Chi-squaure Model\n",
    "    ## 기초 테이블 형성\n",
    "    cont_table = pd.DataFrame([purchase_brand, unpurchase_brand], columns=['treatment', 'control'], index=[f'purchase_{brand_name}', f'unpurchase_{brand_name}'])\n",
    "    \n",
    "    ## Part3. 카이제곱 독립성 검정 모델 선언\n",
    "    chi2, p_val, _, _= chi2_contingency([purchase_brand, unpurchase_brand])\n",
    "    expected = chi2_contingency([purchase_brand, unpurchase_brand])[3]\n",
    "    \n",
    "    ## 기대값 표 형성\n",
    "    ex = pd.DataFrame(expected, columns = ['treatment', 'control'], index = [f'purchase_{brand_name}', f'unpurchase_{brand_name}'])\n",
    "\n",
    "    print(\n",
    "      'Brand {}: {}'.format(i, brand_name)\n",
    "    , 'Chi-square: {}'.format(round(chi2, 2))\n",
    "    , 'P-value: {}'.format(round(p_val, 2))\n",
    "    , '--------------------------'\n",
    "    , 'Expected Values'\n",
    "    , ex\n",
    "    , '--------------------------'\n",
    "    , 'Observed Values'\n",
    "    , cont_table\n",
    "    ,  '=========================='\n",
    "    , sep = '\\n'\n",
    "    )"
   ]
  },
  {
   "cell_type": "markdown",
   "metadata": {},
   "source": [
    "### ( X ) Brand TOP3 (order_items_id)"
   ]
  },
  {
   "cell_type": "code",
   "execution_count": 35,
   "metadata": {},
   "outputs": [
    {
     "data": {
      "text/plain": [
       "Index(['Allegra K', 'Calvin Klein', 'Carhartt'], dtype='object', name='brand')"
      ]
     },
     "execution_count": 35,
     "metadata": {},
     "output_type": "execute_result"
    }
   ],
   "source": [
    "# 2024-01-11 이후 주문량 TOP5\n",
    "Brand_top3 = df[df.order_created_at >= '2024-01-11'].brand.value_counts()[:3].index\n",
    "Brand_top3"
   ]
  },
  {
   "cell_type": "code",
   "execution_count": 36,
   "metadata": {},
   "outputs": [
    {
     "data": {
      "text/plain": [
       "['Allegra K', 'Calvin Klein', 'Carhartt']"
      ]
     },
     "execution_count": 36,
     "metadata": {},
     "output_type": "execute_result"
    }
   ],
   "source": [
    "# 전체 category 주문량 TOP3\n",
    "brand_order_top3 = treatment.groupby('brand')['order_items_id'].nunique().sort_values(ascending=False)[:3].index.to_list()\n",
    "brand_order_top3"
   ]
  },
  {
   "cell_type": "code",
   "execution_count": 37,
   "metadata": {},
   "outputs": [
    {
     "name": "stdout",
     "output_type": "stream",
     "text": [
      "[Chi-square Analysis Result Report]\n",
      "------------------------------------\n",
      "Brand 1: Allegra K\n",
      "Chi-square: 0.59\n",
      "P-value: 0.44\n",
      "--------------------------\n",
      "Expected Values\n",
      "                        treatment       control\n",
      "purchase_Allegra K      82.266937   2813.733063\n",
      "unpurchase_Allegra K  2258.733063  77254.266937\n",
      "--------------------------\n",
      "Observed Values\n",
      "                      treatment  control\n",
      "purchase_Allegra K           75     2821\n",
      "unpurchase_Allegra K       2266    77247\n",
      "==========================\n",
      "Brand 2: Calvin Klein\n",
      "Chi-square: 0.06\n",
      "P-value: 0.81\n",
      "--------------------------\n",
      "Expected Values\n",
      "                           treatment       control\n",
      "purchase_Calvin Klein      41.957274   1435.042726\n",
      "unpurchase_Calvin Klein  2299.042726  78632.957274\n",
      "--------------------------\n",
      "Observed Values\n",
      "                         treatment  control\n",
      "purchase_Calvin Klein           44     1433\n",
      "unpurchase_Calvin Klein       2297    78635\n",
      "==========================\n",
      "Brand 3: Carhartt\n",
      "Chi-square: 1.72\n",
      "P-value: 0.19\n",
      "--------------------------\n",
      "Expected Values\n",
      "                       treatment       control\n",
      "purchase_Carhartt      33.122669   1132.877331\n",
      "unpurchase_Carhartt  2307.877331  78935.122669\n",
      "--------------------------\n",
      "Observed Values\n",
      "                     treatment  control\n",
      "purchase_Carhartt           41     1125\n",
      "unpurchase_Carhartt       2300    78943\n",
      "==========================\n"
     ]
    }
   ],
   "source": [
    "print('[Chi-square Analysis Result Report]\\n------------------------------------')\n",
    "for i,brand_name in enumerate(brand_order_top3, start=1):\n",
    "\n",
    "    test = treatment[treatment.brand==brand_name].order_items_id.nunique()\n",
    "    ctrl = control[control.brand==brand_name].order_items_id.nunique()\n",
    "\n",
    "    ## Part1. Chi-square Test Report\n",
    "    purchase_brand1 = [test, ctrl] # A와 B의 특정 category를 구매한 주문 수\n",
    "    unpurchase_brand1 = [treatment.order_items_id.nunique() - test, \n",
    "                          control.order_items_id.nunique() - ctrl]  # A와 B의 특정 category를 구매하지 않은 주문 수\n",
    "    \n",
    "    ## Part2. Contingency Table & Chi-squaure Model\n",
    "    ## 기초 테이블 형성\n",
    "    cont_table = pd.DataFrame([purchase_brand1, unpurchase_brand1], columns=['treatment', 'control'], index=[f'purchase_{brand_name}', f'unpurchase_{brand_name}'])\n",
    "    \n",
    "    ## Part3. 카이제곱 독립성 검정 모델 선언\n",
    "    chi2, p_val, _, _= chi2_contingency([purchase_brand1, unpurchase_brand1])\n",
    "    expected = chi2_contingency([purchase_brand1, unpurchase_brand1])[3]\n",
    "    \n",
    "    ## 기대값 표 형성\n",
    "    ex = pd.DataFrame(expected, columns = ['treatment', 'control'], index = [f'purchase_{brand_name}', f'unpurchase_{brand_name}'])\n",
    "\n",
    "    print(\n",
    "      'Brand {}: {}'.format(i, brand_name)\n",
    "    , 'Chi-square: {}'.format(round(chi2, 2))\n",
    "    , 'P-value: {}'.format(round(p_val, 2))\n",
    "    , '--------------------------'\n",
    "    , 'Expected Values'\n",
    "    , ex\n",
    "    , '--------------------------'\n",
    "    , 'Observed Values'\n",
    "    , cont_table\n",
    "    ,  '=========================='\n",
    "    , sep = '\\n'\n",
    "    )"
   ]
  }
 ],
 "metadata": {
  "kernelspec": {
   "display_name": "Python 3",
   "language": "python",
   "name": "python3"
  },
  "language_info": {
   "codemirror_mode": {
    "name": "ipython",
    "version": 3
   },
   "file_extension": ".py",
   "mimetype": "text/x-python",
   "name": "python",
   "nbconvert_exporter": "python",
   "pygments_lexer": "ipython3",
   "version": "3.11.3"
  }
 },
 "nbformat": 4,
 "nbformat_minor": 2
}
