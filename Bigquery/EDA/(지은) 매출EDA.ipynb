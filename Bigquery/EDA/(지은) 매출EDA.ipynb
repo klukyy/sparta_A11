{
 "cells": [
  {
   "cell_type": "markdown",
   "metadata": {},
   "source": [
    "# 매출 EDA"
   ]
  },
  {
   "cell_type": "code",
   "execution_count": 2,
   "metadata": {},
   "outputs": [],
   "source": [
    "import pandas as pd\n",
    "import numpy as np\n",
    "\n",
    "import matplotlib.pyplot as plt\n",
    "import seaborn as sns\n",
    "import plotly.express as px\n",
    "import plotly.graph_objects as go"
   ]
  },
  {
   "cell_type": "code",
   "execution_count": 3,
   "metadata": {},
   "outputs": [],
   "source": [
    "# 한글 깨짐 해결\n",
    "import matplotlib.pyplot as plt\n",
    "plt.rcParams['font.family'] ='Malgun Gothic'\n",
    "plt.rcParams['axes.unicode_minus'] =False"
   ]
  },
  {
   "cell_type": "markdown",
   "metadata": {},
   "source": [
    "## 1. 데이터 가져오기\n",
    "\n",
    "### 1-1) looker_df"
   ]
  },
  {
   "cell_type": "code",
   "execution_count": 4,
   "metadata": {},
   "outputs": [
    {
     "name": "stderr",
     "output_type": "stream",
     "text": [
      "C:\\Users\\LG\\AppData\\Local\\Temp\\ipykernel_12808\\1377504682.py:2: DtypeWarning: Columns (5,7,15,16) have mixed types. Specify dtype option on import or set low_memory=False.\n",
      "  df = pd.read_csv('./looker_ecom.csv')\n"
     ]
    },
    {
     "data": {
      "text/html": [
       "<div>\n",
       "<style scoped>\n",
       "    .dataframe tbody tr th:only-of-type {\n",
       "        vertical-align: middle;\n",
       "    }\n",
       "\n",
       "    .dataframe tbody tr th {\n",
       "        vertical-align: top;\n",
       "    }\n",
       "\n",
       "    .dataframe thead th {\n",
       "        text-align: right;\n",
       "    }\n",
       "</style>\n",
       "<table border=\"1\" class=\"dataframe\">\n",
       "  <thead>\n",
       "    <tr style=\"text-align: right;\">\n",
       "      <th></th>\n",
       "      <th>order_id</th>\n",
       "      <th>user_id</th>\n",
       "      <th>status</th>\n",
       "      <th>gender</th>\n",
       "      <th>created_at</th>\n",
       "      <th>returned_at</th>\n",
       "      <th>shipped_at</th>\n",
       "      <th>delivered_at</th>\n",
       "      <th>num_of_item</th>\n",
       "      <th>order_items_id</th>\n",
       "      <th>product_id</th>\n",
       "      <th>inventory_item_id</th>\n",
       "      <th>status_order_items</th>\n",
       "      <th>created_at_order_items</th>\n",
       "      <th>shipped_at_order_items</th>\n",
       "      <th>delivered_at_order_items</th>\n",
       "      <th>returned_at_order_items</th>\n",
       "      <th>sale_price</th>\n",
       "      <th>first_name</th>\n",
       "      <th>last_name</th>\n",
       "      <th>email</th>\n",
       "      <th>age</th>\n",
       "      <th>state</th>\n",
       "      <th>street_address</th>\n",
       "      <th>postal_code</th>\n",
       "      <th>city</th>\n",
       "      <th>country</th>\n",
       "      <th>latitude</th>\n",
       "      <th>longitude</th>\n",
       "      <th>traffic_source</th>\n",
       "      <th>created_account_at</th>\n",
       "      <th>cost</th>\n",
       "      <th>category</th>\n",
       "      <th>name</th>\n",
       "      <th>brand</th>\n",
       "      <th>retail_price</th>\n",
       "      <th>department</th>\n",
       "      <th>sku</th>\n",
       "      <th>distribution_center_id</th>\n",
       "    </tr>\n",
       "  </thead>\n",
       "  <tbody>\n",
       "    <tr>\n",
       "      <th>0</th>\n",
       "      <td>8</td>\n",
       "      <td>5</td>\n",
       "      <td>Cancelled</td>\n",
       "      <td>F</td>\n",
       "      <td>2022-10-20 10:03:00+00:00</td>\n",
       "      <td>NaN</td>\n",
       "      <td>NaN</td>\n",
       "      <td>NaN</td>\n",
       "      <td>3</td>\n",
       "      <td>13</td>\n",
       "      <td>6998</td>\n",
       "      <td>36</td>\n",
       "      <td>Cancelled</td>\n",
       "      <td>2022-10-22 07:55:58+00:00</td>\n",
       "      <td>NaN</td>\n",
       "      <td>NaN</td>\n",
       "      <td>NaN</td>\n",
       "      <td>15.67</td>\n",
       "      <td>Vanessa</td>\n",
       "      <td>Ross</td>\n",
       "      <td>vanessaross@example.net</td>\n",
       "      <td>52</td>\n",
       "      <td>Piauí</td>\n",
       "      <td>609 Susan Row</td>\n",
       "      <td>64120-000</td>\n",
       "      <td>União</td>\n",
       "      <td>Brasil</td>\n",
       "      <td>-4.594783</td>\n",
       "      <td>-42.789899</td>\n",
       "      <td>Organic</td>\n",
       "      <td>2020-10-02 10:03:00+00:00</td>\n",
       "      <td>7.44325</td>\n",
       "      <td>Shorts</td>\n",
       "      <td>Grane Supergirl Shorts</td>\n",
       "      <td>Grane</td>\n",
       "      <td>15.67</td>\n",
       "      <td>Women</td>\n",
       "      <td>3D4893419E57449FB290647149F738D4</td>\n",
       "      <td>2</td>\n",
       "    </tr>\n",
       "    <tr>\n",
       "      <th>1</th>\n",
       "      <td>8</td>\n",
       "      <td>5</td>\n",
       "      <td>Cancelled</td>\n",
       "      <td>F</td>\n",
       "      <td>2022-10-20 10:03:00+00:00</td>\n",
       "      <td>NaN</td>\n",
       "      <td>NaN</td>\n",
       "      <td>NaN</td>\n",
       "      <td>3</td>\n",
       "      <td>11</td>\n",
       "      <td>7173</td>\n",
       "      <td>29</td>\n",
       "      <td>Cancelled</td>\n",
       "      <td>2022-10-20 06:35:35+00:00</td>\n",
       "      <td>NaN</td>\n",
       "      <td>NaN</td>\n",
       "      <td>NaN</td>\n",
       "      <td>24.99</td>\n",
       "      <td>Vanessa</td>\n",
       "      <td>Ross</td>\n",
       "      <td>vanessaross@example.net</td>\n",
       "      <td>52</td>\n",
       "      <td>Piauí</td>\n",
       "      <td>609 Susan Row</td>\n",
       "      <td>64120-000</td>\n",
       "      <td>União</td>\n",
       "      <td>Brasil</td>\n",
       "      <td>-4.594783</td>\n",
       "      <td>-42.789899</td>\n",
       "      <td>Organic</td>\n",
       "      <td>2020-10-02 10:03:00+00:00</td>\n",
       "      <td>10.47081</td>\n",
       "      <td>Skirts</td>\n",
       "      <td>Woman Within Plus Size Petite flare skirt</td>\n",
       "      <td>Woman Within</td>\n",
       "      <td>24.99</td>\n",
       "      <td>Women</td>\n",
       "      <td>162D18156ABE38A3B32851B72B1D44F5</td>\n",
       "      <td>5</td>\n",
       "    </tr>\n",
       "    <tr>\n",
       "      <th>2</th>\n",
       "      <td>8</td>\n",
       "      <td>5</td>\n",
       "      <td>Cancelled</td>\n",
       "      <td>F</td>\n",
       "      <td>2022-10-20 10:03:00+00:00</td>\n",
       "      <td>NaN</td>\n",
       "      <td>NaN</td>\n",
       "      <td>NaN</td>\n",
       "      <td>3</td>\n",
       "      <td>12</td>\n",
       "      <td>1488</td>\n",
       "      <td>33</td>\n",
       "      <td>Cancelled</td>\n",
       "      <td>2022-10-24 07:19:09+00:00</td>\n",
       "      <td>NaN</td>\n",
       "      <td>NaN</td>\n",
       "      <td>NaN</td>\n",
       "      <td>24.99</td>\n",
       "      <td>Vanessa</td>\n",
       "      <td>Ross</td>\n",
       "      <td>vanessaross@example.net</td>\n",
       "      <td>52</td>\n",
       "      <td>Piauí</td>\n",
       "      <td>609 Susan Row</td>\n",
       "      <td>64120-000</td>\n",
       "      <td>União</td>\n",
       "      <td>Brasil</td>\n",
       "      <td>-4.594783</td>\n",
       "      <td>-42.789899</td>\n",
       "      <td>Organic</td>\n",
       "      <td>2020-10-02 10:03:00+00:00</td>\n",
       "      <td>10.89564</td>\n",
       "      <td>Sweaters</td>\n",
       "      <td>LookbookStore Women Coloured Zip Mouth Smile S...</td>\n",
       "      <td>LookbookStore</td>\n",
       "      <td>24.99</td>\n",
       "      <td>Women</td>\n",
       "      <td>8A146F1A3DA4700CBF03CDC55E2DAAE6</td>\n",
       "      <td>5</td>\n",
       "    </tr>\n",
       "  </tbody>\n",
       "</table>\n",
       "</div>"
      ],
      "text/plain": [
       "   order_id  user_id     status gender                 created_at returned_at  \\\n",
       "0         8        5  Cancelled      F  2022-10-20 10:03:00+00:00         NaN   \n",
       "1         8        5  Cancelled      F  2022-10-20 10:03:00+00:00         NaN   \n",
       "2         8        5  Cancelled      F  2022-10-20 10:03:00+00:00         NaN   \n",
       "\n",
       "  shipped_at delivered_at  num_of_item  order_items_id  product_id  \\\n",
       "0        NaN          NaN            3              13        6998   \n",
       "1        NaN          NaN            3              11        7173   \n",
       "2        NaN          NaN            3              12        1488   \n",
       "\n",
       "   inventory_item_id status_order_items     created_at_order_items  \\\n",
       "0                 36          Cancelled  2022-10-22 07:55:58+00:00   \n",
       "1                 29          Cancelled  2022-10-20 06:35:35+00:00   \n",
       "2                 33          Cancelled  2022-10-24 07:19:09+00:00   \n",
       "\n",
       "  shipped_at_order_items delivered_at_order_items returned_at_order_items  \\\n",
       "0                    NaN                      NaN                     NaN   \n",
       "1                    NaN                      NaN                     NaN   \n",
       "2                    NaN                      NaN                     NaN   \n",
       "\n",
       "   sale_price first_name last_name                    email  age  state  \\\n",
       "0       15.67    Vanessa      Ross  vanessaross@example.net   52  Piauí   \n",
       "1       24.99    Vanessa      Ross  vanessaross@example.net   52  Piauí   \n",
       "2       24.99    Vanessa      Ross  vanessaross@example.net   52  Piauí   \n",
       "\n",
       "  street_address postal_code   city country  latitude  longitude  \\\n",
       "0  609 Susan Row   64120-000  União  Brasil -4.594783 -42.789899   \n",
       "1  609 Susan Row   64120-000  União  Brasil -4.594783 -42.789899   \n",
       "2  609 Susan Row   64120-000  União  Brasil -4.594783 -42.789899   \n",
       "\n",
       "  traffic_source         created_account_at      cost  category  \\\n",
       "0        Organic  2020-10-02 10:03:00+00:00   7.44325    Shorts   \n",
       "1        Organic  2020-10-02 10:03:00+00:00  10.47081    Skirts   \n",
       "2        Organic  2020-10-02 10:03:00+00:00  10.89564  Sweaters   \n",
       "\n",
       "                                                name          brand  \\\n",
       "0                             Grane Supergirl Shorts          Grane   \n",
       "1          Woman Within Plus Size Petite flare skirt   Woman Within   \n",
       "2  LookbookStore Women Coloured Zip Mouth Smile S...  LookbookStore   \n",
       "\n",
       "   retail_price department                               sku  \\\n",
       "0         15.67      Women  3D4893419E57449FB290647149F738D4   \n",
       "1         24.99      Women  162D18156ABE38A3B32851B72B1D44F5   \n",
       "2         24.99      Women  8A146F1A3DA4700CBF03CDC55E2DAAE6   \n",
       "\n",
       "   distribution_center_id  \n",
       "0                       2  \n",
       "1                       5  \n",
       "2                       5  "
      ]
     },
     "execution_count": 4,
     "metadata": {},
     "output_type": "execute_result"
    }
   ],
   "source": [
    "pd.set_option('display.max_columns', None)\n",
    "df = pd.read_csv('./looker_ecom.csv')\n",
    "df.head(3)"
   ]
  },
  {
   "cell_type": "markdown",
   "metadata": {},
   "source": [
    "### 1-2) 데이터정보 확인"
   ]
  },
  {
   "cell_type": "code",
   "execution_count": 5,
   "metadata": {},
   "outputs": [
    {
     "name": "stdout",
     "output_type": "stream",
     "text": [
      "<class 'pandas.core.frame.DataFrame'>\n",
      "RangeIndex: 181759 entries, 0 to 181758\n",
      "Data columns (total 39 columns):\n",
      " #   Column                    Non-Null Count   Dtype  \n",
      "---  ------                    --------------   -----  \n",
      " 0   order_id                  181759 non-null  int64  \n",
      " 1   user_id                   181759 non-null  int64  \n",
      " 2   status                    181759 non-null  object \n",
      " 3   gender                    181759 non-null  object \n",
      " 4   created_at                181759 non-null  object \n",
      " 5   returned_at               18232 non-null   object \n",
      " 6   shipped_at                118281 non-null  object \n",
      " 7   delivered_at              63841 non-null   object \n",
      " 8   num_of_item               181759 non-null  int64  \n",
      " 9   order_items_id            181759 non-null  int64  \n",
      " 10  product_id                181759 non-null  int64  \n",
      " 11  inventory_item_id         181759 non-null  int64  \n",
      " 12  status_order_items        181759 non-null  object \n",
      " 13  created_at_order_items    181759 non-null  object \n",
      " 14  shipped_at_order_items    118281 non-null  object \n",
      " 15  delivered_at_order_items  63841 non-null   object \n",
      " 16  returned_at_order_items   18232 non-null   object \n",
      " 17  sale_price                181759 non-null  float64\n",
      " 18  first_name                181759 non-null  object \n",
      " 19  last_name                 181759 non-null  object \n",
      " 20  email                     181759 non-null  object \n",
      " 21  age                       181759 non-null  int64  \n",
      " 22  state                     181759 non-null  object \n",
      " 23  street_address            181759 non-null  object \n",
      " 24  postal_code               181759 non-null  object \n",
      " 25  city                      180078 non-null  object \n",
      " 26  country                   181759 non-null  object \n",
      " 27  latitude                  181759 non-null  float64\n",
      " 28  longitude                 181759 non-null  float64\n",
      " 29  traffic_source            181759 non-null  object \n",
      " 30  created_account_at        181759 non-null  object \n",
      " 31  cost                      181759 non-null  float64\n",
      " 32  category                  181759 non-null  object \n",
      " 33  name                      181749 non-null  object \n",
      " 34  brand                     181610 non-null  object \n",
      " 35  retail_price              181759 non-null  float64\n",
      " 36  department                181759 non-null  object \n",
      " 37  sku                       181759 non-null  object \n",
      " 38  distribution_center_id    181759 non-null  int64  \n",
      "dtypes: float64(5), int64(8), object(26)\n",
      "memory usage: 54.1+ MB\n"
     ]
    }
   ],
   "source": [
    "df.info()"
   ]
  },
  {
   "cell_type": "code",
   "execution_count": 16,
   "metadata": {},
   "outputs": [
    {
     "data": {
      "text/html": [
       "<div>\n",
       "<style scoped>\n",
       "    .dataframe tbody tr th:only-of-type {\n",
       "        vertical-align: middle;\n",
       "    }\n",
       "\n",
       "    .dataframe tbody tr th {\n",
       "        vertical-align: top;\n",
       "    }\n",
       "\n",
       "    .dataframe thead th {\n",
       "        text-align: right;\n",
       "    }\n",
       "</style>\n",
       "<table border=\"1\" class=\"dataframe\">\n",
       "  <thead>\n",
       "    <tr style=\"text-align: right;\">\n",
       "      <th></th>\n",
       "      <th>order_id</th>\n",
       "      <th>user_id</th>\n",
       "      <th>status</th>\n",
       "      <th>gender</th>\n",
       "      <th>created_at</th>\n",
       "      <th>returned_at</th>\n",
       "      <th>shipped_at</th>\n",
       "      <th>delivered_at</th>\n",
       "      <th>num_of_item</th>\n",
       "      <th>order_items_id</th>\n",
       "      <th>product_id</th>\n",
       "      <th>inventory_item_id</th>\n",
       "      <th>status_order_items</th>\n",
       "      <th>created_at_order_items</th>\n",
       "      <th>shipped_at_order_items</th>\n",
       "      <th>delivered_at_order_items</th>\n",
       "      <th>returned_at_order_items</th>\n",
       "      <th>sale_price</th>\n",
       "      <th>first_name</th>\n",
       "      <th>last_name</th>\n",
       "      <th>email</th>\n",
       "      <th>age</th>\n",
       "      <th>state</th>\n",
       "      <th>street_address</th>\n",
       "      <th>postal_code</th>\n",
       "      <th>city</th>\n",
       "      <th>country</th>\n",
       "      <th>latitude</th>\n",
       "      <th>longitude</th>\n",
       "      <th>traffic_source</th>\n",
       "      <th>created_account_at</th>\n",
       "      <th>cost</th>\n",
       "      <th>category</th>\n",
       "      <th>name</th>\n",
       "      <th>brand</th>\n",
       "      <th>retail_price</th>\n",
       "      <th>department</th>\n",
       "      <th>sku</th>\n",
       "      <th>distribution_center_id</th>\n",
       "    </tr>\n",
       "  </thead>\n",
       "  <tbody>\n",
       "    <tr>\n",
       "      <th>count</th>\n",
       "      <td>181759.000000</td>\n",
       "      <td>181759.000000</td>\n",
       "      <td>181759</td>\n",
       "      <td>181759</td>\n",
       "      <td>181759</td>\n",
       "      <td>18232</td>\n",
       "      <td>118281</td>\n",
       "      <td>63841</td>\n",
       "      <td>181759.000000</td>\n",
       "      <td>181759.000000</td>\n",
       "      <td>181759.000000</td>\n",
       "      <td>181759.000000</td>\n",
       "      <td>181759</td>\n",
       "      <td>181759</td>\n",
       "      <td>118281</td>\n",
       "      <td>63841</td>\n",
       "      <td>18232</td>\n",
       "      <td>181759.000000</td>\n",
       "      <td>181759</td>\n",
       "      <td>181759</td>\n",
       "      <td>181759</td>\n",
       "      <td>181759.000000</td>\n",
       "      <td>181759</td>\n",
       "      <td>181759</td>\n",
       "      <td>181759</td>\n",
       "      <td>180078</td>\n",
       "      <td>181759</td>\n",
       "      <td>181759.000000</td>\n",
       "      <td>181759.000000</td>\n",
       "      <td>181759</td>\n",
       "      <td>181759</td>\n",
       "      <td>181759.000000</td>\n",
       "      <td>181759</td>\n",
       "      <td>181749</td>\n",
       "      <td>181610</td>\n",
       "      <td>181759.000000</td>\n",
       "      <td>181759</td>\n",
       "      <td>181759</td>\n",
       "      <td>181759.000000</td>\n",
       "    </tr>\n",
       "    <tr>\n",
       "      <th>unique</th>\n",
       "      <td>NaN</td>\n",
       "      <td>NaN</td>\n",
       "      <td>5</td>\n",
       "      <td>2</td>\n",
       "      <td>117373</td>\n",
       "      <td>12478</td>\n",
       "      <td>79123</td>\n",
       "      <td>43187</td>\n",
       "      <td>NaN</td>\n",
       "      <td>NaN</td>\n",
       "      <td>NaN</td>\n",
       "      <td>NaN</td>\n",
       "      <td>5</td>\n",
       "      <td>181526</td>\n",
       "      <td>79123</td>\n",
       "      <td>43187</td>\n",
       "      <td>12478</td>\n",
       "      <td>NaN</td>\n",
       "      <td>690</td>\n",
       "      <td>1000</td>\n",
       "      <td>69073</td>\n",
       "      <td>NaN</td>\n",
       "      <td>228</td>\n",
       "      <td>80043</td>\n",
       "      <td>15074</td>\n",
       "      <td>7586</td>\n",
       "      <td>16</td>\n",
       "      <td>NaN</td>\n",
       "      <td>NaN</td>\n",
       "      <td>5</td>\n",
       "      <td>78637</td>\n",
       "      <td>NaN</td>\n",
       "      <td>26</td>\n",
       "      <td>27236</td>\n",
       "      <td>2752</td>\n",
       "      <td>NaN</td>\n",
       "      <td>2</td>\n",
       "      <td>29046</td>\n",
       "      <td>NaN</td>\n",
       "    </tr>\n",
       "    <tr>\n",
       "      <th>top</th>\n",
       "      <td>NaN</td>\n",
       "      <td>NaN</td>\n",
       "      <td>Shipped</td>\n",
       "      <td>F</td>\n",
       "      <td>2024-01-15 12:57:11.291061+00:00</td>\n",
       "      <td>2023-07-15 19:49:00+00:00</td>\n",
       "      <td>2023-12-26 19:56:00+00:00</td>\n",
       "      <td>2023-09-06 16:25:00+00:00</td>\n",
       "      <td>NaN</td>\n",
       "      <td>NaN</td>\n",
       "      <td>NaN</td>\n",
       "      <td>NaN</td>\n",
       "      <td>Shipped</td>\n",
       "      <td>2023-08-07 01:21:57+00:00</td>\n",
       "      <td>2023-12-26 19:56:00+00:00</td>\n",
       "      <td>2023-09-06 16:25:00+00:00</td>\n",
       "      <td>2023-07-15 19:49:00+00:00</td>\n",
       "      <td>NaN</td>\n",
       "      <td>Michael</td>\n",
       "      <td>Smith</td>\n",
       "      <td>michaelsmith@example.org</td>\n",
       "      <td>NaN</td>\n",
       "      <td>Guangdong</td>\n",
       "      <td>4942 Martinez Fields</td>\n",
       "      <td>02675-031</td>\n",
       "      <td>Shanghai</td>\n",
       "      <td>China</td>\n",
       "      <td>NaN</td>\n",
       "      <td>NaN</td>\n",
       "      <td>Search</td>\n",
       "      <td>2022-11-11 11:42:00+00:00</td>\n",
       "      <td>NaN</td>\n",
       "      <td>Intimates</td>\n",
       "      <td>Wrangler Men's Premium Performance Cowboy Cut ...</td>\n",
       "      <td>Allegra K</td>\n",
       "      <td>NaN</td>\n",
       "      <td>Women</td>\n",
       "      <td>6B45CF467A9C88001159A826E92C7437</td>\n",
       "      <td>NaN</td>\n",
       "    </tr>\n",
       "    <tr>\n",
       "      <th>freq</th>\n",
       "      <td>NaN</td>\n",
       "      <td>NaN</td>\n",
       "      <td>54440</td>\n",
       "      <td>91009</td>\n",
       "      <td>11</td>\n",
       "      <td>6</td>\n",
       "      <td>9</td>\n",
       "      <td>9</td>\n",
       "      <td>NaN</td>\n",
       "      <td>NaN</td>\n",
       "      <td>NaN</td>\n",
       "      <td>NaN</td>\n",
       "      <td>54440</td>\n",
       "      <td>2</td>\n",
       "      <td>9</td>\n",
       "      <td>9</td>\n",
       "      <td>6</td>\n",
       "      <td>NaN</td>\n",
       "      <td>4287</td>\n",
       "      <td>4084</td>\n",
       "      <td>62</td>\n",
       "      <td>NaN</td>\n",
       "      <td>9719</td>\n",
       "      <td>14</td>\n",
       "      <td>718</td>\n",
       "      <td>4608</td>\n",
       "      <td>62708</td>\n",
       "      <td>NaN</td>\n",
       "      <td>NaN</td>\n",
       "      <td>127277</td>\n",
       "      <td>15</td>\n",
       "      <td>NaN</td>\n",
       "      <td>13474</td>\n",
       "      <td>62</td>\n",
       "      <td>6292</td>\n",
       "      <td>NaN</td>\n",
       "      <td>91009</td>\n",
       "      <td>21</td>\n",
       "      <td>NaN</td>\n",
       "    </tr>\n",
       "    <tr>\n",
       "      <th>mean</th>\n",
       "      <td>62579.982609</td>\n",
       "      <td>49983.272020</td>\n",
       "      <td>NaN</td>\n",
       "      <td>NaN</td>\n",
       "      <td>NaN</td>\n",
       "      <td>NaN</td>\n",
       "      <td>NaN</td>\n",
       "      <td>NaN</td>\n",
       "      <td>1.901457</td>\n",
       "      <td>90880.000000</td>\n",
       "      <td>15254.151838</td>\n",
       "      <td>245291.860007</td>\n",
       "      <td>NaN</td>\n",
       "      <td>NaN</td>\n",
       "      <td>NaN</td>\n",
       "      <td>NaN</td>\n",
       "      <td>NaN</td>\n",
       "      <td>59.568544</td>\n",
       "      <td>NaN</td>\n",
       "      <td>NaN</td>\n",
       "      <td>NaN</td>\n",
       "      <td>41.063749</td>\n",
       "      <td>NaN</td>\n",
       "      <td>NaN</td>\n",
       "      <td>NaN</td>\n",
       "      <td>NaN</td>\n",
       "      <td>NaN</td>\n",
       "      <td>28.352538</td>\n",
       "      <td>25.397517</td>\n",
       "      <td>NaN</td>\n",
       "      <td>NaN</td>\n",
       "      <td>28.655281</td>\n",
       "      <td>NaN</td>\n",
       "      <td>NaN</td>\n",
       "      <td>NaN</td>\n",
       "      <td>59.568544</td>\n",
       "      <td>NaN</td>\n",
       "      <td>NaN</td>\n",
       "      <td>5.008748</td>\n",
       "    </tr>\n",
       "    <tr>\n",
       "      <th>std</th>\n",
       "      <td>36125.987285</td>\n",
       "      <td>28830.895739</td>\n",
       "      <td>NaN</td>\n",
       "      <td>NaN</td>\n",
       "      <td>NaN</td>\n",
       "      <td>NaN</td>\n",
       "      <td>NaN</td>\n",
       "      <td>NaN</td>\n",
       "      <td>1.066470</td>\n",
       "      <td>52469.448126</td>\n",
       "      <td>8413.482833</td>\n",
       "      <td>141661.912894</td>\n",
       "      <td>NaN</td>\n",
       "      <td>NaN</td>\n",
       "      <td>NaN</td>\n",
       "      <td>NaN</td>\n",
       "      <td>NaN</td>\n",
       "      <td>66.657262</td>\n",
       "      <td>NaN</td>\n",
       "      <td>NaN</td>\n",
       "      <td>NaN</td>\n",
       "      <td>17.032648</td>\n",
       "      <td>NaN</td>\n",
       "      <td>NaN</td>\n",
       "      <td>NaN</td>\n",
       "      <td>NaN</td>\n",
       "      <td>NaN</td>\n",
       "      <td>21.983909</td>\n",
       "      <td>89.877515</td>\n",
       "      <td>NaN</td>\n",
       "      <td>NaN</td>\n",
       "      <td>31.022340</td>\n",
       "      <td>NaN</td>\n",
       "      <td>NaN</td>\n",
       "      <td>NaN</td>\n",
       "      <td>66.657262</td>\n",
       "      <td>NaN</td>\n",
       "      <td>NaN</td>\n",
       "      <td>2.900402</td>\n",
       "    </tr>\n",
       "    <tr>\n",
       "      <th>min</th>\n",
       "      <td>1.000000</td>\n",
       "      <td>1.000000</td>\n",
       "      <td>NaN</td>\n",
       "      <td>NaN</td>\n",
       "      <td>NaN</td>\n",
       "      <td>NaN</td>\n",
       "      <td>NaN</td>\n",
       "      <td>NaN</td>\n",
       "      <td>1.000000</td>\n",
       "      <td>1.000000</td>\n",
       "      <td>1.000000</td>\n",
       "      <td>3.000000</td>\n",
       "      <td>NaN</td>\n",
       "      <td>NaN</td>\n",
       "      <td>NaN</td>\n",
       "      <td>NaN</td>\n",
       "      <td>NaN</td>\n",
       "      <td>0.020000</td>\n",
       "      <td>NaN</td>\n",
       "      <td>NaN</td>\n",
       "      <td>NaN</td>\n",
       "      <td>12.000000</td>\n",
       "      <td>NaN</td>\n",
       "      <td>NaN</td>\n",
       "      <td>NaN</td>\n",
       "      <td>NaN</td>\n",
       "      <td>NaN</td>\n",
       "      <td>-43.007536</td>\n",
       "      <td>-158.164931</td>\n",
       "      <td>NaN</td>\n",
       "      <td>NaN</td>\n",
       "      <td>0.008300</td>\n",
       "      <td>NaN</td>\n",
       "      <td>NaN</td>\n",
       "      <td>NaN</td>\n",
       "      <td>0.020000</td>\n",
       "      <td>NaN</td>\n",
       "      <td>NaN</td>\n",
       "      <td>1.000000</td>\n",
       "    </tr>\n",
       "    <tr>\n",
       "      <th>25%</th>\n",
       "      <td>31266.500000</td>\n",
       "      <td>25031.500000</td>\n",
       "      <td>NaN</td>\n",
       "      <td>NaN</td>\n",
       "      <td>NaN</td>\n",
       "      <td>NaN</td>\n",
       "      <td>NaN</td>\n",
       "      <td>NaN</td>\n",
       "      <td>1.000000</td>\n",
       "      <td>45440.500000</td>\n",
       "      <td>7979.500000</td>\n",
       "      <td>122565.000000</td>\n",
       "      <td>NaN</td>\n",
       "      <td>NaN</td>\n",
       "      <td>NaN</td>\n",
       "      <td>NaN</td>\n",
       "      <td>NaN</td>\n",
       "      <td>24.500000</td>\n",
       "      <td>NaN</td>\n",
       "      <td>NaN</td>\n",
       "      <td>NaN</td>\n",
       "      <td>26.000000</td>\n",
       "      <td>NaN</td>\n",
       "      <td>NaN</td>\n",
       "      <td>NaN</td>\n",
       "      <td>NaN</td>\n",
       "      <td>NaN</td>\n",
       "      <td>26.148665</td>\n",
       "      <td>-50.536439</td>\n",
       "      <td>NaN</td>\n",
       "      <td>NaN</td>\n",
       "      <td>11.366210</td>\n",
       "      <td>NaN</td>\n",
       "      <td>NaN</td>\n",
       "      <td>NaN</td>\n",
       "      <td>24.500000</td>\n",
       "      <td>NaN</td>\n",
       "      <td>NaN</td>\n",
       "      <td>2.000000</td>\n",
       "    </tr>\n",
       "    <tr>\n",
       "      <th>50%</th>\n",
       "      <td>62529.000000</td>\n",
       "      <td>49983.000000</td>\n",
       "      <td>NaN</td>\n",
       "      <td>NaN</td>\n",
       "      <td>NaN</td>\n",
       "      <td>NaN</td>\n",
       "      <td>NaN</td>\n",
       "      <td>NaN</td>\n",
       "      <td>2.000000</td>\n",
       "      <td>90880.000000</td>\n",
       "      <td>15966.000000</td>\n",
       "      <td>245284.000000</td>\n",
       "      <td>NaN</td>\n",
       "      <td>NaN</td>\n",
       "      <td>NaN</td>\n",
       "      <td>NaN</td>\n",
       "      <td>NaN</td>\n",
       "      <td>39.990002</td>\n",
       "      <td>NaN</td>\n",
       "      <td>NaN</td>\n",
       "      <td>NaN</td>\n",
       "      <td>41.000000</td>\n",
       "      <td>NaN</td>\n",
       "      <td>NaN</td>\n",
       "      <td>NaN</td>\n",
       "      <td>NaN</td>\n",
       "      <td>NaN</td>\n",
       "      <td>35.202957</td>\n",
       "      <td>4.980070</td>\n",
       "      <td>NaN</td>\n",
       "      <td>NaN</td>\n",
       "      <td>19.829000</td>\n",
       "      <td>NaN</td>\n",
       "      <td>NaN</td>\n",
       "      <td>NaN</td>\n",
       "      <td>39.990002</td>\n",
       "      <td>NaN</td>\n",
       "      <td>NaN</td>\n",
       "      <td>5.000000</td>\n",
       "    </tr>\n",
       "    <tr>\n",
       "      <th>75%</th>\n",
       "      <td>93845.500000</td>\n",
       "      <td>74867.500000</td>\n",
       "      <td>NaN</td>\n",
       "      <td>NaN</td>\n",
       "      <td>NaN</td>\n",
       "      <td>NaN</td>\n",
       "      <td>NaN</td>\n",
       "      <td>NaN</td>\n",
       "      <td>2.000000</td>\n",
       "      <td>136319.500000</td>\n",
       "      <td>22504.000000</td>\n",
       "      <td>367983.000000</td>\n",
       "      <td>NaN</td>\n",
       "      <td>NaN</td>\n",
       "      <td>NaN</td>\n",
       "      <td>NaN</td>\n",
       "      <td>NaN</td>\n",
       "      <td>69.949997</td>\n",
       "      <td>NaN</td>\n",
       "      <td>NaN</td>\n",
       "      <td>NaN</td>\n",
       "      <td>56.000000</td>\n",
       "      <td>NaN</td>\n",
       "      <td>NaN</td>\n",
       "      <td>NaN</td>\n",
       "      <td>NaN</td>\n",
       "      <td>NaN</td>\n",
       "      <td>40.724844</td>\n",
       "      <td>116.377408</td>\n",
       "      <td>NaN</td>\n",
       "      <td>NaN</td>\n",
       "      <td>34.545320</td>\n",
       "      <td>NaN</td>\n",
       "      <td>NaN</td>\n",
       "      <td>NaN</td>\n",
       "      <td>69.949997</td>\n",
       "      <td>NaN</td>\n",
       "      <td>NaN</td>\n",
       "      <td>8.000000</td>\n",
       "    </tr>\n",
       "    <tr>\n",
       "      <th>max</th>\n",
       "      <td>125226.000000</td>\n",
       "      <td>100000.000000</td>\n",
       "      <td>NaN</td>\n",
       "      <td>NaN</td>\n",
       "      <td>NaN</td>\n",
       "      <td>NaN</td>\n",
       "      <td>NaN</td>\n",
       "      <td>NaN</td>\n",
       "      <td>4.000000</td>\n",
       "      <td>181759.000000</td>\n",
       "      <td>29120.000000</td>\n",
       "      <td>490705.000000</td>\n",
       "      <td>NaN</td>\n",
       "      <td>NaN</td>\n",
       "      <td>NaN</td>\n",
       "      <td>NaN</td>\n",
       "      <td>NaN</td>\n",
       "      <td>999.000000</td>\n",
       "      <td>NaN</td>\n",
       "      <td>NaN</td>\n",
       "      <td>NaN</td>\n",
       "      <td>70.000000</td>\n",
       "      <td>NaN</td>\n",
       "      <td>NaN</td>\n",
       "      <td>NaN</td>\n",
       "      <td>NaN</td>\n",
       "      <td>NaN</td>\n",
       "      <td>64.865194</td>\n",
       "      <td>153.560238</td>\n",
       "      <td>NaN</td>\n",
       "      <td>NaN</td>\n",
       "      <td>557.151002</td>\n",
       "      <td>NaN</td>\n",
       "      <td>NaN</td>\n",
       "      <td>NaN</td>\n",
       "      <td>999.000000</td>\n",
       "      <td>NaN</td>\n",
       "      <td>NaN</td>\n",
       "      <td>10.000000</td>\n",
       "    </tr>\n",
       "  </tbody>\n",
       "</table>\n",
       "</div>"
      ],
      "text/plain": [
       "             order_id        user_id   status  gender  \\\n",
       "count   181759.000000  181759.000000   181759  181759   \n",
       "unique            NaN            NaN        5       2   \n",
       "top               NaN            NaN  Shipped       F   \n",
       "freq              NaN            NaN    54440   91009   \n",
       "mean     62579.982609   49983.272020      NaN     NaN   \n",
       "std      36125.987285   28830.895739      NaN     NaN   \n",
       "min          1.000000       1.000000      NaN     NaN   \n",
       "25%      31266.500000   25031.500000      NaN     NaN   \n",
       "50%      62529.000000   49983.000000      NaN     NaN   \n",
       "75%      93845.500000   74867.500000      NaN     NaN   \n",
       "max     125226.000000  100000.000000      NaN     NaN   \n",
       "\n",
       "                              created_at                returned_at  \\\n",
       "count                             181759                      18232   \n",
       "unique                            117373                      12478   \n",
       "top     2024-01-15 12:57:11.291061+00:00  2023-07-15 19:49:00+00:00   \n",
       "freq                                  11                          6   \n",
       "mean                                 NaN                        NaN   \n",
       "std                                  NaN                        NaN   \n",
       "min                                  NaN                        NaN   \n",
       "25%                                  NaN                        NaN   \n",
       "50%                                  NaN                        NaN   \n",
       "75%                                  NaN                        NaN   \n",
       "max                                  NaN                        NaN   \n",
       "\n",
       "                       shipped_at               delivered_at    num_of_item  \\\n",
       "count                      118281                      63841  181759.000000   \n",
       "unique                      79123                      43187            NaN   \n",
       "top     2023-12-26 19:56:00+00:00  2023-09-06 16:25:00+00:00            NaN   \n",
       "freq                            9                          9            NaN   \n",
       "mean                          NaN                        NaN       1.901457   \n",
       "std                           NaN                        NaN       1.066470   \n",
       "min                           NaN                        NaN       1.000000   \n",
       "25%                           NaN                        NaN       1.000000   \n",
       "50%                           NaN                        NaN       2.000000   \n",
       "75%                           NaN                        NaN       2.000000   \n",
       "max                           NaN                        NaN       4.000000   \n",
       "\n",
       "        order_items_id     product_id  inventory_item_id status_order_items  \\\n",
       "count    181759.000000  181759.000000      181759.000000             181759   \n",
       "unique             NaN            NaN                NaN                  5   \n",
       "top                NaN            NaN                NaN            Shipped   \n",
       "freq               NaN            NaN                NaN              54440   \n",
       "mean      90880.000000   15254.151838      245291.860007                NaN   \n",
       "std       52469.448126    8413.482833      141661.912894                NaN   \n",
       "min           1.000000       1.000000           3.000000                NaN   \n",
       "25%       45440.500000    7979.500000      122565.000000                NaN   \n",
       "50%       90880.000000   15966.000000      245284.000000                NaN   \n",
       "75%      136319.500000   22504.000000      367983.000000                NaN   \n",
       "max      181759.000000   29120.000000      490705.000000                NaN   \n",
       "\n",
       "           created_at_order_items     shipped_at_order_items  \\\n",
       "count                      181759                     118281   \n",
       "unique                     181526                      79123   \n",
       "top     2023-08-07 01:21:57+00:00  2023-12-26 19:56:00+00:00   \n",
       "freq                            2                          9   \n",
       "mean                          NaN                        NaN   \n",
       "std                           NaN                        NaN   \n",
       "min                           NaN                        NaN   \n",
       "25%                           NaN                        NaN   \n",
       "50%                           NaN                        NaN   \n",
       "75%                           NaN                        NaN   \n",
       "max                           NaN                        NaN   \n",
       "\n",
       "         delivered_at_order_items    returned_at_order_items     sale_price  \\\n",
       "count                       63841                      18232  181759.000000   \n",
       "unique                      43187                      12478            NaN   \n",
       "top     2023-09-06 16:25:00+00:00  2023-07-15 19:49:00+00:00            NaN   \n",
       "freq                            9                          6            NaN   \n",
       "mean                          NaN                        NaN      59.568544   \n",
       "std                           NaN                        NaN      66.657262   \n",
       "min                           NaN                        NaN       0.020000   \n",
       "25%                           NaN                        NaN      24.500000   \n",
       "50%                           NaN                        NaN      39.990002   \n",
       "75%                           NaN                        NaN      69.949997   \n",
       "max                           NaN                        NaN     999.000000   \n",
       "\n",
       "       first_name last_name                     email            age  \\\n",
       "count      181759    181759                    181759  181759.000000   \n",
       "unique        690      1000                     69073            NaN   \n",
       "top       Michael     Smith  michaelsmith@example.org            NaN   \n",
       "freq         4287      4084                        62            NaN   \n",
       "mean          NaN       NaN                       NaN      41.063749   \n",
       "std           NaN       NaN                       NaN      17.032648   \n",
       "min           NaN       NaN                       NaN      12.000000   \n",
       "25%           NaN       NaN                       NaN      26.000000   \n",
       "50%           NaN       NaN                       NaN      41.000000   \n",
       "75%           NaN       NaN                       NaN      56.000000   \n",
       "max           NaN       NaN                       NaN      70.000000   \n",
       "\n",
       "            state        street_address postal_code      city country  \\\n",
       "count      181759                181759      181759    180078  181759   \n",
       "unique        228                 80043       15074      7586      16   \n",
       "top     Guangdong  4942 Martinez Fields   02675-031  Shanghai   China   \n",
       "freq         9719                    14         718      4608   62708   \n",
       "mean          NaN                   NaN         NaN       NaN     NaN   \n",
       "std           NaN                   NaN         NaN       NaN     NaN   \n",
       "min           NaN                   NaN         NaN       NaN     NaN   \n",
       "25%           NaN                   NaN         NaN       NaN     NaN   \n",
       "50%           NaN                   NaN         NaN       NaN     NaN   \n",
       "75%           NaN                   NaN         NaN       NaN     NaN   \n",
       "max           NaN                   NaN         NaN       NaN     NaN   \n",
       "\n",
       "             latitude      longitude traffic_source  \\\n",
       "count   181759.000000  181759.000000         181759   \n",
       "unique            NaN            NaN              5   \n",
       "top               NaN            NaN         Search   \n",
       "freq              NaN            NaN         127277   \n",
       "mean        28.352538      25.397517            NaN   \n",
       "std         21.983909      89.877515            NaN   \n",
       "min        -43.007536    -158.164931            NaN   \n",
       "25%         26.148665     -50.536439            NaN   \n",
       "50%         35.202957       4.980070            NaN   \n",
       "75%         40.724844     116.377408            NaN   \n",
       "max         64.865194     153.560238            NaN   \n",
       "\n",
       "               created_account_at           cost   category  \\\n",
       "count                      181759  181759.000000     181759   \n",
       "unique                      78637            NaN         26   \n",
       "top     2022-11-11 11:42:00+00:00            NaN  Intimates   \n",
       "freq                           15            NaN      13474   \n",
       "mean                          NaN      28.655281        NaN   \n",
       "std                           NaN      31.022340        NaN   \n",
       "min                           NaN       0.008300        NaN   \n",
       "25%                           NaN      11.366210        NaN   \n",
       "50%                           NaN      19.829000        NaN   \n",
       "75%                           NaN      34.545320        NaN   \n",
       "max                           NaN     557.151002        NaN   \n",
       "\n",
       "                                                     name      brand  \\\n",
       "count                                              181749     181610   \n",
       "unique                                              27236       2752   \n",
       "top     Wrangler Men's Premium Performance Cowboy Cut ...  Allegra K   \n",
       "freq                                                   62       6292   \n",
       "mean                                                  NaN        NaN   \n",
       "std                                                   NaN        NaN   \n",
       "min                                                   NaN        NaN   \n",
       "25%                                                   NaN        NaN   \n",
       "50%                                                   NaN        NaN   \n",
       "75%                                                   NaN        NaN   \n",
       "max                                                   NaN        NaN   \n",
       "\n",
       "         retail_price department                               sku  \\\n",
       "count   181759.000000     181759                            181759   \n",
       "unique            NaN          2                             29046   \n",
       "top               NaN      Women  6B45CF467A9C88001159A826E92C7437   \n",
       "freq              NaN      91009                                21   \n",
       "mean        59.568544        NaN                               NaN   \n",
       "std         66.657262        NaN                               NaN   \n",
       "min          0.020000        NaN                               NaN   \n",
       "25%         24.500000        NaN                               NaN   \n",
       "50%         39.990002        NaN                               NaN   \n",
       "75%         69.949997        NaN                               NaN   \n",
       "max        999.000000        NaN                               NaN   \n",
       "\n",
       "        distribution_center_id  \n",
       "count            181759.000000  \n",
       "unique                     NaN  \n",
       "top                        NaN  \n",
       "freq                       NaN  \n",
       "mean                  5.008748  \n",
       "std                   2.900402  \n",
       "min                   1.000000  \n",
       "25%                   2.000000  \n",
       "50%                   5.000000  \n",
       "75%                   8.000000  \n",
       "max                  10.000000  "
      ]
     },
     "execution_count": 16,
     "metadata": {},
     "output_type": "execute_result"
    }
   ],
   "source": [
    "df.describe(include='all')"
   ]
  },
  {
   "cell_type": "markdown",
   "metadata": {},
   "source": [
    "## 3. 매출(profit) 컬럼 만들기"
   ]
  },
  {
   "cell_type": "markdown",
   "metadata": {},
   "source": [
    "### 3-1) status_order_items (Complete, Shipped)"
   ]
  },
  {
   "cell_type": "code",
   "execution_count": 18,
   "metadata": {},
   "outputs": [
    {
     "data": {
      "text/plain": [
       "status_order_items\n",
       "Shipped       54440\n",
       "Complete      45609\n",
       "Processing    36388\n",
       "Cancelled     27090\n",
       "Returned      18232\n",
       "Name: count, dtype: int64"
      ]
     },
     "execution_count": 18,
     "metadata": {},
     "output_type": "execute_result"
    }
   ],
   "source": [
    "# status_order_items 분류 - 값\n",
    "df['status_order_items'].value_counts()"
   ]
  },
  {
   "cell_type": "code",
   "execution_count": 6,
   "metadata": {},
   "outputs": [
    {
     "data": {
      "text/html": [
       "<div>\n",
       "<style scoped>\n",
       "    .dataframe tbody tr th:only-of-type {\n",
       "        vertical-align: middle;\n",
       "    }\n",
       "\n",
       "    .dataframe tbody tr th {\n",
       "        vertical-align: top;\n",
       "    }\n",
       "\n",
       "    .dataframe thead th {\n",
       "        text-align: right;\n",
       "    }\n",
       "</style>\n",
       "<table border=\"1\" class=\"dataframe\">\n",
       "  <thead>\n",
       "    <tr style=\"text-align: right;\">\n",
       "      <th></th>\n",
       "      <th>order_id</th>\n",
       "      <th>user_id</th>\n",
       "      <th>status</th>\n",
       "      <th>gender</th>\n",
       "      <th>created_at</th>\n",
       "      <th>returned_at</th>\n",
       "      <th>shipped_at</th>\n",
       "      <th>delivered_at</th>\n",
       "      <th>num_of_item</th>\n",
       "      <th>order_items_id</th>\n",
       "      <th>product_id</th>\n",
       "      <th>inventory_item_id</th>\n",
       "      <th>status_order_items</th>\n",
       "      <th>created_at_order_items</th>\n",
       "      <th>shipped_at_order_items</th>\n",
       "      <th>delivered_at_order_items</th>\n",
       "      <th>returned_at_order_items</th>\n",
       "      <th>sale_price</th>\n",
       "      <th>first_name</th>\n",
       "      <th>last_name</th>\n",
       "      <th>email</th>\n",
       "      <th>age</th>\n",
       "      <th>state</th>\n",
       "      <th>street_address</th>\n",
       "      <th>postal_code</th>\n",
       "      <th>city</th>\n",
       "      <th>country</th>\n",
       "      <th>latitude</th>\n",
       "      <th>longitude</th>\n",
       "      <th>traffic_source</th>\n",
       "      <th>created_account_at</th>\n",
       "      <th>cost</th>\n",
       "      <th>category</th>\n",
       "      <th>name</th>\n",
       "      <th>brand</th>\n",
       "      <th>retail_price</th>\n",
       "      <th>department</th>\n",
       "      <th>sku</th>\n",
       "      <th>distribution_center_id</th>\n",
       "    </tr>\n",
       "  </thead>\n",
       "  <tbody>\n",
       "    <tr>\n",
       "      <th>13553</th>\n",
       "      <td>7</td>\n",
       "      <td>4</td>\n",
       "      <td>Complete</td>\n",
       "      <td>F</td>\n",
       "      <td>2022-10-18 09:31:00+00:00</td>\n",
       "      <td>NaN</td>\n",
       "      <td>2022-10-19 00:36:00+00:00</td>\n",
       "      <td>2022-10-20 13:24:00+00:00</td>\n",
       "      <td>1</td>\n",
       "      <td>10</td>\n",
       "      <td>1035</td>\n",
       "      <td>26</td>\n",
       "      <td>Complete</td>\n",
       "      <td>2022-10-18 06:17:54+00:00</td>\n",
       "      <td>2022-10-19 00:36:00+00:00</td>\n",
       "      <td>2022-10-20 13:24:00+00:00</td>\n",
       "      <td>NaN</td>\n",
       "      <td>148.000000</td>\n",
       "      <td>Jennifer</td>\n",
       "      <td>Young</td>\n",
       "      <td>jenniferyoung@example.net</td>\n",
       "      <td>12</td>\n",
       "      <td>Texas</td>\n",
       "      <td>852 Bird Knolls</td>\n",
       "      <td>77083</td>\n",
       "      <td>Mission Bend</td>\n",
       "      <td>United States</td>\n",
       "      <td>29.693098</td>\n",
       "      <td>-95.648935</td>\n",
       "      <td>Search</td>\n",
       "      <td>2019-09-14 09:31:00+00:00</td>\n",
       "      <td>61.568000</td>\n",
       "      <td>Sweaters</td>\n",
       "      <td>Lilly Pulitzer Women's Charter Sweater</td>\n",
       "      <td>Lilly Pulitzer</td>\n",
       "      <td>148.000000</td>\n",
       "      <td>Women</td>\n",
       "      <td>A34BACF839B923770B2C360EEFA26748</td>\n",
       "      <td>9</td>\n",
       "    </tr>\n",
       "    <tr>\n",
       "      <th>13554</th>\n",
       "      <td>35</td>\n",
       "      <td>24</td>\n",
       "      <td>Complete</td>\n",
       "      <td>F</td>\n",
       "      <td>2023-11-19 04:30:00+00:00</td>\n",
       "      <td>NaN</td>\n",
       "      <td>2023-11-21 02:49:00+00:00</td>\n",
       "      <td>2023-11-23 03:36:00+00:00</td>\n",
       "      <td>1</td>\n",
       "      <td>54</td>\n",
       "      <td>5119</td>\n",
       "      <td>151</td>\n",
       "      <td>Complete</td>\n",
       "      <td>2023-11-19 03:44:24+00:00</td>\n",
       "      <td>2023-11-21 02:49:00+00:00</td>\n",
       "      <td>2023-11-23 03:36:00+00:00</td>\n",
       "      <td>NaN</td>\n",
       "      <td>39.990002</td>\n",
       "      <td>Michelle</td>\n",
       "      <td>Oconnor</td>\n",
       "      <td>michelleoconnor@example.com</td>\n",
       "      <td>69</td>\n",
       "      <td>Hebei</td>\n",
       "      <td>7598 Michael Pines Suite 031</td>\n",
       "      <td>64499</td>\n",
       "      <td>Foshan</td>\n",
       "      <td>China</td>\n",
       "      <td>40.009894</td>\n",
       "      <td>118.710490</td>\n",
       "      <td>Search</td>\n",
       "      <td>2022-11-29 04:30:00+00:00</td>\n",
       "      <td>19.595101</td>\n",
       "      <td>Pants &amp; Capris</td>\n",
       "      <td>Dockers Women's Khaki Pant With Hello Smooth</td>\n",
       "      <td>Dockers</td>\n",
       "      <td>39.990002</td>\n",
       "      <td>Women</td>\n",
       "      <td>A5FDFA672284DA6BF4F4326E2B3698BD</td>\n",
       "      <td>7</td>\n",
       "    </tr>\n",
       "    <tr>\n",
       "      <th>13555</th>\n",
       "      <td>39</td>\n",
       "      <td>29</td>\n",
       "      <td>Complete</td>\n",
       "      <td>F</td>\n",
       "      <td>2022-08-06 18:29:00+00:00</td>\n",
       "      <td>NaN</td>\n",
       "      <td>2022-08-09 17:37:00+00:00</td>\n",
       "      <td>2022-08-14 08:58:00+00:00</td>\n",
       "      <td>1</td>\n",
       "      <td>58</td>\n",
       "      <td>5916</td>\n",
       "      <td>163</td>\n",
       "      <td>Complete</td>\n",
       "      <td>2022-08-06 17:57:12+00:00</td>\n",
       "      <td>2022-08-09 17:37:00+00:00</td>\n",
       "      <td>2022-08-14 08:58:00+00:00</td>\n",
       "      <td>NaN</td>\n",
       "      <td>44.000000</td>\n",
       "      <td>Brittany</td>\n",
       "      <td>Kim</td>\n",
       "      <td>brittanykim@example.org</td>\n",
       "      <td>34</td>\n",
       "      <td>California</td>\n",
       "      <td>156 Paul Turnpike</td>\n",
       "      <td>92376</td>\n",
       "      <td>Rialto</td>\n",
       "      <td>United States</td>\n",
       "      <td>34.626017</td>\n",
       "      <td>-117.464853</td>\n",
       "      <td>Search</td>\n",
       "      <td>2019-02-02 18:29:00+00:00</td>\n",
       "      <td>24.684000</td>\n",
       "      <td>Leggings</td>\n",
       "      <td>Hue Women's Double Knit Leggings - Plus Size</td>\n",
       "      <td>HUE</td>\n",
       "      <td>44.000000</td>\n",
       "      <td>Women</td>\n",
       "      <td>C5F441CD5F43EB2F2C024E1F8B5D00CD</td>\n",
       "      <td>2</td>\n",
       "    </tr>\n",
       "  </tbody>\n",
       "</table>\n",
       "</div>"
      ],
      "text/plain": [
       "       order_id  user_id    status gender                 created_at  \\\n",
       "13553         7        4  Complete      F  2022-10-18 09:31:00+00:00   \n",
       "13554        35       24  Complete      F  2023-11-19 04:30:00+00:00   \n",
       "13555        39       29  Complete      F  2022-08-06 18:29:00+00:00   \n",
       "\n",
       "      returned_at                 shipped_at               delivered_at  \\\n",
       "13553         NaN  2022-10-19 00:36:00+00:00  2022-10-20 13:24:00+00:00   \n",
       "13554         NaN  2023-11-21 02:49:00+00:00  2023-11-23 03:36:00+00:00   \n",
       "13555         NaN  2022-08-09 17:37:00+00:00  2022-08-14 08:58:00+00:00   \n",
       "\n",
       "       num_of_item  order_items_id  product_id  inventory_item_id  \\\n",
       "13553            1              10        1035                 26   \n",
       "13554            1              54        5119                151   \n",
       "13555            1              58        5916                163   \n",
       "\n",
       "      status_order_items     created_at_order_items  \\\n",
       "13553           Complete  2022-10-18 06:17:54+00:00   \n",
       "13554           Complete  2023-11-19 03:44:24+00:00   \n",
       "13555           Complete  2022-08-06 17:57:12+00:00   \n",
       "\n",
       "          shipped_at_order_items   delivered_at_order_items  \\\n",
       "13553  2022-10-19 00:36:00+00:00  2022-10-20 13:24:00+00:00   \n",
       "13554  2023-11-21 02:49:00+00:00  2023-11-23 03:36:00+00:00   \n",
       "13555  2022-08-09 17:37:00+00:00  2022-08-14 08:58:00+00:00   \n",
       "\n",
       "      returned_at_order_items  sale_price first_name last_name  \\\n",
       "13553                     NaN  148.000000   Jennifer     Young   \n",
       "13554                     NaN   39.990002   Michelle   Oconnor   \n",
       "13555                     NaN   44.000000   Brittany       Kim   \n",
       "\n",
       "                             email  age       state  \\\n",
       "13553    jenniferyoung@example.net   12       Texas   \n",
       "13554  michelleoconnor@example.com   69       Hebei   \n",
       "13555      brittanykim@example.org   34  California   \n",
       "\n",
       "                     street_address postal_code          city        country  \\\n",
       "13553               852 Bird Knolls       77083  Mission Bend  United States   \n",
       "13554  7598 Michael Pines Suite 031       64499        Foshan          China   \n",
       "13555             156 Paul Turnpike       92376        Rialto  United States   \n",
       "\n",
       "        latitude   longitude traffic_source         created_account_at  \\\n",
       "13553  29.693098  -95.648935         Search  2019-09-14 09:31:00+00:00   \n",
       "13554  40.009894  118.710490         Search  2022-11-29 04:30:00+00:00   \n",
       "13555  34.626017 -117.464853         Search  2019-02-02 18:29:00+00:00   \n",
       "\n",
       "            cost        category  \\\n",
       "13553  61.568000        Sweaters   \n",
       "13554  19.595101  Pants & Capris   \n",
       "13555  24.684000        Leggings   \n",
       "\n",
       "                                               name           brand  \\\n",
       "13553        Lilly Pulitzer Women's Charter Sweater  Lilly Pulitzer   \n",
       "13554  Dockers Women's Khaki Pant With Hello Smooth         Dockers   \n",
       "13555  Hue Women's Double Knit Leggings - Plus Size             HUE   \n",
       "\n",
       "       retail_price department                               sku  \\\n",
       "13553    148.000000      Women  A34BACF839B923770B2C360EEFA26748   \n",
       "13554     39.990002      Women  A5FDFA672284DA6BF4F4326E2B3698BD   \n",
       "13555     44.000000      Women  C5F441CD5F43EB2F2C024E1F8B5D00CD   \n",
       "\n",
       "       distribution_center_id  \n",
       "13553                       9  \n",
       "13554                       7  \n",
       "13555                       2  "
      ]
     },
     "execution_count": 6,
     "metadata": {},
     "output_type": "execute_result"
    }
   ],
   "source": [
    "# status_order_items가 Complete, Shipped인 컬럼만 출력\n",
    "status_purchase = df[(df['status_order_items']=='Complete') | (df['status_order_items']=='Shipped')]\n",
    "status_purchase.head(3)"
   ]
  },
  {
   "cell_type": "code",
   "execution_count": 7,
   "metadata": {},
   "outputs": [
    {
     "name": "stdout",
     "output_type": "stream",
     "text": [
      "<class 'pandas.core.frame.DataFrame'>\n",
      "Index: 100049 entries, 13553 to 181758\n",
      "Data columns (total 39 columns):\n",
      " #   Column                    Non-Null Count   Dtype  \n",
      "---  ------                    --------------   -----  \n",
      " 0   order_id                  100049 non-null  int64  \n",
      " 1   user_id                   100049 non-null  int64  \n",
      " 2   status                    100049 non-null  object \n",
      " 3   gender                    100049 non-null  object \n",
      " 4   created_at                100049 non-null  object \n",
      " 5   returned_at               0 non-null       object \n",
      " 6   shipped_at                100049 non-null  object \n",
      " 7   delivered_at              45609 non-null   object \n",
      " 8   num_of_item               100049 non-null  int64  \n",
      " 9   order_items_id            100049 non-null  int64  \n",
      " 10  product_id                100049 non-null  int64  \n",
      " 11  inventory_item_id         100049 non-null  int64  \n",
      " 12  status_order_items        100049 non-null  object \n",
      " 13  created_at_order_items    100049 non-null  object \n",
      " 14  shipped_at_order_items    100049 non-null  object \n",
      " 15  delivered_at_order_items  45609 non-null   object \n",
      " 16  returned_at_order_items   0 non-null       object \n",
      " 17  sale_price                100049 non-null  float64\n",
      " 18  first_name                100049 non-null  object \n",
      " 19  last_name                 100049 non-null  object \n",
      " 20  email                     100049 non-null  object \n",
      " 21  age                       100049 non-null  int64  \n",
      " 22  state                     100049 non-null  object \n",
      " 23  street_address            100049 non-null  object \n",
      " 24  postal_code               100049 non-null  object \n",
      " 25  city                      99089 non-null   object \n",
      " 26  country                   100049 non-null  object \n",
      " 27  latitude                  100049 non-null  float64\n",
      " 28  longitude                 100049 non-null  float64\n",
      " 29  traffic_source            100049 non-null  object \n",
      " 30  created_account_at        100049 non-null  object \n",
      " 31  cost                      100049 non-null  float64\n",
      " 32  category                  100049 non-null  object \n",
      " 33  name                      100046 non-null  object \n",
      " 34  brand                     99968 non-null   object \n",
      " 35  retail_price              100049 non-null  float64\n",
      " 36  department                100049 non-null  object \n",
      " 37  sku                       100049 non-null  object \n",
      " 38  distribution_center_id    100049 non-null  int64  \n",
      "dtypes: float64(5), int64(8), object(26)\n",
      "memory usage: 30.5+ MB\n"
     ]
    }
   ],
   "source": [
    "# status_purchase 정보\n",
    "# 100049행\n",
    "status_purchase.info()"
   ]
  },
  {
   "cell_type": "markdown",
   "metadata": {},
   "source": [
    "### 3-2) profit(순이익) 컬럼 만들기\n",
    "#### (1) sale_price(소매가), cost(도매가), retail_price(권장소매가)"
   ]
  },
  {
   "cell_type": "code",
   "execution_count": 74,
   "metadata": {},
   "outputs": [
    {
     "data": {
      "text/html": [
       "<div>\n",
       "<style scoped>\n",
       "    .dataframe tbody tr th:only-of-type {\n",
       "        vertical-align: middle;\n",
       "    }\n",
       "\n",
       "    .dataframe tbody tr th {\n",
       "        vertical-align: top;\n",
       "    }\n",
       "\n",
       "    .dataframe thead th {\n",
       "        text-align: right;\n",
       "    }\n",
       "</style>\n",
       "<table border=\"1\" class=\"dataframe\">\n",
       "  <thead>\n",
       "    <tr style=\"text-align: right;\">\n",
       "      <th></th>\n",
       "      <th>sale_price</th>\n",
       "      <th>cost</th>\n",
       "      <th>retail_price</th>\n",
       "    </tr>\n",
       "  </thead>\n",
       "  <tbody>\n",
       "    <tr>\n",
       "      <th>0</th>\n",
       "      <td>15.67</td>\n",
       "      <td>7.44325</td>\n",
       "      <td>15.67</td>\n",
       "    </tr>\n",
       "    <tr>\n",
       "      <th>1</th>\n",
       "      <td>24.99</td>\n",
       "      <td>10.47081</td>\n",
       "      <td>24.99</td>\n",
       "    </tr>\n",
       "    <tr>\n",
       "      <th>2</th>\n",
       "      <td>24.99</td>\n",
       "      <td>10.89564</td>\n",
       "      <td>24.99</td>\n",
       "    </tr>\n",
       "  </tbody>\n",
       "</table>\n",
       "</div>"
      ],
      "text/plain": [
       "   sale_price      cost  retail_price\n",
       "0       15.67   7.44325         15.67\n",
       "1       24.99  10.47081         24.99\n",
       "2       24.99  10.89564         24.99"
      ]
     },
     "execution_count": 74,
     "metadata": {},
     "output_type": "execute_result"
    }
   ],
   "source": [
    "# sale_price, cost, retail_price의 관계성\n",
    "df[['sale_price', 'cost', 'retail_price']].head(3)"
   ]
  },
  {
   "cell_type": "code",
   "execution_count": 77,
   "metadata": {},
   "outputs": [
    {
     "data": {
      "text/plain": [
       "sale_price      0\n",
       "retail_price    0\n",
       "dtype: int64"
      ]
     },
     "execution_count": 77,
     "metadata": {},
     "output_type": "execute_result"
    }
   ],
   "source": [
    "# sale_price와 retail_price는 같은 데이터\n",
    "df[df['sale_price'] != df['retail_price']][['sale_price', 'retail_price']].count()"
   ]
  },
  {
   "cell_type": "markdown",
   "metadata": {},
   "source": [
    "#### (2) status_purchase : status가 Complete, Shipped인 행만 profit 계산\n",
    "- profit = sale_price - cost  \n",
    "- 순이익 = 소매가 - 도매가"
   ]
  },
  {
   "cell_type": "code",
   "execution_count": 8,
   "metadata": {},
   "outputs": [
    {
     "data": {
      "text/html": [
       "<div>\n",
       "<style scoped>\n",
       "    .dataframe tbody tr th:only-of-type {\n",
       "        vertical-align: middle;\n",
       "    }\n",
       "\n",
       "    .dataframe tbody tr th {\n",
       "        vertical-align: top;\n",
       "    }\n",
       "\n",
       "    .dataframe thead th {\n",
       "        text-align: right;\n",
       "    }\n",
       "</style>\n",
       "<table border=\"1\" class=\"dataframe\">\n",
       "  <thead>\n",
       "    <tr style=\"text-align: right;\">\n",
       "      <th></th>\n",
       "      <th>order_id</th>\n",
       "      <th>user_id</th>\n",
       "      <th>status</th>\n",
       "      <th>gender</th>\n",
       "      <th>created_at</th>\n",
       "      <th>returned_at</th>\n",
       "      <th>shipped_at</th>\n",
       "      <th>delivered_at</th>\n",
       "      <th>num_of_item</th>\n",
       "      <th>order_items_id</th>\n",
       "      <th>product_id</th>\n",
       "      <th>inventory_item_id</th>\n",
       "      <th>status_order_items</th>\n",
       "      <th>created_at_order_items</th>\n",
       "      <th>shipped_at_order_items</th>\n",
       "      <th>delivered_at_order_items</th>\n",
       "      <th>returned_at_order_items</th>\n",
       "      <th>sale_price</th>\n",
       "      <th>first_name</th>\n",
       "      <th>last_name</th>\n",
       "      <th>email</th>\n",
       "      <th>age</th>\n",
       "      <th>state</th>\n",
       "      <th>street_address</th>\n",
       "      <th>postal_code</th>\n",
       "      <th>city</th>\n",
       "      <th>country</th>\n",
       "      <th>latitude</th>\n",
       "      <th>longitude</th>\n",
       "      <th>traffic_source</th>\n",
       "      <th>created_account_at</th>\n",
       "      <th>cost</th>\n",
       "      <th>category</th>\n",
       "      <th>name</th>\n",
       "      <th>brand</th>\n",
       "      <th>retail_price</th>\n",
       "      <th>department</th>\n",
       "      <th>sku</th>\n",
       "      <th>distribution_center_id</th>\n",
       "      <th>profit</th>\n",
       "    </tr>\n",
       "  </thead>\n",
       "  <tbody>\n",
       "    <tr>\n",
       "      <th>0</th>\n",
       "      <td>8</td>\n",
       "      <td>5</td>\n",
       "      <td>Cancelled</td>\n",
       "      <td>F</td>\n",
       "      <td>2022-10-20 10:03:00+00:00</td>\n",
       "      <td>NaN</td>\n",
       "      <td>NaN</td>\n",
       "      <td>NaN</td>\n",
       "      <td>3</td>\n",
       "      <td>13</td>\n",
       "      <td>6998</td>\n",
       "      <td>36</td>\n",
       "      <td>Cancelled</td>\n",
       "      <td>2022-10-22 07:55:58+00:00</td>\n",
       "      <td>NaN</td>\n",
       "      <td>NaN</td>\n",
       "      <td>NaN</td>\n",
       "      <td>15.67</td>\n",
       "      <td>Vanessa</td>\n",
       "      <td>Ross</td>\n",
       "      <td>vanessaross@example.net</td>\n",
       "      <td>52</td>\n",
       "      <td>Piauí</td>\n",
       "      <td>609 Susan Row</td>\n",
       "      <td>64120-000</td>\n",
       "      <td>União</td>\n",
       "      <td>Brasil</td>\n",
       "      <td>-4.594783</td>\n",
       "      <td>-42.789899</td>\n",
       "      <td>Organic</td>\n",
       "      <td>2020-10-02 10:03:00+00:00</td>\n",
       "      <td>7.44325</td>\n",
       "      <td>Shorts</td>\n",
       "      <td>Grane Supergirl Shorts</td>\n",
       "      <td>Grane</td>\n",
       "      <td>15.67</td>\n",
       "      <td>Women</td>\n",
       "      <td>3D4893419E57449FB290647149F738D4</td>\n",
       "      <td>2</td>\n",
       "      <td>NaN</td>\n",
       "    </tr>\n",
       "    <tr>\n",
       "      <th>1</th>\n",
       "      <td>8</td>\n",
       "      <td>5</td>\n",
       "      <td>Cancelled</td>\n",
       "      <td>F</td>\n",
       "      <td>2022-10-20 10:03:00+00:00</td>\n",
       "      <td>NaN</td>\n",
       "      <td>NaN</td>\n",
       "      <td>NaN</td>\n",
       "      <td>3</td>\n",
       "      <td>11</td>\n",
       "      <td>7173</td>\n",
       "      <td>29</td>\n",
       "      <td>Cancelled</td>\n",
       "      <td>2022-10-20 06:35:35+00:00</td>\n",
       "      <td>NaN</td>\n",
       "      <td>NaN</td>\n",
       "      <td>NaN</td>\n",
       "      <td>24.99</td>\n",
       "      <td>Vanessa</td>\n",
       "      <td>Ross</td>\n",
       "      <td>vanessaross@example.net</td>\n",
       "      <td>52</td>\n",
       "      <td>Piauí</td>\n",
       "      <td>609 Susan Row</td>\n",
       "      <td>64120-000</td>\n",
       "      <td>União</td>\n",
       "      <td>Brasil</td>\n",
       "      <td>-4.594783</td>\n",
       "      <td>-42.789899</td>\n",
       "      <td>Organic</td>\n",
       "      <td>2020-10-02 10:03:00+00:00</td>\n",
       "      <td>10.47081</td>\n",
       "      <td>Skirts</td>\n",
       "      <td>Woman Within Plus Size Petite flare skirt</td>\n",
       "      <td>Woman Within</td>\n",
       "      <td>24.99</td>\n",
       "      <td>Women</td>\n",
       "      <td>162D18156ABE38A3B32851B72B1D44F5</td>\n",
       "      <td>5</td>\n",
       "      <td>NaN</td>\n",
       "    </tr>\n",
       "    <tr>\n",
       "      <th>2</th>\n",
       "      <td>8</td>\n",
       "      <td>5</td>\n",
       "      <td>Cancelled</td>\n",
       "      <td>F</td>\n",
       "      <td>2022-10-20 10:03:00+00:00</td>\n",
       "      <td>NaN</td>\n",
       "      <td>NaN</td>\n",
       "      <td>NaN</td>\n",
       "      <td>3</td>\n",
       "      <td>12</td>\n",
       "      <td>1488</td>\n",
       "      <td>33</td>\n",
       "      <td>Cancelled</td>\n",
       "      <td>2022-10-24 07:19:09+00:00</td>\n",
       "      <td>NaN</td>\n",
       "      <td>NaN</td>\n",
       "      <td>NaN</td>\n",
       "      <td>24.99</td>\n",
       "      <td>Vanessa</td>\n",
       "      <td>Ross</td>\n",
       "      <td>vanessaross@example.net</td>\n",
       "      <td>52</td>\n",
       "      <td>Piauí</td>\n",
       "      <td>609 Susan Row</td>\n",
       "      <td>64120-000</td>\n",
       "      <td>União</td>\n",
       "      <td>Brasil</td>\n",
       "      <td>-4.594783</td>\n",
       "      <td>-42.789899</td>\n",
       "      <td>Organic</td>\n",
       "      <td>2020-10-02 10:03:00+00:00</td>\n",
       "      <td>10.89564</td>\n",
       "      <td>Sweaters</td>\n",
       "      <td>LookbookStore Women Coloured Zip Mouth Smile S...</td>\n",
       "      <td>LookbookStore</td>\n",
       "      <td>24.99</td>\n",
       "      <td>Women</td>\n",
       "      <td>8A146F1A3DA4700CBF03CDC55E2DAAE6</td>\n",
       "      <td>5</td>\n",
       "      <td>NaN</td>\n",
       "    </tr>\n",
       "  </tbody>\n",
       "</table>\n",
       "</div>"
      ],
      "text/plain": [
       "   order_id  user_id     status gender                 created_at returned_at  \\\n",
       "0         8        5  Cancelled      F  2022-10-20 10:03:00+00:00         NaN   \n",
       "1         8        5  Cancelled      F  2022-10-20 10:03:00+00:00         NaN   \n",
       "2         8        5  Cancelled      F  2022-10-20 10:03:00+00:00         NaN   \n",
       "\n",
       "  shipped_at delivered_at  num_of_item  order_items_id  product_id  \\\n",
       "0        NaN          NaN            3              13        6998   \n",
       "1        NaN          NaN            3              11        7173   \n",
       "2        NaN          NaN            3              12        1488   \n",
       "\n",
       "   inventory_item_id status_order_items     created_at_order_items  \\\n",
       "0                 36          Cancelled  2022-10-22 07:55:58+00:00   \n",
       "1                 29          Cancelled  2022-10-20 06:35:35+00:00   \n",
       "2                 33          Cancelled  2022-10-24 07:19:09+00:00   \n",
       "\n",
       "  shipped_at_order_items delivered_at_order_items returned_at_order_items  \\\n",
       "0                    NaN                      NaN                     NaN   \n",
       "1                    NaN                      NaN                     NaN   \n",
       "2                    NaN                      NaN                     NaN   \n",
       "\n",
       "   sale_price first_name last_name                    email  age  state  \\\n",
       "0       15.67    Vanessa      Ross  vanessaross@example.net   52  Piauí   \n",
       "1       24.99    Vanessa      Ross  vanessaross@example.net   52  Piauí   \n",
       "2       24.99    Vanessa      Ross  vanessaross@example.net   52  Piauí   \n",
       "\n",
       "  street_address postal_code   city country  latitude  longitude  \\\n",
       "0  609 Susan Row   64120-000  União  Brasil -4.594783 -42.789899   \n",
       "1  609 Susan Row   64120-000  União  Brasil -4.594783 -42.789899   \n",
       "2  609 Susan Row   64120-000  União  Brasil -4.594783 -42.789899   \n",
       "\n",
       "  traffic_source         created_account_at      cost  category  \\\n",
       "0        Organic  2020-10-02 10:03:00+00:00   7.44325    Shorts   \n",
       "1        Organic  2020-10-02 10:03:00+00:00  10.47081    Skirts   \n",
       "2        Organic  2020-10-02 10:03:00+00:00  10.89564  Sweaters   \n",
       "\n",
       "                                                name          brand  \\\n",
       "0                             Grane Supergirl Shorts          Grane   \n",
       "1          Woman Within Plus Size Petite flare skirt   Woman Within   \n",
       "2  LookbookStore Women Coloured Zip Mouth Smile S...  LookbookStore   \n",
       "\n",
       "   retail_price department                               sku  \\\n",
       "0         15.67      Women  3D4893419E57449FB290647149F738D4   \n",
       "1         24.99      Women  162D18156ABE38A3B32851B72B1D44F5   \n",
       "2         24.99      Women  8A146F1A3DA4700CBF03CDC55E2DAAE6   \n",
       "\n",
       "   distribution_center_id  profit  \n",
       "0                       2     NaN  \n",
       "1                       5     NaN  \n",
       "2                       5     NaN  "
      ]
     },
     "execution_count": 8,
     "metadata": {},
     "output_type": "execute_result"
    }
   ],
   "source": [
    "# profit 컬럼 만들기\n",
    "df = df.assign(profit = status_purchase['sale_price']-status_purchase['cost'])\n",
    "df.head(3)"
   ]
  },
  {
   "cell_type": "markdown",
   "metadata": {},
   "source": [
    "#### (4) profit 컬럼 확인"
   ]
  },
  {
   "cell_type": "code",
   "execution_count": 9,
   "metadata": {},
   "outputs": [
    {
     "data": {
      "text/plain": [
       "100049"
      ]
     },
     "execution_count": 9,
     "metadata": {},
     "output_type": "execute_result"
    }
   ],
   "source": [
    "# 100049행에 profit값이 잘 들어감\n",
    "df[df['profit'] > 0]['profit'].count()"
   ]
  },
  {
   "cell_type": "code",
   "execution_count": 10,
   "metadata": {},
   "outputs": [
    {
     "data": {
      "text/html": [
       "<div>\n",
       "<style scoped>\n",
       "    .dataframe tbody tr th:only-of-type {\n",
       "        vertical-align: middle;\n",
       "    }\n",
       "\n",
       "    .dataframe tbody tr th {\n",
       "        vertical-align: top;\n",
       "    }\n",
       "\n",
       "    .dataframe thead th {\n",
       "        text-align: right;\n",
       "    }\n",
       "</style>\n",
       "<table border=\"1\" class=\"dataframe\">\n",
       "  <thead>\n",
       "    <tr style=\"text-align: right;\">\n",
       "      <th></th>\n",
       "      <th>order_id</th>\n",
       "      <th>user_id</th>\n",
       "      <th>status</th>\n",
       "      <th>gender</th>\n",
       "      <th>created_at</th>\n",
       "      <th>returned_at</th>\n",
       "      <th>shipped_at</th>\n",
       "      <th>delivered_at</th>\n",
       "      <th>num_of_item</th>\n",
       "      <th>order_items_id</th>\n",
       "      <th>product_id</th>\n",
       "      <th>inventory_item_id</th>\n",
       "      <th>status_order_items</th>\n",
       "      <th>created_at_order_items</th>\n",
       "      <th>shipped_at_order_items</th>\n",
       "      <th>delivered_at_order_items</th>\n",
       "      <th>returned_at_order_items</th>\n",
       "      <th>sale_price</th>\n",
       "      <th>first_name</th>\n",
       "      <th>last_name</th>\n",
       "      <th>email</th>\n",
       "      <th>age</th>\n",
       "      <th>state</th>\n",
       "      <th>street_address</th>\n",
       "      <th>postal_code</th>\n",
       "      <th>city</th>\n",
       "      <th>country</th>\n",
       "      <th>latitude</th>\n",
       "      <th>longitude</th>\n",
       "      <th>traffic_source</th>\n",
       "      <th>created_account_at</th>\n",
       "      <th>cost</th>\n",
       "      <th>category</th>\n",
       "      <th>name</th>\n",
       "      <th>brand</th>\n",
       "      <th>retail_price</th>\n",
       "      <th>department</th>\n",
       "      <th>sku</th>\n",
       "      <th>distribution_center_id</th>\n",
       "      <th>profit</th>\n",
       "    </tr>\n",
       "  </thead>\n",
       "  <tbody>\n",
       "  </tbody>\n",
       "</table>\n",
       "</div>"
      ],
      "text/plain": [
       "Empty DataFrame\n",
       "Columns: [order_id, user_id, status, gender, created_at, returned_at, shipped_at, delivered_at, num_of_item, order_items_id, product_id, inventory_item_id, status_order_items, created_at_order_items, shipped_at_order_items, delivered_at_order_items, returned_at_order_items, sale_price, first_name, last_name, email, age, state, street_address, postal_code, city, country, latitude, longitude, traffic_source, created_account_at, cost, category, name, brand, retail_price, department, sku, distribution_center_id, profit]\n",
       "Index: []"
      ]
     },
     "execution_count": 10,
     "metadata": {},
     "output_type": "execute_result"
    }
   ],
   "source": [
    "# Complete\n",
    "df[(df['status_order_items']=='Complete') & (df['profit'] <= 0)]"
   ]
  },
  {
   "cell_type": "code",
   "execution_count": 11,
   "metadata": {},
   "outputs": [
    {
     "data": {
      "text/html": [
       "<div>\n",
       "<style scoped>\n",
       "    .dataframe tbody tr th:only-of-type {\n",
       "        vertical-align: middle;\n",
       "    }\n",
       "\n",
       "    .dataframe tbody tr th {\n",
       "        vertical-align: top;\n",
       "    }\n",
       "\n",
       "    .dataframe thead th {\n",
       "        text-align: right;\n",
       "    }\n",
       "</style>\n",
       "<table border=\"1\" class=\"dataframe\">\n",
       "  <thead>\n",
       "    <tr style=\"text-align: right;\">\n",
       "      <th></th>\n",
       "      <th>order_id</th>\n",
       "      <th>user_id</th>\n",
       "      <th>status</th>\n",
       "      <th>gender</th>\n",
       "      <th>created_at</th>\n",
       "      <th>returned_at</th>\n",
       "      <th>shipped_at</th>\n",
       "      <th>delivered_at</th>\n",
       "      <th>num_of_item</th>\n",
       "      <th>order_items_id</th>\n",
       "      <th>product_id</th>\n",
       "      <th>inventory_item_id</th>\n",
       "      <th>status_order_items</th>\n",
       "      <th>created_at_order_items</th>\n",
       "      <th>shipped_at_order_items</th>\n",
       "      <th>delivered_at_order_items</th>\n",
       "      <th>returned_at_order_items</th>\n",
       "      <th>sale_price</th>\n",
       "      <th>first_name</th>\n",
       "      <th>last_name</th>\n",
       "      <th>email</th>\n",
       "      <th>age</th>\n",
       "      <th>state</th>\n",
       "      <th>street_address</th>\n",
       "      <th>postal_code</th>\n",
       "      <th>city</th>\n",
       "      <th>country</th>\n",
       "      <th>latitude</th>\n",
       "      <th>longitude</th>\n",
       "      <th>traffic_source</th>\n",
       "      <th>created_account_at</th>\n",
       "      <th>cost</th>\n",
       "      <th>category</th>\n",
       "      <th>name</th>\n",
       "      <th>brand</th>\n",
       "      <th>retail_price</th>\n",
       "      <th>department</th>\n",
       "      <th>sku</th>\n",
       "      <th>distribution_center_id</th>\n",
       "      <th>profit</th>\n",
       "    </tr>\n",
       "  </thead>\n",
       "  <tbody>\n",
       "  </tbody>\n",
       "</table>\n",
       "</div>"
      ],
      "text/plain": [
       "Empty DataFrame\n",
       "Columns: [order_id, user_id, status, gender, created_at, returned_at, shipped_at, delivered_at, num_of_item, order_items_id, product_id, inventory_item_id, status_order_items, created_at_order_items, shipped_at_order_items, delivered_at_order_items, returned_at_order_items, sale_price, first_name, last_name, email, age, state, street_address, postal_code, city, country, latitude, longitude, traffic_source, created_account_at, cost, category, name, brand, retail_price, department, sku, distribution_center_id, profit]\n",
       "Index: []"
      ]
     },
     "execution_count": 11,
     "metadata": {},
     "output_type": "execute_result"
    }
   ],
   "source": [
    "# Shipped\n",
    "df[(df['status_order_items']=='Shipped') & (df['profit'] <= 0)]"
   ]
  },
  {
   "cell_type": "markdown",
   "metadata": {},
   "source": [
    "#### (5) profit : NaN값 처리"
   ]
  },
  {
   "cell_type": "code",
   "execution_count": 12,
   "metadata": {},
   "outputs": [
    {
     "data": {
      "text/plain": [
       "181759"
      ]
     },
     "execution_count": 12,
     "metadata": {},
     "output_type": "execute_result"
    }
   ],
   "source": [
    "# NaN값 카운트\n",
    "df['profit'].isna().count()"
   ]
  },
  {
   "cell_type": "code",
   "execution_count": 13,
   "metadata": {},
   "outputs": [],
   "source": [
    "# NaN_0으로 채우기\n",
    "df['profit'] = df.loc[:, 'profit'].fillna(0)"
   ]
  },
  {
   "cell_type": "code",
   "execution_count": 14,
   "metadata": {},
   "outputs": [
    {
     "data": {
      "text/html": [
       "<div>\n",
       "<style scoped>\n",
       "    .dataframe tbody tr th:only-of-type {\n",
       "        vertical-align: middle;\n",
       "    }\n",
       "\n",
       "    .dataframe tbody tr th {\n",
       "        vertical-align: top;\n",
       "    }\n",
       "\n",
       "    .dataframe thead th {\n",
       "        text-align: right;\n",
       "    }\n",
       "</style>\n",
       "<table border=\"1\" class=\"dataframe\">\n",
       "  <thead>\n",
       "    <tr style=\"text-align: right;\">\n",
       "      <th></th>\n",
       "      <th>order_id</th>\n",
       "      <th>user_id</th>\n",
       "      <th>status</th>\n",
       "      <th>gender</th>\n",
       "      <th>created_at</th>\n",
       "      <th>returned_at</th>\n",
       "      <th>shipped_at</th>\n",
       "      <th>delivered_at</th>\n",
       "      <th>num_of_item</th>\n",
       "      <th>order_items_id</th>\n",
       "      <th>product_id</th>\n",
       "      <th>inventory_item_id</th>\n",
       "      <th>status_order_items</th>\n",
       "      <th>created_at_order_items</th>\n",
       "      <th>shipped_at_order_items</th>\n",
       "      <th>delivered_at_order_items</th>\n",
       "      <th>returned_at_order_items</th>\n",
       "      <th>sale_price</th>\n",
       "      <th>first_name</th>\n",
       "      <th>last_name</th>\n",
       "      <th>email</th>\n",
       "      <th>age</th>\n",
       "      <th>state</th>\n",
       "      <th>street_address</th>\n",
       "      <th>postal_code</th>\n",
       "      <th>city</th>\n",
       "      <th>country</th>\n",
       "      <th>latitude</th>\n",
       "      <th>longitude</th>\n",
       "      <th>traffic_source</th>\n",
       "      <th>created_account_at</th>\n",
       "      <th>cost</th>\n",
       "      <th>category</th>\n",
       "      <th>name</th>\n",
       "      <th>brand</th>\n",
       "      <th>retail_price</th>\n",
       "      <th>department</th>\n",
       "      <th>sku</th>\n",
       "      <th>distribution_center_id</th>\n",
       "      <th>profit</th>\n",
       "    </tr>\n",
       "  </thead>\n",
       "  <tbody>\n",
       "    <tr>\n",
       "      <th>0</th>\n",
       "      <td>8</td>\n",
       "      <td>5</td>\n",
       "      <td>Cancelled</td>\n",
       "      <td>F</td>\n",
       "      <td>2022-10-20 10:03:00+00:00</td>\n",
       "      <td>NaN</td>\n",
       "      <td>NaN</td>\n",
       "      <td>NaN</td>\n",
       "      <td>3</td>\n",
       "      <td>13</td>\n",
       "      <td>6998</td>\n",
       "      <td>36</td>\n",
       "      <td>Cancelled</td>\n",
       "      <td>2022-10-22 07:55:58+00:00</td>\n",
       "      <td>NaN</td>\n",
       "      <td>NaN</td>\n",
       "      <td>NaN</td>\n",
       "      <td>15.67</td>\n",
       "      <td>Vanessa</td>\n",
       "      <td>Ross</td>\n",
       "      <td>vanessaross@example.net</td>\n",
       "      <td>52</td>\n",
       "      <td>Piauí</td>\n",
       "      <td>609 Susan Row</td>\n",
       "      <td>64120-000</td>\n",
       "      <td>União</td>\n",
       "      <td>Brasil</td>\n",
       "      <td>-4.594783</td>\n",
       "      <td>-42.789899</td>\n",
       "      <td>Organic</td>\n",
       "      <td>2020-10-02 10:03:00+00:00</td>\n",
       "      <td>7.44325</td>\n",
       "      <td>Shorts</td>\n",
       "      <td>Grane Supergirl Shorts</td>\n",
       "      <td>Grane</td>\n",
       "      <td>15.67</td>\n",
       "      <td>Women</td>\n",
       "      <td>3D4893419E57449FB290647149F738D4</td>\n",
       "      <td>2</td>\n",
       "      <td>0.0</td>\n",
       "    </tr>\n",
       "    <tr>\n",
       "      <th>1</th>\n",
       "      <td>8</td>\n",
       "      <td>5</td>\n",
       "      <td>Cancelled</td>\n",
       "      <td>F</td>\n",
       "      <td>2022-10-20 10:03:00+00:00</td>\n",
       "      <td>NaN</td>\n",
       "      <td>NaN</td>\n",
       "      <td>NaN</td>\n",
       "      <td>3</td>\n",
       "      <td>11</td>\n",
       "      <td>7173</td>\n",
       "      <td>29</td>\n",
       "      <td>Cancelled</td>\n",
       "      <td>2022-10-20 06:35:35+00:00</td>\n",
       "      <td>NaN</td>\n",
       "      <td>NaN</td>\n",
       "      <td>NaN</td>\n",
       "      <td>24.99</td>\n",
       "      <td>Vanessa</td>\n",
       "      <td>Ross</td>\n",
       "      <td>vanessaross@example.net</td>\n",
       "      <td>52</td>\n",
       "      <td>Piauí</td>\n",
       "      <td>609 Susan Row</td>\n",
       "      <td>64120-000</td>\n",
       "      <td>União</td>\n",
       "      <td>Brasil</td>\n",
       "      <td>-4.594783</td>\n",
       "      <td>-42.789899</td>\n",
       "      <td>Organic</td>\n",
       "      <td>2020-10-02 10:03:00+00:00</td>\n",
       "      <td>10.47081</td>\n",
       "      <td>Skirts</td>\n",
       "      <td>Woman Within Plus Size Petite flare skirt</td>\n",
       "      <td>Woman Within</td>\n",
       "      <td>24.99</td>\n",
       "      <td>Women</td>\n",
       "      <td>162D18156ABE38A3B32851B72B1D44F5</td>\n",
       "      <td>5</td>\n",
       "      <td>0.0</td>\n",
       "    </tr>\n",
       "    <tr>\n",
       "      <th>2</th>\n",
       "      <td>8</td>\n",
       "      <td>5</td>\n",
       "      <td>Cancelled</td>\n",
       "      <td>F</td>\n",
       "      <td>2022-10-20 10:03:00+00:00</td>\n",
       "      <td>NaN</td>\n",
       "      <td>NaN</td>\n",
       "      <td>NaN</td>\n",
       "      <td>3</td>\n",
       "      <td>12</td>\n",
       "      <td>1488</td>\n",
       "      <td>33</td>\n",
       "      <td>Cancelled</td>\n",
       "      <td>2022-10-24 07:19:09+00:00</td>\n",
       "      <td>NaN</td>\n",
       "      <td>NaN</td>\n",
       "      <td>NaN</td>\n",
       "      <td>24.99</td>\n",
       "      <td>Vanessa</td>\n",
       "      <td>Ross</td>\n",
       "      <td>vanessaross@example.net</td>\n",
       "      <td>52</td>\n",
       "      <td>Piauí</td>\n",
       "      <td>609 Susan Row</td>\n",
       "      <td>64120-000</td>\n",
       "      <td>União</td>\n",
       "      <td>Brasil</td>\n",
       "      <td>-4.594783</td>\n",
       "      <td>-42.789899</td>\n",
       "      <td>Organic</td>\n",
       "      <td>2020-10-02 10:03:00+00:00</td>\n",
       "      <td>10.89564</td>\n",
       "      <td>Sweaters</td>\n",
       "      <td>LookbookStore Women Coloured Zip Mouth Smile S...</td>\n",
       "      <td>LookbookStore</td>\n",
       "      <td>24.99</td>\n",
       "      <td>Women</td>\n",
       "      <td>8A146F1A3DA4700CBF03CDC55E2DAAE6</td>\n",
       "      <td>5</td>\n",
       "      <td>0.0</td>\n",
       "    </tr>\n",
       "  </tbody>\n",
       "</table>\n",
       "</div>"
      ],
      "text/plain": [
       "   order_id  user_id     status gender                 created_at returned_at  \\\n",
       "0         8        5  Cancelled      F  2022-10-20 10:03:00+00:00         NaN   \n",
       "1         8        5  Cancelled      F  2022-10-20 10:03:00+00:00         NaN   \n",
       "2         8        5  Cancelled      F  2022-10-20 10:03:00+00:00         NaN   \n",
       "\n",
       "  shipped_at delivered_at  num_of_item  order_items_id  product_id  \\\n",
       "0        NaN          NaN            3              13        6998   \n",
       "1        NaN          NaN            3              11        7173   \n",
       "2        NaN          NaN            3              12        1488   \n",
       "\n",
       "   inventory_item_id status_order_items     created_at_order_items  \\\n",
       "0                 36          Cancelled  2022-10-22 07:55:58+00:00   \n",
       "1                 29          Cancelled  2022-10-20 06:35:35+00:00   \n",
       "2                 33          Cancelled  2022-10-24 07:19:09+00:00   \n",
       "\n",
       "  shipped_at_order_items delivered_at_order_items returned_at_order_items  \\\n",
       "0                    NaN                      NaN                     NaN   \n",
       "1                    NaN                      NaN                     NaN   \n",
       "2                    NaN                      NaN                     NaN   \n",
       "\n",
       "   sale_price first_name last_name                    email  age  state  \\\n",
       "0       15.67    Vanessa      Ross  vanessaross@example.net   52  Piauí   \n",
       "1       24.99    Vanessa      Ross  vanessaross@example.net   52  Piauí   \n",
       "2       24.99    Vanessa      Ross  vanessaross@example.net   52  Piauí   \n",
       "\n",
       "  street_address postal_code   city country  latitude  longitude  \\\n",
       "0  609 Susan Row   64120-000  União  Brasil -4.594783 -42.789899   \n",
       "1  609 Susan Row   64120-000  União  Brasil -4.594783 -42.789899   \n",
       "2  609 Susan Row   64120-000  União  Brasil -4.594783 -42.789899   \n",
       "\n",
       "  traffic_source         created_account_at      cost  category  \\\n",
       "0        Organic  2020-10-02 10:03:00+00:00   7.44325    Shorts   \n",
       "1        Organic  2020-10-02 10:03:00+00:00  10.47081    Skirts   \n",
       "2        Organic  2020-10-02 10:03:00+00:00  10.89564  Sweaters   \n",
       "\n",
       "                                                name          brand  \\\n",
       "0                             Grane Supergirl Shorts          Grane   \n",
       "1          Woman Within Plus Size Petite flare skirt   Woman Within   \n",
       "2  LookbookStore Women Coloured Zip Mouth Smile S...  LookbookStore   \n",
       "\n",
       "   retail_price department                               sku  \\\n",
       "0         15.67      Women  3D4893419E57449FB290647149F738D4   \n",
       "1         24.99      Women  162D18156ABE38A3B32851B72B1D44F5   \n",
       "2         24.99      Women  8A146F1A3DA4700CBF03CDC55E2DAAE6   \n",
       "\n",
       "   distribution_center_id  profit  \n",
       "0                       2     0.0  \n",
       "1                       5     0.0  \n",
       "2                       5     0.0  "
      ]
     },
     "execution_count": 14,
     "metadata": {},
     "output_type": "execute_result"
    }
   ],
   "source": [
    "# profit이 잘 들어감\n",
    "df.head(3)"
   ]
  },
  {
   "cell_type": "markdown",
   "metadata": {},
   "source": [
    "#### (6) profit과의 상관관계\n",
    "- ...는 다들 문자형 데이터라...음.. 일단 보류"
   ]
  },
  {
   "cell_type": "markdown",
   "metadata": {},
   "source": [
    "## 4. 연도 별 매출"
   ]
  },
  {
   "cell_type": "markdown",
   "metadata": {},
   "source": [
    "- 일단 하늘님 코드+내용 꼼꼼히 훑어보기"
   ]
  },
  {
   "cell_type": "markdown",
   "metadata": {},
   "source": [
    "## 5. 지역 별 매출\n",
    "- country, state, city"
   ]
  },
  {
   "cell_type": "code",
   "execution_count": 15,
   "metadata": {},
   "outputs": [
    {
     "data": {
      "text/html": [
       "<div>\n",
       "<style scoped>\n",
       "    .dataframe tbody tr th:only-of-type {\n",
       "        vertical-align: middle;\n",
       "    }\n",
       "\n",
       "    .dataframe tbody tr th {\n",
       "        vertical-align: top;\n",
       "    }\n",
       "\n",
       "    .dataframe thead th {\n",
       "        text-align: right;\n",
       "    }\n",
       "</style>\n",
       "<table border=\"1\" class=\"dataframe\">\n",
       "  <thead>\n",
       "    <tr style=\"text-align: right;\">\n",
       "      <th></th>\n",
       "      <th>order_id</th>\n",
       "      <th>user_id</th>\n",
       "      <th>status</th>\n",
       "      <th>gender</th>\n",
       "      <th>created_at</th>\n",
       "      <th>returned_at</th>\n",
       "      <th>shipped_at</th>\n",
       "      <th>delivered_at</th>\n",
       "      <th>num_of_item</th>\n",
       "      <th>order_items_id</th>\n",
       "      <th>product_id</th>\n",
       "      <th>inventory_item_id</th>\n",
       "      <th>status_order_items</th>\n",
       "      <th>created_at_order_items</th>\n",
       "      <th>shipped_at_order_items</th>\n",
       "      <th>delivered_at_order_items</th>\n",
       "      <th>returned_at_order_items</th>\n",
       "      <th>sale_price</th>\n",
       "      <th>first_name</th>\n",
       "      <th>last_name</th>\n",
       "      <th>email</th>\n",
       "      <th>age</th>\n",
       "      <th>state</th>\n",
       "      <th>street_address</th>\n",
       "      <th>postal_code</th>\n",
       "      <th>city</th>\n",
       "      <th>country</th>\n",
       "      <th>latitude</th>\n",
       "      <th>longitude</th>\n",
       "      <th>traffic_source</th>\n",
       "      <th>created_account_at</th>\n",
       "      <th>cost</th>\n",
       "      <th>category</th>\n",
       "      <th>name</th>\n",
       "      <th>brand</th>\n",
       "      <th>retail_price</th>\n",
       "      <th>department</th>\n",
       "      <th>sku</th>\n",
       "      <th>distribution_center_id</th>\n",
       "      <th>profit</th>\n",
       "    </tr>\n",
       "  </thead>\n",
       "  <tbody>\n",
       "    <tr>\n",
       "      <th>0</th>\n",
       "      <td>8</td>\n",
       "      <td>5</td>\n",
       "      <td>Cancelled</td>\n",
       "      <td>F</td>\n",
       "      <td>2022-10-20 10:03:00+00:00</td>\n",
       "      <td>NaN</td>\n",
       "      <td>NaN</td>\n",
       "      <td>NaN</td>\n",
       "      <td>3</td>\n",
       "      <td>13</td>\n",
       "      <td>6998</td>\n",
       "      <td>36</td>\n",
       "      <td>Cancelled</td>\n",
       "      <td>2022-10-22 07:55:58+00:00</td>\n",
       "      <td>NaN</td>\n",
       "      <td>NaN</td>\n",
       "      <td>NaN</td>\n",
       "      <td>15.67</td>\n",
       "      <td>Vanessa</td>\n",
       "      <td>Ross</td>\n",
       "      <td>vanessaross@example.net</td>\n",
       "      <td>52</td>\n",
       "      <td>Piauí</td>\n",
       "      <td>609 Susan Row</td>\n",
       "      <td>64120-000</td>\n",
       "      <td>União</td>\n",
       "      <td>Brasil</td>\n",
       "      <td>-4.594783</td>\n",
       "      <td>-42.789899</td>\n",
       "      <td>Organic</td>\n",
       "      <td>2020-10-02 10:03:00+00:00</td>\n",
       "      <td>7.44325</td>\n",
       "      <td>Shorts</td>\n",
       "      <td>Grane Supergirl Shorts</td>\n",
       "      <td>Grane</td>\n",
       "      <td>15.67</td>\n",
       "      <td>Women</td>\n",
       "      <td>3D4893419E57449FB290647149F738D4</td>\n",
       "      <td>2</td>\n",
       "      <td>0.0</td>\n",
       "    </tr>\n",
       "    <tr>\n",
       "      <th>1</th>\n",
       "      <td>8</td>\n",
       "      <td>5</td>\n",
       "      <td>Cancelled</td>\n",
       "      <td>F</td>\n",
       "      <td>2022-10-20 10:03:00+00:00</td>\n",
       "      <td>NaN</td>\n",
       "      <td>NaN</td>\n",
       "      <td>NaN</td>\n",
       "      <td>3</td>\n",
       "      <td>11</td>\n",
       "      <td>7173</td>\n",
       "      <td>29</td>\n",
       "      <td>Cancelled</td>\n",
       "      <td>2022-10-20 06:35:35+00:00</td>\n",
       "      <td>NaN</td>\n",
       "      <td>NaN</td>\n",
       "      <td>NaN</td>\n",
       "      <td>24.99</td>\n",
       "      <td>Vanessa</td>\n",
       "      <td>Ross</td>\n",
       "      <td>vanessaross@example.net</td>\n",
       "      <td>52</td>\n",
       "      <td>Piauí</td>\n",
       "      <td>609 Susan Row</td>\n",
       "      <td>64120-000</td>\n",
       "      <td>União</td>\n",
       "      <td>Brasil</td>\n",
       "      <td>-4.594783</td>\n",
       "      <td>-42.789899</td>\n",
       "      <td>Organic</td>\n",
       "      <td>2020-10-02 10:03:00+00:00</td>\n",
       "      <td>10.47081</td>\n",
       "      <td>Skirts</td>\n",
       "      <td>Woman Within Plus Size Petite flare skirt</td>\n",
       "      <td>Woman Within</td>\n",
       "      <td>24.99</td>\n",
       "      <td>Women</td>\n",
       "      <td>162D18156ABE38A3B32851B72B1D44F5</td>\n",
       "      <td>5</td>\n",
       "      <td>0.0</td>\n",
       "    </tr>\n",
       "    <tr>\n",
       "      <th>2</th>\n",
       "      <td>8</td>\n",
       "      <td>5</td>\n",
       "      <td>Cancelled</td>\n",
       "      <td>F</td>\n",
       "      <td>2022-10-20 10:03:00+00:00</td>\n",
       "      <td>NaN</td>\n",
       "      <td>NaN</td>\n",
       "      <td>NaN</td>\n",
       "      <td>3</td>\n",
       "      <td>12</td>\n",
       "      <td>1488</td>\n",
       "      <td>33</td>\n",
       "      <td>Cancelled</td>\n",
       "      <td>2022-10-24 07:19:09+00:00</td>\n",
       "      <td>NaN</td>\n",
       "      <td>NaN</td>\n",
       "      <td>NaN</td>\n",
       "      <td>24.99</td>\n",
       "      <td>Vanessa</td>\n",
       "      <td>Ross</td>\n",
       "      <td>vanessaross@example.net</td>\n",
       "      <td>52</td>\n",
       "      <td>Piauí</td>\n",
       "      <td>609 Susan Row</td>\n",
       "      <td>64120-000</td>\n",
       "      <td>União</td>\n",
       "      <td>Brasil</td>\n",
       "      <td>-4.594783</td>\n",
       "      <td>-42.789899</td>\n",
       "      <td>Organic</td>\n",
       "      <td>2020-10-02 10:03:00+00:00</td>\n",
       "      <td>10.89564</td>\n",
       "      <td>Sweaters</td>\n",
       "      <td>LookbookStore Women Coloured Zip Mouth Smile S...</td>\n",
       "      <td>LookbookStore</td>\n",
       "      <td>24.99</td>\n",
       "      <td>Women</td>\n",
       "      <td>8A146F1A3DA4700CBF03CDC55E2DAAE6</td>\n",
       "      <td>5</td>\n",
       "      <td>0.0</td>\n",
       "    </tr>\n",
       "  </tbody>\n",
       "</table>\n",
       "</div>"
      ],
      "text/plain": [
       "   order_id  user_id     status gender                 created_at returned_at  \\\n",
       "0         8        5  Cancelled      F  2022-10-20 10:03:00+00:00         NaN   \n",
       "1         8        5  Cancelled      F  2022-10-20 10:03:00+00:00         NaN   \n",
       "2         8        5  Cancelled      F  2022-10-20 10:03:00+00:00         NaN   \n",
       "\n",
       "  shipped_at delivered_at  num_of_item  order_items_id  product_id  \\\n",
       "0        NaN          NaN            3              13        6998   \n",
       "1        NaN          NaN            3              11        7173   \n",
       "2        NaN          NaN            3              12        1488   \n",
       "\n",
       "   inventory_item_id status_order_items     created_at_order_items  \\\n",
       "0                 36          Cancelled  2022-10-22 07:55:58+00:00   \n",
       "1                 29          Cancelled  2022-10-20 06:35:35+00:00   \n",
       "2                 33          Cancelled  2022-10-24 07:19:09+00:00   \n",
       "\n",
       "  shipped_at_order_items delivered_at_order_items returned_at_order_items  \\\n",
       "0                    NaN                      NaN                     NaN   \n",
       "1                    NaN                      NaN                     NaN   \n",
       "2                    NaN                      NaN                     NaN   \n",
       "\n",
       "   sale_price first_name last_name                    email  age  state  \\\n",
       "0       15.67    Vanessa      Ross  vanessaross@example.net   52  Piauí   \n",
       "1       24.99    Vanessa      Ross  vanessaross@example.net   52  Piauí   \n",
       "2       24.99    Vanessa      Ross  vanessaross@example.net   52  Piauí   \n",
       "\n",
       "  street_address postal_code   city country  latitude  longitude  \\\n",
       "0  609 Susan Row   64120-000  União  Brasil -4.594783 -42.789899   \n",
       "1  609 Susan Row   64120-000  União  Brasil -4.594783 -42.789899   \n",
       "2  609 Susan Row   64120-000  União  Brasil -4.594783 -42.789899   \n",
       "\n",
       "  traffic_source         created_account_at      cost  category  \\\n",
       "0        Organic  2020-10-02 10:03:00+00:00   7.44325    Shorts   \n",
       "1        Organic  2020-10-02 10:03:00+00:00  10.47081    Skirts   \n",
       "2        Organic  2020-10-02 10:03:00+00:00  10.89564  Sweaters   \n",
       "\n",
       "                                                name          brand  \\\n",
       "0                             Grane Supergirl Shorts          Grane   \n",
       "1          Woman Within Plus Size Petite flare skirt   Woman Within   \n",
       "2  LookbookStore Women Coloured Zip Mouth Smile S...  LookbookStore   \n",
       "\n",
       "   retail_price department                               sku  \\\n",
       "0         15.67      Women  3D4893419E57449FB290647149F738D4   \n",
       "1         24.99      Women  162D18156ABE38A3B32851B72B1D44F5   \n",
       "2         24.99      Women  8A146F1A3DA4700CBF03CDC55E2DAAE6   \n",
       "\n",
       "   distribution_center_id  profit  \n",
       "0                       2     0.0  \n",
       "1                       5     0.0  \n",
       "2                       5     0.0  "
      ]
     },
     "execution_count": 15,
     "metadata": {},
     "output_type": "execute_result"
    }
   ],
   "source": [
    "df.head(3)"
   ]
  },
  {
   "cell_type": "markdown",
   "metadata": {},
   "source": [
    "### 5-1) country"
   ]
  },
  {
   "cell_type": "code",
   "execution_count": 16,
   "metadata": {},
   "outputs": [
    {
     "data": {
      "text/html": [
       "<div>\n",
       "<style scoped>\n",
       "    .dataframe tbody tr th:only-of-type {\n",
       "        vertical-align: middle;\n",
       "    }\n",
       "\n",
       "    .dataframe tbody tr th {\n",
       "        vertical-align: top;\n",
       "    }\n",
       "\n",
       "    .dataframe thead th {\n",
       "        text-align: right;\n",
       "    }\n",
       "</style>\n",
       "<table border=\"1\" class=\"dataframe\">\n",
       "  <thead>\n",
       "    <tr style=\"text-align: right;\">\n",
       "      <th></th>\n",
       "      <th>profit</th>\n",
       "    </tr>\n",
       "    <tr>\n",
       "      <th>country</th>\n",
       "      <th></th>\n",
       "    </tr>\n",
       "  </thead>\n",
       "  <tbody>\n",
       "    <tr>\n",
       "      <th>Australia</th>\n",
       "      <td>60656.70</td>\n",
       "    </tr>\n",
       "    <tr>\n",
       "      <th>Austria</th>\n",
       "      <td>42.98</td>\n",
       "    </tr>\n",
       "    <tr>\n",
       "      <th>Belgium</th>\n",
       "      <td>36909.66</td>\n",
       "    </tr>\n",
       "    <tr>\n",
       "      <th>Brasil</th>\n",
       "      <td>440695.43</td>\n",
       "    </tr>\n",
       "    <tr>\n",
       "      <th>China</th>\n",
       "      <td>1072233.51</td>\n",
       "    </tr>\n",
       "    <tr>\n",
       "      <th>Colombia</th>\n",
       "      <td>265.71</td>\n",
       "    </tr>\n",
       "    <tr>\n",
       "      <th>Deutschland</th>\n",
       "      <td>84.29</td>\n",
       "    </tr>\n",
       "    <tr>\n",
       "      <th>España</th>\n",
       "      <td>17.18</td>\n",
       "    </tr>\n",
       "    <tr>\n",
       "      <th>France</th>\n",
       "      <td>147860.70</td>\n",
       "    </tr>\n",
       "    <tr>\n",
       "      <th>Germany</th>\n",
       "      <td>126626.43</td>\n",
       "    </tr>\n",
       "    <tr>\n",
       "      <th>Japan</th>\n",
       "      <td>72819.31</td>\n",
       "    </tr>\n",
       "    <tr>\n",
       "      <th>Poland</th>\n",
       "      <td>6781.15</td>\n",
       "    </tr>\n",
       "    <tr>\n",
       "      <th>South Korea</th>\n",
       "      <td>167261.25</td>\n",
       "    </tr>\n",
       "    <tr>\n",
       "      <th>Spain</th>\n",
       "      <td>121628.74</td>\n",
       "    </tr>\n",
       "    <tr>\n",
       "      <th>United Kingdom</th>\n",
       "      <td>148864.00</td>\n",
       "    </tr>\n",
       "    <tr>\n",
       "      <th>United States</th>\n",
       "      <td>697102.00</td>\n",
       "    </tr>\n",
       "  </tbody>\n",
       "</table>\n",
       "</div>"
      ],
      "text/plain": [
       "                    profit\n",
       "country                   \n",
       "Australia         60656.70\n",
       "Austria              42.98\n",
       "Belgium           36909.66\n",
       "Brasil           440695.43\n",
       "China           1072233.51\n",
       "Colombia            265.71\n",
       "Deutschland          84.29\n",
       "España               17.18\n",
       "France           147860.70\n",
       "Germany          126626.43\n",
       "Japan             72819.31\n",
       "Poland             6781.15\n",
       "South Korea      167261.25\n",
       "Spain            121628.74\n",
       "United Kingdom   148864.00\n",
       "United States    697102.00"
      ]
     },
     "execution_count": 16,
     "metadata": {},
     "output_type": "execute_result"
    }
   ],
   "source": [
    "# 나라 별 profit 합계 구하기\n",
    "country_profit = pd.DataFrame(df.groupby('country')['profit'].sum().round(2))\n",
    "country_profit"
   ]
  },
  {
   "cell_type": "code",
   "execution_count": null,
   "metadata": {},
   "outputs": [],
   "source": [
    "#pip install --upgrade nbformat"
   ]
  },
  {
   "cell_type": "code",
   "execution_count": 17,
   "metadata": {},
   "outputs": [
    {
     "data": {
      "application/vnd.plotly.v1+json": {
       "config": {
        "plotlyServerURL": "https://plot.ly"
       },
       "data": [
        {
         "hovertemplate": "country=%{x}<br>profit=%{y}<extra></extra>",
         "legendgroup": "",
         "line": {
          "color": "#636efa",
          "dash": "solid"
         },
         "marker": {
          "symbol": "circle"
         },
         "mode": "lines",
         "name": "",
         "orientation": "v",
         "showlegend": false,
         "type": "scatter",
         "x": [
          "Australia",
          "Austria",
          "Belgium",
          "Brasil",
          "China",
          "Colombia",
          "Deutschland",
          "España",
          "France",
          "Germany",
          "Japan",
          "Poland",
          "South Korea",
          "Spain",
          "United Kingdom",
          "United States"
         ],
         "xaxis": "x",
         "y": [
          60656.7,
          42.98,
          36909.66,
          440695.43,
          1072233.51,
          265.71,
          84.29,
          17.18,
          147860.7,
          126626.43,
          72819.31,
          6781.15,
          167261.25,
          121628.74,
          148864,
          697102
         ],
         "yaxis": "y"
        }
       ],
       "layout": {
        "height": 500,
        "legend": {
         "tracegroupgap": 0
        },
        "template": {
         "data": {
          "bar": [
           {
            "error_x": {
             "color": "#2a3f5f"
            },
            "error_y": {
             "color": "#2a3f5f"
            },
            "marker": {
             "line": {
              "color": "#E5ECF6",
              "width": 0.5
             },
             "pattern": {
              "fillmode": "overlay",
              "size": 10,
              "solidity": 0.2
             }
            },
            "type": "bar"
           }
          ],
          "barpolar": [
           {
            "marker": {
             "line": {
              "color": "#E5ECF6",
              "width": 0.5
             },
             "pattern": {
              "fillmode": "overlay",
              "size": 10,
              "solidity": 0.2
             }
            },
            "type": "barpolar"
           }
          ],
          "carpet": [
           {
            "aaxis": {
             "endlinecolor": "#2a3f5f",
             "gridcolor": "white",
             "linecolor": "white",
             "minorgridcolor": "white",
             "startlinecolor": "#2a3f5f"
            },
            "baxis": {
             "endlinecolor": "#2a3f5f",
             "gridcolor": "white",
             "linecolor": "white",
             "minorgridcolor": "white",
             "startlinecolor": "#2a3f5f"
            },
            "type": "carpet"
           }
          ],
          "choropleth": [
           {
            "colorbar": {
             "outlinewidth": 0,
             "ticks": ""
            },
            "type": "choropleth"
           }
          ],
          "contour": [
           {
            "colorbar": {
             "outlinewidth": 0,
             "ticks": ""
            },
            "colorscale": [
             [
              0,
              "#0d0887"
             ],
             [
              0.1111111111111111,
              "#46039f"
             ],
             [
              0.2222222222222222,
              "#7201a8"
             ],
             [
              0.3333333333333333,
              "#9c179e"
             ],
             [
              0.4444444444444444,
              "#bd3786"
             ],
             [
              0.5555555555555556,
              "#d8576b"
             ],
             [
              0.6666666666666666,
              "#ed7953"
             ],
             [
              0.7777777777777778,
              "#fb9f3a"
             ],
             [
              0.8888888888888888,
              "#fdca26"
             ],
             [
              1,
              "#f0f921"
             ]
            ],
            "type": "contour"
           }
          ],
          "contourcarpet": [
           {
            "colorbar": {
             "outlinewidth": 0,
             "ticks": ""
            },
            "type": "contourcarpet"
           }
          ],
          "heatmap": [
           {
            "colorbar": {
             "outlinewidth": 0,
             "ticks": ""
            },
            "colorscale": [
             [
              0,
              "#0d0887"
             ],
             [
              0.1111111111111111,
              "#46039f"
             ],
             [
              0.2222222222222222,
              "#7201a8"
             ],
             [
              0.3333333333333333,
              "#9c179e"
             ],
             [
              0.4444444444444444,
              "#bd3786"
             ],
             [
              0.5555555555555556,
              "#d8576b"
             ],
             [
              0.6666666666666666,
              "#ed7953"
             ],
             [
              0.7777777777777778,
              "#fb9f3a"
             ],
             [
              0.8888888888888888,
              "#fdca26"
             ],
             [
              1,
              "#f0f921"
             ]
            ],
            "type": "heatmap"
           }
          ],
          "heatmapgl": [
           {
            "colorbar": {
             "outlinewidth": 0,
             "ticks": ""
            },
            "colorscale": [
             [
              0,
              "#0d0887"
             ],
             [
              0.1111111111111111,
              "#46039f"
             ],
             [
              0.2222222222222222,
              "#7201a8"
             ],
             [
              0.3333333333333333,
              "#9c179e"
             ],
             [
              0.4444444444444444,
              "#bd3786"
             ],
             [
              0.5555555555555556,
              "#d8576b"
             ],
             [
              0.6666666666666666,
              "#ed7953"
             ],
             [
              0.7777777777777778,
              "#fb9f3a"
             ],
             [
              0.8888888888888888,
              "#fdca26"
             ],
             [
              1,
              "#f0f921"
             ]
            ],
            "type": "heatmapgl"
           }
          ],
          "histogram": [
           {
            "marker": {
             "pattern": {
              "fillmode": "overlay",
              "size": 10,
              "solidity": 0.2
             }
            },
            "type": "histogram"
           }
          ],
          "histogram2d": [
           {
            "colorbar": {
             "outlinewidth": 0,
             "ticks": ""
            },
            "colorscale": [
             [
              0,
              "#0d0887"
             ],
             [
              0.1111111111111111,
              "#46039f"
             ],
             [
              0.2222222222222222,
              "#7201a8"
             ],
             [
              0.3333333333333333,
              "#9c179e"
             ],
             [
              0.4444444444444444,
              "#bd3786"
             ],
             [
              0.5555555555555556,
              "#d8576b"
             ],
             [
              0.6666666666666666,
              "#ed7953"
             ],
             [
              0.7777777777777778,
              "#fb9f3a"
             ],
             [
              0.8888888888888888,
              "#fdca26"
             ],
             [
              1,
              "#f0f921"
             ]
            ],
            "type": "histogram2d"
           }
          ],
          "histogram2dcontour": [
           {
            "colorbar": {
             "outlinewidth": 0,
             "ticks": ""
            },
            "colorscale": [
             [
              0,
              "#0d0887"
             ],
             [
              0.1111111111111111,
              "#46039f"
             ],
             [
              0.2222222222222222,
              "#7201a8"
             ],
             [
              0.3333333333333333,
              "#9c179e"
             ],
             [
              0.4444444444444444,
              "#bd3786"
             ],
             [
              0.5555555555555556,
              "#d8576b"
             ],
             [
              0.6666666666666666,
              "#ed7953"
             ],
             [
              0.7777777777777778,
              "#fb9f3a"
             ],
             [
              0.8888888888888888,
              "#fdca26"
             ],
             [
              1,
              "#f0f921"
             ]
            ],
            "type": "histogram2dcontour"
           }
          ],
          "mesh3d": [
           {
            "colorbar": {
             "outlinewidth": 0,
             "ticks": ""
            },
            "type": "mesh3d"
           }
          ],
          "parcoords": [
           {
            "line": {
             "colorbar": {
              "outlinewidth": 0,
              "ticks": ""
             }
            },
            "type": "parcoords"
           }
          ],
          "pie": [
           {
            "automargin": true,
            "type": "pie"
           }
          ],
          "scatter": [
           {
            "fillpattern": {
             "fillmode": "overlay",
             "size": 10,
             "solidity": 0.2
            },
            "type": "scatter"
           }
          ],
          "scatter3d": [
           {
            "line": {
             "colorbar": {
              "outlinewidth": 0,
              "ticks": ""
             }
            },
            "marker": {
             "colorbar": {
              "outlinewidth": 0,
              "ticks": ""
             }
            },
            "type": "scatter3d"
           }
          ],
          "scattercarpet": [
           {
            "marker": {
             "colorbar": {
              "outlinewidth": 0,
              "ticks": ""
             }
            },
            "type": "scattercarpet"
           }
          ],
          "scattergeo": [
           {
            "marker": {
             "colorbar": {
              "outlinewidth": 0,
              "ticks": ""
             }
            },
            "type": "scattergeo"
           }
          ],
          "scattergl": [
           {
            "marker": {
             "colorbar": {
              "outlinewidth": 0,
              "ticks": ""
             }
            },
            "type": "scattergl"
           }
          ],
          "scattermapbox": [
           {
            "marker": {
             "colorbar": {
              "outlinewidth": 0,
              "ticks": ""
             }
            },
            "type": "scattermapbox"
           }
          ],
          "scatterpolar": [
           {
            "marker": {
             "colorbar": {
              "outlinewidth": 0,
              "ticks": ""
             }
            },
            "type": "scatterpolar"
           }
          ],
          "scatterpolargl": [
           {
            "marker": {
             "colorbar": {
              "outlinewidth": 0,
              "ticks": ""
             }
            },
            "type": "scatterpolargl"
           }
          ],
          "scatterternary": [
           {
            "marker": {
             "colorbar": {
              "outlinewidth": 0,
              "ticks": ""
             }
            },
            "type": "scatterternary"
           }
          ],
          "surface": [
           {
            "colorbar": {
             "outlinewidth": 0,
             "ticks": ""
            },
            "colorscale": [
             [
              0,
              "#0d0887"
             ],
             [
              0.1111111111111111,
              "#46039f"
             ],
             [
              0.2222222222222222,
              "#7201a8"
             ],
             [
              0.3333333333333333,
              "#9c179e"
             ],
             [
              0.4444444444444444,
              "#bd3786"
             ],
             [
              0.5555555555555556,
              "#d8576b"
             ],
             [
              0.6666666666666666,
              "#ed7953"
             ],
             [
              0.7777777777777778,
              "#fb9f3a"
             ],
             [
              0.8888888888888888,
              "#fdca26"
             ],
             [
              1,
              "#f0f921"
             ]
            ],
            "type": "surface"
           }
          ],
          "table": [
           {
            "cells": {
             "fill": {
              "color": "#EBF0F8"
             },
             "line": {
              "color": "white"
             }
            },
            "header": {
             "fill": {
              "color": "#C8D4E3"
             },
             "line": {
              "color": "white"
             }
            },
            "type": "table"
           }
          ]
         },
         "layout": {
          "annotationdefaults": {
           "arrowcolor": "#2a3f5f",
           "arrowhead": 0,
           "arrowwidth": 1
          },
          "autotypenumbers": "strict",
          "coloraxis": {
           "colorbar": {
            "outlinewidth": 0,
            "ticks": ""
           }
          },
          "colorscale": {
           "diverging": [
            [
             0,
             "#8e0152"
            ],
            [
             0.1,
             "#c51b7d"
            ],
            [
             0.2,
             "#de77ae"
            ],
            [
             0.3,
             "#f1b6da"
            ],
            [
             0.4,
             "#fde0ef"
            ],
            [
             0.5,
             "#f7f7f7"
            ],
            [
             0.6,
             "#e6f5d0"
            ],
            [
             0.7,
             "#b8e186"
            ],
            [
             0.8,
             "#7fbc41"
            ],
            [
             0.9,
             "#4d9221"
            ],
            [
             1,
             "#276419"
            ]
           ],
           "sequential": [
            [
             0,
             "#0d0887"
            ],
            [
             0.1111111111111111,
             "#46039f"
            ],
            [
             0.2222222222222222,
             "#7201a8"
            ],
            [
             0.3333333333333333,
             "#9c179e"
            ],
            [
             0.4444444444444444,
             "#bd3786"
            ],
            [
             0.5555555555555556,
             "#d8576b"
            ],
            [
             0.6666666666666666,
             "#ed7953"
            ],
            [
             0.7777777777777778,
             "#fb9f3a"
            ],
            [
             0.8888888888888888,
             "#fdca26"
            ],
            [
             1,
             "#f0f921"
            ]
           ],
           "sequentialminus": [
            [
             0,
             "#0d0887"
            ],
            [
             0.1111111111111111,
             "#46039f"
            ],
            [
             0.2222222222222222,
             "#7201a8"
            ],
            [
             0.3333333333333333,
             "#9c179e"
            ],
            [
             0.4444444444444444,
             "#bd3786"
            ],
            [
             0.5555555555555556,
             "#d8576b"
            ],
            [
             0.6666666666666666,
             "#ed7953"
            ],
            [
             0.7777777777777778,
             "#fb9f3a"
            ],
            [
             0.8888888888888888,
             "#fdca26"
            ],
            [
             1,
             "#f0f921"
            ]
           ]
          },
          "colorway": [
           "#636efa",
           "#EF553B",
           "#00cc96",
           "#ab63fa",
           "#FFA15A",
           "#19d3f3",
           "#FF6692",
           "#B6E880",
           "#FF97FF",
           "#FECB52"
          ],
          "font": {
           "color": "#2a3f5f"
          },
          "geo": {
           "bgcolor": "white",
           "lakecolor": "white",
           "landcolor": "#E5ECF6",
           "showlakes": true,
           "showland": true,
           "subunitcolor": "white"
          },
          "hoverlabel": {
           "align": "left"
          },
          "hovermode": "closest",
          "mapbox": {
           "style": "light"
          },
          "paper_bgcolor": "white",
          "plot_bgcolor": "#E5ECF6",
          "polar": {
           "angularaxis": {
            "gridcolor": "white",
            "linecolor": "white",
            "ticks": ""
           },
           "bgcolor": "#E5ECF6",
           "radialaxis": {
            "gridcolor": "white",
            "linecolor": "white",
            "ticks": ""
           }
          },
          "scene": {
           "xaxis": {
            "backgroundcolor": "#E5ECF6",
            "gridcolor": "white",
            "gridwidth": 2,
            "linecolor": "white",
            "showbackground": true,
            "ticks": "",
            "zerolinecolor": "white"
           },
           "yaxis": {
            "backgroundcolor": "#E5ECF6",
            "gridcolor": "white",
            "gridwidth": 2,
            "linecolor": "white",
            "showbackground": true,
            "ticks": "",
            "zerolinecolor": "white"
           },
           "zaxis": {
            "backgroundcolor": "#E5ECF6",
            "gridcolor": "white",
            "gridwidth": 2,
            "linecolor": "white",
            "showbackground": true,
            "ticks": "",
            "zerolinecolor": "white"
           }
          },
          "shapedefaults": {
           "line": {
            "color": "#2a3f5f"
           }
          },
          "ternary": {
           "aaxis": {
            "gridcolor": "white",
            "linecolor": "white",
            "ticks": ""
           },
           "baxis": {
            "gridcolor": "white",
            "linecolor": "white",
            "ticks": ""
           },
           "bgcolor": "#E5ECF6",
           "caxis": {
            "gridcolor": "white",
            "linecolor": "white",
            "ticks": ""
           }
          },
          "title": {
           "x": 0.05
          },
          "xaxis": {
           "automargin": true,
           "gridcolor": "white",
           "linecolor": "white",
           "ticks": "",
           "title": {
            "standoff": 15
           },
           "zerolinecolor": "white",
           "zerolinewidth": 2
          },
          "yaxis": {
           "automargin": true,
           "gridcolor": "white",
           "linecolor": "white",
           "ticks": "",
           "title": {
            "standoff": 15
           },
           "zerolinecolor": "white",
           "zerolinewidth": 2
          }
         }
        },
        "title": {
         "text": "나라 별 매출"
        },
        "width": 1200,
        "xaxis": {
         "anchor": "y",
         "domain": [
          0,
          1
         ],
         "title": {
          "text": "country"
         }
        },
        "yaxis": {
         "anchor": "x",
         "domain": [
          0,
          1
         ],
         "title": {
          "text": "profit"
         }
        }
       }
      }
     },
     "metadata": {},
     "output_type": "display_data"
    }
   ],
   "source": [
    "import plotly.express as px\n",
    "\n",
    "fig = px.line(country_profit, x=country_profit.index, y=country_profit['profit'], width=1200, height=500, title='나라 별 매출')\n",
    "fig.show()"
   ]
  },
  {
   "cell_type": "markdown",
   "metadata": {},
   "source": [
    "### 5-3) state 별 매출"
   ]
  },
  {
   "cell_type": "code",
   "execution_count": null,
   "metadata": {},
   "outputs": [],
   "source": [
    "df['state'].unique()"
   ]
  },
  {
   "cell_type": "code",
   "execution_count": 36,
   "metadata": {},
   "outputs": [
    {
     "data": {
      "text/plain": [
       "228"
      ]
     },
     "execution_count": 36,
     "metadata": {},
     "output_type": "execute_result"
    }
   ],
   "source": [
    "df['state'].nunique()"
   ]
  },
  {
   "cell_type": "code",
   "execution_count": 39,
   "metadata": {},
   "outputs": [
    {
     "data": {
      "text/html": [
       "<div>\n",
       "<style scoped>\n",
       "    .dataframe tbody tr th:only-of-type {\n",
       "        vertical-align: middle;\n",
       "    }\n",
       "\n",
       "    .dataframe tbody tr th {\n",
       "        vertical-align: top;\n",
       "    }\n",
       "\n",
       "    .dataframe thead th {\n",
       "        text-align: right;\n",
       "    }\n",
       "</style>\n",
       "<table border=\"1\" class=\"dataframe\">\n",
       "  <thead>\n",
       "    <tr style=\"text-align: right;\">\n",
       "      <th></th>\n",
       "      <th>country</th>\n",
       "      <th>state</th>\n",
       "      <th>profit</th>\n",
       "    </tr>\n",
       "  </thead>\n",
       "  <tbody>\n",
       "    <tr>\n",
       "      <th>0</th>\n",
       "      <td>Australia</td>\n",
       "      <td>Australian Capital Territory</td>\n",
       "      <td>1198.71</td>\n",
       "    </tr>\n",
       "    <tr>\n",
       "      <th>1</th>\n",
       "      <td>Australia</td>\n",
       "      <td>New South Wales</td>\n",
       "      <td>20806.15</td>\n",
       "    </tr>\n",
       "    <tr>\n",
       "      <th>2</th>\n",
       "      <td>Australia</td>\n",
       "      <td>Northern Territory</td>\n",
       "      <td>446.17</td>\n",
       "    </tr>\n",
       "    <tr>\n",
       "      <th>3</th>\n",
       "      <td>Australia</td>\n",
       "      <td>Queensland</td>\n",
       "      <td>11026.26</td>\n",
       "    </tr>\n",
       "    <tr>\n",
       "      <th>4</th>\n",
       "      <td>Australia</td>\n",
       "      <td>South Australia</td>\n",
       "      <td>3372.87</td>\n",
       "    </tr>\n",
       "    <tr>\n",
       "      <th>...</th>\n",
       "      <td>...</td>\n",
       "      <td>...</td>\n",
       "      <td>...</td>\n",
       "    </tr>\n",
       "    <tr>\n",
       "      <th>227</th>\n",
       "      <td>United States</td>\n",
       "      <td>Virginia</td>\n",
       "      <td>19261.06</td>\n",
       "    </tr>\n",
       "    <tr>\n",
       "      <th>228</th>\n",
       "      <td>United States</td>\n",
       "      <td>Washington</td>\n",
       "      <td>19202.33</td>\n",
       "    </tr>\n",
       "    <tr>\n",
       "      <th>229</th>\n",
       "      <td>United States</td>\n",
       "      <td>West Virginia</td>\n",
       "      <td>495.85</td>\n",
       "    </tr>\n",
       "    <tr>\n",
       "      <th>230</th>\n",
       "      <td>United States</td>\n",
       "      <td>Wisconsin</td>\n",
       "      <td>7788.17</td>\n",
       "    </tr>\n",
       "    <tr>\n",
       "      <th>231</th>\n",
       "      <td>United States</td>\n",
       "      <td>Wyoming</td>\n",
       "      <td>693.42</td>\n",
       "    </tr>\n",
       "  </tbody>\n",
       "</table>\n",
       "<p>232 rows × 3 columns</p>\n",
       "</div>"
      ],
      "text/plain": [
       "           country                         state    profit\n",
       "0        Australia  Australian Capital Territory   1198.71\n",
       "1        Australia               New South Wales  20806.15\n",
       "2        Australia            Northern Territory    446.17\n",
       "3        Australia                    Queensland  11026.26\n",
       "4        Australia               South Australia   3372.87\n",
       "..             ...                           ...       ...\n",
       "227  United States                      Virginia  19261.06\n",
       "228  United States                    Washington  19202.33\n",
       "229  United States                 West Virginia    495.85\n",
       "230  United States                     Wisconsin   7788.17\n",
       "231  United States                       Wyoming    693.42\n",
       "\n",
       "[232 rows x 3 columns]"
      ]
     },
     "execution_count": 39,
     "metadata": {},
     "output_type": "execute_result"
    }
   ],
   "source": [
    "# 나라 별, 주 별 profit 합계 구하기\n",
    "#pd.set_option('display.max_rows', 30)\n",
    "state_profit = pd.DataFrame(df.groupby(['country', 'state'])['profit'].sum().round(2)).reset_index()\n",
    "state_profit"
   ]
  },
  {
   "cell_type": "code",
   "execution_count": 41,
   "metadata": {},
   "outputs": [
    {
     "data": {
      "text/plain": [
       "country\n",
       "Australia          8\n",
       "Austria            1\n",
       "Belgium            3\n",
       "Brasil            27\n",
       "China             32\n",
       "Colombia           1\n",
       "Deutschland        1\n",
       "España             1\n",
       "France            13\n",
       "Germany           16\n",
       "Japan             35\n",
       "Poland             3\n",
       "South Korea       16\n",
       "Spain             20\n",
       "United Kingdom     4\n",
       "United States     51\n",
       "Name: state, dtype: int64"
      ]
     },
     "execution_count": 41,
     "metadata": {},
     "output_type": "execute_result"
    }
   ],
   "source": [
    "# 각 나라에 어떤 주가 있는지 확인  (도시들이 이렇게까지 많았나..?)\n",
    "#pd.set_option('display.max_rows', None)\n",
    "state_profit.groupby('country')['state'].count()"
   ]
  },
  {
   "cell_type": "markdown",
   "metadata": {},
   "source": [
    "### 5-4) city 별 매출"
   ]
  },
  {
   "cell_type": "code",
   "execution_count": 21,
   "metadata": {},
   "outputs": [
    {
     "data": {
      "text/plain": [
       "array(['União', 'Cheongju City', 'New York', ..., 'Floresville',\n",
       "       'Campredó', 'Elsdorf'], dtype=object)"
      ]
     },
     "execution_count": 21,
     "metadata": {},
     "output_type": "execute_result"
    }
   ],
   "source": [
    "df['city'].unique()"
   ]
  },
  {
   "cell_type": "code",
   "execution_count": 31,
   "metadata": {},
   "outputs": [
    {
     "data": {
      "text/plain": [
       "7586"
      ]
     },
     "execution_count": 31,
     "metadata": {},
     "output_type": "execute_result"
    }
   ],
   "source": [
    "df['city'].nunique()"
   ]
  },
  {
   "cell_type": "code",
   "execution_count": 40,
   "metadata": {},
   "outputs": [
    {
     "data": {
      "text/html": [
       "<div>\n",
       "<style scoped>\n",
       "    .dataframe tbody tr th:only-of-type {\n",
       "        vertical-align: middle;\n",
       "    }\n",
       "\n",
       "    .dataframe tbody tr th {\n",
       "        vertical-align: top;\n",
       "    }\n",
       "\n",
       "    .dataframe thead th {\n",
       "        text-align: right;\n",
       "    }\n",
       "</style>\n",
       "<table border=\"1\" class=\"dataframe\">\n",
       "  <thead>\n",
       "    <tr style=\"text-align: right;\">\n",
       "      <th></th>\n",
       "      <th>country</th>\n",
       "      <th>state</th>\n",
       "      <th>city</th>\n",
       "      <th>profit</th>\n",
       "    </tr>\n",
       "  </thead>\n",
       "  <tbody>\n",
       "    <tr>\n",
       "      <th>0</th>\n",
       "      <td>Australia</td>\n",
       "      <td>Australian Capital Territory</td>\n",
       "      <td>Canberra</td>\n",
       "      <td>1198.71</td>\n",
       "    </tr>\n",
       "    <tr>\n",
       "      <th>1</th>\n",
       "      <td>Australia</td>\n",
       "      <td>New South Wales</td>\n",
       "      <td>Auburn</td>\n",
       "      <td>416.85</td>\n",
       "    </tr>\n",
       "    <tr>\n",
       "      <th>2</th>\n",
       "      <td>Australia</td>\n",
       "      <td>New South Wales</td>\n",
       "      <td>Baerami Creek</td>\n",
       "      <td>149.29</td>\n",
       "    </tr>\n",
       "    <tr>\n",
       "      <th>3</th>\n",
       "      <td>Australia</td>\n",
       "      <td>New South Wales</td>\n",
       "      <td>Barrington Tops</td>\n",
       "      <td>0.00</td>\n",
       "    </tr>\n",
       "    <tr>\n",
       "      <th>4</th>\n",
       "      <td>Australia</td>\n",
       "      <td>New South Wales</td>\n",
       "      <td>Berkeley</td>\n",
       "      <td>23.10</td>\n",
       "    </tr>\n",
       "    <tr>\n",
       "      <th>...</th>\n",
       "      <td>...</td>\n",
       "      <td>...</td>\n",
       "      <td>...</td>\n",
       "      <td>...</td>\n",
       "    </tr>\n",
       "    <tr>\n",
       "      <th>8860</th>\n",
       "      <td>United States</td>\n",
       "      <td>Wyoming</td>\n",
       "      <td>Cheyenne</td>\n",
       "      <td>0.00</td>\n",
       "    </tr>\n",
       "    <tr>\n",
       "      <th>8861</th>\n",
       "      <td>United States</td>\n",
       "      <td>Wyoming</td>\n",
       "      <td>North Rock Springs</td>\n",
       "      <td>25.65</td>\n",
       "    </tr>\n",
       "    <tr>\n",
       "      <th>8862</th>\n",
       "      <td>United States</td>\n",
       "      <td>Wyoming</td>\n",
       "      <td>Ranchettes</td>\n",
       "      <td>192.09</td>\n",
       "    </tr>\n",
       "    <tr>\n",
       "      <th>8863</th>\n",
       "      <td>United States</td>\n",
       "      <td>Wyoming</td>\n",
       "      <td>Sheridan</td>\n",
       "      <td>9.91</td>\n",
       "    </tr>\n",
       "    <tr>\n",
       "      <th>8864</th>\n",
       "      <td>United States</td>\n",
       "      <td>Wyoming</td>\n",
       "      <td>Vista West</td>\n",
       "      <td>169.29</td>\n",
       "    </tr>\n",
       "  </tbody>\n",
       "</table>\n",
       "<p>8865 rows × 4 columns</p>\n",
       "</div>"
      ],
      "text/plain": [
       "            country                         state                city   profit\n",
       "0         Australia  Australian Capital Territory            Canberra  1198.71\n",
       "1         Australia               New South Wales              Auburn   416.85\n",
       "2         Australia               New South Wales       Baerami Creek   149.29\n",
       "3         Australia               New South Wales     Barrington Tops     0.00\n",
       "4         Australia               New South Wales            Berkeley    23.10\n",
       "...             ...                           ...                 ...      ...\n",
       "8860  United States                       Wyoming            Cheyenne     0.00\n",
       "8861  United States                       Wyoming  North Rock Springs    25.65\n",
       "8862  United States                       Wyoming          Ranchettes   192.09\n",
       "8863  United States                       Wyoming            Sheridan     9.91\n",
       "8864  United States                       Wyoming          Vista West   169.29\n",
       "\n",
       "[8865 rows x 4 columns]"
      ]
     },
     "execution_count": 40,
     "metadata": {},
     "output_type": "execute_result"
    }
   ],
   "source": [
    "# 나라 별, 주 별, 도시 별 profit 합계 구하기\n",
    "city_profit = pd.DataFrame(df.groupby(['country', 'state', 'city'])['profit'].sum().round(2)).reset_index()\n",
    "city_profit"
   ]
  },
  {
   "cell_type": "code",
   "execution_count": 42,
   "metadata": {},
   "outputs": [
    {
     "data": {
      "text/plain": [
       "country        state                       \n",
       "Australia      Australian Capital Territory      1\n",
       "               New South Wales                 115\n",
       "               Northern Territory               11\n",
       "               Queensland                       84\n",
       "               South Australia                  31\n",
       "                                              ... \n",
       "United States  Virginia                         85\n",
       "               Washington                       86\n",
       "               West Virginia                     9\n",
       "               Wisconsin                        44\n",
       "               Wyoming                           7\n",
       "Name: city, Length: 232, dtype: int64"
      ]
     },
     "execution_count": 42,
     "metadata": {},
     "output_type": "execute_result"
    }
   ],
   "source": [
    "# 각 나라, 주에 어떤 도시가 있는지 확인  (도시들이 이렇게까지 많았나..?)\n",
    "#pd.set_option('display.max_rows', None)\n",
    "city_profit.groupby(['country', 'state'])['city'].count()"
   ]
  },
  {
   "cell_type": "markdown",
   "metadata": {},
   "source": [
    "## 6. 상품 카테고리 별 매출\n",
    "- category, name, brand"
   ]
  }
 ],
 "metadata": {
  "kernelspec": {
   "display_name": "Python 3",
   "language": "python",
   "name": "python3"
  },
  "language_info": {
   "codemirror_mode": {
    "name": "ipython",
    "version": 3
   },
   "file_extension": ".py",
   "mimetype": "text/x-python",
   "name": "python",
   "nbconvert_exporter": "python",
   "pygments_lexer": "ipython3",
   "version": "3.11.3"
  }
 },
 "nbformat": 4,
 "nbformat_minor": 2
}
