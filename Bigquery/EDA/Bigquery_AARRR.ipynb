{
 "cells": [
  {
   "cell_type": "code",
   "execution_count": 1,
   "metadata": {},
   "outputs": [],
   "source": [
    "import pandas as pd\n",
    "import numpy as np\n",
    "\n",
    "import matplotlib.pyplot as plt\n",
    "import seaborn as sns\n",
    "import plotly.express as px"
   ]
  },
  {
   "cell_type": "code",
   "execution_count": 2,
   "metadata": {},
   "outputs": [],
   "source": [
    "pd.set_option('display.max_columns', None)"
   ]
  },
  {
   "cell_type": "code",
   "execution_count": 3,
   "metadata": {},
   "outputs": [
    {
     "name": "stderr",
     "output_type": "stream",
     "text": [
      "/var/folders/1y/dmb1rjqn7y7ft_t08s501gxm0000gn/T/ipykernel_10158/96766544.py:1: DtypeWarning: Columns (2,3,4,6,7,8,9,10,11,14,23) have mixed types. Specify dtype option on import or set low_memory=False.\n",
      "  user_event = pd.read_csv('/Users/t2023-m0017/Desktop/실습/프로젝트/최종프로젝트/user_event.csv',parse_dates=['created_at_x','created_at_y'])\n"
     ]
    }
   ],
   "source": [
    "user_event = pd.read_csv('/Users/t2023-m0017/Desktop/실습/프로젝트/최종프로젝트/user_event.csv',parse_dates=['created_at_x','created_at_y'])\n",
    "events = pd.read_csv( '/Users/t2023-m0017/Desktop/실습/프로젝트/최종프로젝트/3차/events.csv',parse_dates=['created_at'])\n",
    "users = pd.read_csv('/Users/t2023-m0017/Desktop/실습/프로젝트/최종프로젝트/3차/users.csv')\n",
    "order_items = pd.read_csv( '/Users/t2023-m0017/Desktop/실습/프로젝트/최종프로젝트/3차/order_items.csv')\n",
    "products = pd.read_csv('/Users/t2023-m0017/Desktop/실습/프로젝트/최종프로젝트/3차/products.csv')"
   ]
  },
  {
   "cell_type": "code",
   "execution_count": 4,
   "metadata": {},
   "outputs": [],
   "source": [
    "buy_user = events[events['event_type']=='purchase']"
   ]
  },
  {
   "cell_type": "code",
   "execution_count": 5,
   "metadata": {},
   "outputs": [
    {
     "data": {
      "text/html": [
       "<div>\n",
       "<style scoped>\n",
       "    .dataframe tbody tr th:only-of-type {\n",
       "        vertical-align: middle;\n",
       "    }\n",
       "\n",
       "    .dataframe tbody tr th {\n",
       "        vertical-align: top;\n",
       "    }\n",
       "\n",
       "    .dataframe thead th {\n",
       "        text-align: right;\n",
       "    }\n",
       "</style>\n",
       "<table border=\"1\" class=\"dataframe\">\n",
       "  <thead>\n",
       "    <tr style=\"text-align: right;\">\n",
       "      <th></th>\n",
       "      <th>id</th>\n",
       "      <th>user_id</th>\n",
       "      <th>sequence_number</th>\n",
       "      <th>session_id</th>\n",
       "      <th>created_at</th>\n",
       "      <th>ip_address</th>\n",
       "      <th>city</th>\n",
       "      <th>state</th>\n",
       "      <th>postal_code</th>\n",
       "      <th>browser</th>\n",
       "      <th>traffic_source</th>\n",
       "      <th>uri</th>\n",
       "      <th>event_type</th>\n",
       "    </tr>\n",
       "  </thead>\n",
       "  <tbody>\n",
       "    <tr>\n",
       "      <th>23067</th>\n",
       "      <td>808414</td>\n",
       "      <td>61899.0</td>\n",
       "      <td>13</td>\n",
       "      <td>1daacb69-a4b6-4ef6-8686-bc62f86e87d5</td>\n",
       "      <td>2023-02-25 01:33:38+00:00</td>\n",
       "      <td>191.109.103.15</td>\n",
       "      <td>São Paulo</td>\n",
       "      <td>São Paulo</td>\n",
       "      <td>02220-000</td>\n",
       "      <td>Chrome</td>\n",
       "      <td>Facebook</td>\n",
       "      <td>/purchase</td>\n",
       "      <td>purchase</td>\n",
       "    </tr>\n",
       "  </tbody>\n",
       "</table>\n",
       "</div>"
      ],
      "text/plain": [
       "           id  user_id  sequence_number                            session_id  \\\n",
       "23067  808414  61899.0               13  1daacb69-a4b6-4ef6-8686-bc62f86e87d5   \n",
       "\n",
       "                     created_at      ip_address       city      state  \\\n",
       "23067 2023-02-25 01:33:38+00:00  191.109.103.15  São Paulo  São Paulo   \n",
       "\n",
       "      postal_code browser traffic_source        uri event_type  \n",
       "23067   02220-000  Chrome       Facebook  /purchase   purchase  "
      ]
     },
     "execution_count": 5,
     "metadata": {},
     "output_type": "execute_result"
    }
   ],
   "source": [
    "buy_user.head(1)"
   ]
  },
  {
   "cell_type": "code",
   "execution_count": 6,
   "metadata": {},
   "outputs": [
    {
     "name": "stderr",
     "output_type": "stream",
     "text": [
      "/var/folders/1y/dmb1rjqn7y7ft_t08s501gxm0000gn/T/ipykernel_10158/2812700201.py:2: SettingWithCopyWarning: \n",
      "A value is trying to be set on a copy of a slice from a DataFrame.\n",
      "Try using .loc[row_indexer,col_indexer] = value instead\n",
      "\n",
      "See the caveats in the documentation: https://pandas.pydata.org/pandas-docs/stable/user_guide/indexing.html#returning-a-view-versus-a-copy\n",
      "  buy_user['created_at'] = buy_user['created_at'].dt.normalize()\n",
      "/var/folders/1y/dmb1rjqn7y7ft_t08s501gxm0000gn/T/ipykernel_10158/2812700201.py:3: SettingWithCopyWarning: \n",
      "A value is trying to be set on a copy of a slice from a DataFrame.\n",
      "Try using .loc[row_indexer,col_indexer] = value instead\n",
      "\n",
      "See the caveats in the documentation: https://pandas.pydata.org/pandas-docs/stable/user_guide/indexing.html#returning-a-view-versus-a-copy\n",
      "  buy_user['year'] = buy_user['created_at'].dt.year\n",
      "/var/folders/1y/dmb1rjqn7y7ft_t08s501gxm0000gn/T/ipykernel_10158/2812700201.py:4: SettingWithCopyWarning: \n",
      "A value is trying to be set on a copy of a slice from a DataFrame.\n",
      "Try using .loc[row_indexer,col_indexer] = value instead\n",
      "\n",
      "See the caveats in the documentation: https://pandas.pydata.org/pandas-docs/stable/user_guide/indexing.html#returning-a-view-versus-a-copy\n",
      "  buy_user['month'] = buy_user['created_at'].dt.month\n"
     ]
    }
   ],
   "source": [
    "import datetime \n",
    "buy_user['created_at'] = buy_user['created_at'].dt.normalize()\n",
    "buy_user['year'] = buy_user['created_at'].dt.year\n",
    "buy_user['month'] = buy_user['created_at'].dt.month\n"
   ]
  },
  {
   "cell_type": "code",
   "execution_count": 7,
   "metadata": {},
   "outputs": [],
   "source": [
    "total_user = events.copy()"
   ]
  },
  {
   "cell_type": "code",
   "execution_count": 8,
   "metadata": {},
   "outputs": [],
   "source": [
    "total_user['created_at'] = total_user['created_at'].dt.normalize()\n",
    "total_user['year'] = total_user['created_at'].dt.year\n",
    "total_user['month'] = total_user['created_at'].dt.month"
   ]
  },
  {
   "cell_type": "code",
   "execution_count": 9,
   "metadata": {},
   "outputs": [],
   "source": [
    "# 재주문한 사람도 있으니까 userid를 카운트\n",
    "buy_traffic_cnt = buy_user.groupby(['year','month','traffic_source']).agg({'user_id':'count'}).reset_index()\n",
    "# 월별 총 마케팅 비용을 구하기 위해 트래픽이 있는 모든 session_id를 nunique\n",
    "total_traffic_cnt = total_user.groupby(['year','month','traffic_source']).agg({'session_id':'nunique'}).reset_index()"
   ]
  },
  {
   "cell_type": "code",
   "execution_count": 56,
   "metadata": {},
   "outputs": [
    {
     "data": {
      "text/html": [
       "<div>\n",
       "<style scoped>\n",
       "    .dataframe tbody tr th:only-of-type {\n",
       "        vertical-align: middle;\n",
       "    }\n",
       "\n",
       "    .dataframe tbody tr th {\n",
       "        vertical-align: top;\n",
       "    }\n",
       "\n",
       "    .dataframe thead th {\n",
       "        text-align: right;\n",
       "    }\n",
       "</style>\n",
       "<table border=\"1\" class=\"dataframe\">\n",
       "  <thead>\n",
       "    <tr style=\"text-align: right;\">\n",
       "      <th></th>\n",
       "      <th>year</th>\n",
       "      <th>month</th>\n",
       "      <th>traffic_source</th>\n",
       "      <th>user_id</th>\n",
       "    </tr>\n",
       "  </thead>\n",
       "  <tbody>\n",
       "    <tr>\n",
       "      <th>0</th>\n",
       "      <td>2019</td>\n",
       "      <td>1</td>\n",
       "      <td>Adwords</td>\n",
       "      <td>11</td>\n",
       "    </tr>\n",
       "    <tr>\n",
       "      <th>1</th>\n",
       "      <td>2019</td>\n",
       "      <td>1</td>\n",
       "      <td>Email</td>\n",
       "      <td>12</td>\n",
       "    </tr>\n",
       "    <tr>\n",
       "      <th>2</th>\n",
       "      <td>2019</td>\n",
       "      <td>1</td>\n",
       "      <td>Facebook</td>\n",
       "      <td>2</td>\n",
       "    </tr>\n",
       "    <tr>\n",
       "      <th>3</th>\n",
       "      <td>2019</td>\n",
       "      <td>1</td>\n",
       "      <td>Organic</td>\n",
       "      <td>1</td>\n",
       "    </tr>\n",
       "    <tr>\n",
       "      <th>4</th>\n",
       "      <td>2019</td>\n",
       "      <td>1</td>\n",
       "      <td>YouTube</td>\n",
       "      <td>6</td>\n",
       "    </tr>\n",
       "    <tr>\n",
       "      <th>...</th>\n",
       "      <td>...</td>\n",
       "      <td>...</td>\n",
       "      <td>...</td>\n",
       "      <td>...</td>\n",
       "    </tr>\n",
       "    <tr>\n",
       "      <th>300</th>\n",
       "      <td>2024</td>\n",
       "      <td>1</td>\n",
       "      <td>Adwords</td>\n",
       "      <td>4072</td>\n",
       "    </tr>\n",
       "    <tr>\n",
       "      <th>301</th>\n",
       "      <td>2024</td>\n",
       "      <td>1</td>\n",
       "      <td>Email</td>\n",
       "      <td>6196</td>\n",
       "    </tr>\n",
       "    <tr>\n",
       "      <th>302</th>\n",
       "      <td>2024</td>\n",
       "      <td>1</td>\n",
       "      <td>Facebook</td>\n",
       "      <td>1382</td>\n",
       "    </tr>\n",
       "    <tr>\n",
       "      <th>303</th>\n",
       "      <td>2024</td>\n",
       "      <td>1</td>\n",
       "      <td>Organic</td>\n",
       "      <td>687</td>\n",
       "    </tr>\n",
       "    <tr>\n",
       "      <th>304</th>\n",
       "      <td>2024</td>\n",
       "      <td>1</td>\n",
       "      <td>YouTube</td>\n",
       "      <td>1334</td>\n",
       "    </tr>\n",
       "  </tbody>\n",
       "</table>\n",
       "<p>305 rows × 4 columns</p>\n",
       "</div>"
      ],
      "text/plain": [
       "     year  month traffic_source  user_id\n",
       "0    2019      1        Adwords       11\n",
       "1    2019      1          Email       12\n",
       "2    2019      1       Facebook        2\n",
       "3    2019      1        Organic        1\n",
       "4    2019      1        YouTube        6\n",
       "..    ...    ...            ...      ...\n",
       "300  2024      1        Adwords     4072\n",
       "301  2024      1          Email     6196\n",
       "302  2024      1       Facebook     1382\n",
       "303  2024      1        Organic      687\n",
       "304  2024      1        YouTube     1334\n",
       "\n",
       "[305 rows x 4 columns]"
      ]
     },
     "execution_count": 56,
     "metadata": {},
     "output_type": "execute_result"
    }
   ],
   "source": [
    "buy_traffic_cnt"
   ]
  },
  {
   "cell_type": "code",
   "execution_count": 10,
   "metadata": {},
   "outputs": [],
   "source": [
    "# adwords\n",
    "cost_adwords = total_traffic_cnt[total_traffic_cnt['traffic_source'] == \"Adwords\"].reset_index(drop=True)\n",
    "cost_adwords.rename(columns={'session_id':'visits'},inplace = True)\n",
    "cost_adwords['cost'] = cost_adwords['visits']*2.25\n",
    "# 월 구매건수 구하기\n",
    "buy_adwords = buy_traffic_cnt[buy_traffic_cnt['traffic_source']=='Adwords'].reset_index(drop=True)\n",
    "buy_adwords.rename(columns={'user_id':'buyer'},inplace=True)\n",
    "#cac\n",
    "cost_adwords['cac'] = cost_adwords ['cost']/buy_adwords['buyer']"
   ]
  },
  {
   "cell_type": "code",
   "execution_count": 57,
   "metadata": {},
   "outputs": [
    {
     "ename": "KeyError",
     "evalue": "'cac'",
     "output_type": "error",
     "traceback": [
      "\u001b[0;31m---------------------------------------------------------------------------\u001b[0m",
      "\u001b[0;31mKeyError\u001b[0m                                  Traceback (most recent call last)",
      "File \u001b[0;32m/Library/Frameworks/Python.framework/Versions/3.8/lib/python3.8/site-packages/pandas/core/indexes/base.py:3802\u001b[0m, in \u001b[0;36mIndex.get_loc\u001b[0;34m(self, key, method, tolerance)\u001b[0m\n\u001b[1;32m   3801\u001b[0m \u001b[38;5;28;01mtry\u001b[39;00m:\n\u001b[0;32m-> 3802\u001b[0m     \u001b[38;5;28;01mreturn\u001b[39;00m \u001b[38;5;28;43mself\u001b[39;49m\u001b[38;5;241;43m.\u001b[39;49m\u001b[43m_engine\u001b[49m\u001b[38;5;241;43m.\u001b[39;49m\u001b[43mget_loc\u001b[49m\u001b[43m(\u001b[49m\u001b[43mcasted_key\u001b[49m\u001b[43m)\u001b[49m\n\u001b[1;32m   3803\u001b[0m \u001b[38;5;28;01mexcept\u001b[39;00m \u001b[38;5;167;01mKeyError\u001b[39;00m \u001b[38;5;28;01mas\u001b[39;00m err:\n",
      "File \u001b[0;32m/Library/Frameworks/Python.framework/Versions/3.8/lib/python3.8/site-packages/pandas/_libs/index.pyx:138\u001b[0m, in \u001b[0;36mpandas._libs.index.IndexEngine.get_loc\u001b[0;34m()\u001b[0m\n",
      "File \u001b[0;32m/Library/Frameworks/Python.framework/Versions/3.8/lib/python3.8/site-packages/pandas/_libs/index.pyx:165\u001b[0m, in \u001b[0;36mpandas._libs.index.IndexEngine.get_loc\u001b[0;34m()\u001b[0m\n",
      "File \u001b[0;32mpandas/_libs/hashtable_class_helper.pxi:5745\u001b[0m, in \u001b[0;36mpandas._libs.hashtable.PyObjectHashTable.get_item\u001b[0;34m()\u001b[0m\n",
      "File \u001b[0;32mpandas/_libs/hashtable_class_helper.pxi:5753\u001b[0m, in \u001b[0;36mpandas._libs.hashtable.PyObjectHashTable.get_item\u001b[0;34m()\u001b[0m\n",
      "\u001b[0;31mKeyError\u001b[0m: 'cac'",
      "\nThe above exception was the direct cause of the following exception:\n",
      "\u001b[0;31mKeyError\u001b[0m                                  Traceback (most recent call last)",
      "Cell \u001b[0;32mIn[57], line 1\u001b[0m\n\u001b[0;32m----> 1\u001b[0m \u001b[43mcost_adwords\u001b[49m\u001b[43m[\u001b[49m\u001b[38;5;124;43m'\u001b[39;49m\u001b[38;5;124;43mcac\u001b[39;49m\u001b[38;5;124;43m'\u001b[39;49m\u001b[43m]\u001b[49m\n",
      "File \u001b[0;32m/Library/Frameworks/Python.framework/Versions/3.8/lib/python3.8/site-packages/pandas/core/frame.py:3807\u001b[0m, in \u001b[0;36mDataFrame.__getitem__\u001b[0;34m(self, key)\u001b[0m\n\u001b[1;32m   3805\u001b[0m \u001b[38;5;28;01mif\u001b[39;00m \u001b[38;5;28mself\u001b[39m\u001b[38;5;241m.\u001b[39mcolumns\u001b[38;5;241m.\u001b[39mnlevels \u001b[38;5;241m>\u001b[39m \u001b[38;5;241m1\u001b[39m:\n\u001b[1;32m   3806\u001b[0m     \u001b[38;5;28;01mreturn\u001b[39;00m \u001b[38;5;28mself\u001b[39m\u001b[38;5;241m.\u001b[39m_getitem_multilevel(key)\n\u001b[0;32m-> 3807\u001b[0m indexer \u001b[38;5;241m=\u001b[39m \u001b[38;5;28;43mself\u001b[39;49m\u001b[38;5;241;43m.\u001b[39;49m\u001b[43mcolumns\u001b[49m\u001b[38;5;241;43m.\u001b[39;49m\u001b[43mget_loc\u001b[49m\u001b[43m(\u001b[49m\u001b[43mkey\u001b[49m\u001b[43m)\u001b[49m\n\u001b[1;32m   3808\u001b[0m \u001b[38;5;28;01mif\u001b[39;00m is_integer(indexer):\n\u001b[1;32m   3809\u001b[0m     indexer \u001b[38;5;241m=\u001b[39m [indexer]\n",
      "File \u001b[0;32m/Library/Frameworks/Python.framework/Versions/3.8/lib/python3.8/site-packages/pandas/core/indexes/base.py:3804\u001b[0m, in \u001b[0;36mIndex.get_loc\u001b[0;34m(self, key, method, tolerance)\u001b[0m\n\u001b[1;32m   3802\u001b[0m     \u001b[38;5;28;01mreturn\u001b[39;00m \u001b[38;5;28mself\u001b[39m\u001b[38;5;241m.\u001b[39m_engine\u001b[38;5;241m.\u001b[39mget_loc(casted_key)\n\u001b[1;32m   3803\u001b[0m \u001b[38;5;28;01mexcept\u001b[39;00m \u001b[38;5;167;01mKeyError\u001b[39;00m \u001b[38;5;28;01mas\u001b[39;00m err:\n\u001b[0;32m-> 3804\u001b[0m     \u001b[38;5;28;01mraise\u001b[39;00m \u001b[38;5;167;01mKeyError\u001b[39;00m(key) \u001b[38;5;28;01mfrom\u001b[39;00m \u001b[38;5;21;01merr\u001b[39;00m\n\u001b[1;32m   3805\u001b[0m \u001b[38;5;28;01mexcept\u001b[39;00m \u001b[38;5;167;01mTypeError\u001b[39;00m:\n\u001b[1;32m   3806\u001b[0m     \u001b[38;5;66;03m# If we have a listlike key, _check_indexing_error will raise\u001b[39;00m\n\u001b[1;32m   3807\u001b[0m     \u001b[38;5;66;03m#  InvalidIndexError. Otherwise we fall through and re-raise\u001b[39;00m\n\u001b[1;32m   3808\u001b[0m     \u001b[38;5;66;03m#  the TypeError.\u001b[39;00m\n\u001b[1;32m   3809\u001b[0m     \u001b[38;5;28mself\u001b[39m\u001b[38;5;241m.\u001b[39m_check_indexing_error(key)\n",
      "\u001b[0;31mKeyError\u001b[0m: 'cac'"
     ]
    }
   ],
   "source": [
    "cost_adwords['cac']"
   ]
  },
  {
   "cell_type": "markdown",
   "metadata": {},
   "source": []
  },
  {
   "cell_type": "code",
   "execution_count": 12,
   "metadata": {},
   "outputs": [],
   "source": [
    "# Facebook\n",
    "cost_Facebook = total_traffic_cnt[total_traffic_cnt['traffic_source'] == \"Facebook\"].reset_index(drop=True)\n",
    "cost_Facebook.rename(columns={'session_id':'visits'},inplace = True)\n",
    "cost_Facebook['cost'] = cost_Facebook['visits']*0.69\n",
    "# 월 구매건수 구하기\n",
    "buy_Facebook = buy_traffic_cnt[buy_traffic_cnt['traffic_source']=='Facebook'].reset_index(drop=True)\n",
    "buy_Facebook.rename(columns={'user_id':'buyer'},inplace=True)\n",
    "#cac\n",
    "cost_Facebook['cac'] = cost_Facebook['cost']/buy_Facebook['buyer']"
   ]
  },
  {
   "cell_type": "code",
   "execution_count": 13,
   "metadata": {},
   "outputs": [
    {
     "data": {
      "text/html": [
       "<div>\n",
       "<style scoped>\n",
       "    .dataframe tbody tr th:only-of-type {\n",
       "        vertical-align: middle;\n",
       "    }\n",
       "\n",
       "    .dataframe tbody tr th {\n",
       "        vertical-align: top;\n",
       "    }\n",
       "\n",
       "    .dataframe thead th {\n",
       "        text-align: right;\n",
       "    }\n",
       "</style>\n",
       "<table border=\"1\" class=\"dataframe\">\n",
       "  <thead>\n",
       "    <tr style=\"text-align: right;\">\n",
       "      <th></th>\n",
       "      <th>year</th>\n",
       "      <th>month</th>\n",
       "      <th>traffic_source</th>\n",
       "      <th>visits</th>\n",
       "      <th>cost</th>\n",
       "      <th>cac</th>\n",
       "    </tr>\n",
       "  </thead>\n",
       "  <tbody>\n",
       "    <tr>\n",
       "      <th>0</th>\n",
       "      <td>2019</td>\n",
       "      <td>1</td>\n",
       "      <td>Facebook</td>\n",
       "      <td>821</td>\n",
       "      <td>566.49</td>\n",
       "      <td>283.245000</td>\n",
       "    </tr>\n",
       "    <tr>\n",
       "      <th>1</th>\n",
       "      <td>2019</td>\n",
       "      <td>2</td>\n",
       "      <td>Facebook</td>\n",
       "      <td>769</td>\n",
       "      <td>530.61</td>\n",
       "      <td>75.801429</td>\n",
       "    </tr>\n",
       "    <tr>\n",
       "      <th>2</th>\n",
       "      <td>2019</td>\n",
       "      <td>3</td>\n",
       "      <td>Facebook</td>\n",
       "      <td>823</td>\n",
       "      <td>567.87</td>\n",
       "      <td>56.787000</td>\n",
       "    </tr>\n",
       "    <tr>\n",
       "      <th>3</th>\n",
       "      <td>2019</td>\n",
       "      <td>4</td>\n",
       "      <td>Facebook</td>\n",
       "      <td>845</td>\n",
       "      <td>583.05</td>\n",
       "      <td>41.646429</td>\n",
       "    </tr>\n",
       "    <tr>\n",
       "      <th>4</th>\n",
       "      <td>2019</td>\n",
       "      <td>5</td>\n",
       "      <td>Facebook</td>\n",
       "      <td>854</td>\n",
       "      <td>589.26</td>\n",
       "      <td>34.662353</td>\n",
       "    </tr>\n",
       "    <tr>\n",
       "      <th>...</th>\n",
       "      <td>...</td>\n",
       "      <td>...</td>\n",
       "      <td>...</td>\n",
       "      <td>...</td>\n",
       "      <td>...</td>\n",
       "      <td>...</td>\n",
       "    </tr>\n",
       "    <tr>\n",
       "      <th>56</th>\n",
       "      <td>2023</td>\n",
       "      <td>9</td>\n",
       "      <td>Facebook</td>\n",
       "      <td>1621</td>\n",
       "      <td>1118.49</td>\n",
       "      <td>1.424828</td>\n",
       "    </tr>\n",
       "    <tr>\n",
       "      <th>57</th>\n",
       "      <td>2023</td>\n",
       "      <td>10</td>\n",
       "      <td>Facebook</td>\n",
       "      <td>1797</td>\n",
       "      <td>1239.93</td>\n",
       "      <td>1.323298</td>\n",
       "    </tr>\n",
       "    <tr>\n",
       "      <th>58</th>\n",
       "      <td>2023</td>\n",
       "      <td>11</td>\n",
       "      <td>Facebook</td>\n",
       "      <td>1883</td>\n",
       "      <td>1299.27</td>\n",
       "      <td>1.317718</td>\n",
       "    </tr>\n",
       "    <tr>\n",
       "      <th>59</th>\n",
       "      <td>2023</td>\n",
       "      <td>12</td>\n",
       "      <td>Facebook</td>\n",
       "      <td>2115</td>\n",
       "      <td>1459.35</td>\n",
       "      <td>1.223261</td>\n",
       "    </tr>\n",
       "    <tr>\n",
       "      <th>60</th>\n",
       "      <td>2024</td>\n",
       "      <td>1</td>\n",
       "      <td>Facebook</td>\n",
       "      <td>1782</td>\n",
       "      <td>1229.58</td>\n",
       "      <td>0.889711</td>\n",
       "    </tr>\n",
       "  </tbody>\n",
       "</table>\n",
       "<p>61 rows × 6 columns</p>\n",
       "</div>"
      ],
      "text/plain": [
       "    year  month traffic_source  visits     cost         cac\n",
       "0   2019      1       Facebook     821   566.49  283.245000\n",
       "1   2019      2       Facebook     769   530.61   75.801429\n",
       "2   2019      3       Facebook     823   567.87   56.787000\n",
       "3   2019      4       Facebook     845   583.05   41.646429\n",
       "4   2019      5       Facebook     854   589.26   34.662353\n",
       "..   ...    ...            ...     ...      ...         ...\n",
       "56  2023      9       Facebook    1621  1118.49    1.424828\n",
       "57  2023     10       Facebook    1797  1239.93    1.323298\n",
       "58  2023     11       Facebook    1883  1299.27    1.317718\n",
       "59  2023     12       Facebook    2115  1459.35    1.223261\n",
       "60  2024      1       Facebook    1782  1229.58    0.889711\n",
       "\n",
       "[61 rows x 6 columns]"
      ]
     },
     "execution_count": 13,
     "metadata": {},
     "output_type": "execute_result"
    }
   ],
   "source": [
    "cost_Facebook"
   ]
  },
  {
   "cell_type": "code",
   "execution_count": 14,
   "metadata": {},
   "outputs": [],
   "source": [
    "#  'YouTube'\n",
    "cost_YouTube = total_traffic_cnt[total_traffic_cnt['traffic_source'] == \"YouTube\"].reset_index(drop=True)\n",
    "cost_YouTube.rename(columns={'session_id':'visits'},inplace = True)\n",
    "cost_YouTube['cost'] = cost_YouTube['visits']*0.03\n",
    "# 월 구매건수 구하기\n",
    "buy_YouTube = buy_traffic_cnt[buy_traffic_cnt['traffic_source']=='YouTube'].reset_index(drop=True)\n",
    "buy_YouTube.rename(columns={'user_id':'buyer'},inplace=True)\n",
    "#cac\n",
    "cost_YouTube['cac'] = cost_YouTube['cost']/buy_YouTube['buyer']"
   ]
  },
  {
   "cell_type": "code",
   "execution_count": 15,
   "metadata": {},
   "outputs": [
    {
     "data": {
      "text/html": [
       "<div>\n",
       "<style scoped>\n",
       "    .dataframe tbody tr th:only-of-type {\n",
       "        vertical-align: middle;\n",
       "    }\n",
       "\n",
       "    .dataframe tbody tr th {\n",
       "        vertical-align: top;\n",
       "    }\n",
       "\n",
       "    .dataframe thead th {\n",
       "        text-align: right;\n",
       "    }\n",
       "</style>\n",
       "<table border=\"1\" class=\"dataframe\">\n",
       "  <thead>\n",
       "    <tr style=\"text-align: right;\">\n",
       "      <th></th>\n",
       "      <th>year</th>\n",
       "      <th>month</th>\n",
       "      <th>traffic_source</th>\n",
       "      <th>visits</th>\n",
       "      <th>cost</th>\n",
       "      <th>cac</th>\n",
       "    </tr>\n",
       "  </thead>\n",
       "  <tbody>\n",
       "    <tr>\n",
       "      <th>0</th>\n",
       "      <td>2019</td>\n",
       "      <td>1</td>\n",
       "      <td>YouTube</td>\n",
       "      <td>787</td>\n",
       "      <td>23.61</td>\n",
       "      <td>3.935000</td>\n",
       "    </tr>\n",
       "    <tr>\n",
       "      <th>1</th>\n",
       "      <td>2019</td>\n",
       "      <td>2</td>\n",
       "      <td>YouTube</td>\n",
       "      <td>755</td>\n",
       "      <td>22.65</td>\n",
       "      <td>5.662500</td>\n",
       "    </tr>\n",
       "    <tr>\n",
       "      <th>2</th>\n",
       "      <td>2019</td>\n",
       "      <td>3</td>\n",
       "      <td>YouTube</td>\n",
       "      <td>815</td>\n",
       "      <td>24.45</td>\n",
       "      <td>1.880769</td>\n",
       "    </tr>\n",
       "    <tr>\n",
       "      <th>3</th>\n",
       "      <td>2019</td>\n",
       "      <td>4</td>\n",
       "      <td>YouTube</td>\n",
       "      <td>800</td>\n",
       "      <td>24.00</td>\n",
       "      <td>1.600000</td>\n",
       "    </tr>\n",
       "    <tr>\n",
       "      <th>4</th>\n",
       "      <td>2019</td>\n",
       "      <td>5</td>\n",
       "      <td>YouTube</td>\n",
       "      <td>851</td>\n",
       "      <td>25.53</td>\n",
       "      <td>1.276500</td>\n",
       "    </tr>\n",
       "    <tr>\n",
       "      <th>...</th>\n",
       "      <td>...</td>\n",
       "      <td>...</td>\n",
       "      <td>...</td>\n",
       "      <td>...</td>\n",
       "      <td>...</td>\n",
       "      <td>...</td>\n",
       "    </tr>\n",
       "    <tr>\n",
       "      <th>56</th>\n",
       "      <td>2023</td>\n",
       "      <td>9</td>\n",
       "      <td>YouTube</td>\n",
       "      <td>1607</td>\n",
       "      <td>48.21</td>\n",
       "      <td>0.062448</td>\n",
       "    </tr>\n",
       "    <tr>\n",
       "      <th>57</th>\n",
       "      <td>2023</td>\n",
       "      <td>10</td>\n",
       "      <td>YouTube</td>\n",
       "      <td>1811</td>\n",
       "      <td>54.33</td>\n",
       "      <td>0.058232</td>\n",
       "    </tr>\n",
       "    <tr>\n",
       "      <th>58</th>\n",
       "      <td>2023</td>\n",
       "      <td>11</td>\n",
       "      <td>YouTube</td>\n",
       "      <td>1774</td>\n",
       "      <td>53.22</td>\n",
       "      <td>0.055669</td>\n",
       "    </tr>\n",
       "    <tr>\n",
       "      <th>59</th>\n",
       "      <td>2023</td>\n",
       "      <td>12</td>\n",
       "      <td>YouTube</td>\n",
       "      <td>2149</td>\n",
       "      <td>64.47</td>\n",
       "      <td>0.051783</td>\n",
       "    </tr>\n",
       "    <tr>\n",
       "      <th>60</th>\n",
       "      <td>2024</td>\n",
       "      <td>1</td>\n",
       "      <td>YouTube</td>\n",
       "      <td>1759</td>\n",
       "      <td>52.77</td>\n",
       "      <td>0.039558</td>\n",
       "    </tr>\n",
       "  </tbody>\n",
       "</table>\n",
       "<p>61 rows × 6 columns</p>\n",
       "</div>"
      ],
      "text/plain": [
       "    year  month traffic_source  visits   cost       cac\n",
       "0   2019      1        YouTube     787  23.61  3.935000\n",
       "1   2019      2        YouTube     755  22.65  5.662500\n",
       "2   2019      3        YouTube     815  24.45  1.880769\n",
       "3   2019      4        YouTube     800  24.00  1.600000\n",
       "4   2019      5        YouTube     851  25.53  1.276500\n",
       "..   ...    ...            ...     ...    ...       ...\n",
       "56  2023      9        YouTube    1607  48.21  0.062448\n",
       "57  2023     10        YouTube    1811  54.33  0.058232\n",
       "58  2023     11        YouTube    1774  53.22  0.055669\n",
       "59  2023     12        YouTube    2149  64.47  0.051783\n",
       "60  2024      1        YouTube    1759  52.77  0.039558\n",
       "\n",
       "[61 rows x 6 columns]"
      ]
     },
     "execution_count": 15,
     "metadata": {},
     "output_type": "execute_result"
    }
   ],
   "source": [
    "cost_YouTube"
   ]
  },
  {
   "cell_type": "code",
   "execution_count": 16,
   "metadata": {},
   "outputs": [],
   "source": [
    "#  'Email'\n",
    "cost_Email = total_traffic_cnt[total_traffic_cnt['traffic_source'] == \"Email\"].reset_index(drop=True)\n",
    "cost_Email.rename(columns={'session_id':'visits'},inplace = True)\n",
    "cost_Email['cost'] = 1000\n",
    "# 월 구매건수 구하기\n",
    "buy_Email = buy_traffic_cnt[buy_traffic_cnt['traffic_source']=='Email'].reset_index(drop=True)\n",
    "buy_Email.rename(columns={'user_id':'buyer'},inplace=True)\n",
    "#cac\n",
    "cost_Email['cac'] = cost_Email['cost']/buy_Email['buyer']"
   ]
  },
  {
   "cell_type": "code",
   "execution_count": 17,
   "metadata": {},
   "outputs": [
    {
     "data": {
      "text/html": [
       "<div>\n",
       "<style scoped>\n",
       "    .dataframe tbody tr th:only-of-type {\n",
       "        vertical-align: middle;\n",
       "    }\n",
       "\n",
       "    .dataframe tbody tr th {\n",
       "        vertical-align: top;\n",
       "    }\n",
       "\n",
       "    .dataframe thead th {\n",
       "        text-align: right;\n",
       "    }\n",
       "</style>\n",
       "<table border=\"1\" class=\"dataframe\">\n",
       "  <thead>\n",
       "    <tr style=\"text-align: right;\">\n",
       "      <th></th>\n",
       "      <th>year</th>\n",
       "      <th>month</th>\n",
       "      <th>traffic_source</th>\n",
       "      <th>visits</th>\n",
       "      <th>cost</th>\n",
       "      <th>cac</th>\n",
       "    </tr>\n",
       "  </thead>\n",
       "  <tbody>\n",
       "    <tr>\n",
       "      <th>0</th>\n",
       "      <td>2019</td>\n",
       "      <td>1</td>\n",
       "      <td>Email</td>\n",
       "      <td>3529</td>\n",
       "      <td>1000</td>\n",
       "      <td>83.333333</td>\n",
       "    </tr>\n",
       "    <tr>\n",
       "      <th>1</th>\n",
       "      <td>2019</td>\n",
       "      <td>2</td>\n",
       "      <td>Email</td>\n",
       "      <td>3491</td>\n",
       "      <td>1000</td>\n",
       "      <td>47.619048</td>\n",
       "    </tr>\n",
       "    <tr>\n",
       "      <th>2</th>\n",
       "      <td>2019</td>\n",
       "      <td>3</td>\n",
       "      <td>Email</td>\n",
       "      <td>3840</td>\n",
       "      <td>1000</td>\n",
       "      <td>13.888889</td>\n",
       "    </tr>\n",
       "    <tr>\n",
       "      <th>3</th>\n",
       "      <td>2019</td>\n",
       "      <td>4</td>\n",
       "      <td>Email</td>\n",
       "      <td>3665</td>\n",
       "      <td>1000</td>\n",
       "      <td>14.492754</td>\n",
       "    </tr>\n",
       "    <tr>\n",
       "      <th>4</th>\n",
       "      <td>2019</td>\n",
       "      <td>5</td>\n",
       "      <td>Email</td>\n",
       "      <td>3954</td>\n",
       "      <td>1000</td>\n",
       "      <td>8.264463</td>\n",
       "    </tr>\n",
       "    <tr>\n",
       "      <th>...</th>\n",
       "      <td>...</td>\n",
       "      <td>...</td>\n",
       "      <td>...</td>\n",
       "      <td>...</td>\n",
       "      <td>...</td>\n",
       "      <td>...</td>\n",
       "    </tr>\n",
       "    <tr>\n",
       "      <th>56</th>\n",
       "      <td>2023</td>\n",
       "      <td>9</td>\n",
       "      <td>Email</td>\n",
       "      <td>7332</td>\n",
       "      <td>1000</td>\n",
       "      <td>0.285470</td>\n",
       "    </tr>\n",
       "    <tr>\n",
       "      <th>57</th>\n",
       "      <td>2023</td>\n",
       "      <td>10</td>\n",
       "      <td>Email</td>\n",
       "      <td>8015</td>\n",
       "      <td>1000</td>\n",
       "      <td>0.251067</td>\n",
       "    </tr>\n",
       "    <tr>\n",
       "      <th>58</th>\n",
       "      <td>2023</td>\n",
       "      <td>11</td>\n",
       "      <td>Email</td>\n",
       "      <td>8284</td>\n",
       "      <td>1000</td>\n",
       "      <td>0.224871</td>\n",
       "    </tr>\n",
       "    <tr>\n",
       "      <th>59</th>\n",
       "      <td>2023</td>\n",
       "      <td>12</td>\n",
       "      <td>Email</td>\n",
       "      <td>9486</td>\n",
       "      <td>1000</td>\n",
       "      <td>0.186672</td>\n",
       "    </tr>\n",
       "    <tr>\n",
       "      <th>60</th>\n",
       "      <td>2024</td>\n",
       "      <td>1</td>\n",
       "      <td>Email</td>\n",
       "      <td>8123</td>\n",
       "      <td>1000</td>\n",
       "      <td>0.161394</td>\n",
       "    </tr>\n",
       "  </tbody>\n",
       "</table>\n",
       "<p>61 rows × 6 columns</p>\n",
       "</div>"
      ],
      "text/plain": [
       "    year  month traffic_source  visits  cost        cac\n",
       "0   2019      1          Email    3529  1000  83.333333\n",
       "1   2019      2          Email    3491  1000  47.619048\n",
       "2   2019      3          Email    3840  1000  13.888889\n",
       "3   2019      4          Email    3665  1000  14.492754\n",
       "4   2019      5          Email    3954  1000   8.264463\n",
       "..   ...    ...            ...     ...   ...        ...\n",
       "56  2023      9          Email    7332  1000   0.285470\n",
       "57  2023     10          Email    8015  1000   0.251067\n",
       "58  2023     11          Email    8284  1000   0.224871\n",
       "59  2023     12          Email    9486  1000   0.186672\n",
       "60  2024      1          Email    8123  1000   0.161394\n",
       "\n",
       "[61 rows x 6 columns]"
      ]
     },
     "execution_count": 17,
     "metadata": {},
     "output_type": "execute_result"
    }
   ],
   "source": [
    "cost_Email"
   ]
  },
  {
   "cell_type": "code",
   "execution_count": 18,
   "metadata": {},
   "outputs": [
    {
     "data": {
      "text/html": [
       "<div>\n",
       "<style scoped>\n",
       "    .dataframe tbody tr th:only-of-type {\n",
       "        vertical-align: middle;\n",
       "    }\n",
       "\n",
       "    .dataframe tbody tr th {\n",
       "        vertical-align: top;\n",
       "    }\n",
       "\n",
       "    .dataframe thead th {\n",
       "        text-align: right;\n",
       "    }\n",
       "</style>\n",
       "<table border=\"1\" class=\"dataframe\">\n",
       "  <thead>\n",
       "    <tr style=\"text-align: right;\">\n",
       "      <th></th>\n",
       "      <th>year</th>\n",
       "      <th>month</th>\n",
       "      <th>traffic_source</th>\n",
       "      <th>visits</th>\n",
       "      <th>cost</th>\n",
       "      <th>cac</th>\n",
       "    </tr>\n",
       "  </thead>\n",
       "  <tbody>\n",
       "    <tr>\n",
       "      <th>0</th>\n",
       "      <td>2019</td>\n",
       "      <td>1</td>\n",
       "      <td>Adwords</td>\n",
       "      <td>2423</td>\n",
       "      <td>5451.75</td>\n",
       "      <td>495.613636</td>\n",
       "    </tr>\n",
       "    <tr>\n",
       "      <th>1</th>\n",
       "      <td>2019</td>\n",
       "      <td>2</td>\n",
       "      <td>Adwords</td>\n",
       "      <td>2328</td>\n",
       "      <td>5238.00</td>\n",
       "      <td>261.900000</td>\n",
       "    </tr>\n",
       "    <tr>\n",
       "      <th>2</th>\n",
       "      <td>2019</td>\n",
       "      <td>3</td>\n",
       "      <td>Adwords</td>\n",
       "      <td>2601</td>\n",
       "      <td>5852.25</td>\n",
       "      <td>292.612500</td>\n",
       "    </tr>\n",
       "    <tr>\n",
       "      <th>3</th>\n",
       "      <td>2019</td>\n",
       "      <td>4</td>\n",
       "      <td>Adwords</td>\n",
       "      <td>2588</td>\n",
       "      <td>5823.00</td>\n",
       "      <td>123.893617</td>\n",
       "    </tr>\n",
       "    <tr>\n",
       "      <th>4</th>\n",
       "      <td>2019</td>\n",
       "      <td>5</td>\n",
       "      <td>Adwords</td>\n",
       "      <td>2622</td>\n",
       "      <td>5899.50</td>\n",
       "      <td>85.500000</td>\n",
       "    </tr>\n",
       "    <tr>\n",
       "      <th>...</th>\n",
       "      <td>...</td>\n",
       "      <td>...</td>\n",
       "      <td>...</td>\n",
       "      <td>...</td>\n",
       "      <td>...</td>\n",
       "      <td>...</td>\n",
       "    </tr>\n",
       "    <tr>\n",
       "      <th>56</th>\n",
       "      <td>2023</td>\n",
       "      <td>9</td>\n",
       "      <td>Adwords</td>\n",
       "      <td>4908</td>\n",
       "      <td>11043.00</td>\n",
       "      <td>4.622436</td>\n",
       "    </tr>\n",
       "    <tr>\n",
       "      <th>57</th>\n",
       "      <td>2023</td>\n",
       "      <td>10</td>\n",
       "      <td>Adwords</td>\n",
       "      <td>5212</td>\n",
       "      <td>11727.00</td>\n",
       "      <td>4.536557</td>\n",
       "    </tr>\n",
       "    <tr>\n",
       "      <th>58</th>\n",
       "      <td>2023</td>\n",
       "      <td>11</td>\n",
       "      <td>Adwords</td>\n",
       "      <td>5517</td>\n",
       "      <td>12413.25</td>\n",
       "      <td>4.186594</td>\n",
       "    </tr>\n",
       "    <tr>\n",
       "      <th>59</th>\n",
       "      <td>2023</td>\n",
       "      <td>12</td>\n",
       "      <td>Adwords</td>\n",
       "      <td>6227</td>\n",
       "      <td>14010.75</td>\n",
       "      <td>3.869304</td>\n",
       "    </tr>\n",
       "    <tr>\n",
       "      <th>60</th>\n",
       "      <td>2024</td>\n",
       "      <td>1</td>\n",
       "      <td>Adwords</td>\n",
       "      <td>5467</td>\n",
       "      <td>12300.75</td>\n",
       "      <td>3.020813</td>\n",
       "    </tr>\n",
       "  </tbody>\n",
       "</table>\n",
       "<p>61 rows × 6 columns</p>\n",
       "</div>"
      ],
      "text/plain": [
       "    year  month traffic_source  visits      cost         cac\n",
       "0   2019      1        Adwords    2423   5451.75  495.613636\n",
       "1   2019      2        Adwords    2328   5238.00  261.900000\n",
       "2   2019      3        Adwords    2601   5852.25  292.612500\n",
       "3   2019      4        Adwords    2588   5823.00  123.893617\n",
       "4   2019      5        Adwords    2622   5899.50   85.500000\n",
       "..   ...    ...            ...     ...       ...         ...\n",
       "56  2023      9        Adwords    4908  11043.00    4.622436\n",
       "57  2023     10        Adwords    5212  11727.00    4.536557\n",
       "58  2023     11        Adwords    5517  12413.25    4.186594\n",
       "59  2023     12        Adwords    6227  14010.75    3.869304\n",
       "60  2024      1        Adwords    5467  12300.75    3.020813\n",
       "\n",
       "[61 rows x 6 columns]"
      ]
     },
     "execution_count": 18,
     "metadata": {},
     "output_type": "execute_result"
    }
   ],
   "source": [
    "cost_adwords\n",
    "# cost_Email\n",
    "# cost_Facebook\n",
    "# cost_YouTube"
   ]
  },
  {
   "cell_type": "code",
   "execution_count": 19,
   "metadata": {},
   "outputs": [],
   "source": [
    "cost_Email.rename(columns={'cac':'email_cac'},inplace=True)\n",
    "cost_adwords.rename(columns={'cac':'adwords_cac'},inplace=True)\n",
    "cost_Facebook.rename(columns={'cac':'Facebook_cac'},inplace=True)\n",
    "cost_YouTube.rename(columns={'cac':'YouTube_cac'},inplace=True)"
   ]
  },
  {
   "cell_type": "code",
   "execution_count": 20,
   "metadata": {},
   "outputs": [
    {
     "data": {
      "text/html": [
       "<div>\n",
       "<style scoped>\n",
       "    .dataframe tbody tr th:only-of-type {\n",
       "        vertical-align: middle;\n",
       "    }\n",
       "\n",
       "    .dataframe tbody tr th {\n",
       "        vertical-align: top;\n",
       "    }\n",
       "\n",
       "    .dataframe thead th {\n",
       "        text-align: right;\n",
       "    }\n",
       "</style>\n",
       "<table border=\"1\" class=\"dataframe\">\n",
       "  <thead>\n",
       "    <tr style=\"text-align: right;\">\n",
       "      <th></th>\n",
       "      <th>year</th>\n",
       "      <th>month</th>\n",
       "      <th>traffic_source</th>\n",
       "      <th>visits</th>\n",
       "      <th>cost</th>\n",
       "      <th>email_cac</th>\n",
       "    </tr>\n",
       "  </thead>\n",
       "  <tbody>\n",
       "    <tr>\n",
       "      <th>0</th>\n",
       "      <td>2019</td>\n",
       "      <td>1</td>\n",
       "      <td>Email</td>\n",
       "      <td>3529</td>\n",
       "      <td>1000</td>\n",
       "      <td>83.333333</td>\n",
       "    </tr>\n",
       "    <tr>\n",
       "      <th>1</th>\n",
       "      <td>2019</td>\n",
       "      <td>2</td>\n",
       "      <td>Email</td>\n",
       "      <td>3491</td>\n",
       "      <td>1000</td>\n",
       "      <td>47.619048</td>\n",
       "    </tr>\n",
       "    <tr>\n",
       "      <th>2</th>\n",
       "      <td>2019</td>\n",
       "      <td>3</td>\n",
       "      <td>Email</td>\n",
       "      <td>3840</td>\n",
       "      <td>1000</td>\n",
       "      <td>13.888889</td>\n",
       "    </tr>\n",
       "    <tr>\n",
       "      <th>3</th>\n",
       "      <td>2019</td>\n",
       "      <td>4</td>\n",
       "      <td>Email</td>\n",
       "      <td>3665</td>\n",
       "      <td>1000</td>\n",
       "      <td>14.492754</td>\n",
       "    </tr>\n",
       "    <tr>\n",
       "      <th>4</th>\n",
       "      <td>2019</td>\n",
       "      <td>5</td>\n",
       "      <td>Email</td>\n",
       "      <td>3954</td>\n",
       "      <td>1000</td>\n",
       "      <td>8.264463</td>\n",
       "    </tr>\n",
       "    <tr>\n",
       "      <th>...</th>\n",
       "      <td>...</td>\n",
       "      <td>...</td>\n",
       "      <td>...</td>\n",
       "      <td>...</td>\n",
       "      <td>...</td>\n",
       "      <td>...</td>\n",
       "    </tr>\n",
       "    <tr>\n",
       "      <th>56</th>\n",
       "      <td>2023</td>\n",
       "      <td>9</td>\n",
       "      <td>Email</td>\n",
       "      <td>7332</td>\n",
       "      <td>1000</td>\n",
       "      <td>0.285470</td>\n",
       "    </tr>\n",
       "    <tr>\n",
       "      <th>57</th>\n",
       "      <td>2023</td>\n",
       "      <td>10</td>\n",
       "      <td>Email</td>\n",
       "      <td>8015</td>\n",
       "      <td>1000</td>\n",
       "      <td>0.251067</td>\n",
       "    </tr>\n",
       "    <tr>\n",
       "      <th>58</th>\n",
       "      <td>2023</td>\n",
       "      <td>11</td>\n",
       "      <td>Email</td>\n",
       "      <td>8284</td>\n",
       "      <td>1000</td>\n",
       "      <td>0.224871</td>\n",
       "    </tr>\n",
       "    <tr>\n",
       "      <th>59</th>\n",
       "      <td>2023</td>\n",
       "      <td>12</td>\n",
       "      <td>Email</td>\n",
       "      <td>9486</td>\n",
       "      <td>1000</td>\n",
       "      <td>0.186672</td>\n",
       "    </tr>\n",
       "    <tr>\n",
       "      <th>60</th>\n",
       "      <td>2024</td>\n",
       "      <td>1</td>\n",
       "      <td>Email</td>\n",
       "      <td>8123</td>\n",
       "      <td>1000</td>\n",
       "      <td>0.161394</td>\n",
       "    </tr>\n",
       "  </tbody>\n",
       "</table>\n",
       "<p>61 rows × 6 columns</p>\n",
       "</div>"
      ],
      "text/plain": [
       "    year  month traffic_source  visits  cost  email_cac\n",
       "0   2019      1          Email    3529  1000  83.333333\n",
       "1   2019      2          Email    3491  1000  47.619048\n",
       "2   2019      3          Email    3840  1000  13.888889\n",
       "3   2019      4          Email    3665  1000  14.492754\n",
       "4   2019      5          Email    3954  1000   8.264463\n",
       "..   ...    ...            ...     ...   ...        ...\n",
       "56  2023      9          Email    7332  1000   0.285470\n",
       "57  2023     10          Email    8015  1000   0.251067\n",
       "58  2023     11          Email    8284  1000   0.224871\n",
       "59  2023     12          Email    9486  1000   0.186672\n",
       "60  2024      1          Email    8123  1000   0.161394\n",
       "\n",
       "[61 rows x 6 columns]"
      ]
     },
     "execution_count": 20,
     "metadata": {},
     "output_type": "execute_result"
    }
   ],
   "source": [
    "cost_Email"
   ]
  },
  {
   "cell_type": "code",
   "execution_count": 21,
   "metadata": {},
   "outputs": [],
   "source": [
    "df_cac = pd.concat([cost_Email[\"year\"],cost_Email['month'],cost_Email['email_cac'],cost_adwords['adwords_cac'],cost_Facebook['Facebook_cac'],cost_YouTube['YouTube_cac']],axis = 1,ignore_index=False)"
   ]
  },
  {
   "cell_type": "code",
   "execution_count": 22,
   "metadata": {},
   "outputs": [
    {
     "data": {
      "text/plain": [
       "(0     495.613636\n",
       " 1     261.900000\n",
       " 2     292.612500\n",
       " 3     123.893617\n",
       " 4      85.500000\n",
       "          ...    \n",
       " 56      4.622436\n",
       " 57      4.536557\n",
       " 58      4.186594\n",
       " 59      3.869304\n",
       " 60      3.020813\n",
       " Name: adwords_cac, Length: 61, dtype: float64,\n",
       " 0     283.245000\n",
       " 1      75.801429\n",
       " 2      56.787000\n",
       " 3      41.646429\n",
       " 4      34.662353\n",
       "          ...    \n",
       " 56      1.424828\n",
       " 57      1.323298\n",
       " 58      1.317718\n",
       " 59      1.223261\n",
       " 60      0.889711\n",
       " Name: Facebook_cac, Length: 61, dtype: float64,\n",
       " 0     3.935000\n",
       " 1     5.662500\n",
       " 2     1.880769\n",
       " 3     1.600000\n",
       " 4     1.276500\n",
       "         ...   \n",
       " 56    0.062448\n",
       " 57    0.058232\n",
       " 58    0.055669\n",
       " 59    0.051783\n",
       " 60    0.039558\n",
       " Name: YouTube_cac, Length: 61, dtype: float64)"
      ]
     },
     "execution_count": 22,
     "metadata": {},
     "output_type": "execute_result"
    }
   ],
   "source": [
    "cost_adwords['adwords_cac'],cost_Facebook['Facebook_cac'],cost_YouTube['YouTube_cac']"
   ]
  },
  {
   "cell_type": "code",
   "execution_count": 23,
   "metadata": {},
   "outputs": [
    {
     "data": {
      "text/html": [
       "<div>\n",
       "<style scoped>\n",
       "    .dataframe tbody tr th:only-of-type {\n",
       "        vertical-align: middle;\n",
       "    }\n",
       "\n",
       "    .dataframe tbody tr th {\n",
       "        vertical-align: top;\n",
       "    }\n",
       "\n",
       "    .dataframe thead th {\n",
       "        text-align: right;\n",
       "    }\n",
       "</style>\n",
       "<table border=\"1\" class=\"dataframe\">\n",
       "  <thead>\n",
       "    <tr style=\"text-align: right;\">\n",
       "      <th></th>\n",
       "      <th>year</th>\n",
       "      <th>month</th>\n",
       "      <th>email_cac</th>\n",
       "      <th>adwords_cac</th>\n",
       "      <th>Facebook_cac</th>\n",
       "      <th>YouTube_cac</th>\n",
       "    </tr>\n",
       "  </thead>\n",
       "  <tbody>\n",
       "    <tr>\n",
       "      <th>0</th>\n",
       "      <td>2019</td>\n",
       "      <td>1</td>\n",
       "      <td>83.333333</td>\n",
       "      <td>495.613636</td>\n",
       "      <td>283.245000</td>\n",
       "      <td>3.935000</td>\n",
       "    </tr>\n",
       "    <tr>\n",
       "      <th>1</th>\n",
       "      <td>2019</td>\n",
       "      <td>2</td>\n",
       "      <td>47.619048</td>\n",
       "      <td>261.900000</td>\n",
       "      <td>75.801429</td>\n",
       "      <td>5.662500</td>\n",
       "    </tr>\n",
       "    <tr>\n",
       "      <th>2</th>\n",
       "      <td>2019</td>\n",
       "      <td>3</td>\n",
       "      <td>13.888889</td>\n",
       "      <td>292.612500</td>\n",
       "      <td>56.787000</td>\n",
       "      <td>1.880769</td>\n",
       "    </tr>\n",
       "    <tr>\n",
       "      <th>3</th>\n",
       "      <td>2019</td>\n",
       "      <td>4</td>\n",
       "      <td>14.492754</td>\n",
       "      <td>123.893617</td>\n",
       "      <td>41.646429</td>\n",
       "      <td>1.600000</td>\n",
       "    </tr>\n",
       "    <tr>\n",
       "      <th>4</th>\n",
       "      <td>2019</td>\n",
       "      <td>5</td>\n",
       "      <td>8.264463</td>\n",
       "      <td>85.500000</td>\n",
       "      <td>34.662353</td>\n",
       "      <td>1.276500</td>\n",
       "    </tr>\n",
       "    <tr>\n",
       "      <th>...</th>\n",
       "      <td>...</td>\n",
       "      <td>...</td>\n",
       "      <td>...</td>\n",
       "      <td>...</td>\n",
       "      <td>...</td>\n",
       "      <td>...</td>\n",
       "    </tr>\n",
       "    <tr>\n",
       "      <th>56</th>\n",
       "      <td>2023</td>\n",
       "      <td>9</td>\n",
       "      <td>0.285470</td>\n",
       "      <td>4.622436</td>\n",
       "      <td>1.424828</td>\n",
       "      <td>0.062448</td>\n",
       "    </tr>\n",
       "    <tr>\n",
       "      <th>57</th>\n",
       "      <td>2023</td>\n",
       "      <td>10</td>\n",
       "      <td>0.251067</td>\n",
       "      <td>4.536557</td>\n",
       "      <td>1.323298</td>\n",
       "      <td>0.058232</td>\n",
       "    </tr>\n",
       "    <tr>\n",
       "      <th>58</th>\n",
       "      <td>2023</td>\n",
       "      <td>11</td>\n",
       "      <td>0.224871</td>\n",
       "      <td>4.186594</td>\n",
       "      <td>1.317718</td>\n",
       "      <td>0.055669</td>\n",
       "    </tr>\n",
       "    <tr>\n",
       "      <th>59</th>\n",
       "      <td>2023</td>\n",
       "      <td>12</td>\n",
       "      <td>0.186672</td>\n",
       "      <td>3.869304</td>\n",
       "      <td>1.223261</td>\n",
       "      <td>0.051783</td>\n",
       "    </tr>\n",
       "    <tr>\n",
       "      <th>60</th>\n",
       "      <td>2024</td>\n",
       "      <td>1</td>\n",
       "      <td>0.161394</td>\n",
       "      <td>3.020813</td>\n",
       "      <td>0.889711</td>\n",
       "      <td>0.039558</td>\n",
       "    </tr>\n",
       "  </tbody>\n",
       "</table>\n",
       "<p>61 rows × 6 columns</p>\n",
       "</div>"
      ],
      "text/plain": [
       "    year  month  email_cac  adwords_cac  Facebook_cac  YouTube_cac\n",
       "0   2019      1  83.333333   495.613636    283.245000     3.935000\n",
       "1   2019      2  47.619048   261.900000     75.801429     5.662500\n",
       "2   2019      3  13.888889   292.612500     56.787000     1.880769\n",
       "3   2019      4  14.492754   123.893617     41.646429     1.600000\n",
       "4   2019      5   8.264463    85.500000     34.662353     1.276500\n",
       "..   ...    ...        ...          ...           ...          ...\n",
       "56  2023      9   0.285470     4.622436      1.424828     0.062448\n",
       "57  2023     10   0.251067     4.536557      1.323298     0.058232\n",
       "58  2023     11   0.224871     4.186594      1.317718     0.055669\n",
       "59  2023     12   0.186672     3.869304      1.223261     0.051783\n",
       "60  2024      1   0.161394     3.020813      0.889711     0.039558\n",
       "\n",
       "[61 rows x 6 columns]"
      ]
     },
     "execution_count": 23,
     "metadata": {},
     "output_type": "execute_result"
    }
   ],
   "source": [
    "df_cac "
   ]
  },
  {
   "cell_type": "code",
   "execution_count": 24,
   "metadata": {},
   "outputs": [
    {
     "data": {
      "application/vnd.plotly.v1+json": {
       "config": {
        "plotlyServerURL": "https://plot.ly"
       },
       "data": [
        {
         "hovertemplate": "year=2019<br>month=%{x}<br>email_cac=%{y}<extra></extra>",
         "legendgroup": "2019",
         "line": {
          "color": "#636efa",
          "dash": "solid"
         },
         "marker": {
          "symbol": "circle"
         },
         "mode": "lines",
         "name": "2019",
         "orientation": "v",
         "showlegend": true,
         "type": "scatter",
         "x": [
          1,
          2,
          3,
          4,
          5,
          6,
          7,
          8,
          9,
          10,
          11,
          12
         ],
         "xaxis": "x",
         "y": [
          83.33333333333333,
          47.61904761904762,
          13.88888888888889,
          14.492753623188406,
          8.264462809917354,
          7.751937984496124,
          6.410256410256411,
          6.7114093959731544,
          4.901960784313726,
          4.291845493562231,
          4.524886877828054,
          3.3444816053511706
         ],
         "yaxis": "y"
        },
        {
         "hovertemplate": "year=2020<br>month=%{x}<br>email_cac=%{y}<extra></extra>",
         "legendgroup": "2020",
         "line": {
          "color": "#EF553B",
          "dash": "solid"
         },
         "marker": {
          "symbol": "circle"
         },
         "mode": "lines",
         "name": "2020",
         "orientation": "v",
         "showlegend": true,
         "type": "scatter",
         "x": [
          1,
          2,
          3,
          4,
          5,
          6,
          7,
          8,
          9,
          10,
          11,
          12
         ],
         "xaxis": "x",
         "y": [
          3.048780487804878,
          3.115264797507788,
          2.680965147453083,
          2.638522427440633,
          2.3640661938534278,
          2.0833333333333335,
          1.9646365422396856,
          1.941747572815534,
          1.9230769230769231,
          1.6835016835016836,
          1.7241379310344827,
          1.4814814814814814
         ],
         "yaxis": "y"
        },
        {
         "hovertemplate": "year=2021<br>month=%{x}<br>email_cac=%{y}<extra></extra>",
         "legendgroup": "2021",
         "line": {
          "color": "#00cc96",
          "dash": "solid"
         },
         "marker": {
          "symbol": "circle"
         },
         "mode": "lines",
         "name": "2021",
         "orientation": "v",
         "showlegend": true,
         "type": "scatter",
         "x": [
          1,
          2,
          3,
          4,
          5,
          6,
          7,
          8,
          9,
          10,
          11,
          12
         ],
         "xaxis": "x",
         "y": [
          1.2820512820512822,
          1.5267175572519085,
          1.2642225031605563,
          1.3020833333333333,
          1.1273957158962795,
          1.1890606420927468,
          1.1750881316098707,
          0.9950248756218906,
          1.0111223458038423,
          0.8818342151675485,
          0.9569377990430622,
          0.8539709649871904
         ],
         "yaxis": "y"
        },
        {
         "hovertemplate": "year=2022<br>month=%{x}<br>email_cac=%{y}<extra></extra>",
         "legendgroup": "2022",
         "line": {
          "color": "#ab63fa",
          "dash": "solid"
         },
         "marker": {
          "symbol": "circle"
         },
         "mode": "lines",
         "name": "2022",
         "orientation": "v",
         "showlegend": true,
         "type": "scatter",
         "x": [
          1,
          2,
          3,
          4,
          5,
          6,
          7,
          8,
          9,
          10,
          11,
          12
         ],
         "xaxis": "x",
         "y": [
          0.8084074373484236,
          0.9107468123861566,
          0.7763975155279503,
          0.731528895391368,
          0.648508430609598,
          0.6684491978609626,
          0.6009615384615384,
          0.5889281507656066,
          0.5803830528148578,
          0.513874614594039,
          0.5125576627370579,
          0.5035246727089627
         ],
         "yaxis": "y"
        },
        {
         "hovertemplate": "year=2023<br>month=%{x}<br>email_cac=%{y}<extra></extra>",
         "legendgroup": "2023",
         "line": {
          "color": "#FFA15A",
          "dash": "solid"
         },
         "marker": {
          "symbol": "circle"
         },
         "mode": "lines",
         "name": "2023",
         "orientation": "v",
         "showlegend": true,
         "type": "scatter",
         "x": [
          1,
          2,
          3,
          4,
          5,
          6,
          7,
          8,
          9,
          10,
          11,
          12
         ],
         "xaxis": "x",
         "y": [
          0.4601932811780948,
          0.4814636494944632,
          0.4073319755600815,
          0.41788549937317176,
          0.3700962250185048,
          0.36656891495601174,
          0.3284072249589491,
          0.29841838257236647,
          0.28546959748786754,
          0.25106703489831783,
          0.22487069934787496,
          0.1866716445771887
         ],
         "yaxis": "y"
        },
        {
         "hovertemplate": "year=2024<br>month=%{x}<br>email_cac=%{y}<extra></extra>",
         "legendgroup": "2024",
         "line": {
          "color": "#19d3f3",
          "dash": "solid"
         },
         "marker": {
          "symbol": "circle"
         },
         "mode": "lines",
         "name": "2024",
         "orientation": "v",
         "showlegend": true,
         "type": "scatter",
         "x": [
          1
         ],
         "xaxis": "x",
         "y": [
          0.16139444803098774
         ],
         "yaxis": "y"
        }
       ],
       "layout": {
        "height": 500,
        "legend": {
         "title": {
          "text": "year"
         },
         "tracegroupgap": 0
        },
        "template": {
         "data": {
          "bar": [
           {
            "error_x": {
             "color": "#2a3f5f"
            },
            "error_y": {
             "color": "#2a3f5f"
            },
            "marker": {
             "line": {
              "color": "#E5ECF6",
              "width": 0.5
             },
             "pattern": {
              "fillmode": "overlay",
              "size": 10,
              "solidity": 0.2
             }
            },
            "type": "bar"
           }
          ],
          "barpolar": [
           {
            "marker": {
             "line": {
              "color": "#E5ECF6",
              "width": 0.5
             },
             "pattern": {
              "fillmode": "overlay",
              "size": 10,
              "solidity": 0.2
             }
            },
            "type": "barpolar"
           }
          ],
          "carpet": [
           {
            "aaxis": {
             "endlinecolor": "#2a3f5f",
             "gridcolor": "white",
             "linecolor": "white",
             "minorgridcolor": "white",
             "startlinecolor": "#2a3f5f"
            },
            "baxis": {
             "endlinecolor": "#2a3f5f",
             "gridcolor": "white",
             "linecolor": "white",
             "minorgridcolor": "white",
             "startlinecolor": "#2a3f5f"
            },
            "type": "carpet"
           }
          ],
          "choropleth": [
           {
            "colorbar": {
             "outlinewidth": 0,
             "ticks": ""
            },
            "type": "choropleth"
           }
          ],
          "contour": [
           {
            "colorbar": {
             "outlinewidth": 0,
             "ticks": ""
            },
            "colorscale": [
             [
              0,
              "#0d0887"
             ],
             [
              0.1111111111111111,
              "#46039f"
             ],
             [
              0.2222222222222222,
              "#7201a8"
             ],
             [
              0.3333333333333333,
              "#9c179e"
             ],
             [
              0.4444444444444444,
              "#bd3786"
             ],
             [
              0.5555555555555556,
              "#d8576b"
             ],
             [
              0.6666666666666666,
              "#ed7953"
             ],
             [
              0.7777777777777778,
              "#fb9f3a"
             ],
             [
              0.8888888888888888,
              "#fdca26"
             ],
             [
              1,
              "#f0f921"
             ]
            ],
            "type": "contour"
           }
          ],
          "contourcarpet": [
           {
            "colorbar": {
             "outlinewidth": 0,
             "ticks": ""
            },
            "type": "contourcarpet"
           }
          ],
          "heatmap": [
           {
            "colorbar": {
             "outlinewidth": 0,
             "ticks": ""
            },
            "colorscale": [
             [
              0,
              "#0d0887"
             ],
             [
              0.1111111111111111,
              "#46039f"
             ],
             [
              0.2222222222222222,
              "#7201a8"
             ],
             [
              0.3333333333333333,
              "#9c179e"
             ],
             [
              0.4444444444444444,
              "#bd3786"
             ],
             [
              0.5555555555555556,
              "#d8576b"
             ],
             [
              0.6666666666666666,
              "#ed7953"
             ],
             [
              0.7777777777777778,
              "#fb9f3a"
             ],
             [
              0.8888888888888888,
              "#fdca26"
             ],
             [
              1,
              "#f0f921"
             ]
            ],
            "type": "heatmap"
           }
          ],
          "heatmapgl": [
           {
            "colorbar": {
             "outlinewidth": 0,
             "ticks": ""
            },
            "colorscale": [
             [
              0,
              "#0d0887"
             ],
             [
              0.1111111111111111,
              "#46039f"
             ],
             [
              0.2222222222222222,
              "#7201a8"
             ],
             [
              0.3333333333333333,
              "#9c179e"
             ],
             [
              0.4444444444444444,
              "#bd3786"
             ],
             [
              0.5555555555555556,
              "#d8576b"
             ],
             [
              0.6666666666666666,
              "#ed7953"
             ],
             [
              0.7777777777777778,
              "#fb9f3a"
             ],
             [
              0.8888888888888888,
              "#fdca26"
             ],
             [
              1,
              "#f0f921"
             ]
            ],
            "type": "heatmapgl"
           }
          ],
          "histogram": [
           {
            "marker": {
             "pattern": {
              "fillmode": "overlay",
              "size": 10,
              "solidity": 0.2
             }
            },
            "type": "histogram"
           }
          ],
          "histogram2d": [
           {
            "colorbar": {
             "outlinewidth": 0,
             "ticks": ""
            },
            "colorscale": [
             [
              0,
              "#0d0887"
             ],
             [
              0.1111111111111111,
              "#46039f"
             ],
             [
              0.2222222222222222,
              "#7201a8"
             ],
             [
              0.3333333333333333,
              "#9c179e"
             ],
             [
              0.4444444444444444,
              "#bd3786"
             ],
             [
              0.5555555555555556,
              "#d8576b"
             ],
             [
              0.6666666666666666,
              "#ed7953"
             ],
             [
              0.7777777777777778,
              "#fb9f3a"
             ],
             [
              0.8888888888888888,
              "#fdca26"
             ],
             [
              1,
              "#f0f921"
             ]
            ],
            "type": "histogram2d"
           }
          ],
          "histogram2dcontour": [
           {
            "colorbar": {
             "outlinewidth": 0,
             "ticks": ""
            },
            "colorscale": [
             [
              0,
              "#0d0887"
             ],
             [
              0.1111111111111111,
              "#46039f"
             ],
             [
              0.2222222222222222,
              "#7201a8"
             ],
             [
              0.3333333333333333,
              "#9c179e"
             ],
             [
              0.4444444444444444,
              "#bd3786"
             ],
             [
              0.5555555555555556,
              "#d8576b"
             ],
             [
              0.6666666666666666,
              "#ed7953"
             ],
             [
              0.7777777777777778,
              "#fb9f3a"
             ],
             [
              0.8888888888888888,
              "#fdca26"
             ],
             [
              1,
              "#f0f921"
             ]
            ],
            "type": "histogram2dcontour"
           }
          ],
          "mesh3d": [
           {
            "colorbar": {
             "outlinewidth": 0,
             "ticks": ""
            },
            "type": "mesh3d"
           }
          ],
          "parcoords": [
           {
            "line": {
             "colorbar": {
              "outlinewidth": 0,
              "ticks": ""
             }
            },
            "type": "parcoords"
           }
          ],
          "pie": [
           {
            "automargin": true,
            "type": "pie"
           }
          ],
          "scatter": [
           {
            "fillpattern": {
             "fillmode": "overlay",
             "size": 10,
             "solidity": 0.2
            },
            "type": "scatter"
           }
          ],
          "scatter3d": [
           {
            "line": {
             "colorbar": {
              "outlinewidth": 0,
              "ticks": ""
             }
            },
            "marker": {
             "colorbar": {
              "outlinewidth": 0,
              "ticks": ""
             }
            },
            "type": "scatter3d"
           }
          ],
          "scattercarpet": [
           {
            "marker": {
             "colorbar": {
              "outlinewidth": 0,
              "ticks": ""
             }
            },
            "type": "scattercarpet"
           }
          ],
          "scattergeo": [
           {
            "marker": {
             "colorbar": {
              "outlinewidth": 0,
              "ticks": ""
             }
            },
            "type": "scattergeo"
           }
          ],
          "scattergl": [
           {
            "marker": {
             "colorbar": {
              "outlinewidth": 0,
              "ticks": ""
             }
            },
            "type": "scattergl"
           }
          ],
          "scattermapbox": [
           {
            "marker": {
             "colorbar": {
              "outlinewidth": 0,
              "ticks": ""
             }
            },
            "type": "scattermapbox"
           }
          ],
          "scatterpolar": [
           {
            "marker": {
             "colorbar": {
              "outlinewidth": 0,
              "ticks": ""
             }
            },
            "type": "scatterpolar"
           }
          ],
          "scatterpolargl": [
           {
            "marker": {
             "colorbar": {
              "outlinewidth": 0,
              "ticks": ""
             }
            },
            "type": "scatterpolargl"
           }
          ],
          "scatterternary": [
           {
            "marker": {
             "colorbar": {
              "outlinewidth": 0,
              "ticks": ""
             }
            },
            "type": "scatterternary"
           }
          ],
          "surface": [
           {
            "colorbar": {
             "outlinewidth": 0,
             "ticks": ""
            },
            "colorscale": [
             [
              0,
              "#0d0887"
             ],
             [
              0.1111111111111111,
              "#46039f"
             ],
             [
              0.2222222222222222,
              "#7201a8"
             ],
             [
              0.3333333333333333,
              "#9c179e"
             ],
             [
              0.4444444444444444,
              "#bd3786"
             ],
             [
              0.5555555555555556,
              "#d8576b"
             ],
             [
              0.6666666666666666,
              "#ed7953"
             ],
             [
              0.7777777777777778,
              "#fb9f3a"
             ],
             [
              0.8888888888888888,
              "#fdca26"
             ],
             [
              1,
              "#f0f921"
             ]
            ],
            "type": "surface"
           }
          ],
          "table": [
           {
            "cells": {
             "fill": {
              "color": "#EBF0F8"
             },
             "line": {
              "color": "white"
             }
            },
            "header": {
             "fill": {
              "color": "#C8D4E3"
             },
             "line": {
              "color": "white"
             }
            },
            "type": "table"
           }
          ]
         },
         "layout": {
          "annotationdefaults": {
           "arrowcolor": "#2a3f5f",
           "arrowhead": 0,
           "arrowwidth": 1
          },
          "autotypenumbers": "strict",
          "coloraxis": {
           "colorbar": {
            "outlinewidth": 0,
            "ticks": ""
           }
          },
          "colorscale": {
           "diverging": [
            [
             0,
             "#8e0152"
            ],
            [
             0.1,
             "#c51b7d"
            ],
            [
             0.2,
             "#de77ae"
            ],
            [
             0.3,
             "#f1b6da"
            ],
            [
             0.4,
             "#fde0ef"
            ],
            [
             0.5,
             "#f7f7f7"
            ],
            [
             0.6,
             "#e6f5d0"
            ],
            [
             0.7,
             "#b8e186"
            ],
            [
             0.8,
             "#7fbc41"
            ],
            [
             0.9,
             "#4d9221"
            ],
            [
             1,
             "#276419"
            ]
           ],
           "sequential": [
            [
             0,
             "#0d0887"
            ],
            [
             0.1111111111111111,
             "#46039f"
            ],
            [
             0.2222222222222222,
             "#7201a8"
            ],
            [
             0.3333333333333333,
             "#9c179e"
            ],
            [
             0.4444444444444444,
             "#bd3786"
            ],
            [
             0.5555555555555556,
             "#d8576b"
            ],
            [
             0.6666666666666666,
             "#ed7953"
            ],
            [
             0.7777777777777778,
             "#fb9f3a"
            ],
            [
             0.8888888888888888,
             "#fdca26"
            ],
            [
             1,
             "#f0f921"
            ]
           ],
           "sequentialminus": [
            [
             0,
             "#0d0887"
            ],
            [
             0.1111111111111111,
             "#46039f"
            ],
            [
             0.2222222222222222,
             "#7201a8"
            ],
            [
             0.3333333333333333,
             "#9c179e"
            ],
            [
             0.4444444444444444,
             "#bd3786"
            ],
            [
             0.5555555555555556,
             "#d8576b"
            ],
            [
             0.6666666666666666,
             "#ed7953"
            ],
            [
             0.7777777777777778,
             "#fb9f3a"
            ],
            [
             0.8888888888888888,
             "#fdca26"
            ],
            [
             1,
             "#f0f921"
            ]
           ]
          },
          "colorway": [
           "#636efa",
           "#EF553B",
           "#00cc96",
           "#ab63fa",
           "#FFA15A",
           "#19d3f3",
           "#FF6692",
           "#B6E880",
           "#FF97FF",
           "#FECB52"
          ],
          "font": {
           "color": "#2a3f5f"
          },
          "geo": {
           "bgcolor": "white",
           "lakecolor": "white",
           "landcolor": "#E5ECF6",
           "showlakes": true,
           "showland": true,
           "subunitcolor": "white"
          },
          "hoverlabel": {
           "align": "left"
          },
          "hovermode": "closest",
          "mapbox": {
           "style": "light"
          },
          "paper_bgcolor": "white",
          "plot_bgcolor": "#E5ECF6",
          "polar": {
           "angularaxis": {
            "gridcolor": "white",
            "linecolor": "white",
            "ticks": ""
           },
           "bgcolor": "#E5ECF6",
           "radialaxis": {
            "gridcolor": "white",
            "linecolor": "white",
            "ticks": ""
           }
          },
          "scene": {
           "xaxis": {
            "backgroundcolor": "#E5ECF6",
            "gridcolor": "white",
            "gridwidth": 2,
            "linecolor": "white",
            "showbackground": true,
            "ticks": "",
            "zerolinecolor": "white"
           },
           "yaxis": {
            "backgroundcolor": "#E5ECF6",
            "gridcolor": "white",
            "gridwidth": 2,
            "linecolor": "white",
            "showbackground": true,
            "ticks": "",
            "zerolinecolor": "white"
           },
           "zaxis": {
            "backgroundcolor": "#E5ECF6",
            "gridcolor": "white",
            "gridwidth": 2,
            "linecolor": "white",
            "showbackground": true,
            "ticks": "",
            "zerolinecolor": "white"
           }
          },
          "shapedefaults": {
           "line": {
            "color": "#2a3f5f"
           }
          },
          "ternary": {
           "aaxis": {
            "gridcolor": "white",
            "linecolor": "white",
            "ticks": ""
           },
           "baxis": {
            "gridcolor": "white",
            "linecolor": "white",
            "ticks": ""
           },
           "bgcolor": "#E5ECF6",
           "caxis": {
            "gridcolor": "white",
            "linecolor": "white",
            "ticks": ""
           }
          },
          "title": {
           "x": 0.05
          },
          "xaxis": {
           "automargin": true,
           "gridcolor": "white",
           "linecolor": "white",
           "ticks": "",
           "title": {
            "standoff": 15
           },
           "zerolinecolor": "white",
           "zerolinewidth": 2
          },
          "yaxis": {
           "automargin": true,
           "gridcolor": "white",
           "linecolor": "white",
           "ticks": "",
           "title": {
            "standoff": 15
           },
           "zerolinecolor": "white",
           "zerolinewidth": 2
          }
         }
        },
        "title": {
         "text": " Email CAC"
        },
        "width": 1200,
        "xaxis": {
         "anchor": "y",
         "domain": [
          0,
          1
         ],
         "title": {
          "text": "month"
         }
        },
        "yaxis": {
         "anchor": "x",
         "domain": [
          0,
          1
         ],
         "title": {
          "text": "email_cac"
         }
        }
       }
      }
     },
     "metadata": {},
     "output_type": "display_data"
    }
   ],
   "source": [
    "fig = px.line(df_cac , x = 'month' ,y = 'email_cac', width = 1200, height = 500, color='year', title =\" Email CAC\")\n",
    "fig.show()"
   ]
  },
  {
   "cell_type": "code",
   "execution_count": 25,
   "metadata": {},
   "outputs": [
    {
     "data": {
      "application/vnd.plotly.v1+json": {
       "config": {
        "plotlyServerURL": "https://plot.ly"
       },
       "data": [
        {
         "hovertemplate": "year=2019<br>month=%{x}<br>adwords_cac=%{y}<extra></extra>",
         "legendgroup": "2019",
         "line": {
          "color": "#636efa",
          "dash": "solid"
         },
         "marker": {
          "symbol": "circle"
         },
         "mode": "lines",
         "name": "2019",
         "orientation": "v",
         "showlegend": true,
         "type": "scatter",
         "x": [
          1,
          2,
          3,
          4,
          5,
          6,
          7,
          8,
          9,
          10,
          11,
          12
         ],
         "xaxis": "x",
         "y": [
          495.6136363636364,
          261.9,
          292.6125,
          123.8936170212766,
          85.5,
          65.25,
          56.3373786407767,
          51.109913793103445,
          48.68181818181818,
          41.679310344827584,
          41.56071428571428,
          32.44047619047619
         ],
         "yaxis": "y"
        },
        {
         "hovertemplate": "year=2020<br>month=%{x}<br>adwords_cac=%{y}<extra></extra>",
         "legendgroup": "2020",
         "line": {
          "color": "#EF553B",
          "dash": "solid"
         },
         "marker": {
          "symbol": "circle"
         },
         "mode": "lines",
         "name": "2020",
         "orientation": "v",
         "showlegend": true,
         "type": "scatter",
         "x": [
          1,
          2,
          3,
          4,
          5,
          6,
          7,
          8,
          9,
          10,
          11,
          12
         ],
         "xaxis": "x",
         "y": [
          29.04739336492891,
          26.513513513513512,
          29.02601809954751,
          25.527439024390244,
          22.375862068965517,
          20.474276527331188,
          18.46685878962536,
          19.767350157728707,
          16.902439024390244,
          16.85545905707196,
          15.905172413793103,
          13.794478527607362
         ],
         "yaxis": "y"
        },
        {
         "hovertemplate": "year=2021<br>month=%{x}<br>adwords_cac=%{y}<extra></extra>",
         "legendgroup": "2021",
         "line": {
          "color": "#00cc96",
          "dash": "solid"
         },
         "marker": {
          "symbol": "circle"
         },
         "mode": "lines",
         "name": "2021",
         "orientation": "v",
         "showlegend": true,
         "type": "scatter",
         "x": [
          1,
          2,
          3,
          4,
          5,
          6,
          7,
          8,
          9,
          10,
          11,
          12
         ],
         "xaxis": "x",
         "y": [
          12.769160583941606,
          14.219178082191782,
          13.547779922779922,
          13.347609561752988,
          11.963793103448277,
          11.929966044142615,
          11.281542056074766,
          11.201162790697675,
          10.698562783661119,
          10.022169167803547,
          9.855245231607629,
          10.093288590604027
         ],
         "yaxis": "y"
        },
        {
         "hovertemplate": "year=2022<br>month=%{x}<br>adwords_cac=%{y}<extra></extra>",
         "legendgroup": "2022",
         "line": {
          "color": "#ab63fa",
          "dash": "solid"
         },
         "marker": {
          "symbol": "circle"
         },
         "mode": "lines",
         "name": "2022",
         "orientation": "v",
         "showlegend": true,
         "type": "scatter",
         "x": [
          1,
          2,
          3,
          4,
          5,
          6,
          7,
          8,
          9,
          10,
          11,
          12
         ],
         "xaxis": "x",
         "y": [
          8.99451219512195,
          9.481267029972752,
          8.361019736842104,
          8.745332555425904,
          8.000242013552759,
          7.759756097560976,
          7.893266475644699,
          6.748197115384615,
          7.198008849557522,
          6.5339176829268295,
          6.4704754601226995,
          6.55011013215859
         ],
         "yaxis": "y"
        },
        {
         "hovertemplate": "year=2023<br>month=%{x}<br>adwords_cac=%{y}<extra></extra>",
         "legendgroup": "2023",
         "line": {
          "color": "#FFA15A",
          "dash": "solid"
         },
         "marker": {
          "symbol": "circle"
         },
         "mode": "lines",
         "name": "2023",
         "orientation": "v",
         "showlegend": true,
         "type": "scatter",
         "x": [
          1,
          2,
          3,
          4,
          5,
          6,
          7,
          8,
          9,
          10,
          11,
          12
         ],
         "xaxis": "x",
         "y": [
          6.191390041493776,
          6.313458588957055,
          5.847722960151803,
          5.519736842105263,
          5.602631578947369,
          5.371653543307087,
          5.029859767891683,
          5.016597510373444,
          4.622436165759732,
          4.536557059961315,
          4.186593591905565,
          3.8693040596520296
         ],
         "yaxis": "y"
        },
        {
         "hovertemplate": "year=2024<br>month=%{x}<br>adwords_cac=%{y}<extra></extra>",
         "legendgroup": "2024",
         "line": {
          "color": "#19d3f3",
          "dash": "solid"
         },
         "marker": {
          "symbol": "circle"
         },
         "mode": "lines",
         "name": "2024",
         "orientation": "v",
         "showlegend": true,
         "type": "scatter",
         "x": [
          1
         ],
         "xaxis": "x",
         "y": [
          3.020812868369352
         ],
         "yaxis": "y"
        }
       ],
       "layout": {
        "height": 500,
        "legend": {
         "title": {
          "text": "year"
         },
         "tracegroupgap": 0
        },
        "template": {
         "data": {
          "bar": [
           {
            "error_x": {
             "color": "#2a3f5f"
            },
            "error_y": {
             "color": "#2a3f5f"
            },
            "marker": {
             "line": {
              "color": "#E5ECF6",
              "width": 0.5
             },
             "pattern": {
              "fillmode": "overlay",
              "size": 10,
              "solidity": 0.2
             }
            },
            "type": "bar"
           }
          ],
          "barpolar": [
           {
            "marker": {
             "line": {
              "color": "#E5ECF6",
              "width": 0.5
             },
             "pattern": {
              "fillmode": "overlay",
              "size": 10,
              "solidity": 0.2
             }
            },
            "type": "barpolar"
           }
          ],
          "carpet": [
           {
            "aaxis": {
             "endlinecolor": "#2a3f5f",
             "gridcolor": "white",
             "linecolor": "white",
             "minorgridcolor": "white",
             "startlinecolor": "#2a3f5f"
            },
            "baxis": {
             "endlinecolor": "#2a3f5f",
             "gridcolor": "white",
             "linecolor": "white",
             "minorgridcolor": "white",
             "startlinecolor": "#2a3f5f"
            },
            "type": "carpet"
           }
          ],
          "choropleth": [
           {
            "colorbar": {
             "outlinewidth": 0,
             "ticks": ""
            },
            "type": "choropleth"
           }
          ],
          "contour": [
           {
            "colorbar": {
             "outlinewidth": 0,
             "ticks": ""
            },
            "colorscale": [
             [
              0,
              "#0d0887"
             ],
             [
              0.1111111111111111,
              "#46039f"
             ],
             [
              0.2222222222222222,
              "#7201a8"
             ],
             [
              0.3333333333333333,
              "#9c179e"
             ],
             [
              0.4444444444444444,
              "#bd3786"
             ],
             [
              0.5555555555555556,
              "#d8576b"
             ],
             [
              0.6666666666666666,
              "#ed7953"
             ],
             [
              0.7777777777777778,
              "#fb9f3a"
             ],
             [
              0.8888888888888888,
              "#fdca26"
             ],
             [
              1,
              "#f0f921"
             ]
            ],
            "type": "contour"
           }
          ],
          "contourcarpet": [
           {
            "colorbar": {
             "outlinewidth": 0,
             "ticks": ""
            },
            "type": "contourcarpet"
           }
          ],
          "heatmap": [
           {
            "colorbar": {
             "outlinewidth": 0,
             "ticks": ""
            },
            "colorscale": [
             [
              0,
              "#0d0887"
             ],
             [
              0.1111111111111111,
              "#46039f"
             ],
             [
              0.2222222222222222,
              "#7201a8"
             ],
             [
              0.3333333333333333,
              "#9c179e"
             ],
             [
              0.4444444444444444,
              "#bd3786"
             ],
             [
              0.5555555555555556,
              "#d8576b"
             ],
             [
              0.6666666666666666,
              "#ed7953"
             ],
             [
              0.7777777777777778,
              "#fb9f3a"
             ],
             [
              0.8888888888888888,
              "#fdca26"
             ],
             [
              1,
              "#f0f921"
             ]
            ],
            "type": "heatmap"
           }
          ],
          "heatmapgl": [
           {
            "colorbar": {
             "outlinewidth": 0,
             "ticks": ""
            },
            "colorscale": [
             [
              0,
              "#0d0887"
             ],
             [
              0.1111111111111111,
              "#46039f"
             ],
             [
              0.2222222222222222,
              "#7201a8"
             ],
             [
              0.3333333333333333,
              "#9c179e"
             ],
             [
              0.4444444444444444,
              "#bd3786"
             ],
             [
              0.5555555555555556,
              "#d8576b"
             ],
             [
              0.6666666666666666,
              "#ed7953"
             ],
             [
              0.7777777777777778,
              "#fb9f3a"
             ],
             [
              0.8888888888888888,
              "#fdca26"
             ],
             [
              1,
              "#f0f921"
             ]
            ],
            "type": "heatmapgl"
           }
          ],
          "histogram": [
           {
            "marker": {
             "pattern": {
              "fillmode": "overlay",
              "size": 10,
              "solidity": 0.2
             }
            },
            "type": "histogram"
           }
          ],
          "histogram2d": [
           {
            "colorbar": {
             "outlinewidth": 0,
             "ticks": ""
            },
            "colorscale": [
             [
              0,
              "#0d0887"
             ],
             [
              0.1111111111111111,
              "#46039f"
             ],
             [
              0.2222222222222222,
              "#7201a8"
             ],
             [
              0.3333333333333333,
              "#9c179e"
             ],
             [
              0.4444444444444444,
              "#bd3786"
             ],
             [
              0.5555555555555556,
              "#d8576b"
             ],
             [
              0.6666666666666666,
              "#ed7953"
             ],
             [
              0.7777777777777778,
              "#fb9f3a"
             ],
             [
              0.8888888888888888,
              "#fdca26"
             ],
             [
              1,
              "#f0f921"
             ]
            ],
            "type": "histogram2d"
           }
          ],
          "histogram2dcontour": [
           {
            "colorbar": {
             "outlinewidth": 0,
             "ticks": ""
            },
            "colorscale": [
             [
              0,
              "#0d0887"
             ],
             [
              0.1111111111111111,
              "#46039f"
             ],
             [
              0.2222222222222222,
              "#7201a8"
             ],
             [
              0.3333333333333333,
              "#9c179e"
             ],
             [
              0.4444444444444444,
              "#bd3786"
             ],
             [
              0.5555555555555556,
              "#d8576b"
             ],
             [
              0.6666666666666666,
              "#ed7953"
             ],
             [
              0.7777777777777778,
              "#fb9f3a"
             ],
             [
              0.8888888888888888,
              "#fdca26"
             ],
             [
              1,
              "#f0f921"
             ]
            ],
            "type": "histogram2dcontour"
           }
          ],
          "mesh3d": [
           {
            "colorbar": {
             "outlinewidth": 0,
             "ticks": ""
            },
            "type": "mesh3d"
           }
          ],
          "parcoords": [
           {
            "line": {
             "colorbar": {
              "outlinewidth": 0,
              "ticks": ""
             }
            },
            "type": "parcoords"
           }
          ],
          "pie": [
           {
            "automargin": true,
            "type": "pie"
           }
          ],
          "scatter": [
           {
            "fillpattern": {
             "fillmode": "overlay",
             "size": 10,
             "solidity": 0.2
            },
            "type": "scatter"
           }
          ],
          "scatter3d": [
           {
            "line": {
             "colorbar": {
              "outlinewidth": 0,
              "ticks": ""
             }
            },
            "marker": {
             "colorbar": {
              "outlinewidth": 0,
              "ticks": ""
             }
            },
            "type": "scatter3d"
           }
          ],
          "scattercarpet": [
           {
            "marker": {
             "colorbar": {
              "outlinewidth": 0,
              "ticks": ""
             }
            },
            "type": "scattercarpet"
           }
          ],
          "scattergeo": [
           {
            "marker": {
             "colorbar": {
              "outlinewidth": 0,
              "ticks": ""
             }
            },
            "type": "scattergeo"
           }
          ],
          "scattergl": [
           {
            "marker": {
             "colorbar": {
              "outlinewidth": 0,
              "ticks": ""
             }
            },
            "type": "scattergl"
           }
          ],
          "scattermapbox": [
           {
            "marker": {
             "colorbar": {
              "outlinewidth": 0,
              "ticks": ""
             }
            },
            "type": "scattermapbox"
           }
          ],
          "scatterpolar": [
           {
            "marker": {
             "colorbar": {
              "outlinewidth": 0,
              "ticks": ""
             }
            },
            "type": "scatterpolar"
           }
          ],
          "scatterpolargl": [
           {
            "marker": {
             "colorbar": {
              "outlinewidth": 0,
              "ticks": ""
             }
            },
            "type": "scatterpolargl"
           }
          ],
          "scatterternary": [
           {
            "marker": {
             "colorbar": {
              "outlinewidth": 0,
              "ticks": ""
             }
            },
            "type": "scatterternary"
           }
          ],
          "surface": [
           {
            "colorbar": {
             "outlinewidth": 0,
             "ticks": ""
            },
            "colorscale": [
             [
              0,
              "#0d0887"
             ],
             [
              0.1111111111111111,
              "#46039f"
             ],
             [
              0.2222222222222222,
              "#7201a8"
             ],
             [
              0.3333333333333333,
              "#9c179e"
             ],
             [
              0.4444444444444444,
              "#bd3786"
             ],
             [
              0.5555555555555556,
              "#d8576b"
             ],
             [
              0.6666666666666666,
              "#ed7953"
             ],
             [
              0.7777777777777778,
              "#fb9f3a"
             ],
             [
              0.8888888888888888,
              "#fdca26"
             ],
             [
              1,
              "#f0f921"
             ]
            ],
            "type": "surface"
           }
          ],
          "table": [
           {
            "cells": {
             "fill": {
              "color": "#EBF0F8"
             },
             "line": {
              "color": "white"
             }
            },
            "header": {
             "fill": {
              "color": "#C8D4E3"
             },
             "line": {
              "color": "white"
             }
            },
            "type": "table"
           }
          ]
         },
         "layout": {
          "annotationdefaults": {
           "arrowcolor": "#2a3f5f",
           "arrowhead": 0,
           "arrowwidth": 1
          },
          "autotypenumbers": "strict",
          "coloraxis": {
           "colorbar": {
            "outlinewidth": 0,
            "ticks": ""
           }
          },
          "colorscale": {
           "diverging": [
            [
             0,
             "#8e0152"
            ],
            [
             0.1,
             "#c51b7d"
            ],
            [
             0.2,
             "#de77ae"
            ],
            [
             0.3,
             "#f1b6da"
            ],
            [
             0.4,
             "#fde0ef"
            ],
            [
             0.5,
             "#f7f7f7"
            ],
            [
             0.6,
             "#e6f5d0"
            ],
            [
             0.7,
             "#b8e186"
            ],
            [
             0.8,
             "#7fbc41"
            ],
            [
             0.9,
             "#4d9221"
            ],
            [
             1,
             "#276419"
            ]
           ],
           "sequential": [
            [
             0,
             "#0d0887"
            ],
            [
             0.1111111111111111,
             "#46039f"
            ],
            [
             0.2222222222222222,
             "#7201a8"
            ],
            [
             0.3333333333333333,
             "#9c179e"
            ],
            [
             0.4444444444444444,
             "#bd3786"
            ],
            [
             0.5555555555555556,
             "#d8576b"
            ],
            [
             0.6666666666666666,
             "#ed7953"
            ],
            [
             0.7777777777777778,
             "#fb9f3a"
            ],
            [
             0.8888888888888888,
             "#fdca26"
            ],
            [
             1,
             "#f0f921"
            ]
           ],
           "sequentialminus": [
            [
             0,
             "#0d0887"
            ],
            [
             0.1111111111111111,
             "#46039f"
            ],
            [
             0.2222222222222222,
             "#7201a8"
            ],
            [
             0.3333333333333333,
             "#9c179e"
            ],
            [
             0.4444444444444444,
             "#bd3786"
            ],
            [
             0.5555555555555556,
             "#d8576b"
            ],
            [
             0.6666666666666666,
             "#ed7953"
            ],
            [
             0.7777777777777778,
             "#fb9f3a"
            ],
            [
             0.8888888888888888,
             "#fdca26"
            ],
            [
             1,
             "#f0f921"
            ]
           ]
          },
          "colorway": [
           "#636efa",
           "#EF553B",
           "#00cc96",
           "#ab63fa",
           "#FFA15A",
           "#19d3f3",
           "#FF6692",
           "#B6E880",
           "#FF97FF",
           "#FECB52"
          ],
          "font": {
           "color": "#2a3f5f"
          },
          "geo": {
           "bgcolor": "white",
           "lakecolor": "white",
           "landcolor": "#E5ECF6",
           "showlakes": true,
           "showland": true,
           "subunitcolor": "white"
          },
          "hoverlabel": {
           "align": "left"
          },
          "hovermode": "closest",
          "mapbox": {
           "style": "light"
          },
          "paper_bgcolor": "white",
          "plot_bgcolor": "#E5ECF6",
          "polar": {
           "angularaxis": {
            "gridcolor": "white",
            "linecolor": "white",
            "ticks": ""
           },
           "bgcolor": "#E5ECF6",
           "radialaxis": {
            "gridcolor": "white",
            "linecolor": "white",
            "ticks": ""
           }
          },
          "scene": {
           "xaxis": {
            "backgroundcolor": "#E5ECF6",
            "gridcolor": "white",
            "gridwidth": 2,
            "linecolor": "white",
            "showbackground": true,
            "ticks": "",
            "zerolinecolor": "white"
           },
           "yaxis": {
            "backgroundcolor": "#E5ECF6",
            "gridcolor": "white",
            "gridwidth": 2,
            "linecolor": "white",
            "showbackground": true,
            "ticks": "",
            "zerolinecolor": "white"
           },
           "zaxis": {
            "backgroundcolor": "#E5ECF6",
            "gridcolor": "white",
            "gridwidth": 2,
            "linecolor": "white",
            "showbackground": true,
            "ticks": "",
            "zerolinecolor": "white"
           }
          },
          "shapedefaults": {
           "line": {
            "color": "#2a3f5f"
           }
          },
          "ternary": {
           "aaxis": {
            "gridcolor": "white",
            "linecolor": "white",
            "ticks": ""
           },
           "baxis": {
            "gridcolor": "white",
            "linecolor": "white",
            "ticks": ""
           },
           "bgcolor": "#E5ECF6",
           "caxis": {
            "gridcolor": "white",
            "linecolor": "white",
            "ticks": ""
           }
          },
          "title": {
           "x": 0.05
          },
          "xaxis": {
           "automargin": true,
           "gridcolor": "white",
           "linecolor": "white",
           "ticks": "",
           "title": {
            "standoff": 15
           },
           "zerolinecolor": "white",
           "zerolinewidth": 2
          },
          "yaxis": {
           "automargin": true,
           "gridcolor": "white",
           "linecolor": "white",
           "ticks": "",
           "title": {
            "standoff": 15
           },
           "zerolinecolor": "white",
           "zerolinewidth": 2
          }
         }
        },
        "title": {
         "text": "adwords_cac"
        },
        "width": 1200,
        "xaxis": {
         "anchor": "y",
         "domain": [
          0,
          1
         ],
         "title": {
          "text": "month"
         }
        },
        "yaxis": {
         "anchor": "x",
         "domain": [
          0,
          1
         ],
         "title": {
          "text": "adwords_cac"
         }
        }
       }
      }
     },
     "metadata": {},
     "output_type": "display_data"
    }
   ],
   "source": [
    "fig = px.line(df_cac , x = 'month' ,y = 'adwords_cac', width = 1200, height = 500, color='year',title = 'adwords_cac')\n",
    "fig.show()"
   ]
  },
  {
   "cell_type": "code",
   "execution_count": 26,
   "metadata": {},
   "outputs": [
    {
     "data": {
      "application/vnd.plotly.v1+json": {
       "config": {
        "plotlyServerURL": "https://plot.ly"
       },
       "data": [
        {
         "hovertemplate": "year=2019<br>month=%{x}<br>YouTube_cac=%{y}<extra></extra>",
         "legendgroup": "2019",
         "line": {
          "color": "#636efa",
          "dash": "solid"
         },
         "marker": {
          "symbol": "circle"
         },
         "mode": "lines",
         "name": "2019",
         "orientation": "v",
         "showlegend": true,
         "type": "scatter",
         "x": [
          1,
          2,
          3,
          4,
          5,
          6,
          7,
          8,
          9,
          10,
          11,
          12
         ],
         "xaxis": "x",
         "y": [
          3.935,
          5.6625,
          1.8807692307692307,
          1.6,
          1.2765,
          0.8090322580645161,
          0.8429032258064516,
          0.9666666666666666,
          0.653076923076923,
          0.574375,
          0.5157692307692308,
          0.46157894736842103
         ],
         "yaxis": "y"
        },
        {
         "hovertemplate": "year=2020<br>month=%{x}<br>YouTube_cac=%{y}<extra></extra>",
         "legendgroup": "2020",
         "line": {
          "color": "#EF553B",
          "dash": "solid"
         },
         "marker": {
          "symbol": "circle"
         },
         "mode": "lines",
         "name": "2020",
         "orientation": "v",
         "showlegend": true,
         "type": "scatter",
         "x": [
          1,
          2,
          3,
          4,
          5,
          6,
          7,
          8,
          9,
          10,
          11,
          12
         ],
         "xaxis": "x",
         "y": [
          0.38577464788732396,
          0.4301694915254237,
          0.3754166666666666,
          0.34860759493670884,
          0.25275,
          0.28875,
          0.2628318584070796,
          0.27749999999999997,
          0.272970297029703,
          0.20633093525179855,
          0.19925675675675675,
          0.18652173913043477
         ],
         "yaxis": "y"
        },
        {
         "hovertemplate": "year=2021<br>month=%{x}<br>YouTube_cac=%{y}<extra></extra>",
         "legendgroup": "2021",
         "line": {
          "color": "#00cc96",
          "dash": "solid"
         },
         "marker": {
          "symbol": "circle"
         },
         "mode": "lines",
         "name": "2021",
         "orientation": "v",
         "showlegend": true,
         "type": "scatter",
         "x": [
          1,
          2,
          3,
          4,
          5,
          6,
          7,
          8,
          9,
          10,
          11,
          12
         ],
         "xaxis": "x",
         "y": [
          0.18702531645569617,
          0.20525179856115106,
          0.18763313609467455,
          0.16508108108108108,
          0.1662162162162162,
          0.1568041237113402,
          0.17783333333333332,
          0.15182242990654207,
          0.14874418604651163,
          0.1393032786885246,
          0.12876543209876543,
          0.13104651162790698
         ],
         "yaxis": "y"
        },
        {
         "hovertemplate": "year=2022<br>month=%{x}<br>YouTube_cac=%{y}<extra></extra>",
         "legendgroup": "2022",
         "line": {
          "color": "#ab63fa",
          "dash": "solid"
         },
         "marker": {
          "symbol": "circle"
         },
         "mode": "lines",
         "name": "2022",
         "orientation": "v",
         "showlegend": true,
         "type": "scatter",
         "x": [
          1,
          2,
          3,
          4,
          5,
          6,
          7,
          8,
          9,
          10,
          11,
          12
         ],
         "xaxis": "x",
         "y": [
          0.12732824427480915,
          0.11357142857142856,
          0.1160472972972973,
          0.11945652173913043,
          0.1079245283018868,
          0.10183734939759037,
          0.09388601036269431,
          0.10005405405405404,
          0.10131428571428572,
          0.09621483375959079,
          0.08756380510440835,
          0.09327906976744185
         ],
         "yaxis": "y"
        },
        {
         "hovertemplate": "year=2023<br>month=%{x}<br>YouTube_cac=%{y}<extra></extra>",
         "legendgroup": "2023",
         "line": {
          "color": "#FFA15A",
          "dash": "solid"
         },
         "marker": {
          "symbol": "circle"
         },
         "mode": "lines",
         "name": "2023",
         "orientation": "v",
         "showlegend": true,
         "type": "scatter",
         "x": [
          1,
          2,
          3,
          4,
          5,
          6,
          7,
          8,
          9,
          10,
          11,
          12
         ],
         "xaxis": "x",
         "y": [
          0.08457446808510638,
          0.08715639810426541,
          0.0736734693877551,
          0.07678160919540229,
          0.07664516129032257,
          0.06882896764252697,
          0.06665753424657533,
          0.06339165545087483,
          0.06244818652849741,
          0.05823151125401929,
          0.05566945606694561,
          0.05178313253012048
         ],
         "yaxis": "y"
        },
        {
         "hovertemplate": "year=2024<br>month=%{x}<br>YouTube_cac=%{y}<extra></extra>",
         "legendgroup": "2024",
         "line": {
          "color": "#19d3f3",
          "dash": "solid"
         },
         "marker": {
          "symbol": "circle"
         },
         "mode": "lines",
         "name": "2024",
         "orientation": "v",
         "showlegend": true,
         "type": "scatter",
         "x": [
          1
         ],
         "xaxis": "x",
         "y": [
          0.039557721139430284
         ],
         "yaxis": "y"
        }
       ],
       "layout": {
        "height": 500,
        "legend": {
         "title": {
          "text": "year"
         },
         "tracegroupgap": 0
        },
        "template": {
         "data": {
          "bar": [
           {
            "error_x": {
             "color": "#2a3f5f"
            },
            "error_y": {
             "color": "#2a3f5f"
            },
            "marker": {
             "line": {
              "color": "#E5ECF6",
              "width": 0.5
             },
             "pattern": {
              "fillmode": "overlay",
              "size": 10,
              "solidity": 0.2
             }
            },
            "type": "bar"
           }
          ],
          "barpolar": [
           {
            "marker": {
             "line": {
              "color": "#E5ECF6",
              "width": 0.5
             },
             "pattern": {
              "fillmode": "overlay",
              "size": 10,
              "solidity": 0.2
             }
            },
            "type": "barpolar"
           }
          ],
          "carpet": [
           {
            "aaxis": {
             "endlinecolor": "#2a3f5f",
             "gridcolor": "white",
             "linecolor": "white",
             "minorgridcolor": "white",
             "startlinecolor": "#2a3f5f"
            },
            "baxis": {
             "endlinecolor": "#2a3f5f",
             "gridcolor": "white",
             "linecolor": "white",
             "minorgridcolor": "white",
             "startlinecolor": "#2a3f5f"
            },
            "type": "carpet"
           }
          ],
          "choropleth": [
           {
            "colorbar": {
             "outlinewidth": 0,
             "ticks": ""
            },
            "type": "choropleth"
           }
          ],
          "contour": [
           {
            "colorbar": {
             "outlinewidth": 0,
             "ticks": ""
            },
            "colorscale": [
             [
              0,
              "#0d0887"
             ],
             [
              0.1111111111111111,
              "#46039f"
             ],
             [
              0.2222222222222222,
              "#7201a8"
             ],
             [
              0.3333333333333333,
              "#9c179e"
             ],
             [
              0.4444444444444444,
              "#bd3786"
             ],
             [
              0.5555555555555556,
              "#d8576b"
             ],
             [
              0.6666666666666666,
              "#ed7953"
             ],
             [
              0.7777777777777778,
              "#fb9f3a"
             ],
             [
              0.8888888888888888,
              "#fdca26"
             ],
             [
              1,
              "#f0f921"
             ]
            ],
            "type": "contour"
           }
          ],
          "contourcarpet": [
           {
            "colorbar": {
             "outlinewidth": 0,
             "ticks": ""
            },
            "type": "contourcarpet"
           }
          ],
          "heatmap": [
           {
            "colorbar": {
             "outlinewidth": 0,
             "ticks": ""
            },
            "colorscale": [
             [
              0,
              "#0d0887"
             ],
             [
              0.1111111111111111,
              "#46039f"
             ],
             [
              0.2222222222222222,
              "#7201a8"
             ],
             [
              0.3333333333333333,
              "#9c179e"
             ],
             [
              0.4444444444444444,
              "#bd3786"
             ],
             [
              0.5555555555555556,
              "#d8576b"
             ],
             [
              0.6666666666666666,
              "#ed7953"
             ],
             [
              0.7777777777777778,
              "#fb9f3a"
             ],
             [
              0.8888888888888888,
              "#fdca26"
             ],
             [
              1,
              "#f0f921"
             ]
            ],
            "type": "heatmap"
           }
          ],
          "heatmapgl": [
           {
            "colorbar": {
             "outlinewidth": 0,
             "ticks": ""
            },
            "colorscale": [
             [
              0,
              "#0d0887"
             ],
             [
              0.1111111111111111,
              "#46039f"
             ],
             [
              0.2222222222222222,
              "#7201a8"
             ],
             [
              0.3333333333333333,
              "#9c179e"
             ],
             [
              0.4444444444444444,
              "#bd3786"
             ],
             [
              0.5555555555555556,
              "#d8576b"
             ],
             [
              0.6666666666666666,
              "#ed7953"
             ],
             [
              0.7777777777777778,
              "#fb9f3a"
             ],
             [
              0.8888888888888888,
              "#fdca26"
             ],
             [
              1,
              "#f0f921"
             ]
            ],
            "type": "heatmapgl"
           }
          ],
          "histogram": [
           {
            "marker": {
             "pattern": {
              "fillmode": "overlay",
              "size": 10,
              "solidity": 0.2
             }
            },
            "type": "histogram"
           }
          ],
          "histogram2d": [
           {
            "colorbar": {
             "outlinewidth": 0,
             "ticks": ""
            },
            "colorscale": [
             [
              0,
              "#0d0887"
             ],
             [
              0.1111111111111111,
              "#46039f"
             ],
             [
              0.2222222222222222,
              "#7201a8"
             ],
             [
              0.3333333333333333,
              "#9c179e"
             ],
             [
              0.4444444444444444,
              "#bd3786"
             ],
             [
              0.5555555555555556,
              "#d8576b"
             ],
             [
              0.6666666666666666,
              "#ed7953"
             ],
             [
              0.7777777777777778,
              "#fb9f3a"
             ],
             [
              0.8888888888888888,
              "#fdca26"
             ],
             [
              1,
              "#f0f921"
             ]
            ],
            "type": "histogram2d"
           }
          ],
          "histogram2dcontour": [
           {
            "colorbar": {
             "outlinewidth": 0,
             "ticks": ""
            },
            "colorscale": [
             [
              0,
              "#0d0887"
             ],
             [
              0.1111111111111111,
              "#46039f"
             ],
             [
              0.2222222222222222,
              "#7201a8"
             ],
             [
              0.3333333333333333,
              "#9c179e"
             ],
             [
              0.4444444444444444,
              "#bd3786"
             ],
             [
              0.5555555555555556,
              "#d8576b"
             ],
             [
              0.6666666666666666,
              "#ed7953"
             ],
             [
              0.7777777777777778,
              "#fb9f3a"
             ],
             [
              0.8888888888888888,
              "#fdca26"
             ],
             [
              1,
              "#f0f921"
             ]
            ],
            "type": "histogram2dcontour"
           }
          ],
          "mesh3d": [
           {
            "colorbar": {
             "outlinewidth": 0,
             "ticks": ""
            },
            "type": "mesh3d"
           }
          ],
          "parcoords": [
           {
            "line": {
             "colorbar": {
              "outlinewidth": 0,
              "ticks": ""
             }
            },
            "type": "parcoords"
           }
          ],
          "pie": [
           {
            "automargin": true,
            "type": "pie"
           }
          ],
          "scatter": [
           {
            "fillpattern": {
             "fillmode": "overlay",
             "size": 10,
             "solidity": 0.2
            },
            "type": "scatter"
           }
          ],
          "scatter3d": [
           {
            "line": {
             "colorbar": {
              "outlinewidth": 0,
              "ticks": ""
             }
            },
            "marker": {
             "colorbar": {
              "outlinewidth": 0,
              "ticks": ""
             }
            },
            "type": "scatter3d"
           }
          ],
          "scattercarpet": [
           {
            "marker": {
             "colorbar": {
              "outlinewidth": 0,
              "ticks": ""
             }
            },
            "type": "scattercarpet"
           }
          ],
          "scattergeo": [
           {
            "marker": {
             "colorbar": {
              "outlinewidth": 0,
              "ticks": ""
             }
            },
            "type": "scattergeo"
           }
          ],
          "scattergl": [
           {
            "marker": {
             "colorbar": {
              "outlinewidth": 0,
              "ticks": ""
             }
            },
            "type": "scattergl"
           }
          ],
          "scattermapbox": [
           {
            "marker": {
             "colorbar": {
              "outlinewidth": 0,
              "ticks": ""
             }
            },
            "type": "scattermapbox"
           }
          ],
          "scatterpolar": [
           {
            "marker": {
             "colorbar": {
              "outlinewidth": 0,
              "ticks": ""
             }
            },
            "type": "scatterpolar"
           }
          ],
          "scatterpolargl": [
           {
            "marker": {
             "colorbar": {
              "outlinewidth": 0,
              "ticks": ""
             }
            },
            "type": "scatterpolargl"
           }
          ],
          "scatterternary": [
           {
            "marker": {
             "colorbar": {
              "outlinewidth": 0,
              "ticks": ""
             }
            },
            "type": "scatterternary"
           }
          ],
          "surface": [
           {
            "colorbar": {
             "outlinewidth": 0,
             "ticks": ""
            },
            "colorscale": [
             [
              0,
              "#0d0887"
             ],
             [
              0.1111111111111111,
              "#46039f"
             ],
             [
              0.2222222222222222,
              "#7201a8"
             ],
             [
              0.3333333333333333,
              "#9c179e"
             ],
             [
              0.4444444444444444,
              "#bd3786"
             ],
             [
              0.5555555555555556,
              "#d8576b"
             ],
             [
              0.6666666666666666,
              "#ed7953"
             ],
             [
              0.7777777777777778,
              "#fb9f3a"
             ],
             [
              0.8888888888888888,
              "#fdca26"
             ],
             [
              1,
              "#f0f921"
             ]
            ],
            "type": "surface"
           }
          ],
          "table": [
           {
            "cells": {
             "fill": {
              "color": "#EBF0F8"
             },
             "line": {
              "color": "white"
             }
            },
            "header": {
             "fill": {
              "color": "#C8D4E3"
             },
             "line": {
              "color": "white"
             }
            },
            "type": "table"
           }
          ]
         },
         "layout": {
          "annotationdefaults": {
           "arrowcolor": "#2a3f5f",
           "arrowhead": 0,
           "arrowwidth": 1
          },
          "autotypenumbers": "strict",
          "coloraxis": {
           "colorbar": {
            "outlinewidth": 0,
            "ticks": ""
           }
          },
          "colorscale": {
           "diverging": [
            [
             0,
             "#8e0152"
            ],
            [
             0.1,
             "#c51b7d"
            ],
            [
             0.2,
             "#de77ae"
            ],
            [
             0.3,
             "#f1b6da"
            ],
            [
             0.4,
             "#fde0ef"
            ],
            [
             0.5,
             "#f7f7f7"
            ],
            [
             0.6,
             "#e6f5d0"
            ],
            [
             0.7,
             "#b8e186"
            ],
            [
             0.8,
             "#7fbc41"
            ],
            [
             0.9,
             "#4d9221"
            ],
            [
             1,
             "#276419"
            ]
           ],
           "sequential": [
            [
             0,
             "#0d0887"
            ],
            [
             0.1111111111111111,
             "#46039f"
            ],
            [
             0.2222222222222222,
             "#7201a8"
            ],
            [
             0.3333333333333333,
             "#9c179e"
            ],
            [
             0.4444444444444444,
             "#bd3786"
            ],
            [
             0.5555555555555556,
             "#d8576b"
            ],
            [
             0.6666666666666666,
             "#ed7953"
            ],
            [
             0.7777777777777778,
             "#fb9f3a"
            ],
            [
             0.8888888888888888,
             "#fdca26"
            ],
            [
             1,
             "#f0f921"
            ]
           ],
           "sequentialminus": [
            [
             0,
             "#0d0887"
            ],
            [
             0.1111111111111111,
             "#46039f"
            ],
            [
             0.2222222222222222,
             "#7201a8"
            ],
            [
             0.3333333333333333,
             "#9c179e"
            ],
            [
             0.4444444444444444,
             "#bd3786"
            ],
            [
             0.5555555555555556,
             "#d8576b"
            ],
            [
             0.6666666666666666,
             "#ed7953"
            ],
            [
             0.7777777777777778,
             "#fb9f3a"
            ],
            [
             0.8888888888888888,
             "#fdca26"
            ],
            [
             1,
             "#f0f921"
            ]
           ]
          },
          "colorway": [
           "#636efa",
           "#EF553B",
           "#00cc96",
           "#ab63fa",
           "#FFA15A",
           "#19d3f3",
           "#FF6692",
           "#B6E880",
           "#FF97FF",
           "#FECB52"
          ],
          "font": {
           "color": "#2a3f5f"
          },
          "geo": {
           "bgcolor": "white",
           "lakecolor": "white",
           "landcolor": "#E5ECF6",
           "showlakes": true,
           "showland": true,
           "subunitcolor": "white"
          },
          "hoverlabel": {
           "align": "left"
          },
          "hovermode": "closest",
          "mapbox": {
           "style": "light"
          },
          "paper_bgcolor": "white",
          "plot_bgcolor": "#E5ECF6",
          "polar": {
           "angularaxis": {
            "gridcolor": "white",
            "linecolor": "white",
            "ticks": ""
           },
           "bgcolor": "#E5ECF6",
           "radialaxis": {
            "gridcolor": "white",
            "linecolor": "white",
            "ticks": ""
           }
          },
          "scene": {
           "xaxis": {
            "backgroundcolor": "#E5ECF6",
            "gridcolor": "white",
            "gridwidth": 2,
            "linecolor": "white",
            "showbackground": true,
            "ticks": "",
            "zerolinecolor": "white"
           },
           "yaxis": {
            "backgroundcolor": "#E5ECF6",
            "gridcolor": "white",
            "gridwidth": 2,
            "linecolor": "white",
            "showbackground": true,
            "ticks": "",
            "zerolinecolor": "white"
           },
           "zaxis": {
            "backgroundcolor": "#E5ECF6",
            "gridcolor": "white",
            "gridwidth": 2,
            "linecolor": "white",
            "showbackground": true,
            "ticks": "",
            "zerolinecolor": "white"
           }
          },
          "shapedefaults": {
           "line": {
            "color": "#2a3f5f"
           }
          },
          "ternary": {
           "aaxis": {
            "gridcolor": "white",
            "linecolor": "white",
            "ticks": ""
           },
           "baxis": {
            "gridcolor": "white",
            "linecolor": "white",
            "ticks": ""
           },
           "bgcolor": "#E5ECF6",
           "caxis": {
            "gridcolor": "white",
            "linecolor": "white",
            "ticks": ""
           }
          },
          "title": {
           "x": 0.05
          },
          "xaxis": {
           "automargin": true,
           "gridcolor": "white",
           "linecolor": "white",
           "ticks": "",
           "title": {
            "standoff": 15
           },
           "zerolinecolor": "white",
           "zerolinewidth": 2
          },
          "yaxis": {
           "automargin": true,
           "gridcolor": "white",
           "linecolor": "white",
           "ticks": "",
           "title": {
            "standoff": 15
           },
           "zerolinecolor": "white",
           "zerolinewidth": 2
          }
         }
        },
        "title": {
         "text": "YouTube_cac"
        },
        "width": 1200,
        "xaxis": {
         "anchor": "y",
         "domain": [
          0,
          1
         ],
         "title": {
          "text": "month"
         }
        },
        "yaxis": {
         "anchor": "x",
         "domain": [
          0,
          1
         ],
         "title": {
          "text": "YouTube_cac"
         }
        }
       }
      }
     },
     "metadata": {},
     "output_type": "display_data"
    }
   ],
   "source": [
    "fig = px.line(df_cac , x = 'month' ,y = 'YouTube_cac', width = 1200, height = 500, color='year', title ='YouTube_cac')\n",
    "fig.show()"
   ]
  },
  {
   "cell_type": "code",
   "execution_count": 27,
   "metadata": {},
   "outputs": [
    {
     "data": {
      "application/vnd.plotly.v1+json": {
       "config": {
        "plotlyServerURL": "https://plot.ly"
       },
       "data": [
        {
         "hovertemplate": "year=2019<br>month=%{x}<br>Facebook_cac=%{y}<extra></extra>",
         "legendgroup": "2019",
         "line": {
          "color": "#636efa",
          "dash": "solid"
         },
         "marker": {
          "symbol": "circle"
         },
         "mode": "lines",
         "name": "2019",
         "orientation": "v",
         "showlegend": true,
         "type": "scatter",
         "x": [
          1,
          2,
          3,
          4,
          5,
          6,
          7,
          8,
          9,
          10,
          11,
          12
         ],
         "xaxis": "x",
         "y": [
          283.245,
          75.80142857142857,
          56.787,
          41.646428571428565,
          34.66235294117647,
          17.396363636363635,
          17.25,
          18.006774193548384,
          10.337894736842106,
          11.690943396226416,
          13.9725,
          8.519583333333333
         ],
         "yaxis": "y"
        },
        {
         "hovertemplate": "year=2020<br>month=%{x}<br>Facebook_cac=%{y}<extra></extra>",
         "legendgroup": "2020",
         "line": {
          "color": "#EF553B",
          "dash": "solid"
         },
         "marker": {
          "symbol": "circle"
         },
         "mode": "lines",
         "name": "2020",
         "orientation": "v",
         "showlegend": true,
         "type": "scatter",
         "x": [
          1,
          2,
          3,
          4,
          5,
          6,
          7,
          8,
          9,
          10,
          11,
          12
         ],
         "xaxis": "x",
         "y": [
          10.498615384615384,
          7.764683544303797,
          6.9964516129032255,
          8.089342105263157,
          8.1765,
          6.203099999999999,
          5.502605042016806,
          5.622,
          5.1431538461538455,
          4.691999999999999,
          4.753897058823529,
          4.4893125
         ],
         "yaxis": "y"
        },
        {
         "hovertemplate": "year=2021<br>month=%{x}<br>Facebook_cac=%{y}<extra></extra>",
         "legendgroup": "2021",
         "line": {
          "color": "#00cc96",
          "dash": "solid"
         },
         "marker": {
          "symbol": "circle"
         },
         "mode": "lines",
         "name": "2021",
         "orientation": "v",
         "showlegend": true,
         "type": "scatter",
         "x": [
          1,
          2,
          3,
          4,
          5,
          6,
          7,
          8,
          9,
          10,
          11,
          12
         ],
         "xaxis": "x",
         "y": [
          4.127222222222222,
          4.313706293706293,
          4.144259259259259,
          3.9675,
          3.981336898395722,
          3.7704918032786887,
          3.570149253731343,
          3.355045871559633,
          3.2752,
          3.1666071428571425,
          2.7446666666666664,
          2.6205319148936166
         ],
         "yaxis": "y"
        },
        {
         "hovertemplate": "year=2022<br>month=%{x}<br>Facebook_cac=%{y}<extra></extra>",
         "legendgroup": "2022",
         "line": {
          "color": "#ab63fa",
          "dash": "solid"
         },
         "marker": {
          "symbol": "circle"
         },
         "mode": "lines",
         "name": "2022",
         "orientation": "v",
         "showlegend": true,
         "type": "scatter",
         "x": [
          1,
          2,
          3,
          4,
          5,
          6,
          7,
          8,
          9,
          10,
          11,
          12
         ],
         "xaxis": "x",
         "y": [
          2.76,
          2.8114117647058823,
          2.602965517241379,
          2.4601916932907346,
          2.460178571428571,
          2.408727272727272,
          2.4092178770949717,
          2.0598529411764703,
          2.279430894308943,
          2.1082367758186398,
          2.0032783018867923,
          1.9867763157894736
         ],
         "yaxis": "y"
        },
        {
         "hovertemplate": "year=2023<br>month=%{x}<br>Facebook_cac=%{y}<extra></extra>",
         "legendgroup": "2023",
         "line": {
          "color": "#FFA15A",
          "dash": "solid"
         },
         "marker": {
          "symbol": "circle"
         },
         "mode": "lines",
         "name": "2023",
         "orientation": "v",
         "showlegend": true,
         "type": "scatter",
         "x": [
          1,
          2,
          3,
          4,
          5,
          6,
          7,
          8,
          9,
          10,
          11,
          12
         ],
         "xaxis": "x",
         "y": [
          1.8728571428571428,
          1.7744906444906445,
          1.7442334494773517,
          1.6708465608465606,
          1.6543654822335023,
          1.651548387096774,
          1.5557081545064375,
          1.5834104046242774,
          1.424828025477707,
          1.3232977588046957,
          1.3177180527383368,
          1.223260687342833
         ],
         "yaxis": "y"
        },
        {
         "hovertemplate": "year=2024<br>month=%{x}<br>Facebook_cac=%{y}<extra></extra>",
         "legendgroup": "2024",
         "line": {
          "color": "#19d3f3",
          "dash": "solid"
         },
         "marker": {
          "symbol": "circle"
         },
         "mode": "lines",
         "name": "2024",
         "orientation": "v",
         "showlegend": true,
         "type": "scatter",
         "x": [
          1
         ],
         "xaxis": "x",
         "y": [
          0.8897105643994211
         ],
         "yaxis": "y"
        }
       ],
       "layout": {
        "height": 500,
        "legend": {
         "title": {
          "text": "year"
         },
         "tracegroupgap": 0
        },
        "template": {
         "data": {
          "bar": [
           {
            "error_x": {
             "color": "#2a3f5f"
            },
            "error_y": {
             "color": "#2a3f5f"
            },
            "marker": {
             "line": {
              "color": "#E5ECF6",
              "width": 0.5
             },
             "pattern": {
              "fillmode": "overlay",
              "size": 10,
              "solidity": 0.2
             }
            },
            "type": "bar"
           }
          ],
          "barpolar": [
           {
            "marker": {
             "line": {
              "color": "#E5ECF6",
              "width": 0.5
             },
             "pattern": {
              "fillmode": "overlay",
              "size": 10,
              "solidity": 0.2
             }
            },
            "type": "barpolar"
           }
          ],
          "carpet": [
           {
            "aaxis": {
             "endlinecolor": "#2a3f5f",
             "gridcolor": "white",
             "linecolor": "white",
             "minorgridcolor": "white",
             "startlinecolor": "#2a3f5f"
            },
            "baxis": {
             "endlinecolor": "#2a3f5f",
             "gridcolor": "white",
             "linecolor": "white",
             "minorgridcolor": "white",
             "startlinecolor": "#2a3f5f"
            },
            "type": "carpet"
           }
          ],
          "choropleth": [
           {
            "colorbar": {
             "outlinewidth": 0,
             "ticks": ""
            },
            "type": "choropleth"
           }
          ],
          "contour": [
           {
            "colorbar": {
             "outlinewidth": 0,
             "ticks": ""
            },
            "colorscale": [
             [
              0,
              "#0d0887"
             ],
             [
              0.1111111111111111,
              "#46039f"
             ],
             [
              0.2222222222222222,
              "#7201a8"
             ],
             [
              0.3333333333333333,
              "#9c179e"
             ],
             [
              0.4444444444444444,
              "#bd3786"
             ],
             [
              0.5555555555555556,
              "#d8576b"
             ],
             [
              0.6666666666666666,
              "#ed7953"
             ],
             [
              0.7777777777777778,
              "#fb9f3a"
             ],
             [
              0.8888888888888888,
              "#fdca26"
             ],
             [
              1,
              "#f0f921"
             ]
            ],
            "type": "contour"
           }
          ],
          "contourcarpet": [
           {
            "colorbar": {
             "outlinewidth": 0,
             "ticks": ""
            },
            "type": "contourcarpet"
           }
          ],
          "heatmap": [
           {
            "colorbar": {
             "outlinewidth": 0,
             "ticks": ""
            },
            "colorscale": [
             [
              0,
              "#0d0887"
             ],
             [
              0.1111111111111111,
              "#46039f"
             ],
             [
              0.2222222222222222,
              "#7201a8"
             ],
             [
              0.3333333333333333,
              "#9c179e"
             ],
             [
              0.4444444444444444,
              "#bd3786"
             ],
             [
              0.5555555555555556,
              "#d8576b"
             ],
             [
              0.6666666666666666,
              "#ed7953"
             ],
             [
              0.7777777777777778,
              "#fb9f3a"
             ],
             [
              0.8888888888888888,
              "#fdca26"
             ],
             [
              1,
              "#f0f921"
             ]
            ],
            "type": "heatmap"
           }
          ],
          "heatmapgl": [
           {
            "colorbar": {
             "outlinewidth": 0,
             "ticks": ""
            },
            "colorscale": [
             [
              0,
              "#0d0887"
             ],
             [
              0.1111111111111111,
              "#46039f"
             ],
             [
              0.2222222222222222,
              "#7201a8"
             ],
             [
              0.3333333333333333,
              "#9c179e"
             ],
             [
              0.4444444444444444,
              "#bd3786"
             ],
             [
              0.5555555555555556,
              "#d8576b"
             ],
             [
              0.6666666666666666,
              "#ed7953"
             ],
             [
              0.7777777777777778,
              "#fb9f3a"
             ],
             [
              0.8888888888888888,
              "#fdca26"
             ],
             [
              1,
              "#f0f921"
             ]
            ],
            "type": "heatmapgl"
           }
          ],
          "histogram": [
           {
            "marker": {
             "pattern": {
              "fillmode": "overlay",
              "size": 10,
              "solidity": 0.2
             }
            },
            "type": "histogram"
           }
          ],
          "histogram2d": [
           {
            "colorbar": {
             "outlinewidth": 0,
             "ticks": ""
            },
            "colorscale": [
             [
              0,
              "#0d0887"
             ],
             [
              0.1111111111111111,
              "#46039f"
             ],
             [
              0.2222222222222222,
              "#7201a8"
             ],
             [
              0.3333333333333333,
              "#9c179e"
             ],
             [
              0.4444444444444444,
              "#bd3786"
             ],
             [
              0.5555555555555556,
              "#d8576b"
             ],
             [
              0.6666666666666666,
              "#ed7953"
             ],
             [
              0.7777777777777778,
              "#fb9f3a"
             ],
             [
              0.8888888888888888,
              "#fdca26"
             ],
             [
              1,
              "#f0f921"
             ]
            ],
            "type": "histogram2d"
           }
          ],
          "histogram2dcontour": [
           {
            "colorbar": {
             "outlinewidth": 0,
             "ticks": ""
            },
            "colorscale": [
             [
              0,
              "#0d0887"
             ],
             [
              0.1111111111111111,
              "#46039f"
             ],
             [
              0.2222222222222222,
              "#7201a8"
             ],
             [
              0.3333333333333333,
              "#9c179e"
             ],
             [
              0.4444444444444444,
              "#bd3786"
             ],
             [
              0.5555555555555556,
              "#d8576b"
             ],
             [
              0.6666666666666666,
              "#ed7953"
             ],
             [
              0.7777777777777778,
              "#fb9f3a"
             ],
             [
              0.8888888888888888,
              "#fdca26"
             ],
             [
              1,
              "#f0f921"
             ]
            ],
            "type": "histogram2dcontour"
           }
          ],
          "mesh3d": [
           {
            "colorbar": {
             "outlinewidth": 0,
             "ticks": ""
            },
            "type": "mesh3d"
           }
          ],
          "parcoords": [
           {
            "line": {
             "colorbar": {
              "outlinewidth": 0,
              "ticks": ""
             }
            },
            "type": "parcoords"
           }
          ],
          "pie": [
           {
            "automargin": true,
            "type": "pie"
           }
          ],
          "scatter": [
           {
            "fillpattern": {
             "fillmode": "overlay",
             "size": 10,
             "solidity": 0.2
            },
            "type": "scatter"
           }
          ],
          "scatter3d": [
           {
            "line": {
             "colorbar": {
              "outlinewidth": 0,
              "ticks": ""
             }
            },
            "marker": {
             "colorbar": {
              "outlinewidth": 0,
              "ticks": ""
             }
            },
            "type": "scatter3d"
           }
          ],
          "scattercarpet": [
           {
            "marker": {
             "colorbar": {
              "outlinewidth": 0,
              "ticks": ""
             }
            },
            "type": "scattercarpet"
           }
          ],
          "scattergeo": [
           {
            "marker": {
             "colorbar": {
              "outlinewidth": 0,
              "ticks": ""
             }
            },
            "type": "scattergeo"
           }
          ],
          "scattergl": [
           {
            "marker": {
             "colorbar": {
              "outlinewidth": 0,
              "ticks": ""
             }
            },
            "type": "scattergl"
           }
          ],
          "scattermapbox": [
           {
            "marker": {
             "colorbar": {
              "outlinewidth": 0,
              "ticks": ""
             }
            },
            "type": "scattermapbox"
           }
          ],
          "scatterpolar": [
           {
            "marker": {
             "colorbar": {
              "outlinewidth": 0,
              "ticks": ""
             }
            },
            "type": "scatterpolar"
           }
          ],
          "scatterpolargl": [
           {
            "marker": {
             "colorbar": {
              "outlinewidth": 0,
              "ticks": ""
             }
            },
            "type": "scatterpolargl"
           }
          ],
          "scatterternary": [
           {
            "marker": {
             "colorbar": {
              "outlinewidth": 0,
              "ticks": ""
             }
            },
            "type": "scatterternary"
           }
          ],
          "surface": [
           {
            "colorbar": {
             "outlinewidth": 0,
             "ticks": ""
            },
            "colorscale": [
             [
              0,
              "#0d0887"
             ],
             [
              0.1111111111111111,
              "#46039f"
             ],
             [
              0.2222222222222222,
              "#7201a8"
             ],
             [
              0.3333333333333333,
              "#9c179e"
             ],
             [
              0.4444444444444444,
              "#bd3786"
             ],
             [
              0.5555555555555556,
              "#d8576b"
             ],
             [
              0.6666666666666666,
              "#ed7953"
             ],
             [
              0.7777777777777778,
              "#fb9f3a"
             ],
             [
              0.8888888888888888,
              "#fdca26"
             ],
             [
              1,
              "#f0f921"
             ]
            ],
            "type": "surface"
           }
          ],
          "table": [
           {
            "cells": {
             "fill": {
              "color": "#EBF0F8"
             },
             "line": {
              "color": "white"
             }
            },
            "header": {
             "fill": {
              "color": "#C8D4E3"
             },
             "line": {
              "color": "white"
             }
            },
            "type": "table"
           }
          ]
         },
         "layout": {
          "annotationdefaults": {
           "arrowcolor": "#2a3f5f",
           "arrowhead": 0,
           "arrowwidth": 1
          },
          "autotypenumbers": "strict",
          "coloraxis": {
           "colorbar": {
            "outlinewidth": 0,
            "ticks": ""
           }
          },
          "colorscale": {
           "diverging": [
            [
             0,
             "#8e0152"
            ],
            [
             0.1,
             "#c51b7d"
            ],
            [
             0.2,
             "#de77ae"
            ],
            [
             0.3,
             "#f1b6da"
            ],
            [
             0.4,
             "#fde0ef"
            ],
            [
             0.5,
             "#f7f7f7"
            ],
            [
             0.6,
             "#e6f5d0"
            ],
            [
             0.7,
             "#b8e186"
            ],
            [
             0.8,
             "#7fbc41"
            ],
            [
             0.9,
             "#4d9221"
            ],
            [
             1,
             "#276419"
            ]
           ],
           "sequential": [
            [
             0,
             "#0d0887"
            ],
            [
             0.1111111111111111,
             "#46039f"
            ],
            [
             0.2222222222222222,
             "#7201a8"
            ],
            [
             0.3333333333333333,
             "#9c179e"
            ],
            [
             0.4444444444444444,
             "#bd3786"
            ],
            [
             0.5555555555555556,
             "#d8576b"
            ],
            [
             0.6666666666666666,
             "#ed7953"
            ],
            [
             0.7777777777777778,
             "#fb9f3a"
            ],
            [
             0.8888888888888888,
             "#fdca26"
            ],
            [
             1,
             "#f0f921"
            ]
           ],
           "sequentialminus": [
            [
             0,
             "#0d0887"
            ],
            [
             0.1111111111111111,
             "#46039f"
            ],
            [
             0.2222222222222222,
             "#7201a8"
            ],
            [
             0.3333333333333333,
             "#9c179e"
            ],
            [
             0.4444444444444444,
             "#bd3786"
            ],
            [
             0.5555555555555556,
             "#d8576b"
            ],
            [
             0.6666666666666666,
             "#ed7953"
            ],
            [
             0.7777777777777778,
             "#fb9f3a"
            ],
            [
             0.8888888888888888,
             "#fdca26"
            ],
            [
             1,
             "#f0f921"
            ]
           ]
          },
          "colorway": [
           "#636efa",
           "#EF553B",
           "#00cc96",
           "#ab63fa",
           "#FFA15A",
           "#19d3f3",
           "#FF6692",
           "#B6E880",
           "#FF97FF",
           "#FECB52"
          ],
          "font": {
           "color": "#2a3f5f"
          },
          "geo": {
           "bgcolor": "white",
           "lakecolor": "white",
           "landcolor": "#E5ECF6",
           "showlakes": true,
           "showland": true,
           "subunitcolor": "white"
          },
          "hoverlabel": {
           "align": "left"
          },
          "hovermode": "closest",
          "mapbox": {
           "style": "light"
          },
          "paper_bgcolor": "white",
          "plot_bgcolor": "#E5ECF6",
          "polar": {
           "angularaxis": {
            "gridcolor": "white",
            "linecolor": "white",
            "ticks": ""
           },
           "bgcolor": "#E5ECF6",
           "radialaxis": {
            "gridcolor": "white",
            "linecolor": "white",
            "ticks": ""
           }
          },
          "scene": {
           "xaxis": {
            "backgroundcolor": "#E5ECF6",
            "gridcolor": "white",
            "gridwidth": 2,
            "linecolor": "white",
            "showbackground": true,
            "ticks": "",
            "zerolinecolor": "white"
           },
           "yaxis": {
            "backgroundcolor": "#E5ECF6",
            "gridcolor": "white",
            "gridwidth": 2,
            "linecolor": "white",
            "showbackground": true,
            "ticks": "",
            "zerolinecolor": "white"
           },
           "zaxis": {
            "backgroundcolor": "#E5ECF6",
            "gridcolor": "white",
            "gridwidth": 2,
            "linecolor": "white",
            "showbackground": true,
            "ticks": "",
            "zerolinecolor": "white"
           }
          },
          "shapedefaults": {
           "line": {
            "color": "#2a3f5f"
           }
          },
          "ternary": {
           "aaxis": {
            "gridcolor": "white",
            "linecolor": "white",
            "ticks": ""
           },
           "baxis": {
            "gridcolor": "white",
            "linecolor": "white",
            "ticks": ""
           },
           "bgcolor": "#E5ECF6",
           "caxis": {
            "gridcolor": "white",
            "linecolor": "white",
            "ticks": ""
           }
          },
          "title": {
           "x": 0.05
          },
          "xaxis": {
           "automargin": true,
           "gridcolor": "white",
           "linecolor": "white",
           "ticks": "",
           "title": {
            "standoff": 15
           },
           "zerolinecolor": "white",
           "zerolinewidth": 2
          },
          "yaxis": {
           "automargin": true,
           "gridcolor": "white",
           "linecolor": "white",
           "ticks": "",
           "title": {
            "standoff": 15
           },
           "zerolinecolor": "white",
           "zerolinewidth": 2
          }
         }
        },
        "title": {
         "text": "Facebook_cac"
        },
        "width": 1200,
        "xaxis": {
         "anchor": "y",
         "domain": [
          0,
          1
         ],
         "title": {
          "text": "month"
         }
        },
        "yaxis": {
         "anchor": "x",
         "domain": [
          0,
          1
         ],
         "title": {
          "text": "Facebook_cac"
         }
        }
       }
      }
     },
     "metadata": {},
     "output_type": "display_data"
    }
   ],
   "source": [
    "fig = px.line(df_cac , x = 'month' ,y = 'Facebook_cac', width = 1200, height = 500, color='year', title = 'Facebook_cac')\n",
    "fig.show()"
   ]
  },
  {
   "cell_type": "markdown",
   "metadata": {},
   "source": [
    "### 구매전환율"
   ]
  },
  {
   "cell_type": "code",
   "execution_count": 28,
   "metadata": {},
   "outputs": [],
   "source": [
    "Facebook_con = pd.concat([cost_Facebook,buy_Facebook[['buyer']]],axis = 1,ignore_index=False)\n",
    "Email_con= pd.concat([cost_Email,buy_Email[['buyer']]],axis = 1,ignore_index=False)\n",
    "YouTube_con = pd.concat([cost_YouTube,buy_YouTube[['buyer']]],axis = 1,ignore_index=False)\n",
    "Adwords_con = pd.concat([cost_adwords,buy_adwords[['buyer']]],axis = 1,ignore_index=False)"
   ]
  },
  {
   "cell_type": "code",
   "execution_count": 29,
   "metadata": {},
   "outputs": [],
   "source": [
    "Facebook_con['rate'] =Facebook_con['buyer']/Facebook_con['visits']*100\n",
    "Email_con['rate'] =Email_con['buyer']/Email_con['visits']*100\n",
    "YouTube_con['rate'] =YouTube_con['buyer']/YouTube_con['visits']*100\n",
    "Adwords_con['rate'] =Adwords_con['buyer']/Adwords_con['visits']*100"
   ]
  },
  {
   "cell_type": "code",
   "execution_count": 30,
   "metadata": {},
   "outputs": [
    {
     "data": {
      "text/html": [
       "<div>\n",
       "<style scoped>\n",
       "    .dataframe tbody tr th:only-of-type {\n",
       "        vertical-align: middle;\n",
       "    }\n",
       "\n",
       "    .dataframe tbody tr th {\n",
       "        vertical-align: top;\n",
       "    }\n",
       "\n",
       "    .dataframe thead th {\n",
       "        text-align: right;\n",
       "    }\n",
       "</style>\n",
       "<table border=\"1\" class=\"dataframe\">\n",
       "  <thead>\n",
       "    <tr style=\"text-align: right;\">\n",
       "      <th></th>\n",
       "      <th>year</th>\n",
       "      <th>month</th>\n",
       "      <th>traffic_source</th>\n",
       "      <th>visits</th>\n",
       "      <th>buyer</th>\n",
       "      <th>rate</th>\n",
       "    </tr>\n",
       "  </thead>\n",
       "  <tbody>\n",
       "    <tr>\n",
       "      <th>0</th>\n",
       "      <td>2019</td>\n",
       "      <td>1</td>\n",
       "      <td>Organic</td>\n",
       "      <td>413</td>\n",
       "      <td>1</td>\n",
       "      <td>0.242131</td>\n",
       "    </tr>\n",
       "    <tr>\n",
       "      <th>1</th>\n",
       "      <td>2019</td>\n",
       "      <td>2</td>\n",
       "      <td>Organic</td>\n",
       "      <td>390</td>\n",
       "      <td>1</td>\n",
       "      <td>0.256410</td>\n",
       "    </tr>\n",
       "    <tr>\n",
       "      <th>2</th>\n",
       "      <td>2019</td>\n",
       "      <td>3</td>\n",
       "      <td>Organic</td>\n",
       "      <td>433</td>\n",
       "      <td>8</td>\n",
       "      <td>1.847575</td>\n",
       "    </tr>\n",
       "    <tr>\n",
       "      <th>3</th>\n",
       "      <td>2019</td>\n",
       "      <td>4</td>\n",
       "      <td>Organic</td>\n",
       "      <td>411</td>\n",
       "      <td>7</td>\n",
       "      <td>1.703163</td>\n",
       "    </tr>\n",
       "    <tr>\n",
       "      <th>4</th>\n",
       "      <td>2019</td>\n",
       "      <td>5</td>\n",
       "      <td>Organic</td>\n",
       "      <td>450</td>\n",
       "      <td>22</td>\n",
       "      <td>4.888889</td>\n",
       "    </tr>\n",
       "    <tr>\n",
       "      <th>...</th>\n",
       "      <td>...</td>\n",
       "      <td>...</td>\n",
       "      <td>...</td>\n",
       "      <td>...</td>\n",
       "      <td>...</td>\n",
       "      <td>...</td>\n",
       "    </tr>\n",
       "    <tr>\n",
       "      <th>56</th>\n",
       "      <td>2023</td>\n",
       "      <td>9</td>\n",
       "      <td>Organic</td>\n",
       "      <td>858</td>\n",
       "      <td>420</td>\n",
       "      <td>48.951049</td>\n",
       "    </tr>\n",
       "    <tr>\n",
       "      <th>57</th>\n",
       "      <td>2023</td>\n",
       "      <td>10</td>\n",
       "      <td>Organic</td>\n",
       "      <td>878</td>\n",
       "      <td>448</td>\n",
       "      <td>51.025057</td>\n",
       "    </tr>\n",
       "    <tr>\n",
       "      <th>58</th>\n",
       "      <td>2023</td>\n",
       "      <td>11</td>\n",
       "      <td>Organic</td>\n",
       "      <td>960</td>\n",
       "      <td>505</td>\n",
       "      <td>52.604167</td>\n",
       "    </tr>\n",
       "    <tr>\n",
       "      <th>59</th>\n",
       "      <td>2023</td>\n",
       "      <td>12</td>\n",
       "      <td>Organic</td>\n",
       "      <td>1039</td>\n",
       "      <td>589</td>\n",
       "      <td>56.689124</td>\n",
       "    </tr>\n",
       "    <tr>\n",
       "      <th>60</th>\n",
       "      <td>2024</td>\n",
       "      <td>1</td>\n",
       "      <td>Organic</td>\n",
       "      <td>899</td>\n",
       "      <td>687</td>\n",
       "      <td>76.418242</td>\n",
       "    </tr>\n",
       "  </tbody>\n",
       "</table>\n",
       "<p>61 rows × 6 columns</p>\n",
       "</div>"
      ],
      "text/plain": [
       "    year  month traffic_source  visits  buyer       rate\n",
       "0   2019      1        Organic     413      1   0.242131\n",
       "1   2019      2        Organic     390      1   0.256410\n",
       "2   2019      3        Organic     433      8   1.847575\n",
       "3   2019      4        Organic     411      7   1.703163\n",
       "4   2019      5        Organic     450     22   4.888889\n",
       "..   ...    ...            ...     ...    ...        ...\n",
       "56  2023      9        Organic     858    420  48.951049\n",
       "57  2023     10        Organic     878    448  51.025057\n",
       "58  2023     11        Organic     960    505  52.604167\n",
       "59  2023     12        Organic    1039    589  56.689124\n",
       "60  2024      1        Organic     899    687  76.418242\n",
       "\n",
       "[61 rows x 6 columns]"
      ]
     },
     "execution_count": 30,
     "metadata": {},
     "output_type": "execute_result"
    }
   ],
   "source": [
    "#  'Organic'\n",
    "cost_Organic = total_traffic_cnt[total_traffic_cnt['traffic_source'] == \"Organic\"].reset_index(drop=True)\n",
    "cost_Organic.rename(columns={'session_id':'visits'},inplace = True)\n",
    "\n",
    "# 월 구매건수 구하기\n",
    "buy_Organic = buy_traffic_cnt[buy_traffic_cnt['traffic_source']=='Organic'].reset_index(drop=True)\n",
    "buy_Organic.rename(columns={'user_id':'buyer'},inplace=True)\n",
    "\n",
    "Organic_con = pd.concat([cost_Organic,buy_Organic[['buyer']]],axis = 1,ignore_index=False)\n",
    "Organic_con['rate'] =Organic_con['buyer']/Organic_con['visits']*100\n",
    "Organic_con"
   ]
  },
  {
   "cell_type": "code",
   "execution_count": 31,
   "metadata": {},
   "outputs": [
    {
     "data": {
      "text/html": [
       "<div>\n",
       "<style scoped>\n",
       "    .dataframe tbody tr th:only-of-type {\n",
       "        vertical-align: middle;\n",
       "    }\n",
       "\n",
       "    .dataframe tbody tr th {\n",
       "        vertical-align: top;\n",
       "    }\n",
       "\n",
       "    .dataframe thead th {\n",
       "        text-align: right;\n",
       "    }\n",
       "</style>\n",
       "<table border=\"1\" class=\"dataframe\">\n",
       "  <thead>\n",
       "    <tr style=\"text-align: right;\">\n",
       "      <th></th>\n",
       "      <th>year</th>\n",
       "      <th>month</th>\n",
       "      <th>traffic_source</th>\n",
       "      <th>visits</th>\n",
       "      <th>cost</th>\n",
       "      <th>email_cac</th>\n",
       "      <th>buyer</th>\n",
       "      <th>rate</th>\n",
       "    </tr>\n",
       "  </thead>\n",
       "  <tbody>\n",
       "    <tr>\n",
       "      <th>0</th>\n",
       "      <td>2019</td>\n",
       "      <td>1</td>\n",
       "      <td>Email</td>\n",
       "      <td>3529</td>\n",
       "      <td>1000</td>\n",
       "      <td>83.333333</td>\n",
       "      <td>12</td>\n",
       "      <td>0.340040</td>\n",
       "    </tr>\n",
       "    <tr>\n",
       "      <th>1</th>\n",
       "      <td>2019</td>\n",
       "      <td>2</td>\n",
       "      <td>Email</td>\n",
       "      <td>3491</td>\n",
       "      <td>1000</td>\n",
       "      <td>47.619048</td>\n",
       "      <td>21</td>\n",
       "      <td>0.601547</td>\n",
       "    </tr>\n",
       "    <tr>\n",
       "      <th>2</th>\n",
       "      <td>2019</td>\n",
       "      <td>3</td>\n",
       "      <td>Email</td>\n",
       "      <td>3840</td>\n",
       "      <td>1000</td>\n",
       "      <td>13.888889</td>\n",
       "      <td>72</td>\n",
       "      <td>1.875000</td>\n",
       "    </tr>\n",
       "    <tr>\n",
       "      <th>3</th>\n",
       "      <td>2019</td>\n",
       "      <td>4</td>\n",
       "      <td>Email</td>\n",
       "      <td>3665</td>\n",
       "      <td>1000</td>\n",
       "      <td>14.492754</td>\n",
       "      <td>69</td>\n",
       "      <td>1.882674</td>\n",
       "    </tr>\n",
       "    <tr>\n",
       "      <th>4</th>\n",
       "      <td>2019</td>\n",
       "      <td>5</td>\n",
       "      <td>Email</td>\n",
       "      <td>3954</td>\n",
       "      <td>1000</td>\n",
       "      <td>8.264463</td>\n",
       "      <td>121</td>\n",
       "      <td>3.060192</td>\n",
       "    </tr>\n",
       "    <tr>\n",
       "      <th>...</th>\n",
       "      <td>...</td>\n",
       "      <td>...</td>\n",
       "      <td>...</td>\n",
       "      <td>...</td>\n",
       "      <td>...</td>\n",
       "      <td>...</td>\n",
       "      <td>...</td>\n",
       "      <td>...</td>\n",
       "    </tr>\n",
       "    <tr>\n",
       "      <th>56</th>\n",
       "      <td>2023</td>\n",
       "      <td>9</td>\n",
       "      <td>Email</td>\n",
       "      <td>7332</td>\n",
       "      <td>1000</td>\n",
       "      <td>0.285470</td>\n",
       "      <td>3503</td>\n",
       "      <td>47.776869</td>\n",
       "    </tr>\n",
       "    <tr>\n",
       "      <th>57</th>\n",
       "      <td>2023</td>\n",
       "      <td>10</td>\n",
       "      <td>Email</td>\n",
       "      <td>8015</td>\n",
       "      <td>1000</td>\n",
       "      <td>0.251067</td>\n",
       "      <td>3983</td>\n",
       "      <td>49.694323</td>\n",
       "    </tr>\n",
       "    <tr>\n",
       "      <th>58</th>\n",
       "      <td>2023</td>\n",
       "      <td>11</td>\n",
       "      <td>Email</td>\n",
       "      <td>8284</td>\n",
       "      <td>1000</td>\n",
       "      <td>0.224871</td>\n",
       "      <td>4447</td>\n",
       "      <td>53.681796</td>\n",
       "    </tr>\n",
       "    <tr>\n",
       "      <th>59</th>\n",
       "      <td>2023</td>\n",
       "      <td>12</td>\n",
       "      <td>Email</td>\n",
       "      <td>9486</td>\n",
       "      <td>1000</td>\n",
       "      <td>0.186672</td>\n",
       "      <td>5357</td>\n",
       "      <td>56.472697</td>\n",
       "    </tr>\n",
       "    <tr>\n",
       "      <th>60</th>\n",
       "      <td>2024</td>\n",
       "      <td>1</td>\n",
       "      <td>Email</td>\n",
       "      <td>8123</td>\n",
       "      <td>1000</td>\n",
       "      <td>0.161394</td>\n",
       "      <td>6196</td>\n",
       "      <td>76.277237</td>\n",
       "    </tr>\n",
       "  </tbody>\n",
       "</table>\n",
       "<p>61 rows × 8 columns</p>\n",
       "</div>"
      ],
      "text/plain": [
       "    year  month traffic_source  visits  cost  email_cac  buyer       rate\n",
       "0   2019      1          Email    3529  1000  83.333333     12   0.340040\n",
       "1   2019      2          Email    3491  1000  47.619048     21   0.601547\n",
       "2   2019      3          Email    3840  1000  13.888889     72   1.875000\n",
       "3   2019      4          Email    3665  1000  14.492754     69   1.882674\n",
       "4   2019      5          Email    3954  1000   8.264463    121   3.060192\n",
       "..   ...    ...            ...     ...   ...        ...    ...        ...\n",
       "56  2023      9          Email    7332  1000   0.285470   3503  47.776869\n",
       "57  2023     10          Email    8015  1000   0.251067   3983  49.694323\n",
       "58  2023     11          Email    8284  1000   0.224871   4447  53.681796\n",
       "59  2023     12          Email    9486  1000   0.186672   5357  56.472697\n",
       "60  2024      1          Email    8123  1000   0.161394   6196  76.277237\n",
       "\n",
       "[61 rows x 8 columns]"
      ]
     },
     "execution_count": 31,
     "metadata": {},
     "output_type": "execute_result"
    }
   ],
   "source": [
    "Email_con"
   ]
  },
  {
   "cell_type": "code",
   "execution_count": 32,
   "metadata": {},
   "outputs": [
    {
     "data": {
      "text/plain": [
       "array(['Facebook', 'Email', 'Adwords', 'YouTube', 'Organic'], dtype=object)"
      ]
     },
     "execution_count": 32,
     "metadata": {},
     "output_type": "execute_result"
    }
   ],
   "source": [
    "buy_user['traffic_source'].unique()"
   ]
  },
  {
   "cell_type": "code",
   "execution_count": 33,
   "metadata": {},
   "outputs": [
    {
     "data": {
      "application/vnd.plotly.v1+json": {
       "config": {
        "plotlyServerURL": "https://plot.ly"
       },
       "data": [
        {
         "hovertemplate": "year=2019<br>month=%{x}<br>rate=%{y}<extra></extra>",
         "legendgroup": "2019",
         "line": {
          "color": "#636efa",
          "dash": "solid"
         },
         "marker": {
          "symbol": "circle"
         },
         "mode": "lines",
         "name": "2019",
         "orientation": "v",
         "showlegend": true,
         "type": "scatter",
         "x": [
          1,
          2,
          3,
          4,
          5,
          6,
          7,
          8,
          9,
          10,
          11,
          12
         ],
         "xaxis": "x",
         "y": [
          0.24213075060532688,
          0.2564102564102564,
          1.8475750577367205,
          1.70316301703163,
          4.888888888888889,
          3.8548752834467117,
          2.7649769585253456,
          3.225806451612903,
          5.080831408775981,
          3.0501089324618738,
          6.7114093959731544,
          6.726457399103139
         ],
         "yaxis": "y"
        },
        {
         "hovertemplate": "year=2020<br>month=%{x}<br>rate=%{y}<extra></extra>",
         "legendgroup": "2020",
         "line": {
          "color": "#EF553B",
          "dash": "solid"
         },
         "marker": {
          "symbol": "circle"
         },
         "mode": "lines",
         "name": "2020",
         "orientation": "v",
         "showlegend": true,
         "type": "scatter",
         "x": [
          1,
          2,
          3,
          4,
          5,
          6,
          7,
          8,
          9,
          10,
          11,
          12
         ],
         "xaxis": "x",
         "y": [
          8.899297423887589,
          8.597285067873303,
          8.49056603773585,
          9.913793103448276,
          9.110169491525424,
          11.883408071748878,
          10.208816705336426,
          9.95475113122172,
          12.553191489361701,
          13.333333333333334,
          12.601626016260163,
          14.682539682539684
         ],
         "yaxis": "y"
        },
        {
         "hovertemplate": "year=2021<br>month=%{x}<br>rate=%{y}<extra></extra>",
         "legendgroup": "2021",
         "line": {
          "color": "#00cc96",
          "dash": "solid"
         },
         "marker": {
          "symbol": "circle"
         },
         "mode": "lines",
         "name": "2021",
         "orientation": "v",
         "showlegend": true,
         "type": "scatter",
         "x": [
          1,
          2,
          3,
          4,
          5,
          6,
          7,
          8,
          9,
          10,
          11,
          12
         ],
         "xaxis": "x",
         "y": [
          16.789667896678967,
          13.333333333333334,
          16.824196597353495,
          20.56451612903226,
          16.081330868761555,
          19.477911646586346,
          20.253164556962027,
          21.794871794871796,
          18.269230769230766,
          21.455223880597014,
          25.842696629213485,
          24.315068493150687
         ],
         "yaxis": "y"
        },
        {
         "hovertemplate": "year=2022<br>month=%{x}<br>rate=%{y}<extra></extra>",
         "legendgroup": "2022",
         "line": {
          "color": "#ab63fa",
          "dash": "solid"
         },
         "marker": {
          "symbol": "circle"
         },
         "mode": "lines",
         "name": "2022",
         "orientation": "v",
         "showlegend": true,
         "type": "scatter",
         "x": [
          1,
          2,
          3,
          4,
          5,
          6,
          7,
          8,
          9,
          10,
          11,
          12
         ],
         "xaxis": "x",
         "y": [
          26.689774696707108,
          24.431818181818183,
          25.124792013311147,
          24.107142857142858,
          26.440677966101696,
          26.800670016750416,
          31.27962085308057,
          32.67326732673268,
          29.93079584775086,
          32.56172839506173,
          34.9025974025974,
          35.828025477707
         ],
         "yaxis": "y"
        },
        {
         "hovertemplate": "year=2023<br>month=%{x}<br>rate=%{y}<extra></extra>",
         "legendgroup": "2023",
         "line": {
          "color": "#FFA15A",
          "dash": "solid"
         },
         "marker": {
          "symbol": "circle"
         },
         "mode": "lines",
         "name": "2023",
         "orientation": "v",
         "showlegend": true,
         "type": "scatter",
         "x": [
          1,
          2,
          3,
          4,
          5,
          6,
          7,
          8,
          9,
          10,
          11,
          12
         ],
         "xaxis": "x",
         "y": [
          37.18354430379747,
          37.329286798179055,
          41.25177809388336,
          42.59818731117825,
          38.72229465449804,
          41.19402985074627,
          42.298288508557455,
          44.619105199516326,
          48.95104895104895,
          51.025056947608206,
          52.604166666666664,
          56.689124157844084
         ],
         "yaxis": "y"
        },
        {
         "hovertemplate": "year=2024<br>month=%{x}<br>rate=%{y}<extra></extra>",
         "legendgroup": "2024",
         "line": {
          "color": "#19d3f3",
          "dash": "solid"
         },
         "marker": {
          "symbol": "circle"
         },
         "mode": "lines",
         "name": "2024",
         "orientation": "v",
         "showlegend": true,
         "type": "scatter",
         "x": [
          1
         ],
         "xaxis": "x",
         "y": [
          76.4182424916574
         ],
         "yaxis": "y"
        }
       ],
       "layout": {
        "legend": {
         "title": {
          "text": "year"
         },
         "tracegroupgap": 0
        },
        "template": {
         "data": {
          "bar": [
           {
            "error_x": {
             "color": "#2a3f5f"
            },
            "error_y": {
             "color": "#2a3f5f"
            },
            "marker": {
             "line": {
              "color": "#E5ECF6",
              "width": 0.5
             },
             "pattern": {
              "fillmode": "overlay",
              "size": 10,
              "solidity": 0.2
             }
            },
            "type": "bar"
           }
          ],
          "barpolar": [
           {
            "marker": {
             "line": {
              "color": "#E5ECF6",
              "width": 0.5
             },
             "pattern": {
              "fillmode": "overlay",
              "size": 10,
              "solidity": 0.2
             }
            },
            "type": "barpolar"
           }
          ],
          "carpet": [
           {
            "aaxis": {
             "endlinecolor": "#2a3f5f",
             "gridcolor": "white",
             "linecolor": "white",
             "minorgridcolor": "white",
             "startlinecolor": "#2a3f5f"
            },
            "baxis": {
             "endlinecolor": "#2a3f5f",
             "gridcolor": "white",
             "linecolor": "white",
             "minorgridcolor": "white",
             "startlinecolor": "#2a3f5f"
            },
            "type": "carpet"
           }
          ],
          "choropleth": [
           {
            "colorbar": {
             "outlinewidth": 0,
             "ticks": ""
            },
            "type": "choropleth"
           }
          ],
          "contour": [
           {
            "colorbar": {
             "outlinewidth": 0,
             "ticks": ""
            },
            "colorscale": [
             [
              0,
              "#0d0887"
             ],
             [
              0.1111111111111111,
              "#46039f"
             ],
             [
              0.2222222222222222,
              "#7201a8"
             ],
             [
              0.3333333333333333,
              "#9c179e"
             ],
             [
              0.4444444444444444,
              "#bd3786"
             ],
             [
              0.5555555555555556,
              "#d8576b"
             ],
             [
              0.6666666666666666,
              "#ed7953"
             ],
             [
              0.7777777777777778,
              "#fb9f3a"
             ],
             [
              0.8888888888888888,
              "#fdca26"
             ],
             [
              1,
              "#f0f921"
             ]
            ],
            "type": "contour"
           }
          ],
          "contourcarpet": [
           {
            "colorbar": {
             "outlinewidth": 0,
             "ticks": ""
            },
            "type": "contourcarpet"
           }
          ],
          "heatmap": [
           {
            "colorbar": {
             "outlinewidth": 0,
             "ticks": ""
            },
            "colorscale": [
             [
              0,
              "#0d0887"
             ],
             [
              0.1111111111111111,
              "#46039f"
             ],
             [
              0.2222222222222222,
              "#7201a8"
             ],
             [
              0.3333333333333333,
              "#9c179e"
             ],
             [
              0.4444444444444444,
              "#bd3786"
             ],
             [
              0.5555555555555556,
              "#d8576b"
             ],
             [
              0.6666666666666666,
              "#ed7953"
             ],
             [
              0.7777777777777778,
              "#fb9f3a"
             ],
             [
              0.8888888888888888,
              "#fdca26"
             ],
             [
              1,
              "#f0f921"
             ]
            ],
            "type": "heatmap"
           }
          ],
          "heatmapgl": [
           {
            "colorbar": {
             "outlinewidth": 0,
             "ticks": ""
            },
            "colorscale": [
             [
              0,
              "#0d0887"
             ],
             [
              0.1111111111111111,
              "#46039f"
             ],
             [
              0.2222222222222222,
              "#7201a8"
             ],
             [
              0.3333333333333333,
              "#9c179e"
             ],
             [
              0.4444444444444444,
              "#bd3786"
             ],
             [
              0.5555555555555556,
              "#d8576b"
             ],
             [
              0.6666666666666666,
              "#ed7953"
             ],
             [
              0.7777777777777778,
              "#fb9f3a"
             ],
             [
              0.8888888888888888,
              "#fdca26"
             ],
             [
              1,
              "#f0f921"
             ]
            ],
            "type": "heatmapgl"
           }
          ],
          "histogram": [
           {
            "marker": {
             "pattern": {
              "fillmode": "overlay",
              "size": 10,
              "solidity": 0.2
             }
            },
            "type": "histogram"
           }
          ],
          "histogram2d": [
           {
            "colorbar": {
             "outlinewidth": 0,
             "ticks": ""
            },
            "colorscale": [
             [
              0,
              "#0d0887"
             ],
             [
              0.1111111111111111,
              "#46039f"
             ],
             [
              0.2222222222222222,
              "#7201a8"
             ],
             [
              0.3333333333333333,
              "#9c179e"
             ],
             [
              0.4444444444444444,
              "#bd3786"
             ],
             [
              0.5555555555555556,
              "#d8576b"
             ],
             [
              0.6666666666666666,
              "#ed7953"
             ],
             [
              0.7777777777777778,
              "#fb9f3a"
             ],
             [
              0.8888888888888888,
              "#fdca26"
             ],
             [
              1,
              "#f0f921"
             ]
            ],
            "type": "histogram2d"
           }
          ],
          "histogram2dcontour": [
           {
            "colorbar": {
             "outlinewidth": 0,
             "ticks": ""
            },
            "colorscale": [
             [
              0,
              "#0d0887"
             ],
             [
              0.1111111111111111,
              "#46039f"
             ],
             [
              0.2222222222222222,
              "#7201a8"
             ],
             [
              0.3333333333333333,
              "#9c179e"
             ],
             [
              0.4444444444444444,
              "#bd3786"
             ],
             [
              0.5555555555555556,
              "#d8576b"
             ],
             [
              0.6666666666666666,
              "#ed7953"
             ],
             [
              0.7777777777777778,
              "#fb9f3a"
             ],
             [
              0.8888888888888888,
              "#fdca26"
             ],
             [
              1,
              "#f0f921"
             ]
            ],
            "type": "histogram2dcontour"
           }
          ],
          "mesh3d": [
           {
            "colorbar": {
             "outlinewidth": 0,
             "ticks": ""
            },
            "type": "mesh3d"
           }
          ],
          "parcoords": [
           {
            "line": {
             "colorbar": {
              "outlinewidth": 0,
              "ticks": ""
             }
            },
            "type": "parcoords"
           }
          ],
          "pie": [
           {
            "automargin": true,
            "type": "pie"
           }
          ],
          "scatter": [
           {
            "fillpattern": {
             "fillmode": "overlay",
             "size": 10,
             "solidity": 0.2
            },
            "type": "scatter"
           }
          ],
          "scatter3d": [
           {
            "line": {
             "colorbar": {
              "outlinewidth": 0,
              "ticks": ""
             }
            },
            "marker": {
             "colorbar": {
              "outlinewidth": 0,
              "ticks": ""
             }
            },
            "type": "scatter3d"
           }
          ],
          "scattercarpet": [
           {
            "marker": {
             "colorbar": {
              "outlinewidth": 0,
              "ticks": ""
             }
            },
            "type": "scattercarpet"
           }
          ],
          "scattergeo": [
           {
            "marker": {
             "colorbar": {
              "outlinewidth": 0,
              "ticks": ""
             }
            },
            "type": "scattergeo"
           }
          ],
          "scattergl": [
           {
            "marker": {
             "colorbar": {
              "outlinewidth": 0,
              "ticks": ""
             }
            },
            "type": "scattergl"
           }
          ],
          "scattermapbox": [
           {
            "marker": {
             "colorbar": {
              "outlinewidth": 0,
              "ticks": ""
             }
            },
            "type": "scattermapbox"
           }
          ],
          "scatterpolar": [
           {
            "marker": {
             "colorbar": {
              "outlinewidth": 0,
              "ticks": ""
             }
            },
            "type": "scatterpolar"
           }
          ],
          "scatterpolargl": [
           {
            "marker": {
             "colorbar": {
              "outlinewidth": 0,
              "ticks": ""
             }
            },
            "type": "scatterpolargl"
           }
          ],
          "scatterternary": [
           {
            "marker": {
             "colorbar": {
              "outlinewidth": 0,
              "ticks": ""
             }
            },
            "type": "scatterternary"
           }
          ],
          "surface": [
           {
            "colorbar": {
             "outlinewidth": 0,
             "ticks": ""
            },
            "colorscale": [
             [
              0,
              "#0d0887"
             ],
             [
              0.1111111111111111,
              "#46039f"
             ],
             [
              0.2222222222222222,
              "#7201a8"
             ],
             [
              0.3333333333333333,
              "#9c179e"
             ],
             [
              0.4444444444444444,
              "#bd3786"
             ],
             [
              0.5555555555555556,
              "#d8576b"
             ],
             [
              0.6666666666666666,
              "#ed7953"
             ],
             [
              0.7777777777777778,
              "#fb9f3a"
             ],
             [
              0.8888888888888888,
              "#fdca26"
             ],
             [
              1,
              "#f0f921"
             ]
            ],
            "type": "surface"
           }
          ],
          "table": [
           {
            "cells": {
             "fill": {
              "color": "#EBF0F8"
             },
             "line": {
              "color": "white"
             }
            },
            "header": {
             "fill": {
              "color": "#C8D4E3"
             },
             "line": {
              "color": "white"
             }
            },
            "type": "table"
           }
          ]
         },
         "layout": {
          "annotationdefaults": {
           "arrowcolor": "#2a3f5f",
           "arrowhead": 0,
           "arrowwidth": 1
          },
          "autotypenumbers": "strict",
          "coloraxis": {
           "colorbar": {
            "outlinewidth": 0,
            "ticks": ""
           }
          },
          "colorscale": {
           "diverging": [
            [
             0,
             "#8e0152"
            ],
            [
             0.1,
             "#c51b7d"
            ],
            [
             0.2,
             "#de77ae"
            ],
            [
             0.3,
             "#f1b6da"
            ],
            [
             0.4,
             "#fde0ef"
            ],
            [
             0.5,
             "#f7f7f7"
            ],
            [
             0.6,
             "#e6f5d0"
            ],
            [
             0.7,
             "#b8e186"
            ],
            [
             0.8,
             "#7fbc41"
            ],
            [
             0.9,
             "#4d9221"
            ],
            [
             1,
             "#276419"
            ]
           ],
           "sequential": [
            [
             0,
             "#0d0887"
            ],
            [
             0.1111111111111111,
             "#46039f"
            ],
            [
             0.2222222222222222,
             "#7201a8"
            ],
            [
             0.3333333333333333,
             "#9c179e"
            ],
            [
             0.4444444444444444,
             "#bd3786"
            ],
            [
             0.5555555555555556,
             "#d8576b"
            ],
            [
             0.6666666666666666,
             "#ed7953"
            ],
            [
             0.7777777777777778,
             "#fb9f3a"
            ],
            [
             0.8888888888888888,
             "#fdca26"
            ],
            [
             1,
             "#f0f921"
            ]
           ],
           "sequentialminus": [
            [
             0,
             "#0d0887"
            ],
            [
             0.1111111111111111,
             "#46039f"
            ],
            [
             0.2222222222222222,
             "#7201a8"
            ],
            [
             0.3333333333333333,
             "#9c179e"
            ],
            [
             0.4444444444444444,
             "#bd3786"
            ],
            [
             0.5555555555555556,
             "#d8576b"
            ],
            [
             0.6666666666666666,
             "#ed7953"
            ],
            [
             0.7777777777777778,
             "#fb9f3a"
            ],
            [
             0.8888888888888888,
             "#fdca26"
            ],
            [
             1,
             "#f0f921"
            ]
           ]
          },
          "colorway": [
           "#636efa",
           "#EF553B",
           "#00cc96",
           "#ab63fa",
           "#FFA15A",
           "#19d3f3",
           "#FF6692",
           "#B6E880",
           "#FF97FF",
           "#FECB52"
          ],
          "font": {
           "color": "#2a3f5f"
          },
          "geo": {
           "bgcolor": "white",
           "lakecolor": "white",
           "landcolor": "#E5ECF6",
           "showlakes": true,
           "showland": true,
           "subunitcolor": "white"
          },
          "hoverlabel": {
           "align": "left"
          },
          "hovermode": "closest",
          "mapbox": {
           "style": "light"
          },
          "paper_bgcolor": "white",
          "plot_bgcolor": "#E5ECF6",
          "polar": {
           "angularaxis": {
            "gridcolor": "white",
            "linecolor": "white",
            "ticks": ""
           },
           "bgcolor": "#E5ECF6",
           "radialaxis": {
            "gridcolor": "white",
            "linecolor": "white",
            "ticks": ""
           }
          },
          "scene": {
           "xaxis": {
            "backgroundcolor": "#E5ECF6",
            "gridcolor": "white",
            "gridwidth": 2,
            "linecolor": "white",
            "showbackground": true,
            "ticks": "",
            "zerolinecolor": "white"
           },
           "yaxis": {
            "backgroundcolor": "#E5ECF6",
            "gridcolor": "white",
            "gridwidth": 2,
            "linecolor": "white",
            "showbackground": true,
            "ticks": "",
            "zerolinecolor": "white"
           },
           "zaxis": {
            "backgroundcolor": "#E5ECF6",
            "gridcolor": "white",
            "gridwidth": 2,
            "linecolor": "white",
            "showbackground": true,
            "ticks": "",
            "zerolinecolor": "white"
           }
          },
          "shapedefaults": {
           "line": {
            "color": "#2a3f5f"
           }
          },
          "ternary": {
           "aaxis": {
            "gridcolor": "white",
            "linecolor": "white",
            "ticks": ""
           },
           "baxis": {
            "gridcolor": "white",
            "linecolor": "white",
            "ticks": ""
           },
           "bgcolor": "#E5ECF6",
           "caxis": {
            "gridcolor": "white",
            "linecolor": "white",
            "ticks": ""
           }
          },
          "title": {
           "x": 0.05
          },
          "xaxis": {
           "automargin": true,
           "gridcolor": "white",
           "linecolor": "white",
           "ticks": "",
           "title": {
            "standoff": 15
           },
           "zerolinecolor": "white",
           "zerolinewidth": 2
          },
          "yaxis": {
           "automargin": true,
           "gridcolor": "white",
           "linecolor": "white",
           "ticks": "",
           "title": {
            "standoff": 15
           },
           "zerolinecolor": "white",
           "zerolinewidth": 2
          }
         }
        },
        "title": {
         "text": "Organic_con"
        },
        "xaxis": {
         "anchor": "y",
         "domain": [
          0,
          1
         ],
         "title": {
          "text": "month"
         }
        },
        "yaxis": {
         "anchor": "x",
         "domain": [
          0,
          1
         ],
         "title": {
          "text": "rate"
         }
        }
       }
      }
     },
     "metadata": {},
     "output_type": "display_data"
    }
   ],
   "source": [
    "fig = px.line(Organic_con , x = 'month' ,y = 'rate', color='year', title = 'Organic_con')\n",
    "fig.show()"
   ]
  },
  {
   "cell_type": "code",
   "execution_count": 34,
   "metadata": {},
   "outputs": [
    {
     "data": {
      "application/vnd.plotly.v1+json": {
       "config": {
        "plotlyServerURL": "https://plot.ly"
       },
       "data": [
        {
         "hovertemplate": "year=2019<br>month=%{x}<br>rate=%{y}<extra></extra>",
         "legendgroup": "2019",
         "line": {
          "color": "#636efa",
          "dash": "solid"
         },
         "marker": {
          "symbol": "circle"
         },
         "mode": "lines",
         "name": "2019",
         "orientation": "v",
         "showlegend": true,
         "type": "scatter",
         "x": [
          1,
          2,
          3,
          4,
          5,
          6,
          7,
          8,
          9,
          10,
          11,
          12
         ],
         "xaxis": "x",
         "y": [
          0.24360535931790497,
          0.9102730819245773,
          1.2150668286755772,
          1.6568047337278107,
          1.9906323185011712,
          3.9663461538461537,
          4,
          3.8318912237330034,
          6.674473067915692,
          5.902004454342984,
          4.938271604938271,
          8.098987626546682
         ],
         "yaxis": "y"
        },
        {
         "hovertemplate": "year=2020<br>month=%{x}<br>rate=%{y}<extra></extra>",
         "legendgroup": "2020",
         "line": {
          "color": "#EF553B",
          "dash": "solid"
         },
         "marker": {
          "symbol": "circle"
         },
         "mode": "lines",
         "name": "2020",
         "orientation": "v",
         "showlegend": true,
         "type": "scatter",
         "x": [
          1,
          2,
          3,
          4,
          5,
          6,
          7,
          8,
          9,
          10,
          11,
          12
         ],
         "xaxis": "x",
         "y": [
          6.572295247724974,
          8.886389201349832,
          9.862142099681867,
          8.529741863075197,
          8.438818565400844,
          11.123470522803114,
          12.539515279241305,
          12.273212379935966,
          13.415892672858618,
          14.705882352941178,
          14.514407684098185,
          15.369836695485112
         ],
         "yaxis": "y"
        },
        {
         "hovertemplate": "year=2021<br>month=%{x}<br>rate=%{y}<extra></extra>",
         "legendgroup": "2021",
         "line": {
          "color": "#00cc96",
          "dash": "solid"
         },
         "marker": {
          "symbol": "circle"
         },
         "mode": "lines",
         "name": "2021",
         "orientation": "v",
         "showlegend": true,
         "type": "scatter",
         "x": [
          1,
          2,
          3,
          4,
          5,
          6,
          7,
          8,
          9,
          10,
          11,
          12
         ],
         "xaxis": "x",
         "y": [
          16.718266253869967,
          15.995525727069351,
          16.649537512846866,
          17.391304347826086,
          17.330861909175162,
          18.3,
          19.326923076923077,
          20.566037735849058,
          21.06741573033708,
          21.78988326848249,
          25.139664804469277,
          26.330532212885156
         ],
         "yaxis": "y"
        },
        {
         "hovertemplate": "year=2022<br>month=%{x}<br>rate=%{y}<extra></extra>",
         "legendgroup": "2022",
         "line": {
          "color": "#ab63fa",
          "dash": "solid"
         },
         "marker": {
          "symbol": "circle"
         },
         "mode": "lines",
         "name": "2022",
         "orientation": "v",
         "showlegend": true,
         "type": "scatter",
         "x": [
          1,
          2,
          3,
          4,
          5,
          6,
          7,
          8,
          9,
          10,
          11,
          12
         ],
         "xaxis": "x",
         "y": [
          25,
          24.542829643888354,
          26.508226691042047,
          28.046594982078854,
          28.046744574290482,
          28.645833333333332,
          28.64,
          33.497536945812804,
          30.270713699753898,
          32.728771640560595,
          34.44354183590577,
          34.72962680883473
         ],
         "yaxis": "y"
        },
        {
         "hovertemplate": "year=2023<br>month=%{x}<br>rate=%{y}<extra></extra>",
         "legendgroup": "2023",
         "line": {
          "color": "#FFA15A",
          "dash": "solid"
         },
         "marker": {
          "symbol": "circle"
         },
         "mode": "lines",
         "name": "2023",
         "orientation": "v",
         "showlegend": true,
         "type": "scatter",
         "x": [
          1,
          2,
          3,
          4,
          5,
          6,
          7,
          8,
          9,
          10,
          11,
          12
         ],
         "xaxis": "x",
         "y": [
          36.84210526315789,
          38.88439773645918,
          39.55892487939352,
          41.29643117261471,
          41.70783345095272,
          41.77897574123989,
          44.35279187817259,
          43.57682619647355,
          48.426896977174586,
          52.14245965498052,
          52.36325013276686,
          56.40661938534279
         ],
         "yaxis": "y"
        },
        {
         "hovertemplate": "year=2024<br>month=%{x}<br>rate=%{y}<extra></extra>",
         "legendgroup": "2024",
         "line": {
          "color": "#19d3f3",
          "dash": "solid"
         },
         "marker": {
          "symbol": "circle"
         },
         "mode": "lines",
         "name": "2024",
         "orientation": "v",
         "showlegend": true,
         "type": "scatter",
         "x": [
          1
         ],
         "xaxis": "x",
         "y": [
          77.55331088664423
         ],
         "yaxis": "y"
        }
       ],
       "layout": {
        "legend": {
         "title": {
          "text": "year"
         },
         "tracegroupgap": 0
        },
        "template": {
         "data": {
          "bar": [
           {
            "error_x": {
             "color": "#2a3f5f"
            },
            "error_y": {
             "color": "#2a3f5f"
            },
            "marker": {
             "line": {
              "color": "#E5ECF6",
              "width": 0.5
             },
             "pattern": {
              "fillmode": "overlay",
              "size": 10,
              "solidity": 0.2
             }
            },
            "type": "bar"
           }
          ],
          "barpolar": [
           {
            "marker": {
             "line": {
              "color": "#E5ECF6",
              "width": 0.5
             },
             "pattern": {
              "fillmode": "overlay",
              "size": 10,
              "solidity": 0.2
             }
            },
            "type": "barpolar"
           }
          ],
          "carpet": [
           {
            "aaxis": {
             "endlinecolor": "#2a3f5f",
             "gridcolor": "white",
             "linecolor": "white",
             "minorgridcolor": "white",
             "startlinecolor": "#2a3f5f"
            },
            "baxis": {
             "endlinecolor": "#2a3f5f",
             "gridcolor": "white",
             "linecolor": "white",
             "minorgridcolor": "white",
             "startlinecolor": "#2a3f5f"
            },
            "type": "carpet"
           }
          ],
          "choropleth": [
           {
            "colorbar": {
             "outlinewidth": 0,
             "ticks": ""
            },
            "type": "choropleth"
           }
          ],
          "contour": [
           {
            "colorbar": {
             "outlinewidth": 0,
             "ticks": ""
            },
            "colorscale": [
             [
              0,
              "#0d0887"
             ],
             [
              0.1111111111111111,
              "#46039f"
             ],
             [
              0.2222222222222222,
              "#7201a8"
             ],
             [
              0.3333333333333333,
              "#9c179e"
             ],
             [
              0.4444444444444444,
              "#bd3786"
             ],
             [
              0.5555555555555556,
              "#d8576b"
             ],
             [
              0.6666666666666666,
              "#ed7953"
             ],
             [
              0.7777777777777778,
              "#fb9f3a"
             ],
             [
              0.8888888888888888,
              "#fdca26"
             ],
             [
              1,
              "#f0f921"
             ]
            ],
            "type": "contour"
           }
          ],
          "contourcarpet": [
           {
            "colorbar": {
             "outlinewidth": 0,
             "ticks": ""
            },
            "type": "contourcarpet"
           }
          ],
          "heatmap": [
           {
            "colorbar": {
             "outlinewidth": 0,
             "ticks": ""
            },
            "colorscale": [
             [
              0,
              "#0d0887"
             ],
             [
              0.1111111111111111,
              "#46039f"
             ],
             [
              0.2222222222222222,
              "#7201a8"
             ],
             [
              0.3333333333333333,
              "#9c179e"
             ],
             [
              0.4444444444444444,
              "#bd3786"
             ],
             [
              0.5555555555555556,
              "#d8576b"
             ],
             [
              0.6666666666666666,
              "#ed7953"
             ],
             [
              0.7777777777777778,
              "#fb9f3a"
             ],
             [
              0.8888888888888888,
              "#fdca26"
             ],
             [
              1,
              "#f0f921"
             ]
            ],
            "type": "heatmap"
           }
          ],
          "heatmapgl": [
           {
            "colorbar": {
             "outlinewidth": 0,
             "ticks": ""
            },
            "colorscale": [
             [
              0,
              "#0d0887"
             ],
             [
              0.1111111111111111,
              "#46039f"
             ],
             [
              0.2222222222222222,
              "#7201a8"
             ],
             [
              0.3333333333333333,
              "#9c179e"
             ],
             [
              0.4444444444444444,
              "#bd3786"
             ],
             [
              0.5555555555555556,
              "#d8576b"
             ],
             [
              0.6666666666666666,
              "#ed7953"
             ],
             [
              0.7777777777777778,
              "#fb9f3a"
             ],
             [
              0.8888888888888888,
              "#fdca26"
             ],
             [
              1,
              "#f0f921"
             ]
            ],
            "type": "heatmapgl"
           }
          ],
          "histogram": [
           {
            "marker": {
             "pattern": {
              "fillmode": "overlay",
              "size": 10,
              "solidity": 0.2
             }
            },
            "type": "histogram"
           }
          ],
          "histogram2d": [
           {
            "colorbar": {
             "outlinewidth": 0,
             "ticks": ""
            },
            "colorscale": [
             [
              0,
              "#0d0887"
             ],
             [
              0.1111111111111111,
              "#46039f"
             ],
             [
              0.2222222222222222,
              "#7201a8"
             ],
             [
              0.3333333333333333,
              "#9c179e"
             ],
             [
              0.4444444444444444,
              "#bd3786"
             ],
             [
              0.5555555555555556,
              "#d8576b"
             ],
             [
              0.6666666666666666,
              "#ed7953"
             ],
             [
              0.7777777777777778,
              "#fb9f3a"
             ],
             [
              0.8888888888888888,
              "#fdca26"
             ],
             [
              1,
              "#f0f921"
             ]
            ],
            "type": "histogram2d"
           }
          ],
          "histogram2dcontour": [
           {
            "colorbar": {
             "outlinewidth": 0,
             "ticks": ""
            },
            "colorscale": [
             [
              0,
              "#0d0887"
             ],
             [
              0.1111111111111111,
              "#46039f"
             ],
             [
              0.2222222222222222,
              "#7201a8"
             ],
             [
              0.3333333333333333,
              "#9c179e"
             ],
             [
              0.4444444444444444,
              "#bd3786"
             ],
             [
              0.5555555555555556,
              "#d8576b"
             ],
             [
              0.6666666666666666,
              "#ed7953"
             ],
             [
              0.7777777777777778,
              "#fb9f3a"
             ],
             [
              0.8888888888888888,
              "#fdca26"
             ],
             [
              1,
              "#f0f921"
             ]
            ],
            "type": "histogram2dcontour"
           }
          ],
          "mesh3d": [
           {
            "colorbar": {
             "outlinewidth": 0,
             "ticks": ""
            },
            "type": "mesh3d"
           }
          ],
          "parcoords": [
           {
            "line": {
             "colorbar": {
              "outlinewidth": 0,
              "ticks": ""
             }
            },
            "type": "parcoords"
           }
          ],
          "pie": [
           {
            "automargin": true,
            "type": "pie"
           }
          ],
          "scatter": [
           {
            "fillpattern": {
             "fillmode": "overlay",
             "size": 10,
             "solidity": 0.2
            },
            "type": "scatter"
           }
          ],
          "scatter3d": [
           {
            "line": {
             "colorbar": {
              "outlinewidth": 0,
              "ticks": ""
             }
            },
            "marker": {
             "colorbar": {
              "outlinewidth": 0,
              "ticks": ""
             }
            },
            "type": "scatter3d"
           }
          ],
          "scattercarpet": [
           {
            "marker": {
             "colorbar": {
              "outlinewidth": 0,
              "ticks": ""
             }
            },
            "type": "scattercarpet"
           }
          ],
          "scattergeo": [
           {
            "marker": {
             "colorbar": {
              "outlinewidth": 0,
              "ticks": ""
             }
            },
            "type": "scattergeo"
           }
          ],
          "scattergl": [
           {
            "marker": {
             "colorbar": {
              "outlinewidth": 0,
              "ticks": ""
             }
            },
            "type": "scattergl"
           }
          ],
          "scattermapbox": [
           {
            "marker": {
             "colorbar": {
              "outlinewidth": 0,
              "ticks": ""
             }
            },
            "type": "scattermapbox"
           }
          ],
          "scatterpolar": [
           {
            "marker": {
             "colorbar": {
              "outlinewidth": 0,
              "ticks": ""
             }
            },
            "type": "scatterpolar"
           }
          ],
          "scatterpolargl": [
           {
            "marker": {
             "colorbar": {
              "outlinewidth": 0,
              "ticks": ""
             }
            },
            "type": "scatterpolargl"
           }
          ],
          "scatterternary": [
           {
            "marker": {
             "colorbar": {
              "outlinewidth": 0,
              "ticks": ""
             }
            },
            "type": "scatterternary"
           }
          ],
          "surface": [
           {
            "colorbar": {
             "outlinewidth": 0,
             "ticks": ""
            },
            "colorscale": [
             [
              0,
              "#0d0887"
             ],
             [
              0.1111111111111111,
              "#46039f"
             ],
             [
              0.2222222222222222,
              "#7201a8"
             ],
             [
              0.3333333333333333,
              "#9c179e"
             ],
             [
              0.4444444444444444,
              "#bd3786"
             ],
             [
              0.5555555555555556,
              "#d8576b"
             ],
             [
              0.6666666666666666,
              "#ed7953"
             ],
             [
              0.7777777777777778,
              "#fb9f3a"
             ],
             [
              0.8888888888888888,
              "#fdca26"
             ],
             [
              1,
              "#f0f921"
             ]
            ],
            "type": "surface"
           }
          ],
          "table": [
           {
            "cells": {
             "fill": {
              "color": "#EBF0F8"
             },
             "line": {
              "color": "white"
             }
            },
            "header": {
             "fill": {
              "color": "#C8D4E3"
             },
             "line": {
              "color": "white"
             }
            },
            "type": "table"
           }
          ]
         },
         "layout": {
          "annotationdefaults": {
           "arrowcolor": "#2a3f5f",
           "arrowhead": 0,
           "arrowwidth": 1
          },
          "autotypenumbers": "strict",
          "coloraxis": {
           "colorbar": {
            "outlinewidth": 0,
            "ticks": ""
           }
          },
          "colorscale": {
           "diverging": [
            [
             0,
             "#8e0152"
            ],
            [
             0.1,
             "#c51b7d"
            ],
            [
             0.2,
             "#de77ae"
            ],
            [
             0.3,
             "#f1b6da"
            ],
            [
             0.4,
             "#fde0ef"
            ],
            [
             0.5,
             "#f7f7f7"
            ],
            [
             0.6,
             "#e6f5d0"
            ],
            [
             0.7,
             "#b8e186"
            ],
            [
             0.8,
             "#7fbc41"
            ],
            [
             0.9,
             "#4d9221"
            ],
            [
             1,
             "#276419"
            ]
           ],
           "sequential": [
            [
             0,
             "#0d0887"
            ],
            [
             0.1111111111111111,
             "#46039f"
            ],
            [
             0.2222222222222222,
             "#7201a8"
            ],
            [
             0.3333333333333333,
             "#9c179e"
            ],
            [
             0.4444444444444444,
             "#bd3786"
            ],
            [
             0.5555555555555556,
             "#d8576b"
            ],
            [
             0.6666666666666666,
             "#ed7953"
            ],
            [
             0.7777777777777778,
             "#fb9f3a"
            ],
            [
             0.8888888888888888,
             "#fdca26"
            ],
            [
             1,
             "#f0f921"
            ]
           ],
           "sequentialminus": [
            [
             0,
             "#0d0887"
            ],
            [
             0.1111111111111111,
             "#46039f"
            ],
            [
             0.2222222222222222,
             "#7201a8"
            ],
            [
             0.3333333333333333,
             "#9c179e"
            ],
            [
             0.4444444444444444,
             "#bd3786"
            ],
            [
             0.5555555555555556,
             "#d8576b"
            ],
            [
             0.6666666666666666,
             "#ed7953"
            ],
            [
             0.7777777777777778,
             "#fb9f3a"
            ],
            [
             0.8888888888888888,
             "#fdca26"
            ],
            [
             1,
             "#f0f921"
            ]
           ]
          },
          "colorway": [
           "#636efa",
           "#EF553B",
           "#00cc96",
           "#ab63fa",
           "#FFA15A",
           "#19d3f3",
           "#FF6692",
           "#B6E880",
           "#FF97FF",
           "#FECB52"
          ],
          "font": {
           "color": "#2a3f5f"
          },
          "geo": {
           "bgcolor": "white",
           "lakecolor": "white",
           "landcolor": "#E5ECF6",
           "showlakes": true,
           "showland": true,
           "subunitcolor": "white"
          },
          "hoverlabel": {
           "align": "left"
          },
          "hovermode": "closest",
          "mapbox": {
           "style": "light"
          },
          "paper_bgcolor": "white",
          "plot_bgcolor": "#E5ECF6",
          "polar": {
           "angularaxis": {
            "gridcolor": "white",
            "linecolor": "white",
            "ticks": ""
           },
           "bgcolor": "#E5ECF6",
           "radialaxis": {
            "gridcolor": "white",
            "linecolor": "white",
            "ticks": ""
           }
          },
          "scene": {
           "xaxis": {
            "backgroundcolor": "#E5ECF6",
            "gridcolor": "white",
            "gridwidth": 2,
            "linecolor": "white",
            "showbackground": true,
            "ticks": "",
            "zerolinecolor": "white"
           },
           "yaxis": {
            "backgroundcolor": "#E5ECF6",
            "gridcolor": "white",
            "gridwidth": 2,
            "linecolor": "white",
            "showbackground": true,
            "ticks": "",
            "zerolinecolor": "white"
           },
           "zaxis": {
            "backgroundcolor": "#E5ECF6",
            "gridcolor": "white",
            "gridwidth": 2,
            "linecolor": "white",
            "showbackground": true,
            "ticks": "",
            "zerolinecolor": "white"
           }
          },
          "shapedefaults": {
           "line": {
            "color": "#2a3f5f"
           }
          },
          "ternary": {
           "aaxis": {
            "gridcolor": "white",
            "linecolor": "white",
            "ticks": ""
           },
           "baxis": {
            "gridcolor": "white",
            "linecolor": "white",
            "ticks": ""
           },
           "bgcolor": "#E5ECF6",
           "caxis": {
            "gridcolor": "white",
            "linecolor": "white",
            "ticks": ""
           }
          },
          "title": {
           "x": 0.05
          },
          "xaxis": {
           "automargin": true,
           "gridcolor": "white",
           "linecolor": "white",
           "ticks": "",
           "title": {
            "standoff": 15
           },
           "zerolinecolor": "white",
           "zerolinewidth": 2
          },
          "yaxis": {
           "automargin": true,
           "gridcolor": "white",
           "linecolor": "white",
           "ticks": "",
           "title": {
            "standoff": 15
           },
           "zerolinecolor": "white",
           "zerolinewidth": 2
          }
         }
        },
        "title": {
         "text": "Facebook_con"
        },
        "xaxis": {
         "anchor": "y",
         "domain": [
          0,
          1
         ],
         "title": {
          "text": "month"
         }
        },
        "yaxis": {
         "anchor": "x",
         "domain": [
          0,
          1
         ],
         "title": {
          "text": "rate"
         }
        }
       }
      }
     },
     "metadata": {},
     "output_type": "display_data"
    }
   ],
   "source": [
    "fig = px.line(Facebook_con , x = 'month' ,y = 'rate', color='year', title = 'Facebook_con')\n",
    "fig.show()"
   ]
  },
  {
   "cell_type": "code",
   "execution_count": 35,
   "metadata": {},
   "outputs": [
    {
     "data": {
      "application/vnd.plotly.v1+json": {
       "config": {
        "plotlyServerURL": "https://plot.ly"
       },
       "data": [
        {
         "hovertemplate": "year=2019<br>month=%{x}<br>rate=%{y}<extra></extra>",
         "legendgroup": "2019",
         "line": {
          "color": "#636efa",
          "dash": "solid"
         },
         "marker": {
          "symbol": "circle"
         },
         "mode": "lines",
         "name": "2019",
         "orientation": "v",
         "showlegend": true,
         "type": "scatter",
         "x": [
          1,
          2,
          3,
          4,
          5,
          6,
          7,
          8,
          9,
          10,
          11,
          12
         ],
         "xaxis": "x",
         "y": [
          0.3400396712949844,
          0.6015468347178459,
          1.875,
          1.8826739427012278,
          3.060192210419828,
          3.4668099973125504,
          3.9215686274509802,
          3.775019001773499,
          5.268595041322314,
          5.906210392902408,
          5.706170926930029,
          7.32484076433121
         ],
         "yaxis": "y"
        },
        {
         "hovertemplate": "year=2020<br>month=%{x}<br>rate=%{y}<extra></extra>",
         "legendgroup": "2020",
         "line": {
          "color": "#EF553B",
          "dash": "solid"
         },
         "marker": {
          "symbol": "circle"
         },
         "mode": "lines",
         "name": "2020",
         "orientation": "v",
         "showlegend": true,
         "type": "scatter",
         "x": [
          1,
          2,
          3,
          4,
          5,
          6,
          7,
          8,
          9,
          10,
          11,
          12
         ],
         "xaxis": "x",
         "y": [
          7.8713702903767695,
          8.277462609592574,
          8.887300452704313,
          9.551411290322582,
          10.32462777642177,
          11.673151750972762,
          12.078785002373042,
          12.063715155774187,
          12.146694697500585,
          13.285618429881458,
          13.855709507883422,
          14.799386099539575
         ],
         "yaxis": "y"
        },
        {
         "hovertemplate": "year=2021<br>month=%{x}<br>rate=%{y}<extra></extra>",
         "legendgroup": "2021",
         "line": {
          "color": "#00cc96",
          "dash": "solid"
         },
         "marker": {
          "symbol": "circle"
         },
         "mode": "lines",
         "name": "2021",
         "orientation": "v",
         "showlegend": true,
         "type": "scatter",
         "x": [
          1,
          2,
          3,
          4,
          5,
          6,
          7,
          8,
          9,
          10,
          11,
          12
         ],
         "xaxis": "x",
         "y": [
          16.930757542869546,
          15.821256038647343,
          17.203131796433233,
          17.33243060257278,
          19.232437120555073,
          18.334423370394592,
          18.067940552016985,
          20.959332638164753,
          21.314655172413794,
          23.072227873855546,
          22.037115141290595,
          23.514056224899598
         ],
         "yaxis": "y"
        },
        {
         "hovertemplate": "year=2022<br>month=%{x}<br>rate=%{y}<extra></extra>",
         "legendgroup": "2022",
         "line": {
          "color": "#ab63fa",
          "dash": "solid"
         },
         "marker": {
          "symbol": "circle"
         },
         "mode": "lines",
         "name": "2022",
         "orientation": "v",
         "showlegend": true,
         "type": "scatter",
         "x": [
          1,
          2,
          3,
          4,
          5,
          6,
          7,
          8,
          9,
          10,
          11,
          12
         ],
         "xaxis": "x",
         "y": [
          24.094273470977797,
          24.23841059602649,
          25.419380303927376,
          26.78816382520086,
          28.397790055248617,
          28.86359251398804,
          30.667158127534094,
          30.60010812759056,
          32.15752146323255,
          33.59226652856896,
          33.65533896843195,
          33.62682018286488
         ],
         "yaxis": "y"
        },
        {
         "hovertemplate": "year=2023<br>month=%{x}<br>rate=%{y}<extra></extra>",
         "legendgroup": "2023",
         "line": {
          "color": "#FFA15A",
          "dash": "solid"
         },
         "marker": {
          "symbol": "circle"
         },
         "mode": "lines",
         "name": "2023",
         "orientation": "v",
         "showlegend": true,
         "type": "scatter",
         "x": [
          1,
          2,
          3,
          4,
          5,
          6,
          7,
          8,
          9,
          10,
          11,
          12
         ],
         "xaxis": "x",
         "y": [
          36.41695994637171,
          37.43016759776536,
          38.81422924901186,
          38.980289949503174,
          40.87127514748147,
          41.98214835333949,
          43.08759020800906,
          46.28453038674033,
          47.77686852154937,
          49.6943231441048,
          53.68179623370353,
          56.47269660552393
         ],
         "yaxis": "y"
        },
        {
         "hovertemplate": "year=2024<br>month=%{x}<br>rate=%{y}<extra></extra>",
         "legendgroup": "2024",
         "line": {
          "color": "#19d3f3",
          "dash": "solid"
         },
         "marker": {
          "symbol": "circle"
         },
         "mode": "lines",
         "name": "2024",
         "orientation": "v",
         "showlegend": true,
         "type": "scatter",
         "x": [
          1
         ],
         "xaxis": "x",
         "y": [
          76.2772374738397
         ],
         "yaxis": "y"
        }
       ],
       "layout": {
        "legend": {
         "title": {
          "text": "year"
         },
         "tracegroupgap": 0
        },
        "template": {
         "data": {
          "bar": [
           {
            "error_x": {
             "color": "#2a3f5f"
            },
            "error_y": {
             "color": "#2a3f5f"
            },
            "marker": {
             "line": {
              "color": "#E5ECF6",
              "width": 0.5
             },
             "pattern": {
              "fillmode": "overlay",
              "size": 10,
              "solidity": 0.2
             }
            },
            "type": "bar"
           }
          ],
          "barpolar": [
           {
            "marker": {
             "line": {
              "color": "#E5ECF6",
              "width": 0.5
             },
             "pattern": {
              "fillmode": "overlay",
              "size": 10,
              "solidity": 0.2
             }
            },
            "type": "barpolar"
           }
          ],
          "carpet": [
           {
            "aaxis": {
             "endlinecolor": "#2a3f5f",
             "gridcolor": "white",
             "linecolor": "white",
             "minorgridcolor": "white",
             "startlinecolor": "#2a3f5f"
            },
            "baxis": {
             "endlinecolor": "#2a3f5f",
             "gridcolor": "white",
             "linecolor": "white",
             "minorgridcolor": "white",
             "startlinecolor": "#2a3f5f"
            },
            "type": "carpet"
           }
          ],
          "choropleth": [
           {
            "colorbar": {
             "outlinewidth": 0,
             "ticks": ""
            },
            "type": "choropleth"
           }
          ],
          "contour": [
           {
            "colorbar": {
             "outlinewidth": 0,
             "ticks": ""
            },
            "colorscale": [
             [
              0,
              "#0d0887"
             ],
             [
              0.1111111111111111,
              "#46039f"
             ],
             [
              0.2222222222222222,
              "#7201a8"
             ],
             [
              0.3333333333333333,
              "#9c179e"
             ],
             [
              0.4444444444444444,
              "#bd3786"
             ],
             [
              0.5555555555555556,
              "#d8576b"
             ],
             [
              0.6666666666666666,
              "#ed7953"
             ],
             [
              0.7777777777777778,
              "#fb9f3a"
             ],
             [
              0.8888888888888888,
              "#fdca26"
             ],
             [
              1,
              "#f0f921"
             ]
            ],
            "type": "contour"
           }
          ],
          "contourcarpet": [
           {
            "colorbar": {
             "outlinewidth": 0,
             "ticks": ""
            },
            "type": "contourcarpet"
           }
          ],
          "heatmap": [
           {
            "colorbar": {
             "outlinewidth": 0,
             "ticks": ""
            },
            "colorscale": [
             [
              0,
              "#0d0887"
             ],
             [
              0.1111111111111111,
              "#46039f"
             ],
             [
              0.2222222222222222,
              "#7201a8"
             ],
             [
              0.3333333333333333,
              "#9c179e"
             ],
             [
              0.4444444444444444,
              "#bd3786"
             ],
             [
              0.5555555555555556,
              "#d8576b"
             ],
             [
              0.6666666666666666,
              "#ed7953"
             ],
             [
              0.7777777777777778,
              "#fb9f3a"
             ],
             [
              0.8888888888888888,
              "#fdca26"
             ],
             [
              1,
              "#f0f921"
             ]
            ],
            "type": "heatmap"
           }
          ],
          "heatmapgl": [
           {
            "colorbar": {
             "outlinewidth": 0,
             "ticks": ""
            },
            "colorscale": [
             [
              0,
              "#0d0887"
             ],
             [
              0.1111111111111111,
              "#46039f"
             ],
             [
              0.2222222222222222,
              "#7201a8"
             ],
             [
              0.3333333333333333,
              "#9c179e"
             ],
             [
              0.4444444444444444,
              "#bd3786"
             ],
             [
              0.5555555555555556,
              "#d8576b"
             ],
             [
              0.6666666666666666,
              "#ed7953"
             ],
             [
              0.7777777777777778,
              "#fb9f3a"
             ],
             [
              0.8888888888888888,
              "#fdca26"
             ],
             [
              1,
              "#f0f921"
             ]
            ],
            "type": "heatmapgl"
           }
          ],
          "histogram": [
           {
            "marker": {
             "pattern": {
              "fillmode": "overlay",
              "size": 10,
              "solidity": 0.2
             }
            },
            "type": "histogram"
           }
          ],
          "histogram2d": [
           {
            "colorbar": {
             "outlinewidth": 0,
             "ticks": ""
            },
            "colorscale": [
             [
              0,
              "#0d0887"
             ],
             [
              0.1111111111111111,
              "#46039f"
             ],
             [
              0.2222222222222222,
              "#7201a8"
             ],
             [
              0.3333333333333333,
              "#9c179e"
             ],
             [
              0.4444444444444444,
              "#bd3786"
             ],
             [
              0.5555555555555556,
              "#d8576b"
             ],
             [
              0.6666666666666666,
              "#ed7953"
             ],
             [
              0.7777777777777778,
              "#fb9f3a"
             ],
             [
              0.8888888888888888,
              "#fdca26"
             ],
             [
              1,
              "#f0f921"
             ]
            ],
            "type": "histogram2d"
           }
          ],
          "histogram2dcontour": [
           {
            "colorbar": {
             "outlinewidth": 0,
             "ticks": ""
            },
            "colorscale": [
             [
              0,
              "#0d0887"
             ],
             [
              0.1111111111111111,
              "#46039f"
             ],
             [
              0.2222222222222222,
              "#7201a8"
             ],
             [
              0.3333333333333333,
              "#9c179e"
             ],
             [
              0.4444444444444444,
              "#bd3786"
             ],
             [
              0.5555555555555556,
              "#d8576b"
             ],
             [
              0.6666666666666666,
              "#ed7953"
             ],
             [
              0.7777777777777778,
              "#fb9f3a"
             ],
             [
              0.8888888888888888,
              "#fdca26"
             ],
             [
              1,
              "#f0f921"
             ]
            ],
            "type": "histogram2dcontour"
           }
          ],
          "mesh3d": [
           {
            "colorbar": {
             "outlinewidth": 0,
             "ticks": ""
            },
            "type": "mesh3d"
           }
          ],
          "parcoords": [
           {
            "line": {
             "colorbar": {
              "outlinewidth": 0,
              "ticks": ""
             }
            },
            "type": "parcoords"
           }
          ],
          "pie": [
           {
            "automargin": true,
            "type": "pie"
           }
          ],
          "scatter": [
           {
            "fillpattern": {
             "fillmode": "overlay",
             "size": 10,
             "solidity": 0.2
            },
            "type": "scatter"
           }
          ],
          "scatter3d": [
           {
            "line": {
             "colorbar": {
              "outlinewidth": 0,
              "ticks": ""
             }
            },
            "marker": {
             "colorbar": {
              "outlinewidth": 0,
              "ticks": ""
             }
            },
            "type": "scatter3d"
           }
          ],
          "scattercarpet": [
           {
            "marker": {
             "colorbar": {
              "outlinewidth": 0,
              "ticks": ""
             }
            },
            "type": "scattercarpet"
           }
          ],
          "scattergeo": [
           {
            "marker": {
             "colorbar": {
              "outlinewidth": 0,
              "ticks": ""
             }
            },
            "type": "scattergeo"
           }
          ],
          "scattergl": [
           {
            "marker": {
             "colorbar": {
              "outlinewidth": 0,
              "ticks": ""
             }
            },
            "type": "scattergl"
           }
          ],
          "scattermapbox": [
           {
            "marker": {
             "colorbar": {
              "outlinewidth": 0,
              "ticks": ""
             }
            },
            "type": "scattermapbox"
           }
          ],
          "scatterpolar": [
           {
            "marker": {
             "colorbar": {
              "outlinewidth": 0,
              "ticks": ""
             }
            },
            "type": "scatterpolar"
           }
          ],
          "scatterpolargl": [
           {
            "marker": {
             "colorbar": {
              "outlinewidth": 0,
              "ticks": ""
             }
            },
            "type": "scatterpolargl"
           }
          ],
          "scatterternary": [
           {
            "marker": {
             "colorbar": {
              "outlinewidth": 0,
              "ticks": ""
             }
            },
            "type": "scatterternary"
           }
          ],
          "surface": [
           {
            "colorbar": {
             "outlinewidth": 0,
             "ticks": ""
            },
            "colorscale": [
             [
              0,
              "#0d0887"
             ],
             [
              0.1111111111111111,
              "#46039f"
             ],
             [
              0.2222222222222222,
              "#7201a8"
             ],
             [
              0.3333333333333333,
              "#9c179e"
             ],
             [
              0.4444444444444444,
              "#bd3786"
             ],
             [
              0.5555555555555556,
              "#d8576b"
             ],
             [
              0.6666666666666666,
              "#ed7953"
             ],
             [
              0.7777777777777778,
              "#fb9f3a"
             ],
             [
              0.8888888888888888,
              "#fdca26"
             ],
             [
              1,
              "#f0f921"
             ]
            ],
            "type": "surface"
           }
          ],
          "table": [
           {
            "cells": {
             "fill": {
              "color": "#EBF0F8"
             },
             "line": {
              "color": "white"
             }
            },
            "header": {
             "fill": {
              "color": "#C8D4E3"
             },
             "line": {
              "color": "white"
             }
            },
            "type": "table"
           }
          ]
         },
         "layout": {
          "annotationdefaults": {
           "arrowcolor": "#2a3f5f",
           "arrowhead": 0,
           "arrowwidth": 1
          },
          "autotypenumbers": "strict",
          "coloraxis": {
           "colorbar": {
            "outlinewidth": 0,
            "ticks": ""
           }
          },
          "colorscale": {
           "diverging": [
            [
             0,
             "#8e0152"
            ],
            [
             0.1,
             "#c51b7d"
            ],
            [
             0.2,
             "#de77ae"
            ],
            [
             0.3,
             "#f1b6da"
            ],
            [
             0.4,
             "#fde0ef"
            ],
            [
             0.5,
             "#f7f7f7"
            ],
            [
             0.6,
             "#e6f5d0"
            ],
            [
             0.7,
             "#b8e186"
            ],
            [
             0.8,
             "#7fbc41"
            ],
            [
             0.9,
             "#4d9221"
            ],
            [
             1,
             "#276419"
            ]
           ],
           "sequential": [
            [
             0,
             "#0d0887"
            ],
            [
             0.1111111111111111,
             "#46039f"
            ],
            [
             0.2222222222222222,
             "#7201a8"
            ],
            [
             0.3333333333333333,
             "#9c179e"
            ],
            [
             0.4444444444444444,
             "#bd3786"
            ],
            [
             0.5555555555555556,
             "#d8576b"
            ],
            [
             0.6666666666666666,
             "#ed7953"
            ],
            [
             0.7777777777777778,
             "#fb9f3a"
            ],
            [
             0.8888888888888888,
             "#fdca26"
            ],
            [
             1,
             "#f0f921"
            ]
           ],
           "sequentialminus": [
            [
             0,
             "#0d0887"
            ],
            [
             0.1111111111111111,
             "#46039f"
            ],
            [
             0.2222222222222222,
             "#7201a8"
            ],
            [
             0.3333333333333333,
             "#9c179e"
            ],
            [
             0.4444444444444444,
             "#bd3786"
            ],
            [
             0.5555555555555556,
             "#d8576b"
            ],
            [
             0.6666666666666666,
             "#ed7953"
            ],
            [
             0.7777777777777778,
             "#fb9f3a"
            ],
            [
             0.8888888888888888,
             "#fdca26"
            ],
            [
             1,
             "#f0f921"
            ]
           ]
          },
          "colorway": [
           "#636efa",
           "#EF553B",
           "#00cc96",
           "#ab63fa",
           "#FFA15A",
           "#19d3f3",
           "#FF6692",
           "#B6E880",
           "#FF97FF",
           "#FECB52"
          ],
          "font": {
           "color": "#2a3f5f"
          },
          "geo": {
           "bgcolor": "white",
           "lakecolor": "white",
           "landcolor": "#E5ECF6",
           "showlakes": true,
           "showland": true,
           "subunitcolor": "white"
          },
          "hoverlabel": {
           "align": "left"
          },
          "hovermode": "closest",
          "mapbox": {
           "style": "light"
          },
          "paper_bgcolor": "white",
          "plot_bgcolor": "#E5ECF6",
          "polar": {
           "angularaxis": {
            "gridcolor": "white",
            "linecolor": "white",
            "ticks": ""
           },
           "bgcolor": "#E5ECF6",
           "radialaxis": {
            "gridcolor": "white",
            "linecolor": "white",
            "ticks": ""
           }
          },
          "scene": {
           "xaxis": {
            "backgroundcolor": "#E5ECF6",
            "gridcolor": "white",
            "gridwidth": 2,
            "linecolor": "white",
            "showbackground": true,
            "ticks": "",
            "zerolinecolor": "white"
           },
           "yaxis": {
            "backgroundcolor": "#E5ECF6",
            "gridcolor": "white",
            "gridwidth": 2,
            "linecolor": "white",
            "showbackground": true,
            "ticks": "",
            "zerolinecolor": "white"
           },
           "zaxis": {
            "backgroundcolor": "#E5ECF6",
            "gridcolor": "white",
            "gridwidth": 2,
            "linecolor": "white",
            "showbackground": true,
            "ticks": "",
            "zerolinecolor": "white"
           }
          },
          "shapedefaults": {
           "line": {
            "color": "#2a3f5f"
           }
          },
          "ternary": {
           "aaxis": {
            "gridcolor": "white",
            "linecolor": "white",
            "ticks": ""
           },
           "baxis": {
            "gridcolor": "white",
            "linecolor": "white",
            "ticks": ""
           },
           "bgcolor": "#E5ECF6",
           "caxis": {
            "gridcolor": "white",
            "linecolor": "white",
            "ticks": ""
           }
          },
          "title": {
           "x": 0.05
          },
          "xaxis": {
           "automargin": true,
           "gridcolor": "white",
           "linecolor": "white",
           "ticks": "",
           "title": {
            "standoff": 15
           },
           "zerolinecolor": "white",
           "zerolinewidth": 2
          },
          "yaxis": {
           "automargin": true,
           "gridcolor": "white",
           "linecolor": "white",
           "ticks": "",
           "title": {
            "standoff": 15
           },
           "zerolinecolor": "white",
           "zerolinewidth": 2
          }
         }
        },
        "title": {
         "text": "Email_con"
        },
        "xaxis": {
         "anchor": "y",
         "domain": [
          0,
          1
         ],
         "title": {
          "text": "month"
         }
        },
        "yaxis": {
         "anchor": "x",
         "domain": [
          0,
          1
         ],
         "title": {
          "text": "rate"
         }
        }
       }
      }
     },
     "metadata": {},
     "output_type": "display_data"
    }
   ],
   "source": [
    "fig = px.line(Email_con , x = 'month' ,y = 'rate', color='year', title = 'Email_con')\n",
    "fig.show()"
   ]
  },
  {
   "cell_type": "code",
   "execution_count": 36,
   "metadata": {},
   "outputs": [
    {
     "data": {
      "application/vnd.plotly.v1+json": {
       "config": {
        "plotlyServerURL": "https://plot.ly"
       },
       "data": [
        {
         "hovertemplate": "year=2019<br>month=%{x}<br>rate=%{y}<extra></extra>",
         "legendgroup": "2019",
         "line": {
          "color": "#636efa",
          "dash": "solid"
         },
         "marker": {
          "symbol": "circle"
         },
         "mode": "lines",
         "name": "2019",
         "orientation": "v",
         "showlegend": true,
         "type": "scatter",
         "x": [
          1,
          2,
          3,
          4,
          5,
          6,
          7,
          8,
          9,
          10,
          11,
          12
         ],
         "xaxis": "x",
         "y": [
          0.4539826661163846,
          0.859106529209622,
          0.7689350249903883,
          1.8160741885625966,
          2.631578947368421,
          3.4482758620689653,
          3.993796044978674,
          4.402277039848197,
          4.621848739495799,
          5.398361876396128,
          5.413766434648106,
          6.935779816513761
         ],
         "yaxis": "y"
        },
        {
         "hovertemplate": "year=2020<br>month=%{x}<br>rate=%{y}<extra></extra>",
         "legendgroup": "2020",
         "line": {
          "color": "#EF553B",
          "dash": "solid"
         },
         "marker": {
          "symbol": "circle"
         },
         "mode": "lines",
         "name": "2020",
         "orientation": "v",
         "showlegend": true,
         "type": "scatter",
         "x": [
          1,
          2,
          3,
          4,
          5,
          6,
          7,
          8,
          9,
          10,
          11,
          12
         ],
         "xaxis": "x",
         "y": [
          7.745961820851689,
          8.486238532110093,
          7.751666082076464,
          8.81404514510928,
          10.055478502080444,
          10.989399293286219,
          12.183988764044944,
          11.382405745062837,
          13.311688311688311,
          13.348790990394171,
          14.146341463414632,
          16.31087391594396
         ],
         "yaxis": "y"
        },
        {
         "hovertemplate": "year=2021<br>month=%{x}<br>rate=%{y}<extra></extra>",
         "legendgroup": "2021",
         "line": {
          "color": "#00cc96",
          "dash": "solid"
         },
         "marker": {
          "symbol": "circle"
         },
         "mode": "lines",
         "name": "2021",
         "orientation": "v",
         "showlegend": true,
         "type": "scatter",
         "x": [
          1,
          2,
          3,
          4,
          5,
          6,
          7,
          8,
          9,
          10,
          11,
          12
         ],
         "xaxis": "x",
         "y": [
          17.620578778135048,
          15.823699421965317,
          16.607887143315164,
          16.856950973807923,
          18.80674448767834,
          18.860070445084855,
          19.94408201304753,
          20.08720024914357,
          21.03086223353484,
          22.45022970903522,
          22.830482115085537,
          22.29204069419509
         ],
         "yaxis": "y"
        },
        {
         "hovertemplate": "year=2022<br>month=%{x}<br>rate=%{y}<extra></extra>",
         "legendgroup": "2022",
         "line": {
          "color": "#ab63fa",
          "dash": "solid"
         },
         "marker": {
          "symbol": "circle"
         },
         "mode": "lines",
         "name": "2022",
         "orientation": "v",
         "showlegend": true,
         "type": "scatter",
         "x": [
          1,
          2,
          3,
          4,
          5,
          6,
          7,
          8,
          9,
          10,
          11,
          12
         ],
         "xaxis": "x",
         "y": [
          25.015253203172666,
          23.731005496281927,
          26.91059309530835,
          25.728009606724704,
          28.12414919684182,
          28.995756718528998,
          28.505309011707052,
          33.34223884584558,
          31.258644536652834,
          34.43569553805774,
          34.77333333333333,
          34.35056746532156
         ],
         "yaxis": "y"
        },
        {
         "hovertemplate": "year=2023<br>month=%{x}<br>rate=%{y}<extra></extra>",
         "legendgroup": "2023",
         "line": {
          "color": "#FFA15A",
          "dash": "solid"
         },
         "marker": {
          "symbol": "circle"
         },
         "mode": "lines",
         "name": "2023",
         "orientation": "v",
         "showlegend": true,
         "type": "scatter",
         "x": [
          1,
          2,
          3,
          4,
          5,
          6,
          7,
          8,
          9,
          10,
          11,
          12
         ],
         "xaxis": "x",
         "y": [
          36.34078914300075,
          35.63815250068325,
          38.47651496714529,
          40.76281287246722,
          40.15969938938469,
          41.88654353562005,
          44.73285745187108,
          44.85111662531017,
          48.675631621841895,
          49.59708365310821,
          53.74297625521116,
          58.14999197045127
         ],
         "yaxis": "y"
        },
        {
         "hovertemplate": "year=2024<br>month=%{x}<br>rate=%{y}<extra></extra>",
         "legendgroup": "2024",
         "line": {
          "color": "#19d3f3",
          "dash": "solid"
         },
         "marker": {
          "symbol": "circle"
         },
         "mode": "lines",
         "name": "2024",
         "orientation": "v",
         "showlegend": true,
         "type": "scatter",
         "x": [
          1
         ],
         "xaxis": "x",
         "y": [
          74.48326321565759
         ],
         "yaxis": "y"
        }
       ],
       "layout": {
        "legend": {
         "title": {
          "text": "year"
         },
         "tracegroupgap": 0
        },
        "template": {
         "data": {
          "bar": [
           {
            "error_x": {
             "color": "#2a3f5f"
            },
            "error_y": {
             "color": "#2a3f5f"
            },
            "marker": {
             "line": {
              "color": "#E5ECF6",
              "width": 0.5
             },
             "pattern": {
              "fillmode": "overlay",
              "size": 10,
              "solidity": 0.2
             }
            },
            "type": "bar"
           }
          ],
          "barpolar": [
           {
            "marker": {
             "line": {
              "color": "#E5ECF6",
              "width": 0.5
             },
             "pattern": {
              "fillmode": "overlay",
              "size": 10,
              "solidity": 0.2
             }
            },
            "type": "barpolar"
           }
          ],
          "carpet": [
           {
            "aaxis": {
             "endlinecolor": "#2a3f5f",
             "gridcolor": "white",
             "linecolor": "white",
             "minorgridcolor": "white",
             "startlinecolor": "#2a3f5f"
            },
            "baxis": {
             "endlinecolor": "#2a3f5f",
             "gridcolor": "white",
             "linecolor": "white",
             "minorgridcolor": "white",
             "startlinecolor": "#2a3f5f"
            },
            "type": "carpet"
           }
          ],
          "choropleth": [
           {
            "colorbar": {
             "outlinewidth": 0,
             "ticks": ""
            },
            "type": "choropleth"
           }
          ],
          "contour": [
           {
            "colorbar": {
             "outlinewidth": 0,
             "ticks": ""
            },
            "colorscale": [
             [
              0,
              "#0d0887"
             ],
             [
              0.1111111111111111,
              "#46039f"
             ],
             [
              0.2222222222222222,
              "#7201a8"
             ],
             [
              0.3333333333333333,
              "#9c179e"
             ],
             [
              0.4444444444444444,
              "#bd3786"
             ],
             [
              0.5555555555555556,
              "#d8576b"
             ],
             [
              0.6666666666666666,
              "#ed7953"
             ],
             [
              0.7777777777777778,
              "#fb9f3a"
             ],
             [
              0.8888888888888888,
              "#fdca26"
             ],
             [
              1,
              "#f0f921"
             ]
            ],
            "type": "contour"
           }
          ],
          "contourcarpet": [
           {
            "colorbar": {
             "outlinewidth": 0,
             "ticks": ""
            },
            "type": "contourcarpet"
           }
          ],
          "heatmap": [
           {
            "colorbar": {
             "outlinewidth": 0,
             "ticks": ""
            },
            "colorscale": [
             [
              0,
              "#0d0887"
             ],
             [
              0.1111111111111111,
              "#46039f"
             ],
             [
              0.2222222222222222,
              "#7201a8"
             ],
             [
              0.3333333333333333,
              "#9c179e"
             ],
             [
              0.4444444444444444,
              "#bd3786"
             ],
             [
              0.5555555555555556,
              "#d8576b"
             ],
             [
              0.6666666666666666,
              "#ed7953"
             ],
             [
              0.7777777777777778,
              "#fb9f3a"
             ],
             [
              0.8888888888888888,
              "#fdca26"
             ],
             [
              1,
              "#f0f921"
             ]
            ],
            "type": "heatmap"
           }
          ],
          "heatmapgl": [
           {
            "colorbar": {
             "outlinewidth": 0,
             "ticks": ""
            },
            "colorscale": [
             [
              0,
              "#0d0887"
             ],
             [
              0.1111111111111111,
              "#46039f"
             ],
             [
              0.2222222222222222,
              "#7201a8"
             ],
             [
              0.3333333333333333,
              "#9c179e"
             ],
             [
              0.4444444444444444,
              "#bd3786"
             ],
             [
              0.5555555555555556,
              "#d8576b"
             ],
             [
              0.6666666666666666,
              "#ed7953"
             ],
             [
              0.7777777777777778,
              "#fb9f3a"
             ],
             [
              0.8888888888888888,
              "#fdca26"
             ],
             [
              1,
              "#f0f921"
             ]
            ],
            "type": "heatmapgl"
           }
          ],
          "histogram": [
           {
            "marker": {
             "pattern": {
              "fillmode": "overlay",
              "size": 10,
              "solidity": 0.2
             }
            },
            "type": "histogram"
           }
          ],
          "histogram2d": [
           {
            "colorbar": {
             "outlinewidth": 0,
             "ticks": ""
            },
            "colorscale": [
             [
              0,
              "#0d0887"
             ],
             [
              0.1111111111111111,
              "#46039f"
             ],
             [
              0.2222222222222222,
              "#7201a8"
             ],
             [
              0.3333333333333333,
              "#9c179e"
             ],
             [
              0.4444444444444444,
              "#bd3786"
             ],
             [
              0.5555555555555556,
              "#d8576b"
             ],
             [
              0.6666666666666666,
              "#ed7953"
             ],
             [
              0.7777777777777778,
              "#fb9f3a"
             ],
             [
              0.8888888888888888,
              "#fdca26"
             ],
             [
              1,
              "#f0f921"
             ]
            ],
            "type": "histogram2d"
           }
          ],
          "histogram2dcontour": [
           {
            "colorbar": {
             "outlinewidth": 0,
             "ticks": ""
            },
            "colorscale": [
             [
              0,
              "#0d0887"
             ],
             [
              0.1111111111111111,
              "#46039f"
             ],
             [
              0.2222222222222222,
              "#7201a8"
             ],
             [
              0.3333333333333333,
              "#9c179e"
             ],
             [
              0.4444444444444444,
              "#bd3786"
             ],
             [
              0.5555555555555556,
              "#d8576b"
             ],
             [
              0.6666666666666666,
              "#ed7953"
             ],
             [
              0.7777777777777778,
              "#fb9f3a"
             ],
             [
              0.8888888888888888,
              "#fdca26"
             ],
             [
              1,
              "#f0f921"
             ]
            ],
            "type": "histogram2dcontour"
           }
          ],
          "mesh3d": [
           {
            "colorbar": {
             "outlinewidth": 0,
             "ticks": ""
            },
            "type": "mesh3d"
           }
          ],
          "parcoords": [
           {
            "line": {
             "colorbar": {
              "outlinewidth": 0,
              "ticks": ""
             }
            },
            "type": "parcoords"
           }
          ],
          "pie": [
           {
            "automargin": true,
            "type": "pie"
           }
          ],
          "scatter": [
           {
            "fillpattern": {
             "fillmode": "overlay",
             "size": 10,
             "solidity": 0.2
            },
            "type": "scatter"
           }
          ],
          "scatter3d": [
           {
            "line": {
             "colorbar": {
              "outlinewidth": 0,
              "ticks": ""
             }
            },
            "marker": {
             "colorbar": {
              "outlinewidth": 0,
              "ticks": ""
             }
            },
            "type": "scatter3d"
           }
          ],
          "scattercarpet": [
           {
            "marker": {
             "colorbar": {
              "outlinewidth": 0,
              "ticks": ""
             }
            },
            "type": "scattercarpet"
           }
          ],
          "scattergeo": [
           {
            "marker": {
             "colorbar": {
              "outlinewidth": 0,
              "ticks": ""
             }
            },
            "type": "scattergeo"
           }
          ],
          "scattergl": [
           {
            "marker": {
             "colorbar": {
              "outlinewidth": 0,
              "ticks": ""
             }
            },
            "type": "scattergl"
           }
          ],
          "scattermapbox": [
           {
            "marker": {
             "colorbar": {
              "outlinewidth": 0,
              "ticks": ""
             }
            },
            "type": "scattermapbox"
           }
          ],
          "scatterpolar": [
           {
            "marker": {
             "colorbar": {
              "outlinewidth": 0,
              "ticks": ""
             }
            },
            "type": "scatterpolar"
           }
          ],
          "scatterpolargl": [
           {
            "marker": {
             "colorbar": {
              "outlinewidth": 0,
              "ticks": ""
             }
            },
            "type": "scatterpolargl"
           }
          ],
          "scatterternary": [
           {
            "marker": {
             "colorbar": {
              "outlinewidth": 0,
              "ticks": ""
             }
            },
            "type": "scatterternary"
           }
          ],
          "surface": [
           {
            "colorbar": {
             "outlinewidth": 0,
             "ticks": ""
            },
            "colorscale": [
             [
              0,
              "#0d0887"
             ],
             [
              0.1111111111111111,
              "#46039f"
             ],
             [
              0.2222222222222222,
              "#7201a8"
             ],
             [
              0.3333333333333333,
              "#9c179e"
             ],
             [
              0.4444444444444444,
              "#bd3786"
             ],
             [
              0.5555555555555556,
              "#d8576b"
             ],
             [
              0.6666666666666666,
              "#ed7953"
             ],
             [
              0.7777777777777778,
              "#fb9f3a"
             ],
             [
              0.8888888888888888,
              "#fdca26"
             ],
             [
              1,
              "#f0f921"
             ]
            ],
            "type": "surface"
           }
          ],
          "table": [
           {
            "cells": {
             "fill": {
              "color": "#EBF0F8"
             },
             "line": {
              "color": "white"
             }
            },
            "header": {
             "fill": {
              "color": "#C8D4E3"
             },
             "line": {
              "color": "white"
             }
            },
            "type": "table"
           }
          ]
         },
         "layout": {
          "annotationdefaults": {
           "arrowcolor": "#2a3f5f",
           "arrowhead": 0,
           "arrowwidth": 1
          },
          "autotypenumbers": "strict",
          "coloraxis": {
           "colorbar": {
            "outlinewidth": 0,
            "ticks": ""
           }
          },
          "colorscale": {
           "diverging": [
            [
             0,
             "#8e0152"
            ],
            [
             0.1,
             "#c51b7d"
            ],
            [
             0.2,
             "#de77ae"
            ],
            [
             0.3,
             "#f1b6da"
            ],
            [
             0.4,
             "#fde0ef"
            ],
            [
             0.5,
             "#f7f7f7"
            ],
            [
             0.6,
             "#e6f5d0"
            ],
            [
             0.7,
             "#b8e186"
            ],
            [
             0.8,
             "#7fbc41"
            ],
            [
             0.9,
             "#4d9221"
            ],
            [
             1,
             "#276419"
            ]
           ],
           "sequential": [
            [
             0,
             "#0d0887"
            ],
            [
             0.1111111111111111,
             "#46039f"
            ],
            [
             0.2222222222222222,
             "#7201a8"
            ],
            [
             0.3333333333333333,
             "#9c179e"
            ],
            [
             0.4444444444444444,
             "#bd3786"
            ],
            [
             0.5555555555555556,
             "#d8576b"
            ],
            [
             0.6666666666666666,
             "#ed7953"
            ],
            [
             0.7777777777777778,
             "#fb9f3a"
            ],
            [
             0.8888888888888888,
             "#fdca26"
            ],
            [
             1,
             "#f0f921"
            ]
           ],
           "sequentialminus": [
            [
             0,
             "#0d0887"
            ],
            [
             0.1111111111111111,
             "#46039f"
            ],
            [
             0.2222222222222222,
             "#7201a8"
            ],
            [
             0.3333333333333333,
             "#9c179e"
            ],
            [
             0.4444444444444444,
             "#bd3786"
            ],
            [
             0.5555555555555556,
             "#d8576b"
            ],
            [
             0.6666666666666666,
             "#ed7953"
            ],
            [
             0.7777777777777778,
             "#fb9f3a"
            ],
            [
             0.8888888888888888,
             "#fdca26"
            ],
            [
             1,
             "#f0f921"
            ]
           ]
          },
          "colorway": [
           "#636efa",
           "#EF553B",
           "#00cc96",
           "#ab63fa",
           "#FFA15A",
           "#19d3f3",
           "#FF6692",
           "#B6E880",
           "#FF97FF",
           "#FECB52"
          ],
          "font": {
           "color": "#2a3f5f"
          },
          "geo": {
           "bgcolor": "white",
           "lakecolor": "white",
           "landcolor": "#E5ECF6",
           "showlakes": true,
           "showland": true,
           "subunitcolor": "white"
          },
          "hoverlabel": {
           "align": "left"
          },
          "hovermode": "closest",
          "mapbox": {
           "style": "light"
          },
          "paper_bgcolor": "white",
          "plot_bgcolor": "#E5ECF6",
          "polar": {
           "angularaxis": {
            "gridcolor": "white",
            "linecolor": "white",
            "ticks": ""
           },
           "bgcolor": "#E5ECF6",
           "radialaxis": {
            "gridcolor": "white",
            "linecolor": "white",
            "ticks": ""
           }
          },
          "scene": {
           "xaxis": {
            "backgroundcolor": "#E5ECF6",
            "gridcolor": "white",
            "gridwidth": 2,
            "linecolor": "white",
            "showbackground": true,
            "ticks": "",
            "zerolinecolor": "white"
           },
           "yaxis": {
            "backgroundcolor": "#E5ECF6",
            "gridcolor": "white",
            "gridwidth": 2,
            "linecolor": "white",
            "showbackground": true,
            "ticks": "",
            "zerolinecolor": "white"
           },
           "zaxis": {
            "backgroundcolor": "#E5ECF6",
            "gridcolor": "white",
            "gridwidth": 2,
            "linecolor": "white",
            "showbackground": true,
            "ticks": "",
            "zerolinecolor": "white"
           }
          },
          "shapedefaults": {
           "line": {
            "color": "#2a3f5f"
           }
          },
          "ternary": {
           "aaxis": {
            "gridcolor": "white",
            "linecolor": "white",
            "ticks": ""
           },
           "baxis": {
            "gridcolor": "white",
            "linecolor": "white",
            "ticks": ""
           },
           "bgcolor": "#E5ECF6",
           "caxis": {
            "gridcolor": "white",
            "linecolor": "white",
            "ticks": ""
           }
          },
          "title": {
           "x": 0.05
          },
          "xaxis": {
           "automargin": true,
           "gridcolor": "white",
           "linecolor": "white",
           "ticks": "",
           "title": {
            "standoff": 15
           },
           "zerolinecolor": "white",
           "zerolinewidth": 2
          },
          "yaxis": {
           "automargin": true,
           "gridcolor": "white",
           "linecolor": "white",
           "ticks": "",
           "title": {
            "standoff": 15
           },
           "zerolinecolor": "white",
           "zerolinewidth": 2
          }
         }
        },
        "title": {
         "text": "Adwords_con"
        },
        "xaxis": {
         "anchor": "y",
         "domain": [
          0,
          1
         ],
         "title": {
          "text": "month"
         }
        },
        "yaxis": {
         "anchor": "x",
         "domain": [
          0,
          1
         ],
         "title": {
          "text": "rate"
         }
        }
       }
      }
     },
     "metadata": {},
     "output_type": "display_data"
    }
   ],
   "source": [
    "fig = px.line(Adwords_con , x = 'month' ,y = 'rate', color='year', title = 'Adwords_con')\n",
    "fig.show()"
   ]
  },
  {
   "cell_type": "markdown",
   "metadata": {},
   "source": [
    "### 가입시점에 따른 결제 전환율"
   ]
  },
  {
   "cell_type": "code",
   "execution_count": 37,
   "metadata": {},
   "outputs": [
    {
     "name": "stderr",
     "output_type": "stream",
     "text": [
      "/var/folders/1y/dmb1rjqn7y7ft_t08s501gxm0000gn/T/ipykernel_10158/161830139.py:4: SettingWithCopyWarning:\n",
      "\n",
      "\n",
      "A value is trying to be set on a copy of a slice from a DataFrame.\n",
      "Try using .loc[row_indexer,col_indexer] = value instead\n",
      "\n",
      "See the caveats in the documentation: https://pandas.pydata.org/pandas-docs/stable/user_guide/indexing.html#returning-a-view-versus-a-copy\n",
      "\n",
      "/var/folders/1y/dmb1rjqn7y7ft_t08s501gxm0000gn/T/ipykernel_10158/161830139.py:5: SettingWithCopyWarning:\n",
      "\n",
      "\n",
      "A value is trying to be set on a copy of a slice from a DataFrame.\n",
      "Try using .loc[row_indexer,col_indexer] = value instead\n",
      "\n",
      "See the caveats in the documentation: https://pandas.pydata.org/pandas-docs/stable/user_guide/indexing.html#returning-a-view-versus-a-copy\n",
      "\n"
     ]
    }
   ],
   "source": [
    "# 날짜별 결제자수\n",
    "user_event = user_event.drop('Unnamed: 0',axis = 1)\n",
    "user_event_buy = user_event[user_event['event_type']=='purchase']\n",
    "user_event_buy['created_at_x'] = user_event_buy['created_at_x'].dt.normalize()\n",
    "user_event_buy ['created_at_y'] = user_event_buy['created_at_y'].dt.normalize()\n"
   ]
  },
  {
   "cell_type": "code",
   "execution_count": 38,
   "metadata": {},
   "outputs": [
    {
     "name": "stderr",
     "output_type": "stream",
     "text": [
      "/var/folders/1y/dmb1rjqn7y7ft_t08s501gxm0000gn/T/ipykernel_10158/2504011481.py:1: SettingWithCopyWarning:\n",
      "\n",
      "\n",
      "A value is trying to be set on a copy of a slice from a DataFrame\n",
      "\n",
      "See the caveats in the documentation: https://pandas.pydata.org/pandas-docs/stable/user_guide/indexing.html#returning-a-view-versus-a-copy\n",
      "\n"
     ]
    }
   ],
   "source": [
    "user_event_buy.rename(columns={'created_at_x':'join_day','created_at_y':'buy_day'},inplace=True)\n",
    "user_event_buy_df = user_event_buy.groupby(['join_day']).agg({'user_id':'count'})\n",
    "user_event_buy_df.rename(columns={'user_id':'buyer'},inplace=True)"
   ]
  },
  {
   "cell_type": "code",
   "execution_count": 39,
   "metadata": {},
   "outputs": [],
   "source": [
    "# 날짜별 가입자수\n",
    "user_event_total = user_event\n",
    "user_event_total['created_at_x'] = user_event_total['created_at_x'].dt.normalize()\n",
    "user_event_total['created_at_y'] =user_event_total['created_at_y'].dt.normalize()\n",
    "user_event_total.rename(columns={'created_at_x':'join_day','created_at_y':'buy_day'},inplace=True)\n",
    "user_event_total_df = user_event_total.groupby(['join_day']).agg({'user_id':'count'})\n",
    "user_event_total_df.rename(columns={'user_id':'join'},inplace=True)"
   ]
  },
  {
   "cell_type": "code",
   "execution_count": 40,
   "metadata": {},
   "outputs": [
    {
     "data": {
      "text/html": [
       "<div>\n",
       "<style scoped>\n",
       "    .dataframe tbody tr th:only-of-type {\n",
       "        vertical-align: middle;\n",
       "    }\n",
       "\n",
       "    .dataframe tbody tr th {\n",
       "        vertical-align: top;\n",
       "    }\n",
       "\n",
       "    .dataframe thead th {\n",
       "        text-align: right;\n",
       "    }\n",
       "</style>\n",
       "<table border=\"1\" class=\"dataframe\">\n",
       "  <thead>\n",
       "    <tr style=\"text-align: right;\">\n",
       "      <th></th>\n",
       "      <th>join</th>\n",
       "    </tr>\n",
       "    <tr>\n",
       "      <th>join_day</th>\n",
       "      <th></th>\n",
       "    </tr>\n",
       "  </thead>\n",
       "  <tbody>\n",
       "    <tr>\n",
       "      <th>2019-01-02 00:00:00+00:00</th>\n",
       "      <td>436</td>\n",
       "    </tr>\n",
       "    <tr>\n",
       "      <th>2019-01-03 00:00:00+00:00</th>\n",
       "      <td>810</td>\n",
       "    </tr>\n",
       "    <tr>\n",
       "      <th>2019-01-04 00:00:00+00:00</th>\n",
       "      <td>587</td>\n",
       "    </tr>\n",
       "    <tr>\n",
       "      <th>2019-01-05 00:00:00+00:00</th>\n",
       "      <td>819</td>\n",
       "    </tr>\n",
       "    <tr>\n",
       "      <th>2019-01-06 00:00:00+00:00</th>\n",
       "      <td>629</td>\n",
       "    </tr>\n",
       "    <tr>\n",
       "      <th>...</th>\n",
       "      <td>...</td>\n",
       "    </tr>\n",
       "    <tr>\n",
       "      <th>2024-01-12 00:00:00+00:00</th>\n",
       "      <td>6568</td>\n",
       "    </tr>\n",
       "    <tr>\n",
       "      <th>2024-01-13 00:00:00+00:00</th>\n",
       "      <td>6437</td>\n",
       "    </tr>\n",
       "    <tr>\n",
       "      <th>2024-01-14 00:00:00+00:00</th>\n",
       "      <td>6303</td>\n",
       "    </tr>\n",
       "    <tr>\n",
       "      <th>2024-01-15 00:00:00+00:00</th>\n",
       "      <td>5673</td>\n",
       "    </tr>\n",
       "    <tr>\n",
       "      <th>2024-01-16 00:00:00+00:00</th>\n",
       "      <td>6182</td>\n",
       "    </tr>\n",
       "  </tbody>\n",
       "</table>\n",
       "<p>1841 rows × 1 columns</p>\n",
       "</div>"
      ],
      "text/plain": [
       "                           join\n",
       "join_day                       \n",
       "2019-01-02 00:00:00+00:00   436\n",
       "2019-01-03 00:00:00+00:00   810\n",
       "2019-01-04 00:00:00+00:00   587\n",
       "2019-01-05 00:00:00+00:00   819\n",
       "2019-01-06 00:00:00+00:00   629\n",
       "...                         ...\n",
       "2024-01-12 00:00:00+00:00  6568\n",
       "2024-01-13 00:00:00+00:00  6437\n",
       "2024-01-14 00:00:00+00:00  6303\n",
       "2024-01-15 00:00:00+00:00  5673\n",
       "2024-01-16 00:00:00+00:00  6182\n",
       "\n",
       "[1841 rows x 1 columns]"
      ]
     },
     "execution_count": 40,
     "metadata": {},
     "output_type": "execute_result"
    }
   ],
   "source": [
    "user_event_total_df"
   ]
  },
  {
   "cell_type": "code",
   "execution_count": 41,
   "metadata": {},
   "outputs": [
    {
     "data": {
      "text/html": [
       "<div>\n",
       "<style scoped>\n",
       "    .dataframe tbody tr th:only-of-type {\n",
       "        vertical-align: middle;\n",
       "    }\n",
       "\n",
       "    .dataframe tbody tr th {\n",
       "        vertical-align: top;\n",
       "    }\n",
       "\n",
       "    .dataframe thead th {\n",
       "        text-align: right;\n",
       "    }\n",
       "</style>\n",
       "<table border=\"1\" class=\"dataframe\">\n",
       "  <thead>\n",
       "    <tr style=\"text-align: right;\">\n",
       "      <th></th>\n",
       "      <th>buyer</th>\n",
       "    </tr>\n",
       "    <tr>\n",
       "      <th>join_day</th>\n",
       "      <th></th>\n",
       "    </tr>\n",
       "  </thead>\n",
       "  <tbody>\n",
       "    <tr>\n",
       "      <th>2019-01-02 00:00:00+00:00</th>\n",
       "      <td>66</td>\n",
       "    </tr>\n",
       "    <tr>\n",
       "      <th>2019-01-03 00:00:00+00:00</th>\n",
       "      <td>106</td>\n",
       "    </tr>\n",
       "    <tr>\n",
       "      <th>2019-01-04 00:00:00+00:00</th>\n",
       "      <td>85</td>\n",
       "    </tr>\n",
       "    <tr>\n",
       "      <th>2019-01-05 00:00:00+00:00</th>\n",
       "      <td>117</td>\n",
       "    </tr>\n",
       "    <tr>\n",
       "      <th>2019-01-06 00:00:00+00:00</th>\n",
       "      <td>88</td>\n",
       "    </tr>\n",
       "    <tr>\n",
       "      <th>...</th>\n",
       "      <td>...</td>\n",
       "    </tr>\n",
       "    <tr>\n",
       "      <th>2024-01-12 00:00:00+00:00</th>\n",
       "      <td>893</td>\n",
       "    </tr>\n",
       "    <tr>\n",
       "      <th>2024-01-13 00:00:00+00:00</th>\n",
       "      <td>863</td>\n",
       "    </tr>\n",
       "    <tr>\n",
       "      <th>2024-01-14 00:00:00+00:00</th>\n",
       "      <td>870</td>\n",
       "    </tr>\n",
       "    <tr>\n",
       "      <th>2024-01-15 00:00:00+00:00</th>\n",
       "      <td>804</td>\n",
       "    </tr>\n",
       "    <tr>\n",
       "      <th>2024-01-16 00:00:00+00:00</th>\n",
       "      <td>834</td>\n",
       "    </tr>\n",
       "  </tbody>\n",
       "</table>\n",
       "<p>1841 rows × 1 columns</p>\n",
       "</div>"
      ],
      "text/plain": [
       "                           buyer\n",
       "join_day                        \n",
       "2019-01-02 00:00:00+00:00     66\n",
       "2019-01-03 00:00:00+00:00    106\n",
       "2019-01-04 00:00:00+00:00     85\n",
       "2019-01-05 00:00:00+00:00    117\n",
       "2019-01-06 00:00:00+00:00     88\n",
       "...                          ...\n",
       "2024-01-12 00:00:00+00:00    893\n",
       "2024-01-13 00:00:00+00:00    863\n",
       "2024-01-14 00:00:00+00:00    870\n",
       "2024-01-15 00:00:00+00:00    804\n",
       "2024-01-16 00:00:00+00:00    834\n",
       "\n",
       "[1841 rows x 1 columns]"
      ]
     },
     "execution_count": 41,
     "metadata": {},
     "output_type": "execute_result"
    }
   ],
   "source": [
    "# 가입날짜별 구매건수\n",
    "user_event_buy_df\n"
   ]
  },
  {
   "cell_type": "code",
   "execution_count": 46,
   "metadata": {},
   "outputs": [],
   "source": [
    "df_day = pd.concat([user_event_total_df,user_event_buy_df],axis =1)\n",
    "df_day['rate']=df_day['join']/df_day['buyer']*100"
   ]
  },
  {
   "cell_type": "code",
   "execution_count": 48,
   "metadata": {},
   "outputs": [],
   "source": [
    "df_day.reset_index(inplace=True)"
   ]
  },
  {
   "cell_type": "code",
   "execution_count": 54,
   "metadata": {},
   "outputs": [
    {
     "data": {
      "text/html": [
       "<div>\n",
       "<style scoped>\n",
       "    .dataframe tbody tr th:only-of-type {\n",
       "        vertical-align: middle;\n",
       "    }\n",
       "\n",
       "    .dataframe tbody tr th {\n",
       "        vertical-align: top;\n",
       "    }\n",
       "\n",
       "    .dataframe thead th {\n",
       "        text-align: right;\n",
       "    }\n",
       "</style>\n",
       "<table border=\"1\" class=\"dataframe\">\n",
       "  <thead>\n",
       "    <tr style=\"text-align: right;\">\n",
       "      <th></th>\n",
       "      <th>join_day</th>\n",
       "      <th>join</th>\n",
       "      <th>buyer</th>\n",
       "      <th>rate</th>\n",
       "    </tr>\n",
       "  </thead>\n",
       "  <tbody>\n",
       "    <tr>\n",
       "      <th>0</th>\n",
       "      <td>2019-01-02 00:00:00+00:00</td>\n",
       "      <td>436</td>\n",
       "      <td>66</td>\n",
       "      <td>6.606061</td>\n",
       "    </tr>\n",
       "    <tr>\n",
       "      <th>1</th>\n",
       "      <td>2019-01-03 00:00:00+00:00</td>\n",
       "      <td>810</td>\n",
       "      <td>106</td>\n",
       "      <td>7.641509</td>\n",
       "    </tr>\n",
       "    <tr>\n",
       "      <th>2</th>\n",
       "      <td>2019-01-04 00:00:00+00:00</td>\n",
       "      <td>587</td>\n",
       "      <td>85</td>\n",
       "      <td>6.905882</td>\n",
       "    </tr>\n",
       "    <tr>\n",
       "      <th>3</th>\n",
       "      <td>2019-01-05 00:00:00+00:00</td>\n",
       "      <td>819</td>\n",
       "      <td>117</td>\n",
       "      <td>7.000000</td>\n",
       "    </tr>\n",
       "    <tr>\n",
       "      <th>4</th>\n",
       "      <td>2019-01-06 00:00:00+00:00</td>\n",
       "      <td>629</td>\n",
       "      <td>88</td>\n",
       "      <td>7.147727</td>\n",
       "    </tr>\n",
       "    <tr>\n",
       "      <th>...</th>\n",
       "      <td>...</td>\n",
       "      <td>...</td>\n",
       "      <td>...</td>\n",
       "      <td>...</td>\n",
       "    </tr>\n",
       "    <tr>\n",
       "      <th>1836</th>\n",
       "      <td>2024-01-12 00:00:00+00:00</td>\n",
       "      <td>6568</td>\n",
       "      <td>893</td>\n",
       "      <td>7.354983</td>\n",
       "    </tr>\n",
       "    <tr>\n",
       "      <th>1837</th>\n",
       "      <td>2024-01-13 00:00:00+00:00</td>\n",
       "      <td>6437</td>\n",
       "      <td>863</td>\n",
       "      <td>7.458864</td>\n",
       "    </tr>\n",
       "    <tr>\n",
       "      <th>1838</th>\n",
       "      <td>2024-01-14 00:00:00+00:00</td>\n",
       "      <td>6303</td>\n",
       "      <td>870</td>\n",
       "      <td>7.244828</td>\n",
       "    </tr>\n",
       "    <tr>\n",
       "      <th>1839</th>\n",
       "      <td>2024-01-15 00:00:00+00:00</td>\n",
       "      <td>5673</td>\n",
       "      <td>804</td>\n",
       "      <td>7.055970</td>\n",
       "    </tr>\n",
       "    <tr>\n",
       "      <th>1840</th>\n",
       "      <td>2024-01-16 00:00:00+00:00</td>\n",
       "      <td>6182</td>\n",
       "      <td>834</td>\n",
       "      <td>7.412470</td>\n",
       "    </tr>\n",
       "  </tbody>\n",
       "</table>\n",
       "<p>1841 rows × 4 columns</p>\n",
       "</div>"
      ],
      "text/plain": [
       "                      join_day  join  buyer      rate\n",
       "0    2019-01-02 00:00:00+00:00   436     66  6.606061\n",
       "1    2019-01-03 00:00:00+00:00   810    106  7.641509\n",
       "2    2019-01-04 00:00:00+00:00   587     85  6.905882\n",
       "3    2019-01-05 00:00:00+00:00   819    117  7.000000\n",
       "4    2019-01-06 00:00:00+00:00   629     88  7.147727\n",
       "...                        ...   ...    ...       ...\n",
       "1836 2024-01-12 00:00:00+00:00  6568    893  7.354983\n",
       "1837 2024-01-13 00:00:00+00:00  6437    863  7.458864\n",
       "1838 2024-01-14 00:00:00+00:00  6303    870  7.244828\n",
       "1839 2024-01-15 00:00:00+00:00  5673    804  7.055970\n",
       "1840 2024-01-16 00:00:00+00:00  6182    834  7.412470\n",
       "\n",
       "[1841 rows x 4 columns]"
      ]
     },
     "execution_count": 54,
     "metadata": {},
     "output_type": "execute_result"
    }
   ],
   "source": [
    "df_day.pivot('')"
   ]
  },
  {
   "cell_type": "code",
   "execution_count": null,
   "metadata": {},
   "outputs": [],
   "source": []
  },
  {
   "cell_type": "code",
   "execution_count": 53,
   "metadata": {},
   "outputs": [
    {
     "data": {
      "text/html": [
       "<div>\n",
       "<style scoped>\n",
       "    .dataframe tbody tr th:only-of-type {\n",
       "        vertical-align: middle;\n",
       "    }\n",
       "\n",
       "    .dataframe tbody tr th {\n",
       "        vertical-align: top;\n",
       "    }\n",
       "\n",
       "    .dataframe thead th {\n",
       "        text-align: right;\n",
       "    }\n",
       "</style>\n",
       "<table border=\"1\" class=\"dataframe\">\n",
       "  <thead>\n",
       "    <tr style=\"text-align: right;\">\n",
       "      <th></th>\n",
       "      <th>join</th>\n",
       "      <th>buyer</th>\n",
       "      <th>rate</th>\n",
       "    </tr>\n",
       "  </thead>\n",
       "  <tbody>\n",
       "    <tr>\n",
       "      <th>count</th>\n",
       "      <td>1841.000000</td>\n",
       "      <td>1841.000000</td>\n",
       "      <td>1841.000000</td>\n",
       "    </tr>\n",
       "    <tr>\n",
       "      <th>mean</th>\n",
       "      <td>720.395437</td>\n",
       "      <td>98.728408</td>\n",
       "      <td>7.270878</td>\n",
       "    </tr>\n",
       "    <tr>\n",
       "      <th>std</th>\n",
       "      <td>344.886117</td>\n",
       "      <td>46.164994</td>\n",
       "      <td>0.493569</td>\n",
       "    </tr>\n",
       "    <tr>\n",
       "      <th>min</th>\n",
       "      <td>286.000000</td>\n",
       "      <td>37.000000</td>\n",
       "      <td>5.745098</td>\n",
       "    </tr>\n",
       "    <tr>\n",
       "      <th>25%</th>\n",
       "      <td>594.000000</td>\n",
       "      <td>84.000000</td>\n",
       "      <td>6.928571</td>\n",
       "    </tr>\n",
       "    <tr>\n",
       "      <th>50%</th>\n",
       "      <td>697.000000</td>\n",
       "      <td>96.000000</td>\n",
       "      <td>7.268041</td>\n",
       "    </tr>\n",
       "    <tr>\n",
       "      <th>75%</th>\n",
       "      <td>805.000000</td>\n",
       "      <td>108.000000</td>\n",
       "      <td>7.615385</td>\n",
       "    </tr>\n",
       "    <tr>\n",
       "      <th>max</th>\n",
       "      <td>6568.000000</td>\n",
       "      <td>893.000000</td>\n",
       "      <td>9.177215</td>\n",
       "    </tr>\n",
       "  </tbody>\n",
       "</table>\n",
       "</div>"
      ],
      "text/plain": [
       "              join        buyer         rate\n",
       "count  1841.000000  1841.000000  1841.000000\n",
       "mean    720.395437    98.728408     7.270878\n",
       "std     344.886117    46.164994     0.493569\n",
       "min     286.000000    37.000000     5.745098\n",
       "25%     594.000000    84.000000     6.928571\n",
       "50%     697.000000    96.000000     7.268041\n",
       "75%     805.000000   108.000000     7.615385\n",
       "max    6568.000000   893.000000     9.177215"
      ]
     },
     "execution_count": 53,
     "metadata": {},
     "output_type": "execute_result"
    }
   ],
   "source": [
    "df_day.describe()"
   ]
  },
  {
   "cell_type": "code",
   "execution_count": 52,
   "metadata": {},
   "outputs": [
    {
     "data": {
      "application/vnd.plotly.v1+json": {
       "config": {
        "plotlyServerURL": "https://plot.ly"
       },
       "data": [
        {
         "hovertemplate": "join_day=%{x}<br>rate=%{y}<extra></extra>",
         "legendgroup": "",
         "line": {
          "color": "#636efa",
          "dash": "solid"
         },
         "marker": {
          "symbol": "circle"
         },
         "mode": "lines",
         "name": "",
         "showlegend": false,
         "type": "scattergl",
         "x": [
          "2019-01-02T00:00:00+00:00",
          "2019-01-03T00:00:00+00:00",
          "2019-01-04T00:00:00+00:00",
          "2019-01-05T00:00:00+00:00",
          "2019-01-06T00:00:00+00:00",
          "2019-01-07T00:00:00+00:00",
          "2019-01-08T00:00:00+00:00",
          "2019-01-09T00:00:00+00:00",
          "2019-01-10T00:00:00+00:00",
          "2019-01-11T00:00:00+00:00",
          "2019-01-12T00:00:00+00:00",
          "2019-01-13T00:00:00+00:00",
          "2019-01-14T00:00:00+00:00",
          "2019-01-15T00:00:00+00:00",
          "2019-01-16T00:00:00+00:00",
          "2019-01-17T00:00:00+00:00",
          "2019-01-18T00:00:00+00:00",
          "2019-01-19T00:00:00+00:00",
          "2019-01-20T00:00:00+00:00",
          "2019-01-21T00:00:00+00:00",
          "2019-01-22T00:00:00+00:00",
          "2019-01-23T00:00:00+00:00",
          "2019-01-24T00:00:00+00:00",
          "2019-01-25T00:00:00+00:00",
          "2019-01-26T00:00:00+00:00",
          "2019-01-27T00:00:00+00:00",
          "2019-01-28T00:00:00+00:00",
          "2019-01-29T00:00:00+00:00",
          "2019-01-30T00:00:00+00:00",
          "2019-01-31T00:00:00+00:00",
          "2019-02-01T00:00:00+00:00",
          "2019-02-02T00:00:00+00:00",
          "2019-02-03T00:00:00+00:00",
          "2019-02-04T00:00:00+00:00",
          "2019-02-05T00:00:00+00:00",
          "2019-02-06T00:00:00+00:00",
          "2019-02-07T00:00:00+00:00",
          "2019-02-08T00:00:00+00:00",
          "2019-02-09T00:00:00+00:00",
          "2019-02-10T00:00:00+00:00",
          "2019-02-11T00:00:00+00:00",
          "2019-02-12T00:00:00+00:00",
          "2019-02-13T00:00:00+00:00",
          "2019-02-14T00:00:00+00:00",
          "2019-02-15T00:00:00+00:00",
          "2019-02-16T00:00:00+00:00",
          "2019-02-17T00:00:00+00:00",
          "2019-02-18T00:00:00+00:00",
          "2019-02-19T00:00:00+00:00",
          "2019-02-20T00:00:00+00:00",
          "2019-02-21T00:00:00+00:00",
          "2019-02-22T00:00:00+00:00",
          "2019-02-23T00:00:00+00:00",
          "2019-02-24T00:00:00+00:00",
          "2019-02-25T00:00:00+00:00",
          "2019-02-26T00:00:00+00:00",
          "2019-02-27T00:00:00+00:00",
          "2019-02-28T00:00:00+00:00",
          "2019-03-01T00:00:00+00:00",
          "2019-03-02T00:00:00+00:00",
          "2019-03-03T00:00:00+00:00",
          "2019-03-04T00:00:00+00:00",
          "2019-03-05T00:00:00+00:00",
          "2019-03-06T00:00:00+00:00",
          "2019-03-07T00:00:00+00:00",
          "2019-03-08T00:00:00+00:00",
          "2019-03-09T00:00:00+00:00",
          "2019-03-10T00:00:00+00:00",
          "2019-03-11T00:00:00+00:00",
          "2019-03-12T00:00:00+00:00",
          "2019-03-13T00:00:00+00:00",
          "2019-03-14T00:00:00+00:00",
          "2019-03-15T00:00:00+00:00",
          "2019-03-16T00:00:00+00:00",
          "2019-03-17T00:00:00+00:00",
          "2019-03-18T00:00:00+00:00",
          "2019-03-19T00:00:00+00:00",
          "2019-03-20T00:00:00+00:00",
          "2019-03-21T00:00:00+00:00",
          "2019-03-22T00:00:00+00:00",
          "2019-03-23T00:00:00+00:00",
          "2019-03-24T00:00:00+00:00",
          "2019-03-25T00:00:00+00:00",
          "2019-03-26T00:00:00+00:00",
          "2019-03-27T00:00:00+00:00",
          "2019-03-28T00:00:00+00:00",
          "2019-03-29T00:00:00+00:00",
          "2019-03-30T00:00:00+00:00",
          "2019-03-31T00:00:00+00:00",
          "2019-04-01T00:00:00+00:00",
          "2019-04-02T00:00:00+00:00",
          "2019-04-03T00:00:00+00:00",
          "2019-04-04T00:00:00+00:00",
          "2019-04-05T00:00:00+00:00",
          "2019-04-06T00:00:00+00:00",
          "2019-04-07T00:00:00+00:00",
          "2019-04-08T00:00:00+00:00",
          "2019-04-09T00:00:00+00:00",
          "2019-04-10T00:00:00+00:00",
          "2019-04-11T00:00:00+00:00",
          "2019-04-12T00:00:00+00:00",
          "2019-04-13T00:00:00+00:00",
          "2019-04-14T00:00:00+00:00",
          "2019-04-15T00:00:00+00:00",
          "2019-04-16T00:00:00+00:00",
          "2019-04-17T00:00:00+00:00",
          "2019-04-18T00:00:00+00:00",
          "2019-04-19T00:00:00+00:00",
          "2019-04-20T00:00:00+00:00",
          "2019-04-21T00:00:00+00:00",
          "2019-04-22T00:00:00+00:00",
          "2019-04-23T00:00:00+00:00",
          "2019-04-24T00:00:00+00:00",
          "2019-04-25T00:00:00+00:00",
          "2019-04-26T00:00:00+00:00",
          "2019-04-27T00:00:00+00:00",
          "2019-04-28T00:00:00+00:00",
          "2019-04-29T00:00:00+00:00",
          "2019-04-30T00:00:00+00:00",
          "2019-05-01T00:00:00+00:00",
          "2019-05-02T00:00:00+00:00",
          "2019-05-03T00:00:00+00:00",
          "2019-05-04T00:00:00+00:00",
          "2019-05-05T00:00:00+00:00",
          "2019-05-06T00:00:00+00:00",
          "2019-05-07T00:00:00+00:00",
          "2019-05-08T00:00:00+00:00",
          "2019-05-09T00:00:00+00:00",
          "2019-05-10T00:00:00+00:00",
          "2019-05-11T00:00:00+00:00",
          "2019-05-12T00:00:00+00:00",
          "2019-05-13T00:00:00+00:00",
          "2019-05-14T00:00:00+00:00",
          "2019-05-15T00:00:00+00:00",
          "2019-05-16T00:00:00+00:00",
          "2019-05-17T00:00:00+00:00",
          "2019-05-18T00:00:00+00:00",
          "2019-05-19T00:00:00+00:00",
          "2019-05-20T00:00:00+00:00",
          "2019-05-21T00:00:00+00:00",
          "2019-05-22T00:00:00+00:00",
          "2019-05-23T00:00:00+00:00",
          "2019-05-24T00:00:00+00:00",
          "2019-05-25T00:00:00+00:00",
          "2019-05-26T00:00:00+00:00",
          "2019-05-27T00:00:00+00:00",
          "2019-05-28T00:00:00+00:00",
          "2019-05-29T00:00:00+00:00",
          "2019-05-30T00:00:00+00:00",
          "2019-05-31T00:00:00+00:00",
          "2019-06-01T00:00:00+00:00",
          "2019-06-02T00:00:00+00:00",
          "2019-06-03T00:00:00+00:00",
          "2019-06-04T00:00:00+00:00",
          "2019-06-05T00:00:00+00:00",
          "2019-06-06T00:00:00+00:00",
          "2019-06-07T00:00:00+00:00",
          "2019-06-08T00:00:00+00:00",
          "2019-06-09T00:00:00+00:00",
          "2019-06-10T00:00:00+00:00",
          "2019-06-11T00:00:00+00:00",
          "2019-06-12T00:00:00+00:00",
          "2019-06-13T00:00:00+00:00",
          "2019-06-14T00:00:00+00:00",
          "2019-06-15T00:00:00+00:00",
          "2019-06-16T00:00:00+00:00",
          "2019-06-17T00:00:00+00:00",
          "2019-06-18T00:00:00+00:00",
          "2019-06-19T00:00:00+00:00",
          "2019-06-20T00:00:00+00:00",
          "2019-06-21T00:00:00+00:00",
          "2019-06-22T00:00:00+00:00",
          "2019-06-23T00:00:00+00:00",
          "2019-06-24T00:00:00+00:00",
          "2019-06-25T00:00:00+00:00",
          "2019-06-26T00:00:00+00:00",
          "2019-06-27T00:00:00+00:00",
          "2019-06-28T00:00:00+00:00",
          "2019-06-29T00:00:00+00:00",
          "2019-06-30T00:00:00+00:00",
          "2019-07-01T00:00:00+00:00",
          "2019-07-02T00:00:00+00:00",
          "2019-07-03T00:00:00+00:00",
          "2019-07-04T00:00:00+00:00",
          "2019-07-05T00:00:00+00:00",
          "2019-07-06T00:00:00+00:00",
          "2019-07-07T00:00:00+00:00",
          "2019-07-08T00:00:00+00:00",
          "2019-07-09T00:00:00+00:00",
          "2019-07-10T00:00:00+00:00",
          "2019-07-11T00:00:00+00:00",
          "2019-07-12T00:00:00+00:00",
          "2019-07-13T00:00:00+00:00",
          "2019-07-14T00:00:00+00:00",
          "2019-07-15T00:00:00+00:00",
          "2019-07-16T00:00:00+00:00",
          "2019-07-17T00:00:00+00:00",
          "2019-07-18T00:00:00+00:00",
          "2019-07-19T00:00:00+00:00",
          "2019-07-20T00:00:00+00:00",
          "2019-07-21T00:00:00+00:00",
          "2019-07-22T00:00:00+00:00",
          "2019-07-23T00:00:00+00:00",
          "2019-07-24T00:00:00+00:00",
          "2019-07-25T00:00:00+00:00",
          "2019-07-26T00:00:00+00:00",
          "2019-07-27T00:00:00+00:00",
          "2019-07-28T00:00:00+00:00",
          "2019-07-29T00:00:00+00:00",
          "2019-07-30T00:00:00+00:00",
          "2019-07-31T00:00:00+00:00",
          "2019-08-01T00:00:00+00:00",
          "2019-08-02T00:00:00+00:00",
          "2019-08-03T00:00:00+00:00",
          "2019-08-04T00:00:00+00:00",
          "2019-08-05T00:00:00+00:00",
          "2019-08-06T00:00:00+00:00",
          "2019-08-07T00:00:00+00:00",
          "2019-08-08T00:00:00+00:00",
          "2019-08-09T00:00:00+00:00",
          "2019-08-10T00:00:00+00:00",
          "2019-08-11T00:00:00+00:00",
          "2019-08-12T00:00:00+00:00",
          "2019-08-13T00:00:00+00:00",
          "2019-08-14T00:00:00+00:00",
          "2019-08-15T00:00:00+00:00",
          "2019-08-16T00:00:00+00:00",
          "2019-08-17T00:00:00+00:00",
          "2019-08-18T00:00:00+00:00",
          "2019-08-19T00:00:00+00:00",
          "2019-08-20T00:00:00+00:00",
          "2019-08-21T00:00:00+00:00",
          "2019-08-22T00:00:00+00:00",
          "2019-08-23T00:00:00+00:00",
          "2019-08-24T00:00:00+00:00",
          "2019-08-25T00:00:00+00:00",
          "2019-08-26T00:00:00+00:00",
          "2019-08-27T00:00:00+00:00",
          "2019-08-28T00:00:00+00:00",
          "2019-08-29T00:00:00+00:00",
          "2019-08-30T00:00:00+00:00",
          "2019-08-31T00:00:00+00:00",
          "2019-09-01T00:00:00+00:00",
          "2019-09-02T00:00:00+00:00",
          "2019-09-03T00:00:00+00:00",
          "2019-09-04T00:00:00+00:00",
          "2019-09-05T00:00:00+00:00",
          "2019-09-06T00:00:00+00:00",
          "2019-09-07T00:00:00+00:00",
          "2019-09-08T00:00:00+00:00",
          "2019-09-09T00:00:00+00:00",
          "2019-09-10T00:00:00+00:00",
          "2019-09-11T00:00:00+00:00",
          "2019-09-12T00:00:00+00:00",
          "2019-09-13T00:00:00+00:00",
          "2019-09-14T00:00:00+00:00",
          "2019-09-15T00:00:00+00:00",
          "2019-09-16T00:00:00+00:00",
          "2019-09-17T00:00:00+00:00",
          "2019-09-18T00:00:00+00:00",
          "2019-09-19T00:00:00+00:00",
          "2019-09-20T00:00:00+00:00",
          "2019-09-21T00:00:00+00:00",
          "2019-09-22T00:00:00+00:00",
          "2019-09-23T00:00:00+00:00",
          "2019-09-24T00:00:00+00:00",
          "2019-09-25T00:00:00+00:00",
          "2019-09-26T00:00:00+00:00",
          "2019-09-27T00:00:00+00:00",
          "2019-09-28T00:00:00+00:00",
          "2019-09-29T00:00:00+00:00",
          "2019-09-30T00:00:00+00:00",
          "2019-10-01T00:00:00+00:00",
          "2019-10-02T00:00:00+00:00",
          "2019-10-03T00:00:00+00:00",
          "2019-10-04T00:00:00+00:00",
          "2019-10-05T00:00:00+00:00",
          "2019-10-06T00:00:00+00:00",
          "2019-10-07T00:00:00+00:00",
          "2019-10-08T00:00:00+00:00",
          "2019-10-09T00:00:00+00:00",
          "2019-10-10T00:00:00+00:00",
          "2019-10-11T00:00:00+00:00",
          "2019-10-12T00:00:00+00:00",
          "2019-10-13T00:00:00+00:00",
          "2019-10-14T00:00:00+00:00",
          "2019-10-15T00:00:00+00:00",
          "2019-10-16T00:00:00+00:00",
          "2019-10-17T00:00:00+00:00",
          "2019-10-18T00:00:00+00:00",
          "2019-10-19T00:00:00+00:00",
          "2019-10-20T00:00:00+00:00",
          "2019-10-21T00:00:00+00:00",
          "2019-10-22T00:00:00+00:00",
          "2019-10-23T00:00:00+00:00",
          "2019-10-24T00:00:00+00:00",
          "2019-10-25T00:00:00+00:00",
          "2019-10-26T00:00:00+00:00",
          "2019-10-27T00:00:00+00:00",
          "2019-10-28T00:00:00+00:00",
          "2019-10-29T00:00:00+00:00",
          "2019-10-30T00:00:00+00:00",
          "2019-10-31T00:00:00+00:00",
          "2019-11-01T00:00:00+00:00",
          "2019-11-02T00:00:00+00:00",
          "2019-11-03T00:00:00+00:00",
          "2019-11-04T00:00:00+00:00",
          "2019-11-05T00:00:00+00:00",
          "2019-11-06T00:00:00+00:00",
          "2019-11-07T00:00:00+00:00",
          "2019-11-08T00:00:00+00:00",
          "2019-11-09T00:00:00+00:00",
          "2019-11-10T00:00:00+00:00",
          "2019-11-11T00:00:00+00:00",
          "2019-11-12T00:00:00+00:00",
          "2019-11-13T00:00:00+00:00",
          "2019-11-14T00:00:00+00:00",
          "2019-11-15T00:00:00+00:00",
          "2019-11-16T00:00:00+00:00",
          "2019-11-17T00:00:00+00:00",
          "2019-11-18T00:00:00+00:00",
          "2019-11-19T00:00:00+00:00",
          "2019-11-20T00:00:00+00:00",
          "2019-11-21T00:00:00+00:00",
          "2019-11-22T00:00:00+00:00",
          "2019-11-23T00:00:00+00:00",
          "2019-11-24T00:00:00+00:00",
          "2019-11-25T00:00:00+00:00",
          "2019-11-26T00:00:00+00:00",
          "2019-11-27T00:00:00+00:00",
          "2019-11-28T00:00:00+00:00",
          "2019-11-29T00:00:00+00:00",
          "2019-11-30T00:00:00+00:00",
          "2019-12-01T00:00:00+00:00",
          "2019-12-02T00:00:00+00:00",
          "2019-12-03T00:00:00+00:00",
          "2019-12-04T00:00:00+00:00",
          "2019-12-05T00:00:00+00:00",
          "2019-12-06T00:00:00+00:00",
          "2019-12-07T00:00:00+00:00",
          "2019-12-08T00:00:00+00:00",
          "2019-12-09T00:00:00+00:00",
          "2019-12-10T00:00:00+00:00",
          "2019-12-11T00:00:00+00:00",
          "2019-12-12T00:00:00+00:00",
          "2019-12-13T00:00:00+00:00",
          "2019-12-14T00:00:00+00:00",
          "2019-12-15T00:00:00+00:00",
          "2019-12-16T00:00:00+00:00",
          "2019-12-17T00:00:00+00:00",
          "2019-12-18T00:00:00+00:00",
          "2019-12-19T00:00:00+00:00",
          "2019-12-20T00:00:00+00:00",
          "2019-12-21T00:00:00+00:00",
          "2019-12-22T00:00:00+00:00",
          "2019-12-23T00:00:00+00:00",
          "2019-12-24T00:00:00+00:00",
          "2019-12-25T00:00:00+00:00",
          "2019-12-26T00:00:00+00:00",
          "2019-12-27T00:00:00+00:00",
          "2019-12-28T00:00:00+00:00",
          "2019-12-29T00:00:00+00:00",
          "2019-12-30T00:00:00+00:00",
          "2019-12-31T00:00:00+00:00",
          "2020-01-01T00:00:00+00:00",
          "2020-01-02T00:00:00+00:00",
          "2020-01-03T00:00:00+00:00",
          "2020-01-04T00:00:00+00:00",
          "2020-01-05T00:00:00+00:00",
          "2020-01-06T00:00:00+00:00",
          "2020-01-07T00:00:00+00:00",
          "2020-01-08T00:00:00+00:00",
          "2020-01-09T00:00:00+00:00",
          "2020-01-10T00:00:00+00:00",
          "2020-01-11T00:00:00+00:00",
          "2020-01-12T00:00:00+00:00",
          "2020-01-13T00:00:00+00:00",
          "2020-01-14T00:00:00+00:00",
          "2020-01-15T00:00:00+00:00",
          "2020-01-16T00:00:00+00:00",
          "2020-01-17T00:00:00+00:00",
          "2020-01-18T00:00:00+00:00",
          "2020-01-19T00:00:00+00:00",
          "2020-01-20T00:00:00+00:00",
          "2020-01-21T00:00:00+00:00",
          "2020-01-22T00:00:00+00:00",
          "2020-01-23T00:00:00+00:00",
          "2020-01-24T00:00:00+00:00",
          "2020-01-25T00:00:00+00:00",
          "2020-01-26T00:00:00+00:00",
          "2020-01-27T00:00:00+00:00",
          "2020-01-28T00:00:00+00:00",
          "2020-01-29T00:00:00+00:00",
          "2020-01-30T00:00:00+00:00",
          "2020-01-31T00:00:00+00:00",
          "2020-02-01T00:00:00+00:00",
          "2020-02-02T00:00:00+00:00",
          "2020-02-03T00:00:00+00:00",
          "2020-02-04T00:00:00+00:00",
          "2020-02-05T00:00:00+00:00",
          "2020-02-06T00:00:00+00:00",
          "2020-02-07T00:00:00+00:00",
          "2020-02-08T00:00:00+00:00",
          "2020-02-09T00:00:00+00:00",
          "2020-02-10T00:00:00+00:00",
          "2020-02-11T00:00:00+00:00",
          "2020-02-12T00:00:00+00:00",
          "2020-02-13T00:00:00+00:00",
          "2020-02-14T00:00:00+00:00",
          "2020-02-15T00:00:00+00:00",
          "2020-02-16T00:00:00+00:00",
          "2020-02-17T00:00:00+00:00",
          "2020-02-18T00:00:00+00:00",
          "2020-02-19T00:00:00+00:00",
          "2020-02-20T00:00:00+00:00",
          "2020-02-21T00:00:00+00:00",
          "2020-02-22T00:00:00+00:00",
          "2020-02-23T00:00:00+00:00",
          "2020-02-24T00:00:00+00:00",
          "2020-02-25T00:00:00+00:00",
          "2020-02-26T00:00:00+00:00",
          "2020-02-27T00:00:00+00:00",
          "2020-02-28T00:00:00+00:00",
          "2020-02-29T00:00:00+00:00",
          "2020-03-01T00:00:00+00:00",
          "2020-03-02T00:00:00+00:00",
          "2020-03-03T00:00:00+00:00",
          "2020-03-04T00:00:00+00:00",
          "2020-03-05T00:00:00+00:00",
          "2020-03-06T00:00:00+00:00",
          "2020-03-07T00:00:00+00:00",
          "2020-03-08T00:00:00+00:00",
          "2020-03-09T00:00:00+00:00",
          "2020-03-10T00:00:00+00:00",
          "2020-03-11T00:00:00+00:00",
          "2020-03-12T00:00:00+00:00",
          "2020-03-13T00:00:00+00:00",
          "2020-03-14T00:00:00+00:00",
          "2020-03-15T00:00:00+00:00",
          "2020-03-16T00:00:00+00:00",
          "2020-03-17T00:00:00+00:00",
          "2020-03-18T00:00:00+00:00",
          "2020-03-19T00:00:00+00:00",
          "2020-03-20T00:00:00+00:00",
          "2020-03-21T00:00:00+00:00",
          "2020-03-22T00:00:00+00:00",
          "2020-03-23T00:00:00+00:00",
          "2020-03-24T00:00:00+00:00",
          "2020-03-25T00:00:00+00:00",
          "2020-03-26T00:00:00+00:00",
          "2020-03-27T00:00:00+00:00",
          "2020-03-28T00:00:00+00:00",
          "2020-03-29T00:00:00+00:00",
          "2020-03-30T00:00:00+00:00",
          "2020-03-31T00:00:00+00:00",
          "2020-04-01T00:00:00+00:00",
          "2020-04-02T00:00:00+00:00",
          "2020-04-03T00:00:00+00:00",
          "2020-04-04T00:00:00+00:00",
          "2020-04-05T00:00:00+00:00",
          "2020-04-06T00:00:00+00:00",
          "2020-04-07T00:00:00+00:00",
          "2020-04-08T00:00:00+00:00",
          "2020-04-09T00:00:00+00:00",
          "2020-04-10T00:00:00+00:00",
          "2020-04-11T00:00:00+00:00",
          "2020-04-12T00:00:00+00:00",
          "2020-04-13T00:00:00+00:00",
          "2020-04-14T00:00:00+00:00",
          "2020-04-15T00:00:00+00:00",
          "2020-04-16T00:00:00+00:00",
          "2020-04-17T00:00:00+00:00",
          "2020-04-18T00:00:00+00:00",
          "2020-04-19T00:00:00+00:00",
          "2020-04-20T00:00:00+00:00",
          "2020-04-21T00:00:00+00:00",
          "2020-04-22T00:00:00+00:00",
          "2020-04-23T00:00:00+00:00",
          "2020-04-24T00:00:00+00:00",
          "2020-04-25T00:00:00+00:00",
          "2020-04-26T00:00:00+00:00",
          "2020-04-27T00:00:00+00:00",
          "2020-04-28T00:00:00+00:00",
          "2020-04-29T00:00:00+00:00",
          "2020-04-30T00:00:00+00:00",
          "2020-05-01T00:00:00+00:00",
          "2020-05-02T00:00:00+00:00",
          "2020-05-03T00:00:00+00:00",
          "2020-05-04T00:00:00+00:00",
          "2020-05-05T00:00:00+00:00",
          "2020-05-06T00:00:00+00:00",
          "2020-05-07T00:00:00+00:00",
          "2020-05-08T00:00:00+00:00",
          "2020-05-09T00:00:00+00:00",
          "2020-05-10T00:00:00+00:00",
          "2020-05-11T00:00:00+00:00",
          "2020-05-12T00:00:00+00:00",
          "2020-05-13T00:00:00+00:00",
          "2020-05-14T00:00:00+00:00",
          "2020-05-15T00:00:00+00:00",
          "2020-05-16T00:00:00+00:00",
          "2020-05-17T00:00:00+00:00",
          "2020-05-18T00:00:00+00:00",
          "2020-05-19T00:00:00+00:00",
          "2020-05-20T00:00:00+00:00",
          "2020-05-21T00:00:00+00:00",
          "2020-05-22T00:00:00+00:00",
          "2020-05-23T00:00:00+00:00",
          "2020-05-24T00:00:00+00:00",
          "2020-05-25T00:00:00+00:00",
          "2020-05-26T00:00:00+00:00",
          "2020-05-27T00:00:00+00:00",
          "2020-05-28T00:00:00+00:00",
          "2020-05-29T00:00:00+00:00",
          "2020-05-30T00:00:00+00:00",
          "2020-05-31T00:00:00+00:00",
          "2020-06-01T00:00:00+00:00",
          "2020-06-02T00:00:00+00:00",
          "2020-06-03T00:00:00+00:00",
          "2020-06-04T00:00:00+00:00",
          "2020-06-05T00:00:00+00:00",
          "2020-06-06T00:00:00+00:00",
          "2020-06-07T00:00:00+00:00",
          "2020-06-08T00:00:00+00:00",
          "2020-06-09T00:00:00+00:00",
          "2020-06-10T00:00:00+00:00",
          "2020-06-11T00:00:00+00:00",
          "2020-06-12T00:00:00+00:00",
          "2020-06-13T00:00:00+00:00",
          "2020-06-14T00:00:00+00:00",
          "2020-06-15T00:00:00+00:00",
          "2020-06-16T00:00:00+00:00",
          "2020-06-17T00:00:00+00:00",
          "2020-06-18T00:00:00+00:00",
          "2020-06-19T00:00:00+00:00",
          "2020-06-20T00:00:00+00:00",
          "2020-06-21T00:00:00+00:00",
          "2020-06-22T00:00:00+00:00",
          "2020-06-23T00:00:00+00:00",
          "2020-06-24T00:00:00+00:00",
          "2020-06-25T00:00:00+00:00",
          "2020-06-26T00:00:00+00:00",
          "2020-06-27T00:00:00+00:00",
          "2020-06-28T00:00:00+00:00",
          "2020-06-29T00:00:00+00:00",
          "2020-06-30T00:00:00+00:00",
          "2020-07-01T00:00:00+00:00",
          "2020-07-02T00:00:00+00:00",
          "2020-07-03T00:00:00+00:00",
          "2020-07-04T00:00:00+00:00",
          "2020-07-05T00:00:00+00:00",
          "2020-07-06T00:00:00+00:00",
          "2020-07-07T00:00:00+00:00",
          "2020-07-08T00:00:00+00:00",
          "2020-07-09T00:00:00+00:00",
          "2020-07-10T00:00:00+00:00",
          "2020-07-11T00:00:00+00:00",
          "2020-07-12T00:00:00+00:00",
          "2020-07-13T00:00:00+00:00",
          "2020-07-14T00:00:00+00:00",
          "2020-07-15T00:00:00+00:00",
          "2020-07-16T00:00:00+00:00",
          "2020-07-17T00:00:00+00:00",
          "2020-07-18T00:00:00+00:00",
          "2020-07-19T00:00:00+00:00",
          "2020-07-20T00:00:00+00:00",
          "2020-07-21T00:00:00+00:00",
          "2020-07-22T00:00:00+00:00",
          "2020-07-23T00:00:00+00:00",
          "2020-07-24T00:00:00+00:00",
          "2020-07-25T00:00:00+00:00",
          "2020-07-26T00:00:00+00:00",
          "2020-07-27T00:00:00+00:00",
          "2020-07-28T00:00:00+00:00",
          "2020-07-29T00:00:00+00:00",
          "2020-07-30T00:00:00+00:00",
          "2020-07-31T00:00:00+00:00",
          "2020-08-01T00:00:00+00:00",
          "2020-08-02T00:00:00+00:00",
          "2020-08-03T00:00:00+00:00",
          "2020-08-04T00:00:00+00:00",
          "2020-08-05T00:00:00+00:00",
          "2020-08-06T00:00:00+00:00",
          "2020-08-07T00:00:00+00:00",
          "2020-08-08T00:00:00+00:00",
          "2020-08-09T00:00:00+00:00",
          "2020-08-10T00:00:00+00:00",
          "2020-08-11T00:00:00+00:00",
          "2020-08-12T00:00:00+00:00",
          "2020-08-13T00:00:00+00:00",
          "2020-08-14T00:00:00+00:00",
          "2020-08-15T00:00:00+00:00",
          "2020-08-16T00:00:00+00:00",
          "2020-08-17T00:00:00+00:00",
          "2020-08-18T00:00:00+00:00",
          "2020-08-19T00:00:00+00:00",
          "2020-08-20T00:00:00+00:00",
          "2020-08-21T00:00:00+00:00",
          "2020-08-22T00:00:00+00:00",
          "2020-08-23T00:00:00+00:00",
          "2020-08-24T00:00:00+00:00",
          "2020-08-25T00:00:00+00:00",
          "2020-08-26T00:00:00+00:00",
          "2020-08-27T00:00:00+00:00",
          "2020-08-28T00:00:00+00:00",
          "2020-08-29T00:00:00+00:00",
          "2020-08-30T00:00:00+00:00",
          "2020-08-31T00:00:00+00:00",
          "2020-09-01T00:00:00+00:00",
          "2020-09-02T00:00:00+00:00",
          "2020-09-03T00:00:00+00:00",
          "2020-09-04T00:00:00+00:00",
          "2020-09-05T00:00:00+00:00",
          "2020-09-06T00:00:00+00:00",
          "2020-09-07T00:00:00+00:00",
          "2020-09-08T00:00:00+00:00",
          "2020-09-09T00:00:00+00:00",
          "2020-09-10T00:00:00+00:00",
          "2020-09-11T00:00:00+00:00",
          "2020-09-12T00:00:00+00:00",
          "2020-09-13T00:00:00+00:00",
          "2020-09-14T00:00:00+00:00",
          "2020-09-15T00:00:00+00:00",
          "2020-09-16T00:00:00+00:00",
          "2020-09-17T00:00:00+00:00",
          "2020-09-18T00:00:00+00:00",
          "2020-09-19T00:00:00+00:00",
          "2020-09-20T00:00:00+00:00",
          "2020-09-21T00:00:00+00:00",
          "2020-09-22T00:00:00+00:00",
          "2020-09-23T00:00:00+00:00",
          "2020-09-24T00:00:00+00:00",
          "2020-09-25T00:00:00+00:00",
          "2020-09-26T00:00:00+00:00",
          "2020-09-27T00:00:00+00:00",
          "2020-09-28T00:00:00+00:00",
          "2020-09-29T00:00:00+00:00",
          "2020-09-30T00:00:00+00:00",
          "2020-10-01T00:00:00+00:00",
          "2020-10-02T00:00:00+00:00",
          "2020-10-03T00:00:00+00:00",
          "2020-10-04T00:00:00+00:00",
          "2020-10-05T00:00:00+00:00",
          "2020-10-06T00:00:00+00:00",
          "2020-10-07T00:00:00+00:00",
          "2020-10-08T00:00:00+00:00",
          "2020-10-09T00:00:00+00:00",
          "2020-10-10T00:00:00+00:00",
          "2020-10-11T00:00:00+00:00",
          "2020-10-12T00:00:00+00:00",
          "2020-10-13T00:00:00+00:00",
          "2020-10-14T00:00:00+00:00",
          "2020-10-15T00:00:00+00:00",
          "2020-10-16T00:00:00+00:00",
          "2020-10-17T00:00:00+00:00",
          "2020-10-18T00:00:00+00:00",
          "2020-10-19T00:00:00+00:00",
          "2020-10-20T00:00:00+00:00",
          "2020-10-21T00:00:00+00:00",
          "2020-10-22T00:00:00+00:00",
          "2020-10-23T00:00:00+00:00",
          "2020-10-24T00:00:00+00:00",
          "2020-10-25T00:00:00+00:00",
          "2020-10-26T00:00:00+00:00",
          "2020-10-27T00:00:00+00:00",
          "2020-10-28T00:00:00+00:00",
          "2020-10-29T00:00:00+00:00",
          "2020-10-30T00:00:00+00:00",
          "2020-10-31T00:00:00+00:00",
          "2020-11-01T00:00:00+00:00",
          "2020-11-02T00:00:00+00:00",
          "2020-11-03T00:00:00+00:00",
          "2020-11-04T00:00:00+00:00",
          "2020-11-05T00:00:00+00:00",
          "2020-11-06T00:00:00+00:00",
          "2020-11-07T00:00:00+00:00",
          "2020-11-08T00:00:00+00:00",
          "2020-11-09T00:00:00+00:00",
          "2020-11-10T00:00:00+00:00",
          "2020-11-11T00:00:00+00:00",
          "2020-11-12T00:00:00+00:00",
          "2020-11-13T00:00:00+00:00",
          "2020-11-14T00:00:00+00:00",
          "2020-11-15T00:00:00+00:00",
          "2020-11-16T00:00:00+00:00",
          "2020-11-17T00:00:00+00:00",
          "2020-11-18T00:00:00+00:00",
          "2020-11-19T00:00:00+00:00",
          "2020-11-20T00:00:00+00:00",
          "2020-11-21T00:00:00+00:00",
          "2020-11-22T00:00:00+00:00",
          "2020-11-23T00:00:00+00:00",
          "2020-11-24T00:00:00+00:00",
          "2020-11-25T00:00:00+00:00",
          "2020-11-26T00:00:00+00:00",
          "2020-11-27T00:00:00+00:00",
          "2020-11-28T00:00:00+00:00",
          "2020-11-29T00:00:00+00:00",
          "2020-11-30T00:00:00+00:00",
          "2020-12-01T00:00:00+00:00",
          "2020-12-02T00:00:00+00:00",
          "2020-12-03T00:00:00+00:00",
          "2020-12-04T00:00:00+00:00",
          "2020-12-05T00:00:00+00:00",
          "2020-12-06T00:00:00+00:00",
          "2020-12-07T00:00:00+00:00",
          "2020-12-08T00:00:00+00:00",
          "2020-12-09T00:00:00+00:00",
          "2020-12-10T00:00:00+00:00",
          "2020-12-11T00:00:00+00:00",
          "2020-12-12T00:00:00+00:00",
          "2020-12-13T00:00:00+00:00",
          "2020-12-14T00:00:00+00:00",
          "2020-12-15T00:00:00+00:00",
          "2020-12-16T00:00:00+00:00",
          "2020-12-17T00:00:00+00:00",
          "2020-12-18T00:00:00+00:00",
          "2020-12-19T00:00:00+00:00",
          "2020-12-20T00:00:00+00:00",
          "2020-12-21T00:00:00+00:00",
          "2020-12-22T00:00:00+00:00",
          "2020-12-23T00:00:00+00:00",
          "2020-12-24T00:00:00+00:00",
          "2020-12-25T00:00:00+00:00",
          "2020-12-26T00:00:00+00:00",
          "2020-12-27T00:00:00+00:00",
          "2020-12-28T00:00:00+00:00",
          "2020-12-29T00:00:00+00:00",
          "2020-12-30T00:00:00+00:00",
          "2020-12-31T00:00:00+00:00",
          "2021-01-01T00:00:00+00:00",
          "2021-01-02T00:00:00+00:00",
          "2021-01-03T00:00:00+00:00",
          "2021-01-04T00:00:00+00:00",
          "2021-01-05T00:00:00+00:00",
          "2021-01-06T00:00:00+00:00",
          "2021-01-07T00:00:00+00:00",
          "2021-01-08T00:00:00+00:00",
          "2021-01-09T00:00:00+00:00",
          "2021-01-10T00:00:00+00:00",
          "2021-01-11T00:00:00+00:00",
          "2021-01-12T00:00:00+00:00",
          "2021-01-13T00:00:00+00:00",
          "2021-01-14T00:00:00+00:00",
          "2021-01-15T00:00:00+00:00",
          "2021-01-16T00:00:00+00:00",
          "2021-01-17T00:00:00+00:00",
          "2021-01-18T00:00:00+00:00",
          "2021-01-19T00:00:00+00:00",
          "2021-01-20T00:00:00+00:00",
          "2021-01-21T00:00:00+00:00",
          "2021-01-22T00:00:00+00:00",
          "2021-01-23T00:00:00+00:00",
          "2021-01-24T00:00:00+00:00",
          "2021-01-25T00:00:00+00:00",
          "2021-01-26T00:00:00+00:00",
          "2021-01-27T00:00:00+00:00",
          "2021-01-28T00:00:00+00:00",
          "2021-01-29T00:00:00+00:00",
          "2021-01-30T00:00:00+00:00",
          "2021-01-31T00:00:00+00:00",
          "2021-02-01T00:00:00+00:00",
          "2021-02-02T00:00:00+00:00",
          "2021-02-03T00:00:00+00:00",
          "2021-02-04T00:00:00+00:00",
          "2021-02-05T00:00:00+00:00",
          "2021-02-06T00:00:00+00:00",
          "2021-02-07T00:00:00+00:00",
          "2021-02-08T00:00:00+00:00",
          "2021-02-09T00:00:00+00:00",
          "2021-02-10T00:00:00+00:00",
          "2021-02-11T00:00:00+00:00",
          "2021-02-12T00:00:00+00:00",
          "2021-02-13T00:00:00+00:00",
          "2021-02-14T00:00:00+00:00",
          "2021-02-15T00:00:00+00:00",
          "2021-02-16T00:00:00+00:00",
          "2021-02-17T00:00:00+00:00",
          "2021-02-18T00:00:00+00:00",
          "2021-02-19T00:00:00+00:00",
          "2021-02-20T00:00:00+00:00",
          "2021-02-21T00:00:00+00:00",
          "2021-02-22T00:00:00+00:00",
          "2021-02-23T00:00:00+00:00",
          "2021-02-24T00:00:00+00:00",
          "2021-02-25T00:00:00+00:00",
          "2021-02-26T00:00:00+00:00",
          "2021-02-27T00:00:00+00:00",
          "2021-02-28T00:00:00+00:00",
          "2021-03-01T00:00:00+00:00",
          "2021-03-02T00:00:00+00:00",
          "2021-03-03T00:00:00+00:00",
          "2021-03-04T00:00:00+00:00",
          "2021-03-05T00:00:00+00:00",
          "2021-03-06T00:00:00+00:00",
          "2021-03-07T00:00:00+00:00",
          "2021-03-08T00:00:00+00:00",
          "2021-03-09T00:00:00+00:00",
          "2021-03-10T00:00:00+00:00",
          "2021-03-11T00:00:00+00:00",
          "2021-03-12T00:00:00+00:00",
          "2021-03-13T00:00:00+00:00",
          "2021-03-14T00:00:00+00:00",
          "2021-03-15T00:00:00+00:00",
          "2021-03-16T00:00:00+00:00",
          "2021-03-17T00:00:00+00:00",
          "2021-03-18T00:00:00+00:00",
          "2021-03-19T00:00:00+00:00",
          "2021-03-20T00:00:00+00:00",
          "2021-03-21T00:00:00+00:00",
          "2021-03-22T00:00:00+00:00",
          "2021-03-23T00:00:00+00:00",
          "2021-03-24T00:00:00+00:00",
          "2021-03-25T00:00:00+00:00",
          "2021-03-26T00:00:00+00:00",
          "2021-03-27T00:00:00+00:00",
          "2021-03-28T00:00:00+00:00",
          "2021-03-29T00:00:00+00:00",
          "2021-03-30T00:00:00+00:00",
          "2021-03-31T00:00:00+00:00",
          "2021-04-01T00:00:00+00:00",
          "2021-04-02T00:00:00+00:00",
          "2021-04-03T00:00:00+00:00",
          "2021-04-04T00:00:00+00:00",
          "2021-04-05T00:00:00+00:00",
          "2021-04-06T00:00:00+00:00",
          "2021-04-07T00:00:00+00:00",
          "2021-04-08T00:00:00+00:00",
          "2021-04-09T00:00:00+00:00",
          "2021-04-10T00:00:00+00:00",
          "2021-04-11T00:00:00+00:00",
          "2021-04-12T00:00:00+00:00",
          "2021-04-13T00:00:00+00:00",
          "2021-04-14T00:00:00+00:00",
          "2021-04-15T00:00:00+00:00",
          "2021-04-16T00:00:00+00:00",
          "2021-04-17T00:00:00+00:00",
          "2021-04-18T00:00:00+00:00",
          "2021-04-19T00:00:00+00:00",
          "2021-04-20T00:00:00+00:00",
          "2021-04-21T00:00:00+00:00",
          "2021-04-22T00:00:00+00:00",
          "2021-04-23T00:00:00+00:00",
          "2021-04-24T00:00:00+00:00",
          "2021-04-25T00:00:00+00:00",
          "2021-04-26T00:00:00+00:00",
          "2021-04-27T00:00:00+00:00",
          "2021-04-28T00:00:00+00:00",
          "2021-04-29T00:00:00+00:00",
          "2021-04-30T00:00:00+00:00",
          "2021-05-01T00:00:00+00:00",
          "2021-05-02T00:00:00+00:00",
          "2021-05-03T00:00:00+00:00",
          "2021-05-04T00:00:00+00:00",
          "2021-05-05T00:00:00+00:00",
          "2021-05-06T00:00:00+00:00",
          "2021-05-07T00:00:00+00:00",
          "2021-05-08T00:00:00+00:00",
          "2021-05-09T00:00:00+00:00",
          "2021-05-10T00:00:00+00:00",
          "2021-05-11T00:00:00+00:00",
          "2021-05-12T00:00:00+00:00",
          "2021-05-13T00:00:00+00:00",
          "2021-05-14T00:00:00+00:00",
          "2021-05-15T00:00:00+00:00",
          "2021-05-16T00:00:00+00:00",
          "2021-05-17T00:00:00+00:00",
          "2021-05-18T00:00:00+00:00",
          "2021-05-19T00:00:00+00:00",
          "2021-05-20T00:00:00+00:00",
          "2021-05-21T00:00:00+00:00",
          "2021-05-22T00:00:00+00:00",
          "2021-05-23T00:00:00+00:00",
          "2021-05-24T00:00:00+00:00",
          "2021-05-25T00:00:00+00:00",
          "2021-05-26T00:00:00+00:00",
          "2021-05-27T00:00:00+00:00",
          "2021-05-28T00:00:00+00:00",
          "2021-05-29T00:00:00+00:00",
          "2021-05-30T00:00:00+00:00",
          "2021-05-31T00:00:00+00:00",
          "2021-06-01T00:00:00+00:00",
          "2021-06-02T00:00:00+00:00",
          "2021-06-03T00:00:00+00:00",
          "2021-06-04T00:00:00+00:00",
          "2021-06-05T00:00:00+00:00",
          "2021-06-06T00:00:00+00:00",
          "2021-06-07T00:00:00+00:00",
          "2021-06-08T00:00:00+00:00",
          "2021-06-09T00:00:00+00:00",
          "2021-06-10T00:00:00+00:00",
          "2021-06-11T00:00:00+00:00",
          "2021-06-12T00:00:00+00:00",
          "2021-06-13T00:00:00+00:00",
          "2021-06-14T00:00:00+00:00",
          "2021-06-15T00:00:00+00:00",
          "2021-06-16T00:00:00+00:00",
          "2021-06-17T00:00:00+00:00",
          "2021-06-18T00:00:00+00:00",
          "2021-06-19T00:00:00+00:00",
          "2021-06-20T00:00:00+00:00",
          "2021-06-21T00:00:00+00:00",
          "2021-06-22T00:00:00+00:00",
          "2021-06-23T00:00:00+00:00",
          "2021-06-24T00:00:00+00:00",
          "2021-06-25T00:00:00+00:00",
          "2021-06-26T00:00:00+00:00",
          "2021-06-27T00:00:00+00:00",
          "2021-06-28T00:00:00+00:00",
          "2021-06-29T00:00:00+00:00",
          "2021-06-30T00:00:00+00:00",
          "2021-07-01T00:00:00+00:00",
          "2021-07-02T00:00:00+00:00",
          "2021-07-03T00:00:00+00:00",
          "2021-07-04T00:00:00+00:00",
          "2021-07-05T00:00:00+00:00",
          "2021-07-06T00:00:00+00:00",
          "2021-07-07T00:00:00+00:00",
          "2021-07-08T00:00:00+00:00",
          "2021-07-09T00:00:00+00:00",
          "2021-07-10T00:00:00+00:00",
          "2021-07-11T00:00:00+00:00",
          "2021-07-12T00:00:00+00:00",
          "2021-07-13T00:00:00+00:00",
          "2021-07-14T00:00:00+00:00",
          "2021-07-15T00:00:00+00:00",
          "2021-07-16T00:00:00+00:00",
          "2021-07-17T00:00:00+00:00",
          "2021-07-18T00:00:00+00:00",
          "2021-07-19T00:00:00+00:00",
          "2021-07-20T00:00:00+00:00",
          "2021-07-21T00:00:00+00:00",
          "2021-07-22T00:00:00+00:00",
          "2021-07-23T00:00:00+00:00",
          "2021-07-24T00:00:00+00:00",
          "2021-07-25T00:00:00+00:00",
          "2021-07-26T00:00:00+00:00",
          "2021-07-27T00:00:00+00:00",
          "2021-07-28T00:00:00+00:00",
          "2021-07-29T00:00:00+00:00",
          "2021-07-30T00:00:00+00:00",
          "2021-07-31T00:00:00+00:00",
          "2021-08-01T00:00:00+00:00",
          "2021-08-02T00:00:00+00:00",
          "2021-08-03T00:00:00+00:00",
          "2021-08-04T00:00:00+00:00",
          "2021-08-05T00:00:00+00:00",
          "2021-08-06T00:00:00+00:00",
          "2021-08-07T00:00:00+00:00",
          "2021-08-08T00:00:00+00:00",
          "2021-08-09T00:00:00+00:00",
          "2021-08-10T00:00:00+00:00",
          "2021-08-11T00:00:00+00:00",
          "2021-08-12T00:00:00+00:00",
          "2021-08-13T00:00:00+00:00",
          "2021-08-14T00:00:00+00:00",
          "2021-08-15T00:00:00+00:00",
          "2021-08-16T00:00:00+00:00",
          "2021-08-17T00:00:00+00:00",
          "2021-08-18T00:00:00+00:00",
          "2021-08-19T00:00:00+00:00",
          "2021-08-20T00:00:00+00:00",
          "2021-08-21T00:00:00+00:00",
          "2021-08-22T00:00:00+00:00",
          "2021-08-23T00:00:00+00:00",
          "2021-08-24T00:00:00+00:00",
          "2021-08-25T00:00:00+00:00",
          "2021-08-26T00:00:00+00:00",
          "2021-08-27T00:00:00+00:00",
          "2021-08-28T00:00:00+00:00",
          "2021-08-29T00:00:00+00:00",
          "2021-08-30T00:00:00+00:00",
          "2021-08-31T00:00:00+00:00",
          "2021-09-01T00:00:00+00:00",
          "2021-09-02T00:00:00+00:00",
          "2021-09-03T00:00:00+00:00",
          "2021-09-04T00:00:00+00:00",
          "2021-09-05T00:00:00+00:00",
          "2021-09-06T00:00:00+00:00",
          "2021-09-07T00:00:00+00:00",
          "2021-09-08T00:00:00+00:00",
          "2021-09-09T00:00:00+00:00",
          "2021-09-10T00:00:00+00:00",
          "2021-09-11T00:00:00+00:00",
          "2021-09-12T00:00:00+00:00",
          "2021-09-13T00:00:00+00:00",
          "2021-09-14T00:00:00+00:00",
          "2021-09-15T00:00:00+00:00",
          "2021-09-16T00:00:00+00:00",
          "2021-09-17T00:00:00+00:00",
          "2021-09-18T00:00:00+00:00",
          "2021-09-19T00:00:00+00:00",
          "2021-09-20T00:00:00+00:00",
          "2021-09-21T00:00:00+00:00",
          "2021-09-22T00:00:00+00:00",
          "2021-09-23T00:00:00+00:00",
          "2021-09-24T00:00:00+00:00",
          "2021-09-25T00:00:00+00:00",
          "2021-09-26T00:00:00+00:00",
          "2021-09-27T00:00:00+00:00",
          "2021-09-28T00:00:00+00:00",
          "2021-09-29T00:00:00+00:00",
          "2021-09-30T00:00:00+00:00",
          "2021-10-01T00:00:00+00:00",
          "2021-10-02T00:00:00+00:00",
          "2021-10-03T00:00:00+00:00",
          "2021-10-04T00:00:00+00:00",
          "2021-10-05T00:00:00+00:00",
          "2021-10-06T00:00:00+00:00",
          "2021-10-07T00:00:00+00:00",
          "2021-10-08T00:00:00+00:00",
          "2021-10-09T00:00:00+00:00",
          "2021-10-10T00:00:00+00:00",
          "2021-10-11T00:00:00+00:00",
          "2021-10-12T00:00:00+00:00",
          "2021-10-13T00:00:00+00:00",
          "2021-10-14T00:00:00+00:00",
          "2021-10-15T00:00:00+00:00",
          "2021-10-16T00:00:00+00:00",
          "2021-10-17T00:00:00+00:00",
          "2021-10-18T00:00:00+00:00",
          "2021-10-19T00:00:00+00:00",
          "2021-10-20T00:00:00+00:00",
          "2021-10-21T00:00:00+00:00",
          "2021-10-22T00:00:00+00:00",
          "2021-10-23T00:00:00+00:00",
          "2021-10-24T00:00:00+00:00",
          "2021-10-25T00:00:00+00:00",
          "2021-10-26T00:00:00+00:00",
          "2021-10-27T00:00:00+00:00",
          "2021-10-28T00:00:00+00:00",
          "2021-10-29T00:00:00+00:00",
          "2021-10-30T00:00:00+00:00",
          "2021-10-31T00:00:00+00:00",
          "2021-11-01T00:00:00+00:00",
          "2021-11-02T00:00:00+00:00",
          "2021-11-03T00:00:00+00:00",
          "2021-11-04T00:00:00+00:00",
          "2021-11-05T00:00:00+00:00",
          "2021-11-06T00:00:00+00:00",
          "2021-11-07T00:00:00+00:00",
          "2021-11-08T00:00:00+00:00",
          "2021-11-09T00:00:00+00:00",
          "2021-11-10T00:00:00+00:00",
          "2021-11-11T00:00:00+00:00",
          "2021-11-12T00:00:00+00:00",
          "2021-11-13T00:00:00+00:00",
          "2021-11-14T00:00:00+00:00",
          "2021-11-15T00:00:00+00:00",
          "2021-11-16T00:00:00+00:00",
          "2021-11-17T00:00:00+00:00",
          "2021-11-18T00:00:00+00:00",
          "2021-11-19T00:00:00+00:00",
          "2021-11-20T00:00:00+00:00",
          "2021-11-21T00:00:00+00:00",
          "2021-11-22T00:00:00+00:00",
          "2021-11-23T00:00:00+00:00",
          "2021-11-24T00:00:00+00:00",
          "2021-11-25T00:00:00+00:00",
          "2021-11-26T00:00:00+00:00",
          "2021-11-27T00:00:00+00:00",
          "2021-11-28T00:00:00+00:00",
          "2021-11-29T00:00:00+00:00",
          "2021-11-30T00:00:00+00:00",
          "2021-12-01T00:00:00+00:00",
          "2021-12-02T00:00:00+00:00",
          "2021-12-03T00:00:00+00:00",
          "2021-12-04T00:00:00+00:00",
          "2021-12-05T00:00:00+00:00",
          "2021-12-06T00:00:00+00:00",
          "2021-12-07T00:00:00+00:00",
          "2021-12-08T00:00:00+00:00",
          "2021-12-09T00:00:00+00:00",
          "2021-12-10T00:00:00+00:00",
          "2021-12-11T00:00:00+00:00",
          "2021-12-12T00:00:00+00:00",
          "2021-12-13T00:00:00+00:00",
          "2021-12-14T00:00:00+00:00",
          "2021-12-15T00:00:00+00:00",
          "2021-12-16T00:00:00+00:00",
          "2021-12-17T00:00:00+00:00",
          "2021-12-18T00:00:00+00:00",
          "2021-12-19T00:00:00+00:00",
          "2021-12-20T00:00:00+00:00",
          "2021-12-21T00:00:00+00:00",
          "2021-12-22T00:00:00+00:00",
          "2021-12-23T00:00:00+00:00",
          "2021-12-24T00:00:00+00:00",
          "2021-12-25T00:00:00+00:00",
          "2021-12-26T00:00:00+00:00",
          "2021-12-27T00:00:00+00:00",
          "2021-12-28T00:00:00+00:00",
          "2021-12-29T00:00:00+00:00",
          "2021-12-30T00:00:00+00:00",
          "2021-12-31T00:00:00+00:00",
          "2022-01-01T00:00:00+00:00",
          "2022-01-02T00:00:00+00:00",
          "2022-01-03T00:00:00+00:00",
          "2022-01-04T00:00:00+00:00",
          "2022-01-05T00:00:00+00:00",
          "2022-01-06T00:00:00+00:00",
          "2022-01-07T00:00:00+00:00",
          "2022-01-08T00:00:00+00:00",
          "2022-01-09T00:00:00+00:00",
          "2022-01-10T00:00:00+00:00",
          "2022-01-11T00:00:00+00:00",
          "2022-01-12T00:00:00+00:00",
          "2022-01-13T00:00:00+00:00",
          "2022-01-14T00:00:00+00:00",
          "2022-01-15T00:00:00+00:00",
          "2022-01-16T00:00:00+00:00",
          "2022-01-17T00:00:00+00:00",
          "2022-01-18T00:00:00+00:00",
          "2022-01-19T00:00:00+00:00",
          "2022-01-20T00:00:00+00:00",
          "2022-01-21T00:00:00+00:00",
          "2022-01-22T00:00:00+00:00",
          "2022-01-23T00:00:00+00:00",
          "2022-01-24T00:00:00+00:00",
          "2022-01-25T00:00:00+00:00",
          "2022-01-26T00:00:00+00:00",
          "2022-01-27T00:00:00+00:00",
          "2022-01-28T00:00:00+00:00",
          "2022-01-29T00:00:00+00:00",
          "2022-01-30T00:00:00+00:00",
          "2022-01-31T00:00:00+00:00",
          "2022-02-01T00:00:00+00:00",
          "2022-02-02T00:00:00+00:00",
          "2022-02-03T00:00:00+00:00",
          "2022-02-04T00:00:00+00:00",
          "2022-02-05T00:00:00+00:00",
          "2022-02-06T00:00:00+00:00",
          "2022-02-07T00:00:00+00:00",
          "2022-02-08T00:00:00+00:00",
          "2022-02-09T00:00:00+00:00",
          "2022-02-10T00:00:00+00:00",
          "2022-02-11T00:00:00+00:00",
          "2022-02-12T00:00:00+00:00",
          "2022-02-13T00:00:00+00:00",
          "2022-02-14T00:00:00+00:00",
          "2022-02-15T00:00:00+00:00",
          "2022-02-16T00:00:00+00:00",
          "2022-02-17T00:00:00+00:00",
          "2022-02-18T00:00:00+00:00",
          "2022-02-19T00:00:00+00:00",
          "2022-02-20T00:00:00+00:00",
          "2022-02-21T00:00:00+00:00",
          "2022-02-22T00:00:00+00:00",
          "2022-02-23T00:00:00+00:00",
          "2022-02-24T00:00:00+00:00",
          "2022-02-25T00:00:00+00:00",
          "2022-02-26T00:00:00+00:00",
          "2022-02-27T00:00:00+00:00",
          "2022-02-28T00:00:00+00:00",
          "2022-03-01T00:00:00+00:00",
          "2022-03-02T00:00:00+00:00",
          "2022-03-03T00:00:00+00:00",
          "2022-03-04T00:00:00+00:00",
          "2022-03-05T00:00:00+00:00",
          "2022-03-06T00:00:00+00:00",
          "2022-03-07T00:00:00+00:00",
          "2022-03-08T00:00:00+00:00",
          "2022-03-09T00:00:00+00:00",
          "2022-03-10T00:00:00+00:00",
          "2022-03-11T00:00:00+00:00",
          "2022-03-12T00:00:00+00:00",
          "2022-03-13T00:00:00+00:00",
          "2022-03-14T00:00:00+00:00",
          "2022-03-15T00:00:00+00:00",
          "2022-03-16T00:00:00+00:00",
          "2022-03-17T00:00:00+00:00",
          "2022-03-18T00:00:00+00:00",
          "2022-03-19T00:00:00+00:00",
          "2022-03-20T00:00:00+00:00",
          "2022-03-21T00:00:00+00:00",
          "2022-03-22T00:00:00+00:00",
          "2022-03-23T00:00:00+00:00",
          "2022-03-24T00:00:00+00:00",
          "2022-03-25T00:00:00+00:00",
          "2022-03-26T00:00:00+00:00",
          "2022-03-27T00:00:00+00:00",
          "2022-03-28T00:00:00+00:00",
          "2022-03-29T00:00:00+00:00",
          "2022-03-30T00:00:00+00:00",
          "2022-03-31T00:00:00+00:00",
          "2022-04-01T00:00:00+00:00",
          "2022-04-02T00:00:00+00:00",
          "2022-04-03T00:00:00+00:00",
          "2022-04-04T00:00:00+00:00",
          "2022-04-05T00:00:00+00:00",
          "2022-04-06T00:00:00+00:00",
          "2022-04-07T00:00:00+00:00",
          "2022-04-08T00:00:00+00:00",
          "2022-04-09T00:00:00+00:00",
          "2022-04-10T00:00:00+00:00",
          "2022-04-11T00:00:00+00:00",
          "2022-04-12T00:00:00+00:00",
          "2022-04-13T00:00:00+00:00",
          "2022-04-14T00:00:00+00:00",
          "2022-04-15T00:00:00+00:00",
          "2022-04-16T00:00:00+00:00",
          "2022-04-17T00:00:00+00:00",
          "2022-04-18T00:00:00+00:00",
          "2022-04-19T00:00:00+00:00",
          "2022-04-20T00:00:00+00:00",
          "2022-04-21T00:00:00+00:00",
          "2022-04-22T00:00:00+00:00",
          "2022-04-23T00:00:00+00:00",
          "2022-04-24T00:00:00+00:00",
          "2022-04-25T00:00:00+00:00",
          "2022-04-26T00:00:00+00:00",
          "2022-04-27T00:00:00+00:00",
          "2022-04-28T00:00:00+00:00",
          "2022-04-29T00:00:00+00:00",
          "2022-04-30T00:00:00+00:00",
          "2022-05-01T00:00:00+00:00",
          "2022-05-02T00:00:00+00:00",
          "2022-05-03T00:00:00+00:00",
          "2022-05-04T00:00:00+00:00",
          "2022-05-05T00:00:00+00:00",
          "2022-05-06T00:00:00+00:00",
          "2022-05-07T00:00:00+00:00",
          "2022-05-08T00:00:00+00:00",
          "2022-05-09T00:00:00+00:00",
          "2022-05-10T00:00:00+00:00",
          "2022-05-11T00:00:00+00:00",
          "2022-05-12T00:00:00+00:00",
          "2022-05-13T00:00:00+00:00",
          "2022-05-14T00:00:00+00:00",
          "2022-05-15T00:00:00+00:00",
          "2022-05-16T00:00:00+00:00",
          "2022-05-17T00:00:00+00:00",
          "2022-05-18T00:00:00+00:00",
          "2022-05-19T00:00:00+00:00",
          "2022-05-20T00:00:00+00:00",
          "2022-05-21T00:00:00+00:00",
          "2022-05-22T00:00:00+00:00",
          "2022-05-23T00:00:00+00:00",
          "2022-05-24T00:00:00+00:00",
          "2022-05-25T00:00:00+00:00",
          "2022-05-26T00:00:00+00:00",
          "2022-05-27T00:00:00+00:00",
          "2022-05-28T00:00:00+00:00",
          "2022-05-29T00:00:00+00:00",
          "2022-05-30T00:00:00+00:00",
          "2022-05-31T00:00:00+00:00",
          "2022-06-01T00:00:00+00:00",
          "2022-06-02T00:00:00+00:00",
          "2022-06-03T00:00:00+00:00",
          "2022-06-04T00:00:00+00:00",
          "2022-06-05T00:00:00+00:00",
          "2022-06-06T00:00:00+00:00",
          "2022-06-07T00:00:00+00:00",
          "2022-06-08T00:00:00+00:00",
          "2022-06-09T00:00:00+00:00",
          "2022-06-10T00:00:00+00:00",
          "2022-06-11T00:00:00+00:00",
          "2022-06-12T00:00:00+00:00",
          "2022-06-13T00:00:00+00:00",
          "2022-06-14T00:00:00+00:00",
          "2022-06-15T00:00:00+00:00",
          "2022-06-16T00:00:00+00:00",
          "2022-06-17T00:00:00+00:00",
          "2022-06-18T00:00:00+00:00",
          "2022-06-19T00:00:00+00:00",
          "2022-06-20T00:00:00+00:00",
          "2022-06-21T00:00:00+00:00",
          "2022-06-22T00:00:00+00:00",
          "2022-06-23T00:00:00+00:00",
          "2022-06-24T00:00:00+00:00",
          "2022-06-25T00:00:00+00:00",
          "2022-06-26T00:00:00+00:00",
          "2022-06-27T00:00:00+00:00",
          "2022-06-28T00:00:00+00:00",
          "2022-06-29T00:00:00+00:00",
          "2022-06-30T00:00:00+00:00",
          "2022-07-01T00:00:00+00:00",
          "2022-07-02T00:00:00+00:00",
          "2022-07-03T00:00:00+00:00",
          "2022-07-04T00:00:00+00:00",
          "2022-07-05T00:00:00+00:00",
          "2022-07-06T00:00:00+00:00",
          "2022-07-07T00:00:00+00:00",
          "2022-07-08T00:00:00+00:00",
          "2022-07-09T00:00:00+00:00",
          "2022-07-10T00:00:00+00:00",
          "2022-07-11T00:00:00+00:00",
          "2022-07-12T00:00:00+00:00",
          "2022-07-13T00:00:00+00:00",
          "2022-07-14T00:00:00+00:00",
          "2022-07-15T00:00:00+00:00",
          "2022-07-16T00:00:00+00:00",
          "2022-07-17T00:00:00+00:00",
          "2022-07-18T00:00:00+00:00",
          "2022-07-19T00:00:00+00:00",
          "2022-07-20T00:00:00+00:00",
          "2022-07-21T00:00:00+00:00",
          "2022-07-22T00:00:00+00:00",
          "2022-07-23T00:00:00+00:00",
          "2022-07-24T00:00:00+00:00",
          "2022-07-25T00:00:00+00:00",
          "2022-07-26T00:00:00+00:00",
          "2022-07-27T00:00:00+00:00",
          "2022-07-28T00:00:00+00:00",
          "2022-07-29T00:00:00+00:00",
          "2022-07-30T00:00:00+00:00",
          "2022-07-31T00:00:00+00:00",
          "2022-08-01T00:00:00+00:00",
          "2022-08-02T00:00:00+00:00",
          "2022-08-03T00:00:00+00:00",
          "2022-08-04T00:00:00+00:00",
          "2022-08-05T00:00:00+00:00",
          "2022-08-06T00:00:00+00:00",
          "2022-08-07T00:00:00+00:00",
          "2022-08-08T00:00:00+00:00",
          "2022-08-09T00:00:00+00:00",
          "2022-08-10T00:00:00+00:00",
          "2022-08-11T00:00:00+00:00",
          "2022-08-12T00:00:00+00:00",
          "2022-08-13T00:00:00+00:00",
          "2022-08-14T00:00:00+00:00",
          "2022-08-15T00:00:00+00:00",
          "2022-08-16T00:00:00+00:00",
          "2022-08-17T00:00:00+00:00",
          "2022-08-18T00:00:00+00:00",
          "2022-08-19T00:00:00+00:00",
          "2022-08-20T00:00:00+00:00",
          "2022-08-21T00:00:00+00:00",
          "2022-08-22T00:00:00+00:00",
          "2022-08-23T00:00:00+00:00",
          "2022-08-24T00:00:00+00:00",
          "2022-08-25T00:00:00+00:00",
          "2022-08-26T00:00:00+00:00",
          "2022-08-27T00:00:00+00:00",
          "2022-08-28T00:00:00+00:00",
          "2022-08-29T00:00:00+00:00",
          "2022-08-30T00:00:00+00:00",
          "2022-08-31T00:00:00+00:00",
          "2022-09-01T00:00:00+00:00",
          "2022-09-02T00:00:00+00:00",
          "2022-09-03T00:00:00+00:00",
          "2022-09-04T00:00:00+00:00",
          "2022-09-05T00:00:00+00:00",
          "2022-09-06T00:00:00+00:00",
          "2022-09-07T00:00:00+00:00",
          "2022-09-08T00:00:00+00:00",
          "2022-09-09T00:00:00+00:00",
          "2022-09-10T00:00:00+00:00",
          "2022-09-11T00:00:00+00:00",
          "2022-09-12T00:00:00+00:00",
          "2022-09-13T00:00:00+00:00",
          "2022-09-14T00:00:00+00:00",
          "2022-09-15T00:00:00+00:00",
          "2022-09-16T00:00:00+00:00",
          "2022-09-17T00:00:00+00:00",
          "2022-09-18T00:00:00+00:00",
          "2022-09-19T00:00:00+00:00",
          "2022-09-20T00:00:00+00:00",
          "2022-09-21T00:00:00+00:00",
          "2022-09-22T00:00:00+00:00",
          "2022-09-23T00:00:00+00:00",
          "2022-09-24T00:00:00+00:00",
          "2022-09-25T00:00:00+00:00",
          "2022-09-26T00:00:00+00:00",
          "2022-09-27T00:00:00+00:00",
          "2022-09-28T00:00:00+00:00",
          "2022-09-29T00:00:00+00:00",
          "2022-09-30T00:00:00+00:00",
          "2022-10-01T00:00:00+00:00",
          "2022-10-02T00:00:00+00:00",
          "2022-10-03T00:00:00+00:00",
          "2022-10-04T00:00:00+00:00",
          "2022-10-05T00:00:00+00:00",
          "2022-10-06T00:00:00+00:00",
          "2022-10-07T00:00:00+00:00",
          "2022-10-08T00:00:00+00:00",
          "2022-10-09T00:00:00+00:00",
          "2022-10-10T00:00:00+00:00",
          "2022-10-11T00:00:00+00:00",
          "2022-10-12T00:00:00+00:00",
          "2022-10-13T00:00:00+00:00",
          "2022-10-14T00:00:00+00:00",
          "2022-10-15T00:00:00+00:00",
          "2022-10-16T00:00:00+00:00",
          "2022-10-17T00:00:00+00:00",
          "2022-10-18T00:00:00+00:00",
          "2022-10-19T00:00:00+00:00",
          "2022-10-20T00:00:00+00:00",
          "2022-10-21T00:00:00+00:00",
          "2022-10-22T00:00:00+00:00",
          "2022-10-23T00:00:00+00:00",
          "2022-10-24T00:00:00+00:00",
          "2022-10-25T00:00:00+00:00",
          "2022-10-26T00:00:00+00:00",
          "2022-10-27T00:00:00+00:00",
          "2022-10-28T00:00:00+00:00",
          "2022-10-29T00:00:00+00:00",
          "2022-10-30T00:00:00+00:00",
          "2022-10-31T00:00:00+00:00",
          "2022-11-01T00:00:00+00:00",
          "2022-11-02T00:00:00+00:00",
          "2022-11-03T00:00:00+00:00",
          "2022-11-04T00:00:00+00:00",
          "2022-11-05T00:00:00+00:00",
          "2022-11-06T00:00:00+00:00",
          "2022-11-07T00:00:00+00:00",
          "2022-11-08T00:00:00+00:00",
          "2022-11-09T00:00:00+00:00",
          "2022-11-10T00:00:00+00:00",
          "2022-11-11T00:00:00+00:00",
          "2022-11-12T00:00:00+00:00",
          "2022-11-13T00:00:00+00:00",
          "2022-11-14T00:00:00+00:00",
          "2022-11-15T00:00:00+00:00",
          "2022-11-16T00:00:00+00:00",
          "2022-11-17T00:00:00+00:00",
          "2022-11-18T00:00:00+00:00",
          "2022-11-19T00:00:00+00:00",
          "2022-11-20T00:00:00+00:00",
          "2022-11-21T00:00:00+00:00",
          "2022-11-22T00:00:00+00:00",
          "2022-11-23T00:00:00+00:00",
          "2022-11-24T00:00:00+00:00",
          "2022-11-25T00:00:00+00:00",
          "2022-11-26T00:00:00+00:00",
          "2022-11-27T00:00:00+00:00",
          "2022-11-28T00:00:00+00:00",
          "2022-11-29T00:00:00+00:00",
          "2022-11-30T00:00:00+00:00",
          "2022-12-01T00:00:00+00:00",
          "2022-12-02T00:00:00+00:00",
          "2022-12-03T00:00:00+00:00",
          "2022-12-04T00:00:00+00:00",
          "2022-12-05T00:00:00+00:00",
          "2022-12-06T00:00:00+00:00",
          "2022-12-07T00:00:00+00:00",
          "2022-12-08T00:00:00+00:00",
          "2022-12-09T00:00:00+00:00",
          "2022-12-10T00:00:00+00:00",
          "2022-12-11T00:00:00+00:00",
          "2022-12-12T00:00:00+00:00",
          "2022-12-13T00:00:00+00:00",
          "2022-12-14T00:00:00+00:00",
          "2022-12-15T00:00:00+00:00",
          "2022-12-16T00:00:00+00:00",
          "2022-12-17T00:00:00+00:00",
          "2022-12-18T00:00:00+00:00",
          "2022-12-19T00:00:00+00:00",
          "2022-12-20T00:00:00+00:00",
          "2022-12-21T00:00:00+00:00",
          "2022-12-22T00:00:00+00:00",
          "2022-12-23T00:00:00+00:00",
          "2022-12-24T00:00:00+00:00",
          "2022-12-25T00:00:00+00:00",
          "2022-12-26T00:00:00+00:00",
          "2022-12-27T00:00:00+00:00",
          "2022-12-28T00:00:00+00:00",
          "2022-12-29T00:00:00+00:00",
          "2022-12-30T00:00:00+00:00",
          "2022-12-31T00:00:00+00:00",
          "2023-01-01T00:00:00+00:00",
          "2023-01-02T00:00:00+00:00",
          "2023-01-03T00:00:00+00:00",
          "2023-01-04T00:00:00+00:00",
          "2023-01-05T00:00:00+00:00",
          "2023-01-06T00:00:00+00:00",
          "2023-01-07T00:00:00+00:00",
          "2023-01-08T00:00:00+00:00",
          "2023-01-09T00:00:00+00:00",
          "2023-01-10T00:00:00+00:00",
          "2023-01-11T00:00:00+00:00",
          "2023-01-12T00:00:00+00:00",
          "2023-01-13T00:00:00+00:00",
          "2023-01-14T00:00:00+00:00",
          "2023-01-15T00:00:00+00:00",
          "2023-01-16T00:00:00+00:00",
          "2023-01-17T00:00:00+00:00",
          "2023-01-18T00:00:00+00:00",
          "2023-01-19T00:00:00+00:00",
          "2023-01-20T00:00:00+00:00",
          "2023-01-21T00:00:00+00:00",
          "2023-01-22T00:00:00+00:00",
          "2023-01-23T00:00:00+00:00",
          "2023-01-24T00:00:00+00:00",
          "2023-01-25T00:00:00+00:00",
          "2023-01-26T00:00:00+00:00",
          "2023-01-27T00:00:00+00:00",
          "2023-01-28T00:00:00+00:00",
          "2023-01-29T00:00:00+00:00",
          "2023-01-30T00:00:00+00:00",
          "2023-01-31T00:00:00+00:00",
          "2023-02-01T00:00:00+00:00",
          "2023-02-02T00:00:00+00:00",
          "2023-02-03T00:00:00+00:00",
          "2023-02-04T00:00:00+00:00",
          "2023-02-05T00:00:00+00:00",
          "2023-02-06T00:00:00+00:00",
          "2023-02-07T00:00:00+00:00",
          "2023-02-08T00:00:00+00:00",
          "2023-02-09T00:00:00+00:00",
          "2023-02-10T00:00:00+00:00",
          "2023-02-11T00:00:00+00:00",
          "2023-02-12T00:00:00+00:00",
          "2023-02-13T00:00:00+00:00",
          "2023-02-14T00:00:00+00:00",
          "2023-02-15T00:00:00+00:00",
          "2023-02-16T00:00:00+00:00",
          "2023-02-17T00:00:00+00:00",
          "2023-02-18T00:00:00+00:00",
          "2023-02-19T00:00:00+00:00",
          "2023-02-20T00:00:00+00:00",
          "2023-02-21T00:00:00+00:00",
          "2023-02-22T00:00:00+00:00",
          "2023-02-23T00:00:00+00:00",
          "2023-02-24T00:00:00+00:00",
          "2023-02-25T00:00:00+00:00",
          "2023-02-26T00:00:00+00:00",
          "2023-02-27T00:00:00+00:00",
          "2023-02-28T00:00:00+00:00",
          "2023-03-01T00:00:00+00:00",
          "2023-03-02T00:00:00+00:00",
          "2023-03-03T00:00:00+00:00",
          "2023-03-04T00:00:00+00:00",
          "2023-03-05T00:00:00+00:00",
          "2023-03-06T00:00:00+00:00",
          "2023-03-07T00:00:00+00:00",
          "2023-03-08T00:00:00+00:00",
          "2023-03-09T00:00:00+00:00",
          "2023-03-10T00:00:00+00:00",
          "2023-03-11T00:00:00+00:00",
          "2023-03-12T00:00:00+00:00",
          "2023-03-13T00:00:00+00:00",
          "2023-03-14T00:00:00+00:00",
          "2023-03-15T00:00:00+00:00",
          "2023-03-16T00:00:00+00:00",
          "2023-03-17T00:00:00+00:00",
          "2023-03-18T00:00:00+00:00",
          "2023-03-19T00:00:00+00:00",
          "2023-03-20T00:00:00+00:00",
          "2023-03-21T00:00:00+00:00",
          "2023-03-22T00:00:00+00:00",
          "2023-03-23T00:00:00+00:00",
          "2023-03-24T00:00:00+00:00",
          "2023-03-25T00:00:00+00:00",
          "2023-03-26T00:00:00+00:00",
          "2023-03-27T00:00:00+00:00",
          "2023-03-28T00:00:00+00:00",
          "2023-03-29T00:00:00+00:00",
          "2023-03-30T00:00:00+00:00",
          "2023-03-31T00:00:00+00:00",
          "2023-04-01T00:00:00+00:00",
          "2023-04-02T00:00:00+00:00",
          "2023-04-03T00:00:00+00:00",
          "2023-04-04T00:00:00+00:00",
          "2023-04-05T00:00:00+00:00",
          "2023-04-06T00:00:00+00:00",
          "2023-04-07T00:00:00+00:00",
          "2023-04-08T00:00:00+00:00",
          "2023-04-09T00:00:00+00:00",
          "2023-04-10T00:00:00+00:00",
          "2023-04-11T00:00:00+00:00",
          "2023-04-12T00:00:00+00:00",
          "2023-04-13T00:00:00+00:00",
          "2023-04-14T00:00:00+00:00",
          "2023-04-15T00:00:00+00:00",
          "2023-04-16T00:00:00+00:00",
          "2023-04-17T00:00:00+00:00",
          "2023-04-18T00:00:00+00:00",
          "2023-04-19T00:00:00+00:00",
          "2023-04-20T00:00:00+00:00",
          "2023-04-21T00:00:00+00:00",
          "2023-04-22T00:00:00+00:00",
          "2023-04-23T00:00:00+00:00",
          "2023-04-24T00:00:00+00:00",
          "2023-04-25T00:00:00+00:00",
          "2023-04-26T00:00:00+00:00",
          "2023-04-27T00:00:00+00:00",
          "2023-04-28T00:00:00+00:00",
          "2023-04-29T00:00:00+00:00",
          "2023-04-30T00:00:00+00:00",
          "2023-05-01T00:00:00+00:00",
          "2023-05-02T00:00:00+00:00",
          "2023-05-03T00:00:00+00:00",
          "2023-05-04T00:00:00+00:00",
          "2023-05-05T00:00:00+00:00",
          "2023-05-06T00:00:00+00:00",
          "2023-05-07T00:00:00+00:00",
          "2023-05-08T00:00:00+00:00",
          "2023-05-09T00:00:00+00:00",
          "2023-05-10T00:00:00+00:00",
          "2023-05-11T00:00:00+00:00",
          "2023-05-12T00:00:00+00:00",
          "2023-05-13T00:00:00+00:00",
          "2023-05-14T00:00:00+00:00",
          "2023-05-15T00:00:00+00:00",
          "2023-05-16T00:00:00+00:00",
          "2023-05-17T00:00:00+00:00",
          "2023-05-18T00:00:00+00:00",
          "2023-05-19T00:00:00+00:00",
          "2023-05-20T00:00:00+00:00",
          "2023-05-21T00:00:00+00:00",
          "2023-05-22T00:00:00+00:00",
          "2023-05-23T00:00:00+00:00",
          "2023-05-24T00:00:00+00:00",
          "2023-05-25T00:00:00+00:00",
          "2023-05-26T00:00:00+00:00",
          "2023-05-27T00:00:00+00:00",
          "2023-05-28T00:00:00+00:00",
          "2023-05-29T00:00:00+00:00",
          "2023-05-30T00:00:00+00:00",
          "2023-05-31T00:00:00+00:00",
          "2023-06-01T00:00:00+00:00",
          "2023-06-02T00:00:00+00:00",
          "2023-06-03T00:00:00+00:00",
          "2023-06-04T00:00:00+00:00",
          "2023-06-05T00:00:00+00:00",
          "2023-06-06T00:00:00+00:00",
          "2023-06-07T00:00:00+00:00",
          "2023-06-08T00:00:00+00:00",
          "2023-06-09T00:00:00+00:00",
          "2023-06-10T00:00:00+00:00",
          "2023-06-11T00:00:00+00:00",
          "2023-06-12T00:00:00+00:00",
          "2023-06-13T00:00:00+00:00",
          "2023-06-14T00:00:00+00:00",
          "2023-06-15T00:00:00+00:00",
          "2023-06-16T00:00:00+00:00",
          "2023-06-17T00:00:00+00:00",
          "2023-06-18T00:00:00+00:00",
          "2023-06-19T00:00:00+00:00",
          "2023-06-20T00:00:00+00:00",
          "2023-06-21T00:00:00+00:00",
          "2023-06-22T00:00:00+00:00",
          "2023-06-23T00:00:00+00:00",
          "2023-06-24T00:00:00+00:00",
          "2023-06-25T00:00:00+00:00",
          "2023-06-26T00:00:00+00:00",
          "2023-06-27T00:00:00+00:00",
          "2023-06-28T00:00:00+00:00",
          "2023-06-29T00:00:00+00:00",
          "2023-06-30T00:00:00+00:00",
          "2023-07-01T00:00:00+00:00",
          "2023-07-02T00:00:00+00:00",
          "2023-07-03T00:00:00+00:00",
          "2023-07-04T00:00:00+00:00",
          "2023-07-05T00:00:00+00:00",
          "2023-07-06T00:00:00+00:00",
          "2023-07-07T00:00:00+00:00",
          "2023-07-08T00:00:00+00:00",
          "2023-07-09T00:00:00+00:00",
          "2023-07-10T00:00:00+00:00",
          "2023-07-11T00:00:00+00:00",
          "2023-07-12T00:00:00+00:00",
          "2023-07-13T00:00:00+00:00",
          "2023-07-14T00:00:00+00:00",
          "2023-07-15T00:00:00+00:00",
          "2023-07-16T00:00:00+00:00",
          "2023-07-17T00:00:00+00:00",
          "2023-07-18T00:00:00+00:00",
          "2023-07-19T00:00:00+00:00",
          "2023-07-20T00:00:00+00:00",
          "2023-07-21T00:00:00+00:00",
          "2023-07-22T00:00:00+00:00",
          "2023-07-23T00:00:00+00:00",
          "2023-07-24T00:00:00+00:00",
          "2023-07-25T00:00:00+00:00",
          "2023-07-26T00:00:00+00:00",
          "2023-07-27T00:00:00+00:00",
          "2023-07-28T00:00:00+00:00",
          "2023-07-29T00:00:00+00:00",
          "2023-07-30T00:00:00+00:00",
          "2023-07-31T00:00:00+00:00",
          "2023-08-01T00:00:00+00:00",
          "2023-08-02T00:00:00+00:00",
          "2023-08-03T00:00:00+00:00",
          "2023-08-04T00:00:00+00:00",
          "2023-08-05T00:00:00+00:00",
          "2023-08-06T00:00:00+00:00",
          "2023-08-07T00:00:00+00:00",
          "2023-08-08T00:00:00+00:00",
          "2023-08-09T00:00:00+00:00",
          "2023-08-10T00:00:00+00:00",
          "2023-08-11T00:00:00+00:00",
          "2023-08-12T00:00:00+00:00",
          "2023-08-13T00:00:00+00:00",
          "2023-08-14T00:00:00+00:00",
          "2023-08-15T00:00:00+00:00",
          "2023-08-16T00:00:00+00:00",
          "2023-08-17T00:00:00+00:00",
          "2023-08-18T00:00:00+00:00",
          "2023-08-19T00:00:00+00:00",
          "2023-08-20T00:00:00+00:00",
          "2023-08-21T00:00:00+00:00",
          "2023-08-22T00:00:00+00:00",
          "2023-08-23T00:00:00+00:00",
          "2023-08-24T00:00:00+00:00",
          "2023-08-25T00:00:00+00:00",
          "2023-08-26T00:00:00+00:00",
          "2023-08-27T00:00:00+00:00",
          "2023-08-28T00:00:00+00:00",
          "2023-08-29T00:00:00+00:00",
          "2023-08-30T00:00:00+00:00",
          "2023-08-31T00:00:00+00:00",
          "2023-09-01T00:00:00+00:00",
          "2023-09-02T00:00:00+00:00",
          "2023-09-03T00:00:00+00:00",
          "2023-09-04T00:00:00+00:00",
          "2023-09-05T00:00:00+00:00",
          "2023-09-06T00:00:00+00:00",
          "2023-09-07T00:00:00+00:00",
          "2023-09-08T00:00:00+00:00",
          "2023-09-09T00:00:00+00:00",
          "2023-09-10T00:00:00+00:00",
          "2023-09-11T00:00:00+00:00",
          "2023-09-12T00:00:00+00:00",
          "2023-09-13T00:00:00+00:00",
          "2023-09-14T00:00:00+00:00",
          "2023-09-15T00:00:00+00:00",
          "2023-09-16T00:00:00+00:00",
          "2023-09-17T00:00:00+00:00",
          "2023-09-18T00:00:00+00:00",
          "2023-09-19T00:00:00+00:00",
          "2023-09-20T00:00:00+00:00",
          "2023-09-21T00:00:00+00:00",
          "2023-09-22T00:00:00+00:00",
          "2023-09-23T00:00:00+00:00",
          "2023-09-24T00:00:00+00:00",
          "2023-09-25T00:00:00+00:00",
          "2023-09-26T00:00:00+00:00",
          "2023-09-27T00:00:00+00:00",
          "2023-09-28T00:00:00+00:00",
          "2023-09-29T00:00:00+00:00",
          "2023-09-30T00:00:00+00:00",
          "2023-10-01T00:00:00+00:00",
          "2023-10-02T00:00:00+00:00",
          "2023-10-03T00:00:00+00:00",
          "2023-10-04T00:00:00+00:00",
          "2023-10-05T00:00:00+00:00",
          "2023-10-06T00:00:00+00:00",
          "2023-10-07T00:00:00+00:00",
          "2023-10-08T00:00:00+00:00",
          "2023-10-09T00:00:00+00:00",
          "2023-10-10T00:00:00+00:00",
          "2023-10-11T00:00:00+00:00",
          "2023-10-12T00:00:00+00:00",
          "2023-10-13T00:00:00+00:00",
          "2023-10-14T00:00:00+00:00",
          "2023-10-15T00:00:00+00:00",
          "2023-10-16T00:00:00+00:00",
          "2023-10-17T00:00:00+00:00",
          "2023-10-18T00:00:00+00:00",
          "2023-10-19T00:00:00+00:00",
          "2023-10-20T00:00:00+00:00",
          "2023-10-21T00:00:00+00:00",
          "2023-10-22T00:00:00+00:00",
          "2023-10-23T00:00:00+00:00",
          "2023-10-24T00:00:00+00:00",
          "2023-10-25T00:00:00+00:00",
          "2023-10-26T00:00:00+00:00",
          "2023-10-27T00:00:00+00:00",
          "2023-10-28T00:00:00+00:00",
          "2023-10-29T00:00:00+00:00",
          "2023-10-30T00:00:00+00:00",
          "2023-10-31T00:00:00+00:00",
          "2023-11-01T00:00:00+00:00",
          "2023-11-02T00:00:00+00:00",
          "2023-11-03T00:00:00+00:00",
          "2023-11-04T00:00:00+00:00",
          "2023-11-05T00:00:00+00:00",
          "2023-11-06T00:00:00+00:00",
          "2023-11-07T00:00:00+00:00",
          "2023-11-08T00:00:00+00:00",
          "2023-11-09T00:00:00+00:00",
          "2023-11-10T00:00:00+00:00",
          "2023-11-11T00:00:00+00:00",
          "2023-11-12T00:00:00+00:00",
          "2023-11-13T00:00:00+00:00",
          "2023-11-14T00:00:00+00:00",
          "2023-11-15T00:00:00+00:00",
          "2023-11-16T00:00:00+00:00",
          "2023-11-17T00:00:00+00:00",
          "2023-11-18T00:00:00+00:00",
          "2023-11-19T00:00:00+00:00",
          "2023-11-20T00:00:00+00:00",
          "2023-11-21T00:00:00+00:00",
          "2023-11-22T00:00:00+00:00",
          "2023-11-23T00:00:00+00:00",
          "2023-11-24T00:00:00+00:00",
          "2023-11-25T00:00:00+00:00",
          "2023-11-26T00:00:00+00:00",
          "2023-11-27T00:00:00+00:00",
          "2023-11-28T00:00:00+00:00",
          "2023-11-29T00:00:00+00:00",
          "2023-11-30T00:00:00+00:00",
          "2023-12-01T00:00:00+00:00",
          "2023-12-02T00:00:00+00:00",
          "2023-12-03T00:00:00+00:00",
          "2023-12-04T00:00:00+00:00",
          "2023-12-05T00:00:00+00:00",
          "2023-12-06T00:00:00+00:00",
          "2023-12-07T00:00:00+00:00",
          "2023-12-08T00:00:00+00:00",
          "2023-12-09T00:00:00+00:00",
          "2023-12-10T00:00:00+00:00",
          "2023-12-11T00:00:00+00:00",
          "2023-12-12T00:00:00+00:00",
          "2023-12-13T00:00:00+00:00",
          "2023-12-14T00:00:00+00:00",
          "2023-12-15T00:00:00+00:00",
          "2023-12-16T00:00:00+00:00",
          "2023-12-17T00:00:00+00:00",
          "2023-12-18T00:00:00+00:00",
          "2023-12-19T00:00:00+00:00",
          "2023-12-20T00:00:00+00:00",
          "2023-12-21T00:00:00+00:00",
          "2023-12-22T00:00:00+00:00",
          "2023-12-23T00:00:00+00:00",
          "2023-12-24T00:00:00+00:00",
          "2023-12-25T00:00:00+00:00",
          "2023-12-26T00:00:00+00:00",
          "2023-12-27T00:00:00+00:00",
          "2023-12-28T00:00:00+00:00",
          "2023-12-29T00:00:00+00:00",
          "2023-12-30T00:00:00+00:00",
          "2023-12-31T00:00:00+00:00",
          "2024-01-01T00:00:00+00:00",
          "2024-01-02T00:00:00+00:00",
          "2024-01-03T00:00:00+00:00",
          "2024-01-04T00:00:00+00:00",
          "2024-01-05T00:00:00+00:00",
          "2024-01-06T00:00:00+00:00",
          "2024-01-07T00:00:00+00:00",
          "2024-01-08T00:00:00+00:00",
          "2024-01-09T00:00:00+00:00",
          "2024-01-10T00:00:00+00:00",
          "2024-01-11T00:00:00+00:00",
          "2024-01-12T00:00:00+00:00",
          "2024-01-13T00:00:00+00:00",
          "2024-01-14T00:00:00+00:00",
          "2024-01-15T00:00:00+00:00",
          "2024-01-16T00:00:00+00:00"
         ],
         "xaxis": "x",
         "y": [
          6.606060606060606,
          7.6415094339622645,
          6.905882352941177,
          7,
          7.1477272727272725,
          6.7105263157894735,
          7.1395348837209305,
          6.953488372093023,
          7.137096774193548,
          7.166666666666667,
          7.2615384615384615,
          8.182692307692308,
          7.526785714285714,
          6.969387755102041,
          7.7407407407407405,
          6.619047619047619,
          6.729166666666667,
          6.949367088607595,
          7.371134020618556,
          7.39622641509434,
          7.042553191489362,
          7.427083333333333,
          7.787234042553192,
          7.0476190476190474,
          6.984848484848484,
          7.975409836065574,
          7.493975903614458,
          7.459183673469388,
          7.257425742574258,
          8.339285714285714,
          7,
          6.9480519480519485,
          8.573033707865168,
          6.783333333333333,
          7.333333333333333,
          7.381818181818182,
          7.745283018867925,
          8,
          7.254716981132075,
          7.6767676767676765,
          7.287128712871287,
          7.982758620689655,
          7.677083333333333,
          6.98876404494382,
          6.8354430379746836,
          7.64935064935065,
          7.495652173913044,
          7.382113821138211,
          7.0602409638554215,
          8.04040404040404,
          6.95,
          7.785714285714286,
          7.336734693877551,
          7.72463768115942,
          7.885245901639344,
          7.481132075471698,
          7.425531914893617,
          7.43956043956044,
          6.940298507462686,
          7.511627906976744,
          7.4245283018867925,
          7.027777777777778,
          7.78125,
          7.573033707865169,
          7.2,
          7.271428571428571,
          7.757281553398058,
          7.024390243902439,
          8.104166666666666,
          7.754098360655738,
          7.036697247706422,
          7.150442477876106,
          7.90625,
          7.6,
          7.7924528301886795,
          7.895238095238096,
          7.245762711864407,
          7.402777777777778,
          7.386363636363637,
          7.068627450980392,
          7.457943925233645,
          7.494623655913978,
          7.230769230769231,
          7.245901639344262,
          7.468354430379747,
          7.687022900763359,
          8.336283185840708,
          7.71578947368421,
          7.127906976744186,
          7.463157894736842,
          7.337209302325581,
          7.547826086956522,
          7.081081081081081,
          6.5,
          7.317073170731708,
          7.74,
          7.412280701754386,
          6.738095238095238,
          7.103448275862069,
          7.61,
          7.389473684210526,
          6.821782178217822,
          6.891566265060241,
          6.5131578947368425,
          7.14,
          7.268041237113402,
          7.022556390977444,
          7.268817204301075,
          7.4,
          6.7631578947368425,
          7.617977528089888,
          7.78030303030303,
          7.651162790697675,
          6.052631578947368,
          7.3604651162790695,
          6.695121951219512,
          7.822784810126582,
          7.027777777777778,
          7.222222222222222,
          8.063829787234043,
          6.75,
          7.0978260869565215,
          7.193548387096774,
          7.204819277108434,
          7.442105263157894,
          7.411290322580645,
          6.666666666666667,
          6.733333333333333,
          7.886792452830188,
          7,
          6.635294117647059,
          6.261904761904762,
          6.506329113924051,
          6.783333333333333,
          7.594594594594595,
          7.851485148514851,
          7.860759493670886,
          7.917910447761194,
          7.625,
          7.303571428571429,
          7.75,
          7.902777777777778,
          7.745614035087719,
          7.730769230769231,
          6.741176470588235,
          7.260416666666667,
          6.826666666666667,
          7.3119266055045875,
          6.881720430107527,
          7.070588235294117,
          7.8125,
          7.112359550561798,
          8.353535353535353,
          7.044444444444444,
          7.2153846153846155,
          6.882352941176471,
          6.651162790697675,
          8.325842696629213,
          7.211764705882353,
          6.642857142857143,
          7.08080808080808,
          7.581196581196581,
          7.365853658536586,
          7.704081632653061,
          8.776859504132231,
          7.848214285714286,
          6.861111111111111,
          6.905405405405405,
          7.198347107438017,
          7.084905660377358,
          7.655555555555556,
          7.290697674418604,
          7.5,
          7.512820512820513,
          8.016666666666667,
          6.428571428571429,
          7.073770491803279,
          8.068627450980392,
          6.586666666666667,
          7.352112676056338,
          7.266666666666667,
          6.5504587155963305,
          7.957894736842105,
          7.243697478991597,
          7.7101449275362315,
          7.122222222222222,
          7.851851851851852,
          6.675,
          6.761904761904762,
          6.51063829787234,
          7.215827338129497,
          7.203883495145631,
          7.53,
          8.010309278350515,
          5.985294117647059,
          8.210084033613445,
          7.72,
          7.387931034482759,
          6.522388059701493,
          7.720588235294118,
          6.835616438356165,
          7.815533980582524,
          6.886075949367089,
          8.317073170731707,
          6.906976744186046,
          7.759036144578313,
          7.33,
          8.26923076923077,
          7.340909090909091,
          7.052631578947368,
          7.301204819277109,
          7.604651162790698,
          6.40566037735849,
          7.420168067226891,
          7.475247524752476,
          6.2388059701492535,
          7.0675675675675675,
          7.284090909090909,
          6.933884297520661,
          7.923728813559322,
          7.176470588235294,
          8.262626262626263,
          8.439252336448599,
          7.576271186440678,
          6.712871287128713,
          7.67,
          8.064935064935066,
          7.486725663716814,
          7.844036697247707,
          8.21551724137931,
          5.745098039215686,
          7.794117647058823,
          7.917525773195877,
          6.956989247311828,
          7.055555555555555,
          7.427083333333333,
          6.65934065934066,
          7.261904761904762,
          6.970873786407767,
          8.142857142857142,
          7.261682242990654,
          7.896103896103896,
          6.904255319148936,
          7.559633027522936,
          7.478632478632479,
          8.220930232558139,
          6.703703703703703,
          7.671875,
          7.426573426573427,
          7.218390804597701,
          7.134146341463414,
          7.185567010309279,
          7.4361702127659575,
          7.388349514563107,
          7.775510204081633,
          6.857142857142857,
          7.875,
          7.037974683544304,
          6.952755905511811,
          7.4655172413793105,
          7.047058823529412,
          7.276595744680851,
          7.011494252873563,
          6.5675675675675675,
          6.959349593495935,
          7.262711864406779,
          6.03030303030303,
          7.704081632653061,
          6.882352941176471,
          7.947368421052632,
          8.6,
          7.592105263157895,
          6.669354838709677,
          6.802083333333333,
          7.263736263736264,
          7.821782178217822,
          7.337209302325581,
          7.455357142857143,
          6.980769230769231,
          7.21875,
          6.939024390243903,
          7.598039215686274,
          7.814432989690721,
          6.876404494382022,
          7.245098039215686,
          7.56701030927835,
          6.811111111111111,
          7.480392156862745,
          7.657894736842105,
          8.205607476635514,
          6.275,
          7.535433070866142,
          7.581632653061225,
          7.615384615384615,
          7.666666666666667,
          6.359223300970874,
          6.848101265822785,
          6.542553191489362,
          8.318965517241379,
          7.220183486238532,
          6.9423076923076925,
          7.932038834951456,
          7.129310344827586,
          6.903225806451613,
          7.061538461538461,
          7.071428571428571,
          7.841121495327103,
          6.517241379310345,
          6.892857142857143,
          7.03125,
          7.6461538461538465,
          7.529411764705882,
          7.157303370786517,
          8.13768115942029,
          7.978021978021978,
          7.481927710843373,
          6.674157303370786,
          7.27027027027027,
          7.274725274725275,
          7.312,
          7.568965517241379,
          6.549450549450549,
          7.72972972972973,
          6.952941176470588,
          7.937984496124031,
          7.05,
          7.959183673469388,
          7.454545454545454,
          7.011494252873563,
          7.246031746031746,
          7.925373134328358,
          7.825242718446602,
          8.18705035971223,
          7.268041237113402,
          7.434343434343434,
          7.494845360824742,
          7.53932584269663,
          7.194444444444445,
          7.970588235294118,
          7.670103092783505,
          7.202127659574468,
          6.439024390243903,
          6.655913978494624,
          6.904109589041096,
          6.775,
          7.402061855670103,
          6.730337078651686,
          6.409638554216867,
          9.177215189873417,
          7.521739130434782,
          7.378378378378378,
          7.164835164835165,
          6.776699029126213,
          7.098765432098766,
          6.696629213483146,
          6.745283018867925,
          7.2,
          7.2075471698113205,
          6.6521739130434785,
          7.702127659574468,
          7.389830508474576,
          7.481481481481482,
          6.802197802197802,
          7.778761061946903,
          7.685393258426966,
          7.872881355932203,
          7.9784172661870505,
          7.0964912280701755,
          7.720338983050848,
          6.885714285714286,
          8.21551724137931,
          7.066115702479339,
          6.794117647058823,
          7.5625,
          7.23404255319149,
          7,
          7.223529411764706,
          7.603960396039604,
          6.945054945054945,
          7.045045045045045,
          6.825688073394495,
          6.8133333333333335,
          7.108695652173913,
          7.6371681415929205,
          7.150442477876106,
          7.803571428571429,
          6.428571428571429,
          6.622448979591836,
          7.472,
          6.904109589041096,
          7.2682926829268295,
          8.462264150943396,
          7.517857142857143,
          6.970149253731344,
          6.701030927835052,
          6.931818181818182,
          7.379032258064516,
          6.894736842105263,
          7.8,
          6.827868852459017,
          6.673913043478261,
          6.697916666666667,
          6.788135593220339,
          7.020408163265306,
          7.341176470588235,
          7.2,
          6.766666666666667,
          6.915966386554622,
          7.512396694214876,
          7.157303370786517,
          7.7534246575342465,
          7.285714285714286,
          7.588235294117647,
          7.258426966292135,
          7.611111111111111,
          6.841463414634147,
          6.87012987012987,
          6.554054054054054,
          7.833333333333333,
          7.654205607476635,
          7.008196721311475,
          7.827160493827161,
          7.320987654320987,
          6.965909090909091,
          7.247191011235955,
          7.944444444444445,
          7.745454545454545,
          7.044444444444444,
          6.609375,
          6.52,
          7.642857142857143,
          7.698924731182796,
          7.054347826086956,
          7.516129032258065,
          7.430769230769231,
          7.398148148148148,
          7.201834862385321,
          7.275862068965517,
          7.295918367346939,
          7.17,
          7.408163265306122,
          7.172839506172839,
          8.27659574468085,
          6.932203389830509,
          7.261363636363637,
          7.721649484536083,
          7.576923076923077,
          7.190476190476191,
          7.496240601503759,
          7.146788990825688,
          7.025,
          7.3625,
          7.042553191489362,
          7.252525252525253,
          7.224,
          7.269230769230769,
          6.548780487804878,
          7.2298850574712645,
          7.290697674418604,
          7.534883720930233,
          7.9491525423728815,
          7.082474226804123,
          6.4411764705882355,
          6.8558558558558556,
          6.736263736263736,
          7.786764705882353,
          7.142857142857143,
          8.008620689655173,
          7.15,
          7.793814432989691,
          7.113924050632911,
          7.208333333333333,
          7.309278350515464,
          7.52112676056338,
          6.623529411764705,
          8.238938053097344,
          6.79646017699115,
          7.542553191489362,
          7.333333333333333,
          7.189473684210526,
          7.112903225806452,
          7.444444444444445,
          6.96969696969697,
          7.066666666666666,
          7.104761904761904,
          7.742268041237113,
          6.450704225352113,
          6.982758620689655,
          6.791208791208791,
          7.113636363636363,
          6.723809523809524,
          7.524390243902439,
          7.021739130434782,
          8.125,
          7.01,
          7.8686868686868685,
          7.353982300884955,
          7.635416666666667,
          7.671428571428572,
          6.029411764705882,
          7.122448979591836,
          7.4,
          8.078125,
          7.162790697674419,
          7.09,
          7.6422018348623855,
          7.204081632653061,
          7.164948453608248,
          7.135135135135135,
          7.327102803738318,
          7.669724770642202,
          7.377049180327869,
          6.708333333333333,
          7.906666666666666,
          7.431034482758621,
          7.504761904761905,
          6.717391304347826,
          7.723684210526316,
          7.044444444444444,
          7.049180327868853,
          6.293333333333333,
          7.376344086021505,
          7.308510638297872,
          7.107142857142857,
          8.216981132075471,
          7.601941747572815,
          6.644736842105263,
          6.783783783783784,
          6.619047619047619,
          7.680851063829787,
          6.686746987951807,
          7.346153846153846,
          7.67,
          7.655913978494624,
          6.891304347826087,
          7.141304347826087,
          7.568627450980392,
          7.458333333333333,
          7.579710144927536,
          6.894117647058824,
          6.884615384615385,
          6.393258426966292,
          7.5125,
          7.798076923076923,
          7.069767441860465,
          6.714285714285714,
          7.4,
          6.25,
          7.766233766233766,
          7.903225806451613,
          7.5,
          8.00943396226415,
          6.735849056603773,
          7.158536585365853,
          8.086206896551724,
          6.902439024390244,
          6.408450704225352,
          7.491379310344827,
          6.9405940594059405,
          7.329670329670329,
          7.802083333333333,
          7.380434782608695,
          6.260869565217392,
          7.846625766871166,
          7.058252427184466,
          7.021052631578947,
          8.273504273504274,
          7.287234042553192,
          7.741573033707865,
          7.485714285714286,
          6.619718309859155,
          7.353535353535354,
          7.842592592592593,
          7.024096385542169,
          7.655172413793103,
          7.655913978494624,
          7.839506172839506,
          7.691489361702128,
          7.595505617977528,
          7.5476190476190474,
          8.057471264367816,
          7.304,
          6.894736842105263,
          7.476190476190476,
          7.9361702127659575,
          7.285714285714286,
          7.2727272727272725,
          6.3,
          7.481012658227848,
          7.050420168067227,
          6.974683544303797,
          7.380434782608695,
          7.136,
          6.848837209302325,
          7.617647058823529,
          7.188888888888889,
          7.846153846153846,
          8.130434782608695,
          6.646341463414634,
          7.4,
          7.7,
          6.672413793103448,
          7.12987012987013,
          6.428571428571429,
          6.776470588235294,
          6.8088235294117645,
          7.522935779816514,
          7.128205128205129,
          7.3,
          6.876288659793815,
          6.647540983606557,
          7.77027027027027,
          7.314606741573034,
          7.39,
          7.15,
          7.193548387096774,
          7.528455284552845,
          7.613207547169812,
          7.371428571428571,
          7.878260869565217,
          7.3238095238095235,
          6.902912621359223,
          7.382978723404255,
          7.7272727272727275,
          7.735632183908046,
          7.569230769230769,
          7,
          7.454545454545454,
          7.353982300884955,
          6.4941176470588236,
          6.75,
          7.5508474576271185,
          7.419354838709677,
          7.03,
          8.03061224489796,
          7.126050420168068,
          7,
          8.38888888888889,
          6.505747126436781,
          7.867768595041323,
          8.195876288659793,
          6.81,
          7.2592592592592595,
          7.280898876404494,
          7.387755102040816,
          6.368421052631579,
          7.890909090909091,
          6.772151898734177,
          6.375,
          7.433628318584071,
          7.3076923076923075,
          7.319148936170213,
          7.344444444444444,
          7.4375,
          6.56,
          6.767241379310345,
          6.586956521739131,
          7.371428571428571,
          6.755905511811024,
          7.4,
          7.271929824561403,
          6.922330097087379,
          7.589743589743589,
          7.347222222222222,
          7.522123893805309,
          6.910112359550562,
          7.783783783783784,
          6.611111111111111,
          7.737864077669903,
          7.549295774647887,
          6.9787234042553195,
          7.260416666666667,
          6.739130434782608,
          6.195121951219512,
          6.865853658536586,
          8.222222222222221,
          7.325581395348837,
          6.777777777777778,
          7.057142857142857,
          7.194444444444445,
          7.654205607476635,
          8.094827586206897,
          6.890756302521009,
          7.076923076923077,
          7.621848739495798,
          7.71578947368421,
          6.573333333333333,
          7.530864197530864,
          7.7190082644628095,
          7.24,
          7.884615384615385,
          7.650602409638554,
          7.425531914893617,
          6.384615384615385,
          7.178217821782178,
          7.7657657657657655,
          6.295918367346939,
          7.295454545454546,
          6.6231884057971016,
          7.472727272727273,
          7.657894736842105,
          7.064102564102564,
          6.88135593220339,
          7.742574257425742,
          8.237113402061855,
          7.162162162162162,
          7.244897959183674,
          7.9296875,
          7.516483516483516,
          7.821705426356589,
          6.890410958904109,
          6.989690721649485,
          7.9818181818181815,
          6.594936708860759,
          5.9714285714285715,
          6.451219512195122,
          7.245283018867925,
          8.153846153846153,
          7.7727272727272725,
          7.026315789473684,
          8.294117647058824,
          6.722222222222222,
          6.757281553398058,
          6.445945945945946,
          7.176991150442478,
          7.49438202247191,
          8.11965811965812,
          7.724489795918367,
          6.822916666666667,
          6.7153846153846155,
          6.956989247311828,
          6.909836065573771,
          7.787878787878788,
          6.678260869565217,
          7.142857142857143,
          7.576923076923077,
          8.081632653061224,
          7.28,
          8.280373831775702,
          6.921348314606742,
          7.026666666666666,
          6.71,
          7.6,
          6.8023255813953485,
          7,
          8.11320754716981,
          7.64,
          7.464285714285714,
          7.183098591549296,
          7.588235294117647,
          6.901234567901234,
          8.233009708737864,
          6.689655172413793,
          7.8734177215189876,
          7.009174311926605,
          7.580246913580247,
          6.2727272727272725,
          7.102941176470588,
          6.8936170212765955,
          6.952830188679245,
          6.391304347826087,
          6.552631578947368,
          6.71,
          8.00952380952381,
          7.028169014084507,
          7.011627906976744,
          6.827956989247312,
          7.1022727272727275,
          7.239130434782608,
          7.4338235294117645,
          7.5,
          6.714285714285714,
          7.326315789473684,
          6.734177215189874,
          6.571428571428571,
          7.214285714285714,
          7.184873949579832,
          7.08411214953271,
          7.762376237623762,
          8.316326530612244,
          6.903846153846154,
          7.211538461538462,
          7.815533980582524,
          6.911764705882353,
          7.95,
          6.878787878787879,
          7.336842105263158,
          7.352941176470588,
          7.275862068965517,
          7.111111111111111,
          7.6477272727272725,
          7.408,
          7.155038759689923,
          7.417721518987341,
          6.927272727272728,
          7.4036697247706424,
          6.872093023255814,
          6.796116504854369,
          7.495412844036697,
          6.778846153846154,
          7.194805194805195,
          7.086956521739131,
          6.621621621621622,
          7.5210084033613445,
          6.274193548387097,
          6.981308411214953,
          7.01123595505618,
          6.445378151260504,
          7.760416666666667,
          6.453333333333333,
          6.753623188405797,
          7.380952380952381,
          7.4363636363636365,
          6.987654320987654,
          7.6796875,
          7.537190082644628,
          7.276923076923077,
          6.833333333333333,
          7.579545454545454,
          7.7555555555555555,
          7.779220779220779,
          6.653333333333333,
          7.456521739130435,
          7.016393442622951,
          6.75,
          6.695652173913044,
          6.702127659574468,
          7.556701030927835,
          6.942857142857143,
          7.947368421052632,
          7.9480519480519485,
          7.361111111111111,
          7.897637795275591,
          6.8059701492537314,
          6.989795918367347,
          7.88,
          8.03225806451613,
          6.408602150537634,
          7.330275229357798,
          7.519607843137255,
          6.866666666666666,
          7.818181818181818,
          7.723214285714286,
          6.747967479674797,
          7.283950617283951,
          7.254716981132075,
          7.73469387755102,
          7.657657657657658,
          7.662337662337662,
          7.242105263157895,
          7.274725274725275,
          7.192660550458716,
          7.513274336283186,
          6.469879518072289,
          6.745098039215686,
          6.953846153846154,
          6.308411214953271,
          7.119402985074627,
          8.11111111111111,
          7.285714285714286,
          8.380952380952381,
          7.103896103896104,
          6.990825688073395,
          7.1125,
          6.631578947368421,
          7,
          6.3619047619047615,
          7.283783783783784,
          7.526315789473684,
          7.373626373626373,
          7.6521739130434785,
          5.867469879518072,
          7.430379746835443,
          6.534090909090909,
          7.932773109243698,
          6.5476190476190474,
          7.258928571428571,
          7.37719298245614,
          7.419642857142857,
          7.457142857142857,
          6.394736842105263,
          7.757575757575758,
          7.317647058823529,
          7.144578313253012,
          6.931034482758621,
          6.949367088607595,
          7.142857142857143,
          6.535087719298246,
          6.9714285714285715,
          7.540229885057471,
          7.607142857142857,
          7,
          7.801980198019802,
          6.923076923076923,
          6.87378640776699,
          7.531914893617022,
          7.53932584269663,
          7.465909090909091,
          8.163793103448276,
          7.882352941176471,
          7.785123966942149,
          6.903225806451613,
          7.705128205128205,
          7.387387387387387,
          7.2,
          6.432098765432099,
          7.43298969072165,
          7.414141414141414,
          7.099099099099099,
          7.966666666666667,
          7.803921568627451,
          6.672131147540983,
          7.258620689655173,
          7.2272727272727275,
          7.5673076923076925,
          7.376623376623376,
          6.808988764044944,
          7,
          6.9375,
          7.406976744186046,
          7.825581395348837,
          7.395061728395062,
          7.213483146067416,
          7.026315789473684,
          7.352941176470588,
          7.333333333333333,
          7.287356321839081,
          6.538461538461538,
          7.421052631578948,
          7.714285714285714,
          7.805555555555555,
          7.5,
          7.151162790697675,
          7.280373831775701,
          7.161538461538462,
          7.9914529914529915,
          7.3882352941176475,
          6.152941176470589,
          7.798507462686567,
          7.141176470588236,
          6.774647887323944,
          7.6422018348623855,
          7.01,
          6.8734177215189876,
          7.72972972972973,
          7.83,
          8.092592592592593,
          7.909090909090909,
          7.346153846153846,
          7.537313432835821,
          7.708333333333333,
          7.068181818181818,
          6.46969696969697,
          6.930232558139535,
          7.504854368932039,
          6.685714285714286,
          7.962121212121212,
          7.75206611570248,
          7.081081081081081,
          6.745454545454545,
          6.630952380952381,
          6.073684210526316,
          7.405797101449275,
          6.153846153846154,
          6.37,
          7.052083333333333,
          7.872340425531915,
          6.4021739130434785,
          7.116883116883117,
          7.777777777777778,
          7.36,
          7.48,
          8.2,
          6.575342465753424,
          7.3119266055045875,
          7.65979381443299,
          6.909090909090909,
          6.240963855421687,
          6.065573770491803,
          7.157303370786517,
          6.73469387755102,
          7.185714285714286,
          7.2631578947368425,
          7.7125,
          7.813725490196078,
          6.6103896103896105,
          7.475728155339806,
          7.21,
          7.7317073170731705,
          7.262626262626263,
          6.413793103448276,
          7.945736434108527,
          7.049019607843137,
          8.300884955752212,
          8.35576923076923,
          6.96,
          8.7008547008547,
          6.73469387755102,
          7.077922077922078,
          7.548672566371682,
          6.868852459016393,
          7.5181818181818185,
          7.0701754385964914,
          7.775510204081633,
          7.105263157894737,
          7.256410256410256,
          7.5038167938931295,
          7.673469387755102,
          7.345679012345679,
          7,
          6.414634146341464,
          6.797752808988764,
          8.037735849056604,
          7.521739130434782,
          7.220338983050848,
          7.341463414634147,
          6.569620253164557,
          7.009433962264151,
          6.74468085106383,
          7.138297872340425,
          7.064220183486238,
          6.876288659793815,
          6.829545454545454,
          7.652482269503546,
          7.892156862745098,
          6.402985074626866,
          7.267716535433071,
          6.904109589041096,
          7.666666666666667,
          7.178217821782178,
          7.508064516129032,
          7.194444444444445,
          7.181818181818182,
          7.110169491525424,
          6.754901960784314,
          7.204545454545454,
          7.336734693877551,
          7.642857142857143,
          7.841463414634147,
          7.983333333333333,
          7.29,
          7.230088495575221,
          7.43859649122807,
          6.5813953488372094,
          7.253164556962025,
          6.930769230769231,
          6.472727272727273,
          6.838709677419355,
          6.989130434782608,
          7.304347826086956,
          7.447619047619048,
          7.554621848739496,
          7.585585585585585,
          6.34375,
          7.3931623931623935,
          7.947368421052632,
          7.923076923076923,
          7.471264367816092,
          6.655913978494624,
          7.294117647058823,
          6.906976744186046,
          6.565789473684211,
          6.8264462809917354,
          7.725274725274725,
          6.493827160493828,
          7.329896907216495,
          7.609523809523809,
          6.626373626373627,
          7.609756097560975,
          6.6,
          7.224299065420561,
          6.7727272727272725,
          7.191666666666666,
          7.686274509803922,
          7.438775510204081,
          7.45,
          6.691588785046729,
          7.92,
          7.32183908045977,
          7.5246913580246915,
          6.917525773195877,
          7.387387387387387,
          7.114035087719298,
          7.3561643835616435,
          7.094202898550725,
          6.283783783783784,
          6.52,
          7.764705882352941,
          8.288288288288289,
          7.75,
          7.37037037037037,
          6.931623931623932,
          8,
          7.797297297297297,
          7.121212121212121,
          6.64935064935065,
          6.669724770642202,
          6.895652173913043,
          8.489583333333334,
          7.414893617021277,
          6.835820895522388,
          8.416666666666666,
          7.8,
          7.572463768115942,
          7.074074074074074,
          7.214285714285714,
          6.882352941176471,
          7.246753246753247,
          6.383177570093458,
          8.73913043478261,
          6.739130434782608,
          8.227722772277227,
          7.472972972972973,
          6.978021978021978,
          8.107692307692307,
          6.905263157894737,
          7.586206896551724,
          8.025974025974026,
          7.398058252427185,
          7.953846153846154,
          6.734177215189874,
          6.762886597938144,
          7.0588235294117645,
          6.757575757575758,
          7.85,
          6.894736842105263,
          7.216867469879518,
          7.068965517241379,
          7.24,
          7.387096774193548,
          7.238938053097345,
          6.655172413793103,
          7.586666666666667,
          7.051546391752577,
          6.914285714285715,
          6.43859649122807,
          7.839285714285714,
          7.174757281553398,
          6.851063829787234,
          6.8,
          6.64935064935065,
          7.166666666666667,
          7.463157894736842,
          7.154545454545454,
          7.137254901960785,
          6.876190476190477,
          8.319148936170214,
          7.297520661157025,
          7.699029126213592,
          7.40625,
          7.469565217391304,
          6.366666666666666,
          6.86,
          6.7727272727272725,
          6.976923076923077,
          7.030612244897959,
          7.666666666666667,
          6.907801418439717,
          6.319444444444445,
          7.1066666666666665,
          7.565656565656566,
          7.107692307692307,
          6.75,
          6.21505376344086,
          6.547169811320755,
          7.518518518518518,
          7.459183673469388,
          7.793478260869565,
          7.779661016949152,
          8.321428571428571,
          7.768115942028985,
          6.790697674418604,
          6.283950617283951,
          6.681318681318682,
          8.03225806451613,
          7,
          7.285714285714286,
          6.655172413793103,
          7.27,
          7.225806451612903,
          6.933333333333334,
          6.416666666666667,
          8.108910891089108,
          7.5625,
          6.586666666666667,
          6.857142857142857,
          6.96969696969697,
          7.543689320388349,
          8.069306930693068,
          6.861386138613861,
          7.11340206185567,
          7.203389830508475,
          7.280898876404494,
          7.464912280701754,
          6.464285714285714,
          7.287128712871287,
          6.786666666666667,
          7.743119266055046,
          7.225806451612903,
          7.328947368421052,
          7.697916666666667,
          7.405405405405405,
          7.280487804878049,
          7.0246913580246915,
          7.077669902912621,
          7.6521739130434785,
          7.688679245283019,
          7,
          7.976190476190476,
          6.527027027027027,
          6.427272727272728,
          7.354838709677419,
          7.666666666666667,
          7.276595744680851,
          6.5479452054794525,
          6.837837837837838,
          8.1015625,
          6.4950495049504955,
          6.5625,
          7.323529411764706,
          7.08235294117647,
          7.184397163120567,
          7.144444444444445,
          6.865671641791045,
          7.702970297029703,
          7.879518072289157,
          8.034090909090908,
          7.5546875,
          7.717948717948718,
          7.474137931034483,
          7.028985507246377,
          7.681818181818182,
          7.669902912621359,
          6.8765432098765435,
          7.516483516483516,
          7,
          8.076190476190476,
          7.114942528735632,
          7.809523809523809,
          7.27906976744186,
          6.36734693877551,
          7.064935064935065,
          7.534653465346534,
          7.457943925233645,
          7.956521739130435,
          6.75,
          7.333333333333333,
          7.12,
          7.284313725490196,
          7.096153846153846,
          8.1484375,
          7.397058823529412,
          6.73404255319149,
          7.267441860465116,
          7.2560975609756095,
          7.232558139534884,
          8.054945054945055,
          7.688,
          6.576086956521739,
          7.095652173913043,
          7.2,
          7.26595744680851,
          7.785714285714286,
          8.077586206896552,
          6.887931034482759,
          6.815789473684211,
          7.670329670329671,
          7.94,
          6.91764705882353,
          6.917525773195877,
          7.264367816091954,
          6.688888888888889,
          7.2368421052631575,
          6.859154929577465,
          8.216981132075471,
          7.404761904761905,
          7.009803921568627,
          6.653061224489796,
          6.9868421052631575,
          6.9772727272727275,
          6.3625,
          6.747252747252747,
          7.064516129032258,
          7.582417582417582,
          7.527272727272727,
          7.893203883495145,
          7.5625,
          6.904761904761905,
          7.2125,
          7.505263157894737,
          7.131578947368421,
          7.450549450549451,
          7.295238095238095,
          6.938931297709924,
          7.108108108108108,
          6.580645161290323,
          7.397260273972603,
          7.206106870229007,
          7.6722689075630255,
          7.783783783783784,
          7.933962264150943,
          6.767676767676767,
          7.822222222222222,
          7.732673267326732,
          7.093457943925234,
          6.9010989010989015,
          7.310077519379845,
          6.64935064935065,
          7.391304347826087,
          7.590909090909091,
          5.906666666666666,
          6.285714285714286,
          7.493333333333333,
          7.156521739130435,
          7.013888888888889,
          7.247422680412371,
          6.866666666666666,
          7.105263157894737,
          7.620689655172414,
          9.029126213592233,
          6.989247311827957,
          7.145631067961165,
          7.263736263736264,
          7.6752136752136755,
          7.645161290322581,
          8.26530612244898,
          6.954128440366972,
          7.182795698924731,
          7.472527472527473,
          7.194805194805195,
          6.75,
          7.929411764705883,
          6.871559633027523,
          7.568807339449541,
          6.910256410256411,
          7.896907216494846,
          8.170212765957446,
          8.008928571428571,
          7.295081967213115,
          7.083333333333333,
          6.8493150684931505,
          7.4766355140186915,
          8.054945054945055,
          7.550561797752809,
          7.011904761904762,
          7.353383458646617,
          7.814285714285714,
          7,
          6.674157303370786,
          8.018018018018019,
          6.969072164948454,
          7.479166666666667,
          6.661764705882353,
          7.2592592592592595,
          7.6395348837209305,
          6.731182795698925,
          7.991735537190083,
          7.227848101265823,
          6.506666666666667,
          7.731958762886598,
          6.96,
          6.112359550561798,
          7.588235294117647,
          7.142857142857143,
          7.508064516129032,
          7.97,
          8,
          7.713114754098361,
          7.430555555555555,
          6.056603773584905,
          7.707865168539326,
          7.833333333333333,
          7.642857142857143,
          7.2317073170731705,
          6.304347826086956,
          7.728260869565218,
          7.328947368421052,
          6.89622641509434,
          8.1,
          6.758333333333334,
          7.405405405405405,
          7.711340206185567,
          7.336206896551724,
          6.623529411764705,
          7.052631578947368,
          6.953271028037383,
          6.983193277310924,
          6.475609756097561,
          6.702702702702703,
          7.579710144927536,
          7.777777777777778,
          7.041237113402062,
          7.4186046511627906,
          7.036144578313253,
          7.910958904109589,
          7.15625,
          6.891891891891892,
          7.984962406015038,
          7.422018348623853,
          7.206521739130435,
          7.626262626262626,
          7.541176470588235,
          7.325,
          7.395061728395062,
          6.69620253164557,
          8,
          7.2727272727272725,
          7.9010989010989015,
          6.313253012048193,
          7.523255813953488,
          6.85,
          7.071428571428571,
          7.130434782608695,
          6.927007299270073,
          7.36734693877551,
          7.845238095238095,
          7.694915254237288,
          7.5625,
          7.268041237113402,
          7.625954198473282,
          7,
          7.048780487804878,
          7.1192660550458715,
          5.944444444444445,
          7.449438202247191,
          7.408163265306122,
          7.127272727272727,
          7.349056603773585,
          7.88659793814433,
          7.03960396039604,
          7.41,
          7.232,
          7.977011494252873,
          6.446428571428571,
          7.642857142857143,
          7.55,
          6.513513513513513,
          6.623762376237623,
          8.365079365079366,
          6.79,
          8.16,
          8.35135135135135,
          7.134328358208955,
          6.95,
          7.08421052631579,
          7.573033707865169,
          6.68,
          7.67,
          6.756756756756757,
          6.876190476190477,
          7.055555555555555,
          7.475609756097561,
          7.141304347826087,
          7.434343434343434,
          8.324561403508772,
          7.6568627450980395,
          7.053333333333334,
          7.160714285714286,
          7.216666666666667,
          7.955223880597015,
          7.814159292035399,
          7.694444444444445,
          7.2631578947368425,
          6.658227848101266,
          6.756756756756757,
          7.542056074766355,
          6.938144329896907,
          7.715447154471545,
          7.555555555555555,
          7.051546391752577,
          7.948717948717949,
          7.020618556701031,
          7.515463917525773,
          6.834782608695652,
          7.235294117647059,
          7.460431654676259,
          6.191780821917808,
          7.754901960784314,
          7.203703703703703,
          7.2073170731707314,
          7.229166666666667,
          6.042857142857143,
          7.2105263157894735,
          8.106382978723405,
          6.530864197530864,
          6.740259740259741,
          7.707964601769912,
          7.423728813559322,
          7.063157894736842,
          7.021978021978022,
          7.228260869565218,
          6.7,
          7.859813084112149,
          7.6484375,
          7.52542372881356,
          7.366336633663367,
          6.627659574468085,
          7.477064220183486,
          7.74468085106383,
          6.816326530612245,
          7.036585365853658,
          6.352941176470588,
          7.066666666666666,
          7.25,
          6.649484536082475,
          7.53,
          6.566371681415929,
          6.878787878787879,
          7.291666666666667,
          6.948717948717949,
          6.840909090909091,
          6.529411764705882,
          6.619047619047619,
          6.909090909090909,
          7.91919191919192,
          6.82051282051282,
          7.509433962264151,
          7.841269841269841,
          6.8441558441558445,
          6.736263736263736,
          7.642857142857143,
          7.92741935483871,
          6.979591836734694,
          7.788732394366197,
          6.390804597701149,
          7.671875,
          7.377777777777778,
          7.679245283018868,
          6.910112359550562,
          6.303030303030303,
          7.704761904761905,
          6.928571428571429,
          7.621052631578947,
          7.45,
          7.363636363636363,
          7.363636363636363,
          7.046153846153846,
          7.235294117647059,
          8.373626373626374,
          7.434782608695652,
          7.489208633093525,
          6.795698924731183,
          6.785714285714286,
          7.2727272727272725,
          8.073394495412844,
          6.390625,
          6.985294117647059,
          7.037383177570093,
          7.504504504504505,
          6.698795180722891,
          7.455445544554456,
          7.525862068965517,
          6.7,
          6.547826086956522,
          7.842105263157895,
          5.87037037037037,
          7.598130841121495,
          7.98876404494382,
          7.638888888888889,
          7.9298245614035086,
          6.830357142857143,
          7.6016260162601625,
          7.592233009708738,
          7.757281553398058,
          7.889908256880734,
          7.268817204301075,
          6.911764705882353,
          7.042857142857143,
          7.153846153846154,
          7.324074074074074,
          7.77,
          6.820754716981132,
          7.136363636363637,
          7.227848101265823,
          6.428571428571429,
          7.080459770114943,
          6.8604651162790695,
          7.524271844660194,
          7.084905660377358,
          7.225806451612903,
          7.172839506172839,
          7.575757575757576,
          7,
          6.6380952380952385,
          7.6571428571428575,
          7.152777777777778,
          7.313725490196078,
          7.573770491803279,
          6.518518518518518,
          7.077922077922078,
          8.539823008849558,
          7.670103092783505,
          6.012195121951219,
          6.839506172839506,
          6.361111111111111,
          7.683168316831683,
          7.192771084337349,
          8.08433734939759,
          7.495798319327731,
          7.3478260869565215,
          8.891089108910892,
          7.863013698630137,
          6.90566037735849,
          6.58,
          6.962962962962963,
          8.065573770491802,
          7.275862068965517,
          7.596153846153846,
          6.348837209302325,
          7.190476190476191,
          7.228915662650603,
          7.941860465116279,
          8.074074074074074,
          7.546391752577319,
          7.178082191780822,
          7.156521739130435,
          7.671052631578948,
          7.412371134020619,
          7.775862068965517,
          8.744186046511627,
          7.924050632911392,
          6.7592592592592595,
          7.514563106796117,
          6.732558139534884,
          7.7384615384615385,
          6.8,
          6.956043956043956,
          8.584269662921349,
          7.416666666666667,
          7.270833333333333,
          7.130952380952381,
          7.456521739130435,
          6.7272727272727275,
          6.9411764705882355,
          6.6454545454545455,
          7.264367816091954,
          6.014925373134329,
          7.447619047619048,
          6.457142857142857,
          7.90990990990991,
          7.905511811023622,
          7.0131578947368425,
          7.4,
          7.025316455696203,
          6.7032967032967035,
          7.234782608695652,
          6.794520547945205,
          6.91764705882353,
          7.842696629213483,
          7.415730337078652,
          7.326923076923077,
          7.353535353535354,
          7.426829268292683,
          6.416666666666667,
          7.72,
          7.724770642201835,
          7.643478260869565,
          5.8059701492537314,
          7.365079365079365,
          7.644444444444445,
          6.825,
          5.962025316455696,
          7.163934426229508,
          6.273809523809524,
          7.4324324324324325,
          7.529411764705882,
          6.902439024390244,
          7.7835820895522385,
          7.2875,
          8.088709677419354,
          7.057142857142857,
          7.961832061068702,
          7.052631578947368,
          7.518867924528302,
          7.222222222222222,
          6.895238095238096,
          8.007751937984496,
          7.411764705882353,
          6.113207547169812,
          8.296610169491526,
          7.5058823529411764,
          6.487804878048781,
          7.285714285714286,
          7.353982300884955,
          7.772357723577236,
          6.929411764705883,
          7.515723270440252,
          7.306306306306307,
          7.170212765957447,
          7.876288659793815,
          7.619718309859155,
          6.733333333333333,
          7.761363636363637,
          7.208695652173913,
          6.550724637681159,
          7.573529411764706,
          7.878048780487805,
          7.833333333333333,
          7.109243697478991,
          7.323943661971831,
          6.857142857142857,
          6.793103448275862,
          6.779816513761468,
          7.553191489361702,
          7.843373493975903,
          7.69,
          7.164948453608248,
          7.362637362637362,
          6.5476190476190474,
          7.0588235294117645,
          6.666666666666667,
          7.523809523809524,
          8.152542372881356,
          7.261682242990654,
          7.794392523364486,
          7.564285714285714,
          7.529411764705882,
          7.181818181818182,
          8.289473684210526,
          7.391891891891892,
          7.2254901960784315,
          7.846938775510204,
          8.101694915254237,
          7.80327868852459,
          6.096385542168675,
          6.5851851851851855,
          7.242718446601942,
          7.225352112676056,
          7.706422018348624,
          7.078651685393258,
          7.583333333333333,
          6.726315789473684,
          7.2368421052631575,
          7.722222222222222,
          6.861702127659575,
          8,
          7.266666666666667,
          6.490566037735849,
          6.909090909090909,
          7.273584905660377,
          7.66,
          7.914893617021277,
          6.869047619047619,
          7.591666666666667,
          7.4375,
          7.862745098039215,
          6.792079207920792,
          6.386363636363637,
          7,
          6.882352941176471,
          6.905109489051095,
          7.706896551724138,
          7.503703703703704,
          8.209090909090909,
          7.075,
          7.303030303030303,
          7.3,
          7.533333333333333,
          7.734939759036145,
          7.397590361445783,
          6.622222222222222,
          6.988505747126437,
          7.5476190476190474,
          7.221153846153846,
          7.057142857142857,
          6.644736842105263,
          7.571428571428571,
          7.571428571428571,
          6.557894736842106,
          6.197802197802198,
          7.13265306122449,
          6.049180327868853,
          7.37037037037037,
          7.2375,
          8.375,
          6.981308411214953,
          7.715686274509804,
          7.3584905660377355,
          7.357142857142857,
          7.391752577319588,
          7.840909090909091,
          6.831460674157303,
          7.379310344827586,
          7.517857142857143,
          6.931506849315069,
          6.9818181818181815,
          6.685393258426966,
          6.571428571428571,
          8.061728395061728,
          6.988888888888889,
          7.566265060240964,
          7.2105263157894735,
          7.367816091954023,
          7.433734939759036,
          6.657534246575342,
          6.752941176470588,
          7.67,
          6.586666666666667,
          7.268041237113402,
          6.661016949152542,
          7.611111111111111,
          7.166666666666667,
          7.422018348623853,
          7.322222222222222,
          7.4,
          7.168674698795181,
          7.5054945054945055,
          7.892307692307693,
          6.591397849462366,
          7.429752066115703,
          6.5,
          7.585365853658536,
          7.148148148148148,
          7.201834862385321,
          7.6835443037974684,
          7.741935483870968,
          7.871794871794871,
          6.8901098901098905,
          7.953271028037383,
          7.6415094339622645,
          7.065420560747664,
          7.148514851485149,
          7.675925925925926,
          7.619047619047619,
          7.447368421052632,
          7.646341463414634,
          7.611650485436893,
          7.418367346938775,
          7.0181818181818185,
          7.347107438016529,
          7.678260869565217,
          6.072727272727272,
          7.571428571428571,
          6.7926829268292686,
          7.1938775510204085,
          7.151785714285714,
          7.35498320268757,
          7.458864426419467,
          7.244827586206896,
          7.0559701492537314,
          7.4124700239808154
         ],
         "yaxis": "y"
        }
       ],
       "layout": {
        "legend": {
         "tracegroupgap": 0
        },
        "template": {
         "data": {
          "bar": [
           {
            "error_x": {
             "color": "#2a3f5f"
            },
            "error_y": {
             "color": "#2a3f5f"
            },
            "marker": {
             "line": {
              "color": "#E5ECF6",
              "width": 0.5
             },
             "pattern": {
              "fillmode": "overlay",
              "size": 10,
              "solidity": 0.2
             }
            },
            "type": "bar"
           }
          ],
          "barpolar": [
           {
            "marker": {
             "line": {
              "color": "#E5ECF6",
              "width": 0.5
             },
             "pattern": {
              "fillmode": "overlay",
              "size": 10,
              "solidity": 0.2
             }
            },
            "type": "barpolar"
           }
          ],
          "carpet": [
           {
            "aaxis": {
             "endlinecolor": "#2a3f5f",
             "gridcolor": "white",
             "linecolor": "white",
             "minorgridcolor": "white",
             "startlinecolor": "#2a3f5f"
            },
            "baxis": {
             "endlinecolor": "#2a3f5f",
             "gridcolor": "white",
             "linecolor": "white",
             "minorgridcolor": "white",
             "startlinecolor": "#2a3f5f"
            },
            "type": "carpet"
           }
          ],
          "choropleth": [
           {
            "colorbar": {
             "outlinewidth": 0,
             "ticks": ""
            },
            "type": "choropleth"
           }
          ],
          "contour": [
           {
            "colorbar": {
             "outlinewidth": 0,
             "ticks": ""
            },
            "colorscale": [
             [
              0,
              "#0d0887"
             ],
             [
              0.1111111111111111,
              "#46039f"
             ],
             [
              0.2222222222222222,
              "#7201a8"
             ],
             [
              0.3333333333333333,
              "#9c179e"
             ],
             [
              0.4444444444444444,
              "#bd3786"
             ],
             [
              0.5555555555555556,
              "#d8576b"
             ],
             [
              0.6666666666666666,
              "#ed7953"
             ],
             [
              0.7777777777777778,
              "#fb9f3a"
             ],
             [
              0.8888888888888888,
              "#fdca26"
             ],
             [
              1,
              "#f0f921"
             ]
            ],
            "type": "contour"
           }
          ],
          "contourcarpet": [
           {
            "colorbar": {
             "outlinewidth": 0,
             "ticks": ""
            },
            "type": "contourcarpet"
           }
          ],
          "heatmap": [
           {
            "colorbar": {
             "outlinewidth": 0,
             "ticks": ""
            },
            "colorscale": [
             [
              0,
              "#0d0887"
             ],
             [
              0.1111111111111111,
              "#46039f"
             ],
             [
              0.2222222222222222,
              "#7201a8"
             ],
             [
              0.3333333333333333,
              "#9c179e"
             ],
             [
              0.4444444444444444,
              "#bd3786"
             ],
             [
              0.5555555555555556,
              "#d8576b"
             ],
             [
              0.6666666666666666,
              "#ed7953"
             ],
             [
              0.7777777777777778,
              "#fb9f3a"
             ],
             [
              0.8888888888888888,
              "#fdca26"
             ],
             [
              1,
              "#f0f921"
             ]
            ],
            "type": "heatmap"
           }
          ],
          "heatmapgl": [
           {
            "colorbar": {
             "outlinewidth": 0,
             "ticks": ""
            },
            "colorscale": [
             [
              0,
              "#0d0887"
             ],
             [
              0.1111111111111111,
              "#46039f"
             ],
             [
              0.2222222222222222,
              "#7201a8"
             ],
             [
              0.3333333333333333,
              "#9c179e"
             ],
             [
              0.4444444444444444,
              "#bd3786"
             ],
             [
              0.5555555555555556,
              "#d8576b"
             ],
             [
              0.6666666666666666,
              "#ed7953"
             ],
             [
              0.7777777777777778,
              "#fb9f3a"
             ],
             [
              0.8888888888888888,
              "#fdca26"
             ],
             [
              1,
              "#f0f921"
             ]
            ],
            "type": "heatmapgl"
           }
          ],
          "histogram": [
           {
            "marker": {
             "pattern": {
              "fillmode": "overlay",
              "size": 10,
              "solidity": 0.2
             }
            },
            "type": "histogram"
           }
          ],
          "histogram2d": [
           {
            "colorbar": {
             "outlinewidth": 0,
             "ticks": ""
            },
            "colorscale": [
             [
              0,
              "#0d0887"
             ],
             [
              0.1111111111111111,
              "#46039f"
             ],
             [
              0.2222222222222222,
              "#7201a8"
             ],
             [
              0.3333333333333333,
              "#9c179e"
             ],
             [
              0.4444444444444444,
              "#bd3786"
             ],
             [
              0.5555555555555556,
              "#d8576b"
             ],
             [
              0.6666666666666666,
              "#ed7953"
             ],
             [
              0.7777777777777778,
              "#fb9f3a"
             ],
             [
              0.8888888888888888,
              "#fdca26"
             ],
             [
              1,
              "#f0f921"
             ]
            ],
            "type": "histogram2d"
           }
          ],
          "histogram2dcontour": [
           {
            "colorbar": {
             "outlinewidth": 0,
             "ticks": ""
            },
            "colorscale": [
             [
              0,
              "#0d0887"
             ],
             [
              0.1111111111111111,
              "#46039f"
             ],
             [
              0.2222222222222222,
              "#7201a8"
             ],
             [
              0.3333333333333333,
              "#9c179e"
             ],
             [
              0.4444444444444444,
              "#bd3786"
             ],
             [
              0.5555555555555556,
              "#d8576b"
             ],
             [
              0.6666666666666666,
              "#ed7953"
             ],
             [
              0.7777777777777778,
              "#fb9f3a"
             ],
             [
              0.8888888888888888,
              "#fdca26"
             ],
             [
              1,
              "#f0f921"
             ]
            ],
            "type": "histogram2dcontour"
           }
          ],
          "mesh3d": [
           {
            "colorbar": {
             "outlinewidth": 0,
             "ticks": ""
            },
            "type": "mesh3d"
           }
          ],
          "parcoords": [
           {
            "line": {
             "colorbar": {
              "outlinewidth": 0,
              "ticks": ""
             }
            },
            "type": "parcoords"
           }
          ],
          "pie": [
           {
            "automargin": true,
            "type": "pie"
           }
          ],
          "scatter": [
           {
            "fillpattern": {
             "fillmode": "overlay",
             "size": 10,
             "solidity": 0.2
            },
            "type": "scatter"
           }
          ],
          "scatter3d": [
           {
            "line": {
             "colorbar": {
              "outlinewidth": 0,
              "ticks": ""
             }
            },
            "marker": {
             "colorbar": {
              "outlinewidth": 0,
              "ticks": ""
             }
            },
            "type": "scatter3d"
           }
          ],
          "scattercarpet": [
           {
            "marker": {
             "colorbar": {
              "outlinewidth": 0,
              "ticks": ""
             }
            },
            "type": "scattercarpet"
           }
          ],
          "scattergeo": [
           {
            "marker": {
             "colorbar": {
              "outlinewidth": 0,
              "ticks": ""
             }
            },
            "type": "scattergeo"
           }
          ],
          "scattergl": [
           {
            "marker": {
             "colorbar": {
              "outlinewidth": 0,
              "ticks": ""
             }
            },
            "type": "scattergl"
           }
          ],
          "scattermapbox": [
           {
            "marker": {
             "colorbar": {
              "outlinewidth": 0,
              "ticks": ""
             }
            },
            "type": "scattermapbox"
           }
          ],
          "scatterpolar": [
           {
            "marker": {
             "colorbar": {
              "outlinewidth": 0,
              "ticks": ""
             }
            },
            "type": "scatterpolar"
           }
          ],
          "scatterpolargl": [
           {
            "marker": {
             "colorbar": {
              "outlinewidth": 0,
              "ticks": ""
             }
            },
            "type": "scatterpolargl"
           }
          ],
          "scatterternary": [
           {
            "marker": {
             "colorbar": {
              "outlinewidth": 0,
              "ticks": ""
             }
            },
            "type": "scatterternary"
           }
          ],
          "surface": [
           {
            "colorbar": {
             "outlinewidth": 0,
             "ticks": ""
            },
            "colorscale": [
             [
              0,
              "#0d0887"
             ],
             [
              0.1111111111111111,
              "#46039f"
             ],
             [
              0.2222222222222222,
              "#7201a8"
             ],
             [
              0.3333333333333333,
              "#9c179e"
             ],
             [
              0.4444444444444444,
              "#bd3786"
             ],
             [
              0.5555555555555556,
              "#d8576b"
             ],
             [
              0.6666666666666666,
              "#ed7953"
             ],
             [
              0.7777777777777778,
              "#fb9f3a"
             ],
             [
              0.8888888888888888,
              "#fdca26"
             ],
             [
              1,
              "#f0f921"
             ]
            ],
            "type": "surface"
           }
          ],
          "table": [
           {
            "cells": {
             "fill": {
              "color": "#EBF0F8"
             },
             "line": {
              "color": "white"
             }
            },
            "header": {
             "fill": {
              "color": "#C8D4E3"
             },
             "line": {
              "color": "white"
             }
            },
            "type": "table"
           }
          ]
         },
         "layout": {
          "annotationdefaults": {
           "arrowcolor": "#2a3f5f",
           "arrowhead": 0,
           "arrowwidth": 1
          },
          "autotypenumbers": "strict",
          "coloraxis": {
           "colorbar": {
            "outlinewidth": 0,
            "ticks": ""
           }
          },
          "colorscale": {
           "diverging": [
            [
             0,
             "#8e0152"
            ],
            [
             0.1,
             "#c51b7d"
            ],
            [
             0.2,
             "#de77ae"
            ],
            [
             0.3,
             "#f1b6da"
            ],
            [
             0.4,
             "#fde0ef"
            ],
            [
             0.5,
             "#f7f7f7"
            ],
            [
             0.6,
             "#e6f5d0"
            ],
            [
             0.7,
             "#b8e186"
            ],
            [
             0.8,
             "#7fbc41"
            ],
            [
             0.9,
             "#4d9221"
            ],
            [
             1,
             "#276419"
            ]
           ],
           "sequential": [
            [
             0,
             "#0d0887"
            ],
            [
             0.1111111111111111,
             "#46039f"
            ],
            [
             0.2222222222222222,
             "#7201a8"
            ],
            [
             0.3333333333333333,
             "#9c179e"
            ],
            [
             0.4444444444444444,
             "#bd3786"
            ],
            [
             0.5555555555555556,
             "#d8576b"
            ],
            [
             0.6666666666666666,
             "#ed7953"
            ],
            [
             0.7777777777777778,
             "#fb9f3a"
            ],
            [
             0.8888888888888888,
             "#fdca26"
            ],
            [
             1,
             "#f0f921"
            ]
           ],
           "sequentialminus": [
            [
             0,
             "#0d0887"
            ],
            [
             0.1111111111111111,
             "#46039f"
            ],
            [
             0.2222222222222222,
             "#7201a8"
            ],
            [
             0.3333333333333333,
             "#9c179e"
            ],
            [
             0.4444444444444444,
             "#bd3786"
            ],
            [
             0.5555555555555556,
             "#d8576b"
            ],
            [
             0.6666666666666666,
             "#ed7953"
            ],
            [
             0.7777777777777778,
             "#fb9f3a"
            ],
            [
             0.8888888888888888,
             "#fdca26"
            ],
            [
             1,
             "#f0f921"
            ]
           ]
          },
          "colorway": [
           "#636efa",
           "#EF553B",
           "#00cc96",
           "#ab63fa",
           "#FFA15A",
           "#19d3f3",
           "#FF6692",
           "#B6E880",
           "#FF97FF",
           "#FECB52"
          ],
          "font": {
           "color": "#2a3f5f"
          },
          "geo": {
           "bgcolor": "white",
           "lakecolor": "white",
           "landcolor": "#E5ECF6",
           "showlakes": true,
           "showland": true,
           "subunitcolor": "white"
          },
          "hoverlabel": {
           "align": "left"
          },
          "hovermode": "closest",
          "mapbox": {
           "style": "light"
          },
          "paper_bgcolor": "white",
          "plot_bgcolor": "#E5ECF6",
          "polar": {
           "angularaxis": {
            "gridcolor": "white",
            "linecolor": "white",
            "ticks": ""
           },
           "bgcolor": "#E5ECF6",
           "radialaxis": {
            "gridcolor": "white",
            "linecolor": "white",
            "ticks": ""
           }
          },
          "scene": {
           "xaxis": {
            "backgroundcolor": "#E5ECF6",
            "gridcolor": "white",
            "gridwidth": 2,
            "linecolor": "white",
            "showbackground": true,
            "ticks": "",
            "zerolinecolor": "white"
           },
           "yaxis": {
            "backgroundcolor": "#E5ECF6",
            "gridcolor": "white",
            "gridwidth": 2,
            "linecolor": "white",
            "showbackground": true,
            "ticks": "",
            "zerolinecolor": "white"
           },
           "zaxis": {
            "backgroundcolor": "#E5ECF6",
            "gridcolor": "white",
            "gridwidth": 2,
            "linecolor": "white",
            "showbackground": true,
            "ticks": "",
            "zerolinecolor": "white"
           }
          },
          "shapedefaults": {
           "line": {
            "color": "#2a3f5f"
           }
          },
          "ternary": {
           "aaxis": {
            "gridcolor": "white",
            "linecolor": "white",
            "ticks": ""
           },
           "baxis": {
            "gridcolor": "white",
            "linecolor": "white",
            "ticks": ""
           },
           "bgcolor": "#E5ECF6",
           "caxis": {
            "gridcolor": "white",
            "linecolor": "white",
            "ticks": ""
           }
          },
          "title": {
           "x": 0.05
          },
          "xaxis": {
           "automargin": true,
           "gridcolor": "white",
           "linecolor": "white",
           "ticks": "",
           "title": {
            "standoff": 15
           },
           "zerolinecolor": "white",
           "zerolinewidth": 2
          },
          "yaxis": {
           "automargin": true,
           "gridcolor": "white",
           "linecolor": "white",
           "ticks": "",
           "title": {
            "standoff": 15
           },
           "zerolinecolor": "white",
           "zerolinewidth": 2
          }
         }
        },
        "title": {
         "text": "가입날짜에 따른 구매율"
        },
        "xaxis": {
         "anchor": "y",
         "domain": [
          0,
          1
         ],
         "title": {
          "text": "join_day"
         }
        },
        "yaxis": {
         "anchor": "x",
         "domain": [
          0,
          1
         ],
         "title": {
          "text": "rate"
         }
        }
       }
      }
     },
     "metadata": {},
     "output_type": "display_data"
    }
   ],
   "source": [
    "fig = px.line(df_day, x = 'join_day' ,y = 'rate',  title = '가입날짜에 따른 구매율')\n",
    "fig.show()"
   ]
  },
  {
   "cell_type": "code",
   "execution_count": null,
   "metadata": {},
   "outputs": [],
   "source": []
  }
 ],
 "metadata": {
  "kernelspec": {
   "display_name": "Python 3",
   "language": "python",
   "name": "python3"
  },
  "language_info": {
   "codemirror_mode": {
    "name": "ipython",
    "version": 3
   },
   "file_extension": ".py",
   "mimetype": "text/x-python",
   "name": "python",
   "nbconvert_exporter": "python",
   "pygments_lexer": "ipython3",
   "version": "3.8.2"
  }
 },
 "nbformat": 4,
 "nbformat_minor": 2
}
