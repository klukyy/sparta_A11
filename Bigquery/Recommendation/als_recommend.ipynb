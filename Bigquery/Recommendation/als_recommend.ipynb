{
 "cells": [
  {
   "cell_type": "markdown",
   "metadata": {},
   "source": [
    "# Recommendation System"
   ]
  },
  {
   "cell_type": "code",
   "execution_count": 1,
   "metadata": {},
   "outputs": [],
   "source": [
    "import pandas as pd\n",
    "import numpy as np\n",
    "\n",
    "train = pd.read_csv('./train.csv')\n",
    "test = pd.read_csv('./train.csv')"
   ]
  },
  {
   "cell_type": "code",
   "execution_count": 2,
   "metadata": {},
   "outputs": [],
   "source": [
    "train['user_id'] = train['user_id'].astype(int)\n",
    "test['user_id'] = test['user_id'].astype(int)\n",
    "\n",
    "train['product_id'] = train['product_id'].astype(int)\n",
    "test['product_id'] = test['product_id'].astype(int)"
   ]
  },
  {
   "cell_type": "code",
   "execution_count": 12,
   "metadata": {},
   "outputs": [
    {
     "data": {
      "text/plain": [
       "user_id\n",
       "1.0          2953.0\n",
       "1.0          7656.0\n",
       "2.0         25774.0\n",
       "3.0         18177.0\n",
       "3.0         21364.0\n",
       "             ...   \n",
       "99996.0     28478.0\n",
       "99998.0     16938.0\n",
       "99998.0     19164.0\n",
       "99999.0     25959.0\n",
       "100000.0    10017.0\n",
       "Name: product_id, Length: 109809, dtype: object"
      ]
     },
     "execution_count": 12,
     "metadata": {},
     "output_type": "execute_result"
    }
   ],
   "source": [
    "train.groupby('user_id').product_id.unique().explode()"
   ]
  },
  {
   "cell_type": "code",
   "execution_count": 29,
   "metadata": {},
   "outputs": [],
   "source": [
    "# 희소행렬 (coo)\n",
    "col = train.groupby('user_id').product_id.unique().explode().values\n",
    "row = train.groupby('user_id').product_id.unique().explode().index.values"
   ]
  },
  {
   "cell_type": "code",
   "execution_count": 4,
   "metadata": {},
   "outputs": [],
   "source": [
    "# csr\n",
    "row_ind = train.groupby('user_id').product_id.nunique().cumsum().values\n",
    "row_ind = np.insert(row_ind, 0, 0)"
   ]
  },
  {
   "cell_type": "code",
   "execution_count": 8,
   "metadata": {},
   "outputs": [],
   "source": [
    "from scipy.sparse import csr_matrix\n",
    "\n",
    "train_ = csr_matrix((np.ones(len(col)), col, row_ind))"
   ]
  },
  {
   "cell_type": "code",
   "execution_count": 164,
   "metadata": {},
   "outputs": [
    {
     "data": {
      "text/plain": [
       "array([2953, 7656, 25774, ..., 19164, 25959, 10017], dtype=object)"
      ]
     },
     "execution_count": 164,
     "metadata": {},
     "output_type": "execute_result"
    }
   ],
   "source": [
    "col"
   ]
  },
  {
   "cell_type": "code",
   "execution_count": 163,
   "metadata": {},
   "outputs": [
    {
     "data": {
      "text/plain": [
       "array([ 2953,  7656, 25774, ..., 19164, 25959, 10017])"
      ]
     },
     "execution_count": 163,
     "metadata": {},
     "output_type": "execute_result"
    }
   ],
   "source": [
    "train_.indices"
   ]
  },
  {
   "cell_type": "code",
   "execution_count": 165,
   "metadata": {},
   "outputs": [
    {
     "data": {
      "text/plain": [
       "array([     0,      2,      3, ..., 109807, 109808, 109809])"
      ]
     },
     "execution_count": 165,
     "metadata": {},
     "output_type": "execute_result"
    }
   ],
   "source": [
    "row_ind"
   ]
  },
  {
   "cell_type": "code",
   "execution_count": 145,
   "metadata": {},
   "outputs": [
    {
     "data": {
      "text/plain": [
       "array([     0,      2,      3, ..., 109807, 109808, 109809])"
      ]
     },
     "execution_count": 145,
     "metadata": {},
     "output_type": "execute_result"
    }
   ],
   "source": [
    "train_.indptr"
   ]
  },
  {
   "cell_type": "code",
   "execution_count": 149,
   "metadata": {},
   "outputs": [],
   "source": [
    "user_list = train.groupby('user_id').product_id.unique().index"
   ]
  },
  {
   "cell_type": "code",
   "execution_count": 150,
   "metadata": {},
   "outputs": [
    {
     "data": {
      "text/plain": [
       "Index([     1,      2,      3,      4,      5,      7,      8,      9,     11,\n",
       "           12,\n",
       "       ...\n",
       "        99985,  99986,  99988,  99989,  99990,  99993,  99996,  99998,  99999,\n",
       "       100000],\n",
       "      dtype='int64', name='user_id', length=76918)"
      ]
     },
     "execution_count": 150,
     "metadata": {},
     "output_type": "execute_result"
    }
   ],
   "source": [
    "user_list"
   ]
  },
  {
   "cell_type": "code",
   "execution_count": 11,
   "metadata": {},
   "outputs": [],
   "source": [
    "# 유저별 구매내역 뽑기\n",
    "gt_dict = test.groupby('user_id')['product_id'].unique().to_dict()"
   ]
  },
  {
   "cell_type": "code",
   "execution_count": 131,
   "metadata": {},
   "outputs": [],
   "source": [
    "products = pd.read_csv('./Looker Ecommerce BigQuery Dataset/products.csv')\n",
    "products = products.set_index('id')"
   ]
  },
  {
   "cell_type": "code",
   "execution_count": 160,
   "metadata": {},
   "outputs": [],
   "source": [
    "def ndcg(y_true, y_pred, k=100):\n",
    "    # DCG at k\n",
    "    dcg = sum([int(p in y_true) / np.log2(i+2) for i, p in enumerate(y_pred)])\n",
    "\n",
    "    # IDCG at k\n",
    "    idcg = sum([1 / np.log2(i+2) for i in range(min(len(y_true), k))])\n",
    "    \n",
    "    # NDCG at k\n",
    "    return dcg / idcg"
   ]
  },
  {
   "cell_type": "markdown",
   "metadata": {},
   "source": [
    "# als implicit"
   ]
  },
  {
   "cell_type": "code",
   "execution_count": 207,
   "metadata": {},
   "outputs": [
    {
     "name": "stdout",
     "output_type": "stream",
     "text": [
      "Collecting implicit\n",
      "  Downloading implicit-0.7.2-cp310-cp310-macosx_11_0_arm64.whl.metadata (6.1 kB)\n",
      "Requirement already satisfied: numpy>=1.17.0 in /Library/Frameworks/Python.framework/Versions/3.10/lib/python3.10/site-packages (from implicit) (1.26.3)\n",
      "Requirement already satisfied: scipy>=0.16 in /Library/Frameworks/Python.framework/Versions/3.10/lib/python3.10/site-packages (from implicit) (1.12.0)\n",
      "Requirement already satisfied: tqdm>=4.27 in /Library/Frameworks/Python.framework/Versions/3.10/lib/python3.10/site-packages (from implicit) (4.66.2)\n",
      "Requirement already satisfied: threadpoolctl in /Library/Frameworks/Python.framework/Versions/3.10/lib/python3.10/site-packages (from implicit) (3.2.0)\n",
      "Downloading implicit-0.7.2-cp310-cp310-macosx_11_0_arm64.whl (761 kB)\n",
      "\u001b[2K   \u001b[90m━━━━━━━━━━━━━━━━━━━━━━━━━━━━━━━━━━━━━━━━\u001b[0m \u001b[32m761.4/761.4 kB\u001b[0m \u001b[31m18.0 MB/s\u001b[0m eta \u001b[36m0:00:00\u001b[0m00:01\u001b[0m\n",
      "\u001b[?25hInstalling collected packages: implicit\n",
      "Successfully installed implicit-0.7.2\n",
      "Note: you may need to restart the kernel to use updated packages.\n"
     ]
    }
   ],
   "source": [
    "#%pip install implicit"
   ]
  },
  {
   "cell_type": "markdown",
   "metadata": {},
   "source": [
    "- pivot 없이 csr 만들 수 있음!"
   ]
  },
  {
   "cell_type": "code",
   "execution_count": 10,
   "metadata": {},
   "outputs": [
    {
     "name": "stderr",
     "output_type": "stream",
     "text": [
      "/Library/Frameworks/Python.framework/Versions/3.10/lib/python3.10/site-packages/tqdm/auto.py:21: TqdmWarning: IProgress not found. Please update jupyter and ipywidgets. See https://ipywidgets.readthedocs.io/en/stable/user_install.html\n",
      "  from .autonotebook import tqdm as notebook_tqdm\n",
      "/Library/Frameworks/Python.framework/Versions/3.10/lib/python3.10/site-packages/implicit/cpu/als.py:95: RuntimeWarning: OpenBLAS is configured to use 8 threads. It is highly recommended to disable its internal threadpool by setting the environment variable 'OPENBLAS_NUM_THREADS=1' or by calling 'threadpoolctl.threadpool_limits(1, \"blas\")'. Having OpenBLAS use a threadpool can lead to severe performance issues here.\n",
      "  check_blas_config()\n",
      "100%|██████████| 15/15 [00:34<00:00,  2.32s/it]\n"
     ]
    }
   ],
   "source": [
    "import implicit\n",
    "\n",
    "# initialize a model\n",
    "model = implicit.als.AlternatingLeastSquares(factors=50)\n",
    "\n",
    "# train the model on a sparse matrix of user/item/confidence weights\n",
    "model.fit(train_)"
   ]
  },
  {
   "cell_type": "code",
   "execution_count": 213,
   "metadata": {},
   "outputs": [],
   "source": [
    "# recommend items for a user\n",
    "user_idx = np.where(user_list==69611)\n",
    "ids, score = model.recommend(user_idx, train_[user_idx], N=100, filter_already_liked_items=True)"
   ]
  },
  {
   "cell_type": "code",
   "execution_count": 214,
   "metadata": {},
   "outputs": [
    {
     "data": {
      "text/plain": [
       "array([16677, 21384, 19990, 26932, 22804, 19460, 17962, 19040, 16704,\n",
       "       27392, 21577], dtype=int32)"
      ]
     },
     "execution_count": 214,
     "metadata": {},
     "output_type": "execute_result"
    }
   ],
   "source": [
    "train_[user_idx].indices"
   ]
  },
  {
   "cell_type": "code",
   "execution_count": 215,
   "metadata": {},
   "outputs": [
    {
     "data": {
      "text/html": [
       "<div>\n",
       "<style scoped>\n",
       "    .dataframe tbody tr th:only-of-type {\n",
       "        vertical-align: middle;\n",
       "    }\n",
       "\n",
       "    .dataframe tbody tr th {\n",
       "        vertical-align: top;\n",
       "    }\n",
       "\n",
       "    .dataframe thead th {\n",
       "        text-align: right;\n",
       "    }\n",
       "</style>\n",
       "<table border=\"1\" class=\"dataframe\">\n",
       "  <thead>\n",
       "    <tr style=\"text-align: right;\">\n",
       "      <th></th>\n",
       "      <th>product_id</th>\n",
       "      <th>product_name</th>\n",
       "      <th>recommend_score</th>\n",
       "      <th>already_buyed</th>\n",
       "    </tr>\n",
       "    <tr>\n",
       "      <th>id</th>\n",
       "      <th></th>\n",
       "      <th></th>\n",
       "      <th></th>\n",
       "      <th></th>\n",
       "    </tr>\n",
       "  </thead>\n",
       "  <tbody>\n",
       "    <tr>\n",
       "      <th>17112</th>\n",
       "      <td>17112</td>\n",
       "      <td>U.S. Polo Assn. Men's Hoody With Big Pony</td>\n",
       "      <td>0.159294</td>\n",
       "      <td>False</td>\n",
       "    </tr>\n",
       "    <tr>\n",
       "      <th>22447</th>\n",
       "      <td>22447</td>\n",
       "      <td>Original ratcatcher Moleskin Pants / Pleated L...</td>\n",
       "      <td>0.157544</td>\n",
       "      <td>False</td>\n",
       "    </tr>\n",
       "    <tr>\n",
       "      <th>24489</th>\n",
       "      <td>24489</td>\n",
       "      <td>STANCE Black Multi-Colored Polka Dot Mens Casu...</td>\n",
       "      <td>0.157512</td>\n",
       "      <td>False</td>\n",
       "    </tr>\n",
       "    <tr>\n",
       "      <th>23775</th>\n",
       "      <td>23775</td>\n",
       "      <td>ililily Slim-fit Varsity Jacket American Baseb...</td>\n",
       "      <td>0.145411</td>\n",
       "      <td>False</td>\n",
       "    </tr>\n",
       "    <tr>\n",
       "      <th>24753</th>\n",
       "      <td>24753</td>\n",
       "      <td>Dickies Men's Steel Toe Crew</td>\n",
       "      <td>0.143982</td>\n",
       "      <td>False</td>\n",
       "    </tr>\n",
       "    <tr>\n",
       "      <th>...</th>\n",
       "      <td>...</td>\n",
       "      <td>...</td>\n",
       "      <td>...</td>\n",
       "      <td>...</td>\n",
       "    </tr>\n",
       "    <tr>\n",
       "      <th>18219</th>\n",
       "      <td>18219</td>\n",
       "      <td>Carhartt Men's Big-Tall Midweight Hooded Sweat...</td>\n",
       "      <td>0.012573</td>\n",
       "      <td>False</td>\n",
       "    </tr>\n",
       "    <tr>\n",
       "      <th>22363</th>\n",
       "      <td>22363</td>\n",
       "      <td>Oneill Men's Contact Pant</td>\n",
       "      <td>0.012490</td>\n",
       "      <td>False</td>\n",
       "    </tr>\n",
       "    <tr>\n",
       "      <th>19243</th>\n",
       "      <td>19243</td>\n",
       "      <td>Allegra K Mens Deep V Neck Button Closure Casu...</td>\n",
       "      <td>0.012319</td>\n",
       "      <td>False</td>\n",
       "    </tr>\n",
       "    <tr>\n",
       "      <th>7793</th>\n",
       "      <td>7793</td>\n",
       "      <td>Bailey 44 Women's Gnarlatious Jacket</td>\n",
       "      <td>0.012240</td>\n",
       "      <td>False</td>\n",
       "    </tr>\n",
       "    <tr>\n",
       "      <th>27658</th>\n",
       "      <td>27658</td>\n",
       "      <td>Diesel Men's Reef</td>\n",
       "      <td>0.012175</td>\n",
       "      <td>False</td>\n",
       "    </tr>\n",
       "  </tbody>\n",
       "</table>\n",
       "<p>100 rows × 4 columns</p>\n",
       "</div>"
      ],
      "text/plain": [
       "       product_id                                       product_name  \\\n",
       "id                                                                     \n",
       "17112       17112          U.S. Polo Assn. Men's Hoody With Big Pony   \n",
       "22447       22447  Original ratcatcher Moleskin Pants / Pleated L...   \n",
       "24489       24489  STANCE Black Multi-Colored Polka Dot Mens Casu...   \n",
       "23775       23775  ililily Slim-fit Varsity Jacket American Baseb...   \n",
       "24753       24753                       Dickies Men's Steel Toe Crew   \n",
       "...           ...                                                ...   \n",
       "18219       18219  Carhartt Men's Big-Tall Midweight Hooded Sweat...   \n",
       "22363       22363                          Oneill Men's Contact Pant   \n",
       "19243       19243  Allegra K Mens Deep V Neck Button Closure Casu...   \n",
       "7793         7793               Bailey 44 Women's Gnarlatious Jacket   \n",
       "27658       27658                                  Diesel Men's Reef   \n",
       "\n",
       "       recommend_score  already_buyed  \n",
       "id                                     \n",
       "17112         0.159294          False  \n",
       "22447         0.157544          False  \n",
       "24489         0.157512          False  \n",
       "23775         0.145411          False  \n",
       "24753         0.143982          False  \n",
       "...                ...            ...  \n",
       "18219         0.012573          False  \n",
       "22363         0.012490          False  \n",
       "19243         0.012319          False  \n",
       "7793          0.012240          False  \n",
       "27658         0.012175          False  \n",
       "\n",
       "[100 rows x 4 columns]"
      ]
     },
     "execution_count": 215,
     "metadata": {},
     "output_type": "execute_result"
    }
   ],
   "source": [
    "# user_id: 69611\n",
    "pd.DataFrame({\"product_id\": ids[0], \"product_name\": products.loc[ids[0]]['name'], \"recommend_score\": score[0], \"already_buyed\": np.in1d(ids, train_[user_idx].indices)})"
   ]
  },
  {
   "cell_type": "code",
   "execution_count": 220,
   "metadata": {},
   "outputs": [],
   "source": [
    "users = pd.read_csv('./Looker Ecommerce BigQuery Dataset/users.csv')"
   ]
  },
  {
   "cell_type": "code",
   "execution_count": 221,
   "metadata": {},
   "outputs": [
    {
     "data": {
      "text/html": [
       "<div>\n",
       "<style scoped>\n",
       "    .dataframe tbody tr th:only-of-type {\n",
       "        vertical-align: middle;\n",
       "    }\n",
       "\n",
       "    .dataframe tbody tr th {\n",
       "        vertical-align: top;\n",
       "    }\n",
       "\n",
       "    .dataframe thead th {\n",
       "        text-align: right;\n",
       "    }\n",
       "</style>\n",
       "<table border=\"1\" class=\"dataframe\">\n",
       "  <thead>\n",
       "    <tr style=\"text-align: right;\">\n",
       "      <th></th>\n",
       "      <th>id</th>\n",
       "      <th>first_name</th>\n",
       "      <th>last_name</th>\n",
       "      <th>email</th>\n",
       "      <th>age</th>\n",
       "      <th>gender</th>\n",
       "      <th>state</th>\n",
       "      <th>street_address</th>\n",
       "      <th>postal_code</th>\n",
       "      <th>city</th>\n",
       "      <th>country</th>\n",
       "      <th>latitude</th>\n",
       "      <th>longitude</th>\n",
       "      <th>traffic_source</th>\n",
       "      <th>created_at</th>\n",
       "    </tr>\n",
       "  </thead>\n",
       "  <tbody>\n",
       "    <tr>\n",
       "      <th>34405</th>\n",
       "      <td>69611</td>\n",
       "      <td>John</td>\n",
       "      <td>Holland</td>\n",
       "      <td>johnholland@example.net</td>\n",
       "      <td>52</td>\n",
       "      <td>M</td>\n",
       "      <td>Guangdong</td>\n",
       "      <td>9511 James Track Suite 026</td>\n",
       "      <td>516029</td>\n",
       "      <td>Chengdu</td>\n",
       "      <td>China</td>\n",
       "      <td>23.006373</td>\n",
       "      <td>114.325225</td>\n",
       "      <td>Search</td>\n",
       "      <td>2020-03-09 09:39:00+00:00</td>\n",
       "    </tr>\n",
       "  </tbody>\n",
       "</table>\n",
       "</div>"
      ],
      "text/plain": [
       "          id first_name last_name                    email  age gender  \\\n",
       "34405  69611       John   Holland  johnholland@example.net   52      M   \n",
       "\n",
       "           state              street_address postal_code     city country  \\\n",
       "34405  Guangdong  9511 James Track Suite 026      516029  Chengdu   China   \n",
       "\n",
       "        latitude   longitude traffic_source                 created_at  \n",
       "34405  23.006373  114.325225         Search  2020-03-09 09:39:00+00:00  "
      ]
     },
     "execution_count": 221,
     "metadata": {},
     "output_type": "execute_result"
    }
   ],
   "source": [
    "users[users.id==69611]"
   ]
  },
  {
   "cell_type": "code",
   "execution_count": 183,
   "metadata": {},
   "outputs": [
    {
     "data": {
      "text/plain": [
       "array(['Mens Modena Solid Silver French Cuff Dress Shirt',\n",
       "       'Walls Mens Work Fire Retardant Denim 5 Pocket Jeans FR',\n",
       "       'DKNY Mens 2 Button Black Check Slim Fit Wool Sport Coat Jacket',\n",
       "       \"Majestic International Men's Patrician Shawl Robe\",\n",
       "       \"Oakley Men's Represent Short\",\n",
       "       'Geoffrey Beene Super Soft Cardigan',\n",
       "       \"RetroFit Men's Long Sleeve Pullover Hoodie Sweater White & Blue\",\n",
       "       \"Nautica Men's Milano Bold Stripe Sweater\",\n",
       "       \"Icebreaker Men's Short Sleeve Crewe Top\",\n",
       "       'Blackwatch tartan plaid check tie cord flannel cotton pants for lounging sleep sports. Unisex relaxed fit',\n",
       "       \"Men's 34 inch Inseam Red Kap Loose Fit Denim Jeans\"], dtype=object)"
      ]
     },
     "execution_count": 183,
     "metadata": {},
     "output_type": "execute_result"
    }
   ],
   "source": [
    "# 52세 중국 남성, 평균 결제 금액 62.12, 최저 금액: 19.98, 최고 금액: 139.9, 주문 횟수 12\n",
    "train[train.user_id==69611]['name'].unique()"
   ]
  },
  {
   "cell_type": "code",
   "execution_count": 227,
   "metadata": {},
   "outputs": [
    {
     "data": {
      "text/html": [
       "<div>\n",
       "<style scoped>\n",
       "    .dataframe tbody tr th:only-of-type {\n",
       "        vertical-align: middle;\n",
       "    }\n",
       "\n",
       "    .dataframe tbody tr th {\n",
       "        vertical-align: top;\n",
       "    }\n",
       "\n",
       "    .dataframe thead th {\n",
       "        text-align: right;\n",
       "    }\n",
       "</style>\n",
       "<table border=\"1\" class=\"dataframe\">\n",
       "  <thead>\n",
       "    <tr style=\"text-align: right;\">\n",
       "      <th></th>\n",
       "      <th>user_id</th>\n",
       "      <th>product_id</th>\n",
       "      <th>status</th>\n",
       "      <th>age</th>\n",
       "      <th>gender</th>\n",
       "      <th>account_country</th>\n",
       "      <th>account_traffic_source</th>\n",
       "      <th>account_created_at</th>\n",
       "      <th>User_AvgPrice</th>\n",
       "      <th>User_MinPrice</th>\n",
       "      <th>User_MaxPrice</th>\n",
       "      <th>User_NumOrder</th>\n",
       "      <th>product_NumOrder</th>\n",
       "      <th>product_NumOrderUser</th>\n",
       "      <th>category</th>\n",
       "      <th>name</th>\n",
       "      <th>brand</th>\n",
       "      <th>department</th>\n",
       "      <th>product_name_tk</th>\n",
       "    </tr>\n",
       "  </thead>\n",
       "  <tbody>\n",
       "    <tr>\n",
       "      <th>92456</th>\n",
       "      <td>16931</td>\n",
       "      <td>4140</td>\n",
       "      <td>Processing</td>\n",
       "      <td>66</td>\n",
       "      <td>F</td>\n",
       "      <td>Japan</td>\n",
       "      <td>Search</td>\n",
       "      <td>2024-01-16</td>\n",
       "      <td>72.83482</td>\n",
       "      <td>20.0</td>\n",
       "      <td>198.0</td>\n",
       "      <td>7</td>\n",
       "      <td>4</td>\n",
       "      <td>4</td>\n",
       "      <td>Jumpsuits &amp; Rompers</td>\n",
       "      <td>Juicy Couture Womens Stripe Shorts Romper</td>\n",
       "      <td>Juicy Couture</td>\n",
       "      <td>Women</td>\n",
       "      <td>['stripe', 'shorts']</td>\n",
       "    </tr>\n",
       "  </tbody>\n",
       "</table>\n",
       "</div>"
      ],
      "text/plain": [
       "       user_id  product_id      status  age gender account_country  \\\n",
       "92456    16931        4140  Processing   66      F           Japan   \n",
       "\n",
       "      account_traffic_source account_created_at  User_AvgPrice  User_MinPrice  \\\n",
       "92456                 Search         2024-01-16       72.83482           20.0   \n",
       "\n",
       "       User_MaxPrice  User_NumOrder  product_NumOrder  product_NumOrderUser  \\\n",
       "92456          198.0              7                 4                     4   \n",
       "\n",
       "                  category                                       name  \\\n",
       "92456  Jumpsuits & Rompers  Juicy Couture Womens Stripe Shorts Romper   \n",
       "\n",
       "               brand department       product_name_tk  \n",
       "92456  Juicy Couture      Women  ['stripe', 'shorts']  "
      ]
     },
     "execution_count": 227,
     "metadata": {},
     "output_type": "execute_result"
    }
   ],
   "source": [
    "train[train['name']=='Juicy Couture Womens Stripe Shorts Romper']"
   ]
  },
  {
   "cell_type": "code",
   "execution_count": 228,
   "metadata": {},
   "outputs": [],
   "source": [
    "# find related items\n",
    "ids, score = model.similar_items(4140, N=100)"
   ]
  },
  {
   "cell_type": "code",
   "execution_count": 229,
   "metadata": {},
   "outputs": [
    {
     "data": {
      "text/html": [
       "<div>\n",
       "<style scoped>\n",
       "    .dataframe tbody tr th:only-of-type {\n",
       "        vertical-align: middle;\n",
       "    }\n",
       "\n",
       "    .dataframe tbody tr th {\n",
       "        vertical-align: top;\n",
       "    }\n",
       "\n",
       "    .dataframe thead th {\n",
       "        text-align: right;\n",
       "    }\n",
       "</style>\n",
       "<table border=\"1\" class=\"dataframe\">\n",
       "  <thead>\n",
       "    <tr style=\"text-align: right;\">\n",
       "      <th></th>\n",
       "      <th>product_id</th>\n",
       "      <th>product_name</th>\n",
       "      <th>related_score</th>\n",
       "    </tr>\n",
       "    <tr>\n",
       "      <th>id</th>\n",
       "      <th></th>\n",
       "      <th></th>\n",
       "      <th></th>\n",
       "    </tr>\n",
       "  </thead>\n",
       "  <tbody>\n",
       "    <tr>\n",
       "      <th>4140</th>\n",
       "      <td>4140</td>\n",
       "      <td>Juicy Couture Womens Stripe Shorts Romper</td>\n",
       "      <td>1.000000</td>\n",
       "    </tr>\n",
       "    <tr>\n",
       "      <th>15858</th>\n",
       "      <td>15858</td>\n",
       "      <td>collection eighteen Women's Super Ruffle Borde...</td>\n",
       "      <td>0.999973</td>\n",
       "    </tr>\n",
       "    <tr>\n",
       "      <th>3475</th>\n",
       "      <td>3475</td>\n",
       "      <td>KAMALIKULTURE Women's Long Sleeve Crewneck Max...</td>\n",
       "      <td>0.999486</td>\n",
       "    </tr>\n",
       "    <tr>\n",
       "      <th>7293</th>\n",
       "      <td>7293</td>\n",
       "      <td>Hard Tail A-line skirt (black)</td>\n",
       "      <td>0.982009</td>\n",
       "    </tr>\n",
       "    <tr>\n",
       "      <th>11646</th>\n",
       "      <td>11646</td>\n",
       "      <td>Barely There Women's Barely There Flex To Fit/...</td>\n",
       "      <td>0.976617</td>\n",
       "    </tr>\n",
       "    <tr>\n",
       "      <th>...</th>\n",
       "      <td>...</td>\n",
       "      <td>...</td>\n",
       "      <td>...</td>\n",
       "    </tr>\n",
       "    <tr>\n",
       "      <th>7189</th>\n",
       "      <td>7189</td>\n",
       "      <td>Adar Mid-Calf Length Drawstring Skirt</td>\n",
       "      <td>0.849163</td>\n",
       "    </tr>\n",
       "    <tr>\n",
       "      <th>2528</th>\n",
       "      <td>2528</td>\n",
       "      <td>Champion Women's Seamless Fab And Fun Sports Bra</td>\n",
       "      <td>0.848978</td>\n",
       "    </tr>\n",
       "    <tr>\n",
       "      <th>11200</th>\n",
       "      <td>11200</td>\n",
       "      <td>Flexees Women's Decadence V-Neck Molded Slip</td>\n",
       "      <td>0.848604</td>\n",
       "    </tr>\n",
       "    <tr>\n",
       "      <th>10913</th>\n",
       "      <td>10913</td>\n",
       "      <td>Signature Lace Low Rise Thong 5-Pack</td>\n",
       "      <td>0.847870</td>\n",
       "    </tr>\n",
       "    <tr>\n",
       "      <th>4173</th>\n",
       "      <td>4173</td>\n",
       "      <td>Allegra K Woman Sleeveless Drawstring Waist Cr...</td>\n",
       "      <td>0.847665</td>\n",
       "    </tr>\n",
       "  </tbody>\n",
       "</table>\n",
       "<p>100 rows × 3 columns</p>\n",
       "</div>"
      ],
      "text/plain": [
       "       product_id                                       product_name  \\\n",
       "id                                                                     \n",
       "4140         4140          Juicy Couture Womens Stripe Shorts Romper   \n",
       "15858       15858  collection eighteen Women's Super Ruffle Borde...   \n",
       "3475         3475  KAMALIKULTURE Women's Long Sleeve Crewneck Max...   \n",
       "7293         7293                     Hard Tail A-line skirt (black)   \n",
       "11646       11646  Barely There Women's Barely There Flex To Fit/...   \n",
       "...           ...                                                ...   \n",
       "7189         7189              Adar Mid-Calf Length Drawstring Skirt   \n",
       "2528         2528   Champion Women's Seamless Fab And Fun Sports Bra   \n",
       "11200       11200       Flexees Women's Decadence V-Neck Molded Slip   \n",
       "10913       10913               Signature Lace Low Rise Thong 5-Pack   \n",
       "4173         4173  Allegra K Woman Sleeveless Drawstring Waist Cr...   \n",
       "\n",
       "       related_score  \n",
       "id                    \n",
       "4140        1.000000  \n",
       "15858       0.999973  \n",
       "3475        0.999486  \n",
       "7293        0.982009  \n",
       "11646       0.976617  \n",
       "...              ...  \n",
       "7189        0.849163  \n",
       "2528        0.848978  \n",
       "11200       0.848604  \n",
       "10913       0.847870  \n",
       "4173        0.847665  \n",
       "\n",
       "[100 rows x 3 columns]"
      ]
     },
     "execution_count": 229,
     "metadata": {},
     "output_type": "execute_result"
    }
   ],
   "source": [
    "pd.DataFrame({\"product_id\": ids,  \"product_name\": products.loc[ids]['name'], \"related_score\": score})"
   ]
  },
  {
   "cell_type": "code",
   "execution_count": 158,
   "metadata": {},
   "outputs": [],
   "source": [
    "# y_pred: 유저마다 추천 100개 리스트 뽑기 -> dict 형태로\n",
    "pred_dict = dict()\n",
    "for i, user_id in enumerate(user_list):\n",
    "     #i = np.where(user_list==user_id)\n",
    "     y_pred, _ = model.recommend(i, train_[i], N=100, filter_already_liked_items=False)\n",
    "     pred_dict[user_id] = y_pred"
   ]
  },
  {
   "cell_type": "code",
   "execution_count": 161,
   "metadata": {},
   "outputs": [],
   "source": [
    "als_ndcg = []\n",
    "for user_id in user_list:\n",
    "    als_ndcg.append(ndcg(gt_dict[user_id], pred_dict[user_id]))"
   ]
  },
  {
   "cell_type": "code",
   "execution_count": 162,
   "metadata": {},
   "outputs": [
    {
     "data": {
      "text/plain": [
       "0.06157373356329583"
      ]
     },
     "execution_count": 162,
     "metadata": {},
     "output_type": "execute_result"
    }
   ],
   "source": [
    "np.mean(als_ndcg)"
   ]
  }
 ],
 "metadata": {
  "kernelspec": {
   "display_name": "Python 3",
   "language": "python",
   "name": "python3"
  },
  "language_info": {
   "codemirror_mode": {
    "name": "ipython",
    "version": 3
   },
   "file_extension": ".py",
   "mimetype": "text/x-python",
   "name": "python",
   "nbconvert_exporter": "python",
   "pygments_lexer": "ipython3",
   "version": "3.10.1"
  }
 },
 "nbformat": 4,
 "nbformat_minor": 2
}
