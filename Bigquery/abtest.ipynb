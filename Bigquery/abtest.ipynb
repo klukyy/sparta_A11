{
 "cells": [
  {
   "cell_type": "code",
   "execution_count": null,
   "metadata": {},
   "outputs": [],
   "source": [
    "#%pip install google-cloud-bigquery\n",
    "#%pip install db-dtypes\n",
    "#%pip install pandas-gbq"
   ]
  },
  {
   "cell_type": "code",
   "execution_count": 66,
   "metadata": {},
   "outputs": [],
   "source": [
    "query = f\"\"\"\n",
    "with join_rn as (SELECT o.user_id,\n",
    "                      order_items_id,\n",
    "                      sess_created_at,\n",
    "                      order_created_at,\n",
    "                      shipped_at,\n",
    "                      session_id,\n",
    "                      event_id\n",
    "                FROM (select `org_data.events`.user_id,\n",
    "                      `org_data.events`.event_type,\n",
    "                      `org_data.events`.created_at `sess_created_at`,\n",
    "                      `org_data.events`.session_id,\n",
    "                      `org_data.events`.id `event_id`,\n",
    "                      row_number() over(partition by cast(`org_data.events`.user_id AS string) order by `org_data.events`.created_at) rn\n",
    "                      from `org_data.events`\n",
    "                      where `org_data.events`.event_type='purchase') e\n",
    "              inner join (select user_id,\n",
    "                        `org_data.order_items`.id `order_items_id`,\n",
    "                        `org_data.order_items`.created_at `order_created_at`,\n",
    "                        `org_data.order_items`.shipped_at `shipped_at`,\n",
    "                        row_number() over(partition by `org_data.order_items`.user_id order by `org_data.order_items`.created_at) rn\n",
    "                        from `org_data.order_items`) o\n",
    "              on e.user_id=o.user_id\n",
    "                and e.rn = o.rn\n",
    ")\n",
    "\n",
    "select \n",
    "  uoe.* EXCEPT(`inventory_item_id`, `product_id`),\n",
    "  iv.id `inventory_item_id`,\n",
    "  iv.product_id,\n",
    "  iv.product_category `category`,\n",
    "  iv.product_brand `brand`,\n",
    "  iv.product_name,\n",
    "  CAST(iv.created_at AS DATE) `inventory_created_at`,\n",
    "  CAST(sold_at AS DATE) `inventory_sold_at`,\n",
    "  iv.cost\n",
    "from\n",
    "  (select \n",
    "    uo.*,\n",
    "    oi.id `order_items_id`,\n",
    "    oi.product_id,\n",
    "    oi.inventory_item_id,\n",
    "    oi.status,\n",
    "    oi.sale_price,\n",
    "    oi.created_at `order_created_at`,\n",
    "    oi.shipped_at,\n",
    "    oi.delivered_at,\n",
    "    oi.returned_at,\n",
    "    e.id `event_id`,\n",
    "    e.session_id,\n",
    "    e.sequence_number,\n",
    "    e.user_id `login_user_id`,\n",
    "    e.created_at `sess_created_at`,\n",
    "    e.traffic_source `sess_traffic_source`,\n",
    "    e.uri,\n",
    "    e.event_type,\n",
    "    e.ip_address,\n",
    "    e.state `sess_state`,\n",
    "    e.city `sess_city`\n",
    "  from\n",
    "    (select u.id `user_id`,\n",
    "      u.age,\n",
    "      u.gender,\n",
    "      u.state `account_state`,\n",
    "      u.city `account_city`,\n",
    "      u.country `account_country`,\n",
    "      u.latitude,\n",
    "      u.longitude,\n",
    "      u.traffic_source `account_traffic_source`,\n",
    "      u.created_at `account_created_at`,\n",
    "      o.order_id,\n",
    "    FROM `org_data.users` u\n",
    "    FULL OUTER JOIN `org_data.orders` o\n",
    "        on o.user_id=u.id) uo\n",
    "  FULL OUTER JOIN `org_data.order_items` oi\n",
    "    on oi.user_id=uo.user_id and oi.order_id=uo.order_id\n",
    "  FULL OUTER JOIN join_rn\n",
    "    on join_rn.user_id=uo.user_id\n",
    "    and join_rn.order_items_id=oi.id\n",
    "  FULL OUTER JOIN `org_data.events` e\n",
    "    on (uo.user_id=e.user_id\n",
    "    and join_rn.event_id=e.id\n",
    "    and e.event_type='purchase')\n",
    "  where e.session_id not in (select session_id\n",
    "                          from join_rn\n",
    "                          where join_rn.shipped_at < join_rn.order_created_at)    --created_at 보다 과거인 shipped을 갖는 세션은 제거\n",
    "    and (\n",
    "        ((oi.shipped_at >= oi.created_at) or (oi.shipped_at is null))          --shipped 정보가 있으면 created_at 보다 클 경우인 주문만\n",
    "          or ((uo.account_created_at is null) and (e.created_at is not null))  --비회원, 세션만 존재\n",
    "        )\n",
    "    or ((uo.account_created_at is not null) and (oi.created_at is null))          --회원, 주문 null (세션 유무 상관없음)\n",
    "  ) uoe\n",
    "FULL OUTER JOIN `org_data.inventory_items` iv\n",
    "  on iv.id=uoe.inventory_item_id\n",
    "  \"\"\""
   ]
  },
  {
   "cell_type": "code",
   "execution_count": 67,
   "metadata": {},
   "outputs": [
    {
     "data": {
      "text/html": [
       "<div>\n",
       "<style scoped>\n",
       "    .dataframe tbody tr th:only-of-type {\n",
       "        vertical-align: middle;\n",
       "    }\n",
       "\n",
       "    .dataframe tbody tr th {\n",
       "        vertical-align: top;\n",
       "    }\n",
       "\n",
       "    .dataframe thead th {\n",
       "        text-align: right;\n",
       "    }\n",
       "</style>\n",
       "<table border=\"1\" class=\"dataframe\">\n",
       "  <thead>\n",
       "    <tr style=\"text-align: right;\">\n",
       "      <th></th>\n",
       "      <th>user_id</th>\n",
       "      <th>age</th>\n",
       "      <th>gender</th>\n",
       "      <th>account_state</th>\n",
       "      <th>account_city</th>\n",
       "      <th>account_country</th>\n",
       "      <th>latitude</th>\n",
       "      <th>longitude</th>\n",
       "      <th>account_traffic_source</th>\n",
       "      <th>account_created_at</th>\n",
       "      <th>...</th>\n",
       "      <th>sess_state</th>\n",
       "      <th>sess_city</th>\n",
       "      <th>inventory_item_id</th>\n",
       "      <th>product_id</th>\n",
       "      <th>category</th>\n",
       "      <th>brand</th>\n",
       "      <th>product_name</th>\n",
       "      <th>inventory_created_at</th>\n",
       "      <th>inventory_sold_at</th>\n",
       "      <th>cost</th>\n",
       "    </tr>\n",
       "  </thead>\n",
       "  <tbody>\n",
       "    <tr>\n",
       "      <th>0</th>\n",
       "      <td>84583</td>\n",
       "      <td>42</td>\n",
       "      <td>F</td>\n",
       "      <td>Paraná</td>\n",
       "      <td>Londrina</td>\n",
       "      <td>Brasil</td>\n",
       "      <td>-23.291597</td>\n",
       "      <td>-51.158522</td>\n",
       "      <td>Search</td>\n",
       "      <td>2019-02-01 13:21:00+00:00</td>\n",
       "      <td>...</td>\n",
       "      <td>Paraná</td>\n",
       "      <td>Londrina</td>\n",
       "      <td>415229</td>\n",
       "      <td>8497</td>\n",
       "      <td>Outerwear &amp; Coats</td>\n",
       "      <td>Marmot</td>\n",
       "      <td>Marmot Safire Jacket - Women's</td>\n",
       "      <td>2021-02-17</td>\n",
       "      <td>NaT</td>\n",
       "      <td>69.300000</td>\n",
       "    </tr>\n",
       "    <tr>\n",
       "      <th>1</th>\n",
       "      <td>&lt;NA&gt;</td>\n",
       "      <td>&lt;NA&gt;</td>\n",
       "      <td>None</td>\n",
       "      <td>None</td>\n",
       "      <td>None</td>\n",
       "      <td>None</td>\n",
       "      <td>NaN</td>\n",
       "      <td>NaN</td>\n",
       "      <td>None</td>\n",
       "      <td>NaT</td>\n",
       "      <td>...</td>\n",
       "      <td>São Paulo</td>\n",
       "      <td>Itararé</td>\n",
       "      <td>&lt;NA&gt;</td>\n",
       "      <td>&lt;NA&gt;</td>\n",
       "      <td>None</td>\n",
       "      <td>None</td>\n",
       "      <td>None</td>\n",
       "      <td>NaT</td>\n",
       "      <td>NaT</td>\n",
       "      <td>NaN</td>\n",
       "    </tr>\n",
       "    <tr>\n",
       "      <th>2</th>\n",
       "      <td>&lt;NA&gt;</td>\n",
       "      <td>&lt;NA&gt;</td>\n",
       "      <td>None</td>\n",
       "      <td>None</td>\n",
       "      <td>None</td>\n",
       "      <td>None</td>\n",
       "      <td>NaN</td>\n",
       "      <td>NaN</td>\n",
       "      <td>None</td>\n",
       "      <td>NaT</td>\n",
       "      <td>...</td>\n",
       "      <td>California</td>\n",
       "      <td>Sacramento</td>\n",
       "      <td>&lt;NA&gt;</td>\n",
       "      <td>&lt;NA&gt;</td>\n",
       "      <td>None</td>\n",
       "      <td>None</td>\n",
       "      <td>None</td>\n",
       "      <td>NaT</td>\n",
       "      <td>NaT</td>\n",
       "      <td>NaN</td>\n",
       "    </tr>\n",
       "    <tr>\n",
       "      <th>3</th>\n",
       "      <td>&lt;NA&gt;</td>\n",
       "      <td>&lt;NA&gt;</td>\n",
       "      <td>None</td>\n",
       "      <td>None</td>\n",
       "      <td>None</td>\n",
       "      <td>None</td>\n",
       "      <td>NaN</td>\n",
       "      <td>NaN</td>\n",
       "      <td>None</td>\n",
       "      <td>NaT</td>\n",
       "      <td>...</td>\n",
       "      <td>Guangdong</td>\n",
       "      <td>Yinchuan</td>\n",
       "      <td>&lt;NA&gt;</td>\n",
       "      <td>&lt;NA&gt;</td>\n",
       "      <td>None</td>\n",
       "      <td>None</td>\n",
       "      <td>None</td>\n",
       "      <td>NaT</td>\n",
       "      <td>NaT</td>\n",
       "      <td>NaN</td>\n",
       "    </tr>\n",
       "    <tr>\n",
       "      <th>4</th>\n",
       "      <td>&lt;NA&gt;</td>\n",
       "      <td>&lt;NA&gt;</td>\n",
       "      <td>None</td>\n",
       "      <td>None</td>\n",
       "      <td>None</td>\n",
       "      <td>None</td>\n",
       "      <td>NaN</td>\n",
       "      <td>NaN</td>\n",
       "      <td>None</td>\n",
       "      <td>NaT</td>\n",
       "      <td>...</td>\n",
       "      <td>Washington</td>\n",
       "      <td>Camas</td>\n",
       "      <td>&lt;NA&gt;</td>\n",
       "      <td>&lt;NA&gt;</td>\n",
       "      <td>None</td>\n",
       "      <td>None</td>\n",
       "      <td>None</td>\n",
       "      <td>NaT</td>\n",
       "      <td>NaT</td>\n",
       "      <td>NaN</td>\n",
       "    </tr>\n",
       "    <tr>\n",
       "      <th>...</th>\n",
       "      <td>...</td>\n",
       "      <td>...</td>\n",
       "      <td>...</td>\n",
       "      <td>...</td>\n",
       "      <td>...</td>\n",
       "      <td>...</td>\n",
       "      <td>...</td>\n",
       "      <td>...</td>\n",
       "      <td>...</td>\n",
       "      <td>...</td>\n",
       "      <td>...</td>\n",
       "      <td>...</td>\n",
       "      <td>...</td>\n",
       "      <td>...</td>\n",
       "      <td>...</td>\n",
       "      <td>...</td>\n",
       "      <td>...</td>\n",
       "      <td>...</td>\n",
       "      <td>...</td>\n",
       "      <td>...</td>\n",
       "      <td>...</td>\n",
       "    </tr>\n",
       "    <tr>\n",
       "      <th>2466226</th>\n",
       "      <td>&lt;NA&gt;</td>\n",
       "      <td>&lt;NA&gt;</td>\n",
       "      <td>None</td>\n",
       "      <td>None</td>\n",
       "      <td>None</td>\n",
       "      <td>None</td>\n",
       "      <td>NaN</td>\n",
       "      <td>NaN</td>\n",
       "      <td>None</td>\n",
       "      <td>NaT</td>\n",
       "      <td>...</td>\n",
       "      <td>None</td>\n",
       "      <td>None</td>\n",
       "      <td>274795</td>\n",
       "      <td>1504</td>\n",
       "      <td>Sweaters</td>\n",
       "      <td>CARRAIG DONN KNITWEAR</td>\n",
       "      <td>Irish Made Lined Shetland Wool Zipper Cardigan</td>\n",
       "      <td>2023-10-11</td>\n",
       "      <td>2023-12-07</td>\n",
       "      <td>40.079949</td>\n",
       "    </tr>\n",
       "    <tr>\n",
       "      <th>2466227</th>\n",
       "      <td>&lt;NA&gt;</td>\n",
       "      <td>&lt;NA&gt;</td>\n",
       "      <td>None</td>\n",
       "      <td>None</td>\n",
       "      <td>None</td>\n",
       "      <td>None</td>\n",
       "      <td>NaN</td>\n",
       "      <td>NaN</td>\n",
       "      <td>None</td>\n",
       "      <td>NaT</td>\n",
       "      <td>...</td>\n",
       "      <td>None</td>\n",
       "      <td>None</td>\n",
       "      <td>403807</td>\n",
       "      <td>1341</td>\n",
       "      <td>Sweaters</td>\n",
       "      <td>Minnie Rose</td>\n",
       "      <td>Minnie Rose Women's Pow Wow Sweater</td>\n",
       "      <td>2022-11-09</td>\n",
       "      <td>NaT</td>\n",
       "      <td>90.159843</td>\n",
       "    </tr>\n",
       "    <tr>\n",
       "      <th>2466228</th>\n",
       "      <td>&lt;NA&gt;</td>\n",
       "      <td>&lt;NA&gt;</td>\n",
       "      <td>None</td>\n",
       "      <td>None</td>\n",
       "      <td>None</td>\n",
       "      <td>None</td>\n",
       "      <td>NaN</td>\n",
       "      <td>NaN</td>\n",
       "      <td>None</td>\n",
       "      <td>NaT</td>\n",
       "      <td>...</td>\n",
       "      <td>None</td>\n",
       "      <td>None</td>\n",
       "      <td>351857</td>\n",
       "      <td>13051</td>\n",
       "      <td>Swim</td>\n",
       "      <td>Beach Joy</td>\n",
       "      <td>Sexy Retro Padded Ruffle Halter One Piece Black</td>\n",
       "      <td>2022-07-24</td>\n",
       "      <td>2022-08-10</td>\n",
       "      <td>13.855801</td>\n",
       "    </tr>\n",
       "    <tr>\n",
       "      <th>2466229</th>\n",
       "      <td>&lt;NA&gt;</td>\n",
       "      <td>&lt;NA&gt;</td>\n",
       "      <td>None</td>\n",
       "      <td>None</td>\n",
       "      <td>None</td>\n",
       "      <td>None</td>\n",
       "      <td>NaN</td>\n",
       "      <td>NaN</td>\n",
       "      <td>None</td>\n",
       "      <td>NaT</td>\n",
       "      <td>...</td>\n",
       "      <td>None</td>\n",
       "      <td>None</td>\n",
       "      <td>193355</td>\n",
       "      <td>399</td>\n",
       "      <td>Tops &amp; Tees</td>\n",
       "      <td>Cosabella</td>\n",
       "      <td>Cosabella Women's Talco Long Camisole</td>\n",
       "      <td>2023-11-14</td>\n",
       "      <td>2023-11-22</td>\n",
       "      <td>41.616000</td>\n",
       "    </tr>\n",
       "    <tr>\n",
       "      <th>2466230</th>\n",
       "      <td>&lt;NA&gt;</td>\n",
       "      <td>&lt;NA&gt;</td>\n",
       "      <td>None</td>\n",
       "      <td>None</td>\n",
       "      <td>None</td>\n",
       "      <td>None</td>\n",
       "      <td>NaN</td>\n",
       "      <td>NaN</td>\n",
       "      <td>None</td>\n",
       "      <td>NaT</td>\n",
       "      <td>...</td>\n",
       "      <td>None</td>\n",
       "      <td>None</td>\n",
       "      <td>158181</td>\n",
       "      <td>170</td>\n",
       "      <td>Tops &amp; Tees</td>\n",
       "      <td>Ralph Lauren</td>\n",
       "      <td>Ralph Lauren Sport Women Lightweight V-Neck T-...</td>\n",
       "      <td>2022-11-04</td>\n",
       "      <td>2022-11-26</td>\n",
       "      <td>15.814350</td>\n",
       "    </tr>\n",
       "  </tbody>\n",
       "</table>\n",
       "<p>2466231 rows × 37 columns</p>\n",
       "</div>"
      ],
      "text/plain": [
       "         user_id   age gender account_state account_city account_country  \\\n",
       "0          84583    42      F        Paraná     Londrina          Brasil   \n",
       "1           <NA>  <NA>   None          None         None            None   \n",
       "2           <NA>  <NA>   None          None         None            None   \n",
       "3           <NA>  <NA>   None          None         None            None   \n",
       "4           <NA>  <NA>   None          None         None            None   \n",
       "...          ...   ...    ...           ...          ...             ...   \n",
       "2466226     <NA>  <NA>   None          None         None            None   \n",
       "2466227     <NA>  <NA>   None          None         None            None   \n",
       "2466228     <NA>  <NA>   None          None         None            None   \n",
       "2466229     <NA>  <NA>   None          None         None            None   \n",
       "2466230     <NA>  <NA>   None          None         None            None   \n",
       "\n",
       "          latitude  longitude account_traffic_source  \\\n",
       "0       -23.291597 -51.158522                 Search   \n",
       "1              NaN        NaN                   None   \n",
       "2              NaN        NaN                   None   \n",
       "3              NaN        NaN                   None   \n",
       "4              NaN        NaN                   None   \n",
       "...            ...        ...                    ...   \n",
       "2466226        NaN        NaN                   None   \n",
       "2466227        NaN        NaN                   None   \n",
       "2466228        NaN        NaN                   None   \n",
       "2466229        NaN        NaN                   None   \n",
       "2466230        NaN        NaN                   None   \n",
       "\n",
       "               account_created_at  ...  sess_state   sess_city  \\\n",
       "0       2019-02-01 13:21:00+00:00  ...      Paraná    Londrina   \n",
       "1                             NaT  ...   São Paulo     Itararé   \n",
       "2                             NaT  ...  California  Sacramento   \n",
       "3                             NaT  ...   Guangdong    Yinchuan   \n",
       "4                             NaT  ...  Washington       Camas   \n",
       "...                           ...  ...         ...         ...   \n",
       "2466226                       NaT  ...        None        None   \n",
       "2466227                       NaT  ...        None        None   \n",
       "2466228                       NaT  ...        None        None   \n",
       "2466229                       NaT  ...        None        None   \n",
       "2466230                       NaT  ...        None        None   \n",
       "\n",
       "        inventory_item_id  product_id           category  \\\n",
       "0                  415229        8497  Outerwear & Coats   \n",
       "1                    <NA>        <NA>               None   \n",
       "2                    <NA>        <NA>               None   \n",
       "3                    <NA>        <NA>               None   \n",
       "4                    <NA>        <NA>               None   \n",
       "...                   ...         ...                ...   \n",
       "2466226            274795        1504           Sweaters   \n",
       "2466227            403807        1341           Sweaters   \n",
       "2466228            351857       13051               Swim   \n",
       "2466229            193355         399        Tops & Tees   \n",
       "2466230            158181         170        Tops & Tees   \n",
       "\n",
       "                         brand  \\\n",
       "0                       Marmot   \n",
       "1                         None   \n",
       "2                         None   \n",
       "3                         None   \n",
       "4                         None   \n",
       "...                        ...   \n",
       "2466226  CARRAIG DONN KNITWEAR   \n",
       "2466227            Minnie Rose   \n",
       "2466228              Beach Joy   \n",
       "2466229              Cosabella   \n",
       "2466230           Ralph Lauren   \n",
       "\n",
       "                                              product_name  \\\n",
       "0                           Marmot Safire Jacket - Women's   \n",
       "1                                                     None   \n",
       "2                                                     None   \n",
       "3                                                     None   \n",
       "4                                                     None   \n",
       "...                                                    ...   \n",
       "2466226     Irish Made Lined Shetland Wool Zipper Cardigan   \n",
       "2466227                Minnie Rose Women's Pow Wow Sweater   \n",
       "2466228    Sexy Retro Padded Ruffle Halter One Piece Black   \n",
       "2466229              Cosabella Women's Talco Long Camisole   \n",
       "2466230  Ralph Lauren Sport Women Lightweight V-Neck T-...   \n",
       "\n",
       "        inventory_created_at  inventory_sold_at       cost  \n",
       "0                 2021-02-17                NaT  69.300000  \n",
       "1                        NaT                NaT        NaN  \n",
       "2                        NaT                NaT        NaN  \n",
       "3                        NaT                NaT        NaN  \n",
       "4                        NaT                NaT        NaN  \n",
       "...                      ...                ...        ...  \n",
       "2466226           2023-10-11         2023-12-07  40.079949  \n",
       "2466227           2022-11-09                NaT  90.159843  \n",
       "2466228           2022-07-24         2022-08-10  13.855801  \n",
       "2466229           2023-11-14         2023-11-22  41.616000  \n",
       "2466230           2022-11-04         2022-11-26  15.814350  \n",
       "\n",
       "[2466231 rows x 37 columns]"
      ]
     },
     "execution_count": 67,
     "metadata": {},
     "output_type": "execute_result"
    }
   ],
   "source": [
    "import glob\n",
    "from google.cloud import bigquery\n",
    "from google.oauth2 import service_account\n",
    "\n",
    "# 서비스 계정 키 JSON 파일 경로\n",
    "key_path = glob.glob(\"./looker-ecommerce-e30fc40090ce.json\")[0]\n",
    "\n",
    "# Credentials 객체 생성\n",
    "credentials = service_account.Credentials.from_service_account_file(key_path)\n",
    "\n",
    "# GCP 클라이언트 객체 생성\n",
    "client = bigquery.Client(credentials = credentials, \n",
    "                         project = credentials.project_id)\n",
    "\n",
    "# 데이터 조회 예시 쿼리문 \n",
    "# FROM절 프로젝트명.데이터셋명.테이블명\n",
    "query = query\n",
    "check = client.query(query).to_dataframe()\n",
    "check"
   ]
  },
  {
   "cell_type": "code",
   "execution_count": 68,
   "metadata": {},
   "outputs": [
    {
     "name": "stdout",
     "output_type": "stream",
     "text": [
      "<class 'pandas.core.frame.DataFrame'>\n",
      "RangeIndex: 2466231 entries, 0 to 2466230\n",
      "Data columns (total 37 columns):\n",
      " #   Column                  Non-Null Count    Dtype              \n",
      "---  ------                  --------------    -----              \n",
      " 0   user_id                 165843 non-null   Int64              \n",
      " 1   age                     165843 non-null   Int64              \n",
      " 2   gender                  165843 non-null   object             \n",
      " 3   account_state           165843 non-null   object             \n",
      " 4   account_city            165843 non-null   object             \n",
      " 5   account_country         165843 non-null   object             \n",
      " 6   latitude                165843 non-null   float64            \n",
      " 7   longitude               165843 non-null   float64            \n",
      " 8   account_traffic_source  165843 non-null   object             \n",
      " 9   account_created_at      165843 non-null   datetime64[us, UTC]\n",
      " 10  order_id                145887 non-null   Int64              \n",
      " 11  order_items_id          145887 non-null   Int64              \n",
      " 12  status                  145887 non-null   object             \n",
      " 13  sale_price              145887 non-null   float64            \n",
      " 14  order_created_at        145887 non-null   datetime64[us, UTC]\n",
      " 15  shipped_at              82409 non-null    datetime64[us, UTC]\n",
      " 16  delivered_at            44367 non-null    datetime64[us, UTC]\n",
      " 17  returned_at             12688 non-null    datetime64[us, UTC]\n",
      " 18  event_id                2101457 non-null  Int64              \n",
      " 19  session_id              2101457 non-null  object             \n",
      " 20  sequence_number         2101457 non-null  Int64              \n",
      " 21  login_user_id           975786 non-null   float64            \n",
      " 22  sess_created_at         2101457 non-null  datetime64[us, UTC]\n",
      " 23  sess_traffic_source     2101457 non-null  object             \n",
      " 24  uri                     2101457 non-null  object             \n",
      " 25  event_type              2101457 non-null  object             \n",
      " 26  ip_address              2101457 non-null  object             \n",
      " 27  sess_state              2101457 non-null  object             \n",
      " 28  sess_city               2101457 non-null  object             \n",
      " 29  inventory_item_id       490705 non-null   Int64              \n",
      " 30  product_id              490705 non-null   Int64              \n",
      " 31  category                490705 non-null   object             \n",
      " 32  brand                   490304 non-null   object             \n",
      " 33  product_name            490676 non-null   object             \n",
      " 34  inventory_created_at    490705 non-null   dbdate             \n",
      " 35  inventory_sold_at       181759 non-null   dbdate             \n",
      " 36  cost                    490705 non-null   float64            \n",
      "dtypes: Int64(8), datetime64[us, UTC](6), dbdate(2), float64(5), object(16)\n",
      "memory usage: 715.0+ MB\n"
     ]
    }
   ],
   "source": [
    "check.info(show_counts=True)"
   ]
  },
  {
   "cell_type": "code",
   "execution_count": 69,
   "metadata": {},
   "outputs": [],
   "source": [
    "# check.to_csv('./looker_(datetime).csv', index=False)"
   ]
  },
  {
   "cell_type": "code",
   "execution_count": 70,
   "metadata": {},
   "outputs": [],
   "source": [
    "df = check.copy()"
   ]
  },
  {
   "cell_type": "markdown",
   "metadata": {},
   "source": [
    "카이 제곱 검정\n",
    "- 신규 유저 (실험군) vs 기존 유저 (대조군)\n",
    "1. 개인 정보: 성별, 연령대, 국가, 유입경로, `→ same` @하늘\n",
    "    - 구매 전환율 (1번 이상 결제), retention (2번 이상 결제) `→ diff` @영아\n",
    "2. 구매 상품: product_id, category, brand, … `→ same` @지은\n",
    "    - top 3"
   ]
  },
  {
   "cell_type": "code",
   "execution_count": 2,
   "metadata": {},
   "outputs": [],
   "source": [
    "import pandas as pd\n",
    "import numpy as np\n",
    "\n",
    "import scipy.stats as stats"
   ]
  },
  {
   "cell_type": "code",
   "execution_count": 3,
   "metadata": {},
   "outputs": [
    {
     "name": "stderr",
     "output_type": "stream",
     "text": [
      "/var/folders/ky/h5cjl7dj2y9cj2mn9cv958kc0000gn/T/ipykernel_14986/3448098404.py:1: DtypeWarning: Columns (35) have mixed types. Specify dtype option on import or set low_memory=False.\n",
      "  df = pd.read_csv('./looker_(datetime).csv')\n"
     ]
    }
   ],
   "source": [
    "df = pd.read_csv('./looker_(datetime).csv')"
   ]
  },
  {
   "cell_type": "code",
   "execution_count": 4,
   "metadata": {},
   "outputs": [],
   "source": [
    "# 형변환\n",
    "def convert_type(df):\n",
    "    for col in df.columns:\n",
    "        if '_at' in col:    # 시간 데이터\n",
    "            try:\n",
    "                df = df.assign(**{col:pd.to_datetime(df[col])})\n",
    "            except:\n",
    "                df = df.assign(**{col:pd.to_datetime(df[col], format='ISO8601')})\n",
    "            print('[+] {0:<30} >>> datetime'.format(col))\n",
    "        elif '_id' in col:  # id 컬럼 -> obj형으로\n",
    "            df = df.assign(**{col:df[col].astype('object')})\n",
    "            print('[+] {0:<30} >>> object'.format(col))\n",
    "    return df"
   ]
  },
  {
   "cell_type": "code",
   "execution_count": 5,
   "metadata": {},
   "outputs": [
    {
     "name": "stdout",
     "output_type": "stream",
     "text": [
      "[+] user_id                        >>> object\n",
      "[+] account_created_at             >>> datetime\n",
      "[+] order_id                       >>> object\n",
      "[+] order_items_id                 >>> object\n",
      "[+] order_created_at               >>> datetime\n",
      "[+] shipped_at                     >>> datetime\n",
      "[+] delivered_at                   >>> datetime\n",
      "[+] returned_at                    >>> datetime\n",
      "[+] event_id                       >>> object\n",
      "[+] session_id                     >>> object\n",
      "[+] login_user_id                  >>> object\n",
      "[+] sess_created_at                >>> datetime\n",
      "[+] inventory_item_id              >>> object\n",
      "[+] product_id                     >>> object\n",
      "[+] inventory_created_at           >>> datetime\n",
      "[+] inventory_sold_at              >>> datetime\n"
     ]
    }
   ],
   "source": [
    "df = convert_type(df)"
   ]
  },
  {
   "cell_type": "code",
   "execution_count": 6,
   "metadata": {},
   "outputs": [
    {
     "name": "stdout",
     "output_type": "stream",
     "text": [
      "<class 'pandas.core.frame.DataFrame'>\n",
      "RangeIndex: 2466231 entries, 0 to 2466230\n",
      "Data columns (total 37 columns):\n",
      " #   Column                  Non-Null Count    Dtype              \n",
      "---  ------                  --------------    -----              \n",
      " 0   user_id                 165843 non-null   object             \n",
      " 1   age                     165843 non-null   float64            \n",
      " 2   gender                  165843 non-null   object             \n",
      " 3   account_state           165843 non-null   object             \n",
      " 4   account_city            164274 non-null   object             \n",
      " 5   account_country         165843 non-null   object             \n",
      " 6   latitude                165843 non-null   float64            \n",
      " 7   longitude               165843 non-null   float64            \n",
      " 8   account_traffic_source  165843 non-null   object             \n",
      " 9   account_created_at      165843 non-null   datetime64[ns, UTC]\n",
      " 10  order_id                145887 non-null   object             \n",
      " 11  order_items_id          145887 non-null   object             \n",
      " 12  status                  145887 non-null   object             \n",
      " 13  sale_price              145887 non-null   float64            \n",
      " 14  order_created_at        145887 non-null   datetime64[ns, UTC]\n",
      " 15  shipped_at              82409 non-null    datetime64[ns, UTC]\n",
      " 16  delivered_at            44367 non-null    datetime64[ns, UTC]\n",
      " 17  returned_at             12688 non-null    datetime64[ns, UTC]\n",
      " 18  event_id                2101457 non-null  object             \n",
      " 19  session_id              2101457 non-null  object             \n",
      " 20  sequence_number         2101457 non-null  float64            \n",
      " 21  login_user_id           975786 non-null   object             \n",
      " 22  sess_created_at         2101457 non-null  datetime64[ns, UTC]\n",
      " 23  sess_traffic_source     2101457 non-null  object             \n",
      " 24  uri                     2101457 non-null  object             \n",
      " 25  event_type              2101457 non-null  object             \n",
      " 26  ip_address              2101457 non-null  object             \n",
      " 27  sess_state              2101457 non-null  object             \n",
      " 28  sess_city               2081218 non-null  object             \n",
      " 29  inventory_item_id       490705 non-null   object             \n",
      " 30  product_id              490705 non-null   object             \n",
      " 31  category                490705 non-null   object             \n",
      " 32  brand                   490304 non-null   object             \n",
      " 33  product_name            490676 non-null   object             \n",
      " 34  inventory_created_at    490705 non-null   datetime64[ns]     \n",
      " 35  inventory_sold_at       181759 non-null   datetime64[ns]     \n",
      " 36  cost                    490705 non-null   float64            \n",
      "dtypes: datetime64[ns, UTC](6), datetime64[ns](2), float64(6), object(23)\n",
      "memory usage: 696.2+ MB\n"
     ]
    }
   ],
   "source": [
    "df.info(show_counts=True)"
   ]
  },
  {
   "cell_type": "code",
   "execution_count": 7,
   "metadata": {},
   "outputs": [],
   "source": [
    "# 실험군: 2024 신규 유입 유저\n",
    "treatment = df[df.account_created_at >= '2024-01-11'].copy()"
   ]
  },
  {
   "cell_type": "code",
   "execution_count": 8,
   "metadata": {},
   "outputs": [],
   "source": [
    "# 대조군: 기존 유저\n",
    "# control = df[df.account_created_at.dt.year==2023].copy()   # 2023년 가입 유저\n",
    "control = df[df.account_created_at < '2024-01-11'].copy()"
   ]
  },
  {
   "cell_type": "code",
   "execution_count": 9,
   "metadata": {},
   "outputs": [
    {
     "name": "stdout",
     "output_type": "stream",
     "text": [
      "전체 유저 수 : 96874명\n",
      "실험군 (treatment) : 2664명\n",
      "대조군 (control) : 94210명\n"
     ]
    }
   ],
   "source": [
    "print(\n",
    "    f'전체 유저 수 : {df.user_id.nunique(dropna=True)}명\\n\\\n",
    "실험군 (treatment) : {treatment.user_id.nunique()}명\\n\\\n",
    "대조군 (control) : {control.user_id.nunique()}명'\n",
    "    )"
   ]
  },
  {
   "cell_type": "code",
   "execution_count": 10,
   "metadata": {},
   "outputs": [],
   "source": [
    "chk_order = df.groupby('user_id').agg({'order_items_id':'nunique'}).reset_index()"
   ]
  },
  {
   "cell_type": "code",
   "execution_count": 11,
   "metadata": {},
   "outputs": [
    {
     "data": {
      "text/plain": [
       "<Axes: ylabel='Frequency'>"
      ]
     },
     "execution_count": 11,
     "metadata": {},
     "output_type": "execute_result"
    },
    {
     "data": {
      "image/png": "[encoded data removed]",
      "text/plain": [
       "<Figure size 640x480 with 1 Axes>"
      ]
     },
     "metadata": {},
     "output_type": "display_data"
    }
   ],
   "source": [
    "chk_order['order_items_id'].plot.hist()"
   ]
  },
  {
   "cell_type": "code",
   "execution_count": 12,
   "metadata": {},
   "outputs": [],
   "source": [
    "chk_order_test = treatment.groupby('user_id').agg({'order_items_id':'nunique'}).reset_index()\n",
    "chk_order_control = control.groupby('user_id').agg({'order_items_id':'nunique'}).reset_index()"
   ]
  },
  {
   "cell_type": "code",
   "execution_count": 13,
   "metadata": {},
   "outputs": [],
   "source": [
    "test_order_0 = len(chk_order_test[chk_order_test.order_items_id == 0])\n",
    "test_order_purchase = len(chk_order_test[chk_order_test.order_items_id != 0])\n",
    "test_order_repurchase = len(chk_order_test[chk_order_test.order_items_id > 1])"
   ]
  },
  {
   "cell_type": "code",
   "execution_count": 14,
   "metadata": {},
   "outputs": [],
   "source": [
    "control_order_0 = len(chk_order_control[chk_order_control.order_items_id == 0])\n",
    "control_order_purchase = len(chk_order_control[chk_order_control.order_items_id != 0])\n",
    "control_order_repurchase = len(chk_order_control[chk_order_control.order_items_id > 1])"
   ]
  },
  {
   "cell_type": "markdown",
   "metadata": {},
   "source": [
    "### 구매율"
   ]
  },
  {
   "cell_type": "code",
   "execution_count": 15,
   "metadata": {},
   "outputs": [
    {
     "name": "stdout",
     "output_type": "stream",
     "text": [
      "  \n",
      "[Chi-square Analysis Result Report]\n",
      "Chi-square: 0.74\n",
      "P-value: 0.39\n",
      "--------------------------\n",
      "Expected Values\n",
      "               treatment      control\n",
      "purchase      2115.21721  74802.78279\n",
      "non_purchase   548.78279  19407.21721\n",
      "--------------------------\n",
      "Observed Values\n",
      "              treatment  control\n",
      "purchase           2097    74821\n",
      "non_purchase        567    19389\n",
      "==========================\n",
      " \n"
     ]
    }
   ],
   "source": [
    "## Part1. Chi-square Test Report\n",
    "purchase = [test_order_purchase, control_order_purchase] # A와 B의 구매한 유저 수\n",
    "non_purchase = [test_order_0, control_order_0]  # A와 B의 구매 안 한 유저 수\n",
    "\n",
    "## Part2. Contingency Table & Chi-squaure Model\n",
    "## 기초 테이블 형성\n",
    "cont_table = pd.DataFrame([purchase, non_purchase], columns=['treatment', 'control'], index=['purchase', 'non_purchase'])\n",
    "\n",
    "## Part3. 카이제곱 독립성 검정 모델 선언\n",
    "chi2, p_val, d_f, expected = stats.chi2_contingency([purchase, non_purchase])\n",
    "\n",
    "## 기대값 표 형성\n",
    "ex = pd.DataFrame(expected, columns = ['treatment', 'control'], index = ['purchase', 'non_purchase'])\n",
    "\n",
    "print(  '  '\n",
    " , '[Chi-square Analysis Result Report]'\n",
    " , 'Chi-square: {}'.format(round(chi2, 2))\n",
    " , 'P-value: {}'.format(round(p_val, 2))\n",
    " , '--------------------------'\n",
    " , 'Expected Values'\n",
    " , ex\n",
    " , '--------------------------'\n",
    " , 'Observed Values'\n",
    " , cont_table\n",
    " , '=========================='\n",
    " , ' '\n",
    " \n",
    " , sep = '\\n'\n",
    " )"
   ]
  },
  {
   "cell_type": "code",
   "execution_count": 16,
   "metadata": {},
   "outputs": [
    {
     "data": {
      "text/plain": [
       "0.7310246679316889"
      ]
     },
     "execution_count": 16,
     "metadata": {},
     "output_type": "execute_result"
    }
   ],
   "source": [
    "# 실험군\n",
    "1541 / (1541 + 567)"
   ]
  },
  {
   "cell_type": "code",
   "execution_count": 17,
   "metadata": {},
   "outputs": [
    {
     "data": {
      "text/plain": [
       "0.736204081632653"
      ]
     },
     "execution_count": 17,
     "metadata": {},
     "output_type": "execute_result"
    }
   ],
   "source": [
    "# 대조군\n",
    "54111 / (54111 + 19389)"
   ]
  },
  {
   "cell_type": "markdown",
   "metadata": {},
   "source": [
    "### 재구매율"
   ]
  },
  {
   "cell_type": "code",
   "execution_count": 18,
   "metadata": {},
   "outputs": [
    {
     "name": "stdout",
     "output_type": "stream",
     "text": [
      "  \n",
      "[Chi-square Analysis Result Report]\n",
      "Chi-square: 0.58\n",
      "P-value: 0.45\n",
      "--------------------------\n",
      "Expected Values\n",
      "            treatment     control\n",
      "purchase    2117.0404  74800.9596\n",
      "repurchase   992.9596  35084.0404\n",
      "--------------------------\n",
      "Observed Values\n",
      "            treatment  control\n",
      "purchase         2097    74821\n",
      "repurchase       1013    35064\n",
      "==========================\n",
      " \n"
     ]
    }
   ],
   "source": [
    "## Part1. Chi-square Test Report\n",
    "purchase = [test_order_purchase, control_order_purchase] # A와 B의 구매한 유저 수\n",
    "repurchase = [test_order_repurchase, control_order_repurchase]  # A와 B의 재구매한 유저 수\n",
    " \n",
    "## Part2. Contingency Table & Chi-squaure Model\n",
    "## 기초 테이블 형성\n",
    "cont_table = pd.DataFrame([purchase, repurchase], columns=['treatment', 'control'], index=['purchase', 'repurchase'])\n",
    " \n",
    "## Part3. 카이제곱 독립성 검정 모델 선언\n",
    "chi2, p_val, d_f, expected = stats.chi2_contingency([purchase, repurchase])\n",
    " \n",
    "## 기대값 표 형성\n",
    "ex = pd.DataFrame(expected, columns = ['treatment', 'control'], index = ['purchase', 'repurchase'])\n",
    " \n",
    "print(  '  '\n",
    " , '[Chi-square Analysis Result Report]'\n",
    " , 'Chi-square: {}'.format(round(chi2, 2))\n",
    " , 'P-value: {}'.format(round(p_val, 2))\n",
    " , '--------------------------'\n",
    " , 'Expected Values'\n",
    " , ex\n",
    " , '--------------------------'\n",
    " , 'Observed Values'\n",
    " , cont_table\n",
    " , '=========================='\n",
    " , ' '\n",
    " \n",
    " , sep = '\\n'\n",
    " )"
   ]
  },
  {
   "cell_type": "code",
   "execution_count": 19,
   "metadata": {},
   "outputs": [
    {
     "data": {
      "text/plain": [
       "0.2519417475728155"
      ]
     },
     "execution_count": 19,
     "metadata": {},
     "output_type": "execute_result"
    }
   ],
   "source": [
    "519 / (1541 + 519)"
   ]
  },
  {
   "cell_type": "code",
   "execution_count": 20,
   "metadata": {},
   "outputs": [
    {
     "data": {
      "text/plain": [
       "0.24490308536023778"
      ]
     },
     "execution_count": 20,
     "metadata": {},
     "output_type": "execute_result"
    }
   ],
   "source": [
    "17550 / (17550 + 54111)"
   ]
  },
  {
   "cell_type": "markdown",
   "metadata": {},
   "source": [
    "P-value가 0.29로 0.05보다 크다 -> 두 그룹의 차이가 없다... => 재구매율은 신규 유저가 좀 더 크다"
   ]
  },
  {
   "cell_type": "markdown",
   "metadata": {},
   "source": [
    "### 가입 시점 ~ 첫 결제일"
   ]
  },
  {
   "cell_type": "code",
   "execution_count": 58,
   "metadata": {},
   "outputs": [],
   "source": [
    "first_order = df.groupby('user_id').order_created_at.min().to_frame().merge(df[['user_id', 'account_created_at']], on='user_id', suffixes=('', '_first'))"
   ]
  },
  {
   "cell_type": "code",
   "execution_count": 59,
   "metadata": {},
   "outputs": [
    {
     "name": "stdout",
     "output_type": "stream",
     "text": [
      "[+] user_id                        >>> object\n",
      "[+] order_created_at               >>> datetime\n",
      "[+] account_created_at             >>> datetime\n"
     ]
    }
   ],
   "source": [
    "first_order = convert_type(first_order)"
   ]
  },
  {
   "cell_type": "code",
   "execution_count": 60,
   "metadata": {},
   "outputs": [],
   "source": [
    "first_order = first_order.assign(order_diff=first_order['order_created_at'] - first_order['account_created_at'])\n",
    "first_order = first_order.assign(order_diff=first_order.order_diff.dt.days)"
   ]
  },
  {
   "cell_type": "code",
   "execution_count": 61,
   "metadata": {},
   "outputs": [
    {
     "name": "stdout",
     "output_type": "stream",
     "text": [
      "<class 'pandas.core.frame.DataFrame'>\n",
      "RangeIndex: 165843 entries, 0 to 165842\n",
      "Data columns (total 4 columns):\n",
      " #   Column              Non-Null Count   Dtype              \n",
      "---  ------              --------------   -----              \n",
      " 0   user_id             165843 non-null  object             \n",
      " 1   order_created_at    145887 non-null  datetime64[ns, UTC]\n",
      " 2   account_created_at  165843 non-null  datetime64[ns, UTC]\n",
      " 3   order_diff          145887 non-null  float64            \n",
      "dtypes: datetime64[ns, UTC](2), float64(1), object(1)\n",
      "memory usage: 5.1+ MB\n"
     ]
    }
   ],
   "source": [
    "first_order.info(show_counts=True)"
   ]
  },
  {
   "cell_type": "code",
   "execution_count": 62,
   "metadata": {},
   "outputs": [],
   "source": [
    "# 실험군: 2024 신규 유입 유저 / 대조군: 기존 유저\n",
    "first_order.loc[first_order.account_created_at >= '2024-01-11', 'grp'] = 'treatment'\n",
    "first_order.loc[first_order.account_created_at < '2024-01-11', 'grp'] = 'control'"
   ]
  },
  {
   "cell_type": "code",
   "execution_count": 63,
   "metadata": {},
   "outputs": [],
   "source": [
    "test_first_order = first_order[first_order.grp=='treatment'].order_diff\n",
    "first_order_max = test_first_order.max()\n",
    "ctrl_first_order = first_order[(first_order.grp=='control') & (first_order.order_diff <= first_order_max)].order_diff"
   ]
  },
  {
   "cell_type": "code",
   "execution_count": 64,
   "metadata": {},
   "outputs": [
    {
     "name": "stdout",
     "output_type": "stream",
     "text": [
      "지불 금액의 분산: 실험군 0.83일 vs 대조군 3.81일\n",
      "분산이 2배 이상 차이나므로, Welch's t-test\n"
     ]
    }
   ],
   "source": [
    "var_test = np.var(test_first_order)\n",
    "var_ctrl = np.var(ctrl_first_order)\n",
    "\n",
    "print('지불 금액의 분산: 실험군 {:.2f}일 vs 대조군 {:.2f}일'.format(var_test, var_ctrl))\n",
    "\n",
    "if (var_test > var_ctrl * 2) or (var_ctrl > var_test * 2):\n",
    "    print('분산이 2배 이상 차이나므로, Welch\\'s t-test')\n",
    "    equal_var=False\n",
    "else:\n",
    "    print('분산이 같으므로, Student\\'s t-test')\n",
    "    equal_var=True"
   ]
  },
  {
   "cell_type": "code",
   "execution_count": 66,
   "metadata": {},
   "outputs": [
    {
     "name": "stdout",
     "output_type": "stream",
     "text": [
      "t-statistic: -81.44174638308463    p-value: 0.0\n",
      "두 그룹이 차이가 있다.\n"
     ]
    }
   ],
   "source": [
    "t_stat, p_val = stats.ttest_ind(test_first_order.dropna(), \n",
    "                                ctrl_first_order.dropna(),\n",
    "                                equal_var=equal_var)\n",
    "\n",
    "print('t-statistic:', t_stat, '   p-value:', p_val)\n",
    "\n",
    "if p_val < 0.05:\n",
    "    print('두 그룹이 차이가 있다.')\n",
    "else:\n",
    "    print('두 그룹이 차이가 없다.')"
   ]
  },
  {
   "cell_type": "markdown",
   "metadata": {},
   "source": [
    "### 가입 시점 ~ 두 번째 결제일"
   ]
  },
  {
   "cell_type": "code",
   "execution_count": 67,
   "metadata": {},
   "outputs": [],
   "source": [
    "# 2번 이상 구매한 유저 대상\n",
    "ret = df.groupby('user_id').order_id.count().to_frame()\n",
    "ret_user_list = ret[ret.order_id >= 2].index"
   ]
  },
  {
   "cell_type": "code",
   "execution_count": 68,
   "metadata": {},
   "outputs": [],
   "source": [
    "second_order = df[df.user_id.isin(ret_user_list)].groupby('user_id').order_created_at.apply(lambda x: sorted(x)[1]).to_frame()\n",
    "second_order = second_order.merge(df[['user_id', 'account_created_at']], on='user_id', how='left').drop_duplicates()"
   ]
  },
  {
   "cell_type": "code",
   "execution_count": 69,
   "metadata": {},
   "outputs": [
    {
     "name": "stdout",
     "output_type": "stream",
     "text": [
      "[+] user_id                        >>> object\n",
      "[+] order_created_at               >>> datetime\n",
      "[+] account_created_at             >>> datetime\n"
     ]
    }
   ],
   "source": [
    "second_order = convert_type(second_order)"
   ]
  },
  {
   "cell_type": "code",
   "execution_count": 70,
   "metadata": {},
   "outputs": [],
   "source": [
    "second_order = second_order.assign(order_diff=second_order['order_created_at'] - second_order['account_created_at'])\n",
    "second_order = second_order.assign(order_diff=second_order.order_diff.dt.days)"
   ]
  },
  {
   "cell_type": "code",
   "execution_count": 71,
   "metadata": {},
   "outputs": [],
   "source": [
    "second_order.loc[second_order.account_created_at >= '2024-01-11', 'grp'] = 'treatment'\n",
    "second_order.loc[second_order.account_created_at < '2024-01-11', 'grp'] = 'control'"
   ]
  },
  {
   "cell_type": "code",
   "execution_count": 72,
   "metadata": {},
   "outputs": [],
   "source": [
    "test_second_order = second_order[second_order.grp=='treatment'].order_diff\n",
    "second_order_max = test_second_order.max()\n",
    "ctrl_second_order = second_order[(second_order.grp=='control') & (second_order.order_diff <= second_order_max)].order_diff"
   ]
  },
  {
   "cell_type": "code",
   "execution_count": 73,
   "metadata": {},
   "outputs": [
    {
     "name": "stdout",
     "output_type": "stream",
     "text": [
      "지불 금액의 분산: 실험군 1.90일 vs 대조군 3.81일\n",
      "분산이 2배 이상 차이나므로, Welch's t-test\n"
     ]
    }
   ],
   "source": [
    "var_test = np.var(test_second_order)\n",
    "var_ctrl = np.var(ctrl_second_order)\n",
    "\n",
    "print('지불 금액의 분산: 실험군 {:.2f}일 vs 대조군 {:.2f}일'.format(var_test, var_ctrl))\n",
    "\n",
    "if (var_test > var_ctrl * 2) or (var_ctrl > var_test * 2):\n",
    "    print('분산이 2배 이상 차이나므로, Welch\\'s t-test')\n",
    "    equal_var=False\n",
    "else:\n",
    "    print('분산이 같으므로, Student\\'s t-test')\n",
    "    equal_var=True"
   ]
  },
  {
   "cell_type": "code",
   "execution_count": 74,
   "metadata": {},
   "outputs": [
    {
     "name": "stdout",
     "output_type": "stream",
     "text": [
      "t-statistic: -33.70995481558469    p-value: 1.2820131820945723e-155\n",
      "두 그룹이 차이가 있다.\n"
     ]
    }
   ],
   "source": [
    "t_stat, p_val = stats.ttest_ind(test_second_order, \n",
    "                                ctrl_second_order,\n",
    "                                equal_var=equal_var)\n",
    "\n",
    "print('t-statistic:', t_stat, '   p-value:', p_val)\n",
    "\n",
    "if p_val < 0.05:\n",
    "    print('두 그룹이 차이가 있다.')\n",
    "else:\n",
    "    print('두 그룹이 차이가 없다.')"
   ]
  },
  {
   "cell_type": "markdown",
   "metadata": {},
   "source": [
    "### 평균 지불 금액"
   ]
  },
  {
   "cell_type": "code",
   "execution_count": 43,
   "metadata": {},
   "outputs": [],
   "source": [
    "chk_mean_purchase = df.groupby('user_id').agg({'sale_price':'mean'}).reset_index()"
   ]
  },
  {
   "cell_type": "code",
   "execution_count": 44,
   "metadata": {},
   "outputs": [
    {
     "data": {
      "text/plain": [
       "<Axes: ylabel='Frequency'>"
      ]
     },
     "execution_count": 44,
     "metadata": {},
     "output_type": "execute_result"
    },
    {
     "data": {
      "image/png": "[encoded data removed]",
      "text/plain": [
       "<Figure size 640x480 with 1 Axes>"
      ]
     },
     "metadata": {},
     "output_type": "display_data"
    }
   ],
   "source": [
    "chk_mean_purchase['sale_price'].plot.hist()"
   ]
  },
  {
   "cell_type": "code",
   "execution_count": 46,
   "metadata": {},
   "outputs": [
    {
     "name": "stdout",
     "output_type": "stream",
     "text": [
      "전체 유저의 평균 지불 금액: 중앙값 45.00 | 평균값 59.44\n"
     ]
    }
   ],
   "source": [
    "print(\n",
    "    '전체 유저의 평균 지불 금액: 중앙값 {:.2f} | 평균값 {:.2f}'.format(\n",
    "        np.median(chk_mean_purchase['sale_price'].dropna()), \n",
    "        np.mean(chk_mean_purchase['sale_price']))\n",
    ")"
   ]
  },
  {
   "cell_type": "code",
   "execution_count": 47,
   "metadata": {},
   "outputs": [
    {
     "name": "stdout",
     "output_type": "stream",
     "text": [
      "1인당 평균 지불 금액: 실험군 $60.60 vs 대조군 $59.40\n"
     ]
    }
   ],
   "source": [
    "print(\n",
    "    '1인당 평균 지불 금액: 실험군 ${:.2f} vs 대조군 ${:.2f}'.format(\n",
    "        np.mean(treatment.groupby('user_id').agg({'sale_price':'mean'})), \n",
    "        np.mean(control.groupby('user_id').agg({'sale_price':'mean'})))\n",
    ")"
   ]
  },
  {
   "cell_type": "code",
   "execution_count": 48,
   "metadata": {},
   "outputs": [
    {
     "name": "stdout",
     "output_type": "stream",
     "text": [
      "제품단가: 중앙값 39.99 | 평균값 59.46\n"
     ]
    }
   ],
   "source": [
    "print(\n",
    "    '제품단가: 중앙값 {:.2f} | 평균값 {:.2f}'.format(\n",
    "        np.nanmedian(df.groupby('product_name').agg({'sale_price':'mean'})), \n",
    "        np.mean(df.groupby('product_name').agg({'sale_price':'mean'})))\n",
    ")"
   ]
  },
  {
   "cell_type": "code",
   "execution_count": 49,
   "metadata": {},
   "outputs": [],
   "source": [
    "test_mean_price = treatment.groupby('user_id').agg({'sale_price':'mean'})\n",
    "ctrl_mean_price = control.groupby('user_id').agg({'sale_price':'mean'})"
   ]
  },
  {
   "cell_type": "code",
   "execution_count": 50,
   "metadata": {},
   "outputs": [
    {
     "data": {
      "text/plain": [
       "LeveneResult(statistic=array([0.06476696]), pvalue=array([0.79911498]))"
      ]
     },
     "execution_count": 50,
     "metadata": {},
     "output_type": "execute_result"
    }
   ],
   "source": [
    "# 등분산 검정: pvalue가 0.05보다 크므로 두 표본의 분산이 같다\n",
    "stats.levene(test_mean_price.dropna(), ctrl_mean_price.dropna())"
   ]
  },
  {
   "cell_type": "code",
   "execution_count": null,
   "metadata": {},
   "outputs": [],
   "source": [
    "mean_purchase_treatment = treatment.groupby('user_id')['sale_price'].mean()\n",
    "mean_purchase_control = control.groupby('user_id')['sale_price'].mean()"
   ]
  },
  {
   "cell_type": "code",
   "execution_count": 55,
   "metadata": {},
   "outputs": [
    {
     "name": "stdout",
     "output_type": "stream",
     "text": [
      "지불 금액의 분산: 실험군 $2861.67 vs 대조군 $3084.45\n",
      "분산이 같으므로, Student's t-test\n"
     ]
    }
   ],
   "source": [
    "var_test = np.var(mean_purchase_treatment)\n",
    "var_ctrl = np.var(mean_purchase_control)\n",
    "\n",
    "print('지불 금액의 분산: 실험군 ${:.2f} vs 대조군 ${:.2f}'.format(var_test, var_ctrl))\n",
    "\n",
    "if (var_test > var_ctrl * 2) or (var_ctrl > var_test * 2):\n",
    "    print('분산이 2배 이상 차이나므로, Welch\\'s t-test')\n",
    "    equal_var=False\n",
    "else:\n",
    "    print('분산이 같으므로, Student\\'s t-test')\n",
    "    equal_var=True"
   ]
  },
  {
   "cell_type": "code",
   "execution_count": 56,
   "metadata": {},
   "outputs": [
    {
     "name": "stdout",
     "output_type": "stream",
     "text": [
      "t-statistic: 0.9777010494620041    p-value: 0.32822527756898123\n",
      "두 그룹이 차이가 없다.\n"
     ]
    }
   ],
   "source": [
    "t_stat, p_val = stats.ttest_ind(mean_purchase_treatment.dropna(), mean_purchase_control.dropna(),\n",
    "                                equal_var=equal_var)\n",
    "\n",
    "print('t-statistic:', t_stat, '   p-value:', p_val)\n",
    "\n",
    "if p_val < 0.05:\n",
    "    print('두 그룹이 차이가 있다.')\n",
    "else:\n",
    "    print('두 그룹이 차이가 없다.')"
   ]
  },
  {
   "cell_type": "markdown",
   "metadata": {},
   "source": [
    "### 특정 product 구매\n",
    "- 2024년 1월 11일부터 판매량이 많은 제품 top 5\n",
    "- 이 제품을 구매한 유저 수 vs 구매 안한 유저 수"
   ]
  },
  {
   "cell_type": "code",
   "execution_count": 256,
   "metadata": {},
   "outputs": [],
   "source": [
    "product_top5 = df[df.order_created_at >= '2024-01-11'].product_name.value_counts()[:5].index"
   ]
  },
  {
   "cell_type": "code",
   "execution_count": 257,
   "metadata": {},
   "outputs": [
    {
     "name": "stdout",
     "output_type": "stream",
     "text": [
      "[Chi-square Analysis Result Report]\n",
      "------------------------------------\n",
      "Product 1: Boconi Collins Calf Billfold\n",
      "Chi-square: 10.92\n",
      "P-value: 0.0\n",
      "--------------------------\n",
      "Expected Values\n",
      "                                           treatment       control\n",
      "purchase_Boconi Collins Calf Billfold    1555.094478  54096.905522\n",
      "unpurchase_Boconi Collins Calf Billfold   504.905522  17564.094478\n",
      "--------------------------\n",
      "Observed Values\n",
      "                                         treatment  control\n",
      "purchase_Boconi Collins Calf Billfold            2        4\n",
      "unpurchase_Boconi Collins Calf Billfold       2106    73496\n",
      "==========================\n",
      "Product 2: 2 PC. Ladies Lace Babydoll Set - One Size - Black/Pink\n",
      "Chi-square: 52.62\n",
      "P-value: 0.0\n",
      "--------------------------\n",
      "Expected Values\n",
      "                                                      treatment       control\n",
      "purchase_2 PC. Ladies Lace Babydoll Set - One S...  1555.094478  54096.905522\n",
      "unpurchase_2 PC. Ladies Lace Babydoll Set - One...   504.905522  17564.094478\n",
      "--------------------------\n",
      "Observed Values\n",
      "                                                    treatment  control\n",
      "purchase_2 PC. Ladies Lace Babydoll Set - One S...          3        1\n",
      "unpurchase_2 PC. Ladies Lace Babydoll Set - One...       2105    73499\n",
      "==========================\n",
      "Product 3: Port Authority K321 Interlock Knit Mock Turtleneck\n",
      "Chi-square: 10.92\n",
      "P-value: 0.0\n",
      "--------------------------\n",
      "Expected Values\n",
      "                                                      treatment       control\n",
      "purchase_Port Authority K321 Interlock Knit Moc...  1555.094478  54096.905522\n",
      "unpurchase_Port Authority K321 Interlock Knit M...   504.905522  17564.094478\n",
      "--------------------------\n",
      "Observed Values\n",
      "                                                    treatment  control\n",
      "purchase_Port Authority K321 Interlock Knit Moc...          2        4\n",
      "unpurchase_Port Authority K321 Interlock Knit M...       2106    73496\n",
      "==========================\n",
      "Product 4: Burnside Men's Bedrock Plaid Woven Short\n",
      "Chi-square: 10.92\n",
      "P-value: 0.0\n",
      "--------------------------\n",
      "Expected Values\n",
      "                                                      treatment       control\n",
      "purchase_Burnside Men's Bedrock Plaid Woven Short   1555.094478  54096.905522\n",
      "unpurchase_Burnside Men's Bedrock Plaid Woven S...   504.905522  17564.094478\n",
      "--------------------------\n",
      "Observed Values\n",
      "                                                    treatment  control\n",
      "purchase_Burnside Men's Bedrock Plaid Woven Short           2        4\n",
      "unpurchase_Burnside Men's Bedrock Plaid Woven S...       2106    73496\n",
      "==========================\n",
      "Product 5: Volcom Men's Nova Modern Straight Leg Fit\n",
      "Chi-square: 6.4\n",
      "P-value: 0.01\n",
      "--------------------------\n",
      "Expected Values\n",
      "                                                      treatment       control\n",
      "purchase_Volcom Men's Nova Modern Straight Leg Fit  1555.094478  54096.905522\n",
      "unpurchase_Volcom Men's Nova Modern Straight Le...   504.905522  17564.094478\n",
      "--------------------------\n",
      "Observed Values\n",
      "                                                    treatment  control\n",
      "purchase_Volcom Men's Nova Modern Straight Leg Fit          2        7\n",
      "unpurchase_Volcom Men's Nova Modern Straight Le...       2106    73493\n",
      "==========================\n"
     ]
    }
   ],
   "source": [
    "print('[Chi-square Analysis Result Report]\\n------------------------------------')\n",
    "for i,product in enumerate(product_top5, start=1):\n",
    "\n",
    "    test = treatment[treatment.product_name==product].user_id.nunique()\n",
    "    ctrl = control[control.product_name==product].user_id.nunique()\n",
    "\n",
    "    ## Part1. Chi-square Test Report\n",
    "    purchase_product = [test, ctrl] # A와 B의 특정 product를 구매한 유저 수\n",
    "    unpurchase_product = [treatment.user_id.nunique() - test, \n",
    "                control.user_id.nunique() - ctrl]  # A와 B의 특정 product를 구매하지 않은 유저 수\n",
    "    \n",
    "    ## Part2. Contingency Table & Chi-squaure Model\n",
    "    ## 기초 테이블 형성\n",
    "    cont_table = pd.DataFrame([purchase_product, unpurchase_product], columns=['treatment', 'control'], index=[f'purchase_{product}', f'unpurchase_{product}'])\n",
    "\n",
    "    ## Part3. 카이제곱 독립성 검정 모델 선언\n",
    "    chi2, p_val, _, _ = stats.chi2_contingency([purchase_product, unpurchase_product])\n",
    "\n",
    "    ## 기대값 표 형성\n",
    "    ex = pd.DataFrame(expected, columns = ['treatment', 'control'], index = [f'purchase_{product}', f'unpurchase_{product}'])\n",
    "\n",
    "    print(\n",
    "      'Product {}: {}'.format(i, product)\n",
    "    , 'Chi-square: {}'.format(round(chi2, 2))\n",
    "    , 'P-value: {}'.format(round(p_val, 2))\n",
    "    , '--------------------------'\n",
    "    , 'Expected Values'\n",
    "    , ex\n",
    "    , '--------------------------'\n",
    "    , 'Observed Values'\n",
    "    , cont_table\n",
    "    ,  '=========================='\n",
    "    , sep = '\\n'\n",
    "    )"
   ]
  },
  {
   "cell_type": "markdown",
   "metadata": {},
   "source": [
    "P-value가 0.0로 0.05보다 작다 -> 두 그룹의 차이가 있다 => 신규 유저가 해당 카테고리를 더 샀다"
   ]
  },
  {
   "cell_type": "code",
   "execution_count": 258,
   "metadata": {},
   "outputs": [
    {
     "name": "stdout",
     "output_type": "stream",
     "text": [
      "1. Boconi Collins Calf Billfold                                          : 2019-12-11 00:00:00\n",
      "2. 2 PC. Ladies Lace Babydoll Set - One Size - Black/Pink                : 2019-04-11 00:00:00\n",
      "3. Port Authority K321 Interlock Knit Mock Turtleneck                    : 2020-01-30 00:00:00\n",
      "4. Burnside Men's Bedrock Plaid Woven Short                              : 2019-08-25 00:00:00\n",
      "5. Volcom Men's Nova Modern Straight Leg Fit                             : 2020-01-27 00:00:00\n"
     ]
    }
   ],
   "source": [
    "# 해당 제품들의 첫 입고 시기\n",
    "for i, product in enumerate(product_top5, start=1):\n",
    "    print('{}. {:<70}: {}'.format(\n",
    "        i,\n",
    "        product,\n",
    "        df[df.product_name==product].inventory_created_at.min()\n",
    "    ))"
   ]
  },
  {
   "cell_type": "markdown",
   "metadata": {},
   "source": [
    "=> 입고 시기는 과거였어도, 결국 해당 제품을 구매한 유저가 4명 ~ 8명인데 두 그룹이 다르다고 할 수 있을까....?ㅜㅜ"
   ]
  },
  {
   "cell_type": "code",
   "execution_count": 259,
   "metadata": {},
   "outputs": [
    {
     "name": "stdout",
     "output_type": "stream",
     "text": [
      "[Chi-square Analysis Result Report]\n",
      "------------------------------------\n",
      "Product 1: Intimates\n",
      "Chi-square: 1.5\n",
      "P-value: 0.22\n",
      "--------------------------\n",
      "Expected Values\n",
      "                        treatment       control\n",
      "purchase_Intimates    1555.094478  54096.905522\n",
      "unpurchase_Intimates   504.905522  17564.094478\n",
      "--------------------------\n",
      "Observed Values\n",
      "                      treatment  control\n",
      "purchase_Intimates          175     5558\n",
      "unpurchase_Intimates       1933    67942\n",
      "==========================\n",
      "Product 2: Fashion Hoodies & Sweatshirts\n",
      "Chi-square: 2.54\n",
      "P-value: 0.11\n",
      "--------------------------\n",
      "Expected Values\n",
      "                                            treatment       control\n",
      "purchase_Fashion Hoodies & Sweatshirts    1555.094478  54096.905522\n",
      "unpurchase_Fashion Hoodies & Sweatshirts   504.905522  17564.094478\n",
      "--------------------------\n",
      "Observed Values\n",
      "                                          treatment  control\n",
      "purchase_Fashion Hoodies & Sweatshirts          165     5078\n",
      "unpurchase_Fashion Hoodies & Sweatshirts       1943    68422\n",
      "==========================\n",
      "Product 3: Jeans\n",
      "Chi-square: 0.25\n",
      "P-value: 0.62\n",
      "--------------------------\n",
      "Expected Values\n",
      "                    treatment       control\n",
      "purchase_Jeans    1555.094478  54096.905522\n",
      "unpurchase_Jeans   504.905522  17564.094478\n",
      "--------------------------\n",
      "Observed Values\n",
      "                  treatment  control\n",
      "purchase_Jeans          162     5419\n",
      "unpurchase_Jeans       1946    68081\n",
      "==========================\n",
      "Product 4: Tops & Tees\n",
      "Chi-square: 0.29\n",
      "P-value: 0.59\n",
      "--------------------------\n",
      "Expected Values\n",
      "                          treatment       control\n",
      "purchase_Tops & Tees    1555.094478  54096.905522\n",
      "unpurchase_Tops & Tees   504.905522  17564.094478\n",
      "--------------------------\n",
      "Observed Values\n",
      "                        treatment  control\n",
      "purchase_Tops & Tees          152     5061\n",
      "unpurchase_Tops & Tees       1956    68439\n",
      "==========================\n",
      "Product 5: Swim\n",
      "Chi-square: 0.73\n",
      "P-value: 0.39\n",
      "--------------------------\n",
      "Expected Values\n",
      "                   treatment       control\n",
      "purchase_Swim    1555.094478  54096.905522\n",
      "unpurchase_Swim   504.905522  17564.094478\n",
      "--------------------------\n",
      "Observed Values\n",
      "                 treatment  control\n",
      "purchase_Swim          150     4866\n",
      "unpurchase_Swim       1958    68634\n",
      "==========================\n"
     ]
    }
   ],
   "source": [
    "category_top5 = df[df.order_created_at >= '2024-01-11'].category.value_counts()[:5].index\n",
    "print('[Chi-square Analysis Result Report]\\n------------------------------------')\n",
    "for i, category in enumerate(category_top5, start=1):\n",
    "\n",
    "    test = treatment[treatment.category==category].user_id.nunique()\n",
    "    ctrl = control[control.category==category].user_id.nunique()\n",
    "\n",
    "    ## Part1. Chi-square Test Report\n",
    "    purchase_category = [test, ctrl] # A와 B의 특정 product를 구매한 유저 수\n",
    "    unpurchase_category = [treatment.user_id.nunique() - test, \n",
    "                control.user_id.nunique() - ctrl]  # A와 B의 특정 product를 구매하지 않은 유저 수\n",
    "    \n",
    "    ## Part2. Contingency Table & Chi-squaure Model\n",
    "    ## 기초 테이블 형성\n",
    "    cont_table = pd.DataFrame([purchase_category, unpurchase_category], columns=['treatment', 'control'], index=[f'purchase_{category}', f'unpurchase_{category}'])\n",
    "\n",
    "    ## Part3. 카이제곱 독립성 검정 모델 선언\n",
    "    chi2, p_val, _, _ = stats.chi2_contingency([purchase_category, unpurchase_category])\n",
    "\n",
    "    ## 기대값 표 형성\n",
    "    ex = pd.DataFrame(expected, columns = ['treatment', 'control'], index = [f'purchase_{category}', f'unpurchase_{category}'])\n",
    "\n",
    "    print(\n",
    "      'Product {}: {}'.format(i, category)\n",
    "    , 'Chi-square: {}'.format(round(chi2, 2))\n",
    "    , 'P-value: {}'.format(round(p_val, 2))\n",
    "    , '--------------------------'\n",
    "    , 'Expected Values'\n",
    "    , ex\n",
    "    , '--------------------------'\n",
    "    , 'Observed Values'\n",
    "    , cont_table\n",
    "    ,  '=========================='\n",
    "    , sep = '\\n'\n",
    "    )"
   ]
  },
  {
   "cell_type": "code",
   "execution_count": null,
   "metadata": {},
   "outputs": [],
   "source": []
  }
 ],
 "metadata": {
  "kernelspec": {
   "display_name": "Python 3",
   "language": "python",
   "name": "python3"
  },
  "language_info": {
   "codemirror_mode": {
    "name": "ipython",
    "version": 3
   },
   "file_extension": ".py",
   "mimetype": "text/x-python",
   "name": "python",
   "nbconvert_exporter": "python",
   "pygments_lexer": "ipython3",
   "version": "3.10.1"
  }
 },
 "nbformat": 4,
 "nbformat_minor": 2
}
