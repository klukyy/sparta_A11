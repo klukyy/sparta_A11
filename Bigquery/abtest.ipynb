{
 "cells": [
  {
   "cell_type": "code",
   "execution_count": null,
   "metadata": {},
   "outputs": [],
   "source": [
    "#%pip install google-cloud-bigquery\n",
    "#%pip install db-dtypes\n",
    "#%pip install pandas-gbq"
   ]
  },
  {
   "cell_type": "code",
   "execution_count": 208,
   "metadata": {},
   "outputs": [],
   "source": [
    "query = f\"\"\"\n",
    "select uoe.* EXCEPT(`inventory_item_id`, `product_id`),\n",
    "iv.id `inventory_item_id`,\n",
    "iv.product_id,\n",
    "iv.product_category `category`,\n",
    "iv.product_brand `brand`,\n",
    "iv.product_name,\n",
    "CAST(iv.created_at AS DATE) `inventory_created_at`,\n",
    "CAST(sold_at AS DATE) `inventory_sold_at`,\n",
    "iv.cost\n",
    "from\n",
    "(select uo.*,\n",
    "oi.id `order_items_id`,\n",
    "oi.product_id,\n",
    "oi.inventory_item_id,\n",
    "oi.status,\n",
    "oi.sale_price,\n",
    "CAST(oi.created_at AS DATE) `order_created_at`,\n",
    "e.session_id,\n",
    "e.sequence_number,\n",
    "e.user_id `login_user_id`,\n",
    "CAST(e.created_at AS DATE) `sess_created_at`,\n",
    "e.traffic_source `sess_traffic_source`,\n",
    "e.uri,\n",
    "e.event_type,\n",
    "e.ip_address,\n",
    "e.state `sess_state`,\n",
    "e.city `sess_city`,\n",
    "from\n",
    "(select u.id `user_id`,\n",
    "u.age,\n",
    "u.gender,\n",
    "u.state `account_state`,\n",
    "u.city `account_city`,\n",
    "u.country `account_country`,\n",
    "u.latitude,\n",
    "u.longitude,\n",
    "u.traffic_source `account_traffic_source`,\n",
    "CAST(u.created_at AS DATE) `account_created_at`,\n",
    "o.order_id,\n",
    "FROM `org_data.users` u\n",
    "FULL OUTER JOIN `org_data.orders` o\n",
    "on o.user_id=u.id) uo\n",
    "FULL OUTER JOIN `org_data.order_items` oi\n",
    "on oi.user_id=uo.user_id and oi.order_id=uo.order_id\n",
    "FULL OUTER JOIN `org_data.events` e\n",
    "on uo.user_id=e.user_id and e.created_at=oi.created_at and e.event_type='purchase'\n",
    "where (oi.shipped_at >= oi.created_at) or (e.created_at is not null and oi.created_at is null) or (oi.created_at is null and uo.account_created_at is not null)\n",
    ") uoe\n",
    "FULL OUTER JOIN `org_data.inventory_items` iv\n",
    "on iv.id=uoe.inventory_item_id\n",
    "\"\"\""
   ]
  },
  {
   "cell_type": "code",
   "execution_count": 209,
   "metadata": {},
   "outputs": [
    {
     "data": {
      "text/html": [
       "<div>\n",
       "<style scoped>\n",
       "    .dataframe tbody tr th:only-of-type {\n",
       "        vertical-align: middle;\n",
       "    }\n",
       "\n",
       "    .dataframe tbody tr th {\n",
       "        vertical-align: top;\n",
       "    }\n",
       "\n",
       "    .dataframe thead th {\n",
       "        text-align: right;\n",
       "    }\n",
       "</style>\n",
       "<table border=\"1\" class=\"dataframe\">\n",
       "  <thead>\n",
       "    <tr style=\"text-align: right;\">\n",
       "      <th></th>\n",
       "      <th>user_id</th>\n",
       "      <th>age</th>\n",
       "      <th>gender</th>\n",
       "      <th>account_state</th>\n",
       "      <th>account_city</th>\n",
       "      <th>account_country</th>\n",
       "      <th>latitude</th>\n",
       "      <th>longitude</th>\n",
       "      <th>account_traffic_source</th>\n",
       "      <th>account_created_at</th>\n",
       "      <th>...</th>\n",
       "      <th>sess_state</th>\n",
       "      <th>sess_city</th>\n",
       "      <th>inventory_item_id</th>\n",
       "      <th>product_id</th>\n",
       "      <th>category</th>\n",
       "      <th>brand</th>\n",
       "      <th>product_name</th>\n",
       "      <th>inventory_created_at</th>\n",
       "      <th>inventory_sold_at</th>\n",
       "      <th>cost</th>\n",
       "    </tr>\n",
       "  </thead>\n",
       "  <tbody>\n",
       "    <tr>\n",
       "      <th>0</th>\n",
       "      <td>73890</td>\n",
       "      <td>40</td>\n",
       "      <td>F</td>\n",
       "      <td>California</td>\n",
       "      <td>San Francisco</td>\n",
       "      <td>United States</td>\n",
       "      <td>37.795407</td>\n",
       "      <td>-122.422234</td>\n",
       "      <td>Search</td>\n",
       "      <td>2023-05-09</td>\n",
       "      <td>...</td>\n",
       "      <td>None</td>\n",
       "      <td>None</td>\n",
       "      <td>363366</td>\n",
       "      <td>5672</td>\n",
       "      <td>Pants &amp; Capris</td>\n",
       "      <td>Eddie Bauer</td>\n",
       "      <td>Eddie Bauer Curvy Blakely Legend Wash Pants</td>\n",
       "      <td>2023-02-03</td>\n",
       "      <td>NaT</td>\n",
       "      <td>29.28835</td>\n",
       "    </tr>\n",
       "    <tr>\n",
       "      <th>1</th>\n",
       "      <td>17088</td>\n",
       "      <td>21</td>\n",
       "      <td>M</td>\n",
       "      <td>Jiangsu</td>\n",
       "      <td>Nanjing</td>\n",
       "      <td>China</td>\n",
       "      <td>31.943910</td>\n",
       "      <td>118.708140</td>\n",
       "      <td>Search</td>\n",
       "      <td>2019-11-09</td>\n",
       "      <td>...</td>\n",
       "      <td>None</td>\n",
       "      <td>None</td>\n",
       "      <td>&lt;NA&gt;</td>\n",
       "      <td>&lt;NA&gt;</td>\n",
       "      <td>None</td>\n",
       "      <td>None</td>\n",
       "      <td>None</td>\n",
       "      <td>NaT</td>\n",
       "      <td>NaT</td>\n",
       "      <td>NaN</td>\n",
       "    </tr>\n",
       "    <tr>\n",
       "      <th>2</th>\n",
       "      <td>35074</td>\n",
       "      <td>31</td>\n",
       "      <td>M</td>\n",
       "      <td>Mississippi</td>\n",
       "      <td>Meridian</td>\n",
       "      <td>United States</td>\n",
       "      <td>32.271808</td>\n",
       "      <td>-88.588992</td>\n",
       "      <td>Facebook</td>\n",
       "      <td>2023-05-04</td>\n",
       "      <td>...</td>\n",
       "      <td>None</td>\n",
       "      <td>None</td>\n",
       "      <td>171684</td>\n",
       "      <td>28534</td>\n",
       "      <td>Accessories</td>\n",
       "      <td>Oakley</td>\n",
       "      <td>Oakley Flak Jacket XLJ Replacement Lenses</td>\n",
       "      <td>2023-03-07</td>\n",
       "      <td>NaT</td>\n",
       "      <td>22.77000</td>\n",
       "    </tr>\n",
       "    <tr>\n",
       "      <th>3</th>\n",
       "      <td>25732</td>\n",
       "      <td>43</td>\n",
       "      <td>M</td>\n",
       "      <td>Guangdong</td>\n",
       "      <td>Beijing</td>\n",
       "      <td>China</td>\n",
       "      <td>23.011909</td>\n",
       "      <td>113.816281</td>\n",
       "      <td>Search</td>\n",
       "      <td>2022-11-14</td>\n",
       "      <td>...</td>\n",
       "      <td>None</td>\n",
       "      <td>None</td>\n",
       "      <td>125940</td>\n",
       "      <td>23992</td>\n",
       "      <td>Outerwear &amp; Coats</td>\n",
       "      <td>Alpha Industries</td>\n",
       "      <td>Injector (183112)</td>\n",
       "      <td>2023-08-20</td>\n",
       "      <td>NaT</td>\n",
       "      <td>71.28000</td>\n",
       "    </tr>\n",
       "    <tr>\n",
       "      <th>4</th>\n",
       "      <td>76554</td>\n",
       "      <td>48</td>\n",
       "      <td>M</td>\n",
       "      <td>Bretagne</td>\n",
       "      <td>Janzé</td>\n",
       "      <td>France</td>\n",
       "      <td>47.972114</td>\n",
       "      <td>-1.494561</td>\n",
       "      <td>Organic</td>\n",
       "      <td>2020-11-11</td>\n",
       "      <td>...</td>\n",
       "      <td>None</td>\n",
       "      <td>None</td>\n",
       "      <td>&lt;NA&gt;</td>\n",
       "      <td>&lt;NA&gt;</td>\n",
       "      <td>None</td>\n",
       "      <td>None</td>\n",
       "      <td>None</td>\n",
       "      <td>NaT</td>\n",
       "      <td>NaT</td>\n",
       "      <td>NaN</td>\n",
       "    </tr>\n",
       "    <tr>\n",
       "      <th>...</th>\n",
       "      <td>...</td>\n",
       "      <td>...</td>\n",
       "      <td>...</td>\n",
       "      <td>...</td>\n",
       "      <td>...</td>\n",
       "      <td>...</td>\n",
       "      <td>...</td>\n",
       "      <td>...</td>\n",
       "      <td>...</td>\n",
       "      <td>...</td>\n",
       "      <td>...</td>\n",
       "      <td>...</td>\n",
       "      <td>...</td>\n",
       "      <td>...</td>\n",
       "      <td>...</td>\n",
       "      <td>...</td>\n",
       "      <td>...</td>\n",
       "      <td>...</td>\n",
       "      <td>...</td>\n",
       "      <td>...</td>\n",
       "      <td>...</td>\n",
       "    </tr>\n",
       "    <tr>\n",
       "      <th>2848087</th>\n",
       "      <td>&lt;NA&gt;</td>\n",
       "      <td>&lt;NA&gt;</td>\n",
       "      <td>None</td>\n",
       "      <td>None</td>\n",
       "      <td>None</td>\n",
       "      <td>None</td>\n",
       "      <td>NaN</td>\n",
       "      <td>NaN</td>\n",
       "      <td>None</td>\n",
       "      <td>NaT</td>\n",
       "      <td>...</td>\n",
       "      <td>None</td>\n",
       "      <td>None</td>\n",
       "      <td>381869</td>\n",
       "      <td>170</td>\n",
       "      <td>Tops &amp; Tees</td>\n",
       "      <td>Ralph Lauren</td>\n",
       "      <td>Ralph Lauren Sport Women Lightweight V-Neck T-...</td>\n",
       "      <td>2023-10-25</td>\n",
       "      <td>2023-12-22</td>\n",
       "      <td>15.81435</td>\n",
       "    </tr>\n",
       "    <tr>\n",
       "      <th>2848088</th>\n",
       "      <td>&lt;NA&gt;</td>\n",
       "      <td>&lt;NA&gt;</td>\n",
       "      <td>None</td>\n",
       "      <td>None</td>\n",
       "      <td>None</td>\n",
       "      <td>None</td>\n",
       "      <td>NaN</td>\n",
       "      <td>NaN</td>\n",
       "      <td>None</td>\n",
       "      <td>NaT</td>\n",
       "      <td>...</td>\n",
       "      <td>None</td>\n",
       "      <td>None</td>\n",
       "      <td>27448</td>\n",
       "      <td>751</td>\n",
       "      <td>Tops &amp; Tees</td>\n",
       "      <td>Splendid</td>\n",
       "      <td>Splendid Women's Long Sleeve Collar Top Shirt</td>\n",
       "      <td>2021-10-14</td>\n",
       "      <td>NaT</td>\n",
       "      <td>48.92800</td>\n",
       "    </tr>\n",
       "    <tr>\n",
       "      <th>2848089</th>\n",
       "      <td>&lt;NA&gt;</td>\n",
       "      <td>&lt;NA&gt;</td>\n",
       "      <td>None</td>\n",
       "      <td>None</td>\n",
       "      <td>None</td>\n",
       "      <td>None</td>\n",
       "      <td>NaN</td>\n",
       "      <td>NaN</td>\n",
       "      <td>None</td>\n",
       "      <td>NaT</td>\n",
       "      <td>...</td>\n",
       "      <td>None</td>\n",
       "      <td>None</td>\n",
       "      <td>300243</td>\n",
       "      <td>751</td>\n",
       "      <td>Tops &amp; Tees</td>\n",
       "      <td>Splendid</td>\n",
       "      <td>Splendid Women's Long Sleeve Collar Top Shirt</td>\n",
       "      <td>2022-09-22</td>\n",
       "      <td>NaT</td>\n",
       "      <td>48.92800</td>\n",
       "    </tr>\n",
       "    <tr>\n",
       "      <th>2848090</th>\n",
       "      <td>&lt;NA&gt;</td>\n",
       "      <td>&lt;NA&gt;</td>\n",
       "      <td>None</td>\n",
       "      <td>None</td>\n",
       "      <td>None</td>\n",
       "      <td>None</td>\n",
       "      <td>NaN</td>\n",
       "      <td>NaN</td>\n",
       "      <td>None</td>\n",
       "      <td>NaT</td>\n",
       "      <td>...</td>\n",
       "      <td>None</td>\n",
       "      <td>None</td>\n",
       "      <td>302741</td>\n",
       "      <td>153</td>\n",
       "      <td>Tops &amp; Tees</td>\n",
       "      <td>Under Armour</td>\n",
       "      <td>Women's UA EVO ColdGearÂ® Longsleeve Mock Tops...</td>\n",
       "      <td>2022-06-07</td>\n",
       "      <td>NaT</td>\n",
       "      <td>26.33715</td>\n",
       "    </tr>\n",
       "    <tr>\n",
       "      <th>2848091</th>\n",
       "      <td>&lt;NA&gt;</td>\n",
       "      <td>&lt;NA&gt;</td>\n",
       "      <td>None</td>\n",
       "      <td>None</td>\n",
       "      <td>None</td>\n",
       "      <td>None</td>\n",
       "      <td>NaN</td>\n",
       "      <td>NaN</td>\n",
       "      <td>None</td>\n",
       "      <td>NaT</td>\n",
       "      <td>...</td>\n",
       "      <td>None</td>\n",
       "      <td>None</td>\n",
       "      <td>134771</td>\n",
       "      <td>652</td>\n",
       "      <td>Tops &amp; Tees</td>\n",
       "      <td>bebe</td>\n",
       "      <td>bebe Lace Scoop Neck Raglan Top</td>\n",
       "      <td>2023-09-26</td>\n",
       "      <td>2023-10-09</td>\n",
       "      <td>30.56200</td>\n",
       "    </tr>\n",
       "  </tbody>\n",
       "</table>\n",
       "<p>2848092 rows × 33 columns</p>\n",
       "</div>"
      ],
      "text/plain": [
       "         user_id   age gender account_state   account_city account_country  \\\n",
       "0          73890    40      F    California  San Francisco   United States   \n",
       "1          17088    21      M       Jiangsu        Nanjing           China   \n",
       "2          35074    31      M   Mississippi       Meridian   United States   \n",
       "3          25732    43      M     Guangdong        Beijing           China   \n",
       "4          76554    48      M      Bretagne          Janzé          France   \n",
       "...          ...   ...    ...           ...            ...             ...   \n",
       "2848087     <NA>  <NA>   None          None           None            None   \n",
       "2848088     <NA>  <NA>   None          None           None            None   \n",
       "2848089     <NA>  <NA>   None          None           None            None   \n",
       "2848090     <NA>  <NA>   None          None           None            None   \n",
       "2848091     <NA>  <NA>   None          None           None            None   \n",
       "\n",
       "          latitude   longitude account_traffic_source account_created_at  ...  \\\n",
       "0        37.795407 -122.422234                 Search         2023-05-09  ...   \n",
       "1        31.943910  118.708140                 Search         2019-11-09  ...   \n",
       "2        32.271808  -88.588992               Facebook         2023-05-04  ...   \n",
       "3        23.011909  113.816281                 Search         2022-11-14  ...   \n",
       "4        47.972114   -1.494561                Organic         2020-11-11  ...   \n",
       "...            ...         ...                    ...                ...  ...   \n",
       "2848087        NaN         NaN                   None                NaT  ...   \n",
       "2848088        NaN         NaN                   None                NaT  ...   \n",
       "2848089        NaN         NaN                   None                NaT  ...   \n",
       "2848090        NaN         NaN                   None                NaT  ...   \n",
       "2848091        NaN         NaN                   None                NaT  ...   \n",
       "\n",
       "         sess_state  sess_city inventory_item_id  product_id  \\\n",
       "0              None       None            363366        5672   \n",
       "1              None       None              <NA>        <NA>   \n",
       "2              None       None            171684       28534   \n",
       "3              None       None            125940       23992   \n",
       "4              None       None              <NA>        <NA>   \n",
       "...             ...        ...               ...         ...   \n",
       "2848087        None       None            381869         170   \n",
       "2848088        None       None             27448         751   \n",
       "2848089        None       None            300243         751   \n",
       "2848090        None       None            302741         153   \n",
       "2848091        None       None            134771         652   \n",
       "\n",
       "                  category             brand  \\\n",
       "0           Pants & Capris       Eddie Bauer   \n",
       "1                     None              None   \n",
       "2              Accessories            Oakley   \n",
       "3        Outerwear & Coats  Alpha Industries   \n",
       "4                     None              None   \n",
       "...                    ...               ...   \n",
       "2848087        Tops & Tees      Ralph Lauren   \n",
       "2848088        Tops & Tees          Splendid   \n",
       "2848089        Tops & Tees          Splendid   \n",
       "2848090        Tops & Tees      Under Armour   \n",
       "2848091        Tops & Tees              bebe   \n",
       "\n",
       "                                              product_name  \\\n",
       "0              Eddie Bauer Curvy Blakely Legend Wash Pants   \n",
       "1                                                     None   \n",
       "2                Oakley Flak Jacket XLJ Replacement Lenses   \n",
       "3                                        Injector (183112)   \n",
       "4                                                     None   \n",
       "...                                                    ...   \n",
       "2848087  Ralph Lauren Sport Women Lightweight V-Neck T-...   \n",
       "2848088      Splendid Women's Long Sleeve Collar Top Shirt   \n",
       "2848089      Splendid Women's Long Sleeve Collar Top Shirt   \n",
       "2848090  Women's UA EVO ColdGearÂ® Longsleeve Mock Tops...   \n",
       "2848091                    bebe Lace Scoop Neck Raglan Top   \n",
       "\n",
       "         inventory_created_at inventory_sold_at      cost  \n",
       "0                  2023-02-03               NaT  29.28835  \n",
       "1                         NaT               NaT       NaN  \n",
       "2                  2023-03-07               NaT  22.77000  \n",
       "3                  2023-08-20               NaT  71.28000  \n",
       "4                         NaT               NaT       NaN  \n",
       "...                       ...               ...       ...  \n",
       "2848087            2023-10-25        2023-12-22  15.81435  \n",
       "2848088            2021-10-14               NaT  48.92800  \n",
       "2848089            2022-09-22               NaT  48.92800  \n",
       "2848090            2022-06-07               NaT  26.33715  \n",
       "2848091            2023-09-26        2023-10-09  30.56200  \n",
       "\n",
       "[2848092 rows x 33 columns]"
      ]
     },
     "execution_count": 209,
     "metadata": {},
     "output_type": "execute_result"
    }
   ],
   "source": [
    "import glob\n",
    "from google.cloud import bigquery\n",
    "from google.oauth2 import service_account\n",
    "\n",
    "# 서비스 계정 키 JSON 파일 경로\n",
    "key_path = glob.glob(\"./looker-ecommerce-e30fc40090ce.json\")[0]\n",
    "\n",
    "# Credentials 객체 생성\n",
    "credentials = service_account.Credentials.from_service_account_file(key_path)\n",
    "\n",
    "# GCP 클라이언트 객체 생성\n",
    "client = bigquery.Client(credentials = credentials, \n",
    "                         project = credentials.project_id)\n",
    "\n",
    "# 데이터 조회 예시 쿼리문 \n",
    "# FROM절 프로젝트명.데이터셋명.테이블명\n",
    "query = query\n",
    "check = client.query(query).to_dataframe()\n",
    "check"
   ]
  },
  {
   "cell_type": "code",
   "execution_count": 173,
   "metadata": {},
   "outputs": [
    {
     "name": "stdout",
     "output_type": "stream",
     "text": [
      "<class 'pandas.core.frame.DataFrame'>\n",
      "RangeIndex: 2771595 entries, 0 to 2771594\n",
      "Data columns (total 33 columns):\n",
      " #   Column                  Non-Null Count    Dtype  \n",
      "---  ------                  --------------    -----  \n",
      " 0   user_id                 112960 non-null   float64\n",
      " 1   age                     112960 non-null   float64\n",
      " 2   gender                  112960 non-null   object \n",
      " 3   account_state           112960 non-null   object \n",
      " 4   account_city            111840 non-null   object \n",
      " 5   account_country         112960 non-null   object \n",
      " 6   latitude                112960 non-null   float64\n",
      " 7   longitude               112960 non-null   float64\n",
      " 8   account_traffic_source  112960 non-null   object \n",
      " 9   account_created_at      112960 non-null   object \n",
      " 10  order_id                93004 non-null    float64\n",
      " 11  order_items_id          93004 non-null    float64\n",
      " 12  status                  93004 non-null    object \n",
      " 13  sale_price              93004 non-null    float64\n",
      " 14  order_created_at        93004 non-null    object \n",
      " 15  session_id              2343260 non-null  object \n",
      " 16  sequence_number         2343260 non-null  float64\n",
      " 17  login_user_id           1217589 non-null  float64\n",
      " 18  sess_created_at         2343260 non-null  object \n",
      " 19  sess_traffic_source     2343260 non-null  object \n",
      " 20  uri                     2343260 non-null  object \n",
      " 21  event_type              2343260 non-null  object \n",
      " 22  ip_address              2343260 non-null  object \n",
      " 23  sess_state              2343260 non-null  object \n",
      " 24  sess_city               2320938 non-null  object \n",
      " 25  inventory_item_id       501300 non-null   float64\n",
      " 26  product_id              501300 non-null   float64\n",
      " 27  category                501300 non-null   object \n",
      " 28  brand                   500892 non-null   object \n",
      " 29  product_name            501271 non-null   object \n",
      " 30  inventory_created_at    501300 non-null   object \n",
      " 31  inventory_sold_at       181759 non-null   object \n",
      " 32  cost                    501300 non-null   float64\n",
      "dtypes: float64(12), object(21)\n",
      "memory usage: 697.8+ MB\n"
     ]
    }
   ],
   "source": [
    "check.info(show_counts=True)"
   ]
  },
  {
   "cell_type": "code",
   "execution_count": 218,
   "metadata": {},
   "outputs": [],
   "source": [
    "# check.to_csv('./looker.csv', index=False)"
   ]
  },
  {
   "cell_type": "code",
   "execution_count": 212,
   "metadata": {},
   "outputs": [],
   "source": [
    "df = check.copy()"
   ]
  },
  {
   "cell_type": "markdown",
   "metadata": {},
   "source": [
    "카이 제곱 검정\n",
    "- 신규 유저 (실험군) vs 기존 유저 (대조군)\n",
    "1. 개인 정보: 성별, 연령대, 국가, 유입경로, `→ same` @하늘\n",
    "    - 구매 전환율 (1번 이상 결제), retention (2번 이상 결제) `→ diff` @영아\n",
    "2. 구매 상품: product_id, category, brand, … `→ same` @지은\n",
    "    - top 3"
   ]
  },
  {
   "cell_type": "code",
   "execution_count": 2,
   "metadata": {},
   "outputs": [],
   "source": [
    "import pandas as pd\n",
    "import numpy as np\n",
    "\n",
    "import scipy.stats as stats"
   ]
  },
  {
   "cell_type": "code",
   "execution_count": 3,
   "metadata": {},
   "outputs": [
    {
     "name": "stderr",
     "output_type": "stream",
     "text": [
      "/var/folders/ky/h5cjl7dj2y9cj2mn9cv958kc0000gn/T/ipykernel_61371/330098794.py:1: DtypeWarning: Columns (2,3,4,5,8,9,12,14,15,18,19,20,21,22,23,24,31) have mixed types. Specify dtype option on import or set low_memory=False.\n",
      "  df = pd.read_csv('./looker.csv')\n"
     ]
    }
   ],
   "source": [
    "df = pd.read_csv('./looker.csv')"
   ]
  },
  {
   "cell_type": "code",
   "execution_count": 4,
   "metadata": {},
   "outputs": [],
   "source": [
    "# 형변환\n",
    "def convert_type(df):\n",
    "    for col in df.columns:\n",
    "        if '_at' in col:    # 시간 데이터\n",
    "            df = df.assign(**{col:pd.to_datetime(df[col])})\n",
    "            print('[+] {0:<30} >>> datetime'.format(col))\n",
    "        elif '_id' in col:  # id 컬럼 -> obj형으로\n",
    "            df = df.assign(**{col:df[col].astype('object')})\n",
    "            print('[+] {0:<30} >>> object'.format(col))\n",
    "    return df"
   ]
  },
  {
   "cell_type": "code",
   "execution_count": 176,
   "metadata": {},
   "outputs": [
    {
     "name": "stdout",
     "output_type": "stream",
     "text": [
      "[+] user_id                        >>> object\n",
      "[+] account_created_at             >>> datetime\n",
      "[+] order_id                       >>> object\n",
      "[+] order_items_id                 >>> object\n",
      "[+] order_created_at               >>> datetime\n",
      "[+] session_id                     >>> object\n",
      "[+] login_user_id                  >>> object\n",
      "[+] sess_created_at                >>> datetime\n",
      "[+] inventory_item_id              >>> object\n",
      "[+] product_id                     >>> object\n",
      "[+] inventory_created_at           >>> datetime\n",
      "[+] inventory_sold_at              >>> datetime\n"
     ]
    }
   ],
   "source": [
    "df = convert_type(df)"
   ]
  },
  {
   "cell_type": "code",
   "execution_count": 9,
   "metadata": {},
   "outputs": [
    {
     "name": "stdout",
     "output_type": "stream",
     "text": [
      "<class 'pandas.core.frame.DataFrame'>\n",
      "RangeIndex: 2771595 entries, 0 to 2771594\n",
      "Data columns (total 33 columns):\n",
      " #   Column                  Non-Null Count    Dtype  \n",
      "---  ------                  --------------    -----  \n",
      " 0   user_id                 112960 non-null   float64\n",
      " 1   age                     112960 non-null   float64\n",
      " 2   gender                  112960 non-null   object \n",
      " 3   account_state           112960 non-null   object \n",
      " 4   account_city            111840 non-null   object \n",
      " 5   account_country         112960 non-null   object \n",
      " 6   latitude                112960 non-null   float64\n",
      " 7   longitude               112960 non-null   float64\n",
      " 8   account_traffic_source  112960 non-null   object \n",
      " 9   account_created_at      112960 non-null   object \n",
      " 10  order_id                93004 non-null    float64\n",
      " 11  order_items_id          93004 non-null    float64\n",
      " 12  status                  93004 non-null    object \n",
      " 13  sale_price              93004 non-null    float64\n",
      " 14  order_created_at        93004 non-null    object \n",
      " 15  session_id              2343260 non-null  object \n",
      " 16  sequence_number         2343260 non-null  float64\n",
      " 17  login_user_id           1217589 non-null  float64\n",
      " 18  sess_created_at         2343260 non-null  object \n",
      " 19  sess_traffic_source     2343260 non-null  object \n",
      " 20  uri                     2343260 non-null  object \n",
      " 21  event_type              2343260 non-null  object \n",
      " 22  ip_address              2343260 non-null  object \n",
      " 23  sess_state              2343260 non-null  object \n",
      " 24  sess_city               2320938 non-null  object \n",
      " 25  inventory_item_id       501300 non-null   float64\n",
      " 26  product_id              501300 non-null   float64\n",
      " 27  category                501300 non-null   object \n",
      " 28  brand                   500892 non-null   object \n",
      " 29  product_name            501271 non-null   object \n",
      " 30  inventory_created_at    501300 non-null   object \n",
      " 31  inventory_sold_at       181759 non-null   object \n",
      " 32  cost                    501300 non-null   float64\n",
      "dtypes: float64(12), object(21)\n",
      "memory usage: 697.8+ MB\n"
     ]
    }
   ],
   "source": [
    "df.info(show_counts=True)"
   ]
  },
  {
   "cell_type": "code",
   "execution_count": 219,
   "metadata": {},
   "outputs": [
    {
     "data": {
      "text/html": [
       "<style type=\"text/css\">\n",
       "#T_6f839_row0_col0, #T_6f839_row3_col0 {\n",
       "  background-color: #fdf5fa;\n",
       "  color: #000000;\n",
       "}\n",
       "#T_6f839_row1_col0 {\n",
       "  background-color: #fff7fb;\n",
       "  color: #000000;\n",
       "}\n",
       "#T_6f839_row2_col0 {\n",
       "  background-color: #fbf3f9;\n",
       "  color: #000000;\n",
       "}\n",
       "#T_6f839_row4_col0 {\n",
       "  background-color: #045687;\n",
       "  color: #f1f1f1;\n",
       "}\n",
       "#T_6f839_row5_col0, #T_6f839_row8_col0 {\n",
       "  background-color: #023b5d;\n",
       "  color: #f1f1f1;\n",
       "}\n",
       "#T_6f839_row6_col0 {\n",
       "  background-color: #023858;\n",
       "  color: #f1f1f1;\n",
       "}\n",
       "#T_6f839_row7_col0 {\n",
       "  background-color: #034a74;\n",
       "  color: #f1f1f1;\n",
       "}\n",
       "#T_6f839_row9_col0 {\n",
       "  background-color: #03517e;\n",
       "  color: #f1f1f1;\n",
       "}\n",
       "</style>\n",
       "<table id=\"T_6f839\">\n",
       "  <thead>\n",
       "    <tr>\n",
       "      <th class=\"blank level0\" >&nbsp;</th>\n",
       "      <th id=\"T_6f839_level0_col0\" class=\"col_heading level0 col0\" >user_id</th>\n",
       "    </tr>\n",
       "    <tr>\n",
       "      <th class=\"index_name level0\" >account_created_at</th>\n",
       "      <th class=\"blank col0\" >&nbsp;</th>\n",
       "    </tr>\n",
       "  </thead>\n",
       "  <tbody>\n",
       "    <tr>\n",
       "      <th id=\"T_6f839_level0_row0\" class=\"row_heading level0 row0\" >2024-01-07 00:00:00</th>\n",
       "      <td id=\"T_6f839_row0_col0\" class=\"data row0 col0\" >37</td>\n",
       "    </tr>\n",
       "    <tr>\n",
       "      <th id=\"T_6f839_level0_row1\" class=\"row_heading level0 row1\" >2024-01-08 00:00:00</th>\n",
       "      <td id=\"T_6f839_row1_col0\" class=\"data row1 col0\" >31</td>\n",
       "    </tr>\n",
       "    <tr>\n",
       "      <th id=\"T_6f839_level0_row2\" class=\"row_heading level0 row2\" >2024-01-09 00:00:00</th>\n",
       "      <td id=\"T_6f839_row2_col0\" class=\"data row2 col0\" >41</td>\n",
       "    </tr>\n",
       "    <tr>\n",
       "      <th id=\"T_6f839_level0_row3\" class=\"row_heading level0 row3\" >2024-01-10 00:00:00</th>\n",
       "      <td id=\"T_6f839_row3_col0\" class=\"data row3 col0\" >35</td>\n",
       "    </tr>\n",
       "    <tr>\n",
       "      <th id=\"T_6f839_level0_row4\" class=\"row_heading level0 row4\" >2024-01-11 00:00:00</th>\n",
       "      <td id=\"T_6f839_row4_col0\" class=\"data row4 col0\" >331</td>\n",
       "    </tr>\n",
       "    <tr>\n",
       "      <th id=\"T_6f839_level0_row5\" class=\"row_heading level0 row5\" >2024-01-12 00:00:00</th>\n",
       "      <td id=\"T_6f839_row5_col0\" class=\"data row5 col0\" >364</td>\n",
       "    </tr>\n",
       "    <tr>\n",
       "      <th id=\"T_6f839_level0_row6\" class=\"row_heading level0 row6\" >2024-01-13 00:00:00</th>\n",
       "      <td id=\"T_6f839_row6_col0\" class=\"data row6 col0\" >368</td>\n",
       "    </tr>\n",
       "    <tr>\n",
       "      <th id=\"T_6f839_level0_row7\" class=\"row_heading level0 row7\" >2024-01-14 00:00:00</th>\n",
       "      <td id=\"T_6f839_row7_col0\" class=\"data row7 col0\" >345</td>\n",
       "    </tr>\n",
       "    <tr>\n",
       "      <th id=\"T_6f839_level0_row8\" class=\"row_heading level0 row8\" >2024-01-15 00:00:00</th>\n",
       "      <td id=\"T_6f839_row8_col0\" class=\"data row8 col0\" >363</td>\n",
       "    </tr>\n",
       "    <tr>\n",
       "      <th id=\"T_6f839_level0_row9\" class=\"row_heading level0 row9\" >2024-01-16 00:00:00</th>\n",
       "      <td id=\"T_6f839_row9_col0\" class=\"data row9 col0\" >337</td>\n",
       "    </tr>\n",
       "  </tbody>\n",
       "</table>\n"
      ],
      "text/plain": [
       "<pandas.io.formats.style.Styler at 0x35eea9a20>"
      ]
     },
     "execution_count": 219,
     "metadata": {},
     "output_type": "execute_result"
    }
   ],
   "source": [
    "df.groupby('account_created_at').agg({'user_id':'nunique'}).tail(10).style.background_gradient()"
   ]
  },
  {
   "cell_type": "code",
   "execution_count": 220,
   "metadata": {},
   "outputs": [],
   "source": [
    "# 실험군: 2024 신규 유입 유저\n",
    "treatment = df[df.account_created_at >= '2024-01-11'].copy()"
   ]
  },
  {
   "cell_type": "code",
   "execution_count": 221,
   "metadata": {},
   "outputs": [],
   "source": [
    "# 대조군: 기존 유저\n",
    "#control = df[df.account_created_at.dt.year==2023].copy()   # 2023년 가입 유저\n",
    "control = df[df.account_created_at < '2024-01-11'].copy()"
   ]
  },
  {
   "cell_type": "code",
   "execution_count": 222,
   "metadata": {},
   "outputs": [
    {
     "name": "stdout",
     "output_type": "stream",
     "text": [
      "전체 유저 수 : 75608명\n",
      "실험군 (treatment) : 2108명\n",
      "대조군 (control) : 73500명\n"
     ]
    }
   ],
   "source": [
    "print(\n",
    "    f'전체 유저 수 : {df.user_id.nunique(dropna=True)}명\\n\\\n",
    "실험군 (treatment) : {treatment.user_id.nunique()}명\\n\\\n",
    "대조군 (control) : {control.user_id.nunique()}명'\n",
    "    )"
   ]
  },
  {
   "cell_type": "code",
   "execution_count": 223,
   "metadata": {},
   "outputs": [],
   "source": [
    "chk_order = df.groupby('user_id').agg({'order_items_id':'nunique'}).reset_index()"
   ]
  },
  {
   "cell_type": "code",
   "execution_count": 224,
   "metadata": {},
   "outputs": [
    {
     "data": {
      "text/plain": [
       "<Axes: ylabel='Frequency'>"
      ]
     },
     "execution_count": 224,
     "metadata": {},
     "output_type": "execute_result"
    },
    {
     "data": {
      "image/png": "[encoded data removed]",
      "text/plain": [
       "<Figure size 640x480 with 1 Axes>"
      ]
     },
     "metadata": {},
     "output_type": "display_data"
    }
   ],
   "source": [
    "chk_order['order_items_id'].plot.hist()"
   ]
  },
  {
   "cell_type": "code",
   "execution_count": 225,
   "metadata": {},
   "outputs": [],
   "source": [
    "chk_order_test = treatment.groupby('user_id').agg({'order_items_id':'nunique'}).reset_index()\n",
    "chk_order_control = control.groupby('user_id').agg({'order_items_id':'nunique'}).reset_index()"
   ]
  },
  {
   "cell_type": "code",
   "execution_count": 226,
   "metadata": {},
   "outputs": [],
   "source": [
    "test_order_0 = len(chk_order_test[chk_order_test.order_items_id == 0])\n",
    "test_order_purchase = len(chk_order_test[chk_order_test.order_items_id != 0])\n",
    "test_order_repurchase = len(chk_order_test[chk_order_test.order_items_id > 1])"
   ]
  },
  {
   "cell_type": "code",
   "execution_count": 227,
   "metadata": {},
   "outputs": [],
   "source": [
    "control_order_0 = len(chk_order_control[chk_order_control.order_items_id == 0])\n",
    "control_order_purchase = len(chk_order_control[chk_order_control.order_items_id != 0])\n",
    "control_order_repurchase = len(chk_order_control[chk_order_control.order_items_id > 1])"
   ]
  },
  {
   "cell_type": "markdown",
   "metadata": {},
   "source": [
    "### 구매율"
   ]
  },
  {
   "cell_type": "code",
   "execution_count": 228,
   "metadata": {},
   "outputs": [
    {
     "name": "stdout",
     "output_type": "stream",
     "text": [
      "  \n",
      "[Chi-square Analysis Result Report]\n",
      "Chi-square: 0.26\n",
      "P-value: 0.61\n",
      "--------------------------\n",
      "Expected Values\n",
      "                treatment       control\n",
      "purchase      1551.613797  54100.386203\n",
      "non_purchase   556.386203  19399.613797\n",
      "--------------------------\n",
      "Observed Values\n",
      "              treatment  control\n",
      "purchase           1541    54111\n",
      "non_purchase        567    19389\n",
      "==========================\n",
      " \n"
     ]
    }
   ],
   "source": [
    "## Part1. Chi-square Test Report\n",
    "purchase = [test_order_purchase, control_order_purchase] # A와 B의 구매한 유저 수\n",
    "non_purchase = [test_order_0, control_order_0]  # A와 B의 구매 안 한 유저 수\n",
    "\n",
    "## Part2. Contingency Table & Chi-squaure Model\n",
    "## 기초 테이블 형성\n",
    "cont_table = pd.DataFrame([purchase, non_purchase], columns=['treatment', 'control'], index=['purchase', 'non_purchase'])\n",
    "\n",
    "## Part3. 카이제곱 독립성 검정 모델 선언\n",
    "chi2, p_val, d_f, expected = stats.chi2_contingency([purchase, non_purchase])\n",
    "\n",
    "## 기대값 표 형성\n",
    "ex = pd.DataFrame(expected, columns = ['treatment', 'control'], index = ['purchase', 'non_purchase'])\n",
    "\n",
    "print(  '  '\n",
    " , '[Chi-square Analysis Result Report]'\n",
    " , 'Chi-square: {}'.format(round(chi2, 2))\n",
    " , 'P-value: {}'.format(round(p_val, 2))\n",
    " , '--------------------------'\n",
    " , 'Expected Values'\n",
    " , ex\n",
    " , '--------------------------'\n",
    " , 'Observed Values'\n",
    " , cont_table\n",
    " , '=========================='\n",
    " , ' '\n",
    " \n",
    " , sep = '\\n'\n",
    " )"
   ]
  },
  {
   "cell_type": "code",
   "execution_count": 229,
   "metadata": {},
   "outputs": [
    {
     "data": {
      "text/plain": [
       "0.7310246679316889"
      ]
     },
     "execution_count": 229,
     "metadata": {},
     "output_type": "execute_result"
    }
   ],
   "source": [
    "# 실험군\n",
    "1541 / (1541 + 567)"
   ]
  },
  {
   "cell_type": "code",
   "execution_count": 230,
   "metadata": {},
   "outputs": [
    {
     "data": {
      "text/plain": [
       "0.736204081632653"
      ]
     },
     "execution_count": 230,
     "metadata": {},
     "output_type": "execute_result"
    }
   ],
   "source": [
    "# 대조군\n",
    "54111 / (54111 + 19389)"
   ]
  },
  {
   "cell_type": "markdown",
   "metadata": {},
   "source": [
    "P-value가 0.72로 0.05보다 크다 -> 두 그룹의 차이가 없다... => 심지어 구매전환율이 기존유저가 좀 더 크다....?"
   ]
  },
  {
   "cell_type": "markdown",
   "metadata": {},
   "source": [
    "### 재구매율"
   ]
  },
  {
   "cell_type": "code",
   "execution_count": 231,
   "metadata": {},
   "outputs": [
    {
     "name": "stdout",
     "output_type": "stream",
     "text": [
      "  \n",
      "[Chi-square Analysis Result Report]\n",
      "Chi-square: 0.5\n",
      "P-value: 0.48\n",
      "--------------------------\n",
      "Expected Values\n",
      "              treatment       control\n",
      "purchase    1555.094478  54096.905522\n",
      "repurchase   504.905522  17564.094478\n",
      "--------------------------\n",
      "Observed Values\n",
      "            treatment  control\n",
      "purchase         1541    54111\n",
      "repurchase        519    17550\n",
      "==========================\n",
      " \n"
     ]
    }
   ],
   "source": [
    "## Part1. Chi-square Test Report\n",
    "purchase = [test_order_purchase, control_order_purchase] # A와 B의 구매한 유저 수\n",
    "repurchase = [test_order_repurchase, control_order_repurchase]  # A와 B의 재구매한 유저 수\n",
    " \n",
    "## Part2. Contingency Table & Chi-squaure Model\n",
    "## 기초 테이블 형성\n",
    "cont_table = pd.DataFrame([purchase, repurchase], columns=['treatment', 'control'], index=['purchase', 'repurchase'])\n",
    " \n",
    "## Part3. 카이제곱 독립성 검정 모델 선언\n",
    "chi2, p_val, d_f, expected = stats.chi2_contingency([purchase, repurchase])\n",
    " \n",
    "## 기대값 표 형성\n",
    "ex = pd.DataFrame(expected, columns = ['treatment', 'control'], index = ['purchase', 'repurchase'])\n",
    " \n",
    "print(  '  '\n",
    " , '[Chi-square Analysis Result Report]'\n",
    " , 'Chi-square: {}'.format(round(chi2, 2))\n",
    " , 'P-value: {}'.format(round(p_val, 2))\n",
    " , '--------------------------'\n",
    " , 'Expected Values'\n",
    " , ex\n",
    " , '--------------------------'\n",
    " , 'Observed Values'\n",
    " , cont_table\n",
    " , '=========================='\n",
    " , ' '\n",
    " \n",
    " , sep = '\\n'\n",
    " )"
   ]
  },
  {
   "cell_type": "code",
   "execution_count": 232,
   "metadata": {},
   "outputs": [
    {
     "data": {
      "text/plain": [
       "0.2519417475728155"
      ]
     },
     "execution_count": 232,
     "metadata": {},
     "output_type": "execute_result"
    }
   ],
   "source": [
    "519 / (1541 + 519)"
   ]
  },
  {
   "cell_type": "code",
   "execution_count": 233,
   "metadata": {},
   "outputs": [
    {
     "data": {
      "text/plain": [
       "0.24490308536023778"
      ]
     },
     "execution_count": 233,
     "metadata": {},
     "output_type": "execute_result"
    }
   ],
   "source": [
    "17550 / (17550 + 54111)"
   ]
  },
  {
   "cell_type": "markdown",
   "metadata": {},
   "source": [
    "P-value가 0.29로 0.05보다 크다 -> 두 그룹의 차이가 없다... => 재구매율은 신규 유저가 좀 더 크다"
   ]
  },
  {
   "cell_type": "markdown",
   "metadata": {},
   "source": [
    "### 가입 시점 ~ 첫 결제일"
   ]
  },
  {
   "cell_type": "code",
   "execution_count": 234,
   "metadata": {},
   "outputs": [],
   "source": [
    "first_order = df.groupby('user_id').order_created_at.min().to_frame().merge(df[['user_id', 'account_created_at']], on='user_id', suffixes=('', '_first'))"
   ]
  },
  {
   "cell_type": "code",
   "execution_count": 235,
   "metadata": {},
   "outputs": [
    {
     "name": "stdout",
     "output_type": "stream",
     "text": [
      "[+] user_id                        >>> object\n",
      "[+] order_created_at               >>> datetime\n",
      "[+] account_created_at             >>> datetime\n"
     ]
    }
   ],
   "source": [
    "first_order = convert_type(first_order)"
   ]
  },
  {
   "cell_type": "code",
   "execution_count": 236,
   "metadata": {},
   "outputs": [],
   "source": [
    "first_order = first_order.assign(order_diff=first_order['order_created_at'] - first_order['account_created_at'])\n",
    "first_order = first_order.assign(order_diff=first_order.order_diff.dt.days)"
   ]
  },
  {
   "cell_type": "code",
   "execution_count": 237,
   "metadata": {},
   "outputs": [
    {
     "name": "stdout",
     "output_type": "stream",
     "text": [
      "<class 'pandas.core.frame.DataFrame'>\n",
      "RangeIndex: 102365 entries, 0 to 102364\n",
      "Data columns (total 4 columns):\n",
      " #   Column              Non-Null Count   Dtype         \n",
      "---  ------              --------------   -----         \n",
      " 0   user_id             102365 non-null  object        \n",
      " 1   order_created_at    82409 non-null   datetime64[ns]\n",
      " 2   account_created_at  102365 non-null  datetime64[ns]\n",
      " 3   order_diff          82409 non-null   float64       \n",
      "dtypes: datetime64[ns](2), float64(1), object(1)\n",
      "memory usage: 3.1+ MB\n"
     ]
    }
   ],
   "source": [
    "first_order.info(show_counts=True)"
   ]
  },
  {
   "cell_type": "code",
   "execution_count": 238,
   "metadata": {},
   "outputs": [],
   "source": [
    "# 실험군: 2024 신규 유입 유저 / 대조군: 기존 유저\n",
    "first_order.loc[first_order.account_created_at >= '2024-01-11', 'grp'] = 'treatment'\n",
    "first_order.loc[first_order.account_created_at < '2024-01-11', 'grp'] = 'control'"
   ]
  },
  {
   "cell_type": "code",
   "execution_count": 239,
   "metadata": {},
   "outputs": [
    {
     "name": "stdout",
     "output_type": "stream",
     "text": [
      "지불 금액의 분산: 실험군 0.79일 vs 대조군 136395.04일\n",
      "분산이 2배 이상 차이나므로, Welch's t-test\n"
     ]
    }
   ],
   "source": [
    "var_test = np.var(first_order[first_order.grp=='treatment'].order_diff)\n",
    "var_ctrl = np.var(first_order[first_order.grp=='control'].order_diff)\n",
    "\n",
    "print('지불 금액의 분산: 실험군 {:.2f}일 vs 대조군 {:.2f}일'.format(var_test, var_ctrl))\n",
    "\n",
    "if (var_test > var_ctrl * 2) or (var_ctrl > var_test * 2):\n",
    "    print('분산이 2배 이상 차이나므로, Welch\\'s t-test')\n",
    "else:\n",
    "    print('분산이 같으므로, Student\\'s t-test')"
   ]
  },
  {
   "cell_type": "code",
   "execution_count": 240,
   "metadata": {},
   "outputs": [
    {
     "name": "stdout",
     "output_type": "stream",
     "text": [
      "t-statistic: -291.94615442265354    p-value: 0.0\n",
      "두 그룹이 차이가 있다.\n"
     ]
    }
   ],
   "source": [
    "t_stat, p_val = stats.ttest_ind(first_order[first_order.grp=='treatment'].order_diff.dropna(), \n",
    "                                first_order[first_order.grp=='control'].order_diff.dropna(),\n",
    "                                equal_var=False)\n",
    "\n",
    "print('t-statistic:', t_stat, '   p-value:', p_val)\n",
    "\n",
    "if p_val < 0.05:\n",
    "    print('두 그룹이 차이가 있다.')\n",
    "else:\n",
    "    print('두 그룹이 차이가 없다.')"
   ]
  },
  {
   "cell_type": "markdown",
   "metadata": {},
   "source": [
    "### 가입 시점 ~ 두 번째 결제일"
   ]
  },
  {
   "cell_type": "code",
   "execution_count": 241,
   "metadata": {},
   "outputs": [],
   "source": [
    "# 2번 이상 구매한 유저 대상\n",
    "ret = df.groupby('user_id').order_id.count().to_frame()\n",
    "ret_user_list = ret[ret.order_id >= 2].index"
   ]
  },
  {
   "cell_type": "code",
   "execution_count": 242,
   "metadata": {},
   "outputs": [],
   "source": [
    "second_order = df[df.user_id.isin(ret_user_list)].groupby('user_id').order_created_at.apply(lambda x: sorted(x)[1]).to_frame()\n",
    "second_order = second_order.merge(df[['user_id', 'account_created_at']], on='user_id', how='left').drop_duplicates()"
   ]
  },
  {
   "cell_type": "code",
   "execution_count": 243,
   "metadata": {},
   "outputs": [
    {
     "name": "stdout",
     "output_type": "stream",
     "text": [
      "[+] user_id                        >>> object\n",
      "[+] order_created_at               >>> datetime\n",
      "[+] account_created_at             >>> datetime\n"
     ]
    }
   ],
   "source": [
    "second_order = convert_type(second_order)"
   ]
  },
  {
   "cell_type": "code",
   "execution_count": 244,
   "metadata": {},
   "outputs": [],
   "source": [
    "second_order = second_order.assign(order_diff=second_order['order_created_at'] - second_order['account_created_at'])\n",
    "second_order = second_order.assign(order_diff=second_order.order_diff.dt.days)"
   ]
  },
  {
   "cell_type": "code",
   "execution_count": 245,
   "metadata": {},
   "outputs": [],
   "source": [
    "second_order.loc[second_order.account_created_at >= '2024-01-11', 'grp'] = 'treatment'\n",
    "second_order.loc[second_order.account_created_at < '2024-01-11', 'grp'] = 'control'"
   ]
  },
  {
   "cell_type": "code",
   "execution_count": 246,
   "metadata": {},
   "outputs": [
    {
     "name": "stdout",
     "output_type": "stream",
     "text": [
      "지불 금액의 분산: 실험군 1.32일 vs 대조군 168739.93일\n",
      "분산이 2배 이상 차이나므로, Welch's t-test\n"
     ]
    }
   ],
   "source": [
    "var_test = np.var(second_order[second_order.grp=='treatment'].order_diff)\n",
    "var_ctrl = np.var(second_order[second_order.grp=='control'].order_diff)\n",
    "\n",
    "print('지불 금액의 분산: 실험군 {:.2f}일 vs 대조군 {:.2f}일'.format(var_test, var_ctrl))\n",
    "\n",
    "if (var_test > var_ctrl * 2) or (var_ctrl > var_test * 2):\n",
    "    print('분산이 2배 이상 차이나므로, Welch\\'s t-test')\n",
    "else:\n",
    "    print('분산이 같으므로, Student\\'s t-test')"
   ]
  },
  {
   "cell_type": "code",
   "execution_count": 247,
   "metadata": {},
   "outputs": [
    {
     "name": "stdout",
     "output_type": "stream",
     "text": [
      "t-statistic: -170.07671223788716    p-value: 0.0\n",
      "두 그룹이 차이가 있다.\n"
     ]
    }
   ],
   "source": [
    "t_stat, p_val = stats.ttest_ind(second_order[second_order.grp=='treatment'].order_diff, \n",
    "                                second_order[second_order.grp=='control'].order_diff,\n",
    "                                equal_var=False)\n",
    "\n",
    "print('t-statistic:', t_stat, '   p-value:', p_val)\n",
    "\n",
    "if p_val < 0.05:\n",
    "    print('두 그룹이 차이가 있다.')\n",
    "else:\n",
    "    print('두 그룹이 차이가 없다.')"
   ]
  },
  {
   "cell_type": "markdown",
   "metadata": {},
   "source": [
    "### 지불 금액"
   ]
  },
  {
   "cell_type": "code",
   "execution_count": 248,
   "metadata": {},
   "outputs": [],
   "source": [
    "chk_total_purchase = df.groupby('user_id').agg({'sale_price':'sum'}).reset_index()"
   ]
  },
  {
   "cell_type": "code",
   "execution_count": 249,
   "metadata": {},
   "outputs": [
    {
     "data": {
      "text/plain": [
       "<Axes: ylabel='Frequency'>"
      ]
     },
     "execution_count": 249,
     "metadata": {},
     "output_type": "execute_result"
    },
    {
     "data": {
      "image/png": "[encoded data removed]",
      "text/plain": [
       "<Figure size 640x480 with 1 Axes>"
      ]
     },
     "metadata": {},
     "output_type": "display_data"
    }
   ],
   "source": [
    "chk_total_purchase['sale_price'].plot.hist()"
   ]
  },
  {
   "cell_type": "code",
   "execution_count": 250,
   "metadata": {},
   "outputs": [
    {
     "name": "stdout",
     "output_type": "stream",
     "text": [
      "전체 유저의 평균 지불 금액: 중앙값 36.95 | 평균값 65.17\n"
     ]
    }
   ],
   "source": [
    "print(\n",
    "    '전체 유저의 평균 지불 금액: 중앙값 {:.2f} | 평균값 {:.2f}'.format(\n",
    "        np.median(chk_total_purchase['sale_price']), \n",
    "        np.mean(chk_total_purchase['sale_price']))\n",
    ")"
   ]
  },
  {
   "cell_type": "code",
   "execution_count": 251,
   "metadata": {},
   "outputs": [
    {
     "name": "stdout",
     "output_type": "stream",
     "text": [
      "1인당 평균 지불 금액: 실험군 $68.21 vs 대조군 $65.09\n"
     ]
    }
   ],
   "source": [
    "print(\n",
    "    '1인당 평균 지불 금액: 실험군 ${:.2f} vs 대조군 ${:.2f}'.format(\n",
    "        np.mean(treatment.groupby('user_id').agg({'sale_price':'sum'})), \n",
    "        np.mean(control.groupby('user_id').agg({'sale_price':'sum'})))\n",
    ")"
   ]
  },
  {
   "cell_type": "code",
   "execution_count": 252,
   "metadata": {},
   "outputs": [
    {
     "name": "stdout",
     "output_type": "stream",
     "text": [
      "제품단가: 중앙값 39.99 | 평균값 59.63\n"
     ]
    }
   ],
   "source": [
    "print(\n",
    "    '제품단가: 중앙값 {:.2f} | 평균값 {:.2f}'.format(\n",
    "        np.nanmedian(df.groupby('product_name').agg({'sale_price':'mean'})), \n",
    "        np.mean(df.groupby('product_name').agg({'sale_price':'mean'})))\n",
    ")"
   ]
  },
  {
   "cell_type": "code",
   "execution_count": 253,
   "metadata": {},
   "outputs": [
    {
     "name": "stdout",
     "output_type": "stream",
     "text": [
      "지불 금액의 분산: 실험군 $9393.79 vs 대조군 $8190.18\n",
      "분산이 같으므로, Student's t-test\n"
     ]
    },
    {
     "name": "stderr",
     "output_type": "stream",
     "text": [
      "/Library/Frameworks/Python.framework/Versions/3.10/lib/python3.10/site-packages/numpy/core/fromnumeric.py:3785: FutureWarning: The behavior of DataFrame.var with axis=None is deprecated, in a future version this will reduce over both axes and return a scalar. To retain the old behavior, pass axis=0 (or do not pass axis)\n",
      "  return var(axis=axis, dtype=dtype, out=out, ddof=ddof, **kwargs)\n",
      "/var/folders/ky/h5cjl7dj2y9cj2mn9cv958kc0000gn/T/ipykernel_61371/3112985805.py:1: FutureWarning: Series.__getitem__ treating keys as positions is deprecated. In a future version, integer keys will always be treated as labels (consistent with DataFrame behavior). To access a value by position, use `ser.iloc[pos]`\n",
      "  var_test = np.var(treatment.groupby('user_id').agg({'sale_price':'sum'}))[0]\n",
      "/Library/Frameworks/Python.framework/Versions/3.10/lib/python3.10/site-packages/numpy/core/fromnumeric.py:3785: FutureWarning: The behavior of DataFrame.var with axis=None is deprecated, in a future version this will reduce over both axes and return a scalar. To retain the old behavior, pass axis=0 (or do not pass axis)\n",
      "  return var(axis=axis, dtype=dtype, out=out, ddof=ddof, **kwargs)\n",
      "/var/folders/ky/h5cjl7dj2y9cj2mn9cv958kc0000gn/T/ipykernel_61371/3112985805.py:2: FutureWarning: Series.__getitem__ treating keys as positions is deprecated. In a future version, integer keys will always be treated as labels (consistent with DataFrame behavior). To access a value by position, use `ser.iloc[pos]`\n",
      "  var_ctrl = np.var(control.groupby('user_id').agg({'sale_price':'sum'}))[0]\n"
     ]
    }
   ],
   "source": [
    "var_test = np.var(treatment.groupby('user_id').agg({'sale_price':'sum'}))[0]\n",
    "var_ctrl = np.var(control.groupby('user_id').agg({'sale_price':'sum'}))[0]\n",
    "\n",
    "print('지불 금액의 분산: 실험군 ${:.2f} vs 대조군 ${:.2f}'.format(var_test, var_ctrl))\n",
    "\n",
    "if (var_test > var_ctrl * 2) or (var_ctrl > var_test * 2):\n",
    "    print('분산이 2배 이상 차이나므로, Welch\\'s t-test')\n",
    "else:\n",
    "    print('분산이 같으므로, Student\\'s t-test')"
   ]
  },
  {
   "cell_type": "code",
   "execution_count": 254,
   "metadata": {},
   "outputs": [],
   "source": [
    "cum_purchase_treatment = treatment.groupby('user_id').agg({'sale_price':'sum'})\n",
    "cum_purchase_control = control.groupby('user_id').agg({'sale_price':'sum'})"
   ]
  },
  {
   "cell_type": "code",
   "execution_count": 255,
   "metadata": {},
   "outputs": [
    {
     "name": "stdout",
     "output_type": "stream",
     "text": [
      "t-statistic: [1.45844521]    p-value: [0.14485973]\n",
      "두 그룹이 차이가 없다.\n"
     ]
    }
   ],
   "source": [
    "t_stat, p_val = stats.ttest_ind(cum_purchase_treatment, cum_purchase_control,\n",
    "                                equal_var=False)\n",
    "\n",
    "print('t-statistic:', t_stat, '   p-value:', p_val)\n",
    "\n",
    "if p_val < 0.05:\n",
    "    print('두 그룹이 차이가 있다.')\n",
    "else:\n",
    "    print('두 그룹이 차이가 없다.')"
   ]
  },
  {
   "cell_type": "markdown",
   "metadata": {},
   "source": [
    "### 특정 product 구매\n",
    "- 2024년 1월 11일부터 판매량이 많은 제품 top 5\n",
    "- 이 제품을 구매한 유저 수 vs 구매 안한 유저 수"
   ]
  },
  {
   "cell_type": "code",
   "execution_count": 256,
   "metadata": {},
   "outputs": [],
   "source": [
    "product_top5 = df[df.order_created_at >= '2024-01-11'].product_name.value_counts()[:5].index"
   ]
  },
  {
   "cell_type": "code",
   "execution_count": 257,
   "metadata": {},
   "outputs": [
    {
     "name": "stdout",
     "output_type": "stream",
     "text": [
      "[Chi-square Analysis Result Report]\n",
      "------------------------------------\n",
      "Product 1: Boconi Collins Calf Billfold\n",
      "Chi-square: 10.92\n",
      "P-value: 0.0\n",
      "--------------------------\n",
      "Expected Values\n",
      "                                           treatment       control\n",
      "purchase_Boconi Collins Calf Billfold    1555.094478  54096.905522\n",
      "unpurchase_Boconi Collins Calf Billfold   504.905522  17564.094478\n",
      "--------------------------\n",
      "Observed Values\n",
      "                                         treatment  control\n",
      "purchase_Boconi Collins Calf Billfold            2        4\n",
      "unpurchase_Boconi Collins Calf Billfold       2106    73496\n",
      "==========================\n",
      "Product 2: 2 PC. Ladies Lace Babydoll Set - One Size - Black/Pink\n",
      "Chi-square: 52.62\n",
      "P-value: 0.0\n",
      "--------------------------\n",
      "Expected Values\n",
      "                                                      treatment       control\n",
      "purchase_2 PC. Ladies Lace Babydoll Set - One S...  1555.094478  54096.905522\n",
      "unpurchase_2 PC. Ladies Lace Babydoll Set - One...   504.905522  17564.094478\n",
      "--------------------------\n",
      "Observed Values\n",
      "                                                    treatment  control\n",
      "purchase_2 PC. Ladies Lace Babydoll Set - One S...          3        1\n",
      "unpurchase_2 PC. Ladies Lace Babydoll Set - One...       2105    73499\n",
      "==========================\n",
      "Product 3: Port Authority K321 Interlock Knit Mock Turtleneck\n",
      "Chi-square: 10.92\n",
      "P-value: 0.0\n",
      "--------------------------\n",
      "Expected Values\n",
      "                                                      treatment       control\n",
      "purchase_Port Authority K321 Interlock Knit Moc...  1555.094478  54096.905522\n",
      "unpurchase_Port Authority K321 Interlock Knit M...   504.905522  17564.094478\n",
      "--------------------------\n",
      "Observed Values\n",
      "                                                    treatment  control\n",
      "purchase_Port Authority K321 Interlock Knit Moc...          2        4\n",
      "unpurchase_Port Authority K321 Interlock Knit M...       2106    73496\n",
      "==========================\n",
      "Product 4: Burnside Men's Bedrock Plaid Woven Short\n",
      "Chi-square: 10.92\n",
      "P-value: 0.0\n",
      "--------------------------\n",
      "Expected Values\n",
      "                                                      treatment       control\n",
      "purchase_Burnside Men's Bedrock Plaid Woven Short   1555.094478  54096.905522\n",
      "unpurchase_Burnside Men's Bedrock Plaid Woven S...   504.905522  17564.094478\n",
      "--------------------------\n",
      "Observed Values\n",
      "                                                    treatment  control\n",
      "purchase_Burnside Men's Bedrock Plaid Woven Short           2        4\n",
      "unpurchase_Burnside Men's Bedrock Plaid Woven S...       2106    73496\n",
      "==========================\n",
      "Product 5: Volcom Men's Nova Modern Straight Leg Fit\n",
      "Chi-square: 6.4\n",
      "P-value: 0.01\n",
      "--------------------------\n",
      "Expected Values\n",
      "                                                      treatment       control\n",
      "purchase_Volcom Men's Nova Modern Straight Leg Fit  1555.094478  54096.905522\n",
      "unpurchase_Volcom Men's Nova Modern Straight Le...   504.905522  17564.094478\n",
      "--------------------------\n",
      "Observed Values\n",
      "                                                    treatment  control\n",
      "purchase_Volcom Men's Nova Modern Straight Leg Fit          2        7\n",
      "unpurchase_Volcom Men's Nova Modern Straight Le...       2106    73493\n",
      "==========================\n"
     ]
    }
   ],
   "source": [
    "print('[Chi-square Analysis Result Report]\\n------------------------------------')\n",
    "for i,product in enumerate(product_top5, start=1):\n",
    "\n",
    "    test = treatment[treatment.product_name==product].user_id.nunique()\n",
    "    ctrl = control[control.product_name==product].user_id.nunique()\n",
    "\n",
    "    ## Part1. Chi-square Test Report\n",
    "    purchase_product = [test, ctrl] # A와 B의 특정 product를 구매한 유저 수\n",
    "    unpurchase_product = [treatment.user_id.nunique() - test, \n",
    "                control.user_id.nunique() - ctrl]  # A와 B의 특정 product를 구매하지 않은 유저 수\n",
    "    \n",
    "    ## Part2. Contingency Table & Chi-squaure Model\n",
    "    ## 기초 테이블 형성\n",
    "    cont_table = pd.DataFrame([purchase_product, unpurchase_product], columns=['treatment', 'control'], index=[f'purchase_{product}', f'unpurchase_{product}'])\n",
    "\n",
    "    ## Part3. 카이제곱 독립성 검정 모델 선언\n",
    "    chi2, p_val, _, _ = stats.chi2_contingency([purchase_product, unpurchase_product])\n",
    "\n",
    "    ## 기대값 표 형성\n",
    "    ex = pd.DataFrame(expected, columns = ['treatment', 'control'], index = [f'purchase_{product}', f'unpurchase_{product}'])\n",
    "\n",
    "    print(\n",
    "      'Product {}: {}'.format(i, product)\n",
    "    , 'Chi-square: {}'.format(round(chi2, 2))\n",
    "    , 'P-value: {}'.format(round(p_val, 2))\n",
    "    , '--------------------------'\n",
    "    , 'Expected Values'\n",
    "    , ex\n",
    "    , '--------------------------'\n",
    "    , 'Observed Values'\n",
    "    , cont_table\n",
    "    ,  '=========================='\n",
    "    , sep = '\\n'\n",
    "    )"
   ]
  },
  {
   "cell_type": "markdown",
   "metadata": {},
   "source": [
    "P-value가 0.0로 0.05보다 작다 -> 두 그룹의 차이가 있다 => 신규 유저가 해당 카테고리를 더 샀다"
   ]
  },
  {
   "cell_type": "code",
   "execution_count": 258,
   "metadata": {},
   "outputs": [
    {
     "name": "stdout",
     "output_type": "stream",
     "text": [
      "1. Boconi Collins Calf Billfold                                          : 2019-12-11 00:00:00\n",
      "2. 2 PC. Ladies Lace Babydoll Set - One Size - Black/Pink                : 2019-04-11 00:00:00\n",
      "3. Port Authority K321 Interlock Knit Mock Turtleneck                    : 2020-01-30 00:00:00\n",
      "4. Burnside Men's Bedrock Plaid Woven Short                              : 2019-08-25 00:00:00\n",
      "5. Volcom Men's Nova Modern Straight Leg Fit                             : 2020-01-27 00:00:00\n"
     ]
    }
   ],
   "source": [
    "# 해당 제품들의 첫 입고 시기\n",
    "for i, product in enumerate(product_top5, start=1):\n",
    "    print('{}. {:<70}: {}'.format(\n",
    "        i,\n",
    "        product,\n",
    "        df[df.product_name==product].inventory_created_at.min()\n",
    "    ))"
   ]
  },
  {
   "cell_type": "markdown",
   "metadata": {},
   "source": [
    "=> 입고 시기는 과거였어도, 결국 해당 제품을 구매한 유저가 4명 ~ 8명인데 두 그룹이 다르다고 할 수 있을까....?ㅜㅜ"
   ]
  },
  {
   "cell_type": "code",
   "execution_count": 259,
   "metadata": {},
   "outputs": [
    {
     "name": "stdout",
     "output_type": "stream",
     "text": [
      "[Chi-square Analysis Result Report]\n",
      "------------------------------------\n",
      "Product 1: Intimates\n",
      "Chi-square: 1.5\n",
      "P-value: 0.22\n",
      "--------------------------\n",
      "Expected Values\n",
      "                        treatment       control\n",
      "purchase_Intimates    1555.094478  54096.905522\n",
      "unpurchase_Intimates   504.905522  17564.094478\n",
      "--------------------------\n",
      "Observed Values\n",
      "                      treatment  control\n",
      "purchase_Intimates          175     5558\n",
      "unpurchase_Intimates       1933    67942\n",
      "==========================\n",
      "Product 2: Fashion Hoodies & Sweatshirts\n",
      "Chi-square: 2.54\n",
      "P-value: 0.11\n",
      "--------------------------\n",
      "Expected Values\n",
      "                                            treatment       control\n",
      "purchase_Fashion Hoodies & Sweatshirts    1555.094478  54096.905522\n",
      "unpurchase_Fashion Hoodies & Sweatshirts   504.905522  17564.094478\n",
      "--------------------------\n",
      "Observed Values\n",
      "                                          treatment  control\n",
      "purchase_Fashion Hoodies & Sweatshirts          165     5078\n",
      "unpurchase_Fashion Hoodies & Sweatshirts       1943    68422\n",
      "==========================\n",
      "Product 3: Jeans\n",
      "Chi-square: 0.25\n",
      "P-value: 0.62\n",
      "--------------------------\n",
      "Expected Values\n",
      "                    treatment       control\n",
      "purchase_Jeans    1555.094478  54096.905522\n",
      "unpurchase_Jeans   504.905522  17564.094478\n",
      "--------------------------\n",
      "Observed Values\n",
      "                  treatment  control\n",
      "purchase_Jeans          162     5419\n",
      "unpurchase_Jeans       1946    68081\n",
      "==========================\n",
      "Product 4: Tops & Tees\n",
      "Chi-square: 0.29\n",
      "P-value: 0.59\n",
      "--------------------------\n",
      "Expected Values\n",
      "                          treatment       control\n",
      "purchase_Tops & Tees    1555.094478  54096.905522\n",
      "unpurchase_Tops & Tees   504.905522  17564.094478\n",
      "--------------------------\n",
      "Observed Values\n",
      "                        treatment  control\n",
      "purchase_Tops & Tees          152     5061\n",
      "unpurchase_Tops & Tees       1956    68439\n",
      "==========================\n",
      "Product 5: Swim\n",
      "Chi-square: 0.73\n",
      "P-value: 0.39\n",
      "--------------------------\n",
      "Expected Values\n",
      "                   treatment       control\n",
      "purchase_Swim    1555.094478  54096.905522\n",
      "unpurchase_Swim   504.905522  17564.094478\n",
      "--------------------------\n",
      "Observed Values\n",
      "                 treatment  control\n",
      "purchase_Swim          150     4866\n",
      "unpurchase_Swim       1958    68634\n",
      "==========================\n"
     ]
    }
   ],
   "source": [
    "category_top5 = df[df.order_created_at >= '2024-01-11'].category.value_counts()[:5].index\n",
    "print('[Chi-square Analysis Result Report]\\n------------------------------------')\n",
    "for i, category in enumerate(category_top5, start=1):\n",
    "\n",
    "    test = treatment[treatment.category==category].user_id.nunique()\n",
    "    ctrl = control[control.category==category].user_id.nunique()\n",
    "\n",
    "    ## Part1. Chi-square Test Report\n",
    "    purchase_category = [test, ctrl] # A와 B의 특정 product를 구매한 유저 수\n",
    "    unpurchase_category = [treatment.user_id.nunique() - test, \n",
    "                control.user_id.nunique() - ctrl]  # A와 B의 특정 product를 구매하지 않은 유저 수\n",
    "    \n",
    "    ## Part2. Contingency Table & Chi-squaure Model\n",
    "    ## 기초 테이블 형성\n",
    "    cont_table = pd.DataFrame([purchase_category, unpurchase_category], columns=['treatment', 'control'], index=[f'purchase_{category}', f'unpurchase_{category}'])\n",
    "\n",
    "    ## Part3. 카이제곱 독립성 검정 모델 선언\n",
    "    chi2, p_val, _, _ = stats.chi2_contingency([purchase_category, unpurchase_category])\n",
    "\n",
    "    ## 기대값 표 형성\n",
    "    ex = pd.DataFrame(expected, columns = ['treatment', 'control'], index = [f'purchase_{category}', f'unpurchase_{category}'])\n",
    "\n",
    "    print(\n",
    "      'Product {}: {}'.format(i, category)\n",
    "    , 'Chi-square: {}'.format(round(chi2, 2))\n",
    "    , 'P-value: {}'.format(round(p_val, 2))\n",
    "    , '--------------------------'\n",
    "    , 'Expected Values'\n",
    "    , ex\n",
    "    , '--------------------------'\n",
    "    , 'Observed Values'\n",
    "    , cont_table\n",
    "    ,  '=========================='\n",
    "    , sep = '\\n'\n",
    "    )"
   ]
  },
  {
   "cell_type": "code",
   "execution_count": null,
   "metadata": {},
   "outputs": [],
   "source": []
  }
 ],
 "metadata": {
  "kernelspec": {
   "display_name": "Python 3",
   "language": "python",
   "name": "python3"
  },
  "language_info": {
   "codemirror_mode": {
    "name": "ipython",
    "version": 3
   },
   "file_extension": ".py",
   "mimetype": "text/x-python",
   "name": "python",
   "nbconvert_exporter": "python",
   "pygments_lexer": "ipython3",
   "version": "3.10.1"
  }
 },
 "nbformat": 4,
 "nbformat_minor": 2
}
