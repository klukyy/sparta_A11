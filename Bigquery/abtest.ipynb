{
 "cells": [
  {
   "cell_type": "code",
   "execution_count": null,
   "metadata": {},
   "outputs": [],
   "source": [
    "#%pip install google-cloud-bigquery\n",
    "#%pip install db-dtypes\n",
    "#%pip install pandas-gbq"
   ]
  },
  {
   "cell_type": "code",
   "execution_count": 170,
   "metadata": {},
   "outputs": [],
   "source": [
    "query = f\"\"\"\n",
    "select uoe.* EXCEPT(`inventory_item_id`, `product_id`),\n",
    "iv.id `inventory_item_id`,\n",
    "iv.product_id,\n",
    "iv.product_category `category`,\n",
    "iv.product_brand `brand`,\n",
    "iv.product_name,\n",
    "CAST(iv.created_at AS DATE) `inventory_created_at`,\n",
    "CAST(sold_at AS DATE) `inventory_sold_at`,\n",
    "iv.cost\n",
    "from\n",
    "(select uo.*,\n",
    "oi.id `order_items_id`,\n",
    "oi.product_id,\n",
    "oi.inventory_item_id,\n",
    "oi.status,\n",
    "oi.sale_price,\n",
    "CAST(oi.created_at AS DATE) `order_created_at`,\n",
    "e.session_id,\n",
    "e.sequence_number,\n",
    "e.user_id `login_user_id`,\n",
    "CAST(e.created_at AS DATE) `sess_created_at`,\n",
    "e.traffic_source `sess_traffic_source`,\n",
    "e.uri,\n",
    "e.event_type,\n",
    "e.ip_address,\n",
    "e.state `sess_state`,\n",
    "e.city `sess_city`,\n",
    "from\n",
    "(select u.id `user_id`,\n",
    "u.age,\n",
    "u.gender,\n",
    "u.state `account_state`,\n",
    "u.city `account_city`,\n",
    "u.country `account_country`,\n",
    "u.latitude,\n",
    "u.longitude,\n",
    "u.traffic_source `account_traffic_source`,\n",
    "CAST(u.created_at AS DATE) `account_created_at`,\n",
    "o.order_id,\n",
    "FROM `org_data.users` u\n",
    "FULL OUTER JOIN `org_data.orders` o\n",
    "on o.user_id=u.id) uo\n",
    "FULL OUTER JOIN `org_data.order_items` oi\n",
    "on oi.user_id=uo.user_id and oi.order_id=uo.order_id\n",
    "FULL OUTER JOIN `org_data.events` e\n",
    "on uo.user_id=e.user_id and date(e.created_at)=date(oi.created_at) and e.event_type='purchase'\n",
    "where (oi.shipped_at >= oi.created_at) or (e.created_at is not null and oi.created_at is null) or (oi.created_at is null and uo.account_created_at is not null)\n",
    ") uoe\n",
    "FULL OUTER JOIN `org_data.inventory_items` iv\n",
    "on iv.id=uoe.inventory_item_id\n",
    "\"\"\""
   ]
  },
  {
   "cell_type": "code",
   "execution_count": 171,
   "metadata": {},
   "outputs": [
    {
     "data": {
      "text/html": [
       "<div>\n",
       "<style scoped>\n",
       "    .dataframe tbody tr th:only-of-type {\n",
       "        vertical-align: middle;\n",
       "    }\n",
       "\n",
       "    .dataframe tbody tr th {\n",
       "        vertical-align: top;\n",
       "    }\n",
       "\n",
       "    .dataframe thead th {\n",
       "        text-align: right;\n",
       "    }\n",
       "</style>\n",
       "<table border=\"1\" class=\"dataframe\">\n",
       "  <thead>\n",
       "    <tr style=\"text-align: right;\">\n",
       "      <th></th>\n",
       "      <th>user_id</th>\n",
       "      <th>age</th>\n",
       "      <th>gender</th>\n",
       "      <th>account_state</th>\n",
       "      <th>account_city</th>\n",
       "      <th>account_country</th>\n",
       "      <th>latitude</th>\n",
       "      <th>longitude</th>\n",
       "      <th>account_traffic_source</th>\n",
       "      <th>account_created_at</th>\n",
       "      <th>...</th>\n",
       "      <th>sess_state</th>\n",
       "      <th>sess_city</th>\n",
       "      <th>inventory_item_id</th>\n",
       "      <th>product_id</th>\n",
       "      <th>category</th>\n",
       "      <th>brand</th>\n",
       "      <th>product_name</th>\n",
       "      <th>inventory_created_at</th>\n",
       "      <th>inventory_sold_at</th>\n",
       "      <th>cost</th>\n",
       "    </tr>\n",
       "  </thead>\n",
       "  <tbody>\n",
       "    <tr>\n",
       "      <th>0</th>\n",
       "      <td>46241</td>\n",
       "      <td>46</td>\n",
       "      <td>M</td>\n",
       "      <td>Nordrhein-Westfalen</td>\n",
       "      <td>Rees</td>\n",
       "      <td>Germany</td>\n",
       "      <td>51.773356</td>\n",
       "      <td>6.420495</td>\n",
       "      <td>Search</td>\n",
       "      <td>2023-09-02</td>\n",
       "      <td>...</td>\n",
       "      <td>None</td>\n",
       "      <td>None</td>\n",
       "      <td>&lt;NA&gt;</td>\n",
       "      <td>&lt;NA&gt;</td>\n",
       "      <td>None</td>\n",
       "      <td>None</td>\n",
       "      <td>None</td>\n",
       "      <td>NaT</td>\n",
       "      <td>NaT</td>\n",
       "      <td>NaN</td>\n",
       "    </tr>\n",
       "    <tr>\n",
       "      <th>1</th>\n",
       "      <td>89364</td>\n",
       "      <td>20</td>\n",
       "      <td>M</td>\n",
       "      <td>Rio Grande do Sul</td>\n",
       "      <td>Guaíba</td>\n",
       "      <td>Brasil</td>\n",
       "      <td>-30.177374</td>\n",
       "      <td>-51.433661</td>\n",
       "      <td>Search</td>\n",
       "      <td>2023-04-18</td>\n",
       "      <td>...</td>\n",
       "      <td>Rio Grande do Sul</td>\n",
       "      <td>Guaíba</td>\n",
       "      <td>438558</td>\n",
       "      <td>21205</td>\n",
       "      <td>Jeans</td>\n",
       "      <td>Diesel</td>\n",
       "      <td>Diesel Men's Larkee Regular Straight Leg Jean</td>\n",
       "      <td>2021-10-29</td>\n",
       "      <td>NaT</td>\n",
       "      <td>96.030000</td>\n",
       "    </tr>\n",
       "    <tr>\n",
       "      <th>2</th>\n",
       "      <td>80035</td>\n",
       "      <td>35</td>\n",
       "      <td>F</td>\n",
       "      <td>Gyeonggi-do</td>\n",
       "      <td>Uijeongbuxi</td>\n",
       "      <td>South Korea</td>\n",
       "      <td>37.737364</td>\n",
       "      <td>127.066058</td>\n",
       "      <td>Search</td>\n",
       "      <td>2022-08-26</td>\n",
       "      <td>...</td>\n",
       "      <td>Gyeonggi-do</td>\n",
       "      <td>Uijeongbuxi</td>\n",
       "      <td>393098</td>\n",
       "      <td>10097</td>\n",
       "      <td>Sleep &amp; Lounge</td>\n",
       "      <td>Intimo</td>\n",
       "      <td>Intimo Women's Silk Pant - 50005</td>\n",
       "      <td>2021-04-21</td>\n",
       "      <td>NaT</td>\n",
       "      <td>20.227199</td>\n",
       "    </tr>\n",
       "    <tr>\n",
       "      <th>3</th>\n",
       "      <td>96060</td>\n",
       "      <td>16</td>\n",
       "      <td>M</td>\n",
       "      <td>Miyagi</td>\n",
       "      <td>Sendai city</td>\n",
       "      <td>Japan</td>\n",
       "      <td>38.264748</td>\n",
       "      <td>140.731877</td>\n",
       "      <td>Search</td>\n",
       "      <td>2021-10-08</td>\n",
       "      <td>...</td>\n",
       "      <td>Miyagi</td>\n",
       "      <td>Sendai city</td>\n",
       "      <td>471864</td>\n",
       "      <td>17272</td>\n",
       "      <td>Fashion Hoodies &amp; Sweatshirts</td>\n",
       "      <td>Metal Mulisha</td>\n",
       "      <td>Metal Mulisha Men's Unavailable</td>\n",
       "      <td>2021-01-17</td>\n",
       "      <td>NaT</td>\n",
       "      <td>31.992000</td>\n",
       "    </tr>\n",
       "    <tr>\n",
       "      <th>4</th>\n",
       "      <td>66972</td>\n",
       "      <td>38</td>\n",
       "      <td>F</td>\n",
       "      <td>Pará</td>\n",
       "      <td>null</td>\n",
       "      <td>Brasil</td>\n",
       "      <td>-8.182462</td>\n",
       "      <td>-49.512580</td>\n",
       "      <td>Search</td>\n",
       "      <td>2020-08-30</td>\n",
       "      <td>...</td>\n",
       "      <td>Pará</td>\n",
       "      <td>null</td>\n",
       "      <td>329080</td>\n",
       "      <td>14108</td>\n",
       "      <td>Accessories</td>\n",
       "      <td>Luxury Divas</td>\n",
       "      <td>Black Rhinestone Cross Jeweled Studded Belt</td>\n",
       "      <td>2022-01-21</td>\n",
       "      <td>NaT</td>\n",
       "      <td>7.893600</td>\n",
       "    </tr>\n",
       "    <tr>\n",
       "      <th>...</th>\n",
       "      <td>...</td>\n",
       "      <td>...</td>\n",
       "      <td>...</td>\n",
       "      <td>...</td>\n",
       "      <td>...</td>\n",
       "      <td>...</td>\n",
       "      <td>...</td>\n",
       "      <td>...</td>\n",
       "      <td>...</td>\n",
       "      <td>...</td>\n",
       "      <td>...</td>\n",
       "      <td>...</td>\n",
       "      <td>...</td>\n",
       "      <td>...</td>\n",
       "      <td>...</td>\n",
       "      <td>...</td>\n",
       "      <td>...</td>\n",
       "      <td>...</td>\n",
       "      <td>...</td>\n",
       "      <td>...</td>\n",
       "      <td>...</td>\n",
       "    </tr>\n",
       "    <tr>\n",
       "      <th>2771590</th>\n",
       "      <td>&lt;NA&gt;</td>\n",
       "      <td>&lt;NA&gt;</td>\n",
       "      <td>None</td>\n",
       "      <td>None</td>\n",
       "      <td>None</td>\n",
       "      <td>None</td>\n",
       "      <td>NaN</td>\n",
       "      <td>NaN</td>\n",
       "      <td>None</td>\n",
       "      <td>NaT</td>\n",
       "      <td>...</td>\n",
       "      <td>None</td>\n",
       "      <td>None</td>\n",
       "      <td>57903</td>\n",
       "      <td>169</td>\n",
       "      <td>Tops &amp; Tees</td>\n",
       "      <td>Ralph Lauren</td>\n",
       "      <td>Ralph Lauren Sport Women Lightweight Pony Logo...</td>\n",
       "      <td>2023-10-31</td>\n",
       "      <td>2023-12-10</td>\n",
       "      <td>19.892971</td>\n",
       "    </tr>\n",
       "    <tr>\n",
       "      <th>2771591</th>\n",
       "      <td>&lt;NA&gt;</td>\n",
       "      <td>&lt;NA&gt;</td>\n",
       "      <td>None</td>\n",
       "      <td>None</td>\n",
       "      <td>None</td>\n",
       "      <td>None</td>\n",
       "      <td>NaN</td>\n",
       "      <td>NaN</td>\n",
       "      <td>None</td>\n",
       "      <td>NaT</td>\n",
       "      <td>...</td>\n",
       "      <td>None</td>\n",
       "      <td>None</td>\n",
       "      <td>331399</td>\n",
       "      <td>714</td>\n",
       "      <td>Tops &amp; Tees</td>\n",
       "      <td>Ralph Lauren</td>\n",
       "      <td>Ralph Lauren Sport Women's Oxford Dress Shirt ...</td>\n",
       "      <td>2020-12-04</td>\n",
       "      <td>2020-12-04</td>\n",
       "      <td>49.225000</td>\n",
       "    </tr>\n",
       "    <tr>\n",
       "      <th>2771592</th>\n",
       "      <td>&lt;NA&gt;</td>\n",
       "      <td>&lt;NA&gt;</td>\n",
       "      <td>None</td>\n",
       "      <td>None</td>\n",
       "      <td>None</td>\n",
       "      <td>None</td>\n",
       "      <td>NaN</td>\n",
       "      <td>NaN</td>\n",
       "      <td>None</td>\n",
       "      <td>NaT</td>\n",
       "      <td>...</td>\n",
       "      <td>None</td>\n",
       "      <td>None</td>\n",
       "      <td>224379</td>\n",
       "      <td>331</td>\n",
       "      <td>Tops &amp; Tees</td>\n",
       "      <td>Ralph Lauren</td>\n",
       "      <td>Ralph Lauren Women The Skinny Polo Pony Logo T...</td>\n",
       "      <td>2022-10-21</td>\n",
       "      <td>NaT</td>\n",
       "      <td>31.434761</td>\n",
       "    </tr>\n",
       "    <tr>\n",
       "      <th>2771593</th>\n",
       "      <td>&lt;NA&gt;</td>\n",
       "      <td>&lt;NA&gt;</td>\n",
       "      <td>None</td>\n",
       "      <td>None</td>\n",
       "      <td>None</td>\n",
       "      <td>None</td>\n",
       "      <td>NaN</td>\n",
       "      <td>NaN</td>\n",
       "      <td>None</td>\n",
       "      <td>NaT</td>\n",
       "      <td>...</td>\n",
       "      <td>None</td>\n",
       "      <td>None</td>\n",
       "      <td>98537</td>\n",
       "      <td>73</td>\n",
       "      <td>Tops &amp; Tees</td>\n",
       "      <td>Splendid</td>\n",
       "      <td>Splendid Women's Colorblock Tank</td>\n",
       "      <td>2022-01-22</td>\n",
       "      <td>NaT</td>\n",
       "      <td>49.456000</td>\n",
       "    </tr>\n",
       "    <tr>\n",
       "      <th>2771594</th>\n",
       "      <td>&lt;NA&gt;</td>\n",
       "      <td>&lt;NA&gt;</td>\n",
       "      <td>None</td>\n",
       "      <td>None</td>\n",
       "      <td>None</td>\n",
       "      <td>None</td>\n",
       "      <td>NaN</td>\n",
       "      <td>NaN</td>\n",
       "      <td>None</td>\n",
       "      <td>NaT</td>\n",
       "      <td>...</td>\n",
       "      <td>None</td>\n",
       "      <td>None</td>\n",
       "      <td>131305</td>\n",
       "      <td>73</td>\n",
       "      <td>Tops &amp; Tees</td>\n",
       "      <td>Splendid</td>\n",
       "      <td>Splendid Women's Colorblock Tank</td>\n",
       "      <td>2022-05-09</td>\n",
       "      <td>NaT</td>\n",
       "      <td>49.456000</td>\n",
       "    </tr>\n",
       "  </tbody>\n",
       "</table>\n",
       "<p>2771595 rows × 33 columns</p>\n",
       "</div>"
      ],
      "text/plain": [
       "         user_id   age gender        account_state account_city  \\\n",
       "0          46241    46      M  Nordrhein-Westfalen         Rees   \n",
       "1          89364    20      M    Rio Grande do Sul       Guaíba   \n",
       "2          80035    35      F          Gyeonggi-do  Uijeongbuxi   \n",
       "3          96060    16      M               Miyagi  Sendai city   \n",
       "4          66972    38      F                 Pará         null   \n",
       "...          ...   ...    ...                  ...          ...   \n",
       "2771590     <NA>  <NA>   None                 None         None   \n",
       "2771591     <NA>  <NA>   None                 None         None   \n",
       "2771592     <NA>  <NA>   None                 None         None   \n",
       "2771593     <NA>  <NA>   None                 None         None   \n",
       "2771594     <NA>  <NA>   None                 None         None   \n",
       "\n",
       "        account_country   latitude   longitude account_traffic_source  \\\n",
       "0               Germany  51.773356    6.420495                 Search   \n",
       "1                Brasil -30.177374  -51.433661                 Search   \n",
       "2           South Korea  37.737364  127.066058                 Search   \n",
       "3                 Japan  38.264748  140.731877                 Search   \n",
       "4                Brasil  -8.182462  -49.512580                 Search   \n",
       "...                 ...        ...         ...                    ...   \n",
       "2771590            None        NaN         NaN                   None   \n",
       "2771591            None        NaN         NaN                   None   \n",
       "2771592            None        NaN         NaN                   None   \n",
       "2771593            None        NaN         NaN                   None   \n",
       "2771594            None        NaN         NaN                   None   \n",
       "\n",
       "        account_created_at  ...         sess_state    sess_city  \\\n",
       "0               2023-09-02  ...               None         None   \n",
       "1               2023-04-18  ...  Rio Grande do Sul       Guaíba   \n",
       "2               2022-08-26  ...        Gyeonggi-do  Uijeongbuxi   \n",
       "3               2021-10-08  ...             Miyagi  Sendai city   \n",
       "4               2020-08-30  ...               Pará         null   \n",
       "...                    ...  ...                ...          ...   \n",
       "2771590                NaT  ...               None         None   \n",
       "2771591                NaT  ...               None         None   \n",
       "2771592                NaT  ...               None         None   \n",
       "2771593                NaT  ...               None         None   \n",
       "2771594                NaT  ...               None         None   \n",
       "\n",
       "        inventory_item_id  product_id                       category  \\\n",
       "0                    <NA>        <NA>                           None   \n",
       "1                  438558       21205                          Jeans   \n",
       "2                  393098       10097                 Sleep & Lounge   \n",
       "3                  471864       17272  Fashion Hoodies & Sweatshirts   \n",
       "4                  329080       14108                    Accessories   \n",
       "...                   ...         ...                            ...   \n",
       "2771590             57903         169                    Tops & Tees   \n",
       "2771591            331399         714                    Tops & Tees   \n",
       "2771592            224379         331                    Tops & Tees   \n",
       "2771593             98537          73                    Tops & Tees   \n",
       "2771594            131305          73                    Tops & Tees   \n",
       "\n",
       "                 brand                                       product_name  \\\n",
       "0                 None                                               None   \n",
       "1               Diesel      Diesel Men's Larkee Regular Straight Leg Jean   \n",
       "2               Intimo                   Intimo Women's Silk Pant - 50005   \n",
       "3        Metal Mulisha                    Metal Mulisha Men's Unavailable   \n",
       "4         Luxury Divas        Black Rhinestone Cross Jeweled Studded Belt   \n",
       "...                ...                                                ...   \n",
       "2771590   Ralph Lauren  Ralph Lauren Sport Women Lightweight Pony Logo...   \n",
       "2771591   Ralph Lauren  Ralph Lauren Sport Women's Oxford Dress Shirt ...   \n",
       "2771592   Ralph Lauren  Ralph Lauren Women The Skinny Polo Pony Logo T...   \n",
       "2771593       Splendid                   Splendid Women's Colorblock Tank   \n",
       "2771594       Splendid                   Splendid Women's Colorblock Tank   \n",
       "\n",
       "         inventory_created_at inventory_sold_at       cost  \n",
       "0                         NaT               NaT        NaN  \n",
       "1                  2021-10-29               NaT  96.030000  \n",
       "2                  2021-04-21               NaT  20.227199  \n",
       "3                  2021-01-17               NaT  31.992000  \n",
       "4                  2022-01-21               NaT   7.893600  \n",
       "...                       ...               ...        ...  \n",
       "2771590            2023-10-31        2023-12-10  19.892971  \n",
       "2771591            2020-12-04        2020-12-04  49.225000  \n",
       "2771592            2022-10-21               NaT  31.434761  \n",
       "2771593            2022-01-22               NaT  49.456000  \n",
       "2771594            2022-05-09               NaT  49.456000  \n",
       "\n",
       "[2771595 rows x 33 columns]"
      ]
     },
     "execution_count": 171,
     "metadata": {},
     "output_type": "execute_result"
    }
   ],
   "source": [
    "import glob\n",
    "from google.cloud import bigquery\n",
    "from google.oauth2 import service_account\n",
    "\n",
    "# 서비스 계정 키 JSON 파일 경로\n",
    "key_path = glob.glob(\"./looker-ecommerce-e30fc40090ce.json\")[0]\n",
    "\n",
    "# Credentials 객체 생성\n",
    "credentials = service_account.Credentials.from_service_account_file(key_path)\n",
    "\n",
    "# GCP 클라이언트 객체 생성\n",
    "client = bigquery.Client(credentials = credentials, \n",
    "                         project = credentials.project_id)\n",
    "\n",
    "# 데이터 조회 예시 쿼리문 \n",
    "# FROM절 프로젝트명.데이터셋명.테이블명\n",
    "query = query\n",
    "check = client.query(query).to_dataframe()\n",
    "check"
   ]
  },
  {
   "cell_type": "code",
   "execution_count": 172,
   "metadata": {},
   "outputs": [
    {
     "name": "stdout",
     "output_type": "stream",
     "text": [
      "<class 'pandas.core.frame.DataFrame'>\n",
      "RangeIndex: 2771595 entries, 0 to 2771594\n",
      "Data columns (total 33 columns):\n",
      " #   Column                  Non-Null Count    Dtype  \n",
      "---  ------                  --------------    -----  \n",
      " 0   user_id                 112960 non-null   Int64  \n",
      " 1   age                     112960 non-null   Int64  \n",
      " 2   gender                  112960 non-null   object \n",
      " 3   account_state           112960 non-null   object \n",
      " 4   account_city            112960 non-null   object \n",
      " 5   account_country         112960 non-null   object \n",
      " 6   latitude                112960 non-null   float64\n",
      " 7   longitude               112960 non-null   float64\n",
      " 8   account_traffic_source  112960 non-null   object \n",
      " 9   account_created_at      112960 non-null   dbdate \n",
      " 10  order_id                93004 non-null    Int64  \n",
      " 11  order_items_id          93004 non-null    Int64  \n",
      " 12  status                  93004 non-null    object \n",
      " 13  sale_price              93004 non-null    float64\n",
      " 14  order_created_at        93004 non-null    dbdate \n",
      " 15  session_id              2343260 non-null  object \n",
      " 16  sequence_number         2343260 non-null  Int64  \n",
      " 17  login_user_id           1217589 non-null  float64\n",
      " 18  sess_created_at         2343260 non-null  dbdate \n",
      " 19  sess_traffic_source     2343260 non-null  object \n",
      " 20  uri                     2343260 non-null  object \n",
      " 21  event_type              2343260 non-null  object \n",
      " 22  ip_address              2343260 non-null  object \n",
      " 23  sess_state              2343260 non-null  object \n",
      " 24  sess_city               2343260 non-null  object \n",
      " 25  inventory_item_id       501300 non-null   Int64  \n",
      " 26  product_id              501300 non-null   Int64  \n",
      " 27  category                501300 non-null   object \n",
      " 28  brand                   500892 non-null   object \n",
      " 29  product_name            501271 non-null   object \n",
      " 30  inventory_created_at    501300 non-null   dbdate \n",
      " 31  inventory_sold_at       181759 non-null   dbdate \n",
      " 32  cost                    501300 non-null   float64\n",
      "dtypes: Int64(7), dbdate(5), float64(5), object(16)\n",
      "memory usage: 716.3+ MB\n"
     ]
    }
   ],
   "source": [
    "check.info(show_counts=True)"
   ]
  },
  {
   "cell_type": "code",
   "execution_count": 173,
   "metadata": {},
   "outputs": [],
   "source": [
    "#check.to_csv('./looker.csv', index=False)"
   ]
  },
  {
   "cell_type": "code",
   "execution_count": 174,
   "metadata": {},
   "outputs": [],
   "source": [
    "df = check.copy()"
   ]
  },
  {
   "cell_type": "markdown",
   "metadata": {},
   "source": [
    "카이 제곱 검정\n",
    "- 신규 유저 (실험군) vs 기존 유저 (대조군)\n",
    "1. 개인 정보: 성별, 연령대, 국가, 유입경로, `→ same` @하늘\n",
    "    - 구매 전환율 (1번 이상 결제), retention (2번 이상 결제) `→ diff` @영아\n",
    "2. 구매 상품: product_id, category, brand, … `→ same` @지은\n",
    "    - top 3"
   ]
  },
  {
   "cell_type": "code",
   "execution_count": 193,
   "metadata": {},
   "outputs": [],
   "source": [
    "import pandas as pd\n",
    "import numpy as np\n",
    "\n",
    "from scipy.stats import chi2_contingency"
   ]
  },
  {
   "cell_type": "code",
   "execution_count": 175,
   "metadata": {},
   "outputs": [],
   "source": [
    "# 형변환\n",
    "def convert_type(df):\n",
    "    for col in df.columns:\n",
    "        if '_at' in col:    # 시간 데이터\n",
    "            df = df.assign(**{col:pd.to_datetime(df[col])})\n",
    "            print('[+] {0:<30} >>> datetime'.format(col))\n",
    "        elif '_id' in col:  # id 컬럼 -> obj형으로\n",
    "            df = df.assign(**{col:df[col].astype('object')})\n",
    "            print('[+] {0:<30} >>> object'.format(col))\n",
    "    return df"
   ]
  },
  {
   "cell_type": "code",
   "execution_count": 176,
   "metadata": {},
   "outputs": [
    {
     "name": "stdout",
     "output_type": "stream",
     "text": [
      "[+] user_id                        >>> object\n",
      "[+] account_created_at             >>> datetime\n",
      "[+] order_id                       >>> object\n",
      "[+] order_items_id                 >>> object\n",
      "[+] order_created_at               >>> datetime\n",
      "[+] session_id                     >>> object\n",
      "[+] login_user_id                  >>> object\n",
      "[+] sess_created_at                >>> datetime\n",
      "[+] inventory_item_id              >>> object\n",
      "[+] product_id                     >>> object\n",
      "[+] inventory_created_at           >>> datetime\n",
      "[+] inventory_sold_at              >>> datetime\n"
     ]
    }
   ],
   "source": [
    "df = convert_type(df)"
   ]
  },
  {
   "cell_type": "code",
   "execution_count": 177,
   "metadata": {},
   "outputs": [
    {
     "data": {
      "text/html": [
       "<style type=\"text/css\">\n",
       "#T_425a2_row0_col0, #T_425a2_row3_col0 {\n",
       "  background-color: #fdf5fa;\n",
       "  color: #000000;\n",
       "}\n",
       "#T_425a2_row1_col0 {\n",
       "  background-color: #fff7fb;\n",
       "  color: #000000;\n",
       "}\n",
       "#T_425a2_row2_col0 {\n",
       "  background-color: #fbf3f9;\n",
       "  color: #000000;\n",
       "}\n",
       "#T_425a2_row4_col0 {\n",
       "  background-color: #045687;\n",
       "  color: #f1f1f1;\n",
       "}\n",
       "#T_425a2_row5_col0, #T_425a2_row8_col0 {\n",
       "  background-color: #023b5d;\n",
       "  color: #f1f1f1;\n",
       "}\n",
       "#T_425a2_row6_col0 {\n",
       "  background-color: #023858;\n",
       "  color: #f1f1f1;\n",
       "}\n",
       "#T_425a2_row7_col0 {\n",
       "  background-color: #034a74;\n",
       "  color: #f1f1f1;\n",
       "}\n",
       "#T_425a2_row9_col0 {\n",
       "  background-color: #03517e;\n",
       "  color: #f1f1f1;\n",
       "}\n",
       "</style>\n",
       "<table id=\"T_425a2\">\n",
       "  <thead>\n",
       "    <tr>\n",
       "      <th class=\"blank level0\" >&nbsp;</th>\n",
       "      <th id=\"T_425a2_level0_col0\" class=\"col_heading level0 col0\" >user_id</th>\n",
       "    </tr>\n",
       "    <tr>\n",
       "      <th class=\"index_name level0\" >account_created_at</th>\n",
       "      <th class=\"blank col0\" >&nbsp;</th>\n",
       "    </tr>\n",
       "  </thead>\n",
       "  <tbody>\n",
       "    <tr>\n",
       "      <th id=\"T_425a2_level0_row0\" class=\"row_heading level0 row0\" >2024-01-07 00:00:00</th>\n",
       "      <td id=\"T_425a2_row0_col0\" class=\"data row0 col0\" >37</td>\n",
       "    </tr>\n",
       "    <tr>\n",
       "      <th id=\"T_425a2_level0_row1\" class=\"row_heading level0 row1\" >2024-01-08 00:00:00</th>\n",
       "      <td id=\"T_425a2_row1_col0\" class=\"data row1 col0\" >31</td>\n",
       "    </tr>\n",
       "    <tr>\n",
       "      <th id=\"T_425a2_level0_row2\" class=\"row_heading level0 row2\" >2024-01-09 00:00:00</th>\n",
       "      <td id=\"T_425a2_row2_col0\" class=\"data row2 col0\" >41</td>\n",
       "    </tr>\n",
       "    <tr>\n",
       "      <th id=\"T_425a2_level0_row3\" class=\"row_heading level0 row3\" >2024-01-10 00:00:00</th>\n",
       "      <td id=\"T_425a2_row3_col0\" class=\"data row3 col0\" >35</td>\n",
       "    </tr>\n",
       "    <tr>\n",
       "      <th id=\"T_425a2_level0_row4\" class=\"row_heading level0 row4\" >2024-01-11 00:00:00</th>\n",
       "      <td id=\"T_425a2_row4_col0\" class=\"data row4 col0\" >331</td>\n",
       "    </tr>\n",
       "    <tr>\n",
       "      <th id=\"T_425a2_level0_row5\" class=\"row_heading level0 row5\" >2024-01-12 00:00:00</th>\n",
       "      <td id=\"T_425a2_row5_col0\" class=\"data row5 col0\" >364</td>\n",
       "    </tr>\n",
       "    <tr>\n",
       "      <th id=\"T_425a2_level0_row6\" class=\"row_heading level0 row6\" >2024-01-13 00:00:00</th>\n",
       "      <td id=\"T_425a2_row6_col0\" class=\"data row6 col0\" >368</td>\n",
       "    </tr>\n",
       "    <tr>\n",
       "      <th id=\"T_425a2_level0_row7\" class=\"row_heading level0 row7\" >2024-01-14 00:00:00</th>\n",
       "      <td id=\"T_425a2_row7_col0\" class=\"data row7 col0\" >345</td>\n",
       "    </tr>\n",
       "    <tr>\n",
       "      <th id=\"T_425a2_level0_row8\" class=\"row_heading level0 row8\" >2024-01-15 00:00:00</th>\n",
       "      <td id=\"T_425a2_row8_col0\" class=\"data row8 col0\" >363</td>\n",
       "    </tr>\n",
       "    <tr>\n",
       "      <th id=\"T_425a2_level0_row9\" class=\"row_heading level0 row9\" >2024-01-16 00:00:00</th>\n",
       "      <td id=\"T_425a2_row9_col0\" class=\"data row9 col0\" >337</td>\n",
       "    </tr>\n",
       "  </tbody>\n",
       "</table>\n"
      ],
      "text/plain": [
       "<pandas.io.formats.style.Styler at 0x334677b50>"
      ]
     },
     "execution_count": 177,
     "metadata": {},
     "output_type": "execute_result"
    }
   ],
   "source": [
    "df.groupby('account_created_at').agg({'user_id':'nunique'}).tail(10).style.background_gradient()"
   ]
  },
  {
   "cell_type": "code",
   "execution_count": 178,
   "metadata": {},
   "outputs": [],
   "source": [
    "# 실험군: 2024 신규 유입 유저\n",
    "treatment = df[df.account_created_at >= '2024-01-11'].copy()"
   ]
  },
  {
   "cell_type": "code",
   "execution_count": null,
   "metadata": {},
   "outputs": [],
   "source": [
    "# 대조군: 기존 유저\n",
    "#control = df[df.account_created_at.dt.year==2023].copy()   # 2023년 가입 유저\n",
    "control = df[df.account_created_at < '2024-01-11'].copy()"
   ]
  },
  {
   "cell_type": "code",
   "execution_count": 180,
   "metadata": {},
   "outputs": [
    {
     "name": "stdout",
     "output_type": "stream",
     "text": [
      "<class 'pandas.core.frame.DataFrame'>\n",
      "RangeIndex: 2771595 entries, 0 to 2771594\n",
      "Data columns (total 33 columns):\n",
      " #   Column                  Non-Null Count    Dtype         \n",
      "---  ------                  --------------    -----         \n",
      " 0   user_id                 112960 non-null   object        \n",
      " 1   age                     112960 non-null   Int64         \n",
      " 2   gender                  112960 non-null   object        \n",
      " 3   account_state           112960 non-null   object        \n",
      " 4   account_city            112960 non-null   object        \n",
      " 5   account_country         112960 non-null   object        \n",
      " 6   latitude                112960 non-null   float64       \n",
      " 7   longitude               112960 non-null   float64       \n",
      " 8   account_traffic_source  112960 non-null   object        \n",
      " 9   account_created_at      112960 non-null   datetime64[ns]\n",
      " 10  order_id                93004 non-null    object        \n",
      " 11  order_items_id          93004 non-null    object        \n",
      " 12  status                  93004 non-null    object        \n",
      " 13  sale_price              93004 non-null    float64       \n",
      " 14  order_created_at        93004 non-null    datetime64[ns]\n",
      " 15  session_id              2343260 non-null  object        \n",
      " 16  sequence_number         2343260 non-null  Int64         \n",
      " 17  login_user_id           1217589 non-null  object        \n",
      " 18  sess_created_at         2343260 non-null  datetime64[ns]\n",
      " 19  sess_traffic_source     2343260 non-null  object        \n",
      " 20  uri                     2343260 non-null  object        \n",
      " 21  event_type              2343260 non-null  object        \n",
      " 22  ip_address              2343260 non-null  object        \n",
      " 23  sess_state              2343260 non-null  object        \n",
      " 24  sess_city               2343260 non-null  object        \n",
      " 25  inventory_item_id       501300 non-null   object        \n",
      " 26  product_id              501300 non-null   object        \n",
      " 27  category                501300 non-null   object        \n",
      " 28  brand                   500892 non-null   object        \n",
      " 29  product_name            501271 non-null   object        \n",
      " 30  inventory_created_at    501300 non-null   datetime64[ns]\n",
      " 31  inventory_sold_at       181759 non-null   datetime64[ns]\n",
      " 32  cost                    501300 non-null   float64       \n",
      "dtypes: Int64(2), datetime64[ns](5), float64(4), object(22)\n",
      "memory usage: 703.1+ MB\n"
     ]
    }
   ],
   "source": [
    "df.info(show_counts=True)"
   ]
  },
  {
   "cell_type": "code",
   "execution_count": 389,
   "metadata": {},
   "outputs": [
    {
     "name": "stdout",
     "output_type": "stream",
     "text": [
      "전체 유저 수 : 75608명\n",
      "실험군 (treatment) : 2108명\n",
      "대조군 (control) : 73500명\n"
     ]
    }
   ],
   "source": [
    "print(\n",
    "    f'전체 유저 수 : {df.user_id.nunique(dropna=True)}명\\n\\\n",
    "실험군 (treatment) : {treatment.user_id.nunique()}명\\n\\\n",
    "대조군 (control) : {control.user_id.nunique()}명'\n",
    "    )"
   ]
  },
  {
   "cell_type": "code",
   "execution_count": 214,
   "metadata": {},
   "outputs": [],
   "source": [
    "chk_order = df.groupby('user_id').agg({'order_items_id':'nunique'}).reset_index()"
   ]
  },
  {
   "cell_type": "code",
   "execution_count": 232,
   "metadata": {},
   "outputs": [
    {
     "data": {
      "text/plain": [
       "<Axes: ylabel='Frequency'>"
      ]
     },
     "execution_count": 232,
     "metadata": {},
     "output_type": "execute_result"
    },
    {
     "data": {
      "image/png": "[encoded data removed]",
      "text/plain": [
       "<Figure size 640x480 with 1 Axes>"
      ]
     },
     "metadata": {},
     "output_type": "display_data"
    }
   ],
   "source": [
    "chk_order['order_items_id'].plot.hist()"
   ]
  },
  {
   "cell_type": "code",
   "execution_count": 216,
   "metadata": {},
   "outputs": [],
   "source": [
    "chk_order_test = treatment.groupby('user_id').agg({'order_items_id':'nunique'}).reset_index()\n",
    "chk_order_control = control.groupby('user_id').agg({'order_items_id':'nunique'}).reset_index()"
   ]
  },
  {
   "cell_type": "code",
   "execution_count": 217,
   "metadata": {},
   "outputs": [],
   "source": [
    "test_order_0 = len(chk_order_test[chk_order_test.order_items_id == 0])\n",
    "test_order_purchase = len(chk_order_test[chk_order_test.order_items_id != 0])\n",
    "test_order_repurchase = len(chk_order_test[chk_order_test.order_items_id > 1])"
   ]
  },
  {
   "cell_type": "code",
   "execution_count": 218,
   "metadata": {},
   "outputs": [],
   "source": [
    "control_order_0 = len(chk_order_control[chk_order_control.order_items_id == 0])\n",
    "control_order_purchase = len(chk_order_control[chk_order_control.order_items_id != 0])\n",
    "control_order_repurchase = len(chk_order_control[chk_order_control.order_items_id > 1])"
   ]
  },
  {
   "cell_type": "markdown",
   "metadata": {},
   "source": [
    "### 구매율"
   ]
  },
  {
   "cell_type": "code",
   "execution_count": 390,
   "metadata": {},
   "outputs": [
    {
     "name": "stdout",
     "output_type": "stream",
     "text": [
      "  \n",
      "[Chi-square Analysis Result Report]\n",
      "Chi-square: 0.12\n",
      "P-value: 0.72\n",
      "--------------------------\n",
      "Expected Values\n",
      "                treatment       control\n",
      "purchase      1548.171322  10677.828678\n",
      "non_purchase   559.828678   3861.171322\n",
      "--------------------------\n",
      "Observed Values\n",
      "              treatment  control\n",
      "purchase           1541    10685\n",
      "non_purchase        567     3854\n",
      "==========================\n",
      " \n"
     ]
    }
   ],
   "source": [
    "## Part1. Chi-square Test Report\n",
    "purchase = [test_order_purchase, control_order_purchase] # A와 B의 구매한 유저 수\n",
    "non_purchase = [test_order_0, control_order_0]  # A와 B의 구매 안 한 유저 수\n",
    " \n",
    "## Part2. Contingency Table & Chi-squaure Model\n",
    "## 기초 테이블 형성\n",
    "cont_table = pd.DataFrame([purchase, non_purchase], columns=['treatment', 'control'], index=['purchase', 'non_purchase'])\n",
    " \n",
    "## Part3. 카이제곱 독립성 검정 모델 선언\n",
    "chi2, p_val, d_f, expected = chi2_contingency([purchase, non_purchase])\n",
    " \n",
    "## 기대값 표 형성\n",
    "ex = pd.DataFrame(expected, columns = ['treatment', 'control'], index = ['purchase', 'non_purchase'])\n",
    " \n",
    "print(  '  '\n",
    " , '[Chi-square Analysis Result Report]'\n",
    " , 'Chi-square: {}'.format(round(chi2, 2))\n",
    " , 'P-value: {}'.format(round(p_val, 2))\n",
    " , '--------------------------'\n",
    " , 'Expected Values'\n",
    " , ex\n",
    " , '--------------------------'\n",
    " , 'Observed Values'\n",
    " , cont_table\n",
    " , '=========================='\n",
    " , ' '\n",
    " \n",
    " , sep = '\\n'\n",
    " )\n"
   ]
  },
  {
   "cell_type": "code",
   "execution_count": 391,
   "metadata": {},
   "outputs": [
    {
     "data": {
      "text/plain": [
       "0.7310246679316889"
      ]
     },
     "execution_count": 391,
     "metadata": {},
     "output_type": "execute_result"
    }
   ],
   "source": [
    "# 실험군\n",
    "1541 / (1541 + 567)"
   ]
  },
  {
   "cell_type": "code",
   "execution_count": 392,
   "metadata": {},
   "outputs": [
    {
     "data": {
      "text/plain": [
       "0.736204081632653"
      ]
     },
     "execution_count": 392,
     "metadata": {},
     "output_type": "execute_result"
    }
   ],
   "source": [
    "# 대조군\n",
    "54111 / (54111 + 19389)"
   ]
  },
  {
   "cell_type": "markdown",
   "metadata": {},
   "source": [
    "P-value가 0.72로 0.05보다 크다 -> 두 그룹의 차이가 없다... => 심지어 구매전환율이 기존유저가 좀 더 크다....?"
   ]
  },
  {
   "cell_type": "markdown",
   "metadata": {},
   "source": [
    "### 재구매율"
   ]
  },
  {
   "cell_type": "code",
   "execution_count": 393,
   "metadata": {},
   "outputs": [
    {
     "name": "stdout",
     "output_type": "stream",
     "text": [
      "  \n",
      "[Chi-square Analysis Result Report]\n",
      "Chi-square: 1.12\n",
      "P-value: 0.29\n",
      "--------------------------\n",
      "Expected Values\n",
      "              treatment       control\n",
      "purchase    1560.733718  10665.266282\n",
      "repurchase   499.266282   3411.733718\n",
      "--------------------------\n",
      "Observed Values\n",
      "            treatment  control\n",
      "purchase         1541    10685\n",
      "repurchase        519     3392\n",
      "==========================\n",
      " \n"
     ]
    }
   ],
   "source": [
    "## Part1. Chi-square Test Report\n",
    "purchase = [test_order_purchase, control_order_purchase] # A와 B의 구매한 유저 수\n",
    "repurchase = [test_order_repurchase, control_order_repurchase]  # A와 B의 재구매한 유저 수\n",
    " \n",
    "## Part2. Contingency Table & Chi-squaure Model\n",
    "## 기초 테이블 형성\n",
    "cont_table = pd.DataFrame([purchase, repurchase], columns=['treatment', 'control'], index=['purchase', 'repurchase'])\n",
    " \n",
    "## Part3. 카이제곱 독립성 검정 모델 선언\n",
    "chi2, p_val, d_f, expected = chi2_contingency([purchase, repurchase])\n",
    " \n",
    "## 기대값 표 형성\n",
    "ex = pd.DataFrame(expected, columns = ['treatment', 'control'], index = ['purchase', 'repurchase'])\n",
    " \n",
    "print(  '  '\n",
    " , '[Chi-square Analysis Result Report]'\n",
    " , 'Chi-square: {}'.format(round(chi2, 2))\n",
    " , 'P-value: {}'.format(round(p_val, 2))\n",
    " , '--------------------------'\n",
    " , 'Expected Values'\n",
    " , ex\n",
    " , '--------------------------'\n",
    " , 'Observed Values'\n",
    " , cont_table\n",
    " , '=========================='\n",
    " , ' '\n",
    " \n",
    " , sep = '\\n'\n",
    " )\n"
   ]
  },
  {
   "cell_type": "code",
   "execution_count": 223,
   "metadata": {},
   "outputs": [
    {
     "data": {
      "text/plain": [
       "0.2519417475728155"
      ]
     },
     "execution_count": 223,
     "metadata": {},
     "output_type": "execute_result"
    }
   ],
   "source": [
    "519 / (1541 + 519)"
   ]
  },
  {
   "cell_type": "code",
   "execution_count": 224,
   "metadata": {},
   "outputs": [
    {
     "data": {
      "text/plain": [
       "0.24490308536023778"
      ]
     },
     "execution_count": 224,
     "metadata": {},
     "output_type": "execute_result"
    }
   ],
   "source": [
    "17550 / (17550 + 54111)"
   ]
  },
  {
   "cell_type": "markdown",
   "metadata": {},
   "source": [
    "P-value가 0.29로 0.05보다 크다 -> 두 그룹의 차이가 없다... => 재구매율은 신규 유저가 좀 더 크다"
   ]
  },
  {
   "cell_type": "markdown",
   "metadata": {},
   "source": [
    "### 지불 금액"
   ]
  },
  {
   "cell_type": "code",
   "execution_count": 394,
   "metadata": {},
   "outputs": [],
   "source": [
    "chk_total_purchase = df.groupby('user_id').agg({'sale_price':'sum'}).reset_index()"
   ]
  },
  {
   "cell_type": "code",
   "execution_count": 395,
   "metadata": {},
   "outputs": [
    {
     "data": {
      "text/plain": [
       "<Axes: ylabel='Frequency'>"
      ]
     },
     "execution_count": 395,
     "metadata": {},
     "output_type": "execute_result"
    },
    {
     "data": {
      "image/png": "[encoded data removed]",
      "text/plain": [
       "<Figure size 640x480 with 1 Axes>"
      ]
     },
     "metadata": {},
     "output_type": "display_data"
    }
   ],
   "source": [
    "chk_total_purchase['sale_price'].plot.hist()"
   ]
  },
  {
   "cell_type": "code",
   "execution_count": 396,
   "metadata": {},
   "outputs": [
    {
     "name": "stdout",
     "output_type": "stream",
     "text": [
      "전체 유저의 평균 지불 금액: 중앙값 36.99 | 평균값 73.62\n"
     ]
    }
   ],
   "source": [
    "print(\n",
    "    '전체 유저의 평균 지불 금액: 중앙값 {:.2f} | 평균값 {:.2f}'.format(\n",
    "        np.median(chk_total_purchase['sale_price']), \n",
    "        np.mean(chk_total_purchase['sale_price']))\n",
    ")"
   ]
  },
  {
   "cell_type": "code",
   "execution_count": 397,
   "metadata": {},
   "outputs": [
    {
     "name": "stdout",
     "output_type": "stream",
     "text": [
      "1인당 평균 지불 금액: 실험군 $121.20 vs 대조군 $72.26\n"
     ]
    }
   ],
   "source": [
    "print(\n",
    "    '1인당 평균 지불 금액: 실험군 ${:.2f} vs 대조군 ${:.2f}'.format(\n",
    "        np.mean(treatment.groupby('user_id').agg({'sale_price':'sum'})), \n",
    "        np.mean(control.groupby('user_id').agg({'sale_price':'sum'})))\n",
    ")"
   ]
  },
  {
   "cell_type": "code",
   "execution_count": 398,
   "metadata": {},
   "outputs": [
    {
     "name": "stdout",
     "output_type": "stream",
     "text": [
      "제품단가: 중앙값 39.99 | 평균값 59.63\n"
     ]
    }
   ],
   "source": [
    "print(\n",
    "    '제품단가: 중앙값 {:.2f} | 평균값 {:.2f}'.format(\n",
    "        np.nanmedian(df.groupby('product_name').agg({'sale_price':'mean'})), \n",
    "        np.mean(df.groupby('product_name').agg({'sale_price':'mean'})))\n",
    ")"
   ]
  },
  {
   "cell_type": "markdown",
   "metadata": {},
   "source": [
    "#### 지불금액이 2024년 1월의 평균 ARPPU (56.85)를 넘는 유저"
   ]
  },
  {
   "cell_type": "code",
   "execution_count": 399,
   "metadata": {},
   "outputs": [],
   "source": [
    "chk_total_purchase_test = treatment.groupby('user_id').agg({'sale_price':'sum'}).reset_index()\n",
    "chk_total_purchase_control = control.groupby('user_id').agg({'sale_price':'sum'}).reset_index()"
   ]
  },
  {
   "cell_type": "code",
   "execution_count": 400,
   "metadata": {},
   "outputs": [
    {
     "name": "stdout",
     "output_type": "stream",
     "text": [
      "  \n",
      "[Chi-square Analysis Result Report]\n",
      "Chi-square: 847.44\n",
      "P-value: 0.0\n",
      "--------------------------\n",
      "Expected Values\n",
      "              treatment       control\n",
      "over_arppu  1243.830943  27343.169057\n",
      "less_arppu   170.169057   3740.830943\n",
      "--------------------------\n",
      "Observed Values\n",
      "            treatment  control\n",
      "over_arppu        895    27692\n",
      "less_arppu       1589    70108\n",
      "==========================\n",
      " \n"
     ]
    }
   ],
   "source": [
    "test_arppu = len(chk_total_purchase_test[chk_total_purchase_test.sale_price > 56.85])\n",
    "control_arppu = len(chk_total_purchase_control[chk_total_purchase_control.sale_price > 56.85])\n",
    "\n",
    "## Part1. Chi-square Test Report\n",
    "over_arppu = [test_arppu, control_arppu] # A와 B의 24년 1월 arppu보다 더 지불한 유저 수\n",
    "less_arppu = [len(chk_total_purchase_test) - test_order_repurchase, \n",
    "              len(chk_total_purchase_control) - control_order_repurchase]  # A와 B의 24년 1월 arppu보다 적게 지불한 유저 수\n",
    " \n",
    "## Part2. Contingency Table & Chi-squaure Model\n",
    "## 기초 테이블 형성\n",
    "cont_table = pd.DataFrame([over_arppu, less_arppu], columns=['treatment', 'control'], index=['over_arppu', 'less_arppu'])\n",
    " \n",
    "## Part3. 카이제곱 독립성 검정 모델 선언\n",
    "chi2, p_val, d_f, expected = chi2_contingency([over_arppu, repurchase])\n",
    " \n",
    "## 기대값 표 형성\n",
    "ex = pd.DataFrame(expected, columns = ['treatment', 'control'], index = ['over_arppu', 'less_arppu'])\n",
    " \n",
    "print(  '  '\n",
    " , '[Chi-square Analysis Result Report]'\n",
    " , 'Chi-square: {}'.format(round(chi2, 2))\n",
    " , 'P-value: {}'.format(round(p_val, 2))\n",
    " , '--------------------------'\n",
    " , 'Expected Values'\n",
    " , ex\n",
    " , '--------------------------'\n",
    " , 'Observed Values'\n",
    " , cont_table\n",
    " , '=========================='\n",
    " , ' '\n",
    " \n",
    " , sep = '\\n'\n",
    " )\n"
   ]
  },
  {
   "cell_type": "markdown",
   "metadata": {},
   "source": [
    "P-value가 0.0로 0.05보다 작다 -> 두 그룹의 차이가 있다 => 신규 유저의 1인당 지불금액이 더 크다"
   ]
  },
  {
   "cell_type": "markdown",
   "metadata": {},
   "source": [
    "### 특정 product 구매 비율\n",
    "- 2024년 1월 11일부터 판매량이 많은 제품 top 5\n",
    "- 이 제품을 구매한 유저 수 vs 구매 안한 유저 수"
   ]
  },
  {
   "cell_type": "code",
   "execution_count": 401,
   "metadata": {},
   "outputs": [],
   "source": [
    "product_top5 = df[df.order_created_at >= '2024-01-11'].product_name.value_counts()[:5].index"
   ]
  },
  {
   "cell_type": "code",
   "execution_count": 415,
   "metadata": {},
   "outputs": [
    {
     "name": "stdout",
     "output_type": "stream",
     "text": [
      "[Chi-square Analysis Result Report]\n",
      "------------------------------------\n",
      "Product 1: 2 PC. Ladies Lace Babydoll Set - One Size - Black/Pink\n",
      "Chi-square: 52.62\n",
      "P-value: 0.0\n",
      "--------------------------\n",
      "Expected Values\n",
      "                                                      treatment       control\n",
      "purchase_2 PC. Ladies Lace Babydoll Set - One S...  1243.830943  27343.169057\n",
      "unpurchase_2 PC. Ladies Lace Babydoll Set - One...   170.169057   3740.830943\n",
      "--------------------------\n",
      "Observed Values\n",
      "                                                    treatment  control\n",
      "purchase_2 PC. Ladies Lace Babydoll Set - One S...          3        1\n",
      "unpurchase_2 PC. Ladies Lace Babydoll Set - One...       2105    73499\n",
      "==========================\n",
      "Product 2: Woman Within Plus Size Jean relaxed fit with 5-pocket styling\n",
      "Chi-square: 7.52\n",
      "P-value: 0.01\n",
      "--------------------------\n",
      "Expected Values\n",
      "                                                      treatment       control\n",
      "purchase_Woman Within Plus Size Jean relaxed fi...  1243.830943  27343.169057\n",
      "unpurchase_Woman Within Plus Size Jean relaxed ...   170.169057   3740.830943\n",
      "--------------------------\n",
      "Observed Values\n",
      "                                                    treatment  control\n",
      "purchase_Woman Within Plus Size Jean relaxed fi...          2        6\n",
      "unpurchase_Woman Within Plus Size Jean relaxed ...       2106    73494\n",
      "==========================\n",
      "Product 3: Not Your Daughter's Jeans Women's Marilyn Straight Leg Jean\n",
      "Chi-square: 8.97\n",
      "P-value: 0.0\n",
      "--------------------------\n",
      "Expected Values\n",
      "                                                      treatment       control\n",
      "purchase_Not Your Daughter's Jeans Women's Mari...  1243.830943  27343.169057\n",
      "unpurchase_Not Your Daughter's Jeans Women's Ma...   170.169057   3740.830943\n",
      "--------------------------\n",
      "Observed Values\n",
      "                                                    treatment  control\n",
      "purchase_Not Your Daughter's Jeans Women's Mari...          2        5\n",
      "unpurchase_Not Your Daughter's Jeans Women's Ma...       2106    73495\n",
      "==========================\n",
      "Product 4: Live Love Roller Derby Full Zip Hoodie\n",
      "Chi-square: 33.46\n",
      "P-value: 0.0\n",
      "--------------------------\n",
      "Expected Values\n",
      "                                                     treatment       control\n",
      "purchase_Live Love Roller Derby Full Zip Hoodie    1243.830943  27343.169057\n",
      "unpurchase_Live Love Roller Derby Full Zip Hoodie   170.169057   3740.830943\n",
      "--------------------------\n",
      "Observed Values\n",
      "                                                   treatment  control\n",
      "purchase_Live Love Roller Derby Full Zip Hoodie            3        3\n",
      "unpurchase_Live Love Roller Derby Full Zip Hoodie       2105    73497\n",
      "==========================\n",
      "Product 5: Browning Mens Goose Down Jacket\n",
      "Chi-square: 17.78\n",
      "P-value: 0.0\n",
      "--------------------------\n",
      "Expected Values\n",
      "                                              treatment       control\n",
      "purchase_Browning Mens Goose Down Jacket    1243.830943  27343.169057\n",
      "unpurchase_Browning Mens Goose Down Jacket   170.169057   3740.830943\n",
      "--------------------------\n",
      "Observed Values\n",
      "                                            treatment  control\n",
      "purchase_Browning Mens Goose Down Jacket            2        2\n",
      "unpurchase_Browning Mens Goose Down Jacket       2106    73498\n",
      "==========================\n"
     ]
    }
   ],
   "source": [
    "print('[Chi-square Analysis Result Report]\\n------------------------------------')\n",
    "for i,product in enumerate(product_top5, start=1):\n",
    "\n",
    "    test = treatment[treatment.product_name==product].user_id.nunique()\n",
    "    ctrl = control[control.product_name==product].user_id.nunique()\n",
    "\n",
    "    ## Part1. Chi-square Test Report\n",
    "    purchase_product = [test, ctrl] # A와 B의 특정 product를 구매한 유저 수\n",
    "    unpurchase_product = [treatment.user_id.nunique() - test, \n",
    "                control.user_id.nunique() - ctrl]  # A와 B의 특정 product를 구매하지 않은 유저 수\n",
    "    \n",
    "    ## Part2. Contingency Table & Chi-squaure Model\n",
    "    ## 기초 테이블 형성\n",
    "    cont_table = pd.DataFrame([purchase_product, unpurchase_product], columns=['treatment', 'control'], index=[f'purchase_{product}', f'unpurchase_{product}'])\n",
    "\n",
    "    ## Part3. 카이제곱 독립성 검정 모델 선언\n",
    "    chi2, p_val, _, _ = chi2_contingency([purchase_product, unpurchase_product])\n",
    "\n",
    "    ## 기대값 표 형성\n",
    "    ex = pd.DataFrame(expected, columns = ['treatment', 'control'], index = [f'purchase_{product}', f'unpurchase_{product}'])\n",
    "\n",
    "    print(\n",
    "      'Product {}: {}'.format(i, product)\n",
    "    , 'Chi-square: {}'.format(round(chi2, 2))\n",
    "    , 'P-value: {}'.format(round(p_val, 2))\n",
    "    , '--------------------------'\n",
    "    , 'Expected Values'\n",
    "    , ex\n",
    "    , '--------------------------'\n",
    "    , 'Observed Values'\n",
    "    , cont_table\n",
    "    ,  '=========================='\n",
    "    , sep = '\\n'\n",
    "    )"
   ]
  },
  {
   "cell_type": "code",
   "execution_count": 416,
   "metadata": {},
   "outputs": [
    {
     "name": "stdout",
     "output_type": "stream",
     "text": [
      "[Chi-square Analysis Result Report]\n",
      "------------------------------------\n",
      "Product 1: Browning Mens Goose Down Jacket\n",
      "Chi-square: 1.5\n",
      "P-value: 0.22\n",
      "--------------------------\n",
      "Expected Values\n",
      "                        treatment       control\n",
      "purchase_Intimates    1243.830943  27343.169057\n",
      "unpurchase_Intimates   170.169057   3740.830943\n",
      "--------------------------\n",
      "Observed Values\n",
      "                      treatment  control\n",
      "purchase_Intimates          175     5558\n",
      "unpurchase_Intimates       1933    67942\n",
      "==========================\n",
      "Product 2: Browning Mens Goose Down Jacket\n",
      "Chi-square: 2.54\n",
      "P-value: 0.11\n",
      "--------------------------\n",
      "Expected Values\n",
      "                                            treatment       control\n",
      "purchase_Fashion Hoodies & Sweatshirts    1243.830943  27343.169057\n",
      "unpurchase_Fashion Hoodies & Sweatshirts   170.169057   3740.830943\n",
      "--------------------------\n",
      "Observed Values\n",
      "                                          treatment  control\n",
      "purchase_Fashion Hoodies & Sweatshirts          165     5078\n",
      "unpurchase_Fashion Hoodies & Sweatshirts       1943    68422\n",
      "==========================\n",
      "Product 3: Browning Mens Goose Down Jacket\n",
      "Chi-square: 0.25\n",
      "P-value: 0.62\n",
      "--------------------------\n",
      "Expected Values\n",
      "                    treatment       control\n",
      "purchase_Jeans    1243.830943  27343.169057\n",
      "unpurchase_Jeans   170.169057   3740.830943\n",
      "--------------------------\n",
      "Observed Values\n",
      "                  treatment  control\n",
      "purchase_Jeans          162     5419\n",
      "unpurchase_Jeans       1946    68081\n",
      "==========================\n",
      "Product 4: Browning Mens Goose Down Jacket\n",
      "Chi-square: 2.25\n",
      "P-value: 0.13\n",
      "--------------------------\n",
      "Expected Values\n",
      "                             treatment       control\n",
      "purchase_Sleep & Lounge    1243.830943  27343.169057\n",
      "unpurchase_Sleep & Lounge   170.169057   3740.830943\n",
      "--------------------------\n",
      "Observed Values\n",
      "                           treatment  control\n",
      "purchase_Sleep & Lounge          151     4653\n",
      "unpurchase_Sleep & Lounge       1957    68847\n",
      "==========================\n",
      "Product 5: Browning Mens Goose Down Jacket\n",
      "Chi-square: 0.29\n",
      "P-value: 0.59\n",
      "--------------------------\n",
      "Expected Values\n",
      "                          treatment       control\n",
      "purchase_Tops & Tees    1243.830943  27343.169057\n",
      "unpurchase_Tops & Tees   170.169057   3740.830943\n",
      "--------------------------\n",
      "Observed Values\n",
      "                        treatment  control\n",
      "purchase_Tops & Tees          152     5061\n",
      "unpurchase_Tops & Tees       1956    68439\n",
      "==========================\n"
     ]
    }
   ],
   "source": [
    "category_top5 = df[df.order_created_at >= '2024-01-11'].category.value_counts()[:5].index\n",
    "print('[Chi-square Analysis Result Report]\\n------------------------------------')\n",
    "for i, category in enumerate(category_top5, start=1):\n",
    "\n",
    "    test = treatment[treatment.category==category].user_id.nunique()\n",
    "    ctrl = control[control.category==category].user_id.nunique()\n",
    "\n",
    "    ## Part1. Chi-square Test Report\n",
    "    purchase_category = [test, ctrl] # A와 B의 특정 product를 구매한 유저 수\n",
    "    unpurchase_category = [treatment.user_id.nunique() - test, \n",
    "                control.user_id.nunique() - ctrl]  # A와 B의 특정 product를 구매하지 않은 유저 수\n",
    "    \n",
    "    ## Part2. Contingency Table & Chi-squaure Model\n",
    "    ## 기초 테이블 형성\n",
    "    cont_table = pd.DataFrame([purchase_category, unpurchase_category], columns=['treatment', 'control'], index=[f'purchase_{category}', f'unpurchase_{category}'])\n",
    "\n",
    "    ## Part3. 카이제곱 독립성 검정 모델 선언\n",
    "    chi2, p_val, _, _ = chi2_contingency([purchase_category, unpurchase_category])\n",
    "\n",
    "    ## 기대값 표 형성\n",
    "    ex = pd.DataFrame(expected, columns = ['treatment', 'control'], index = [f'purchase_{category}', f'unpurchase_{category}'])\n",
    "\n",
    "    print(\n",
    "      'Product {}: {}'.format(i, product)\n",
    "    , 'Chi-square: {}'.format(round(chi2, 2))\n",
    "    , 'P-value: {}'.format(round(p_val, 2))\n",
    "    , '--------------------------'\n",
    "    , 'Expected Values'\n",
    "    , ex\n",
    "    , '--------------------------'\n",
    "    , 'Observed Values'\n",
    "    , cont_table\n",
    "    ,  '=========================='\n",
    "    , sep = '\\n'\n",
    "    )"
   ]
  },
  {
   "cell_type": "code",
   "execution_count": null,
   "metadata": {},
   "outputs": [],
   "source": []
  },
  {
   "cell_type": "code",
   "execution_count": null,
   "metadata": {},
   "outputs": [],
   "source": []
  },
  {
   "cell_type": "code",
   "execution_count": null,
   "metadata": {},
   "outputs": [],
   "source": []
  },
  {
   "cell_type": "code",
   "execution_count": null,
   "metadata": {},
   "outputs": [],
   "source": []
  },
  {
   "cell_type": "code",
   "execution_count": null,
   "metadata": {},
   "outputs": [],
   "source": []
  },
  {
   "cell_type": "code",
   "execution_count": null,
   "metadata": {},
   "outputs": [],
   "source": []
  },
  {
   "cell_type": "code",
   "execution_count": null,
   "metadata": {},
   "outputs": [],
   "source": []
  },
  {
   "cell_type": "code",
   "execution_count": null,
   "metadata": {},
   "outputs": [],
   "source": []
  },
  {
   "cell_type": "code",
   "execution_count": null,
   "metadata": {},
   "outputs": [],
   "source": []
  },
  {
   "cell_type": "code",
   "execution_count": null,
   "metadata": {},
   "outputs": [],
   "source": []
  },
  {
   "cell_type": "code",
   "execution_count": null,
   "metadata": {},
   "outputs": [],
   "source": []
  },
  {
   "cell_type": "code",
   "execution_count": null,
   "metadata": {},
   "outputs": [],
   "source": []
  },
  {
   "cell_type": "code",
   "execution_count": null,
   "metadata": {},
   "outputs": [],
   "source": []
  }
 ],
 "metadata": {
  "kernelspec": {
   "display_name": "Python 3",
   "language": "python",
   "name": "python3"
  },
  "language_info": {
   "codemirror_mode": {
    "name": "ipython",
    "version": 3
   },
   "file_extension": ".py",
   "mimetype": "text/x-python",
   "name": "python",
   "nbconvert_exporter": "python",
   "pygments_lexer": "ipython3",
   "version": "3.10.1"
  }
 },
 "nbformat": 4,
 "nbformat_minor": 2
}
