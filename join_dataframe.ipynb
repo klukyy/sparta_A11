{
 "cells": [
  {
   "cell_type": "code",
   "execution_count": 1,
   "metadata": {},
   "outputs": [],
   "source": [
    "import pandas as pd\n",
    "import numpy as np\n",
    "\n",
    "import matplotlib.pyplot as plt\n",
    "import seaborn as sns\n",
    "#import plotly.express as px\n",
    "#import plotly.graph_objects as go\n",
    "\n",
    "folder_name = './Looker Ecommerce BigQuery Dataset/'"
   ]
  },
  {
   "cell_type": "code",
   "execution_count": 2,
   "metadata": {},
   "outputs": [],
   "source": [
    "orders = pd.read_csv(folder_name + 'orders.csv')\n",
    "order_items = pd.read_csv(folder_name + 'order_items.csv')\n",
    "products = pd.read_csv(folder_name + 'products.csv')\n",
    "users = pd.read_csv(folder_name + 'users.csv')"
   ]
  },
  {
   "cell_type": "code",
   "execution_count": 16,
   "metadata": {},
   "outputs": [],
   "source": [
    "dist_center = pd.read_csv(folder_name + 'distribution_centers.csv')\n",
    "#inv_items = pd.read_csv(folder_name + 'inventory_items.csv')\n",
    "#events = pd.read_csv(folder_name + 'events.csv')"
   ]
  },
  {
   "cell_type": "markdown",
   "metadata": {},
   "source": [
    "## 데이터 파악"
   ]
  },
  {
   "cell_type": "code",
   "execution_count": 3,
   "metadata": {},
   "outputs": [],
   "source": [
    "orders = orders.assign(created_at=pd.to_datetime(orders['created_at'], format='ISO8601'))"
   ]
  },
  {
   "cell_type": "code",
   "execution_count": 4,
   "metadata": {},
   "outputs": [
    {
     "data": {
      "text/html": [
       "<div>\n",
       "<style scoped>\n",
       "    .dataframe tbody tr th:only-of-type {\n",
       "        vertical-align: middle;\n",
       "    }\n",
       "\n",
       "    .dataframe tbody tr th {\n",
       "        vertical-align: top;\n",
       "    }\n",
       "\n",
       "    .dataframe thead th {\n",
       "        text-align: right;\n",
       "    }\n",
       "</style>\n",
       "<table border=\"1\" class=\"dataframe\">\n",
       "  <thead>\n",
       "    <tr style=\"text-align: right;\">\n",
       "      <th></th>\n",
       "      <th>order_id</th>\n",
       "      <th>user_id</th>\n",
       "      <th>status</th>\n",
       "      <th>gender</th>\n",
       "      <th>created_at</th>\n",
       "      <th>returned_at</th>\n",
       "      <th>shipped_at</th>\n",
       "      <th>delivered_at</th>\n",
       "      <th>num_of_item</th>\n",
       "    </tr>\n",
       "  </thead>\n",
       "  <tbody>\n",
       "    <tr>\n",
       "      <th>0</th>\n",
       "      <td>8</td>\n",
       "      <td>5</td>\n",
       "      <td>Cancelled</td>\n",
       "      <td>F</td>\n",
       "      <td>2022-10-20 10:03:00+00:00</td>\n",
       "      <td>NaN</td>\n",
       "      <td>NaN</td>\n",
       "      <td>NaN</td>\n",
       "      <td>3</td>\n",
       "    </tr>\n",
       "    <tr>\n",
       "      <th>1</th>\n",
       "      <td>60</td>\n",
       "      <td>44</td>\n",
       "      <td>Cancelled</td>\n",
       "      <td>F</td>\n",
       "      <td>2023-01-20 02:12:00+00:00</td>\n",
       "      <td>NaN</td>\n",
       "      <td>NaN</td>\n",
       "      <td>NaN</td>\n",
       "      <td>1</td>\n",
       "    </tr>\n",
       "    <tr>\n",
       "      <th>2</th>\n",
       "      <td>64</td>\n",
       "      <td>46</td>\n",
       "      <td>Cancelled</td>\n",
       "      <td>F</td>\n",
       "      <td>2021-12-06 09:11:00+00:00</td>\n",
       "      <td>NaN</td>\n",
       "      <td>NaN</td>\n",
       "      <td>NaN</td>\n",
       "      <td>1</td>\n",
       "    </tr>\n",
       "    <tr>\n",
       "      <th>3</th>\n",
       "      <td>89</td>\n",
       "      <td>65</td>\n",
       "      <td>Cancelled</td>\n",
       "      <td>F</td>\n",
       "      <td>2020-08-13 09:58:00+00:00</td>\n",
       "      <td>NaN</td>\n",
       "      <td>NaN</td>\n",
       "      <td>NaN</td>\n",
       "      <td>1</td>\n",
       "    </tr>\n",
       "    <tr>\n",
       "      <th>4</th>\n",
       "      <td>102</td>\n",
       "      <td>76</td>\n",
       "      <td>Cancelled</td>\n",
       "      <td>F</td>\n",
       "      <td>2023-01-17 08:17:00+00:00</td>\n",
       "      <td>NaN</td>\n",
       "      <td>NaN</td>\n",
       "      <td>NaN</td>\n",
       "      <td>2</td>\n",
       "    </tr>\n",
       "    <tr>\n",
       "      <th>...</th>\n",
       "      <td>...</td>\n",
       "      <td>...</td>\n",
       "      <td>...</td>\n",
       "      <td>...</td>\n",
       "      <td>...</td>\n",
       "      <td>...</td>\n",
       "      <td>...</td>\n",
       "      <td>...</td>\n",
       "      <td>...</td>\n",
       "    </tr>\n",
       "    <tr>\n",
       "      <th>125221</th>\n",
       "      <td>125196</td>\n",
       "      <td>99972</td>\n",
       "      <td>Shipped</td>\n",
       "      <td>M</td>\n",
       "      <td>2022-06-25 11:56:00+00:00</td>\n",
       "      <td>NaN</td>\n",
       "      <td>2022-06-28 08:24:00+00:00</td>\n",
       "      <td>NaN</td>\n",
       "      <td>1</td>\n",
       "    </tr>\n",
       "    <tr>\n",
       "      <th>125222</th>\n",
       "      <td>125199</td>\n",
       "      <td>99975</td>\n",
       "      <td>Shipped</td>\n",
       "      <td>M</td>\n",
       "      <td>2022-07-20 02:19:00+00:00</td>\n",
       "      <td>NaN</td>\n",
       "      <td>2022-07-22 11:08:00+00:00</td>\n",
       "      <td>NaN</td>\n",
       "      <td>4</td>\n",
       "    </tr>\n",
       "    <tr>\n",
       "      <th>125223</th>\n",
       "      <td>125208</td>\n",
       "      <td>99983</td>\n",
       "      <td>Shipped</td>\n",
       "      <td>M</td>\n",
       "      <td>2022-03-14 15:06:00+00:00</td>\n",
       "      <td>NaN</td>\n",
       "      <td>2022-03-17 05:15:00+00:00</td>\n",
       "      <td>NaN</td>\n",
       "      <td>1</td>\n",
       "    </tr>\n",
       "    <tr>\n",
       "      <th>125224</th>\n",
       "      <td>125210</td>\n",
       "      <td>99983</td>\n",
       "      <td>Shipped</td>\n",
       "      <td>M</td>\n",
       "      <td>2023-03-01 15:06:00+00:00</td>\n",
       "      <td>NaN</td>\n",
       "      <td>2023-03-02 10:50:00+00:00</td>\n",
       "      <td>NaN</td>\n",
       "      <td>2</td>\n",
       "    </tr>\n",
       "    <tr>\n",
       "      <th>125225</th>\n",
       "      <td>125224</td>\n",
       "      <td>99999</td>\n",
       "      <td>Shipped</td>\n",
       "      <td>M</td>\n",
       "      <td>2023-12-22 11:29:00+00:00</td>\n",
       "      <td>NaN</td>\n",
       "      <td>2023-12-24 00:44:00+00:00</td>\n",
       "      <td>NaN</td>\n",
       "      <td>2</td>\n",
       "    </tr>\n",
       "  </tbody>\n",
       "</table>\n",
       "<p>125226 rows × 9 columns</p>\n",
       "</div>"
      ],
      "text/plain": [
       "        order_id  user_id     status gender                created_at  \\\n",
       "0              8        5  Cancelled      F 2022-10-20 10:03:00+00:00   \n",
       "1             60       44  Cancelled      F 2023-01-20 02:12:00+00:00   \n",
       "2             64       46  Cancelled      F 2021-12-06 09:11:00+00:00   \n",
       "3             89       65  Cancelled      F 2020-08-13 09:58:00+00:00   \n",
       "4            102       76  Cancelled      F 2023-01-17 08:17:00+00:00   \n",
       "...          ...      ...        ...    ...                       ...   \n",
       "125221    125196    99972    Shipped      M 2022-06-25 11:56:00+00:00   \n",
       "125222    125199    99975    Shipped      M 2022-07-20 02:19:00+00:00   \n",
       "125223    125208    99983    Shipped      M 2022-03-14 15:06:00+00:00   \n",
       "125224    125210    99983    Shipped      M 2023-03-01 15:06:00+00:00   \n",
       "125225    125224    99999    Shipped      M 2023-12-22 11:29:00+00:00   \n",
       "\n",
       "       returned_at                 shipped_at delivered_at  num_of_item  \n",
       "0              NaN                        NaN          NaN            3  \n",
       "1              NaN                        NaN          NaN            1  \n",
       "2              NaN                        NaN          NaN            1  \n",
       "3              NaN                        NaN          NaN            1  \n",
       "4              NaN                        NaN          NaN            2  \n",
       "...            ...                        ...          ...          ...  \n",
       "125221         NaN  2022-06-28 08:24:00+00:00          NaN            1  \n",
       "125222         NaN  2022-07-22 11:08:00+00:00          NaN            4  \n",
       "125223         NaN  2022-03-17 05:15:00+00:00          NaN            1  \n",
       "125224         NaN  2023-03-02 10:50:00+00:00          NaN            2  \n",
       "125225         NaN  2023-12-24 00:44:00+00:00          NaN            2  \n",
       "\n",
       "[125226 rows x 9 columns]"
      ]
     },
     "execution_count": 4,
     "metadata": {},
     "output_type": "execute_result"
    }
   ],
   "source": [
    "orders"
   ]
  },
  {
   "cell_type": "code",
   "execution_count": 5,
   "metadata": {},
   "outputs": [
    {
     "data": {
      "text/plain": [
       "count                                 125226\n",
       "mean     2022-10-25 00:25:31.427571712+00:00\n",
       "min                2019-01-06 05:30:00+00:00\n",
       "25%                2022-02-26 07:50:00+00:00\n",
       "50%                2023-02-20 08:08:00+00:00\n",
       "75%                2023-09-26 09:51:30+00:00\n",
       "max         2024-01-17 19:46:14.316147+00:00\n",
       "Name: created_at, dtype: object"
      ]
     },
     "execution_count": 5,
     "metadata": {},
     "output_type": "execute_result"
    }
   ],
   "source": [
    "orders['created_at'].describe()\n",
    "# 19년도 1월 6일 ~ 24년도 1월 17일"
   ]
  },
  {
   "cell_type": "code",
   "execution_count": 6,
   "metadata": {},
   "outputs": [
    {
     "data": {
      "text/plain": [
       "125226"
      ]
     },
     "execution_count": 6,
     "metadata": {},
     "output_type": "execute_result"
    }
   ],
   "source": [
    "orders['order_id'].nunique()"
   ]
  },
  {
   "cell_type": "code",
   "execution_count": 7,
   "metadata": {},
   "outputs": [],
   "source": [
    "ret = orders['user_id'].value_counts().to_frame()"
   ]
  },
  {
   "cell_type": "code",
   "execution_count": 8,
   "metadata": {},
   "outputs": [
    {
     "data": {
      "text/plain": [
       "count\n",
       "1    49832\n",
       "2    20231\n",
       "3     4992\n",
       "4     4989\n",
       "Name: count, dtype: int64"
      ]
     },
     "execution_count": 8,
     "metadata": {},
     "output_type": "execute_result"
    }
   ],
   "source": [
    "ret['count'].value_counts()\n",
    "# 재구매는 최대 4번까지 존재\n",
    "# 첫구매는 49,832명\n",
    "# 재구매는 30,212명"
   ]
  },
  {
   "cell_type": "code",
   "execution_count": 9,
   "metadata": {},
   "outputs": [
    {
     "data": {
      "text/plain": [
       "80044"
      ]
     },
     "execution_count": 9,
     "metadata": {},
     "output_type": "execute_result"
    }
   ],
   "source": [
    "orders['user_id'].nunique()\n",
    "# 주문한 유저 8만명"
   ]
  },
  {
   "cell_type": "code",
   "execution_count": 10,
   "metadata": {},
   "outputs": [
    {
     "name": "stdout",
     "output_type": "stream",
     "text": [
      "<class 'pandas.core.frame.DataFrame'>\n",
      "RangeIndex: 100000 entries, 0 to 99999\n",
      "Data columns (total 15 columns):\n",
      " #   Column          Non-Null Count   Dtype  \n",
      "---  ------          --------------   -----  \n",
      " 0   id              100000 non-null  int64  \n",
      " 1   first_name      100000 non-null  object \n",
      " 2   last_name       100000 non-null  object \n",
      " 3   email           100000 non-null  object \n",
      " 4   age             100000 non-null  int64  \n",
      " 5   gender          100000 non-null  object \n",
      " 6   state           100000 non-null  object \n",
      " 7   street_address  100000 non-null  object \n",
      " 8   postal_code     100000 non-null  object \n",
      " 9   city            99042 non-null   object \n",
      " 10  country         100000 non-null  object \n",
      " 11  latitude        100000 non-null  float64\n",
      " 12  longitude       100000 non-null  float64\n",
      " 13  traffic_source  100000 non-null  object \n",
      " 14  created_at      100000 non-null  object \n",
      "dtypes: float64(2), int64(2), object(11)\n",
      "memory usage: 11.4+ MB\n"
     ]
    }
   ],
   "source": [
    "# 전체 유저 10만명\n",
    "users.info()"
   ]
  },
  {
   "cell_type": "code",
   "execution_count": 11,
   "metadata": {},
   "outputs": [
    {
     "data": {
      "text/plain": [
       "100000"
      ]
     },
     "execution_count": 11,
     "metadata": {},
     "output_type": "execute_result"
    }
   ],
   "source": [
    "users['id'].nunique()\n",
    "# 동명이인 존재\n",
    "#df = df.assign(name=df['first_name'] + ' ' + df['last_name'])"
   ]
  },
  {
   "cell_type": "code",
   "execution_count": 12,
   "metadata": {},
   "outputs": [
    {
     "data": {
      "text/plain": [
       "29120"
      ]
     },
     "execution_count": 12,
     "metadata": {},
     "output_type": "execute_result"
    }
   ],
   "source": [
    "products['id'].nunique()\n",
    "# 제품 수 29,120개"
   ]
  },
  {
   "cell_type": "code",
   "execution_count": 13,
   "metadata": {},
   "outputs": [
    {
     "data": {
      "text/plain": [
       "count    29120.000000\n",
       "mean        28.481774\n",
       "std         30.624681\n",
       "min          0.008300\n",
       "25%         11.275613\n",
       "50%         19.675081\n",
       "75%         34.440000\n",
       "max        557.151002\n",
       "Name: cost, dtype: float64"
      ]
     },
     "execution_count": 13,
     "metadata": {},
     "output_type": "execute_result"
    }
   ],
   "source": [
    "products['cost'].describe()"
   ]
  },
  {
   "cell_type": "code",
   "execution_count": 22,
   "metadata": {},
   "outputs": [
    {
     "data": {
      "text/plain": [
       "26"
      ]
     },
     "execution_count": 22,
     "metadata": {},
     "output_type": "execute_result"
    }
   ],
   "source": [
    "# 카테고리 26개\n",
    "products['category'].nunique()"
   ]
  },
  {
   "cell_type": "code",
   "execution_count": 14,
   "metadata": {},
   "outputs": [
    {
     "data": {
      "text/plain": [
       "category\n",
       "Intimates                        2363\n",
       "Jeans                            1999\n",
       "Tops & Tees                      1868\n",
       "Fashion Hoodies & Sweatshirts    1866\n",
       "Swim                             1798\n",
       "Sleep & Lounge                   1771\n",
       "Shorts                           1765\n",
       "Sweaters                         1737\n",
       "Accessories                      1559\n",
       "Active                           1432\n",
       "Outerwear & Coats                1420\n",
       "Underwear                        1088\n",
       "Pants                            1041\n",
       "Dresses                           955\n",
       "Socks                             905\n",
       "Maternity                         898\n",
       "Plus                              758\n",
       "Suits & Sport Coats               739\n",
       "Socks & Hosiery                   666\n",
       "Pants & Capris                    613\n",
       "Leggings                          564\n",
       "Blazers & Jackets                 561\n",
       "Skirts                            367\n",
       "Suits                             188\n",
       "Jumpsuits & Rompers               162\n",
       "Clothing Sets                      37\n",
       "Name: count, dtype: int64"
      ]
     },
     "execution_count": 14,
     "metadata": {},
     "output_type": "execute_result"
    }
   ],
   "source": [
    "products['category'].value_counts()"
   ]
  },
  {
   "cell_type": "code",
   "execution_count": 17,
   "metadata": {},
   "outputs": [
    {
     "name": "stdout",
     "output_type": "stream",
     "text": [
      "<class 'pandas.core.frame.DataFrame'>\n",
      "RangeIndex: 2431963 entries, 0 to 2431962\n",
      "Data columns (total 13 columns):\n",
      " #   Column           Dtype  \n",
      "---  ------           -----  \n",
      " 0   id               int64  \n",
      " 1   user_id          float64\n",
      " 2   sequence_number  int64  \n",
      " 3   session_id       object \n",
      " 4   created_at       object \n",
      " 5   ip_address       object \n",
      " 6   city             object \n",
      " 7   state            object \n",
      " 8   postal_code      object \n",
      " 9   browser          object \n",
      " 10  traffic_source   object \n",
      " 11  uri              object \n",
      " 12  event_type       object \n",
      "dtypes: float64(1), int64(2), object(10)\n",
      "memory usage: 241.2+ MB\n"
     ]
    }
   ],
   "source": [
    "# 온라인 마케팅 구매 전환율 파악 가능할듯\n",
    "#events.info()"
   ]
  },
  {
   "cell_type": "code",
   "execution_count": 18,
   "metadata": {},
   "outputs": [
    {
     "data": {
      "text/html": [
       "<div>\n",
       "<style scoped>\n",
       "    .dataframe tbody tr th:only-of-type {\n",
       "        vertical-align: middle;\n",
       "    }\n",
       "\n",
       "    .dataframe tbody tr th {\n",
       "        vertical-align: top;\n",
       "    }\n",
       "\n",
       "    .dataframe thead th {\n",
       "        text-align: right;\n",
       "    }\n",
       "</style>\n",
       "<table border=\"1\" class=\"dataframe\">\n",
       "  <thead>\n",
       "    <tr style=\"text-align: right;\">\n",
       "      <th></th>\n",
       "      <th>id</th>\n",
       "      <th>user_id</th>\n",
       "      <th>sequence_number</th>\n",
       "      <th>session_id</th>\n",
       "      <th>created_at</th>\n",
       "      <th>ip_address</th>\n",
       "      <th>city</th>\n",
       "      <th>state</th>\n",
       "      <th>postal_code</th>\n",
       "      <th>browser</th>\n",
       "      <th>traffic_source</th>\n",
       "      <th>uri</th>\n",
       "      <th>event_type</th>\n",
       "    </tr>\n",
       "  </thead>\n",
       "  <tbody>\n",
       "    <tr>\n",
       "      <th>count</th>\n",
       "      <td>2.431963e+06</td>\n",
       "      <td>1.306292e+06</td>\n",
       "      <td>2.431963e+06</td>\n",
       "      <td>2431963</td>\n",
       "      <td>2431963</td>\n",
       "      <td>2431963</td>\n",
       "      <td>2408883</td>\n",
       "      <td>2431963</td>\n",
       "      <td>2431963</td>\n",
       "      <td>2431963</td>\n",
       "      <td>2431963</td>\n",
       "      <td>2431963</td>\n",
       "      <td>2431963</td>\n",
       "    </tr>\n",
       "    <tr>\n",
       "      <th>unique</th>\n",
       "      <td>NaN</td>\n",
       "      <td>NaN</td>\n",
       "      <td>NaN</td>\n",
       "      <td>681759</td>\n",
       "      <td>2143390</td>\n",
       "      <td>681683</td>\n",
       "      <td>8775</td>\n",
       "      <td>231</td>\n",
       "      <td>17324</td>\n",
       "      <td>5</td>\n",
       "      <td>5</td>\n",
       "      <td>35530</td>\n",
       "      <td>6</td>\n",
       "    </tr>\n",
       "    <tr>\n",
       "      <th>top</th>\n",
       "      <td>NaN</td>\n",
       "      <td>NaN</td>\n",
       "      <td>NaN</td>\n",
       "      <td>b174d8d5-a07f-44c1-a1c2-226f495b4cf4</td>\n",
       "      <td>2020-10-21 16:07:00+00:00</td>\n",
       "      <td>196.46.153.171</td>\n",
       "      <td>Shanghai</td>\n",
       "      <td>Guangdong</td>\n",
       "      <td>02675-031</td>\n",
       "      <td>Chrome</td>\n",
       "      <td>Email</td>\n",
       "      <td>/cart</td>\n",
       "      <td>product</td>\n",
       "    </tr>\n",
       "    <tr>\n",
       "      <th>freq</th>\n",
       "      <td>NaN</td>\n",
       "      <td>NaN</td>\n",
       "      <td>NaN</td>\n",
       "      <td>13</td>\n",
       "      <td>8</td>\n",
       "      <td>17</td>\n",
       "      <td>60561</td>\n",
       "      <td>129796</td>\n",
       "      <td>10147</td>\n",
       "      <td>1218687</td>\n",
       "      <td>1091988</td>\n",
       "      <td>595994</td>\n",
       "      <td>845607</td>\n",
       "    </tr>\n",
       "    <tr>\n",
       "      <th>mean</th>\n",
       "      <td>1.215982e+06</td>\n",
       "      <td>4.996636e+04</td>\n",
       "      <td>3.316146e+00</td>\n",
       "      <td>NaN</td>\n",
       "      <td>NaN</td>\n",
       "      <td>NaN</td>\n",
       "      <td>NaN</td>\n",
       "      <td>NaN</td>\n",
       "      <td>NaN</td>\n",
       "      <td>NaN</td>\n",
       "      <td>NaN</td>\n",
       "      <td>NaN</td>\n",
       "      <td>NaN</td>\n",
       "    </tr>\n",
       "    <tr>\n",
       "      <th>std</th>\n",
       "      <td>7.020474e+05</td>\n",
       "      <td>2.881711e+04</td>\n",
       "      <td>2.676365e+00</td>\n",
       "      <td>NaN</td>\n",
       "      <td>NaN</td>\n",
       "      <td>NaN</td>\n",
       "      <td>NaN</td>\n",
       "      <td>NaN</td>\n",
       "      <td>NaN</td>\n",
       "      <td>NaN</td>\n",
       "      <td>NaN</td>\n",
       "      <td>NaN</td>\n",
       "      <td>NaN</td>\n",
       "    </tr>\n",
       "    <tr>\n",
       "      <th>min</th>\n",
       "      <td>1.000000e+00</td>\n",
       "      <td>1.000000e+00</td>\n",
       "      <td>1.000000e+00</td>\n",
       "      <td>NaN</td>\n",
       "      <td>NaN</td>\n",
       "      <td>NaN</td>\n",
       "      <td>NaN</td>\n",
       "      <td>NaN</td>\n",
       "      <td>NaN</td>\n",
       "      <td>NaN</td>\n",
       "      <td>NaN</td>\n",
       "      <td>NaN</td>\n",
       "      <td>NaN</td>\n",
       "    </tr>\n",
       "    <tr>\n",
       "      <th>25%</th>\n",
       "      <td>6.079915e+05</td>\n",
       "      <td>2.500500e+04</td>\n",
       "      <td>1.000000e+00</td>\n",
       "      <td>NaN</td>\n",
       "      <td>NaN</td>\n",
       "      <td>NaN</td>\n",
       "      <td>NaN</td>\n",
       "      <td>NaN</td>\n",
       "      <td>NaN</td>\n",
       "      <td>NaN</td>\n",
       "      <td>NaN</td>\n",
       "      <td>NaN</td>\n",
       "      <td>NaN</td>\n",
       "    </tr>\n",
       "    <tr>\n",
       "      <th>50%</th>\n",
       "      <td>1.215982e+06</td>\n",
       "      <td>4.992700e+04</td>\n",
       "      <td>2.000000e+00</td>\n",
       "      <td>NaN</td>\n",
       "      <td>NaN</td>\n",
       "      <td>NaN</td>\n",
       "      <td>NaN</td>\n",
       "      <td>NaN</td>\n",
       "      <td>NaN</td>\n",
       "      <td>NaN</td>\n",
       "      <td>NaN</td>\n",
       "      <td>NaN</td>\n",
       "      <td>NaN</td>\n",
       "    </tr>\n",
       "    <tr>\n",
       "      <th>75%</th>\n",
       "      <td>1.823972e+06</td>\n",
       "      <td>7.483900e+04</td>\n",
       "      <td>4.000000e+00</td>\n",
       "      <td>NaN</td>\n",
       "      <td>NaN</td>\n",
       "      <td>NaN</td>\n",
       "      <td>NaN</td>\n",
       "      <td>NaN</td>\n",
       "      <td>NaN</td>\n",
       "      <td>NaN</td>\n",
       "      <td>NaN</td>\n",
       "      <td>NaN</td>\n",
       "      <td>NaN</td>\n",
       "    </tr>\n",
       "    <tr>\n",
       "      <th>max</th>\n",
       "      <td>2.431963e+06</td>\n",
       "      <td>1.000000e+05</td>\n",
       "      <td>1.300000e+01</td>\n",
       "      <td>NaN</td>\n",
       "      <td>NaN</td>\n",
       "      <td>NaN</td>\n",
       "      <td>NaN</td>\n",
       "      <td>NaN</td>\n",
       "      <td>NaN</td>\n",
       "      <td>NaN</td>\n",
       "      <td>NaN</td>\n",
       "      <td>NaN</td>\n",
       "      <td>NaN</td>\n",
       "    </tr>\n",
       "  </tbody>\n",
       "</table>\n",
       "</div>"
      ],
      "text/plain": [
       "                  id       user_id  sequence_number  \\\n",
       "count   2.431963e+06  1.306292e+06     2.431963e+06   \n",
       "unique           NaN           NaN              NaN   \n",
       "top              NaN           NaN              NaN   \n",
       "freq             NaN           NaN              NaN   \n",
       "mean    1.215982e+06  4.996636e+04     3.316146e+00   \n",
       "std     7.020474e+05  2.881711e+04     2.676365e+00   \n",
       "min     1.000000e+00  1.000000e+00     1.000000e+00   \n",
       "25%     6.079915e+05  2.500500e+04     1.000000e+00   \n",
       "50%     1.215982e+06  4.992700e+04     2.000000e+00   \n",
       "75%     1.823972e+06  7.483900e+04     4.000000e+00   \n",
       "max     2.431963e+06  1.000000e+05     1.300000e+01   \n",
       "\n",
       "                                  session_id                 created_at  \\\n",
       "count                                2431963                    2431963   \n",
       "unique                                681759                    2143390   \n",
       "top     b174d8d5-a07f-44c1-a1c2-226f495b4cf4  2020-10-21 16:07:00+00:00   \n",
       "freq                                      13                          8   \n",
       "mean                                     NaN                        NaN   \n",
       "std                                      NaN                        NaN   \n",
       "min                                      NaN                        NaN   \n",
       "25%                                      NaN                        NaN   \n",
       "50%                                      NaN                        NaN   \n",
       "75%                                      NaN                        NaN   \n",
       "max                                      NaN                        NaN   \n",
       "\n",
       "            ip_address      city      state postal_code  browser  \\\n",
       "count          2431963   2408883    2431963     2431963  2431963   \n",
       "unique          681683      8775        231       17324        5   \n",
       "top     196.46.153.171  Shanghai  Guangdong   02675-031   Chrome   \n",
       "freq                17     60561     129796       10147  1218687   \n",
       "mean               NaN       NaN        NaN         NaN      NaN   \n",
       "std                NaN       NaN        NaN         NaN      NaN   \n",
       "min                NaN       NaN        NaN         NaN      NaN   \n",
       "25%                NaN       NaN        NaN         NaN      NaN   \n",
       "50%                NaN       NaN        NaN         NaN      NaN   \n",
       "75%                NaN       NaN        NaN         NaN      NaN   \n",
       "max                NaN       NaN        NaN         NaN      NaN   \n",
       "\n",
       "       traffic_source      uri event_type  \n",
       "count         2431963  2431963    2431963  \n",
       "unique              5    35530          6  \n",
       "top             Email    /cart    product  \n",
       "freq          1091988   595994     845607  \n",
       "mean              NaN      NaN        NaN  \n",
       "std               NaN      NaN        NaN  \n",
       "min               NaN      NaN        NaN  \n",
       "25%               NaN      NaN        NaN  \n",
       "50%               NaN      NaN        NaN  \n",
       "75%               NaN      NaN        NaN  \n",
       "max               NaN      NaN        NaN  "
      ]
     },
     "execution_count": 18,
     "metadata": {},
     "output_type": "execute_result"
    }
   ],
   "source": [
    "#events.describe(include='all')"
   ]
  },
  {
   "cell_type": "code",
   "execution_count": 19,
   "metadata": {},
   "outputs": [
    {
     "data": {
      "text/plain": [
       "traffic_source\n",
       "Email       1091988\n",
       "Adwords      731144\n",
       "Facebook     243834\n",
       "YouTube      242938\n",
       "Organic      122059\n",
       "Name: count, dtype: int64"
      ]
     },
     "execution_count": 19,
     "metadata": {},
     "output_type": "execute_result"
    }
   ],
   "source": [
    "#events['traffic_source'].value_counts()"
   ]
  },
  {
   "cell_type": "code",
   "execution_count": 20,
   "metadata": {},
   "outputs": [
    {
     "data": {
      "text/html": [
       "<div>\n",
       "<style scoped>\n",
       "    .dataframe tbody tr th:only-of-type {\n",
       "        vertical-align: middle;\n",
       "    }\n",
       "\n",
       "    .dataframe tbody tr th {\n",
       "        vertical-align: top;\n",
       "    }\n",
       "\n",
       "    .dataframe thead th {\n",
       "        text-align: right;\n",
       "    }\n",
       "</style>\n",
       "<table border=\"1\" class=\"dataframe\">\n",
       "  <thead>\n",
       "    <tr style=\"text-align: right;\">\n",
       "      <th></th>\n",
       "      <th>id</th>\n",
       "      <th>name</th>\n",
       "      <th>latitude</th>\n",
       "      <th>longitude</th>\n",
       "    </tr>\n",
       "  </thead>\n",
       "  <tbody>\n",
       "    <tr>\n",
       "      <th>0</th>\n",
       "      <td>1</td>\n",
       "      <td>Memphis TN</td>\n",
       "      <td>35.1174</td>\n",
       "      <td>-89.9711</td>\n",
       "    </tr>\n",
       "    <tr>\n",
       "      <th>1</th>\n",
       "      <td>2</td>\n",
       "      <td>Chicago IL</td>\n",
       "      <td>41.8369</td>\n",
       "      <td>-87.6847</td>\n",
       "    </tr>\n",
       "    <tr>\n",
       "      <th>2</th>\n",
       "      <td>3</td>\n",
       "      <td>Houston TX</td>\n",
       "      <td>29.7604</td>\n",
       "      <td>-95.3698</td>\n",
       "    </tr>\n",
       "    <tr>\n",
       "      <th>3</th>\n",
       "      <td>4</td>\n",
       "      <td>Los Angeles CA</td>\n",
       "      <td>34.0500</td>\n",
       "      <td>-118.2500</td>\n",
       "    </tr>\n",
       "    <tr>\n",
       "      <th>4</th>\n",
       "      <td>5</td>\n",
       "      <td>New Orleans LA</td>\n",
       "      <td>29.9500</td>\n",
       "      <td>-90.0667</td>\n",
       "    </tr>\n",
       "    <tr>\n",
       "      <th>5</th>\n",
       "      <td>6</td>\n",
       "      <td>Port Authority of New York/New Jersey NY/NJ</td>\n",
       "      <td>40.6340</td>\n",
       "      <td>-73.7834</td>\n",
       "    </tr>\n",
       "    <tr>\n",
       "      <th>6</th>\n",
       "      <td>7</td>\n",
       "      <td>Philadelphia PA</td>\n",
       "      <td>39.9500</td>\n",
       "      <td>-75.1667</td>\n",
       "    </tr>\n",
       "    <tr>\n",
       "      <th>7</th>\n",
       "      <td>8</td>\n",
       "      <td>Mobile AL</td>\n",
       "      <td>30.6944</td>\n",
       "      <td>-88.0431</td>\n",
       "    </tr>\n",
       "    <tr>\n",
       "      <th>8</th>\n",
       "      <td>9</td>\n",
       "      <td>Charleston SC</td>\n",
       "      <td>32.7833</td>\n",
       "      <td>-79.9333</td>\n",
       "    </tr>\n",
       "    <tr>\n",
       "      <th>9</th>\n",
       "      <td>10</td>\n",
       "      <td>Savannah GA</td>\n",
       "      <td>32.0167</td>\n",
       "      <td>-81.1167</td>\n",
       "    </tr>\n",
       "  </tbody>\n",
       "</table>\n",
       "</div>"
      ],
      "text/plain": [
       "   id                                         name  latitude  longitude\n",
       "0   1                                   Memphis TN   35.1174   -89.9711\n",
       "1   2                                   Chicago IL   41.8369   -87.6847\n",
       "2   3                                   Houston TX   29.7604   -95.3698\n",
       "3   4                               Los Angeles CA   34.0500  -118.2500\n",
       "4   5                               New Orleans LA   29.9500   -90.0667\n",
       "5   6  Port Authority of New York/New Jersey NY/NJ   40.6340   -73.7834\n",
       "6   7                              Philadelphia PA   39.9500   -75.1667\n",
       "7   8                                    Mobile AL   30.6944   -88.0431\n",
       "8   9                                Charleston SC   32.7833   -79.9333\n",
       "9  10                                  Savannah GA   32.0167   -81.1167"
      ]
     },
     "execution_count": 20,
     "metadata": {},
     "output_type": "execute_result"
    }
   ],
   "source": [
    "# 창고 주소\n",
    "dist_center"
   ]
  },
  {
   "cell_type": "code",
   "execution_count": 21,
   "metadata": {},
   "outputs": [
    {
     "name": "stdout",
     "output_type": "stream",
     "text": [
      "<class 'pandas.core.frame.DataFrame'>\n",
      "RangeIndex: 490705 entries, 0 to 490704\n",
      "Data columns (total 12 columns):\n",
      " #   Column                          Non-Null Count   Dtype  \n",
      "---  ------                          --------------   -----  \n",
      " 0   id                              490705 non-null  int64  \n",
      " 1   product_id                      490705 non-null  int64  \n",
      " 2   created_at                      490705 non-null  object \n",
      " 3   sold_at                         181759 non-null  object \n",
      " 4   cost                            490705 non-null  float64\n",
      " 5   product_category                490705 non-null  object \n",
      " 6   product_name                    490676 non-null  object \n",
      " 7   product_brand                   490304 non-null  object \n",
      " 8   product_retail_price            490705 non-null  float64\n",
      " 9   product_department              490705 non-null  object \n",
      " 10  product_sku                     490705 non-null  object \n",
      " 11  product_distribution_center_id  490705 non-null  int64  \n",
      "dtypes: float64(2), int64(3), object(7)\n",
      "memory usage: 44.9+ MB\n"
     ]
    }
   ],
   "source": [
    "# 창고 재고\n",
    "#inv_items.info()"
   ]
  },
  {
   "cell_type": "markdown",
   "metadata": {},
   "source": [
    "## Join: order_items, orders, products, users"
   ]
  },
  {
   "cell_type": "code",
   "execution_count": 23,
   "metadata": {},
   "outputs": [
    {
     "name": "stdout",
     "output_type": "stream",
     "text": [
      "<class 'pandas.core.frame.DataFrame'>\n",
      "RangeIndex: 125226 entries, 0 to 125225\n",
      "Data columns (total 9 columns):\n",
      " #   Column        Non-Null Count   Dtype              \n",
      "---  ------        --------------   -----              \n",
      " 0   order_id      125226 non-null  int64              \n",
      " 1   user_id       125226 non-null  int64              \n",
      " 2   status        125226 non-null  object             \n",
      " 3   gender        125226 non-null  object             \n",
      " 4   created_at    125226 non-null  datetime64[ns, UTC]\n",
      " 5   returned_at   12530 non-null   object             \n",
      " 6   shipped_at    81461 non-null   object             \n",
      " 7   delivered_at  43884 non-null   object             \n",
      " 8   num_of_item   125226 non-null  int64              \n",
      "dtypes: datetime64[ns, UTC](1), int64(3), object(5)\n",
      "memory usage: 8.6+ MB\n"
     ]
    }
   ],
   "source": [
    "orders.info()"
   ]
  },
  {
   "cell_type": "code",
   "execution_count": 24,
   "metadata": {},
   "outputs": [
    {
     "name": "stdout",
     "output_type": "stream",
     "text": [
      "<class 'pandas.core.frame.DataFrame'>\n",
      "RangeIndex: 181759 entries, 0 to 181758\n",
      "Data columns (total 11 columns):\n",
      " #   Column             Non-Null Count   Dtype  \n",
      "---  ------             --------------   -----  \n",
      " 0   id                 181759 non-null  int64  \n",
      " 1   order_id           181759 non-null  int64  \n",
      " 2   user_id            181759 non-null  int64  \n",
      " 3   product_id         181759 non-null  int64  \n",
      " 4   inventory_item_id  181759 non-null  int64  \n",
      " 5   status             181759 non-null  object \n",
      " 6   created_at         181759 non-null  object \n",
      " 7   shipped_at         118281 non-null  object \n",
      " 8   delivered_at       63841 non-null   object \n",
      " 9   returned_at        18232 non-null   object \n",
      " 10  sale_price         181759 non-null  float64\n",
      "dtypes: float64(1), int64(5), object(5)\n",
      "memory usage: 15.3+ MB\n"
     ]
    }
   ],
   "source": [
    "order_items.info()"
   ]
  },
  {
   "cell_type": "code",
   "execution_count": 25,
   "metadata": {},
   "outputs": [
    {
     "name": "stdout",
     "output_type": "stream",
     "text": [
      "<class 'pandas.core.frame.DataFrame'>\n",
      "RangeIndex: 29120 entries, 0 to 29119\n",
      "Data columns (total 9 columns):\n",
      " #   Column                  Non-Null Count  Dtype  \n",
      "---  ------                  --------------  -----  \n",
      " 0   id                      29120 non-null  int64  \n",
      " 1   cost                    29120 non-null  float64\n",
      " 2   category                29120 non-null  object \n",
      " 3   name                    29118 non-null  object \n",
      " 4   brand                   29096 non-null  object \n",
      " 5   retail_price            29120 non-null  float64\n",
      " 6   department              29120 non-null  object \n",
      " 7   sku                     29120 non-null  object \n",
      " 8   distribution_center_id  29120 non-null  int64  \n",
      "dtypes: float64(2), int64(2), object(5)\n",
      "memory usage: 2.0+ MB\n"
     ]
    }
   ],
   "source": [
    "products.info()"
   ]
  },
  {
   "cell_type": "code",
   "execution_count": 26,
   "metadata": {},
   "outputs": [
    {
     "name": "stdout",
     "output_type": "stream",
     "text": [
      "<class 'pandas.core.frame.DataFrame'>\n",
      "RangeIndex: 100000 entries, 0 to 99999\n",
      "Data columns (total 15 columns):\n",
      " #   Column          Non-Null Count   Dtype  \n",
      "---  ------          --------------   -----  \n",
      " 0   id              100000 non-null  int64  \n",
      " 1   first_name      100000 non-null  object \n",
      " 2   last_name       100000 non-null  object \n",
      " 3   email           100000 non-null  object \n",
      " 4   age             100000 non-null  int64  \n",
      " 5   gender          100000 non-null  object \n",
      " 6   state           100000 non-null  object \n",
      " 7   street_address  100000 non-null  object \n",
      " 8   postal_code     100000 non-null  object \n",
      " 9   city            99042 non-null   object \n",
      " 10  country         100000 non-null  object \n",
      " 11  latitude        100000 non-null  float64\n",
      " 12  longitude       100000 non-null  float64\n",
      " 13  traffic_source  100000 non-null  object \n",
      " 14  created_at      100000 non-null  object \n",
      "dtypes: float64(2), int64(2), object(11)\n",
      "memory usage: 11.4+ MB\n"
     ]
    }
   ],
   "source": [
    "users.info()"
   ]
  },
  {
   "cell_type": "code",
   "execution_count": 30,
   "metadata": {},
   "outputs": [
    {
     "data": {
      "text/html": [
       "<div>\n",
       "<style scoped>\n",
       "    .dataframe tbody tr th:only-of-type {\n",
       "        vertical-align: middle;\n",
       "    }\n",
       "\n",
       "    .dataframe tbody tr th {\n",
       "        vertical-align: top;\n",
       "    }\n",
       "\n",
       "    .dataframe thead th {\n",
       "        text-align: right;\n",
       "    }\n",
       "</style>\n",
       "<table border=\"1\" class=\"dataframe\">\n",
       "  <thead>\n",
       "    <tr style=\"text-align: right;\">\n",
       "      <th></th>\n",
       "      <th>order_id</th>\n",
       "      <th>user_id</th>\n",
       "      <th>status</th>\n",
       "      <th>gender</th>\n",
       "      <th>created_at</th>\n",
       "      <th>returned_at</th>\n",
       "      <th>shipped_at</th>\n",
       "      <th>delivered_at</th>\n",
       "      <th>num_of_item</th>\n",
       "    </tr>\n",
       "  </thead>\n",
       "  <tbody>\n",
       "    <tr>\n",
       "      <th>7718</th>\n",
       "      <td>104663</td>\n",
       "      <td>83582</td>\n",
       "      <td>Cancelled</td>\n",
       "      <td>F</td>\n",
       "      <td>2023-05-07 07:33:00+00:00</td>\n",
       "      <td>NaN</td>\n",
       "      <td>NaN</td>\n",
       "      <td>NaN</td>\n",
       "      <td>1</td>\n",
       "    </tr>\n",
       "  </tbody>\n",
       "</table>\n",
       "</div>"
      ],
      "text/plain": [
       "      order_id  user_id     status gender                created_at  \\\n",
       "7718    104663    83582  Cancelled      F 2023-05-07 07:33:00+00:00   \n",
       "\n",
       "     returned_at shipped_at delivered_at  num_of_item  \n",
       "7718         NaN        NaN          NaN            1  "
      ]
     },
     "execution_count": 30,
     "metadata": {},
     "output_type": "execute_result"
    }
   ],
   "source": [
    "orders[orders['order_id']==104663]"
   ]
  },
  {
   "cell_type": "code",
   "execution_count": 33,
   "metadata": {},
   "outputs": [
    {
     "data": {
      "text/html": [
       "<div>\n",
       "<style scoped>\n",
       "    .dataframe tbody tr th:only-of-type {\n",
       "        vertical-align: middle;\n",
       "    }\n",
       "\n",
       "    .dataframe tbody tr th {\n",
       "        vertical-align: top;\n",
       "    }\n",
       "\n",
       "    .dataframe thead th {\n",
       "        text-align: right;\n",
       "    }\n",
       "</style>\n",
       "<table border=\"1\" class=\"dataframe\">\n",
       "  <thead>\n",
       "    <tr style=\"text-align: right;\">\n",
       "      <th></th>\n",
       "      <th>id</th>\n",
       "      <th>first_name</th>\n",
       "      <th>last_name</th>\n",
       "      <th>email</th>\n",
       "      <th>age</th>\n",
       "      <th>gender</th>\n",
       "      <th>state</th>\n",
       "      <th>street_address</th>\n",
       "      <th>postal_code</th>\n",
       "      <th>city</th>\n",
       "      <th>country</th>\n",
       "      <th>latitude</th>\n",
       "      <th>longitude</th>\n",
       "      <th>traffic_source</th>\n",
       "      <th>created_at</th>\n",
       "    </tr>\n",
       "  </thead>\n",
       "  <tbody>\n",
       "    <tr>\n",
       "      <th>41039</th>\n",
       "      <td>83582</td>\n",
       "      <td>Kathryn</td>\n",
       "      <td>Ortega</td>\n",
       "      <td>kathrynortega@example.net</td>\n",
       "      <td>29</td>\n",
       "      <td>F</td>\n",
       "      <td>Hebei</td>\n",
       "      <td>3863 Johnson Brooks Suite 474</td>\n",
       "      <td>74199</td>\n",
       "      <td>Jinhua</td>\n",
       "      <td>China</td>\n",
       "      <td>39.388173</td>\n",
       "      <td>115.731465</td>\n",
       "      <td>Search</td>\n",
       "      <td>2021-11-27 07:33:00+00:00</td>\n",
       "    </tr>\n",
       "  </tbody>\n",
       "</table>\n",
       "</div>"
      ],
      "text/plain": [
       "          id first_name last_name                      email  age gender  \\\n",
       "41039  83582    Kathryn    Ortega  kathrynortega@example.net   29      F   \n",
       "\n",
       "       state                 street_address postal_code    city country  \\\n",
       "41039  Hebei  3863 Johnson Brooks Suite 474       74199  Jinhua   China   \n",
       "\n",
       "        latitude   longitude traffic_source                 created_at  \n",
       "41039  39.388173  115.731465         Search  2021-11-27 07:33:00+00:00  "
      ]
     },
     "execution_count": 33,
     "metadata": {},
     "output_type": "execute_result"
    }
   ],
   "source": [
    "users[users['id']==83582]"
   ]
  },
  {
   "cell_type": "code",
   "execution_count": 29,
   "metadata": {},
   "outputs": [
    {
     "data": {
      "text/html": [
       "<div>\n",
       "<style scoped>\n",
       "    .dataframe tbody tr th:only-of-type {\n",
       "        vertical-align: middle;\n",
       "    }\n",
       "\n",
       "    .dataframe tbody tr th {\n",
       "        vertical-align: top;\n",
       "    }\n",
       "\n",
       "    .dataframe thead th {\n",
       "        text-align: right;\n",
       "    }\n",
       "</style>\n",
       "<table border=\"1\" class=\"dataframe\">\n",
       "  <thead>\n",
       "    <tr style=\"text-align: right;\">\n",
       "      <th></th>\n",
       "      <th>id</th>\n",
       "      <th>order_id</th>\n",
       "      <th>user_id</th>\n",
       "      <th>product_id</th>\n",
       "      <th>inventory_item_id</th>\n",
       "      <th>status</th>\n",
       "      <th>created_at</th>\n",
       "      <th>shipped_at</th>\n",
       "      <th>delivered_at</th>\n",
       "      <th>returned_at</th>\n",
       "      <th>sale_price</th>\n",
       "    </tr>\n",
       "  </thead>\n",
       "  <tbody>\n",
       "    <tr>\n",
       "      <th>0</th>\n",
       "      <td>152013</td>\n",
       "      <td>104663</td>\n",
       "      <td>83582</td>\n",
       "      <td>14235</td>\n",
       "      <td>410368</td>\n",
       "      <td>Cancelled</td>\n",
       "      <td>2023-05-07 06:08:40+00:00</td>\n",
       "      <td>NaN</td>\n",
       "      <td>NaN</td>\n",
       "      <td>NaN</td>\n",
       "      <td>0.02</td>\n",
       "    </tr>\n",
       "  </tbody>\n",
       "</table>\n",
       "</div>"
      ],
      "text/plain": [
       "       id  order_id  user_id  product_id  inventory_item_id     status  \\\n",
       "0  152013    104663    83582       14235             410368  Cancelled   \n",
       "\n",
       "                  created_at shipped_at delivered_at returned_at  sale_price  \n",
       "0  2023-05-07 06:08:40+00:00        NaN          NaN         NaN        0.02  "
      ]
     },
     "execution_count": 29,
     "metadata": {},
     "output_type": "execute_result"
    }
   ],
   "source": [
    "order_items[order_items['order_id']==104663]"
   ]
  },
  {
   "cell_type": "code",
   "execution_count": 31,
   "metadata": {},
   "outputs": [
    {
     "data": {
      "text/html": [
       "<div>\n",
       "<style scoped>\n",
       "    .dataframe tbody tr th:only-of-type {\n",
       "        vertical-align: middle;\n",
       "    }\n",
       "\n",
       "    .dataframe tbody tr th {\n",
       "        vertical-align: top;\n",
       "    }\n",
       "\n",
       "    .dataframe thead th {\n",
       "        text-align: right;\n",
       "    }\n",
       "</style>\n",
       "<table border=\"1\" class=\"dataframe\">\n",
       "  <thead>\n",
       "    <tr style=\"text-align: right;\">\n",
       "      <th></th>\n",
       "      <th>id</th>\n",
       "      <th>cost</th>\n",
       "      <th>category</th>\n",
       "      <th>name</th>\n",
       "      <th>brand</th>\n",
       "      <th>retail_price</th>\n",
       "      <th>department</th>\n",
       "      <th>sku</th>\n",
       "      <th>distribution_center_id</th>\n",
       "    </tr>\n",
       "  </thead>\n",
       "  <tbody>\n",
       "    <tr>\n",
       "      <th>1401</th>\n",
       "      <td>14235</td>\n",
       "      <td>0.0083</td>\n",
       "      <td>Accessories</td>\n",
       "      <td>Indestructable Aluminum Aluma Wallet - RED</td>\n",
       "      <td>marshal</td>\n",
       "      <td>0.02</td>\n",
       "      <td>Women</td>\n",
       "      <td>8425BC94A44E3D1BB3C8C026B2702C00</td>\n",
       "      <td>1</td>\n",
       "    </tr>\n",
       "  </tbody>\n",
       "</table>\n",
       "</div>"
      ],
      "text/plain": [
       "         id    cost     category                                        name  \\\n",
       "1401  14235  0.0083  Accessories  Indestructable Aluminum Aluma Wallet - RED   \n",
       "\n",
       "        brand  retail_price department                               sku  \\\n",
       "1401  marshal          0.02      Women  8425BC94A44E3D1BB3C8C026B2702C00   \n",
       "\n",
       "      distribution_center_id  \n",
       "1401                       1  "
      ]
     },
     "execution_count": 31,
     "metadata": {},
     "output_type": "execute_result"
    }
   ],
   "source": [
    "products[products['id']==14235]"
   ]
  },
  {
   "cell_type": "markdown",
   "metadata": {},
   "source": [
    "- orders.order_id = order_items.order_id\n",
    "- orders.user_id = users.id\n",
    "- order_items.product_id = products.id\n",
    "\n",
    "=> order_items 기준으로 merge"
   ]
  },
  {
   "cell_type": "code",
   "execution_count": 66,
   "metadata": {},
   "outputs": [],
   "source": [
    "df = orders.merge(order_items, on=['order_id', 'user_id'], suffixes=('','_order_items'))\n",
    "df = df.rename(columns={'id':'order_items_id'})\n",
    "\n",
    "df = df.merge(users, left_on=['user_id', 'gender'], right_on=['id', 'gender'], suffixes=('','_(sign up)'))\n",
    "df = df.rename(columns={'created_at_(sign up)':'created_account_at'})\n",
    "df = df.drop(columns='id')\n",
    "\n",
    "df = df.merge(products, left_on='product_id', right_on='id')\n",
    "df = df.drop(columns='id')"
   ]
  },
  {
   "cell_type": "code",
   "execution_count": 91,
   "metadata": {},
   "outputs": [
    {
     "name": "stdout",
     "output_type": "stream",
     "text": [
      "[+] order_id                  >>> str\n",
      "[+] user_id                   >>> str\n",
      "[+] created_at                >>> datetime\n",
      "[+] returned_at               >>> datetime\n",
      "[+] shipped_at                >>> datetime\n",
      "[+] delivered_at              >>> datetime\n",
      "[+] order_items_id            >>> str\n",
      "[+] product_id                >>> str\n",
      "[+] inventory_item_id         >>> str\n",
      "[+] created_at_order_items    >>> datetime\n",
      "[+] shipped_at_order_items    >>> datetime\n",
      "[+] delivered_at_order_items  >>> datetime\n",
      "[+] returned_at_order_items   >>> datetime\n",
      "[+] created_account_at        >>> datetime\n",
      "[+] distribution_center_id    >>> str\n"
     ]
    }
   ],
   "source": [
    "# 형변환\n",
    "for col in df.columns:\n",
    "    if '_at' in col:    # 시간 데이터\n",
    "        df = df.assign(**{col:pd.to_datetime(df[col], format='ISO8601')})\n",
    "        print('[+] {0:<25} >>> datetime'.format(col))\n",
    "    elif '_id' in col:  # id 컬럼 -> obj형으로\n",
    "        df = df.assign(**{col:df[col].astype('str')})\n",
    "        print('[+] {0:<25} >>> str'.format(col))"
   ]
  },
  {
   "cell_type": "code",
   "execution_count": 92,
   "metadata": {},
   "outputs": [
    {
     "name": "stdout",
     "output_type": "stream",
     "text": [
      "<class 'pandas.core.frame.DataFrame'>\n",
      "RangeIndex: 181759 entries, 0 to 181758\n",
      "Data columns (total 39 columns):\n",
      " #   Column                    Non-Null Count   Dtype              \n",
      "---  ------                    --------------   -----              \n",
      " 0   order_id                  181759 non-null  object             \n",
      " 1   user_id                   181759 non-null  object             \n",
      " 2   status                    181759 non-null  object             \n",
      " 3   gender                    181759 non-null  object             \n",
      " 4   created_at                181759 non-null  datetime64[ns, UTC]\n",
      " 5   returned_at               18232 non-null   datetime64[ns, UTC]\n",
      " 6   shipped_at                118281 non-null  datetime64[ns, UTC]\n",
      " 7   delivered_at              63841 non-null   datetime64[ns, UTC]\n",
      " 8   num_of_item               181759 non-null  int64              \n",
      " 9   order_items_id            181759 non-null  object             \n",
      " 10  product_id                181759 non-null  object             \n",
      " 11  inventory_item_id         181759 non-null  object             \n",
      " 12  status_order_items        181759 non-null  object             \n",
      " 13  created_at_order_items    181759 non-null  datetime64[ns, UTC]\n",
      " 14  shipped_at_order_items    118281 non-null  datetime64[ns, UTC]\n",
      " 15  delivered_at_order_items  63841 non-null   datetime64[ns, UTC]\n",
      " 16  returned_at_order_items   18232 non-null   datetime64[ns, UTC]\n",
      " 17  sale_price                181759 non-null  float64            \n",
      " 18  first_name                181759 non-null  object             \n",
      " 19  last_name                 181759 non-null  object             \n",
      " 20  email                     181759 non-null  object             \n",
      " 21  age                       181759 non-null  int64              \n",
      " 22  state                     181759 non-null  object             \n",
      " 23  street_address            181759 non-null  object             \n",
      " 24  postal_code               181759 non-null  object             \n",
      " 25  city                      180078 non-null  object             \n",
      " 26  country                   181759 non-null  object             \n",
      " 27  latitude                  181759 non-null  float64            \n",
      " 28  longitude                 181759 non-null  float64            \n",
      " 29  traffic_source            181759 non-null  object             \n",
      " 30  created_account_at        181759 non-null  datetime64[ns, UTC]\n",
      " 31  cost                      181759 non-null  float64            \n",
      " 32  category                  181759 non-null  object             \n",
      " 33  name                      181749 non-null  object             \n",
      " 34  brand                     181610 non-null  object             \n",
      " 35  retail_price              181759 non-null  float64            \n",
      " 36  department                181759 non-null  object             \n",
      " 37  sku                       181759 non-null  object             \n",
      " 38  distribution_center_id    181759 non-null  object             \n",
      "dtypes: datetime64[ns, UTC](9), float64(5), int64(2), object(23)\n",
      "memory usage: 54.1+ MB\n"
     ]
    }
   ],
   "source": [
    "df.info()"
   ]
  },
  {
   "cell_type": "code",
   "execution_count": 93,
   "metadata": {},
   "outputs": [
    {
     "data": {
      "text/html": [
       "<div>\n",
       "<style scoped>\n",
       "    .dataframe tbody tr th:only-of-type {\n",
       "        vertical-align: middle;\n",
       "    }\n",
       "\n",
       "    .dataframe tbody tr th {\n",
       "        vertical-align: top;\n",
       "    }\n",
       "\n",
       "    .dataframe thead th {\n",
       "        text-align: right;\n",
       "    }\n",
       "</style>\n",
       "<table border=\"1\" class=\"dataframe\">\n",
       "  <thead>\n",
       "    <tr style=\"text-align: right;\">\n",
       "      <th></th>\n",
       "      <th>order_id</th>\n",
       "      <th>user_id</th>\n",
       "      <th>status</th>\n",
       "      <th>gender</th>\n",
       "      <th>created_at</th>\n",
       "      <th>returned_at</th>\n",
       "      <th>shipped_at</th>\n",
       "      <th>delivered_at</th>\n",
       "      <th>num_of_item</th>\n",
       "      <th>order_items_id</th>\n",
       "      <th>...</th>\n",
       "      <th>traffic_source</th>\n",
       "      <th>created_account_at</th>\n",
       "      <th>cost</th>\n",
       "      <th>category</th>\n",
       "      <th>name</th>\n",
       "      <th>brand</th>\n",
       "      <th>retail_price</th>\n",
       "      <th>department</th>\n",
       "      <th>sku</th>\n",
       "      <th>distribution_center_id</th>\n",
       "    </tr>\n",
       "  </thead>\n",
       "  <tbody>\n",
       "    <tr>\n",
       "      <th>0</th>\n",
       "      <td>8</td>\n",
       "      <td>5</td>\n",
       "      <td>Cancelled</td>\n",
       "      <td>F</td>\n",
       "      <td>2022-10-20 10:03:00+00:00</td>\n",
       "      <td>NaT</td>\n",
       "      <td>NaT</td>\n",
       "      <td>NaT</td>\n",
       "      <td>3</td>\n",
       "      <td>13</td>\n",
       "      <td>...</td>\n",
       "      <td>Organic</td>\n",
       "      <td>2020-10-02 10:03:00+00:00</td>\n",
       "      <td>7.44325</td>\n",
       "      <td>Shorts</td>\n",
       "      <td>Grane Supergirl Shorts</td>\n",
       "      <td>Grane</td>\n",
       "      <td>15.67</td>\n",
       "      <td>Women</td>\n",
       "      <td>3D4893419E57449FB290647149F738D4</td>\n",
       "      <td>2</td>\n",
       "    </tr>\n",
       "    <tr>\n",
       "      <th>1</th>\n",
       "      <td>8</td>\n",
       "      <td>5</td>\n",
       "      <td>Cancelled</td>\n",
       "      <td>F</td>\n",
       "      <td>2022-10-20 10:03:00+00:00</td>\n",
       "      <td>NaT</td>\n",
       "      <td>NaT</td>\n",
       "      <td>NaT</td>\n",
       "      <td>3</td>\n",
       "      <td>11</td>\n",
       "      <td>...</td>\n",
       "      <td>Organic</td>\n",
       "      <td>2020-10-02 10:03:00+00:00</td>\n",
       "      <td>10.47081</td>\n",
       "      <td>Skirts</td>\n",
       "      <td>Woman Within Plus Size Petite flare skirt</td>\n",
       "      <td>Woman Within</td>\n",
       "      <td>24.99</td>\n",
       "      <td>Women</td>\n",
       "      <td>162D18156ABE38A3B32851B72B1D44F5</td>\n",
       "      <td>5</td>\n",
       "    </tr>\n",
       "    <tr>\n",
       "      <th>2</th>\n",
       "      <td>8</td>\n",
       "      <td>5</td>\n",
       "      <td>Cancelled</td>\n",
       "      <td>F</td>\n",
       "      <td>2022-10-20 10:03:00+00:00</td>\n",
       "      <td>NaT</td>\n",
       "      <td>NaT</td>\n",
       "      <td>NaT</td>\n",
       "      <td>3</td>\n",
       "      <td>12</td>\n",
       "      <td>...</td>\n",
       "      <td>Organic</td>\n",
       "      <td>2020-10-02 10:03:00+00:00</td>\n",
       "      <td>10.89564</td>\n",
       "      <td>Sweaters</td>\n",
       "      <td>LookbookStore Women Coloured Zip Mouth Smile S...</td>\n",
       "      <td>LookbookStore</td>\n",
       "      <td>24.99</td>\n",
       "      <td>Women</td>\n",
       "      <td>8A146F1A3DA4700CBF03CDC55E2DAAE6</td>\n",
       "      <td>5</td>\n",
       "    </tr>\n",
       "    <tr>\n",
       "      <th>3</th>\n",
       "      <td>60</td>\n",
       "      <td>44</td>\n",
       "      <td>Cancelled</td>\n",
       "      <td>F</td>\n",
       "      <td>2023-01-20 02:12:00+00:00</td>\n",
       "      <td>NaT</td>\n",
       "      <td>NaT</td>\n",
       "      <td>NaT</td>\n",
       "      <td>1</td>\n",
       "      <td>96</td>\n",
       "      <td>...</td>\n",
       "      <td>Search</td>\n",
       "      <td>2022-08-16 02:12:00+00:00</td>\n",
       "      <td>6.67707</td>\n",
       "      <td>Maternity</td>\n",
       "      <td>Lace Cami Top and Boxer Shorts Lingerie Set</td>\n",
       "      <td>Angelina Hosiery</td>\n",
       "      <td>16.99</td>\n",
       "      <td>Women</td>\n",
       "      <td>0563CAD67522FC198DEE8690630E475A</td>\n",
       "      <td>3</td>\n",
       "    </tr>\n",
       "    <tr>\n",
       "      <th>4</th>\n",
       "      <td>64</td>\n",
       "      <td>46</td>\n",
       "      <td>Cancelled</td>\n",
       "      <td>F</td>\n",
       "      <td>2021-12-06 09:11:00+00:00</td>\n",
       "      <td>NaT</td>\n",
       "      <td>NaT</td>\n",
       "      <td>NaT</td>\n",
       "      <td>1</td>\n",
       "      <td>100</td>\n",
       "      <td>...</td>\n",
       "      <td>Search</td>\n",
       "      <td>2020-01-07 09:11:00+00:00</td>\n",
       "      <td>22.06800</td>\n",
       "      <td>Sleep &amp; Lounge</td>\n",
       "      <td>Calvin Klein Women's Nocturnal Elegance Camisole</td>\n",
       "      <td>Calvin Klein</td>\n",
       "      <td>36.00</td>\n",
       "      <td>Women</td>\n",
       "      <td>0A66E17D3CCDE15BDECB253E7E293294</td>\n",
       "      <td>3</td>\n",
       "    </tr>\n",
       "  </tbody>\n",
       "</table>\n",
       "<p>5 rows × 39 columns</p>\n",
       "</div>"
      ],
      "text/plain": [
       "  order_id user_id     status gender                created_at returned_at  \\\n",
       "0        8       5  Cancelled      F 2022-10-20 10:03:00+00:00         NaT   \n",
       "1        8       5  Cancelled      F 2022-10-20 10:03:00+00:00         NaT   \n",
       "2        8       5  Cancelled      F 2022-10-20 10:03:00+00:00         NaT   \n",
       "3       60      44  Cancelled      F 2023-01-20 02:12:00+00:00         NaT   \n",
       "4       64      46  Cancelled      F 2021-12-06 09:11:00+00:00         NaT   \n",
       "\n",
       "  shipped_at delivered_at  num_of_item order_items_id  ... traffic_source  \\\n",
       "0        NaT          NaT            3             13  ...        Organic   \n",
       "1        NaT          NaT            3             11  ...        Organic   \n",
       "2        NaT          NaT            3             12  ...        Organic   \n",
       "3        NaT          NaT            1             96  ...         Search   \n",
       "4        NaT          NaT            1            100  ...         Search   \n",
       "\n",
       "         created_account_at      cost        category  \\\n",
       "0 2020-10-02 10:03:00+00:00   7.44325          Shorts   \n",
       "1 2020-10-02 10:03:00+00:00  10.47081          Skirts   \n",
       "2 2020-10-02 10:03:00+00:00  10.89564        Sweaters   \n",
       "3 2022-08-16 02:12:00+00:00   6.67707       Maternity   \n",
       "4 2020-01-07 09:11:00+00:00  22.06800  Sleep & Lounge   \n",
       "\n",
       "                                                name             brand  \\\n",
       "0                             Grane Supergirl Shorts             Grane   \n",
       "1          Woman Within Plus Size Petite flare skirt      Woman Within   \n",
       "2  LookbookStore Women Coloured Zip Mouth Smile S...     LookbookStore   \n",
       "3        Lace Cami Top and Boxer Shorts Lingerie Set  Angelina Hosiery   \n",
       "4   Calvin Klein Women's Nocturnal Elegance Camisole      Calvin Klein   \n",
       "\n",
       "  retail_price  department                               sku  \\\n",
       "0        15.67       Women  3D4893419E57449FB290647149F738D4   \n",
       "1        24.99       Women  162D18156ABE38A3B32851B72B1D44F5   \n",
       "2        24.99       Women  8A146F1A3DA4700CBF03CDC55E2DAAE6   \n",
       "3        16.99       Women  0563CAD67522FC198DEE8690630E475A   \n",
       "4        36.00       Women  0A66E17D3CCDE15BDECB253E7E293294   \n",
       "\n",
       "  distribution_center_id  \n",
       "0                      2  \n",
       "1                      5  \n",
       "2                      5  \n",
       "3                      3  \n",
       "4                      3  \n",
       "\n",
       "[5 rows x 39 columns]"
      ]
     },
     "execution_count": 93,
     "metadata": {},
     "output_type": "execute_result"
    }
   ],
   "source": [
    "df.head(5)"
   ]
  },
  {
   "cell_type": "code",
   "execution_count": 94,
   "metadata": {},
   "outputs": [
    {
     "data": {
      "text/plain": [
       "181759"
      ]
     },
     "execution_count": 94,
     "metadata": {},
     "output_type": "execute_result"
    }
   ],
   "source": [
    "len(df)"
   ]
  },
  {
   "cell_type": "code",
   "execution_count": 67,
   "metadata": {},
   "outputs": [
    {
     "data": {
      "text/plain": [
       "181759"
      ]
     },
     "execution_count": 67,
     "metadata": {},
     "output_type": "execute_result"
    }
   ],
   "source": [
    "len(order_items)"
   ]
  },
  {
   "cell_type": "markdown",
   "metadata": {},
   "source": []
  },
  {
   "cell_type": "code",
   "execution_count": null,
   "metadata": {},
   "outputs": [],
   "source": []
  }
 ],
 "metadata": {
  "kernelspec": {
   "display_name": "Python 3",
   "language": "python",
   "name": "python3"
  },
  "language_info": {
   "codemirror_mode": {
    "name": "ipython",
    "version": 3
   },
   "file_extension": ".py",
   "mimetype": "text/x-python",
   "name": "python",
   "nbconvert_exporter": "python",
   "pygments_lexer": "ipython3",
   "version": "3.10.1"
  }
 },
 "nbformat": 4,
 "nbformat_minor": 2
}
